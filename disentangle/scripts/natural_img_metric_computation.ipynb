{
 "cells": [
  {
   "cell_type": "code",
   "execution_count": null,
   "metadata": {},
   "outputs": [],
   "source": [
    "import numpy as np\n",
    "import os\n",
    "\n",
    "def rgb_psnr(target, pred):\n",
    "    err = (target - pred)**2\n",
    "    mse = err.mean()\n",
    "    return 10 * np.log10( 255**2 / mse)\n",
    "\n",
    "gt_schema = os.path.join('/group/jug/ashesh/data/Rain100H/Rain100HCombined_test/','data_{}.tif')\n",
    "pred_schema = '/group/jug/ashesh/data/paper_stats/All_P128_G16_M1_Sk0/kth_{}/pred_disentangle_2405_D30-M3-S0-L0_28.tif'\n",
    "end_idx = 100\n",
    "# gt_files = [gt_schema.format(idx) for idx in range(1,101)]\n",
    "# pred_files = [pred_schema.format(idx-1) for idx in range(1,101)]\n",
    "# pred_schema = '/group/jug/ashesh/data/paper_stats/All_P128_G64_M1_Sk0/kth_{}/pred_disentangle_2405_D31-M3-S0-L0_7.tif'\n",
    "# gt_schema = os.path.join('/group/jug/ashesh/data/Haze4KCombined/test/','data_{}.tif')\n",
    "# end_idx = 1000\n",
    "gt_files = [gt_schema.format(idx) for idx in range(1,end_idx+1)]\n",
    "pred_files = [pred_schema.format(idx-1) for idx in range(1,end_idx+1)]\n",
    "\n"
   ]
  },
  {
   "cell_type": "code",
   "execution_count": null,
   "metadata": {},
   "outputs": [],
   "source": [
    "from disentangle.core.tiff_reader import load_tiff\n",
    "import json\n",
    "\n",
    "def get_input_target(gt_file):\n",
    "    gt = load_tiff(gt_file)\n",
    "    input = gt[:3].transpose(1,2,0)\n",
    "    target = gt[3:6].transpose(1,2,0)\n",
    "    return input, target\n",
    "\n",
    "def get_pred(pred_file):\n",
    "    pred = load_tiff(pred_file).astype(np.float32)\n",
    "    config_fpath = pred_file.replace('.tif','.json')\n",
    "    with open(config_fpath) as f:\n",
    "        config = json.load(f)\n",
    "        pred += float(config['offset'])\n",
    "    pred[pred < 0] = 0\n",
    "    pred[pred > 255] = 255\n",
    "    return pred[0,...,:3].astype(np.uint8)\n",
    "\n"
   ]
  },
  {
   "cell_type": "code",
   "execution_count": null,
   "metadata": {},
   "outputs": [],
   "source": [
    "import matplotlib.pyplot as plt\n",
    "pred = get_pred(pred_files[10])\n",
    "input,target = get_input_target(gt_files[10])\n",
    "\n",
    "_,ax = plt.subplots(figsize=(9,3),ncols=3)\n",
    "ax[0].imshow(input)\n",
    "ax[1].imshow(pred.astype(np.uint8))\n",
    "ax[2].imshow(target)\n"
   ]
  },
  {
   "cell_type": "code",
   "execution_count": null,
   "metadata": {},
   "outputs": [],
   "source": [
    "from tqdm import tqdm\n",
    "from skimage.metrics import structural_similarity as ssim\n",
    "\n",
    "psnr_list = []\n",
    "ssim_list = []\n",
    "input_list = []\n",
    "target_list = []\n",
    "pred_list = []\n",
    "for gt_file, pred_file in tqdm(zip(gt_files, pred_files)):\n",
    "    input, target = get_input_target(gt_file)\n",
    "    pred = get_pred(pred_file)\n",
    "    input_list.append(input)\n",
    "    target_list.append(target)\n",
    "    pred_list.append(pred)\n",
    "    psnr_list.append(rgb_psnr(target, pred))\n",
    "    ssim_list.append(ssim(pred, target, data_range=255, channel_axis=2))\n",
    "\n",
    "print('PSNR', np.mean(psnr_list))\n",
    "print('SSIM', np.mean(ssim_list))\n"
   ]
  },
  {
   "cell_type": "code",
   "execution_count": null,
   "metadata": {},
   "outputs": [],
   "source": [
    "print('PSNR', np.mean(psnr_list))\n",
    "print('SSIM', np.mean(ssim_list))"
   ]
  },
  {
   "cell_type": "code",
   "execution_count": null,
   "metadata": {},
   "outputs": [],
   "source": [
    "input_list[100].shape"
   ]
  },
  {
   "cell_type": "code",
   "execution_count": null,
   "metadata": {},
   "outputs": [],
   "source": []
  },
  {
   "cell_type": "code",
   "execution_count": null,
   "metadata": {},
   "outputs": [],
   "source": [
    "import matplotlib.pyplot as plt\n",
    "from disentangle.analysis.plot_utils import clean_ax\n",
    "\n",
    "ncols = 3\n",
    "nrows= 3\n",
    "img_sz = 2\n",
    "shape = (400,400, 3)\n",
    "final_shape = (380, 400, 3)\n",
    "h_start = (shape[0] - final_shape[0])//2\n",
    "h_end = -1 * h_start\n",
    "factor = final_shape[1]/final_shape[0]\n",
    "\n",
    "_,ax = plt.subplots(figsize=(img_sz*ncols*factor,img_sz*nrows),ncols=ncols,nrows=nrows)\n",
    "for idx in range(nrows):\n",
    "    cur_shape = None\n",
    "    while cur_shape != shape:\n",
    "        pred_idx = np.random.randint(len(input_list))\n",
    "        input = input_list[pred_idx]\n",
    "        target = target_list[pred_idx]\n",
    "        pred = pred_list[pred_idx]\n",
    "        cur_shape = input.shape\n",
    "    print(pred_idx)\n",
    "    input = input_list[pred_idx][h_start:h_end]\n",
    "    target = target_list[pred_idx][h_start:h_end]\n",
    "    pred = pred_list[pred_idx][h_start:h_end]\n",
    "    ax[idx,0].imshow(input)\n",
    "    ax[idx,1].imshow(pred)\n",
    "    ax[idx,2].imshow(target)\n",
    "    for i in range(3):\n",
    "        ax[idx,i].axis('off')\n",
    "\n",
    "# restrict the space between the subplots\n",
    "plt.subplots_adjust(wspace=0.02  , hspace=0.02)"
   ]
  },
  {
   "cell_type": "code",
   "execution_count": null,
   "metadata": {},
   "outputs": [],
   "source": []
  },
  {
   "cell_type": "code",
   "execution_count": null,
   "metadata": {},
   "outputs": [],
   "source": [
    "import matplotlib.pyplot as plt\n",
    "from disentangle.analysis.plot_utils import clean_ax\n",
    "\n",
    "ncols = 3\n",
    "nrows= 3\n",
    "img_sz = 2\n",
    "shape = (321,481, 3)\n",
    "final_shape = (319, 481, 3)\n",
    "h_start = (shape[0] - final_shape[0])//2\n",
    "h_end = -1 * h_start\n",
    "factor = final_shape[1]/final_shape[0]\n",
    "\n",
    "_,ax = plt.subplots(figsize=(img_sz*ncols*factor,img_sz*nrows),ncols=ncols,nrows=nrows)\n",
    "for idx in range(nrows):\n",
    "    cur_shape = None\n",
    "    while cur_shape != shape:\n",
    "        pred_idx = np.random.randint(len(pred_files))\n",
    "        input = input_list[pred_idx]\n",
    "        target = target_list[pred_idx]\n",
    "        pred = pred_list[pred_idx]\n",
    "        cur_shape = input.shape\n",
    "    print(pred_idx)\n",
    "    input = input_list[pred_idx][h_start:h_end]\n",
    "    target = target_list[pred_idx][h_start:h_end]\n",
    "    pred = pred_list[pred_idx][h_start:h_end]\n",
    "    ax[idx,0].imshow(input)\n",
    "    ax[idx,1].imshow(pred)\n",
    "    ax[idx,2].imshow(target)\n",
    "    for i in range(3):\n",
    "        ax[idx,i].axis('off')\n",
    "\n",
    "# restrict the space between the subplots\n",
    "plt.subplots_adjust(wspace=0.02  , hspace=0.02)"
   ]
  },
  {
   "cell_type": "code",
   "execution_count": null,
   "metadata": {},
   "outputs": [],
   "source": [
    "# 76, 39, 24"
   ]
  }
 ],
 "metadata": {
  "kernelspec": {
   "display_name": "Python 3",
   "language": "python",
   "name": "python3"
  },
  "language_info": {
   "codemirror_mode": {
    "name": "ipython",
    "version": 3
   },
   "file_extension": ".py",
   "mimetype": "text/x-python",
   "name": "python",
   "nbconvert_exporter": "python",
   "pygments_lexer": "ipython3",
   "version": "3.9.19"
  }
 },
 "nbformat": 4,
 "nbformat_minor": 2
}
