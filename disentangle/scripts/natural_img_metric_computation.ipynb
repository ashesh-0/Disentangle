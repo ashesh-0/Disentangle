{
 "cells": [
  {
   "cell_type": "code",
   "execution_count": null,
   "metadata": {},
   "outputs": [],
   "source": [
    "import numpy as np\n",
    "import os\n",
    "\n",
    "def rgb_psnr(target, pred):\n",
    "    err = (target - pred)**2\n",
    "    mse = err.mean()\n",
    "    return 10 * np.log10( 255**2 / mse)\n",
    "\n",
    "gt_schema = os.path.join('/group/jug/ashesh/data/Rain100H/Rain100HCombined_test/','data_{}.tif')\n",
    "pred_schema = '/group/jug/ashesh/data/paper_stats/All_P128_G16_M1_Sk0/kth_{}/pred_disentangle_2405_D30-M3-S0-L0_28.tif'\n",
    "gt_files = [gt_schema.format(idx) for idx in range(1,101)]\n",
    "pred_files = [pred_schema.format(idx-1) for idx in range(1,101)]\n",
    "\n"
   ]
  },
  {
   "cell_type": "code",
   "execution_count": null,
   "metadata": {},
   "outputs": [],
   "source": [
    "from disentangle.core.tiff_reader import load_tiff\n",
    "import json\n",
    "\n",
    "def get_input_target(gt_file):\n",
    "    gt = load_tiff(gt_file)\n",
    "    input = gt[:3].transpose(1,2,0)\n",
    "    target = gt[3:6].transpose(1,2,0)\n",
    "    return input, target\n",
    "\n",
    "def get_pred(pred_file):\n",
    "    pred = load_tiff(pred_file).astype(np.float32)\n",
    "    config_fpath = pred_file.replace('.tif','.json')\n",
    "    with open(config_fpath) as f:\n",
    "        config = json.load(f)\n",
    "        pred += float(config['offset'])\n",
    "    pred[pred < 0] = 0\n",
    "    pred[pred > 255] = 255\n",
    "    return pred[0,...,:3].astype(np.uint8)\n",
    "\n"
   ]
  },
  {
   "cell_type": "code",
   "execution_count": null,
   "metadata": {},
   "outputs": [],
   "source": [
    "import matplotlib.pyplot as plt\n",
    "pred = get_pred(pred_files[10])\n",
    "input,target = get_input_target(gt_files[10])\n",
    "\n",
    "_,ax = plt.subplots(figsize=(9,3),ncols=3)\n",
    "ax[0].imshow(input)\n",
    "ax[1].imshow(pred.astype(np.uint8))\n",
    "ax[2].imshow(target)\n"
   ]
  },
  {
   "cell_type": "code",
   "execution_count": null,
   "metadata": {},
   "outputs": [],
   "source": [
    "from tqdm import tqdm\n",
    "psnr_list = []\n",
    "for gt_file, pred_file in tqdm(zip(gt_files, pred_files)):\n",
    "    input, target = get_input_target(gt_file)\n",
    "    pred = get_pred(pred_file)\n",
    "    psnr_list.append(rgb_psnr(target, pred))"
   ]
  },
  {
   "cell_type": "code",
   "execution_count": null,
   "metadata": {},
   "outputs": [],
   "source": [
    "np.mean(psnr_list)"
   ]
  }
 ],
 "metadata": {
  "kernelspec": {
   "display_name": "Python 3",
   "language": "python",
   "name": "python3"
  },
  "language_info": {
   "codemirror_mode": {
    "name": "ipython",
    "version": 3
   },
   "file_extension": ".py",
   "mimetype": "text/x-python",
   "name": "python",
   "nbconvert_exporter": "python",
   "pygments_lexer": "ipython3",
   "version": "3.9.19"
  }
 },
 "nbformat": 4,
 "nbformat_minor": 2
}
