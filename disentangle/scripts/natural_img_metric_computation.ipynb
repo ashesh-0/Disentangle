{
 "cells": [
  {
   "cell_type": "code",
   "execution_count": null,
   "metadata": {},
   "outputs": [],
   "source": [
    "import numpy as np\n",
    "import os\n",
    "from disentangle.data_loader.derain100H_rawdata_loader import get_multi_channel_practical_files \n",
    "\n",
    "def rgb_psnr(target, pred):\n",
    "    err = (target - pred)**2\n",
    "    mse = err.mean()\n",
    "    return 10 * np.log10( 255**2 / mse)\n",
    "\n",
    "# real rain \n",
    "# datadir = '/group/jug/ashesh/data/Rain100H/Rain100HPractical/tiffs/'\n",
    "# pred_schema = '/group/jug/ashesh/data/paper_stats/All_P128_G32_M5_Sk0_practical/kth_{}/pred_disentangle_2405_D30-M3-S0-L0_28.tif'\n",
    "# # gt_schema = os.path.join('/group/jug/ashesh/data/Rain100H/Rain100HCombined_test/','data_{}.tif')\n",
    "# gt_files = [os.path.join(datadir, fname) for fname in get_multi_channel_practical_files()]\n",
    "# end_idx = len(gt_files)\n",
    "# pred_files = [pred_schema.format(idx-1) for idx in range(1,end_idx+1)]\n",
    "\n",
    "# old derain\n",
    "gt_schema = os.path.join('/group/jug/ashesh/data/Rain100H/Rain100HCombined_test/','data_{}.tif')\n",
    "# pred_schema = '/group/jug/ashesh/data/paper_stats/All_P400_G64_M1_Sk0/kth_{}/pred_disentangle_2405_D30-M3-S0-L0_28.tif'\n",
    "# pred_schema = '/group/jug/ashesh/data/paper_stats/All_P400_G64_M10_Sk0/kth_{}/pred_disentangle_2405_D30-M3-S0-L0_28.tif'\n",
    "# pred_schema = '/group/jug/ashesh/data/paper_stats/All_P400_G64_M50_Sk0/kth_{}/pred_disentangle_2405_D30-M3-S0-L0_28.tif'\n",
    "pred_schema = '/group/jug/ashesh/data/paper_stats/All_P400_G64_M50_Sk0/kth_{}/pred_disentangle_2405_D30-M3-S0-L0_43.tif'\n",
    "end_idx = 100\n",
    "\n",
    "# new derain\n",
    "# gt_schema = os.path.join('/group/jug/ashesh/data/Rain1000HNew/combined_test/','data_{}.tif')\n",
    "# pred_schema = '/group/jug/ashesh/data/paper_stats/All_P128_G32_M1_Sk0/kth_{}/pred_disentangle_2405_D30-M3-S0-L0_38.tif'\n",
    "\n",
    "gt_files = [gt_schema.format(idx) for idx in range(1,101)]\n",
    "pred_files = [pred_schema.format(idx-1) for idx in range(1,101)]\n",
    "\n",
    "# dehaze\n",
    "# pred_schema = '/group/jug/ashesh/data/paper_stats/All_P400_G64_M1_Sk0/kth_{}/pred_disentangle_2405_D31-M3-S0-L0_7.tif'\n",
    "# pred_schema = '/group/jug/ashesh/data/paper_stats/All_P400_G64_M10_Sk0/kth_{}/pred_disentangle_2405_D31-M3-S0-L0_7.tif'\n",
    "# pred_schema = '/group/jug/ashesh/data/paper_stats/All_P400_G64_M10_Sk0/kth_{}/pred_disentangle_2405_D31-M3-S0-L0_7.tif'\n",
    "# pred_schema = '/group/jug/ashesh/data/paper_stats/All_P400_G64_M50_Sk0/kth_{}/pred_disentangle_2405_D31-M3-S0-L0_7.tif'\n",
    "# pred_schema = '/group/jug/ashesh/data/paper_stats/All_P400_G64_M50_Sk0/kth_{}/pred_disentangle_2405_D31-M3-S0-L0_8.tif'\n",
    "\n",
    "# gt_schema = os.path.join('/group/jug/ashesh/data/Haze4KCombined/test/','data_{}.tif')\n",
    "# end_idx = 1000\n",
    "gt_files = [gt_schema.format(idx) for idx in range(1,end_idx+1)]\n",
    "pred_files = [pred_schema.format(idx-1) for idx in range(1,end_idx+1)]\n",
    "\n"
   ]
  },
  {
   "cell_type": "code",
   "execution_count": null,
   "metadata": {},
   "outputs": [],
   "source": [
    "from disentangle.core.tiff_reader import load_tiff\n",
    "import json\n",
    "\n",
    "def get_input_target(gt_file):\n",
    "    gt = load_tiff(gt_file)\n",
    "    input = gt[:3].transpose(1,2,0)\n",
    "    target = gt[3:6].transpose(1,2,0)\n",
    "    return input, target\n",
    "\n",
    "def get_pred(pred_file):\n",
    "    pred = load_tiff(pred_file).astype(np.float32)\n",
    "    config_fpath = pred_file.replace('.tif','.json')\n",
    "    with open(config_fpath) as f:\n",
    "        config = json.load(f)\n",
    "        pred += float(config['offset'])\n",
    "    pred[pred < 0] = 0\n",
    "    pred[pred > 255] = 255\n",
    "    return pred[0,...,:3].astype(np.uint8)\n",
    "\n"
   ]
  },
  {
   "cell_type": "code",
   "execution_count": null,
   "metadata": {},
   "outputs": [],
   "source": [
    "import matplotlib.pyplot as plt\n",
    "pred = get_pred(pred_files[-1])\n",
    "input,target = get_input_target(gt_files[-1])\n",
    "\n",
    "_,ax = plt.subplots(figsize=(9,3),ncols=3)\n",
    "ax[0].imshow(input)\n",
    "ax[1].imshow(pred.astype(np.uint8))\n",
    "ax[2].imshow(target)\n"
   ]
  },
  {
   "cell_type": "code",
   "execution_count": null,
   "metadata": {},
   "outputs": [],
   "source": [
    "from tqdm import tqdm\n",
    "from skimage.metrics import structural_similarity as ssim\n",
    "\n",
    "psnr_list = []\n",
    "ssim_list = []\n",
    "input_list = []\n",
    "target_list = []\n",
    "pred_list = []\n",
    "for gt_file, pred_file in tqdm(zip(gt_files, pred_files)):\n",
    "    input, target = get_input_target(gt_file)\n",
    "    pred = get_pred(pred_file)\n",
    "    input_list.append(input)\n",
    "    target_list.append(target)\n",
    "    pred_list.append(pred)\n",
    "    psnr_list.append(rgb_psnr(target, pred))\n",
    "    ssim_list.append(ssim(pred, target, data_range=255, channel_axis=2))\n",
    "\n",
    "print('PSNR', np.mean(psnr_list))\n",
    "print('SSIM', np.mean(ssim_list))\n"
   ]
  },
  {
   "cell_type": "code",
   "execution_count": null,
   "metadata": {},
   "outputs": [],
   "source": [
    "print('PSNR', np.mean(psnr_list))\n",
    "print('SSIM', np.mean(ssim_list))"
   ]
  },
  {
   "cell_type": "code",
   "execution_count": null,
   "metadata": {},
   "outputs": [],
   "source": [
    "plt.imshow(pred_list[-1])"
   ]
  },
  {
   "cell_type": "code",
   "execution_count": null,
   "metadata": {},
   "outputs": [],
   "source": [
    "[x.shape for x in input_list]"
   ]
  },
  {
   "cell_type": "code",
   "execution_count": null,
   "metadata": {},
   "outputs": [],
   "source": [
    "len(input_list)"
   ]
  },
  {
   "cell_type": "code",
   "execution_count": null,
   "metadata": {},
   "outputs": [],
   "source": [
    "print(input_list[0].shape)\n",
    "print(input_list[10].shape)\n",
    "print(input_list[14].shape)\n"
   ]
  },
  {
   "cell_type": "code",
   "execution_count": null,
   "metadata": {},
   "outputs": [],
   "source": [
    "plt.imshow(input_list[10][150:300,250:550])"
   ]
  },
  {
   "cell_type": "code",
   "execution_count": null,
   "metadata": {},
   "outputs": [],
   "source": []
  },
  {
   "cell_type": "code",
   "execution_count": null,
   "metadata": {},
   "outputs": [],
   "source": []
  },
  {
   "cell_type": "code",
   "execution_count": null,
   "metadata": {},
   "outputs": [],
   "source": [
    "# real rain \n",
    "import matplotlib.pyplot as plt\n",
    "from disentangle.analysis.plot_utils import clean_ax\n",
    "\n",
    "ncols = 2\n",
    "nrows= 3\n",
    "img_sz = 3\n",
    "pred_idx_list = [0, 10, 14]\n",
    "crop_dict = {0:[100,0],\n",
    "             10:[150,250],\n",
    "             14:[100,0]}\n",
    "final_shape = (150,300,3)\n",
    "factor = final_shape[1]/final_shape[0]\n",
    "_,ax = plt.subplots(figsize=(img_sz*ncols*factor,img_sz*nrows),ncols=ncols,nrows=nrows)\n",
    "for idx in range(nrows):\n",
    "    pred_idx =pred_idx_list[idx]#np.random.randint(len(input_list))#  pred_idx_list[idx] #\n",
    "    print(pred_idx)\n",
    "    input = input_list[pred_idx]\n",
    "    target = target_list[pred_idx]\n",
    "    pred = pred_list[pred_idx]\n",
    "    cur_shape = input.shape\n",
    "    shape = input.shape\n",
    "    h_start = crop_dict[pred_idx][0]\n",
    "    h_end = h_start + final_shape[0]\n",
    "\n",
    "    w_start = crop_dict[pred_idx][1]\n",
    "    w_end = w_start + final_shape[1]\n",
    "    # print(h_start,w_start)\n",
    "    input = input_list[pred_idx][h_start:h_end,w_start:w_end]\n",
    "    target = target_list[pred_idx][h_start:h_end,w_start:w_end]\n",
    "    pred = pred_list[pred_idx][h_start:h_end,w_start:w_end]\n",
    "    ax[idx,0].imshow(input)\n",
    "    ax[idx,1].imshow(pred)\n",
    "    for i in range(2):\n",
    "        ax[idx,i].axis('off')\n",
    "\n",
    "# restrict the space between the subplots\n",
    "plt.subplots_adjust(wspace=0.02  , hspace=0.02)\n",
    "plt.savefig('deraining.png', dpi=100)\n"
   ]
  },
  {
   "cell_type": "code",
   "execution_count": null,
   "metadata": {},
   "outputs": [],
   "source": [
    "from disentangle.core.tiff_reader import load_tiff\n",
    "df = load_tiff('/group/jug/ashesh/data/paper_stats/All_P400_G64_M1_Sk0/kth_8/pred_disentangle_2405_D31-M3-S0-L0_7.tif')"
   ]
  },
  {
   "cell_type": "code",
   "execution_count": null,
   "metadata": {},
   "outputs": [],
   "source": [
    "plt.imshow(df[0])"
   ]
  },
  {
   "cell_type": "code",
   "execution_count": null,
   "metadata": {},
   "outputs": [],
   "source": [
    "break here"
   ]
  },
  {
   "cell_type": "code",
   "execution_count": null,
   "metadata": {},
   "outputs": [],
   "source": []
  },
  {
   "cell_type": "code",
   "execution_count": null,
   "metadata": {},
   "outputs": [],
   "source": [
    "import matplotlib.pyplot as plt\n",
    "from disentangle.analysis.plot_utils import clean_ax\n",
    "\n",
    "ncols = 3\n",
    "nrows= 3\n",
    "img_sz = 2\n",
    "shape = (400,400, 3)\n",
    "final_shape = (398, 300, 3)\n",
    "h_start = (shape[0] - final_shape[0])//2\n",
    "h_end = -1 * h_start\n",
    "w_start = (shape[1] - final_shape[1])//2\n",
    "w_end = -1 * w_start\n",
    "factor = final_shape[1]/final_shape[0]\n",
    "# pred_idx_list = [37,402, 156]\n",
    "pred_idx_list = [999,998,997]\n",
    "_,ax = plt.subplots(figsize=(img_sz*ncols*factor,img_sz*nrows),ncols=ncols,nrows=nrows)\n",
    "for idx in range(nrows):\n",
    "    cur_shape = None\n",
    "    while cur_shape != shape:\n",
    "        pred_idx =  pred_idx_list[idx] #np.random.randint(len(input_list))\n",
    "        input = input_list[pred_idx]\n",
    "        target = target_list[pred_idx]\n",
    "        pred = pred_list[pred_idx]\n",
    "        cur_shape = input.shape\n",
    "    print(pred_idx)\n",
    "    input = input_list[pred_idx][h_start:h_end,w_start:w_end]\n",
    "    target = target_list[pred_idx][h_start:h_end,w_start:w_end]\n",
    "    pred = pred_list[pred_idx][h_start:h_end,w_start:w_end]\n",
    "    ax[idx,0].imshow(input)\n",
    "    ax[idx,1].imshow(pred)\n",
    "    ax[idx,2].imshow(target)\n",
    "    for i in range(3):\n",
    "        ax[idx,i].axis('off')\n",
    "\n",
    "# restrict the space between the subplots\n",
    "plt.subplots_adjust(wspace=0.02  , hspace=0.02)\n",
    "plt.savefig('haze4k.png', dpi=100)\n"
   ]
  },
  {
   "cell_type": "code",
   "execution_count": null,
   "metadata": {},
   "outputs": [],
   "source": []
  },
  {
   "cell_type": "code",
   "execution_count": null,
   "metadata": {},
   "outputs": [],
   "source": [
    "import matplotlib.pyplot as plt\n",
    "from disentangle.analysis.plot_utils import clean_ax\n",
    "\n",
    "ncols = 3\n",
    "nrows= 3\n",
    "img_sz = 2\n",
    "shape = (321,481, 3)\n",
    "final_shape = (319, 481, 3)\n",
    "h_start = (shape[0] - final_shape[0])//2\n",
    "h_end = -1 * h_start\n",
    "factor = final_shape[1]/final_shape[0]\n",
    "\n",
    "_,ax = plt.subplots(figsize=(img_sz*ncols*factor,img_sz*nrows),ncols=ncols,nrows=nrows)\n",
    "for idx in range(nrows):\n",
    "    cur_shape = None\n",
    "    while cur_shape != shape:\n",
    "        pred_idx = np.random.randint(len(pred_files))\n",
    "        input = input_list[pred_idx]\n",
    "        target = target_list[pred_idx]\n",
    "        pred = pred_list[pred_idx]\n",
    "        cur_shape = input.shape\n",
    "    print(pred_idx)\n",
    "    input = input_list[pred_idx][h_start:h_end]\n",
    "    target = target_list[pred_idx][h_start:h_end]\n",
    "    pred = pred_list[pred_idx][h_start:h_end]\n",
    "    ax[idx,0].imshow(input)\n",
    "    ax[idx,1].imshow(pred)\n",
    "    ax[idx,2].imshow(target)\n",
    "    for i in range(3):\n",
    "        ax[idx,i].axis('off')\n",
    "\n",
    "# restrict the space between the subplots\n",
    "plt.subplots_adjust(wspace=0.02  , hspace=0.02)"
   ]
  },
  {
   "cell_type": "code",
   "execution_count": null,
   "metadata": {},
   "outputs": [],
   "source": [
    "plt.imshow(load_tiff('/group/jug/ashesh/data/paper_stats/All_P400_G64_M10_Sk0/kth_99/pred_disentangle_2405_D31-M3-S0-L0_7.tif')[0])"
   ]
  },
  {
   "cell_type": "code",
   "execution_count": null,
   "metadata": {},
   "outputs": [],
   "source": []
  }
 ],
 "metadata": {
  "kernelspec": {
   "display_name": "Python 3",
   "language": "python",
   "name": "python3"
  },
  "language_info": {
   "codemirror_mode": {
    "name": "ipython",
    "version": 3
   },
   "file_extension": ".py",
   "mimetype": "text/x-python",
   "name": "python",
   "nbconvert_exporter": "python",
   "pygments_lexer": "ipython3",
   "version": "3.9.19"
  }
 },
 "nbformat": 4,
 "nbformat_minor": 2
}
