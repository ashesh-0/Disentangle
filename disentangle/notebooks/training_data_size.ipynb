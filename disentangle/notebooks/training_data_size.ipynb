{
 "cells": [
  {
   "cell_type": "code",
   "execution_count": null,
   "metadata": {},
   "outputs": [],
   "source": [
    "denoiSplitNM_NL1 = {\n",
    "    '0.1': 26.8,\n",
    "    '0.3': 29.2,\n",
    "    '0.5': 29.1,\n",
    "    '1': 30,\n",
    "}\n",
    "denoiSplit_NL1 = {\n",
    "    '0.1': 26,\n",
    "    '0.3': 27.7,\n",
    "    '0.5': 29.6,\n",
    "    '1': 29.9,\n",
    "}\n",
    "\n",
    "denoiSplitNM_NL1_5 = {\n",
    "    '0.1': 24.5,\n",
    "    '0.3': 27.3,\n",
    "    '0.5': 28.7,\n",
    "    '1': 29,\n",
    "}\n",
    "denoiSplit_NL1_5 = {\n",
    "    '0.1': 23.8,\n",
    "    '0.3': 25.6,\n",
    "    '0.5': 28.4,\n",
    "    '1': 27.4,\n",
    "}\n",
    "\n",
    "denoiSplitNM_NL2 = {\n",
    "    '0.1': 25.6,\n",
    "    '0.3': 25.6,\n",
    "    '0.5': 27.2,\n",
    "    '1': 27,\n",
    "}\n",
    "denoiSplit_NL2 = {\n",
    "    '0.1': 23.6,\n",
    "    '0.3': 24.8,\n",
    "    '0.5': 26.5,\n",
    "    '1': 27.9,\n",
    "}\n",
    "\n",
    "denoiSplitNM_NL4 = {\n",
    "    '0.1': 23.1,\n",
    "    '0.3': 23.2,\n",
    "    '0.5': 23.3,\n",
    "    '1': 24.8,\n",
    "}\n",
    "denoiSplit_NL4 = {\n",
    "    '0.1': 23.2,\n",
    "    '0.3': 23.1,\n",
    "    '0.5': 23,\n",
    "    '1': 24.4,\n",
    "}\n",
    "\n",
    "denoiSplit = [denoiSplit_NL1, denoiSplit_NL1_5, denoiSplit_NL2, denoiSplit_NL4]\n",
    "denoiSplitNM = [denoiSplitNM_NL1, denoiSplitNM_NL1_5, denoiSplitNM_NL2, denoiSplitNM_NL4]"
   ]
  },
  {
   "cell_type": "markdown",
   "metadata": {},
   "source": [
    "### Percentage decrease with training data. "
   ]
  },
  {
   "cell_type": "code",
   "execution_count": null,
   "metadata": {},
   "outputs": [],
   "source": [
    "import numpy as np\n",
    "def decrement_metric(dict, key):\n",
    "    return 100 * (dict['1'] - dict[key])/dict['1']\n",
    "\n",
    "def decrement_metric2(dict, key):\n",
    "    return (dict['1'] - dict[key])\n",
    "\n",
    "withNM_decrements = []\n",
    "withoutNM_decrements = []\n",
    "for nlevel in range(4):\n",
    "    withNM = denoiSplitNM[nlevel]\n",
    "    withoutNM = denoiSplit[nlevel]\n",
    "\n",
    "    withNM_decrements_level = [decrement_metric2(withNM, key) for key in ['0.1', '0.3', '0.5']]\n",
    "    withoutNM_decrements_level = [decrement_metric2(withoutNM, key) for key in ['0.1', '0.3', '0.5']]\n",
    "    withNM_decrements.append(withNM_decrements_level)\n",
    "    withoutNM_decrements.append(withoutNM_decrements_level)\n",
    "        \n",
    "withNM_decrements = np.array(withNM_decrements)\n",
    "withoutNM_decrements = np.array(withoutNM_decrements)"
   ]
  },
  {
   "cell_type": "code",
   "execution_count": null,
   "metadata": {},
   "outputs": [],
   "source": [
    "print(withNM_decrements.mean(axis=0))\n",
    "print(withoutNM_decrements.mean(axis=0))\n"
   ]
  },
  {
   "cell_type": "code",
   "execution_count": null,
   "metadata": {},
   "outputs": [],
   "source": [
    "print(withNM_decrements.mean(axis=1))\n",
    "print(withoutNM_decrements.mean(axis=1))\n"
   ]
  },
  {
   "cell_type": "code",
   "execution_count": null,
   "metadata": {},
   "outputs": [],
   "source": []
  }
 ],
 "metadata": {
  "kernelspec": {
   "display_name": "Python 3",
   "language": "python",
   "name": "python3"
  },
  "language_info": {
   "codemirror_mode": {
    "name": "ipython",
    "version": 3
   },
   "file_extension": ".py",
   "mimetype": "text/x-python",
   "name": "python",
   "nbconvert_exporter": "python",
   "pygments_lexer": "ipython3",
   "version": "3.9.18"
  }
 },
 "nbformat": 4,
 "nbformat_minor": 2
}
