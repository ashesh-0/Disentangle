{
 "cells": [
  {
   "cell_type": "code",
   "execution_count": null,
   "metadata": {},
   "outputs": [],
   "source": [
    "class_name = 'background'"
   ]
  },
  {
   "cell_type": "code",
   "execution_count": null,
   "metadata": {},
   "outputs": [],
   "source": [
    "import nd2\n",
    "import argparse\n",
    "import os\n",
    "import  matplotlib.pyplot as plt\n",
    "import numpy as np\n",
    "\n",
    "import pandas as pd\n",
    "from collections import defaultdict\n",
    "from datetime import datetime\n",
    "import shutil\n",
    "\n",
    "from nis2pyr.reader import read_nd2file\n",
    "\n",
    "def load_7D(fpath):    \n",
    "    print(f'Loading from {fpath}')\n",
    "    with nd2.ND2File(fpath) as nd2file:\n",
    "        data = read_nd2file(nd2file)\n",
    "    return data\n",
    "\n",
    "\n",
    "def backup_fpath(cur_path):\n",
    "    backup_dir = os.path.dirname(cur_path)\n",
    "    backup_subdir = 'backup'\n",
    "    time_token = datetime.now().strftime('%Y-%m-%d_%H:%M:%S')\n",
    "    backup_fpath = os.path.join(backup_dir, backup_subdir, f'{time_token}_{os.path.basename(cur_path)}')\n",
    "    os.makedirs(os.path.dirname(backup_fpath), exist_ok=True)\n",
    "    shutil.copyfile(cur_path, backup_fpath)\n",
    "    print(f'Backed up {cur_path} to \\n {backup_fpath}\\n')\n",
    "\n",
    "def dict_to_str(rawdata_fpath, crop_dict):\n",
    "    crop_str = ''\n",
    "    token = rawdata_fpath\n",
    "    for key in crop_dict:\n",
    "        for crop in crop_dict[key]:\n",
    "            crop_str += f'{token},{key},{class_name},{crop[0]},{crop[1]},{crop[2]},{crop[3]}\\n'\n",
    "    return crop_str\n"
   ]
  },
  {
   "cell_type": "code",
   "execution_count": null,
   "metadata": {},
   "outputs": [],
   "source": [
    "# data_dir = '/group/jug/ashesh/data/Elisa/'\n",
    "data_dir = '/facility/imganfacusers/Elisa/DIF17/DIF_17_1'\n",
    "fnames = [x for x in sorted(os.listdir(data_dir)) if x.endswith('0001.nd2')]\n",
    "len(fnames)"
   ]
  },
  {
   "cell_type": "code",
   "execution_count": null,
   "metadata": {},
   "outputs": [],
   "source": [
    "\n",
    "pd.Series([x.split('_')[-4] for x in fnames]).value_counts()"
   ]
  },
  {
   "cell_type": "code",
   "execution_count": null,
   "metadata": {},
   "outputs": [],
   "source": [
    "# foreground: 5\n",
    "# background: 0\n",
    "fpath = os.path.join(data_dir, fnames[0])"
   ]
  },
  {
   "cell_type": "code",
   "execution_count": null,
   "metadata": {},
   "outputs": [],
   "source": [
    "\n",
    "data = load_7D(fpath)\n",
    "H = data.shape[4]\n",
    "W = data.shape[5]\n",
    "content_cropdict = defaultdict(list)\n",
    "punctor_cropdict = defaultdict(list) "
   ]
  },
  {
   "cell_type": "code",
   "execution_count": null,
   "metadata": {},
   "outputs": [],
   "source": [
    "print(data.shape)\n",
    "# np.quantile(data, [0,0.01, 0.995, 1])"
   ]
  },
  {
   "cell_type": "code",
   "execution_count": null,
   "metadata": {},
   "outputs": [],
   "source": [
    "z_idx = 13\n",
    "ch_idx = 1\n",
    "plt.imshow(data[0,0,z_idx,ch_idx,...,0], vmax=120)"
   ]
  },
  {
   "cell_type": "code",
   "execution_count": null,
   "metadata": {},
   "outputs": [],
   "source": [
    "# tmp_data = data[0,0,z_idx,ch_idx,...,0]\n",
    "# mask = tmp_data > 120\n",
    "# plt.imshow(mask[1000:1500, 1300:2000])"
   ]
  },
  {
   "cell_type": "code",
   "execution_count": null,
   "metadata": {},
   "outputs": [],
   "source": [
    "hs = 0\n",
    "# he = 1800\n",
    "he = 800\n",
    "\n",
    "\n",
    "ws = 1000\n",
    "# ws =1400\n",
    "we = 3000\n",
    "plt.imshow(data[0,0,z_idx,ch_idx,hs:he,ws:we,0], vmax=130)"
   ]
  },
  {
   "cell_type": "markdown",
   "metadata": {},
   "source": [
    "### Does it look good? "
   ]
  },
  {
   "cell_type": "code",
   "execution_count": null,
   "metadata": {},
   "outputs": [],
   "source": [
    "content_cropdict"
   ]
  },
  {
   "cell_type": "code",
   "execution_count": null,
   "metadata": {},
   "outputs": [],
   "source": [
    "content_cropdict[z_idx].append([hs, he, ws, we])\n",
    "content_cropdict"
   ]
  },
  {
   "cell_type": "code",
   "execution_count": null,
   "metadata": {},
   "outputs": [],
   "source": [
    "outputdir = '/group/jug/ashesh/data/Elisa/DIF17'\n",
    "token = os.path.basename(fpath)\n",
    "output_fpath = os.path.join(outputdir, f'{class_name}-cropdict.txt')\n",
    "output_fpath"
   ]
  },
  {
   "cell_type": "code",
   "execution_count": null,
   "metadata": {},
   "outputs": [],
   "source": [
    "def dump_cropdict(output_fpath, crop_dict):\n",
    "    if not os.path.exists(output_fpath):\n",
    "        with open(output_fpath, 'w') as f:\n",
    "            f.write('fname,z_idx,class_name,hs,he,ws,we\\n')\n",
    "        print(f'Created {output_fpath}')\n",
    "    backup_fpath(output_fpath)\n",
    "    with open(output_fpath, 'a') as f:\n",
    "        f.write(dict_to_str(fpath, crop_dict))\n",
    "    print(f'Written to {output_fpath}')\n",
    "    return True\n",
    "\n",
    "if dump_cropdict(output_fpath, content_cropdict):\n",
    "    content_cropdict = defaultdict(list)\n"
   ]
  },
  {
   "cell_type": "code",
   "execution_count": null,
   "metadata": {},
   "outputs": [],
   "source": [
    "! cat /group/jug/ashesh/data/Elisa/DIF17/background-cropdict.txt"
   ]
  },
  {
   "cell_type": "code",
   "execution_count": null,
   "metadata": {},
   "outputs": [],
   "source": [
    "df = pd.read_csv('/group/jug/ashesh/data/Elisa/DIF17/background-cropdict.txt')\n",
    "((df['he'] - df['hs'])* (df['we'] - df['ws'])).sum() / (1000*1000)"
   ]
  },
  {
   "cell_type": "code",
   "execution_count": null,
   "metadata": {},
   "outputs": [],
   "source": []
  }
 ],
 "metadata": {
  "kernelspec": {
   "display_name": "usplit",
   "language": "python",
   "name": "python3"
  },
  "language_info": {
   "codemirror_mode": {
    "name": "ipython",
    "version": 3
   },
   "file_extension": ".py",
   "mimetype": "text/x-python",
   "name": "python",
   "nbconvert_exporter": "python",
   "pygments_lexer": "ipython3",
   "version": "3.9.19"
  },
  "vscode": {
   "interpreter": {
    "hash": "e959a19f8af3b4149ff22eb57702a46c14a8caae5a2647a6be0b1f60abdfa4c2"
   }
  }
 },
 "nbformat": 4,
 "nbformat_minor": 2
}
