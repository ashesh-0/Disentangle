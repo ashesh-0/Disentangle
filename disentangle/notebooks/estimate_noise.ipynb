{
 "cells": [
  {
   "cell_type": "code",
   "execution_count": null,
   "metadata": {},
   "outputs": [],
   "source": [
    "import matplotlib.pyplot as plt\n",
    "\n",
    "from disentangle.configs.nikola_7D_config import get_config\n",
    "from disentangle.data_loader.nikola_7D_rawdata_loader import get_train_val_data\n",
    "import ml_collections\n",
    "from disentangle.core.data_type import DataType\n",
    "from disentangle.data_loader.nikola_7D_rawdata_loader import NikolaChannelList\n",
    "from disentangle.core.data_split_type import DataSplitType\n",
    "\n",
    "config = ml_collections.ConfigDict()\n",
    "config.data_type = DataType.NicolaData\n",
    "config.dset_type = '5ms'  # high, mid, low, verylow\n",
    "config.channel_idx_list = [NikolaChannelList.Ch_A, NikolaChannelList.Ch_B, NikolaChannelList.Ch_AB]\n",
    "datadir = '/group/jug/ashesh/data/nikola_data/20240531/'\n",
    "\n",
    "data = get_train_val_data(datadir, config, DataSplitType.Test,\n",
    "                            0.1, 0.1)\n",
    "\n",
    "_,ax = plt.subplots(figsize=(18,6),ncols=3)\n",
    "ax[0].imshow(data[0,...,0])\n",
    "ax[1].imshow(data[0,...,1])\n",
    "ax[2].imshow(data[0,...,2])\n",
    "# 'high', [0, 1]"
   ]
  },
  {
   "cell_type": "markdown",
   "metadata": {},
   "source": [
    "### Select background regions. \n",
    "They will have just the gaussian noise. "
   ]
  },
  {
   "cell_type": "code",
   "execution_count": null,
   "metadata": {},
   "outputs": [],
   "source": [
    "background_patches= {0:[], 1:[], 2:[]}"
   ]
  },
  {
   "cell_type": "code",
   "execution_count": null,
   "metadata": {},
   "outputs": [],
   "source": [
    "img_idx=1\n",
    "plt.imshow(data[img_idx,...,0])"
   ]
  },
  {
   "cell_type": "code",
   "execution_count": null,
   "metadata": {},
   "outputs": [],
   "source": [
    "save=True\n",
    "hs = 650\n",
    "ws = 500\n",
    "hN = 500\n",
    "wN  = 270\n",
    "plt.imshow(data[img_idx,hs:hs+hN,ws:ws+wN,0])\n",
    "if save:\n",
    "    background_patches[0].append(data[img_idx,hs:hs+hN,ws:ws+wN,0])"
   ]
  },
  {
   "cell_type": "markdown",
   "metadata": {},
   "source": [
    "### Estimate the gaussian noise. "
   ]
  },
  {
   "cell_type": "code",
   "execution_count": null,
   "metadata": {},
   "outputs": [],
   "source": [
    "import numpy as np\n",
    "data = np.concatenate([x.flatten() for x in background_patches[0]])\n",
    "mean_gauss = data.mean()\n",
    "std_gauss = data.std()\n",
    "(mean_gauss, std_gauss)"
   ]
  },
  {
   "cell_type": "code",
   "execution_count": null,
   "metadata": {},
   "outputs": [],
   "source": []
  },
  {
   "cell_type": "markdown",
   "metadata": {},
   "source": [
    "### Select the foreground regions.\n",
    "Create a noise model which models the poisson noise along with the gaussian noise. So, we just need a likelihood function for this. "
   ]
  },
  {
   "cell_type": "markdown",
   "metadata": {},
   "source": []
  }
 ],
 "metadata": {
  "kernelspec": {
   "display_name": "Python 3",
   "language": "python",
   "name": "python3"
  },
  "language_info": {
   "codemirror_mode": {
    "name": "ipython",
    "version": 3
   },
   "file_extension": ".py",
   "mimetype": "text/x-python",
   "name": "python",
   "nbconvert_exporter": "python",
   "pygments_lexer": "ipython3",
   "version": "3.9.19"
  }
 },
 "nbformat": 4,
 "nbformat_minor": 2
}
