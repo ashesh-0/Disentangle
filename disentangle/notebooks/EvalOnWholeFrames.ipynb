{
 "cells": [
  {
   "cell_type": "code",
   "execution_count": null,
   "id": "19844352",
   "metadata": {},
   "outputs": [],
   "source": [
    "from IPython.display import display, HTML\n",
    "import os\n",
    "display(HTML(\"<style>.container { width:100% !important; }</style>\"))"
   ]
  },
  {
   "cell_type": "code",
   "execution_count": null,
   "id": "27ec4422",
   "metadata": {},
   "outputs": [],
   "source": [
    "%run ./nb_core/root_dirs.ipynb\n",
    "setup_syspath_disentangle(False)\n",
    "%run ./nb_core/disentangle_imports.ipynb"
   ]
  },
  {
   "cell_type": "code",
   "execution_count": null,
   "id": "5a9748a9",
   "metadata": {},
   "outputs": [],
   "source": [
    "ckpt_dir = \"/home/ashesh.ashesh/training/disentangle/2405/D26-M3-S0-L8/10\"\n",
    "assert os.path.exists(ckpt_dir)"
   ]
  },
  {
   "cell_type": "code",
   "execution_count": null,
   "id": "c383d367",
   "metadata": {},
   "outputs": [],
   "source": [
    "def get_dtype(ckpt_fpath):\n",
    "    if os.path.isdir(ckpt_fpath):\n",
    "        ckpt_fpath = ckpt_fpath[:-1] if ckpt_fpath[-1] == '/' else ckpt_fpath\n",
    "    elif os.path.isfile(ckpt_fpath):\n",
    "        ckpt_fpath = os.path.dirname(ckpt_fpath)\n",
    "    assert ckpt_fpath[-1] != '/'\n",
    "    return int(ckpt_fpath.split('/')[-2].split('-')[0][1:])"
   ]
  },
  {
   "cell_type": "code",
   "execution_count": null,
   "id": "d7232e05",
   "metadata": {},
   "outputs": [],
   "source": [
    "dtype = get_dtype(ckpt_dir)\n",
    "dtype"
   ]
  },
  {
   "cell_type": "code",
   "execution_count": null,
   "id": "0b237569",
   "metadata": {
    "slideshow": {
     "slide_type": "skip"
    }
   },
   "outputs": [],
   "source": [
    "image_size_for_grid_centers = 32\n",
    "mmse_count = 1\n",
    "custom_image_size = None\n",
    "data_t_list = None #[0,1,2,3]\n",
    "\n",
    "save_comparative_plots =False\n",
    "enable_calibration = False\n",
    "batch_size = 64\n",
    "num_workers = 4\n",
    "COMPUTE_LOSS = False\n",
    "use_deterministic_grid = None\n",
    "threshold = None # 0.02\n",
    "compute_kl_loss = False\n",
    "evaluate_train = False# inspect training performance\n",
    "eval_datasplit_type = DataSplitType.All    \n",
    "val_repeat_factor = None\n",
    "psnr_type = 'range_invariant' #'simple', 'range_invariant'"
   ]
  },
  {
   "cell_type": "code",
   "execution_count": null,
   "id": "f889dd2d",
   "metadata": {},
   "outputs": [],
   "source": [
    "%run ./nb_core/config_loader.ipynb"
   ]
  },
  {
   "cell_type": "code",
   "execution_count": null,
   "id": "2a0047fe",
   "metadata": {},
   "outputs": [],
   "source": [
    "tokens = ckpt_dir.split('/')\n",
    "idx = tokens.index('disentangle')\n",
    "if config.model.model_type == 25 and tokens[idx+1] == '2312':\n",
    "    config.model.model_type = ModelType.LadderVAERestrictedReconstruction"
   ]
  },
  {
   "cell_type": "code",
   "execution_count": null,
   "id": "bc8a3fed",
   "metadata": {},
   "outputs": [],
   "source": [
    "from disentangle.core.sampler_type import SamplerType\n",
    "from disentangle.core.loss_type import LossType\n",
    "from disentangle.data_loader.ht_iba1_ki67_rawdata_loader import SubDsetType\n",
    "# from disentangle.core.lowres_merge_type import LowresMergeType\n",
    "\n",
    "\n",
    "with config.unlocked():\n",
    "    config.model.skip_nboundary_pixels_from_loss = None\n",
    "    if config.model.model_type == ModelType.UNet and 'n_levels' not in config.model:\n",
    "        config.model.n_levels = 4\n",
    "    if config.data.sampler_type == SamplerType.NeighborSampler:\n",
    "        config.data.sampler_type = SamplerType.DefaultSampler\n",
    "        config.loss.loss_type = LossType.Elbo\n",
    "        config.data.grid_size = config.data.image_size\n",
    "    if 'ch1_fpath_list' in config.data:\n",
    "        config.data.ch1_fpath_list = config.data.ch1_fpath_list[:1]\n",
    "        config.data.mix_fpath_list = config.data.mix_fpath_list[:1]\n",
    "    if config.data.data_type == DataType.Pavia2VanillaSplitting:\n",
    "        if 'channel_2_downscale_factor' not in config.data:\n",
    "            config.data.channel_2_downscale_factor = 1\n",
    "    if config.model.model_type == ModelType.UNet and 'init_channel_count' not in config.model:\n",
    "        config.model.init_channel_count = 64\n",
    "    \n",
    "    if 'skip_receptive_field_loss_tokens' not in config.loss:\n",
    "        config.loss.skip_receptive_field_loss_tokens = []\n",
    "    \n",
    "    if dtype == DataType.HTIba1Ki67:\n",
    "        config.data.subdset_type = SubDsetType.Iba1Ki64\n",
    "        config.data.empty_patch_replacement_enabled = False\n",
    "    \n",
    "    if 'lowres_merge_type' not in config.model.encoder:\n",
    "        config.model.encoder.lowres_merge_type = 0\n",
    "    if 'validtarget_random_fraction' in config.data:\n",
    "        config.data.validtarget_random_fraction = None\n",
    "    \n",
    "    if config.data.data_type == DataType.TwoDset:\n",
    "        config.model.model_type = ModelType.LadderVae\n",
    "        for key in config.data.dset1:\n",
    "            config.data[key] = config.data.dset1[key]\n",
    "    \n",
    "    if 'dump_kth_frame_prediction' in config.training:\n",
    "        config.training.dump_kth_frame_prediction = None\n",
    "\n",
    "    if 'input_is_sum' not in config.data:\n",
    "        config.data.input_is_sum = False"
   ]
  },
  {
   "cell_type": "code",
   "execution_count": null,
   "id": "a03b40f4",
   "metadata": {},
   "outputs": [],
   "source": [
    "# config.data.channel_1 = 0 \n",
    "# config.data.channel_2 = 3"
   ]
  },
  {
   "cell_type": "code",
   "execution_count": null,
   "id": "7ef646b2",
   "metadata": {},
   "outputs": [],
   "source": [
    "dtype = config.data.data_type\n",
    "\n",
    "if dtype in [DataType.CustomSinosoid, DataType.CustomSinosoidThreeCurve]:\n",
    "    data_dir = f'{DATA_ROOT}/sinosoid_without_test/sinosoid/'\n",
    "elif dtype == DataType.OptiMEM100_014:\n",
    "    data_dir = f'{DATA_ROOT}/microscopy/'\n",
    "elif dtype == DataType.Prevedel_EMBL:\n",
    "    data_dir = f'{DATA_ROOT}/Prevedel_EMBL/PKG_3P_dualcolor_stacks/NoAverage_NoRegistration/'\n",
    "elif dtype == DataType.AllenCellMito:\n",
    "    data_dir = f'{DATA_ROOT}/allencell/2017_03_08_Struct_First_Pass_Seg/AICS-11/'\n",
    "elif dtype == DataType.SeparateTiffData:\n",
    "    data_dir = f'{DATA_ROOT}/ventura_gigascience'\n",
    "elif dtype == DataType.SemiSupBloodVesselsEMBL:\n",
    "    data_dir = f'{DATA_ROOT}/EMBL_halfsupervised/Demixing_3P'\n",
    "elif dtype == DataType.Pavia2VanillaSplitting:\n",
    "    data_dir = f'{DATA_ROOT}/pavia2'\n",
    "elif dtype == DataType.ExpansionMicroscopyMitoTub:\n",
    "    data_dir = f'{DATA_ROOT}/expansion_microscopy_Nick/'\n",
    "elif dtype == DataType.ShroffMitoEr:\n",
    "    data_dir = f'{DATA_ROOT}/shrofflab/'\n",
    "elif dtype == DataType.HTIba1Ki67:\n",
    "    data_dir = f'{DATA_ROOT}/Stefania/20230327_Ki67_and_Iba1_trainingdata/'\n",
    "elif dtype == DataType.BioSR_MRC:\n",
    "    data_dir = f'{DATA_ROOT}/BioSR/'\n",
    "elif dtype == DataType.ExpMicroscopyV2:\n",
    "    data_dir = f'{DATA_ROOT}/expansion_microscopy_v2/datafiles/'\n",
    "elif dtype == DataType.TavernaSox2GolgiV2:\n",
    "    data_dir = f'{DATA_ROOT}/TavernaSox2Golgi/acquisition2/'\n",
    "elif dtype == DataType.Pavia3SeqData:\n",
    "    data_dir = f'{DATA_ROOT}/pavia3_sequential/'\n",
    "elif dtype == DataType.NicolaData:\n",
    "    data_dir = f'{DATA_ROOT}/nikola_data/raw'\n",
    "elif dtype == DataType.Dao3ChannelWithInput:\n",
    "    data_dir = f'{DATA_ROOT}/Dao4Channel/'\n",
    "elif dtype == DataType.Dao3Channel:\n",
    "    data_dir = f'{DATA_ROOT}/Dao3Channel/'\n",
    "elif dtype == DataType.SilvioLabCSHLData:\n",
    "    data_dir = f'{DATA_ROOT}/svilen_cshl2024/'"
   ]
  },
  {
   "cell_type": "code",
   "execution_count": null,
   "id": "edde2155",
   "metadata": {},
   "outputs": [],
   "source": [
    "%run ./nb_core/disentangle_setup.ipynb"
   ]
  },
  {
   "cell_type": "code",
   "execution_count": null,
   "id": "60d5fc4a",
   "metadata": {},
   "outputs": [],
   "source": [
    "if config.data.multiscale_lowres_count is not None and custom_image_size is not None:\n",
    "    model.reset_for_different_output_size(custom_image_size)"
   ]
  },
  {
   "cell_type": "code",
   "execution_count": null,
   "id": "d05be428",
   "metadata": {},
   "outputs": [],
   "source": [
    "idx = np.random.randint(len(val_dset))\n",
    "inp_tmp, tar_tmp, *_ = val_dset[idx]\n",
    "ncols = len(tar_tmp)\n",
    "nrows = 2\n",
    "_,ax = plt.subplots(figsize=(4*ncols,4*nrows),ncols=ncols,nrows=nrows)\n",
    "for i in range(min(ncols,len(inp_tmp))):\n",
    "    ax[0,i].imshow(inp_tmp[i])\n",
    "\n",
    "for channel_id in range(ncols):\n",
    "    ax[1,channel_id].imshow(tar_tmp[channel_id])"
   ]
  },
  {
   "cell_type": "code",
   "execution_count": null,
   "id": "eece008c",
   "metadata": {},
   "outputs": [],
   "source": [
    "if data_t_list is not None:\n",
    "    val_dset.reduce_data(t_list=data_t_list)"
   ]
  },
  {
   "cell_type": "code",
   "execution_count": null,
   "id": "ac7ac09e",
   "metadata": {},
   "outputs": [],
   "source": [
    "# high val dset \n",
    "import ml_collections\n",
    "new_config = ml_collections.ConfigDict(config)\n",
    "if 'poisson_noise_factor' in new_config.data:\n",
    "    new_config.data.poisson_noise_factor = -1\n",
    "_, highsnr_val_dset = create_dataset(new_config, data_dir, eval_datasplit_type=eval_datasplit_type,\n",
    "                                      kwargs_dict=dloader_kwargs)\n",
    "\n"
   ]
  },
  {
   "cell_type": "code",
   "execution_count": null,
   "id": "2450be49",
   "metadata": {},
   "outputs": [],
   "source": [
    "# plt.imshow(train_dset._data[0,...,0])"
   ]
  },
  {
   "cell_type": "code",
   "execution_count": null,
   "id": "29d1e712",
   "metadata": {},
   "outputs": [],
   "source": []
  },
  {
   "cell_type": "code",
   "execution_count": null,
   "id": "c3ae4fa7",
   "metadata": {},
   "outputs": [],
   "source": [
    "def get_full_input_frame(idx, dset):\n",
    "    img_tuples, noise_tuples = dset._load_img(idx)\n",
    "    if len(noise_tuples) > 0:\n",
    "        factor = np.sqrt(2) if dset._input_is_sum else 1.0\n",
    "        img_tuples = [x + noise_tuples[0] * factor for x in img_tuples]\n",
    "\n",
    "    inp = 0\n",
    "    for nch in img_tuples:\n",
    "        inp += nch/len(img_tuples)\n",
    "    h_start, w_start = dset._get_deterministic_hw(idx)\n",
    "    return inp, h_start, w_start\n"
   ]
  },
  {
   "cell_type": "code",
   "execution_count": null,
   "id": "b2f11b80",
   "metadata": {},
   "outputs": [],
   "source": [
    "index = np.random.randint(len(val_dset))\n",
    "inp, tar = val_dset[index]\n",
    "frame, h_start, w_start = get_full_input_frame(index, val_dset)\n",
    "print(h_start, w_start)"
   ]
  },
  {
   "cell_type": "code",
   "execution_count": null,
   "id": "77918a82",
   "metadata": {},
   "outputs": [],
   "source": [
    "from disentangle.core.tiff_reader import load_tiff\n",
    "from disentangle.analysis.paper_plots import show_for_one, get_plotoutput_dir\n",
    "def get_hwt_start(idx):\n",
    "    h,w,t = val_dset.idx_manager.hwt_from_idx(idx, grid_size=64)\n",
    "    print(h,w,t)\n",
    "    pad = val_dset.per_side_overlap_pixelcount()\n",
    "    h =  h - pad\n",
    "    w = w - pad\n",
    "    return h,w,t\n",
    "\n",
    "def get_crop_from_fulldset_prediction(full_dset_pred, idx, patch_size=256):\n",
    "    h,w,t = get_hwt_start(idx)\n",
    "    return np.swapaxes(full_dset_pred[t,h:h+patch_size,w:w+patch_size].astype(np.float32)[None], 0, 3)[...,0]\n",
    "\n",
    "if save_comparative_plots:\n",
    "    assert eval_datasplit_type == DataSplitType.Test\n",
    "    # CCP vs Microtubules: 925, 659, 502\n",
    "    # hdn_usplitdata = load_tiff('/group/jug/ashesh/data/paper_stats/Test_PNone_G16_M3_Sk0/pred_disentangle_2402_D23-M3-S0-L0_67.tif')\n",
    "    hdn_usplitdata = load_tiff('/group/jug/ashesh/data/paper_stats/Test_PNone_G32_M5_Sk0/pred_disentangle_2403_D23-M3-S0-L0_29.tif')\n",
    "\n",
    "    # ER vs Microtubule 853, 859, 332\n",
    "    # hdn_usplitdata = load_tiff('/group/jug/ashesh/data/paper_stats/Test_PNone_G16_M3_Sk0/pred_disentangle_2402_D23-M3-S0-L0_60.tif')\n",
    "\n",
    "    #  ER vs CCP 327, 479, 637, 568\n",
    "    # hdn_usplitdata = load_tiff('/group/jug/ashesh/data/paper_stats/Test_PNone_G16_M3_Sk0/pred_disentangle_2402_D23-M3-S0-L0_59.tif')\n",
    "\n",
    "    #  F-actin vs ER 797\n",
    "    # hdn_usplitdata = load_tiff('/group/jug/ashesh/data/paper_stats/Test_PNone_G32_M10_Sk0/pred_disentangle_2403_D23-M3-S0-L0_15.tif')\n",
    "\n",
    "    idx = 10#np.random.randint(len(val_dset))\n",
    "    patch_size = 500\n",
    "    mmse_count = 50\n",
    "    print(idx)\n",
    "    show_for_one(idx, val_dset, highsnr_val_dset, model, None, mmse_count=mmse_count, patch_size=patch_size, baseline_preds=[\n",
    "        get_crop_from_fulldset_prediction(hdn_usplitdata, idx).astype(np.float32),\n",
    "    ], num_samples=0)\n",
    "\n",
    "\n",
    "    plotsdir = get_plotoutput_dir(ckpt_dir, patch_size, mmse_count=mmse_count)\n",
    "    model_id = ckpt_dir.strip('/').split('/')[-1]\n",
    "    fname = f'patch_comparison_{idx}_{model_id}.png'\n",
    "    fpath = os.path.join(plotsdir, fname)\n",
    "    plt.savefig(fpath, dpi=200, bbox_inches='tight')\n",
    "    print(f'Saved to {fpath}')"
   ]
  },
  {
   "cell_type": "code",
   "execution_count": null,
   "id": "32c59d04",
   "metadata": {},
   "outputs": [],
   "source": [
    "# from disentangle.data_loader.nikola_7D_rawdata_loader import *\n",
    "# def load_one_fpath(fpath, channel_list):\n",
    "#     data = load_7D(fpath)    \n",
    "#     # data.shape: (1, 20, 1, 19, 1608, 1608, 1) \n",
    "#     data = data[0, :, 0, :, :, :, 0]\n",
    "#     # data.shape: (20, 19, 1608, 1608)\n",
    "#     # Here, 20 are different locations and 19 are different channels.\n",
    "#     data = data[:, channel_list,...]\n",
    "#     # swap the second and fourth axis\n",
    "#     data = np.swapaxes(data[...,None], 1, 4)[:,0]\n",
    "    \n",
    "#     fname_prefix = '_'.join(os.path.basename(fpath).split('.')[0].split('_')[:-1])\n",
    "#     if fname_prefix == 'uSplit_20022025_001':\n",
    "#         data = np.delete(data, 2, axis=0)\n",
    "#     elif fname_prefix == 'uSplit_14022025':\n",
    "#         data = np.delete(data, [17, 19], axis=0)\n",
    "\n",
    "#     # data.shape: (20, 1608, 1608, C)\n",
    "#     return data\n",
    "\n",
    "# ch_list = [NikolaChannelList.Ch_A, NikolaChannelList.Ch_B, NikolaChannelList.Ch_C, NikolaChannelList.Ch_D]\n",
    "# data = load_one_fpath('/group/jug/ashesh/data/nikola_data/raw/uSplit_20022025_001_highSNR.nd2', ch_list)\n",
    "# print(data.shape)\n",
    "# data = data.astype(np.float32)\n",
    "# _,ax = plt.subplots(figsize=(20,2),ncols=10)\n",
    "# for i in range(10):\n",
    "#     ax[i].imshow(data[i,::4,::4,0])"
   ]
  },
  {
   "cell_type": "code",
   "execution_count": null,
   "id": "78f0a595",
   "metadata": {},
   "outputs": [],
   "source": [
    "# from disentangle.analysis.paper_plots import show_for_one, get_plotoutput_dir\n",
    "# idx = np.random.randint(len(val_dset))\n",
    "# print(idx)\n",
    "# patch_size = 256\n",
    "# mmse_count = 50\n",
    "# print(idx)\n",
    "# show_for_one(idx, val_dset, val_dset, model, None, mmse_count=5, patch_size=patch_size, num_samples=2)\n"
   ]
  },
  {
   "cell_type": "code",
   "execution_count": null,
   "id": "cac092b5",
   "metadata": {},
   "outputs": [],
   "source": [
    "from disentangle.analysis.stitch_prediction import stitch_predictions\n",
    "from disentangle.analysis.mmse_prediction import get_dset_predictions\n",
    "# from disentangle.analysis.stitch_prediction import get_predictions as get_dset_predictions\n",
    "\n",
    "pred_tiled, rec_loss, logvar_tiled, patch_psnr_tuple, pred_std_tiled = get_dset_predictions(model, val_dset,batch_size,\n",
    "                                               num_workers=num_workers,\n",
    "                                               mmse_count=mmse_count,\n",
    "                                                model_type = config.model.model_type,\n",
    "                                              )\n",
    "tmp = np.round([x.item() for x in patch_psnr_tuple],2)\n",
    "print('Patch wise PSNR, as computed during training', tmp,np.mean(tmp))"
   ]
  },
  {
   "cell_type": "code",
   "execution_count": null,
   "id": "ab10cb82",
   "metadata": {},
   "outputs": [],
   "source": [
    "pred_tiled.shape"
   ]
  },
  {
   "cell_type": "code",
   "execution_count": null,
   "id": "2b693a0c",
   "metadata": {},
   "outputs": [],
   "source": [
    "idx_list = np.where(logvar_tiled.squeeze() < -6)[0]\n",
    "if len(idx_list) > 0:\n",
    "    plt.imshow(val_dset[idx_list[0]][1][1])"
   ]
  },
  {
   "cell_type": "code",
   "execution_count": null,
   "id": "8a1573f8",
   "metadata": {},
   "outputs": [],
   "source": [
    "len(val_dset)"
   ]
  },
  {
   "cell_type": "code",
   "execution_count": null,
   "id": "771ac350",
   "metadata": {},
   "outputs": [],
   "source": [
    "print(np.quantile(rec_loss, [0,0.01,0.5, 0.9,0.99,0.999,1]).round(2))"
   ]
  },
  {
   "cell_type": "code",
   "execution_count": null,
   "id": "05f2cdc7",
   "metadata": {},
   "outputs": [],
   "source": [
    "pred_tiled.shape"
   ]
  },
  {
   "cell_type": "code",
   "execution_count": null,
   "id": "8673355b",
   "metadata": {},
   "outputs": [],
   "source": [
    "logvar_tiled.shape"
   ]
  },
  {
   "cell_type": "code",
   "execution_count": null,
   "id": "c75b35f1",
   "metadata": {},
   "outputs": [],
   "source": [
    "if pred_tiled.shape[-1] != val_dset.get_img_sz():\n",
    "    pad = (val_dset.get_img_sz() - pred_tiled.shape[-1] )//2\n",
    "    pred_tiled = np.pad(pred_tiled, ((0,0),(0,0),(pad,pad),(pad,pad)))\n",
    "\n",
    "pred = stitch_predictions(pred_tiled,val_dset, smoothening_pixelcount=0)\n",
    "if len(np.unique(logvar_tiled)) == 1:\n",
    "    logvar = None\n",
    "else:\n",
    "    logvar = stitch_predictions(logvar_tiled,val_dset, smoothening_pixelcount=0)\n",
    "pred_std = stitch_predictions(pred_std_tiled,val_dset, smoothening_pixelcount=0)"
   ]
  },
  {
   "cell_type": "code",
   "execution_count": null,
   "id": "66deb75f",
   "metadata": {},
   "outputs": [],
   "source": [
    "if 'target_idx_list' in config.data and config.data.target_idx_list is not None:\n",
    "    pred = pred[...,:len(config.data.target_idx_list)]\n",
    "    pred_std = pred_std[...,:len(config.data.target_idx_list)]"
   ]
  },
  {
   "cell_type": "code",
   "execution_count": null,
   "id": "9e8ce80f",
   "metadata": {},
   "outputs": [],
   "source": [
    "len(pred) "
   ]
  },
  {
   "cell_type": "code",
   "execution_count": null,
   "id": "0d2ad25d",
   "metadata": {},
   "outputs": [],
   "source": [
    "def print_ignored_pixels():\n",
    "    ignored_pixels = 1\n",
    "    while(pred[0,-ignored_pixels:,-ignored_pixels:,].std() ==0):\n",
    "        ignored_pixels+=1\n",
    "    ignored_pixels-=1\n",
    "    print(f'In {pred.shape}, last {ignored_pixels} many rows and columns are all zero.')\n",
    "    return ignored_pixels\n",
    "\n",
    "actual_ignored_pixels = print_ignored_pixels()"
   ]
  },
  {
   "cell_type": "markdown",
   "id": "b8474735",
   "metadata": {},
   "source": [
    "## Ignore the pixels which are present in the last few rows and columns. \n",
    "1. They don't come in the batches. So, in prediction, they are simply zeros. So they are being are ignored right now. \n",
    "2. For the border pixels which are on the top and the left, overlapping yields worse performance. This is becuase, there is nothing to overlap on one side. So, they are essentially zero padded. This makes the performance worse. "
   ]
  },
  {
   "cell_type": "code",
   "execution_count": null,
   "id": "fcb2db09",
   "metadata": {},
   "outputs": [],
   "source": [
    "actual_ignored_pixels"
   ]
  },
  {
   "cell_type": "code",
   "execution_count": null,
   "id": "cadedfcd",
   "metadata": {},
   "outputs": [],
   "source": [
    "if config.data.data_type in [DataType.OptiMEM100_014,\n",
    "                                                      DataType.SemiSupBloodVesselsEMBL, \n",
    "                                                      DataType.Pavia2VanillaSplitting,\n",
    "                                                      DataType.ExpansionMicroscopyMitoTub,\n",
    "                                                      DataType.ShroffMitoEr,\n",
    "                                                      DataType.HTIba1Ki67]:\n",
    "    ignored_last_pixels = 32 \n",
    "elif config.data.data_type == DataType.BioSR_MRC:\n",
    "    ignored_last_pixels = 44\n",
    "    # assert val_dset.get_img_sz() == 64\n",
    "    # ignored_last_pixels = 108\n",
    "elif config.data.data_type == DataType.NicolaData:\n",
    "    ignored_last_pixels = 8\n",
    "elif config.data.data_type == DataType.SilvioLabCSHLData:\n",
    "    ignored_last_pixels = 24\n",
    "else:\n",
    "    ignored_last_pixels = 0\n",
    "\n",
    "ignore_first_pixels = 0\n",
    "# ignored_last_pixels = 160\n",
    "assert actual_ignored_pixels <= ignored_last_pixels, f'Set ignored_last_pixels={actual_ignored_pixels}'\n",
    "print(ignored_last_pixels)"
   ]
  },
  {
   "cell_type": "code",
   "execution_count": null,
   "id": "226fed05",
   "metadata": {},
   "outputs": [],
   "source": [
    "tar = val_dset._data\n",
    "if 'target_idx_list' in config.data and config.data.target_idx_list is not None:\n",
    "    tar = tar[...,config.data.target_idx_list]\n",
    "def ignore_pixels(arr):\n",
    "    if ignore_first_pixels:\n",
    "        arr = arr[:,ignore_first_pixels:,ignore_first_pixels:]\n",
    "    if ignored_last_pixels:\n",
    "        arr = arr[:,:-ignored_last_pixels,:-ignored_last_pixels]\n",
    "    return arr\n",
    "\n",
    "pred = ignore_pixels(pred)\n",
    "tar = ignore_pixels(tar)\n",
    "if pred_std is not None:\n",
    "    pred_std = ignore_pixels(pred_std)\n"
   ]
  },
  {
   "cell_type": "code",
   "execution_count": null,
   "id": "1be10fd7",
   "metadata": {},
   "outputs": [],
   "source": [
    "# from disentangle.analysis.plot_utils import *\n",
    "# def add_pixel_kde(ax,\n",
    "#                   rect: List[float],\n",
    "#                   data1: np.ndarray,\n",
    "#                   data2: Union[np.ndarray, None],\n",
    "#                   min_labelsize: int,\n",
    "#                   color1='r',\n",
    "#                   color2='black',\n",
    "#                   color_xtick='white',\n",
    "#                   label1='Target',\n",
    "#                   label2='Predicted'):\n",
    "#     \"\"\"\n",
    "#     Adds KDE (density plot) of data1(eg: target) and data2(ex: predicted) image pixel values as an inset\n",
    "#     \"\"\"\n",
    "#     inset_ax = add_subplot_axes(ax, rect, facecolor=\"None\", min_labelsize=min_labelsize)\n",
    "    \n",
    "#     inset_ax.tick_params(axis='x', colors=color_xtick)\n",
    "\n",
    "#     sns.kdeplot(data=data1.reshape(-1, ), ax=inset_ax, color=color1, label=label1)\n",
    "#     if data2 is not None:\n",
    "#         sns.kdeplot(data=data2.reshape(-1, ), ax=inset_ax, color=color2, label=label2)\n",
    "#     inset_ax.set_xlim(left=0)\n",
    "#     xticks = inset_ax.get_xticks()\n",
    "#     # inset_ax.set_xticks([xticks[0], xticks[-1]])\n",
    "#     inset_ax.set_xticks([])\n",
    "#     clean_for_xaxis_plot(inset_ax)\n",
    "\n",
    "\n",
    "# ch1_pred_unnorm = pred[...,0]*sep_std[...,0].cpu().numpy() + sep_mean[...,0].cpu().numpy()\n",
    "# ch2_pred_unnorm = pred[...,1]*sep_std[...,1].cpu().numpy() + sep_mean[...,1].cpu().numpy()\n",
    "\n",
    "# inset_rect=[0.1,0.1,0.4,0.2]\n",
    "# inset_min_labelsize=10\n",
    "# color_ch_list=['goldenrod','cyan']\n",
    "\n",
    "# _,ax = plt.subplots(figsize=(15,10),ncols=3,nrows=2)\n",
    "# idx = 8\n",
    "# pred1_crop  = ch1_pred_unnorm[idx,1116:1372,1064:1320].copy()\n",
    "# pred2_crop  = ch2_pred_unnorm[idx,1116:1372,1064:1320].copy()\n",
    "# pred1_crop[pred1_crop<0] = 0\n",
    "# pred2_crop[pred2_crop<0] = 0\n",
    "\n",
    "# tar1_crop   =  tar[idx,1116:1372,1064:1320,0]\n",
    "# tar2_crop   =  tar[idx,1116:1372,1064:1320,1]\n",
    "\n",
    "# ax[0,0].imshow(tar1_crop+tar2_crop)\n",
    "# ax[0,1].imshow(tar1_crop)\n",
    "# ax[0,2].imshow(tar2_crop)\n",
    "\n",
    "# ax[1,0].imshow(pred1_crop+pred2_crop)\n",
    "# ax[1,1].imshow(pred1_crop)\n",
    "# ax[1,2].imshow(pred2_crop)\n",
    "# clean_ax(ax)\n",
    "# add_pixel_kde(ax[0,0], inset_rect, \n",
    "#               tar1_crop, \n",
    "#               tar2_crop, \n",
    "#               inset_min_labelsize,\n",
    "#                 label1='Ch1', label2='Ch2', color1=color_ch_list[0], color2=color_ch_list[1])\n",
    "\n",
    "# add_pixel_kde(ax[1,1], inset_rect, \n",
    "#               pred1_crop, \n",
    "#               tar1_crop, \n",
    "#               inset_min_labelsize,\n",
    "#                 label1='Ch1', label2='Ch2', color1='red', color2=color_ch_list[0])\n",
    "# add_pixel_kde(ax[1,2], inset_rect, \n",
    "#               pred2_crop, \n",
    "#               tar2_crop, \n",
    "#               inset_min_labelsize,\n",
    "#                 label1='Ch1', label2='Ch2', color1='red', color2=color_ch_list[1])"
   ]
  },
  {
   "cell_type": "code",
   "execution_count": null,
   "id": "7311e08a",
   "metadata": {},
   "outputs": [],
   "source": [
    "sep_mean, sep_std = model.data_mean, model.data_std\n",
    "if isinstance(sep_mean, dict):\n",
    "    sep_mean = sep_mean['target']\n",
    "    sep_std = sep_std['target']\n",
    "\n",
    "if isinstance(sep_mean, int):\n",
    "    pass\n",
    "else:\n",
    "    sep_mean = sep_mean.squeeze()[None,None,None]\n",
    "    sep_std = sep_std.squeeze()[None,None,None]\n",
    "    sep_mean = sep_mean.cpu().numpy() \n",
    "    sep_std = sep_std.cpu().numpy()\n",
    "\n",
    "tar_normalized = (tar - sep_mean)/ sep_std"
   ]
  },
  {
   "cell_type": "code",
   "execution_count": null,
   "id": "32f39008",
   "metadata": {},
   "outputs": [],
   "source": [
    "if enable_calibration:\n",
    "    from disentangle.metrics.calibration import Calibration\n",
    "    calib = Calibration(num_bins=30, mode='pixelwise')\n",
    "    native_stats = calib.compute_stats(pred, pred_std, tar_normalized)\n",
    "    count = np.array(native_stats[0]['bin_count'])\n",
    "    count = count / count.sum()\n",
    "    count.cumsum()[:-1]\n",
    "    plt.plot(native_stats[0]['rmv'][1:-1], native_stats[0]['rmse'][1:-1], 'o')\n"
   ]
  },
  {
   "cell_type": "code",
   "execution_count": null,
   "id": "1d58e8c1",
   "metadata": {},
   "outputs": [],
   "source": [
    "from disentangle.metrics.calibration import get_calibrated_factor_for_stdev\n",
    "from disentangle.analysis.paper_plots import plot_calibration\n",
    "import numpy as np\n",
    "\n",
    "def get_plotoutput_dir(ckpt_dir, patch_size, mmse_count=50):\n",
    "    plotsrootdir = f'/group/jug/ashesh/data/paper_figures/patch_{patch_size}_mmse_{mmse_count}'\n",
    "    os.makedirs(plotsrootdir, exist_ok=True)\n",
    "    print(plotsrootdir)\n",
    "    return plotsrootdir\n",
    "\n",
    "def get_calibration_fnames(ckpt_dir):\n",
    "    tokens = ckpt_dir.strip('/').split('/')\n",
    "    modelid = int(tokens[-1])\n",
    "    model_specs = tokens[-2].replace('-','')\n",
    "    monthyear = tokens[-3]\n",
    "    fname_factor = f'calibration_factor_{monthyear}_{model_specs}_{modelid}.npy'\n",
    "    fname_stats = f'calibration_stats_{monthyear}_{model_specs}_{modelid}.pkl.npy'\n",
    "    return {'stats': fname_stats, 'factor': fname_factor}\n",
    "\n",
    "def get_calibration_factor_fname(ckpt_dir):\n",
    "    return get_calibration_fnames(ckpt_dir)['factor']\n",
    "\n",
    "def get_calibration_stats_fname(ckpt_dir):\n",
    "    return get_calibration_fnames(ckpt_dir)['stats']\n",
    "\n",
    "if enable_calibration:\n",
    "    inp, _ = val_dset[0]\n",
    "    plotsdir = get_plotoutput_dir(ckpt_dir, inp.shape[1], mmse_count=mmse_count)\n",
    "    fname = get_calibration_factor_fname(ckpt_dir)\n",
    "    factor_fpath = os.path.join(plotsdir, fname)\n",
    "    \n",
    "    if eval_datasplit_type == DataSplitType.Val:\n",
    "        epochs = 3000\n",
    "        lr = 5.0\n",
    "        calib_factor0, loss_arr0 = get_calibrated_factor_for_stdev(pred[...,0], np.log(pred_std[...,0]**2), tar_normalized[...,0], \n",
    "                                                        batch_size=8, lr=lr, epochs=epochs)\n",
    "        calib_factor1, loss_arr1 = get_calibrated_factor_for_stdev(pred[...,1], np.log(pred_std[...,1]**2), tar_normalized[...,1], \n",
    "                                                        batch_size=8, lr=lr, epochs=epochs)\n",
    "        print(calib_factor0, calib_factor1)\n",
    "        calib_factor = np.array([calib_factor0, calib_factor1]).reshape(1,1,1,2)\n",
    "        np.save(factor_fpath, calib_factor)\n",
    "        print(f'Saved calibration factor fitted on validation set to {factor_fpath}')\n",
    "\n",
    "    elif eval_datasplit_type == DataSplitType.Test:\n",
    "        print('Loading the calibration factor from the file', factor_fpath)\n",
    "        calib_factor = np.load(factor_fpath)\n",
    "\n",
    "    calib = Calibration(num_bins=30, mode='pixelwise')\n",
    "    stats = calib.compute_stats(pred, 2* np.log(pred_std * calib_factor), tar_normalized)\n",
    "\n",
    "    # plot the calibration and the loss\n",
    "    _,ax = plt.subplots(figsize=(15,5), ncols=3)\n",
    "    plot_calibration(ax[0], stats)\n",
    "    ax[1].plot(loss_arr0)\n",
    "    ax[2].plot(loss_arr1)\n",
    "    ax[1].set_yscale('log')\n",
    "    ax[2].set_yscale('log')\n",
    "    ax[0].set_title('Calibration')\n",
    "    ax[1].set_title('Calibration Loss Ch1')\n",
    "    ax[2].set_title('Calibration Loss Ch2')\n",
    "\n",
    "if eval_datasplit_type == DataSplitType.Test:\n",
    "    stats_fpath = os.path.join(plotsdir,get_calibration_stats_fname(ckpt_dir))\n",
    "    np.save(stats_fpath, stats)\n",
    "    print('Saved stats of Test set to ', stats_fpath)"
   ]
  },
  {
   "cell_type": "code",
   "execution_count": null,
   "id": "b7c1818b",
   "metadata": {},
   "outputs": [],
   "source": [
    "# from disentangle.core.tiff_reader import load_tiff\n",
    "# ch_idx = 4\n",
    "# df = load_tiff(f'/group/jug/ashesh/data/svilen_cshl2024/ctrl_LAMP1_s1234_o1_c1111/TIF_imp/20232010_LAMP1_s1234_o1_c{ch_idx}_002.msr.tif')\n",
    "# plt.imshow(df)"
   ]
  },
  {
   "cell_type": "code",
   "execution_count": null,
   "id": "c87f6184",
   "metadata": {},
   "outputs": [],
   "source": []
  },
  {
   "cell_type": "code",
   "execution_count": null,
   "id": "8a6c9bc2",
   "metadata": {},
   "outputs": [],
   "source": []
  },
  {
   "cell_type": "code",
   "execution_count": null,
   "id": "6ebeccd1",
   "metadata": {},
   "outputs": [],
   "source": [
    "!ls -lhrt /group/jug/ashesh/data/paper_figures/patch_64_mmse_10/calibration_stats*"
   ]
  },
  {
   "cell_type": "markdown",
   "id": "0e2794e3",
   "metadata": {},
   "source": [
    "### Calibration Plot"
   ]
  },
  {
   "cell_type": "code",
   "execution_count": null,
   "id": "8afb0b57",
   "metadata": {},
   "outputs": [],
   "source": [
    "from disentangle.analysis.paper_plots import get_first_index, get_last_index\n",
    "calib_factors = [np.load(os.path.join('/group/jug/ashesh/data/paper_figures/patch_64_mmse_10/',fpath), allow_pickle=True) for fpath in [\n",
    "                                                                 'calibration_stats_2404_D25M3S0L8_30.pkl.npy',\n",
    "                                                                 'calibration_stats_2404_D25M3S0L8_29.pkl.npy',\n",
    "                                                                 'calibration_stats_2404_D25M3S0L8_32.pkl.npy', \n",
    "                                                                 ]]\n",
    "labels = ['w=0.5', 'w=0.9', 'w=1']\n",
    "\n",
    "_,ax = plt.subplots(figsize=(5,2.5))\n",
    "for i, calibration_stats in enumerate(calib_factors):\n",
    "    first_idx = get_first_index(calibration_stats[()][0]['bin_count'], 0.0001)\n",
    "    last_idx = get_last_index(calibration_stats[()][0]['bin_count'], 0.9999)\n",
    "    ax.plot(calibration_stats[()][0]['rmv'][first_idx:-last_idx],\n",
    "            calibration_stats[()][0]['rmse'][first_idx:-last_idx],\n",
    "            '-+',\n",
    "            label=labels[i])\n",
    "\n",
    "ax.yaxis.grid(color='gray', linestyle='dashed')\n",
    "ax.xaxis.grid(color='gray', linestyle='dashed')\n",
    "ax.plot(np.arange(0,1.5, 0.01), np.arange(0,1.5, 0.01), 'k--')\n",
    "ax.set_facecolor('xkcd:light grey')\n",
    "plt.legend(loc='lower right')\n",
    "# plt.xlim(0,3)\n",
    "# plt.ylim(0,1.25)\n",
    "plt.xlabel('RMV')\n",
    "plt.ylabel('RMSE')\n",
    "ax.set_axisbelow(True)\n",
    "\n",
    "\n",
    "plotsdir = get_plotoutput_dir(ckpt_dir, 0, mmse_count=0)\n",
    "model_id = ckpt_dir.strip('/').split('/')[-1]\n",
    "fname = f'calibration_plot_{model_id}.png'\n",
    "fpath = os.path.join(plotsdir, fname)\n",
    "# plt.savefig(fpath, dpi=200, bbox_inches='tight')\n",
    "print(f'Saved to {fpath}')\n"
   ]
  },
  {
   "cell_type": "code",
   "execution_count": null,
   "id": "b2402048",
   "metadata": {},
   "outputs": [],
   "source": [
    "q_vals = [0.01, 0.1,0.5,0.9,0.95, 0.99,1]\n",
    "for i in range(tar_normalized.shape[-1]):\n",
    "    print(f'Channel {i}:', np.quantile(tar_normalized[...,i], q_vals).round(2))"
   ]
  },
  {
   "cell_type": "code",
   "execution_count": null,
   "id": "7fef4512",
   "metadata": {},
   "outputs": [],
   "source": [
    "# _,ax = plt.subplots(figsize=(6,6))\n",
    "# for i in range(tar.shape[-1]):\n",
    "#     sns.histplot(tar[:,::10,::10,i].reshape(-1,), color='g', label=f'{i}', kde=True)\n",
    "\n",
    "# plt.legend()"
   ]
  },
  {
   "cell_type": "code",
   "execution_count": null,
   "id": "cb572707",
   "metadata": {},
   "outputs": [],
   "source": [
    "# from disentangle.data_loader.schroff_rawdata_loader import mito_channel_fnames\n",
    "# from disentangle.core.tiff_reader import load_tiff\n",
    "# import seaborn as sns\n",
    "\n",
    "# fpaths = [os.path.join(datapath, x) for x in mito_channel_fnames()]\n",
    "# fpath = fpaths[0]\n",
    "# print(fpath)\n",
    "# img = load_tiff(fpaths[0])\n",
    "# temp = img.copy()\n",
    "# sns.histplot(temp[:,:,::10,::10].reshape(-1,))\n",
    "# plt.hist(temp[:,:,::10,::10].reshape(-1,),bins=100)"
   ]
  },
  {
   "cell_type": "code",
   "execution_count": null,
   "id": "191c0783",
   "metadata": {},
   "outputs": [],
   "source": [
    "val_dset._data.shape"
   ]
  },
  {
   "cell_type": "code",
   "execution_count": null,
   "id": "3c3fb2bd",
   "metadata": {},
   "outputs": [],
   "source": [
    "pred.shape"
   ]
  },
  {
   "cell_type": "code",
   "execution_count": null,
   "id": "24708c4c",
   "metadata": {},
   "outputs": [],
   "source": [
    "import matplotlib.patches as patches\n",
    "import matplotlib\n",
    "from disentangle.analysis.plot_error_utils import plot_error\n",
    "nrows = pred.shape[-1]\n",
    "img_sz = 3\n",
    "_,ax = plt.subplots(figsize=(4*img_sz,nrows*img_sz),ncols=4,nrows=nrows)\n",
    "idx = np.random.randint(len(pred))\n",
    "print(idx)\n",
    "for ch_id in range(nrows):\n",
    "  ax[ch_id,0].imshow(tar_normalized[idx,..., ch_id], cmap='magma')\n",
    "  ax[ch_id,1].imshow(pred[idx,:,:,ch_id], cmap='magma')\n",
    "  plot_error(tar_normalized[idx,...,ch_id], \n",
    "            pred[idx,:,:,ch_id], \n",
    "            cmap = matplotlib.cm.coolwarm, \n",
    "            ax = ax[ch_id,2], max_val = None)\n",
    "\n",
    "  cropsz = 256\n",
    "  h_s = np.random.randint(0, tar_normalized.shape[1] - cropsz)\n",
    "  h_e = h_s + cropsz\n",
    "  w_s = np.random.randint(0, tar_normalized.shape[2] - cropsz)\n",
    "  w_e = w_s + cropsz\n",
    "\n",
    "  plot_error(tar_normalized[idx,h_s:h_e,w_s:w_e, ch_id], \n",
    "            pred[idx,h_s:h_e,w_s:w_e,ch_id], \n",
    "            cmap = matplotlib.cm.coolwarm, \n",
    "            ax = ax[ch_id,3], max_val = None)\n",
    "\n",
    "  # Add rectangle to the region\n",
    "  rect = patches.Rectangle((w_s, h_s), w_e-w_s, h_e-h_s, linewidth=1, edgecolor='r', facecolor='none')\n",
    "  ax[ch_id,2].add_patch(rect)\n"
   ]
  },
  {
   "cell_type": "code",
   "execution_count": null,
   "id": "919db5ef",
   "metadata": {},
   "outputs": [],
   "source": [
    "# ch1_pred_unnorm = pred[...,0]*sep_std[...,0].cpu().numpy() + sep_mean[...,0].cpu().numpy()\n",
    "# ch2_pred_unnorm = pred[...,1]*sep_std[...,1].cpu().numpy() + sep_mean[...,1].cpu().numpy()\n",
    "pred_unnorm = []\n",
    "for i in range(pred.shape[-1]):\n",
    "    if sep_std.shape[-1]==1:\n",
    "        temp_pred_unnorm = pred[...,i]*sep_std[...,0] + sep_mean[...,0]\n",
    "    else:\n",
    "        temp_pred_unnorm = pred[...,i]*sep_std[...,i] + sep_mean[...,i]\n",
    "    pred_unnorm.append(temp_pred_unnorm)"
   ]
  },
  {
   "cell_type": "code",
   "execution_count": null,
   "id": "e8a6d04d",
   "metadata": {},
   "outputs": [],
   "source": [
    "tar.shape"
   ]
  },
  {
   "cell_type": "code",
   "execution_count": null,
   "id": "92a38955",
   "metadata": {},
   "outputs": [],
   "source": []
  },
  {
   "cell_type": "code",
   "execution_count": null,
   "id": "30b8b8be",
   "metadata": {},
   "outputs": [],
   "source": [
    "import matplotlib.patches as patches\n",
    "\n",
    "ncols = tar.shape[-1]\n",
    "imgsz = 4\n",
    "_,ax = plt.subplots(figsize=((1+ncols)*imgsz,2*imgsz),nrows=2,ncols=ncols + 1)\n",
    "img_idx = np.random.randint(len(tar))\n",
    "sz = 900\n",
    "hs = np.random.randint(tar.shape[1]-sz)\n",
    "ws = np.random.randint(tar.shape[2]-sz)\n",
    "print(img_idx, hs, ws)\n",
    "for i in range(ncols):\n",
    "    vmin = tar[img_idx,hs:hs+sz, ws:ws+sz ,i].min()\n",
    "    vmax = tar[img_idx,hs:hs+sz, ws:ws+sz ,i].max()\n",
    "    ax[0,i+1].imshow(tar[img_idx,hs:hs+sz, ws:ws+sz ,i], vmin=vmin, vmax=vmax)\n",
    "    ax[1,i+1].imshow(pred_unnorm[i][img_idx,hs:hs+sz, ws:ws+sz], vmin=vmin, vmax=vmax)\n",
    "\n",
    "if val_dset._input_idx is not None:\n",
    "    inp = val_dset._data[img_idx,...,val_dset._input_idx]\n",
    "else:\n",
    "    inp = np.mean(val_dset._data[img_idx,...], axis=-1)\n",
    "\n",
    "if val_dset._noise_data is not None:\n",
    "    inp += val_dset._noise_data[img_idx,...,0]\n",
    "    \n",
    "ax[0,0].imshow(inp)\n",
    "rect = patches.Rectangle((ws, hs), sz,sz, linewidth=2, edgecolor='r', facecolor='none')\n",
    "ax[0,0].add_patch(rect)\n",
    "\n",
    "ax[1,0].imshow(inp[hs:hs+sz, ws:ws+sz])\n",
    "plt.subplots_adjust(wspace=0.03, hspace=0.03)\n",
    "ax[0,0].set_title('Input')\n",
    "twinx = ax[0,-1].twinx()\n",
    "twinx.set_ylabel('Target')\n",
    "clean_ax(twinx)\n",
    "twinx = ax[1,-1].twinx()\n",
    "clean_ax(twinx)\n",
    "twinx.set_ylabel('Prediction')\n",
    "clean_ax(ax)\n"
   ]
  },
  {
   "cell_type": "code",
   "execution_count": null,
   "id": "b39f2ddb",
   "metadata": {},
   "outputs": [],
   "source": [
    "from disentangle.scripts.evaluate import get_highsnr_data\n",
    "highres_data = None\n",
    "highres_data = get_highsnr_data(config, data_dir, eval_datasplit_type)\n",
    "if highres_data is not None:\n",
    "    highres_data = ignore_pixels(highres_data).copy()\n",
    "    if data_t_list is not None:\n",
    "        highres_data = highres_data[data_t_list].copy()\n",
    "    \n",
    "    if 'target_idx_list' in config.data and config.data.target_idx_list is not None:\n",
    "        highres_data = highres_data[...,config.data.target_idx_list]\n"
   ]
  },
  {
   "cell_type": "code",
   "execution_count": null,
   "id": "4a0d4a8d",
   "metadata": {},
   "outputs": [],
   "source": [
    "from disentangle.scripts.evaluate import compute_high_snr_stats\n",
    "if highres_data is not None:\n",
    "    stats_dict = compute_high_snr_stats(config, highres_data, pred)\n"
   ]
  },
  {
   "cell_type": "code",
   "execution_count": null,
   "id": "0331514a",
   "metadata": {},
   "outputs": [],
   "source": [
    "break here"
   ]
  },
  {
   "cell_type": "code",
   "execution_count": null,
   "id": "1d75d6a1",
   "metadata": {},
   "outputs": [],
   "source": [
    "eps = 0.1\n",
    "if config.model.model_type == ModelType.DenoiserSplitter:\n",
    "    ch_idx = 0\n",
    "    def predict(inp):\n",
    "        inp = model.denoise_one_channel(inp, model._denoiser_input)\n",
    "        out = model(inp)[0]\n",
    "        return model.likelihood.distr_params(out)['mean'].cpu().numpy()\n",
    "\n",
    "    idx = np.random.randint(0, len(val_dset))\n",
    "    inp_tmp, tar_tmp = val_dset[idx]\n",
    "    h,w,t = val_dset.idx_manager.hwt_from_idx(idx)\n",
    "    h -= val_dset.per_side_overlap_pixelcount()\n",
    "    w -= val_dset.per_side_overlap_pixelcount()\n",
    "    print(idx)\n",
    "    inp_tmp = torch.Tensor(inp_tmp[None]).cuda()\n",
    "\n",
    "    with torch.no_grad():\n",
    "        clean_pred1 = predict(inp_tmp)\n",
    "        clean_pred2 = predict(inp_tmp)\n",
    "        clean_pred3 = predict(inp_tmp)\n",
    "        pred_mmse_arr = []\n",
    "        for _ in range(50):\n",
    "            clean_pred4 = predict(inp_tmp)\n",
    "            pred_mmse_arr.append(clean_pred4)\n",
    "        pred_mmse = np.mean(pred_mmse_arr, axis=0, keepdims=False)\n",
    "\n",
    "    _,ax = plt.subplots(ncols=6, figsize=(18,3))\n",
    "    ax[0].imshow(inp_tmp[0,0].cpu().numpy() ,cmap='magma')\n",
    "    ax[1].imshow(highres_data[t,h:h+256,w:w+256,ch_idx] , cmap='magma')\n",
    "    ax[2].imshow(clean_pred1[0,ch_idx], cmap='magma')\n",
    "    ax[3].imshow(clean_pred2[0,ch_idx], cmap='magma')\n",
    "    ax[4].imshow(pred_mmse[0,ch_idx], cmap='magma')\n",
    "    ax[5].imshow(np.std(pred_mmse_arr, axis=0, keepdims=False)[0,ch_idx]/(eps + np.abs(pred_mmse[0,ch_idx])), cmap='magma')\n",
    "    unnorm_temp_pred = (pred_mmse* data_std + data_mean)\n",
    "    minv = unnorm_temp_pred[0,ch_idx].min()\n",
    "    maxv = unnorm_temp_pred[0,ch_idx].max()\n",
    "    print(minv, maxv)"
   ]
  },
  {
   "cell_type": "code",
   "execution_count": null,
   "id": "13fc1983",
   "metadata": {},
   "outputs": [],
   "source": [
    "rmse_arr = []\n",
    "psnr_arr = []\n",
    "rinv_psnr_arr = []\n",
    "ssim_arr = []\n",
    "for ch_id in range(pred.shape[-1]):\n",
    "    rmse =np.sqrt(((pred[...,ch_id] - tar_normalized[...,ch_id])**2).reshape(len(pred),-1).mean(axis=1))\n",
    "    rmse_arr.append(rmse)\n",
    "    psnr = avg_psnr(tar_normalized[...,ch_id].copy(), pred[...,ch_id].copy()) \n",
    "    rinv_psnr = avg_range_inv_psnr(tar_normalized[...,ch_id].copy(), pred[...,ch_id].copy())\n",
    "    ssim_mean, ssim_std = avg_ssim(tar[...,ch_id], pred_unnorm[ch_id])\n",
    "    psnr_arr.append(psnr)\n",
    "    rinv_psnr_arr.append(rinv_psnr)\n",
    "    ssim_arr.append((ssim_mean,ssim_std))\n"
   ]
  },
  {
   "cell_type": "code",
   "execution_count": null,
   "id": "e87868b7",
   "metadata": {},
   "outputs": [],
   "source": [
    "print(f'{DataSplitType.name(eval_datasplit_type)}_P{custom_image_size}_G{image_size_for_grid_centers}_M{mmse_count}_Sk{ignored_last_pixels}')\n",
    "print('Rec Loss',np.round(rec_loss.mean(),3) )\n",
    "print('RMSE', '\\t'.join([str(np.mean(x).round(3)) for x in rmse_arr]))\n",
    "print('PSNR', '\\t'.join([str(x) for x in psnr_arr]))\n",
    "print('RangeInvPSNR','\\t'.join([str(x) for x in rinv_psnr_arr]))\n",
    "print('SSIM','\\t'.join([f'{round(x,3)}±{round(y,4)}' for (x,y) in ssim_arr]))\n",
    "print()"
   ]
  },
  {
   "cell_type": "code",
   "execution_count": null,
   "id": "73ba24ac",
   "metadata": {},
   "outputs": [],
   "source": [
    "if config.model.model_type == ModelType.LadderVaeSemiSupervised:\n",
    "    from disentangle.analysis.plot_utils import add_pixel_kde\n",
    "    inset_rect=[0.1,0.1,0.4,0.2]\n",
    "    min_labelsize = 15\n",
    "\n",
    "    nimgs=5\n",
    "    crp_sz = 400\n",
    "    img_sz = 8\n",
    "\n",
    "    _,ax = plt.subplots(figsize=(4*img_sz,img_sz*nimgs),ncols=5,nrows=nimgs)\n",
    "    clean_ax(ax[1:,])\n",
    "    clean_ax(ax[:,1:])\n",
    "    img_idx_list = np.random.permutation(np.arange(len(tar1)))[:nimgs] #[19,23,15,18,4] # \n",
    "    for ax_idx in range(nimgs):\n",
    "        img_idx = img_idx_list[ax_idx]\n",
    "        overlapping_pred = pred1[img_idx] + pred2[img_idx]\n",
    "        overlapping_min = min(tar1[img_idx].min(),overlapping_pred.min())\n",
    "        overlapping_max = max(tar1[img_idx].max(),overlapping_pred.max())\n",
    "\n",
    "        ax[ax_idx,0].imshow(tar1[img_idx])#,vmin=overlapping_min,vmax=overlapping_max)\n",
    "        ax[ax_idx,1].imshow(overlapping_pred)#,vmin=overlapping_min,vmax=overlapping_max)\n",
    "\n",
    "        ch1_min = tar2[img_idx].min()#,pred1[img_idx].min())\n",
    "        ch1_max = tar2[img_idx].max()#,pred1[img_idx].max())\n",
    "        ax[ax_idx,2].imshow(tar2[img_idx])#,vmin=ch1_min,vmax=ch1_max)\n",
    "        ax[ax_idx,3].imshow(pred1[img_idx])#,vmin=ch1_min,vmax=ch1_max)\n",
    "\n",
    "        ax[ax_idx,4].imshow(pred2[img_idx])\n",
    "        ax[ax_idx,0].set_ylabel(f'{img_idx}',fontsize=min_labelsize)\n",
    "\n",
    "        # add_pixel_kde(ax[ax_idx,1],\n",
    "        #               inset_rect,\n",
    "        #               tar1 [img_idx],\n",
    "        #               data2 =overlapping_pred,\n",
    "        #              min_labelsize=min_labelsize)\n",
    "        \n",
    "        # add_pixel_kde(ax[ax_idx,3],\n",
    "        #               inset_rect,\n",
    "        #               tar2 [img_idx],\n",
    "        #               data2 =pred1[img_idx],\n",
    "        #              min_labelsize=min_labelsize)\n",
    "        \n",
    "\n",
    "    ax[0,0].set_title('Inp')\n",
    "    ax[0,1].set_title('Recons')\n",
    "    ax[0,2].set_title('GT 1')\n",
    "    ax[0,3].set_title('Pred 1')\n",
    "    ax[0,4].set_title('Pred 2')\n",
    "\n",
    "#"
   ]
  },
  {
   "cell_type": "markdown",
   "id": "f19442f1",
   "metadata": {},
   "source": [
    "### To save to tiff file."
   ]
  },
  {
   "cell_type": "code",
   "execution_count": null,
   "id": "3a537930",
   "metadata": {},
   "outputs": [],
   "source": [
    "# ch1_pred_unnorm = pred[...,0]*sep_std[...,1].cpu().numpy() + sep_mean[...,1].cpu().numpy()\n",
    "# input_pred_unnorm = pred[...,2]*sep_std[...,0].cpu().numpy() + sep_mean[...,0].cpu().numpy()\n",
    "# ch2_pred_unnorm = input_pred_unnorm - ch1_pred_unnorm\n",
    "# ch2_pred_unnorm = pred[...,1]*sep_std[...,1].cpu().numpy() + sep_mean[...,1].cpu().numpy() #ch2_pred_unnorm - ch2_pred_unnorm.min()\n",
    "\n",
    "# ch1_pred_unnorm = ch1_pred_unnorm.astype(np.int32)\n",
    "# input_pred_unnorm = input_pred_unnorm.astype(np.int32)\n",
    "# ch2_pred_unnorm = ch2_pred_unnorm.astype(np.int32)\n",
    "\n",
    "# data = np.concatenate([val_dset._data[:,:480,:480], ch1_pred_unnorm[...,None],\n",
    "# ch2_pred_unnorm[...,None], input_pred_unnorm[...,None]],\n",
    "# axis=-1)\n",
    "\n",
    "# import tifffile\n",
    "# tifffile.imwrite(\"prediction2.tif\", \n",
    "# np.swapaxes(data[:,None],1,4)[...,0].astype(np.uint16),\n",
    "# imagej=True, \n",
    "# #  metadata={ 'axes': 'ZYXC'}, \n",
    "#  )"
   ]
  },
  {
   "cell_type": "code",
   "execution_count": null,
   "id": "b6e00983",
   "metadata": {},
   "outputs": [],
   "source": [
    "_, ax  = plt.subplots(figsize=(10,5),ncols=2)\n",
    "ax[0].imshow(highsnr_val_dset._data[0,:200,:200,0])\n",
    "ax[1].imshow(val_dset._data[0,:200,:200,0])\n",
    "highsnr_val_dset._data.shape"
   ]
  },
  {
   "cell_type": "code",
   "execution_count": null,
   "id": "ad02e8d3",
   "metadata": {},
   "outputs": [],
   "source": [
    "break here"
   ]
  },
  {
   "cell_type": "code",
   "execution_count": null,
   "id": "df298730",
   "metadata": {},
   "outputs": [],
   "source": []
  },
  {
   "cell_type": "code",
   "execution_count": null,
   "id": "d93db4c5",
   "metadata": {},
   "outputs": [],
   "source": []
  },
  {
   "cell_type": "code",
   "execution_count": null,
   "id": "b67c59da",
   "metadata": {},
   "outputs": [],
   "source": [
    "from disentangle.analysis.paper_plots import show_for_one\n",
    "# # show_for_one(np.random.randint(len(val_dset)), mmse_count=50, patch_size=256)\n",
    "# # show_for_one(899, mmse_count=50, patch_size=256)\n",
    "# # show_for_one(51, mmse_count=50, patch_size=256)\n",
    "# # # show_for_one(352, mmse_count=50, patch_size=256)\n",
    "# # show_for_one(872, mmse_count=50, patch_size=256)\n",
    "# # show_for_one(552, mmse_count=50, patch_size=256)\n",
    "# 656, 327, 612, 490\n",
    "# 51, 899, 352, 872, 552 ER vs Microtubules (144)\n",
    "# 716, 599, 173 CCP vs Microtubules (145)\n",
    "#  703, 189, 423 ER vs CCP (143)\n",
    "# 772, 694, 237. Adverse:630 F-actin vs Er \n",
    "idx = 716\n",
    "patch_size = 64\n",
    "mmse_count = 5\n",
    "print(idx)\n",
    "# fname = f'patch_comparison_{idx}.png'\n",
    "# show_for_one(idx, val_dset, highsnr_val_dset, model, None, mmse_count=mmse_count, patch_size=patch_size, baseline_preds=[\n",
    "#     get_crop_from_fulldset_prediction(hdn_usplitdata, idx).astype(np.float32),\n",
    "# ], num_samples=0)\n",
    "\n",
    "show_for_one(idx, val_dset, highsnr_val_dset, model, None, mmse_count=mmse_count, patch_size=patch_size, num_samples=2)\n",
    "\n",
    "plotsdir = get_plotoutput_dir(ckpt_dir, patch_size, mmse_count=mmse_count)\n",
    "model_id = ckpt_dir.strip('/').split('/')[-1]\n",
    "fname = f'sampling_figure_{idx}_{model_id}.png'\n",
    "fpath = os.path.join(plotsdir, fname)\n",
    "# plt.savefig(fpath, dpi=200, bbox_inches='tight')\n",
    "print(f'Saved to {fpath}')"
   ]
  },
  {
   "cell_type": "code",
   "execution_count": null,
   "id": "e2a75811",
   "metadata": {},
   "outputs": [],
   "source": [
    "break here"
   ]
  },
  {
   "cell_type": "code",
   "execution_count": null,
   "id": "441abaf6",
   "metadata": {},
   "outputs": [],
   "source": []
  },
  {
   "cell_type": "markdown",
   "id": "824ecf7e",
   "metadata": {},
   "source": [
    "## Creating tiff file"
   ]
  },
  {
   "cell_type": "code",
   "execution_count": null,
   "id": "de631db9",
   "metadata": {},
   "outputs": [],
   "source": [
    "from disentangle.analysis.paper_plots import get_plotoutput_dir, get_predictions\n",
    "patch_size = 256\n",
    "mmse_count = 50\n",
    "idx_list = [51, 899, 352, 872, 552, 841] # Tub vs MT\n",
    "\n",
    "\n",
    "plotsdir = get_plotoutput_dir(ckpt_dir, patch_size, mmse_count=mmse_count)\n",
    "for idx in idx_list:\n",
    "    inp, tar, tar_hsnr, recon_img_list = get_predictions(idx, val_dset, model, mmse_count=mmse_count, patch_size=patch_size)\n",
    "    highsnr_val_dset.set_img_sz(patch_size, 64)\n",
    "    highsnr_val_dset.disable_noise()\n",
    "    _, tar_hsnr = highsnr_val_dset[idx]\n",
    "    plotfpath = os.path.join(plotsdir, f'{idx}.npy')\n",
    "    np.save(plotfpath, {'inp':inp, 'tar':tar, 'tar_hsnr':tar_hsnr, 'recon_img_list':recon_img_list})\n",
    "    print(f'Generated {plotfpath}')"
   ]
  },
  {
   "cell_type": "code",
   "execution_count": null,
   "id": "a18e9b50",
   "metadata": {},
   "outputs": [],
   "source": [
    "ddict = np.load('/group/jug/ashesh/data/paper_figures/patch_256_mmse_50/2402-D16M3S0-150/841.npy', allow_pickle=True)\n",
    "plt.imshow(ddict[()]['inp'][0,0].cpu().numpy())"
   ]
  },
  {
   "cell_type": "code",
   "execution_count": null,
   "id": "98a0af0f",
   "metadata": {},
   "outputs": [],
   "source": [
    "plot_crops(ddict[()]['inp'], ddict[()]['tar'], ddict[()]['tar_hsnr'], ddict[()]['recon_img_list'])\n"
   ]
  },
  {
   "cell_type": "code",
   "execution_count": null,
   "id": "3b84bc45",
   "metadata": {},
   "outputs": [],
   "source": []
  },
  {
   "cell_type": "code",
   "execution_count": null,
   "id": "0465dd97",
   "metadata": {},
   "outputs": [],
   "source": [
    "from skimage.io import imsave\n",
    "import numpy as np\n",
    "pred_unnorm = np.concatenate([ch1_pred_unnorm[...,None],\n",
    "                              ch2_pred_unnorm[...,None]],\n",
    "                              axis=-1)\n",
    "for ch_idx in [0,1]:\n",
    "    tif_fname = f'{fname_prefix}_P{custom_image_size}_G{image_size_for_grid_centers}_M{mmse_count}_Sk{ignored_last_pixels}_C{ch_idx}.tif'\n",
    "    tif_fpath=os.path.join('paper_tifs',tif_fname)\n",
    "    if config.data.data_type in [DataType.CustomSinosoid, DataType.CustomSinosoidThreeCurve]:\n",
    "        output = np.concatenate([\n",
    "                            pred_unnorm[None,:50,...,ch_idx],tar[None,:50,...,ch_idx],\n",
    "        ],axis=0)\n",
    "    else:\n",
    "        output = np.concatenate([\n",
    "                                pred_unnorm[:1,...,ch_idx],tar[:1,...,ch_idx],\n",
    "        ],axis=0)\n",
    "    imsave(tif_fpath,output,plugin='tifffile')\n",
    "    print(tif_fpath)"
   ]
  },
  {
   "cell_type": "code",
   "execution_count": null,
   "id": "92a8d256",
   "metadata": {},
   "outputs": [],
   "source": [
    "! ls -lhrt paper_tifs/2211-D8M3S0-*"
   ]
  },
  {
   "cell_type": "code",
   "execution_count": null,
   "id": "f7a3da19",
   "metadata": {},
   "outputs": [],
   "source": [
    "# !ls paper_tifs/2211-D3M3S0-0_P64_G*"
   ]
  },
  {
   "cell_type": "code",
   "execution_count": null,
   "id": "a7b3c066",
   "metadata": {},
   "outputs": [],
   "source": [
    "idx = np.random.randint(len(val_dset))\n",
    "inp, tar = val_dset[idx]"
   ]
  },
  {
   "cell_type": "code",
   "execution_count": null,
   "id": "1c7b56b7",
   "metadata": {},
   "outputs": [],
   "source": [
    "if len(inp) > 1:\n",
    "    _,ax = plt.subplots(figsize=(10,2.5),ncols=4)\n",
    "    ax[0].imshow(inp[0])\n",
    "    ax[1].imshow(inp[1])\n",
    "    ax[2].imshow(inp[2])\n",
    "    ax[3].imshow(inp[3])"
   ]
  },
  {
   "cell_type": "code",
   "execution_count": null,
   "id": "f02d1078",
   "metadata": {},
   "outputs": [],
   "source": [
    "tar_unnorm.shape"
   ]
  },
  {
   "cell_type": "code",
   "execution_count": null,
   "id": "6b9fe5ce",
   "metadata": {},
   "outputs": [],
   "source": [
    "# _,ax = plt.subplots(figsize=(10,10))\n",
    "# tmp_data =tar_unnorm[idx,:,:,1]\n",
    "# q = np.quantile(tmp_data,0.95)\n",
    "# tmp_data[tmp_data >q] = q\n",
    "# plt.imshow(tmp_data)"
   ]
  },
  {
   "cell_type": "code",
   "execution_count": null,
   "id": "9f4d490b",
   "metadata": {},
   "outputs": [],
   "source": [
    "pred_unnorm.min()"
   ]
  },
  {
   "cell_type": "code",
   "execution_count": null,
   "id": "7d38fa69",
   "metadata": {},
   "outputs": [],
   "source": [
    "idx =  np.random.randint(len(tar_unnorm))\n",
    "print(idx)\n",
    "_,ax = plt.subplots(figsize=(20,20),ncols=2,nrows=2)\n",
    "ax[0,0].set_title('Channel 1',size=20)\n",
    "ax[0,1].set_title('Channel 2',size=20)\n",
    "ax[0,0].set_ylabel('Target',size=20)\n",
    "ax[1,0].set_ylabel('Predictions',size=20)\n",
    "ax[0,0].imshow(tar_unnorm[idx,:,:,0])\n",
    "ax[0,1].imshow(tar_unnorm[idx,:,:,1])\n",
    "ax[1,0].imshow(pred_unnorm[idx,:,:,0])\n",
    "ax[1,1].imshow(pred_unnorm[idx,:,:,1])"
   ]
  },
  {
   "cell_type": "code",
   "execution_count": null,
   "id": "79d4b581",
   "metadata": {},
   "outputs": [],
   "source": [
    "idx =  0#np.random.randint(len(tar_unnorm))\n",
    "print(idx)\n",
    "_,ax = plt.subplots(figsize=(20,30),ncols=2,nrows=3)\n",
    "ax[0,0].set_title('Target',size=20)\n",
    "ax[0,1].set_title('Prediction',size=20)\n",
    "ax[0,0].set_ylabel('Mixed Input',size=20)\n",
    "ax[1,0].set_ylabel('Channel 1',size=20)\n",
    "ax[2,0].set_ylabel('Channel 2',size=20)\n",
    "sz = 400\n",
    "ax[0,0].imshow(np.mean(tar_unnorm[idx, 1000:1000+sz,400:400+sz], axis=2))\n",
    "ax[0,1].imshow(np.mean(pred_unnorm[idx,1000:1000+sz,400:400+sz], axis=2))\n",
    "\n",
    "ax[1,0].imshow(tar_unnorm[idx, 1000:1000+sz,400:400+sz,0],vmax=126,vmin=88)\n",
    "ax[1,1].imshow(pred_unnorm[idx,1000:1000+sz,400:400+sz,0], vmax=126,vmin=88)\n",
    "\n",
    "ax[2,0].imshow(tar_unnorm[idx, 1000:1000+sz,400:400+sz,1],vmax=126,vmin=78)\n",
    "ax[2,1].imshow(pred_unnorm[idx,1000:1000+sz,400:400+sz,1],vmax=126,vmin=78)"
   ]
  },
  {
   "cell_type": "code",
   "execution_count": null,
   "id": "8c6c6d82",
   "metadata": {},
   "outputs": [],
   "source": [
    "tar_unnorm[idx, 1000:1500,400:900,0].std()"
   ]
  },
  {
   "cell_type": "code",
   "execution_count": null,
   "id": "2fa229c6",
   "metadata": {},
   "outputs": [],
   "source": [
    "pred_unnorm[idx,1000:1500,400:900,0].std()"
   ]
  },
  {
   "cell_type": "code",
   "execution_count": null,
   "id": "8285b5a8",
   "metadata": {},
   "outputs": [],
   "source": []
  },
  {
   "cell_type": "code",
   "execution_count": null,
   "id": "93f14602",
   "metadata": {},
   "outputs": [],
   "source": [
    "idx =  np.random.randint(len(tar_unnorm))\n",
    "print(idx)\n",
    "_,ax = plt.subplots(figsize=(20,30),ncols=2,nrows=3)\n",
    "ax[0,0].set_title('Target',size=20)\n",
    "ax[0,1].set_title('Prediction',size=20)\n",
    "ax[0,0].set_ylabel('Mixed Input',size=20)\n",
    "ax[1,0].set_ylabel('Channel 1',size=20)\n",
    "ax[2,0].set_ylabel('Channel 2',size=20)\n",
    "\n",
    "ax[0,0].imshow(np.mean(tar_unnorm[idx, 1000:1500,400:900], axis=2))\n",
    "ax[0,1].imshow(np.mean(pred_unnorm[idx,1000:1500,400:900], axis=2))\n",
    "\n",
    "ax[1,0].imshow(tar_unnorm[idx, 1000:1500,400:900,0])\n",
    "ax[1,1].imshow(pred_unnorm[idx,1000:1500,400:900,0])\n",
    "\n",
    "ax[2,0].imshow(tar_unnorm[idx, 1000:1500,400:900,1])\n",
    "ax[2,1].imshow(pred_unnorm[idx,1000:1500,400:900,1])"
   ]
  },
  {
   "cell_type": "code",
   "execution_count": null,
   "id": "b5306061",
   "metadata": {},
   "outputs": [],
   "source": [
    "break here"
   ]
  },
  {
   "cell_type": "markdown",
   "id": "e63fb49d",
   "metadata": {},
   "source": [
    "## Comparing PSNR with high res data. "
   ]
  },
  {
   "cell_type": "code",
   "execution_count": null,
   "id": "7fe03625",
   "metadata": {},
   "outputs": [],
   "source": [
    "from disentangle.core.data_split_type import  get_datasplit_tuples"
   ]
  },
  {
   "cell_type": "code",
   "execution_count": null,
   "id": "62ae1c2b",
   "metadata": {},
   "outputs": [],
   "source": [
    "if eval_datasplit_type == DataSplitType.Val:\n",
    "    N = len(pred1)/config.training.val_fraction\n",
    "elif eval_datasplit_type == DataSplitType.Test:\n",
    "    N = len(pred1)/config.training.test_fraction\n",
    "train_idx,val_idx,test_idx = get_datasplit_tuples(config.training.val_fraction,config.training.test_fraction,N,\n",
    "                                          starting_train=False)"
   ]
  },
  {
   "cell_type": "code",
   "execution_count": null,
   "id": "67bf4a4c",
   "metadata": {},
   "outputs": [],
   "source": [
    "from disentangle.core.tiff_reader import load_tiff"
   ]
  },
  {
   "cell_type": "code",
   "execution_count": null,
   "id": "b4a5c2d6",
   "metadata": {},
   "outputs": [],
   "source": [
    "highres_actin = load_tiff('/home/ashesh.ashesh/data/ventura_gigascience/actin-60x-noise2-highsnr.tif')[...,None]\n",
    "highres_mito = load_tiff('/home/ashesh.ashesh/data/ventura_gigascience/mito-60x-noise2-highsnr.tif')[...,None]\n",
    "\n",
    "if eval_datasplit_type == DataSplitType.Val:\n",
    "    highres_data = np.concatenate([highres_actin[val_idx[0]:val_idx[1]],\n",
    "                                   highres_mito[val_idx[0]:val_idx[1]]],\n",
    "                                  axis=-1).astype(np.float32)\n",
    "elif eval_datasplit_type == DataSplitType.Test:\n",
    "    highres_data = np.concatenate([highres_actin[test_idx[0]:test_idx[1]],\n",
    "                                   highres_mito[test_idx[0]:test_idx[1]]],\n",
    "                                  axis=-1).astype(np.float32)"
   ]
  },
  {
   "cell_type": "code",
   "execution_count": null,
   "id": "0d325d7b",
   "metadata": {},
   "outputs": [],
   "source": [
    "thresh = np.quantile(highres_data,config.data.clip_percentile)\n",
    "highres_data[highres_data > thresh]=thresh\n",
    "    "
   ]
  },
  {
   "cell_type": "code",
   "execution_count": null,
   "id": "8daa9662",
   "metadata": {},
   "outputs": [],
   "source": [
    "_,ax = plt.subplots(figsize=(8,8),ncols=2,nrows=2)\n",
    "ax[0,0].imshow(tar_unnorm[5,...,0])\n",
    "ax[0,1].imshow(highres_data[5,...,0])\n",
    "ax[1,0].imshow(tar_unnorm[8,...,1])\n",
    "ax[1,1].imshow(highres_data[8,...,1])\n"
   ]
  },
  {
   "cell_type": "code",
   "execution_count": null,
   "id": "b53ddb0e",
   "metadata": {},
   "outputs": [],
   "source": [
    "print('PSNR with HighRes', avg_psnr(highres_data[...,0], pred1),avg_psnr(highres_data[...,1], pred2))\n",
    "print('RangeInvPSNR with HighRes', avg_range_inv_psnr(highres_data[...,0], pred1), \n",
    "      avg_range_inv_psnr(highres_data[...,1], pred2))\n"
   ]
  },
  {
   "cell_type": "code",
   "execution_count": null,
   "id": "2ba9fbf7",
   "metadata": {},
   "outputs": [],
   "source": [
    "# RangeInvPSNR with HighRes 16.82 18.33\n"
   ]
  },
  {
   "cell_type": "code",
   "execution_count": null,
   "id": "cd49794d",
   "metadata": {},
   "outputs": [],
   "source": [
    "tar_1_tmp.dtype"
   ]
  },
  {
   "cell_type": "code",
   "execution_count": null,
   "id": "8537fa04",
   "metadata": {},
   "outputs": [],
   "source": [
    "from disentangle.core.psnr import fix_range, zero_mean\n",
    "def fix_range_with_highresdata(pred,tar):\n",
    "    pred_1_tmp = torch.Tensor(pred.reshape(len(pred),-1))\n",
    "    tar_1_tmp = torch.Tensor(tar.reshape(len(tar),-1))\n",
    "    pred_1_tmp = zero_mean(pred_1_tmp)\n",
    "    tar_1_tmp = zero_mean(tar_1_tmp)\n",
    "#     import pdb;pdb.set_trace()\n",
    "    tar_1_tmp = tar_1_tmp / torch.std(tar_1_tmp, dim=1, keepdim=True)\n",
    "    \n",
    "    pred_1_tmp = fix_range(tar_1_tmp,pred_1_tmp)\n",
    "    pred_1_tmp = pred_1_tmp.reshape_as(torch.Tensor(pred))\n",
    "    tar_1_tmp = tar_1_tmp.reshape_as(torch.Tensor(pred))\n",
    "    return pred_1_tmp, tar_1_tmp"
   ]
  },
  {
   "cell_type": "code",
   "execution_count": null,
   "id": "d3faaee3",
   "metadata": {},
   "outputs": [],
   "source": [
    "pred1_tmp, tar1_tmp = fix_range_with_highresdata(pred1, highres_data[...,0])\n",
    "pred2_tmp, tar2_tmp = fix_range_with_highresdata(pred2, highres_data[...,1])"
   ]
  },
  {
   "cell_type": "code",
   "execution_count": null,
   "id": "7076ff9c",
   "metadata": {},
   "outputs": [],
   "source": [
    "ssim1_mean, ssim1_std = avg_ssim(tar1_tmp.numpy(), pred1_tmp.numpy())\n",
    "ssim2_mean, ssim2_std = avg_ssim(tar2_tmp.numpy(), pred2_tmp.numpy())\n",
    "print(ssim1_mean, ssim2_mean)"
   ]
  },
  {
   "cell_type": "code",
   "execution_count": null,
   "id": "e6557f6b",
   "metadata": {},
   "outputs": [],
   "source": [
    "_,ax = plt.subplots(figsize=(8,4),ncols=2)\n",
    "ax[0].imshow(pred_1_tmp[0])\n",
    "ax[1].imshow(tar_1_tmp[0])\n"
   ]
  },
  {
   "cell_type": "code",
   "execution_count": null,
   "id": "0c40d383",
   "metadata": {},
   "outputs": [],
   "source": [
    "break here."
   ]
  },
  {
   "cell_type": "markdown",
   "id": "9f992749",
   "metadata": {},
   "source": [
    "## Inspecting the performance on grid boundaries.\n"
   ]
  },
  {
   "cell_type": "code",
   "execution_count": null,
   "id": "945a258f",
   "metadata": {},
   "outputs": [],
   "source": [
    "from disentangle.analysis.stitch_prediction import stitched_prediction_mask\n",
    "\n",
    "\n",
    "skip_boundary_pixel_count = 0\n",
    "for sk_c in [1,16,32,48,56]:\n",
    "    mask = stitched_prediction_mask(val_dset, \n",
    "                                (val_dset._img_sz,val_dset._img_sz), \n",
    "                                skip_boundary_pixel_count, \n",
    "                                sk_c)\n",
    "    mask = ignore_pixels(mask)\n",
    "    psnr1, psnr2 = compute_masked_psnr(mask, tar1,tar2,pred1,pred2)\n",
    "    print(f'[Pad:{val_dset.per_side_overlap_pixelcount()}] SkipCentral', sk_c,\n",
    "          psnr1,psnr2)"
   ]
  },
  {
   "cell_type": "code",
   "execution_count": null,
   "id": "a265d0bb",
   "metadata": {},
   "outputs": [],
   "source": [
    "plt.imshow(mask[0,:,:,0])"
   ]
  },
  {
   "cell_type": "markdown",
   "id": "5c7c325b",
   "metadata": {},
   "source": [
    "## Inspecting the performance on central regions"
   ]
  },
  {
   "cell_type": "code",
   "execution_count": null,
   "id": "36c6b110",
   "metadata": {},
   "outputs": [],
   "source": [
    "skip_central_pixel_count = 0\n",
    "\n",
    "for sk_b in [1,8,16,20,24]:\n",
    "    mask = stitched_prediction_mask(val_dset, \n",
    "                                (val_dset._img_sz,val_dset._img_sz), \n",
    "                                sk_b, \n",
    "                                skip_central_pixel_count)\n",
    "    mask = ignore_pixels(mask)\n",
    "    psnr1, psnr2 = compute_masked_psnr(mask, tar1,tar2,pred1,pred2)\n",
    "    print(f'[Pad:{val_dset.per_side_overlap_pixelcount()}] SkipBoundary', sk_b, psnr1,psnr2)"
   ]
  },
  {
   "cell_type": "code",
   "execution_count": null,
   "id": "2d87cd57",
   "metadata": {},
   "outputs": [],
   "source": [
    "plt.imshow(mask[0,:,:,0])"
   ]
  },
  {
   "cell_type": "code",
   "execution_count": null,
   "id": "212d5536",
   "metadata": {},
   "outputs": [],
   "source": [
    "# for w in range(2,202,25):\n",
    "#     print(f'RangeInvPSNR but skipping {w}', avg_range_inv_psnr(np.copy(tar1[:,w:-w,w:-w]), \n",
    "#                                                                np.copy(pred1[:,w:-w,w:-w])),\n",
    "    \n",
    "#                                             avg_range_inv_psnr(np.copy(tar2[:,w:-w,w:-w]), \n",
    "#                                                                np.copy(pred2[:,w:-w,w:-w]).copy()))"
   ]
  },
  {
   "cell_type": "code",
   "execution_count": null,
   "id": "dff40aad",
   "metadata": {},
   "outputs": [],
   "source": []
  },
  {
   "cell_type": "code",
   "execution_count": null,
   "id": "79275615",
   "metadata": {},
   "outputs": [],
   "source": [
    "h = 1200\n",
    "w = 1200\n",
    "sz = 512\n",
    "x = tar_unnorm[:1,h:h+sz,w:w+sz].mean(axis=3)"
   ]
  },
  {
   "cell_type": "code",
   "execution_count": null,
   "id": "de600304",
   "metadata": {},
   "outputs": [],
   "source": [
    "p_count = 32\n",
    "y1 = np.pad(x,np.array([[0, 0], [p_count, p_count], [p_count, p_count]]))\n",
    "y2 = np.pad(x,np.array([[0, 0], [p_count, p_count], [p_count, p_count]]), constant_values=237)\n",
    "y3 = np.pad(x,np.array([[0, 0], [p_count, p_count], [p_count, p_count]]), mode='linear_ramp', end_values=237)\n",
    "y4 = np.pad(x,np.array([[0, 0], [p_count, p_count], [p_count, p_count]]),mode='reflect')\n"
   ]
  },
  {
   "cell_type": "code",
   "execution_count": null,
   "id": "ae212914",
   "metadata": {},
   "outputs": [],
   "source": [
    "np.quantile(x, [0,0.05, 0.1])"
   ]
  },
  {
   "cell_type": "code",
   "execution_count": null,
   "id": "9cdf5c95",
   "metadata": {},
   "outputs": [],
   "source": [
    "_,ax = plt.subplots(figsize=(16,4),ncols=4)\n",
    "ax[0].imshow(y1[0], )\n",
    "ax[1].imshow(y2[0], )\n",
    "ax[2].imshow(y3[0], )\n",
    "ax[3].imshow(y4[0], )"
   ]
  },
  {
   "cell_type": "code",
   "execution_count": null,
   "id": "60a7a758",
   "metadata": {},
   "outputs": [],
   "source": [
    "_,ax = plt.subplots(figsize=(20,5),ncols=2)\n",
    "sns.histplot(tar_unnorm[0,:,:,0].reshape(-1,),ax=ax[0])\n",
    "sns.histplot(tar_unnorm[0,:,:,1].reshape(-1,),ax=ax[1])"
   ]
  },
  {
   "cell_type": "code",
   "execution_count": null,
   "id": "29d967c9",
   "metadata": {},
   "outputs": [],
   "source": [
    "_,ax = plt.subplots(figsize=(20,5),ncols=2)\n",
    "sns.histplot(tar_unnorm[-1,:,:,0].reshape(-1,),ax=ax[0])\n",
    "sns.histplot(tar_unnorm[-1,:,:,1].reshape(-1,),ax=ax[1])"
   ]
  },
  {
   "cell_type": "code",
   "execution_count": null,
   "id": "ff0c91ac",
   "metadata": {},
   "outputs": [],
   "source": [
    "_,ax = plt.subplots(figsize=(20,5),ncols=2)\n",
    "sns.histplot(pred_unnorm[0,:,:,0].reshape(-1,),ax=ax[0])\n",
    "sns.histplot(pred_unnorm[0,:,:,1].reshape(-1,),ax=ax[1])"
   ]
  },
  {
   "cell_type": "code",
   "execution_count": null,
   "id": "104bbfb4",
   "metadata": {},
   "outputs": [],
   "source": [
    "import matplotlib.ticker as ticker\n",
    "# import seaborn.apionly as sns\n",
    "\n",
    "_,ax = plt.subplots(figsize=(20,4))\n",
    "sns.histplot(tar_unnorm[-1,:,:].mean(axis=2).reshape(-1,))\n",
    "ax.xaxis.set_major_locator(ticker.MultipleLocator(25))\n",
    "ax.xaxis.set_major_formatter(ticker.ScalarFormatter())"
   ]
  },
  {
   "cell_type": "code",
   "execution_count": null,
   "id": "30034a7b",
   "metadata": {},
   "outputs": [],
   "source": [
    "tar_unnorm[-1,:,:].shape"
   ]
  },
  {
   "cell_type": "code",
   "execution_count": null,
   "id": "0057b73e",
   "metadata": {},
   "outputs": [],
   "source": [
    "# inp, tar = val_dset[11060]"
   ]
  },
  {
   "cell_type": "code",
   "execution_count": null,
   "id": "01ed9ed7",
   "metadata": {},
   "outputs": [],
   "source": [
    "# _,ax = plt.subplots(figsize=(16,4),ncols=4)\n",
    "# ax[0].imshow(inp[0])\n",
    "# ax[1].imshow(inp[1])\n",
    "# ax[2].imshow(inp[2])\n",
    "# ax[3].imshow(inp[3])"
   ]
  },
  {
   "cell_type": "code",
   "execution_count": null,
   "id": "4b65aeae",
   "metadata": {},
   "outputs": [],
   "source": [
    "# _,ax = plt.subplots(figsize=(8,4),ncols=2)\n",
    "# ax[0].imshow(tar[0])\n",
    "# ax[1].imshow(tar[1])"
   ]
  },
  {
   "cell_type": "markdown",
   "id": "950f3b3a",
   "metadata": {},
   "source": [
    "## Inspecting the difference in behaviour when different sized inputs are passed. "
   ]
  },
  {
   "cell_type": "code",
   "execution_count": null,
   "id": "eb42adc1",
   "metadata": {},
   "outputs": [],
   "source": [
    "import seaborn as sns\n",
    "def compute_centered_diff(big,small):\n",
    "    pad = (big.shape[-1] - small.shape[-1])//2\n",
    "#     import pdb;pdb.set_trace()\n",
    "    return big[:,:,pad:-pad,pad:-pad] - small\n",
    " \n",
    "old_img_sz = val_dset.get_img_sz()\n",
    "val_dset.set_img_sz(128)\n",
    "inp2, tar2 = val_dset[10000]\n",
    "with torch.no_grad():\n",
    "    bu_values2 = model.bottomup_pass(torch.Tensor(inp2[None]).cuda())\n",
    "\n",
    "val_dset.set_img_sz(256)\n",
    "inp3, tar3 = val_dset[10000]\n",
    "with torch.no_grad():\n",
    "    bu_values3 = model.bottomup_pass(torch.Tensor(inp3[None]).cuda())\n",
    "\n",
    "diff = (bu_values2[0] - bu_values3[0][:,:,32:-32,32:-32]).cpu().numpy()\n",
    "sns.histplot(diff.reshape(-1,))\n",
    "\n",
    "##LOOKING AT bu_values\n",
    "idx=1\n",
    "diff = compute_centered_diff(bu_values3[idx],bu_values2[idx]).cpu().numpy()\n",
    "_,ax =plt.subplots(figsize=(10,10))\n",
    "sns.heatmap(diff[0,0])\n",
    "\n",
    "## Looking at the difference in prediction.\n",
    "with torch.no_grad():\n",
    "    out2,_ = model(torch.Tensor(inp2[None,]).cuda())\n",
    "    out3,_ = model(torch.Tensor(inp3[None,]).cuda())\n",
    "    img2 = get_img_from_forward_output(out3,model)\n",
    "    img3 = get_img_from_forward_output(out2,model)\n",
    "diff = compute_centered_diff(img2,img3)\n",
    "_,ax =plt.subplots(figsize=(10,10))\n",
    "sns.heatmap(diff[0,1].cpu().numpy())\n",
    "val_dset.set_img_sz(old_img_sz)\n"
   ]
  },
  {
   "cell_type": "code",
   "execution_count": null,
   "id": "5c561780",
   "metadata": {},
   "outputs": [],
   "source": [
    "from disentangle.core.tiff_reader import load_tiff"
   ]
  },
  {
   "cell_type": "code",
   "execution_count": null,
   "id": "489b52dd",
   "metadata": {},
   "outputs": [],
   "source": [
    "img = load_tiff('/home/ashesh.ashesh/data/ventura_gigascience/actin-60x-noise2-highsnr.tif')"
   ]
  },
  {
   "cell_type": "code",
   "execution_count": null,
   "id": "a3d1b606",
   "metadata": {},
   "outputs": [],
   "source": [
    "img.shape"
   ]
  },
  {
   "cell_type": "code",
   "execution_count": null,
   "id": "f6f5fb2c",
   "metadata": {},
   "outputs": [],
   "source": [
    "_,ax = plt.subplots(figsize=(20,5),ncols=4)\n",
    "ax[0].imshow(img[0])\n",
    "ax[1].imshow(img[1])\n",
    "ax[2].imshow(img[2])\n",
    "ax[3].imshow(img[3])"
   ]
  },
  {
   "cell_type": "code",
   "execution_count": null,
   "id": "0eea97dc",
   "metadata": {},
   "outputs": [],
   "source": [
    "img2 =load_tiff('/home/ashesh.ashesh/data/microscopy/OptiMEM100x014.tif')"
   ]
  },
  {
   "cell_type": "code",
   "execution_count": null,
   "id": "70d1399c",
   "metadata": {},
   "outputs": [],
   "source": [
    "img2.shape"
   ]
  },
  {
   "cell_type": "code",
   "execution_count": null,
   "id": "b9b01f2c",
   "metadata": {},
   "outputs": [],
   "source": [
    "_,ax = plt.subplots(figsize=(20,5),ncols=4)\n",
    "ax[0].imshow(img2[0,...,0])\n",
    "ax[1].imshow(img2[1,...,0])\n",
    "ax[2].imshow(img2[2,...,0])\n",
    "ax[3].imshow(img2[3,...,0])"
   ]
  },
  {
   "cell_type": "markdown",
   "id": "d11536e0",
   "metadata": {},
   "source": [
    "###### "
   ]
  },
  {
   "cell_type": "code",
   "execution_count": null,
   "id": "f497f314",
   "metadata": {},
   "outputs": [],
   "source": [
    "inp, tar = val_dset[0]"
   ]
  },
  {
   "cell_type": "code",
   "execution_count": null,
   "id": "7a37d3fe",
   "metadata": {},
   "outputs": [],
   "source": [
    "inp.shape"
   ]
  },
  {
   "cell_type": "code",
   "execution_count": null,
   "id": "551123e4",
   "metadata": {},
   "outputs": [],
   "source": [
    "# _,ax = plt.subplots(figsize=(3,3))\n",
    "plt.imshow(tar[0])"
   ]
  },
  {
   "cell_type": "code",
   "execution_count": null,
   "id": "d0b01d1d",
   "metadata": {},
   "outputs": [],
   "source": [
    "plt.imshow(inp[0])"
   ]
  },
  {
   "cell_type": "code",
   "execution_count": null,
   "id": "bf517837",
   "metadata": {},
   "outputs": [],
   "source": [
    "(0.436+0.810)/2"
   ]
  }
 ],
 "metadata": {
  "kernelspec": {
   "display_name": "usplit",
   "language": "python",
   "name": "python3"
  },
  "language_info": {
   "codemirror_mode": {
    "name": "ipython",
    "version": 3
   },
   "file_extension": ".py",
   "mimetype": "text/x-python",
   "name": "python",
   "nbconvert_exporter": "python",
   "pygments_lexer": "ipython3",
   "version": "3.9.19"
  },
  "vscode": {
   "interpreter": {
    "hash": "e959a19f8af3b4149ff22eb57702a46c14a8caae5a2647a6be0b1f60abdfa4c2"
   }
  }
 },
 "nbformat": 4,
 "nbformat_minor": 5
}
