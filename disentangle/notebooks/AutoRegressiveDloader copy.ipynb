{
 "cells": [
  {
   "cell_type": "code",
   "execution_count": 1,
   "id": "4fdffbc7",
   "metadata": {},
   "outputs": [],
   "source": [
    "%config Completer.use_jedi = False"
   ]
  },
  {
   "cell_type": "code",
   "execution_count": 2,
   "id": "8115aecc",
   "metadata": {},
   "outputs": [],
   "source": [
    "import matplotlib.pyplot as plt\n",
    "import numpy as np\n",
    "epoch = 0\n",
    "tr = np.load(f'/home/ashesh.ashesh/code/Disentangle/train_{epoch}.npy')\n",
    "val = np.load(f'/home/ashesh.ashesh/code/Disentangle/val_{epoch}.npy')\n",
    "\n",
    "tr_gt = np.load(f'/home/ashesh.ashesh/code/Disentangle/train_gt_{epoch}.npy')\n",
    "val_gt = np.load(f'/home/ashesh.ashesh/code/Disentangle/val_gt_{epoch}.npy')"
   ]
  },
  {
   "cell_type": "code",
   "execution_count": null,
   "id": "b6f66755",
   "metadata": {},
   "outputs": [],
   "source": []
  },
  {
   "cell_type": "code",
   "execution_count": 3,
   "id": "75b2a596",
   "metadata": {},
   "outputs": [],
   "source": [
    "# ch_idx = 1\n",
    "# ex_idx = 15\n",
    "# _,ax = plt.subplots(figsize=(18,6),ncols=6, nrows=2)\n",
    "# for i in range(6):\n",
    "#     ax[0,i].imshow(tr_nbrs[ex_idx,i,ch_idx], vmin = tr_nbrs[ex_idx,:,ch_idx].min(), vmax = tr_nbrs[ex_idx,:,ch_idx].max())\n",
    "#     ax[1,i].imshow(val_nbrs[ex_idx,i,ch_idx], vmin = val_nbrs[ex_idx,:,ch_idx].min(), vmax = val_nbrs[ex_idx,:,ch_idx].max())"
   ]
  },
  {
   "cell_type": "code",
   "execution_count": null,
   "id": "8b3f3abb",
   "metadata": {},
   "outputs": [],
   "source": []
  },
  {
   "cell_type": "code",
   "execution_count": 4,
   "id": "1ea081a3",
   "metadata": {},
   "outputs": [
    {
     "name": "stderr",
     "output_type": "stream",
     "text": [
      "/home/ashesh.ashesh/mambaforge/envs/usplit/lib/python3.9/site-packages/tqdm/auto.py:21: TqdmWarning: IProgress not found. Please update jupyter and ipywidgets. See https://ipywidgets.readthedocs.io/en/stable/user_install.html\n",
      "  from .autonotebook import tqdm as notebook_tqdm\n"
     ]
    }
   ],
   "source": [
    "import random\n",
    "\n",
    "import numpy as np\n",
    "import torch\n",
    "import pickle\n",
    "import ml_collections\n",
    "import glob\n",
    "import torch\n",
    "from torch.utils.data import DataLoader\n",
    "import torch.nn as nn\n",
    "\n",
    "from tqdm import tqdm\n",
    "import numpy as np\n",
    "import matplotlib.pyplot as plt\n",
    "from disentangle.config_utils import load_config\n",
    "from disentangle.analysis.lvae_utils import get_img_from_forward_output\n",
    "from disentangle.analysis.plot_utils import clean_ax\n",
    "from disentangle.core.data_type import DataType\n",
    "from disentangle.core.data_split_type import DataSplitType\n",
    "\n",
    "from disentangle.analysis.plot_utils import get_k_largest_indices,plot_imgs_from_idx\n",
    "from disentangle.analysis.critic_notebook_utils import get_mmse_dict, get_label_separated_loss\n",
    "from disentangle.core.psnr import PSNR, RangeInvariantPsnr\n",
    "\n",
    "torch.multiprocessing.set_sharing_strategy('file_system')\n",
    "\n",
    "\n",
    "def fix_seeds():\n",
    "    torch.manual_seed(0)\n",
    "    torch.cuda.manual_seed(0)\n",
    "    np.random.seed(0)\n",
    "    random.seed(0)\n",
    "    torch.backends.cudnn.deterministic = True\n",
    "\n",
    "fix_seeds()"
   ]
  },
  {
   "cell_type": "code",
   "execution_count": 5,
   "id": "0b237569",
   "metadata": {
    "slideshow": {
     "slide_type": "skip"
    }
   },
   "outputs": [
    {
     "name": "stdout",
     "output_type": "stream",
     "text": [
      "Loading /group/jug/ashesh/data/microscopy/OptiMEM100x014_small.tif with Channels 2,3,datasplit mode:Train\n",
      "> \u001b[0;32m/home/ashesh.ashesh/code/Disentangle/disentangle/data_loader/patch_index_manager.py\u001b[0m(46)\u001b[0;36m__call__\u001b[0;34m()\u001b[0m\n",
      "\u001b[0;32m     44 \u001b[0;31m            \u001b[0mself\u001b[0m\u001b[0;34m.\u001b[0m\u001b[0m__train_instance\u001b[0m \u001b[0;34m=\u001b[0m \u001b[0msuper\u001b[0m\u001b[0;34m(\u001b[0m\u001b[0;34m)\u001b[0m\u001b[0;34m.\u001b[0m\u001b[0m__call__\u001b[0m\u001b[0;34m(\u001b[0m\u001b[0;34m*\u001b[0m\u001b[0margs\u001b[0m\u001b[0;34m,\u001b[0m \u001b[0;34m**\u001b[0m\u001b[0mkwargs\u001b[0m\u001b[0;34m)\u001b[0m\u001b[0;34m\u001b[0m\u001b[0;34m\u001b[0m\u001b[0m\n",
      "\u001b[0m\u001b[0;32m     45 \u001b[0;31m            \u001b[0;32mimport\u001b[0m \u001b[0mpdb\u001b[0m\u001b[0;34m;\u001b[0m\u001b[0mpdb\u001b[0m\u001b[0;34m.\u001b[0m\u001b[0mset_trace\u001b[0m\u001b[0;34m(\u001b[0m\u001b[0;34m)\u001b[0m\u001b[0;34m\u001b[0m\u001b[0;34m\u001b[0m\u001b[0m\n",
      "\u001b[0m\u001b[0;32m---> 46 \u001b[0;31m            \u001b[0;32mreturn\u001b[0m \u001b[0mself\u001b[0m\u001b[0;34m.\u001b[0m\u001b[0m__train_instance\u001b[0m\u001b[0;34m\u001b[0m\u001b[0;34m\u001b[0m\u001b[0m\n",
      "\u001b[0m\u001b[0;32m     47 \u001b[0;31m        \u001b[0;32melif\u001b[0m \u001b[0;34m'set_val_instance'\u001b[0m \u001b[0;32min\u001b[0m \u001b[0mkwargs\u001b[0m \u001b[0;32mand\u001b[0m \u001b[0mkwargs\u001b[0m\u001b[0;34m[\u001b[0m\u001b[0;34m'set_val_instance'\u001b[0m\u001b[0;34m]\u001b[0m \u001b[0;32mis\u001b[0m \u001b[0;32mTrue\u001b[0m\u001b[0;34m:\u001b[0m\u001b[0;34m\u001b[0m\u001b[0;34m\u001b[0m\u001b[0m\n",
      "\u001b[0m\u001b[0;32m     48 \u001b[0;31m            \u001b[0;32massert\u001b[0m \u001b[0mself\u001b[0m\u001b[0;34m.\u001b[0m\u001b[0m__val_instance\u001b[0m \u001b[0;32mis\u001b[0m \u001b[0;32mNone\u001b[0m\u001b[0;34m,\u001b[0m \u001b[0;34m\"Val instance is already created.\"\u001b[0m\u001b[0;34m\u001b[0m\u001b[0;34m\u001b[0m\u001b[0m\n",
      "\u001b[0m\n",
      "[MultiChDeterministicTiffDloader] Sz:64 Train:1 N:4 NumPatchPerN:64 NormInp:True SingleNorm:True Rot:False RandCrop:False Q:0.995 SummedInput:False ReplaceWithRandSample:False BckQ:0.0\n"
     ]
    }
   ],
   "source": [
    "# from disentangle.configs.customdata_lvae_config import get_config\n",
    "# from disentangle.configs.twotiff_config import get_config\n",
    "# data_dir = '/group/jug/damian/data_for_Ashesh/'\n",
    "from disentangle.configs.autoregressive_config import get_config\n",
    "from disentangle.data_loader.patch_index_manager import GridAlignement\n",
    "from disentangle.data_loader.multi_channel_determ_tiff_dloader import MultiChDeterministicTiffDloader\n",
    "from disentangle.core.data_split_type import DataSplitType\n",
    "\n",
    "data_path = '/group/jug/ashesh/data/microscopy/OptiMEM100x014_medium.tif'\n",
    "config = get_config()\n",
    "padding_kwargs = {'mode': config.data.padding_mode}\n",
    "if 'padding_value' in config.data and config.data.padding_value is not None:\n",
    "    padding_kwargs['constant_values'] = config.data.padding_value\n",
    "\n",
    "train_dset = MultiChDeterministicTiffDloader(config.data,\n",
    "                                        data_path,\n",
    "                                        DataSplitType.Train,\n",
    "                                        val_fraction=config.training.val_fraction,\n",
    "                                        test_fraction=config.training.test_fraction,\n",
    "                                        normalized_input=config.data.normalized_input,\n",
    "                                        enable_rotation_aug=False,\n",
    "                                        enable_random_cropping=config.data.deterministic_grid is False,\n",
    "                                        use_one_mu_std=config.data.use_one_mu_std,\n",
    "                                        allow_generation=False,\n",
    "                                        max_val=None,\n",
    "                                        grid_alignment=GridAlignement.Center,\n",
    "                                        overlapping_padding_kwargs=padding_kwargs)\n",
    "\n",
    "\n",
    "mean, std = train_dset.compute_mean_std()\n",
    "train_dset.set_mean_std(mean, std)\n",
    "\n",
    "\n"
   ]
  },
  {
   "cell_type": "code",
   "execution_count": 6,
   "id": "c8555064",
   "metadata": {},
   "outputs": [],
   "source": [
    "inp, target, idx, grid = train_dset[(0,1)]"
   ]
  },
  {
   "cell_type": "code",
   "execution_count": 7,
   "id": "43978b29",
   "metadata": {},
   "outputs": [],
   "source": [
    "from disentangle.analysis.plot_utils import clean_ax\n",
    "batch_idx = 0 \n",
    "tr_nbrs = np.load(f'/home/ashesh.ashesh/code/Disentangle/nbrs_train_{epoch}_{batch_idx}.npy')\n",
    "tr_nbrs = tr_nbrs.reshape(tr_nbrs.shape[0], 6,2, tr_nbrs.shape[-2], tr_nbrs.shape[-1])\n",
    "tr_idx = np.load(f'/home/ashesh.ashesh/code/Disentangle/nbrs_trainindices_{epoch}_{batch_idx}.npy')\n",
    "\n",
    "val_nbrs = np.load(f'/home/ashesh.ashesh/code/Disentangle/nbrs_val_{epoch}_{batch_idx}.npy')\n",
    "val_nbrs = val_nbrs.reshape(val_nbrs.shape[0], 6,2, val_nbrs.shape[-2], val_nbrs.shape[-1])\n",
    "val_idx = np.load(f'/home/ashesh.ashesh/code/Disentangle/nbrs_valindices_{epoch}_{batch_idx}.npy')\n",
    "\n",
    "\n",
    "\n",
    "# top,bottom,left,right"
   ]
  },
  {
   "cell_type": "code",
   "execution_count": 13,
   "id": "14d0f29c",
   "metadata": {},
   "outputs": [
    {
     "data": {
      "text/plain": [
       "array([ 8580349,  8559971, 10275373,  4304429,  4309155, 12829647,\n",
       "        6864955,  2595318,  2601583,  4306017,  5997856,  6869677,\n",
       "        7721101,  9420795,  6852448, 11125232])"
      ]
     },
     "execution_count": 13,
     "metadata": {},
     "output_type": "execute_result"
    }
   ],
   "source": [
    "tr_idx"
   ]
  },
  {
   "cell_type": "code",
   "execution_count": 17,
   "id": "2566e813",
   "metadata": {},
   "outputs": [
    {
     "data": {
      "text/plain": [
       "8580349"
      ]
     },
     "execution_count": 17,
     "metadata": {},
     "output_type": "execute_result"
    }
   ],
   "source": [
    "tr_idx[ex_idx]"
   ]
  },
  {
   "cell_type": "code",
   "execution_count": null,
   "id": "7b0ed27e",
   "metadata": {},
   "outputs": [],
   "source": []
  },
  {
   "cell_type": "code",
   "execution_count": 16,
   "id": "f0f96fe4",
   "metadata": {},
   "outputs": [
    {
     "ename": "AssertionError",
     "evalue": "",
     "output_type": "error",
     "traceback": [
      "\u001b[0;31m---------------------------------------------------------------------------\u001b[0m",
      "\u001b[0;31mAssertionError\u001b[0m                            Traceback (most recent call last)",
      "Cell \u001b[0;32mIn[16], line 1\u001b[0m\n\u001b[0;32m----> 1\u001b[0m _, act_tar, \u001b[39m*\u001b[39m_ \u001b[39m=\u001b[39m train_dset[(tr_idx[ex_idx],\u001b[39m1\u001b[39;49m)]\n\u001b[1;32m      2\u001b[0m plt\u001b[39m.\u001b[39mimshow(act_tar[ch_idx])\n",
      "File \u001b[0;32m~/code/Disentangle/disentangle/data_loader/multi_channel_determ_tiff_dloader.py:494\u001b[0m, in \u001b[0;36mMultiChDeterministicTiffDloader.__getitem__\u001b[0;34m(self, index)\u001b[0m\n\u001b[1;32m    493\u001b[0m \u001b[39mdef\u001b[39;00m \u001b[39m__getitem__\u001b[39m(\u001b[39mself\u001b[39m, index: Union[\u001b[39mint\u001b[39m, Tuple[\u001b[39mint\u001b[39m, \u001b[39mint\u001b[39m]]) \u001b[39m-\u001b[39m\u001b[39m>\u001b[39m Tuple[np\u001b[39m.\u001b[39mndarray, np\u001b[39m.\u001b[39mndarray]:\n\u001b[0;32m--> 494\u001b[0m     img_tuples \u001b[39m=\u001b[39m \u001b[39mself\u001b[39;49m\u001b[39m.\u001b[39;49m_get_img(index)\n\u001b[1;32m    495\u001b[0m     \u001b[39mif\u001b[39;00m \u001b[39mself\u001b[39m\u001b[39m.\u001b[39m_empty_patch_replacement_enabled:\n\u001b[1;32m    496\u001b[0m         \u001b[39mif\u001b[39;00m np\u001b[39m.\u001b[39mrandom\u001b[39m.\u001b[39mrand() \u001b[39m<\u001b[39m \u001b[39mself\u001b[39m\u001b[39m.\u001b[39m_empty_patch_replacement_probab:\n",
      "File \u001b[0;32m~/code/Disentangle/disentangle/data_loader/multi_channel_determ_tiff_dloader.py:450\u001b[0m, in \u001b[0;36mMultiChDeterministicTiffDloader._get_img\u001b[0;34m(self, index)\u001b[0m\n\u001b[1;32m    445\u001b[0m \u001b[39m\"\"\"\u001b[39;00m\n\u001b[1;32m    446\u001b[0m \u001b[39mLoads an image.\u001b[39;00m\n\u001b[1;32m    447\u001b[0m \u001b[39mCrops the image such that cropped image has content.\u001b[39;00m\n\u001b[1;32m    448\u001b[0m \u001b[39m\"\"\"\u001b[39;00m\n\u001b[1;32m    449\u001b[0m img_tuples \u001b[39m=\u001b[39m \u001b[39mself\u001b[39m\u001b[39m.\u001b[39m_load_img(index)\n\u001b[0;32m--> 450\u001b[0m cropped_img_tuples \u001b[39m=\u001b[39m \u001b[39mself\u001b[39;49m\u001b[39m.\u001b[39;49m_crop_imgs(index, \u001b[39m*\u001b[39;49mimg_tuples)[:\u001b[39m-\u001b[39m\u001b[39m1\u001b[39m]\n\u001b[1;32m    451\u001b[0m \u001b[39mreturn\u001b[39;00m cropped_img_tuples\n",
      "File \u001b[0;32m~/code/Disentangle/disentangle/data_loader/multi_channel_determ_tiff_dloader.py:256\u001b[0m, in \u001b[0;36mMultiChDeterministicTiffDloader._crop_imgs\u001b[0;34m(self, index, *img_tuples)\u001b[0m\n\u001b[1;32m    254\u001b[0m cropped_imgs \u001b[39m=\u001b[39m []\n\u001b[1;32m    255\u001b[0m \u001b[39mfor\u001b[39;00m img \u001b[39min\u001b[39;00m img_tuples:\n\u001b[0;32m--> 256\u001b[0m     img \u001b[39m=\u001b[39m \u001b[39mself\u001b[39;49m\u001b[39m.\u001b[39;49m_crop_flip_img(img, h_start, w_start, \u001b[39mFalse\u001b[39;49;00m, \u001b[39mFalse\u001b[39;49;00m)\n\u001b[1;32m    257\u001b[0m     cropped_imgs\u001b[39m.\u001b[39mappend(img)\n\u001b[1;32m    259\u001b[0m \u001b[39mreturn\u001b[39;00m (\u001b[39m*\u001b[39m\u001b[39mtuple\u001b[39m(cropped_imgs), {\n\u001b[1;32m    260\u001b[0m     \u001b[39m'\u001b[39m\u001b[39mh\u001b[39m\u001b[39m'\u001b[39m: [h_start, h_start \u001b[39m+\u001b[39m \u001b[39mself\u001b[39m\u001b[39m.\u001b[39m_img_sz],\n\u001b[1;32m    261\u001b[0m     \u001b[39m'\u001b[39m\u001b[39mw\u001b[39m\u001b[39m'\u001b[39m: [w_start, w_start \u001b[39m+\u001b[39m \u001b[39mself\u001b[39m\u001b[39m.\u001b[39m_img_sz],\n\u001b[1;32m    262\u001b[0m     \u001b[39m'\u001b[39m\u001b[39mhflip\u001b[39m\u001b[39m'\u001b[39m: \u001b[39mFalse\u001b[39;00m,\n\u001b[1;32m    263\u001b[0m     \u001b[39m'\u001b[39m\u001b[39mwflip\u001b[39m\u001b[39m'\u001b[39m: \u001b[39mFalse\u001b[39;00m,\n\u001b[1;32m    264\u001b[0m })\n",
      "File \u001b[0;32m~/code/Disentangle/disentangle/data_loader/multi_channel_determ_tiff_dloader.py:319\u001b[0m, in \u001b[0;36mMultiChDeterministicTiffDloader._crop_flip_img\u001b[0;34m(self, img, h_start, w_start, h_flip, w_flip)\u001b[0m\n\u001b[1;32m    318\u001b[0m \u001b[39mdef\u001b[39;00m \u001b[39m_crop_flip_img\u001b[39m(\u001b[39mself\u001b[39m, img: np\u001b[39m.\u001b[39mndarray, h_start: \u001b[39mint\u001b[39m, w_start: \u001b[39mint\u001b[39m, h_flip: \u001b[39mbool\u001b[39m, w_flip: \u001b[39mbool\u001b[39m):\n\u001b[0;32m--> 319\u001b[0m     new_img \u001b[39m=\u001b[39m \u001b[39mself\u001b[39;49m\u001b[39m.\u001b[39;49m_crop_img(img, h_start, w_start)\n\u001b[1;32m    320\u001b[0m     \u001b[39mif\u001b[39;00m h_flip:\n\u001b[1;32m    321\u001b[0m         new_img \u001b[39m=\u001b[39m new_img[\u001b[39m.\u001b[39m\u001b[39m.\u001b[39m\u001b[39m.\u001b[39m, ::\u001b[39m-\u001b[39m\u001b[39m1\u001b[39m, :]\n",
      "File \u001b[0;32m~/code/Disentangle/disentangle/data_loader/multi_channel_determ_tiff_dloader.py:276\u001b[0m, in \u001b[0;36mMultiChDeterministicTiffDloader._crop_img\u001b[0;34m(self, img, h_start, w_start)\u001b[0m\n\u001b[1;32m    272\u001b[0m     \u001b[39mreturn\u001b[39;00m new_img\n\u001b[1;32m    273\u001b[0m \u001b[39melif\u001b[39;00m \u001b[39mself\u001b[39m\u001b[39m.\u001b[39m_grid_alignment \u001b[39m==\u001b[39m GridAlignement\u001b[39m.\u001b[39mCenter:\n\u001b[1;32m    274\u001b[0m     \u001b[39m# During evaluation, this is used. In this situation, we can have negative h_start, w_start. Or h_start +self._img_sz can be larger than frame\u001b[39;00m\n\u001b[1;32m    275\u001b[0m     \u001b[39m# In these situations, we need some sort of padding. This is not needed  in the LeftTop alignement.\u001b[39;00m\n\u001b[0;32m--> 276\u001b[0m     \u001b[39mreturn\u001b[39;00m \u001b[39mself\u001b[39;49m\u001b[39m.\u001b[39;49m_crop_img_with_padding(img, h_start, w_start)\n",
      "File \u001b[0;32m~/code/Disentangle/disentangle/data_loader/multi_channel_determ_tiff_dloader.py:297\u001b[0m, in \u001b[0;36mMultiChDeterministicTiffDloader._crop_img_with_padding\u001b[0;34m(self, img, h_start, w_start)\u001b[0m\n\u001b[1;32m    294\u001b[0m h_on_boundary \u001b[39m=\u001b[39m \u001b[39mself\u001b[39m\u001b[39m.\u001b[39mon_boundary(h_start, H)\n\u001b[1;32m    295\u001b[0m w_on_boundary \u001b[39m=\u001b[39m \u001b[39mself\u001b[39m\u001b[39m.\u001b[39mon_boundary(w_start, W)\n\u001b[0;32m--> 297\u001b[0m \u001b[39massert\u001b[39;00m h_start \u001b[39m<\u001b[39m H\n\u001b[1;32m    298\u001b[0m \u001b[39massert\u001b[39;00m w_start \u001b[39m<\u001b[39m W\n\u001b[1;32m    300\u001b[0m \u001b[39massert\u001b[39;00m h_start \u001b[39m+\u001b[39m \u001b[39mself\u001b[39m\u001b[39m.\u001b[39m_img_sz \u001b[39m<\u001b[39m\u001b[39m=\u001b[39m H \u001b[39mor\u001b[39;00m h_on_boundary\n",
      "\u001b[0;31mAssertionError\u001b[0m: "
     ]
    }
   ],
   "source": [
    "_, act_tar, *_ = train_dset[(tr_idx[ex_idx],1)]\n",
    "plt.imshow(act_tar[ch_idx])"
   ]
  },
  {
   "cell_type": "code",
   "execution_count": 14,
   "id": "833e4425",
   "metadata": {},
   "outputs": [
    {
     "data": {
      "image/png": "[encoded data removed]",
      "text/plain": [
       "<Figure size 900x900 with 9 Axes>"
      ]
     },
     "metadata": {},
     "output_type": "display_data"
    }
   ],
   "source": [
    "ch_idx = 1\n",
    "ex_idx = 0\n",
    "\n",
    "_,ax =plt.subplots(figsize=(9,9),ncols=3,nrows=3)\n",
    "vmin = tr_nbrs[ex_idx,:,ch_idx].min() \n",
    "vmax = tr_nbrs[ex_idx,:,ch_idx].max()\n",
    "ax[1,1].imshow(tr_nbrs[ex_idx,0,ch_idx], vmin = vmin, vmax = vmax)\n",
    "ax[0,1].imshow(tr_nbrs[ex_idx,2,ch_idx], vmin = vmin, vmax = vmax)\n",
    "ax[2,1].imshow(tr_nbrs[ex_idx,3,ch_idx], vmin = vmin, vmax = vmax)\n",
    "ax[1,0].imshow(tr_nbrs[ex_idx,4,ch_idx], vmin = vmin, vmax = vmax)\n",
    "ax[1,2].imshow(tr_nbrs[ex_idx,5,ch_idx], vmin = vmin, vmax = vmax)\n",
    "clean_ax(ax)\n",
    "for oneax in ax.reshape(-1,):\n",
    "    oneax.spines[\"top\"].set_visible(False)\n",
    "    oneax.spines[\"right\"].set_visible(False)\n",
    "    oneax.spines[\"bottom\"].set_visible(False)\n",
    "    oneax.spines[\"left\"].set_visible(False)\n",
    "plt.subplots_adjust(wspace=0, hspace=0)\n"
   ]
  },
  {
   "cell_type": "code",
   "execution_count": 9,
   "id": "a1e37bbc",
   "metadata": {},
   "outputs": [
    {
     "data": {
      "image/png": "[encoded data removed]",
      "text/plain": [
       "<Figure size 900x900 with 9 Axes>"
      ]
     },
     "metadata": {},
     "output_type": "display_data"
    }
   ],
   "source": [
    "ch_idx = 0\n",
    "ex_idx = 0\n",
    "\n",
    "_,ax =plt.subplots(figsize=(9,9),ncols=3,nrows=3)\n",
    "vmin = val_nbrs[ex_idx,:,ch_idx].min() \n",
    "vmax = val_nbrs[ex_idx,:,ch_idx].max()\n",
    "ax[1,1].imshow(val_nbrs[ex_idx,1,ch_idx], vmin = vmin, vmax = vmax)\n",
    "ax[0,1].imshow(val_nbrs[ex_idx,2,ch_idx], vmin = vmin, vmax = vmax)\n",
    "ax[2,1].imshow(val_nbrs[ex_idx,3,ch_idx], vmin = vmin, vmax = vmax)\n",
    "ax[1,0].imshow(val_nbrs[ex_idx,4,ch_idx], vmin = vmin, vmax = vmax)\n",
    "ax[1,2].imshow(val_nbrs[ex_idx,5,ch_idx], vmin = vmin, vmax = vmax)\n",
    "clean_ax(ax)\n",
    "for oneax in ax.reshape(-1,):\n",
    "    oneax.spines[\"top\"].set_visible(False)\n",
    "    oneax.spines[\"right\"].set_visible(False)\n",
    "    oneax.spines[\"bottom\"].set_visible(False)\n",
    "    oneax.spines[\"left\"].set_visible(False)\n",
    "plt.subplots_adjust(wspace=0, hspace=0)\n",
    "\n",
    "\n",
    "# top,bottom,left,right"
   ]
  },
  {
   "cell_type": "code",
   "execution_count": 10,
   "id": "6e9fe964",
   "metadata": {},
   "outputs": [],
   "source": [
    "# _,ax = plt.subplots(figsize=(10,15), ncols=2, nrows=3)\n",
    "\n",
    "# ax[0,0].imshow(tr[0,0])\n",
    "# ax[0,1].imshow(tr_gt[0,0])\n",
    "\n",
    "# ax[1,0].imshow(tr[3,0])\n",
    "# ax[1,1].imshow(tr_gt[3,0])\n",
    "\n",
    "# ax[2,0].imshow(val[0,0])\n",
    "# ax[2,1].imshow(val_gt[0,0])"
   ]
  }
 ],
 "metadata": {
  "kernelspec": {
   "display_name": "usplit",
   "language": "python",
   "name": "python3"
  },
  "language_info": {
   "codemirror_mode": {
    "name": "ipython",
    "version": 3
   },
   "file_extension": ".py",
   "mimetype": "text/x-python",
   "name": "python",
   "nbconvert_exporter": "python",
   "pygments_lexer": "ipython3",
   "version": "3.9.18"
  },
  "vscode": {
   "interpreter": {
    "hash": "e959a19f8af3b4149ff22eb57702a46c14a8caae5a2647a6be0b1f60abdfa4c2"
   }
  }
 },
 "nbformat": 4,
 "nbformat_minor": 5
}
