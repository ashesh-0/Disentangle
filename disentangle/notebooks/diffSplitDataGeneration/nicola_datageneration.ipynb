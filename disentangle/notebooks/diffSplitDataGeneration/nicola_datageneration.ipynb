{
 "cells": [
  {
   "cell_type": "code",
   "execution_count": null,
   "metadata": {},
   "outputs": [],
   "source": [
    "import matplotlib.pyplot as plt\n",
    "\n",
    "from disentangle.configs.nikola_7D_config import get_config\n",
    "from disentangle.data_loader.nikola_7D_rawdata_loader import NikolaChannelList, get_train_val_data\n",
    "from disentangle.core.data_split_type import DataSplitType\n",
    "\n",
    "config = get_config()\n",
    "config.data.dset_type = '5ms'  # high, mid, low, verylow\n",
    "config.data.channel_idx_list = [NikolaChannelList.Ch_B, NikolaChannelList.Ch_D, NikolaChannelList.Ch_BD]\n",
    "datasplit_type = DataSplitType.Train\n",
    "config.data.enable_gaussian_noise = False\n",
    "datadir = '/group/jug/ashesh/data/nikola_data/20240531/'\n",
    "data = get_train_val_data(datadir, config.data, datasplit_type,\n",
    "                            config.training.val_fraction, config.training.test_fraction)\n"
   ]
  },
  {
   "cell_type": "code",
   "execution_count": null,
   "metadata": {},
   "outputs": [],
   "source": [
    "import matplotlib.pyplot as plt\n",
    "_,ax = plt.subplots(figsize=(18,6),ncols=3)\n",
    "ax[0].imshow(data[0,:400,300:700,0])\n",
    "ax[1].imshow(data[0,:400,300:700,1])\n",
    "ax[2].imshow(data[0,:400,300:700,2])"
   ]
  },
  {
   "cell_type": "code",
   "execution_count": null,
   "metadata": {},
   "outputs": [],
   "source": [
    "import os\n",
    "outputroot = '/group/jug/ashesh/data/diffsplit_nicola'\n",
    "outputdir = os.path.join(outputroot,config.data.dset_type)\n",
    "tasksubdir = '-'.join(map(lambda x: NikolaChannelList.name(x), config.data.channel_idx_list))\n",
    "taskoutputdir = os.path.join(outputdir, tasksubdir)\n",
    "print(taskoutputdir)\n",
    "if datasplit_type == DataSplitType.Train:\n",
    "    taskoutputdir = os.path.join(taskoutputdir, 'train')\n",
    "elif datasplit_type == DataSplitType.Val:\n",
    "    taskoutputdir = os.path.join(taskoutputdir, 'val')\n",
    "elif datasplit_type == DataSplitType.Test:\n",
    "    taskoutputdir = os.path.join(taskoutputdir, 'test')\n",
    "print(taskoutputdir)\n",
    "os.makedirs(taskoutputdir, exist_ok=True)\n",
    "\n",
    "fname = f'{os.path.basename(taskoutputdir)}_{config.data.dset_type}_{tasksubdir}.tif'\n",
    "outputfpath = os.path.join(taskoutputdir, fname)\n",
    "print(outputfpath)\n"
   ]
  },
  {
   "cell_type": "code",
   "execution_count": null,
   "metadata": {},
   "outputs": [],
   "source": [
    "from disentangle.core.tiff_reader import save_tiff\n",
    "save_tiff(outputfpath, data)\n",
    "print(f'Saved to {outputfpath}')"
   ]
  },
  {
   "cell_type": "code",
   "execution_count": null,
   "metadata": {},
   "outputs": [],
   "source": [
    "data.shape"
   ]
  },
  {
   "cell_type": "code",
   "execution_count": null,
   "metadata": {},
   "outputs": [],
   "source": []
  }
 ],
 "metadata": {
  "kernelspec": {
   "display_name": "Python 3",
   "language": "python",
   "name": "python3"
  },
  "language_info": {
   "codemirror_mode": {
    "name": "ipython",
    "version": 3
   },
   "file_extension": ".py",
   "mimetype": "text/x-python",
   "name": "python",
   "nbconvert_exporter": "python",
   "pygments_lexer": "ipython3",
   "version": "3.9.19"
  }
 },
 "nbformat": 4,
 "nbformat_minor": 2
}
