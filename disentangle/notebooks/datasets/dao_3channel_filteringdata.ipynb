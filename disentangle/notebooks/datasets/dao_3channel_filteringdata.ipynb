{
 "cells": [
  {
   "cell_type": "code",
   "execution_count": null,
   "metadata": {},
   "outputs": [],
   "source": [
    "from disentangle.data_loader.raw_mrc_dloader import get_mrc_data\n",
    "import os"
   ]
  },
  {
   "cell_type": "code",
   "execution_count": null,
   "metadata": {},
   "outputs": [],
   "source": [
    "good_data_positions = sorted([21,24,34,55,56,57,65,73,81,86,96,100,107,108,109,110,111,112,113,114,\n",
    "                118,125,126,135,153,157,159,160,164,165,167,169,174,175,176,177,183,185,\n",
    "                190,196,198,199,200,204,209,217,219,221,242,243,244,252,255,256,257,258,259,261])\n",
    "\n",
    "normal_data_positions = sorted([22,23,26,29,30,32,40,41,44,45,46,47,52,53,54,58,60,62,63,64,66,70,71,72,74,75,\n",
    "                  78,79,90,91,92,93,94,95,97,99,104,105,122,123,124,127,130,131,133,136,138,139,\n",
    "                  140,141,142,143,144,147,151,152,154,155,156,158,161,162,163,166,170,171,172,173,\n",
    "                  178,179,182,186,189,190,191,192,193,195,197,201,202,203,205,206,207,208,210,212,\n",
    "                  213,215,216,218,220,222,223,224,225,226,227,230,231,232,233,234,235,236,237,238,\n",
    "                  239,240,241,245,246,248,249,250,251,253,254,260,262,263]\n",
    "                )\n",
    "\n",
    "datadir = '/group/jug/ashesh/data/Dao3Channel/'\n",
    "outputdir = '/group/jug/ashesh/data/Dao3ChannelReduced/'\n",
    "\n",
    "fpath1 ='SIM1-100.tif'\n",
    "fpath2 = 'SIM101-200.tif'\n",
    "fpath3 = 'SIM201-263.tif'\n",
    "\n",
    "def get_fpath(index):\n",
    "    if index <=100:\n",
    "        return os.path.join(datadir, fpath1)\n",
    "    elif index <=200:\n",
    "        return os.path.join(datadir, fpath2)\n",
    "    elif index <=263:\n",
    "        return os.path.join(datadir, fpath3)\n",
    "    else:\n",
    "        raise ValueError(f'Index out of range {index}')\n",
    "    "
   ]
  },
  {
   "cell_type": "code",
   "execution_count": null,
   "metadata": {},
   "outputs": [],
   "source": [
    "from disentangle.core.tiff_reader import load_tiff, save_tiff\n",
    "import numpy as np\n",
    "\n",
    "def load_data(fpath_list):\n",
    "    assert len(set(fpath_list)) ==1\n",
    "    fpath = fpath_list[0]\n",
    "    return load_tiff(fpath)\n",
    "\n",
    "def filter_data(data, indices):\n",
    "    output_data = []\n",
    "    for i in indices:\n",
    "        if i > 100 and i <= 200:\n",
    "            i -= 100\n",
    "        elif i > 200 and i <= 263:\n",
    "            i -= 200\n",
    "        assert i > 0\n",
    "        output_data.append(data[i-1:i])\n",
    "    return np.concatenate(output_data, axis=0)\n",
    "\n",
    "def save_data(fpath, data):\n",
    "    save_tiff(fpath,data)\n",
    "\n",
    "def dump_data(fpath_list, recent_indices, outputdir):\n",
    "    data = load_data(fpath_list)\n",
    "    low,high = os.path.basename(fpath_list[0]).split('.')[0][3:].split('-')\n",
    "    low, high = int(low), int(high)\n",
    "    assert low <= min(recent_indices)\n",
    "    assert high >= max(recent_indices)\n",
    "    \n",
    "    data = filter_data(data, recent_indices)\n",
    "    print(data.shape)\n",
    "    fname = os.path.basename(fpath_list[-1])\n",
    "    fpath = os.path.join(outputdir, f'reduced_{fname}')\n",
    "    print('Saving to ', fpath)\n",
    "    save_data(fpath,data)\n",
    "\n",
    "# fpath_list = []\n",
    "# recent_indices = []\n",
    "# for i in good_data_positions:\n",
    "#     fpath = get_fpath(i)\n",
    "#     if len(fpath_list) > 0 and fpath_list[-1] != fpath:\n",
    "#         print(set(fpath_list), len(fpath_list))\n",
    "#         dump_data(fpath_list, recent_indices, outputdir)\n",
    "#         fpath_list = []\n",
    "#         recent_indices = []\n",
    "\n",
    "#     fpath_list.append(fpath)\n",
    "#     recent_indices.append(i)\n",
    "\n",
    "\n",
    "# print(set(fpath_list), len(fpath_list))\n",
    "# dump_data(fpath_list, recent_indices, outputdir)\n"
   ]
  },
  {
   "cell_type": "code",
   "execution_count": null,
   "metadata": {},
   "outputs": [],
   "source": [
    "print(set(fpath_list), len(fpath_list))\n",
    "dump_data(fpath_list, recent_indices, datadir)"
   ]
  },
  {
   "cell_type": "code",
   "execution_count": null,
   "metadata": {},
   "outputs": [],
   "source": [
    "!ls -lhrt /group/jug/ashesh/data/Dao3ChannelReduced/"
   ]
  }
 ],
 "metadata": {
  "kernelspec": {
   "display_name": "usplit",
   "language": "python",
   "name": "python3"
  },
  "language_info": {
   "codemirror_mode": {
    "name": "ipython",
    "version": 3
   },
   "file_extension": ".py",
   "mimetype": "text/x-python",
   "name": "python",
   "nbconvert_exporter": "python",
   "pygments_lexer": "ipython3",
   "version": "3.9.18"
  },
  "vscode": {
   "interpreter": {
    "hash": "e959a19f8af3b4149ff22eb57702a46c14a8caae5a2647a6be0b1f60abdfa4c2"
   }
  }
 },
 "nbformat": 4,
 "nbformat_minor": 2
}
