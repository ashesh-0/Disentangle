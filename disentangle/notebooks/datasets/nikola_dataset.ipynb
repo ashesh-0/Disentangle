{
 "cells": [
  {
   "cell_type": "code",
   "execution_count": null,
   "metadata": {},
   "outputs": [],
   "source": [
    "from IPython.display import display, HTML\n",
    "display(HTML(\"<style>.container { width:100% !important; }</style>\"))"
   ]
  },
  {
   "cell_type": "code",
   "execution_count": null,
   "metadata": {},
   "outputs": [],
   "source": [
    "from nis2pyr.reader import read_nd2file"
   ]
  },
  {
   "cell_type": "code",
   "execution_count": null,
   "metadata": {},
   "outputs": [],
   "source": [
    "import nd2\n",
    "with nd2.ND2File('/group/jug/ashesh/data/nikola_data/raw/uSplit_14022025_midSNR.nd2') as nd2file:\n",
    "    data = read_nd2file(nd2file)"
   ]
  },
  {
   "cell_type": "code",
   "execution_count": null,
   "metadata": {},
   "outputs": [],
   "source": [
    "data.shape"
   ]
  },
  {
   "cell_type": "code",
   "execution_count": null,
   "metadata": {},
   "outputs": [],
   "source": [
    "# data = data[0,:,0,...,0]\n",
    "# ch0 = data[:,0]\n",
    "# ch1 = data[:,1]\n",
    "# ch2 = data[:,2]\n",
    "# ch3 = data[:,3]\n",
    "# from disentangle.core.tiff_reader import save_tiff\n",
    "# path = '/group/jug/ashesh/data/nikola_denoising_input/uSplit_14022025_midSNR_channel3.tif'\n",
    "# save_tiff(path, ch3)"
   ]
  },
  {
   "cell_type": "code",
   "execution_count": null,
   "metadata": {},
   "outputs": [],
   "source": [
    "from disentangle.data_loader.nikola_7D_rawdata_loader import load_one_fpath\n",
    "data = load_one_fpath('/group/jug/ashesh/data/nikola_data/raw/uSplit_14022025_midSNR.nd2', [0,1,2,3])"
   ]
  },
  {
   "cell_type": "code",
   "execution_count": null,
   "metadata": {},
   "outputs": [],
   "source": [
    "plt.imshow(data[0,600:1000,600:1000,3])"
   ]
  },
  {
   "cell_type": "code",
   "execution_count": null,
   "metadata": {},
   "outputs": [],
   "source": [
    "# 1,2,3"
   ]
  }
 ],
 "metadata": {
  "kernelspec": {
   "display_name": "Python 3",
   "language": "python",
   "name": "python3"
  },
  "language_info": {
   "codemirror_mode": {
    "name": "ipython",
    "version": 3
   },
   "file_extension": ".py",
   "mimetype": "text/x-python",
   "name": "python",
   "nbconvert_exporter": "python",
   "pygments_lexer": "ipython3",
   "version": "3.9.19"
  }
 },
 "nbformat": 4,
 "nbformat_minor": 2
}
