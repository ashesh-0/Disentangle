{
 "cells": [
  {
   "cell_type": "code",
   "execution_count": null,
   "metadata": {},
   "outputs": [],
   "source": [
    "from IPython.display import display, HTML\n",
    "display(HTML(\"<style>.container { width:100% !important; }</style>\"))"
   ]
  },
  {
   "cell_type": "code",
   "execution_count": null,
   "metadata": {},
   "outputs": [],
   "source": [
    "from nis2pyr.reader import read_nd2file"
   ]
  },
  {
   "cell_type": "code",
   "execution_count": null,
   "metadata": {},
   "outputs": [],
   "source": [
    "import nd2\n",
    "with nd2.ND2File('/group/jug/ashesh/data/nikola_data/raw/uSplit_14022025_midSNR.nd2') as nd2file:\n",
    "    data = read_nd2file(nd2file)"
   ]
  },
  {
   "cell_type": "code",
   "execution_count": null,
   "metadata": {},
   "outputs": [],
   "source": [
    "data.shape"
   ]
  },
  {
   "cell_type": "code",
   "execution_count": null,
   "metadata": {},
   "outputs": [],
   "source": [
    "# data = data[0,:,0,...,0]\n",
    "# ch0 = data[:,0]\n",
    "# ch1 = data[:,1]\n",
    "# ch2 = data[:,2]\n",
    "# ch3 = data[:,3]\n",
    "# from disentangle.core.tiff_reader import save_tiff\n",
    "# path = '/group/jug/ashesh/data/nikola_denoising_input/uSplit_14022025_midSNR_channel3.tif'\n",
    "# save_tiff(path, ch3)"
   ]
  },
  {
   "cell_type": "code",
   "execution_count": null,
   "metadata": {},
   "outputs": [],
   "source": [
    "from disentangle.data_loader.nikola_7D_rawdata_loader import load_one_fpath\n",
    "data = load_one_fpath('/group/jug/ashesh/data/nikola_data/raw/uSplit_14022025_midSNR.nd2', [0,1,2,3])"
   ]
  },
  {
   "cell_type": "code",
   "execution_count": null,
   "metadata": {},
   "outputs": [],
   "source": [
    "plt.imshow(data[0,600:1000,600:1000,3])"
   ]
  },
  {
   "cell_type": "markdown",
   "metadata": {},
   "source": [
    "### Creating the denoising data"
   ]
  },
  {
   "cell_type": "code",
   "execution_count": null,
   "metadata": {},
   "outputs": [],
   "source": [
    "from disentangle.configs.nikola_7D_config import get_config\n",
    "from disentangle.core.data_split_type import DataSplitType\n",
    "from disentangle.data_loader.nikola_7D_rawdata_loader import get_train_val_data\n",
    "\n",
    "config = get_config()\n",
    "config.data.dset_type = '5ms'\n",
    "config.data.enable_gaussian_noise = False\n",
    "datadir = '/group/jug/ashesh/data/nikola_data/20240531/'\n",
    "data = get_train_val_data(datadir, config.data, DataSplitType.All,\n",
    "                            config.training.val_fraction, config.training.test_fraction)\n"
   ]
  },
  {
   "cell_type": "code",
   "execution_count": null,
   "metadata": {},
   "outputs": [],
   "source": [
    "from disentangle.core.tiff_reader import save_tiff\n",
    "path_schema = '/group/jug/ashesh/data/nikola_denoising_input/uSplit_{datedir}_{snr}SNR_channel{channel_idx}.tif'\n",
    "for channel_idx in range(4):\n",
    "    path = path_schema.format(snr=config.data.dset_type, channel_idx=channel_idx, datedir='20240531')\n",
    "    save_tiff(path, data[...,channel_idx])\n",
    "    print('saved to', path)\n"
   ]
  },
  {
   "cell_type": "code",
   "execution_count": null,
   "metadata": {},
   "outputs": [],
   "source": [
    "from disentangle.core.tiff_reader import  load_tiff\n",
    "plt.imshow(load_tiff('/group/jug/ashesh/data/nikola_denoising_input/uSplit_20240531_5msSNR_channel0.tif')[0,1000:1200, 600:800])"
   ]
  },
  {
   "cell_type": "code",
   "execution_count": null,
   "metadata": {},
   "outputs": [],
   "source": [
    "import matplotlib.pyplot as plt\n",
    "plt.imshow(data[2,...,2])"
   ]
  },
  {
   "cell_type": "code",
   "execution_count": null,
   "metadata": {},
   "outputs": [],
   "source": []
  }
 ],
 "metadata": {
  "kernelspec": {
   "display_name": "Python 3",
   "language": "python",
   "name": "python3"
  },
  "language_info": {
   "codemirror_mode": {
    "name": "ipython",
    "version": 3
   },
   "file_extension": ".py",
   "mimetype": "text/x-python",
   "name": "python",
   "nbconvert_exporter": "python",
   "pygments_lexer": "ipython3",
   "version": "3.9.19"
  }
 },
 "nbformat": 4,
 "nbformat_minor": 2
}
