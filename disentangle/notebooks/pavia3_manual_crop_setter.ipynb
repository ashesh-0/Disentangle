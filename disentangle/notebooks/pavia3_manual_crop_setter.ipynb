{
 "cells": [
  {
   "cell_type": "code",
   "execution_count": null,
   "metadata": {},
   "outputs": [],
   "source": [
    "import os\n",
    "import json\n",
    "import numpy as np\n",
    "import matplotlib.pyplot as plt\n",
    "import json\n",
    "\n",
    "from disentangle.data_loader.pavia3_rawdata_loader import load_one_file\n",
    "from disentangle.core.tiff_reader import save_tiff\n",
    "\n",
    "\n"
   ]
  },
  {
   "cell_type": "code",
   "execution_count": null,
   "metadata": {},
   "outputs": [],
   "source": [
    "root_input_dir = '/group/jug/ashesh/data/pavia4_HighSNR'\n",
    "root_output_dir = '/group/jug/ashesh/data/pavia4_HighSNR_cropped'\n",
    "condition = 'Deconvolved/Cond_3/Divided_4/'\n",
    "crop_and_save = True\n",
    "manually_find_bbox = not crop_and_save\n",
    "\n",
    "input_dir = os.path.join(root_input_dir, condition)\n",
    "fnames = list(os.listdir(input_dir))\n",
    "print('Number of files', len(fnames))\n",
    "output_dir = os.path.join(root_output_dir, condition)\n",
    "os.makedirs(output_dir, exist_ok=True)\n",
    "output_bbox_fpath = os.path.join(output_dir, 'crop_dict.json')\n",
    "\n",
    "assert not (crop_and_save and manually_find_bbox), 'Cannot crop and manually find bbox at the same time'\n",
    "if manually_find_bbox:\n",
    "    crop_dict = {}\n",
    "elif  crop_and_save:\n",
    "    print('Loading the bbox dict', output_bbox_fpath)\n",
    "    with open(output_bbox_fpath, 'r') as f:\n",
    "        crop_dict = json.load(f)\n",
    "    assert len(crop_dict) == len(fnames), 'Number of files in crop dict and input dir do not match'\n"
   ]
  },
  {
   "cell_type": "code",
   "execution_count": null,
   "metadata": {},
   "outputs": [],
   "source": [
    "idx = 4\n",
    "fname = fnames[idx]\n",
    "input_fpath = os.path.join(input_dir, fname)\n",
    "output_fpath = os.path.join(output_dir, fname.replace('.nd2', '.tif'))\n",
    "data = load_one_file(input_fpath)\n",
    "print(fname, data.shape)"
   ]
  },
  {
   "cell_type": "code",
   "execution_count": null,
   "metadata": {},
   "outputs": [],
   "source": [
    "if manually_find_bbox:\n",
    "    hs = 500#0\n",
    "    he = 2720\n",
    "\n",
    "    ws = 0\n",
    "    we = 2720\n",
    "    cropped_data = data[:,hs:he, ws:we]\n",
    "    crop_dict[fname] = (hs, he, ws, we)\n",
    "    _,ax = plt.subplots(figsize=(12,6),ncols=4,nrows=2)\n",
    "    ax[0,0].imshow(cropped_data[0,...,0])\n",
    "    ax[0,1].imshow(cropped_data[2,...,0])\n",
    "    ax[0,2].imshow(cropped_data[4,...,0])\n",
    "    ax[0,3].imshow(cropped_data[6,...,0])\n",
    "\n",
    "    ax[1,0].imshow(cropped_data[0,...,1])\n",
    "    ax[1,1].imshow(cropped_data[2,...,1])\n",
    "    ax[1,2].imshow(cropped_data[4,...,1])\n",
    "    ax[1,3].imshow(cropped_data[6,...,1])\n",
    "\n",
    "elif crop_and_save:\n",
    "    hs, he, ws, we = crop_dict[fname]\n",
    "    cropped_data = data[:,hs:he, ws:we]\n",
    "    plt.imshow(cropped_data[1,...,0])\n",
    "    save_tiff(output_fpath, cropped_data)\n",
    "    print('Saved', output_fpath)"
   ]
  },
  {
   "cell_type": "code",
   "execution_count": null,
   "metadata": {},
   "outputs": [],
   "source": [
    "if manually_find_bbox:\n",
    "    print('Writing to', output_bbox_fpath)\n",
    "    print(crop_dict)\n",
    "    assert len(crop_dict) == len(fnames)\n",
    "    with open(output_bbox_fpath, 'w') as f:\n",
    "        json.dump(crop_dict, f)"
   ]
  },
  {
   "cell_type": "code",
   "execution_count": null,
   "metadata": {},
   "outputs": [],
   "source": []
  }
 ],
 "metadata": {
  "kernelspec": {
   "display_name": "Python 3",
   "language": "python",
   "name": "python3"
  },
  "language_info": {
   "codemirror_mode": {
    "name": "ipython",
    "version": 3
   },
   "file_extension": ".py",
   "mimetype": "text/x-python",
   "name": "python",
   "nbconvert_exporter": "python",
   "pygments_lexer": "ipython3",
   "version": "3.9.19"
  }
 },
 "nbformat": 4,
 "nbformat_minor": 2
}
