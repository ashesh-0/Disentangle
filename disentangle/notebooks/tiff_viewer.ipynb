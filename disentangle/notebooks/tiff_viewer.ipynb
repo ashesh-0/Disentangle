{
 "cells": [
  {
   "cell_type": "code",
   "execution_count": null,
   "metadata": {},
   "outputs": [],
   "source": [
    "from skimage.io import imread\n",
    "import numpy as np\n",
    "import matplotlib.pyplot as plt\n",
    "\n",
    "fpath = '/group/jug/ashesh/data/Dao4Channel/SIM_3color_1channel_group1.tif'\n",
    "data = imread(fpath, plugin='tifffile')\n",
    "\n"
   ]
  },
  {
   "cell_type": "code",
   "execution_count": null,
   "metadata": {},
   "outputs": [],
   "source": [
    "_,ax = plt.subplots(figsize=(16,4),ncols=4)\n",
    "idx = 15\n",
    "ax[0].imshow(data[idx,::3,::3,0])\n",
    "ax[1].imshow(data[idx,::3,::3,1])\n",
    "ax[2].imshow(data[idx,::3,::3,2])\n",
    "ax[3].imshow(data[idx,::3,::3,3])"
   ]
  },
  {
   "cell_type": "code",
   "execution_count": null,
   "metadata": {},
   "outputs": [],
   "source": [
    "from nd2reader import ND2Reader\n",
    "\n",
    "def load_nd2(fpaths):\n",
    "    \"\"\"\n",
    "    Load .nd2 images.\n",
    "    \"\"\"\n",
    "    images = []\n",
    "    for fpath in fpaths:\n",
    "        with ND2Reader(fpath) as img:\n",
    "            print(img.get_frame_2D(c=0).shape)\n",
    "            # channels are the last dimension.\n",
    "            img = np.concatenate([x[..., None] for x in img], axis=-1)\n",
    "            images.append(img[None])\n",
    "    # number of images is the first dimension.\n",
    "    return np.concatenate(images, axis=0)\n"
   ]
  },
  {
   "cell_type": "code",
   "execution_count": null,
   "metadata": {},
   "outputs": [],
   "source": [
    "import os\n",
    "import numpy as np\n",
    "import matplotlib.pyplot as plt\n",
    "from nd2reader import ND2Reader\n",
    "\n",
    "\n",
    "datadir = '/group/jug/ashesh/data/TavernaSox2Golgi/acquisition2/Test1_Slice1/'\n",
    "fnames = os.listdir(datadir)\n",
    "fpaths = [os.path.join(datadir, fname) for fname in fnames]\n",
    "with ND2Reader(fpaths[0]) as reader:\n",
    "    data = []\n",
    "    for z in range(reader.metadata['total_images_per_channel']):\n",
    "        channels = []\n",
    "        for c in range(len(reader.metadata['channels'])):\n",
    "            img = reader.get_frame_2D(c=c, z=z)\n",
    "            channels.append(img[..., None])\n",
    "        img = np.concatenate(channels, axis=-1)\n",
    "        data.append(img[None])\n",
    "    data = np.concatenate(data, axis=0)\n"
   ]
  },
  {
   "cell_type": "code",
   "execution_count": null,
   "metadata": {},
   "outputs": [],
   "source": []
  },
  {
   "cell_type": "code",
   "execution_count": null,
   "metadata": {},
   "outputs": [],
   "source": []
  },
  {
   "cell_type": "code",
   "execution_count": null,
   "metadata": {},
   "outputs": [],
   "source": [
    "_,ax = plt.subplots(figsize=(18,6),ncols=3)\n",
    "idx = 8\n",
    "print(idx)\n",
    "ax[0].imshow(data[idx,...,0])\n",
    "ax[1].imshow(data[idx,...,1])\n",
    "ax[2].imshow(data[idx,...,2])"
   ]
  },
  {
   "cell_type": "code",
   "execution_count": null,
   "metadata": {},
   "outputs": [],
   "source": [
    "reader.metadata.keys()"
   ]
  },
  {
   "cell_type": "code",
   "execution_count": null,
   "metadata": {},
   "outputs": [],
   "source": [
    "import os\n",
    "from nd2reader import ND2Reader\n",
    "import numpy as np\n",
    "\n",
    "def get_start_end_index(key):\n",
    "    \"\"\"\n",
    "    Few start and end frames are not good in some of the files. So, we need to exclude them.\n",
    "    \"\"\"\n",
    "    start_index_dict ={\n",
    "    'Test1_Slice1/1.nd2': 8,\n",
    "    'Test1_Slice1/2.nd2': 1,\n",
    "    'Test1_Slice1/3.nd2': 3,\n",
    "    'Test1_Slice2_a/4.nd2': 10,\n",
    "    'Test1_Slice2_a/5.nd2': 10,\n",
    "    'Test1_Slice2_a/6.nd2': 10,\n",
    "    'Test1_Slice2_b/7.nd2': 1,\n",
    "\n",
    "    'Test1_Slice3_b/4.nd2': 1,\n",
    "    'Test1_Slice3_b/5.nd2': 1,\n",
    "    'Test1_Slice3_b/6.nd2': 1,\n",
    "\n",
    "    'Test1_Slice4_a/1.nd2': 1,\n",
    "    'Test1_Slice4_a/2.nd2': 1,\n",
    "    'Test1_Slice4_a/3.nd2': 1,\n",
    "\n",
    "    'Test1_Slice4_b/4.nd2': 1,\n",
    "    'Test1_Slice4_b/5.nd2': 1,\n",
    "    'Test1_Slice4_b/6.nd2': 1,\n",
    "\n",
    "    }\n",
    "    # excluding this index\n",
    "    end_index_dict = {\n",
    "    'Test1_Slice2_b/7.nd2': 18,\n",
    "    'Test1_Slice2_b/8.nd2': 18,\n",
    "    'Test1_Slice2_b/9.nd2': 18,\n",
    "\n",
    "    'Test1_Slice3_a/1.nd2': 15,\n",
    "    'Test1_Slice3_a/2.nd2': 15,\n",
    "    'Test1_Slice3_a/3.nd2': 15,\n",
    "\n",
    "    'Test1_Slice3_b/4.nd2': 18,\n",
    "    'Test1_Slice3_b/5.nd2': 18,\n",
    "    'Test1_Slice3_b/6.nd2': 18,\n",
    "\n",
    "    'Test1_Slice4_a/1.nd2': 19,\n",
    "    'Test1_Slice4_a/2.nd2': 19,\n",
    "    'Test1_Slice4_a/3.nd2': 19,\n",
    "\n",
    "    }\n",
    "    return start_index_dict.get(key), end_index_dict.get(key)\n",
    "\n",
    "def load_nd2(fpath):\n",
    "    fname = os.path.basename(fpath)\n",
    "    parent_dir = os.path.basename(os.path.dirname(fpath))\n",
    "    key = os.path.join(parent_dir, fname)\n",
    "    start_z, end_z = get_start_end_index(key)\n",
    "    with ND2Reader(fpath) as reader:\n",
    "        data = []\n",
    "        if start_z is None:\n",
    "            start_z = 0\n",
    "        if end_z is None:\n",
    "            end_z = reader.metadata['total_images_per_channel']\n",
    "\n",
    "        for z in range(start_z, end_z):\n",
    "            channels = []\n",
    "            for c in range(len(reader.metadata['channels'])):\n",
    "                img = reader.get_frame_2D(c=c, z=z)\n",
    "                channels.append(img[..., None])\n",
    "            img = np.concatenate(channels, axis=-1)\n",
    "            data.append(img[None])\n",
    "        data = np.concatenate(data, axis=0)\n",
    "    return data\n"
   ]
  },
  {
   "cell_type": "code",
   "execution_count": null,
   "metadata": {},
   "outputs": [],
   "source": [
    "datadir = '/group/jug/ashesh/data/TavernaSox2Golgi/acquisition2/Test1_Slice2_b/'\n",
    "fnames = os.listdir(datadir)\n",
    "fpaths = [os.path.join(datadir, fname) for fname in fnames]\n",
    "fpaths\n",
    "data = load_nd2(fpaths[2])"
   ]
  },
  {
   "cell_type": "code",
   "execution_count": null,
   "metadata": {},
   "outputs": [],
   "source": [
    "fpaths[2]"
   ]
  },
  {
   "cell_type": "code",
   "execution_count": null,
   "metadata": {},
   "outputs": [],
   "source": [
    "m0 = np.mean(data[...,0])\n",
    "std0 = np.std(data[...,0])\n",
    "m1 = np.mean(data[...,1])\n",
    "std1 = np.std(data[...,1])\n",
    "m2 = np.mean(data[...,2])\n",
    "std2 = np.std(data[...,2])\n",
    "print(m0,m1,m2)\n",
    "print(std0,std1,std2)"
   ]
  },
  {
   "cell_type": "code",
   "execution_count": null,
   "metadata": {},
   "outputs": [],
   "source": [
    "# Test1_Slice1/1.nd2\n",
    "# 649.9898366076771 251.18364132567336 346.4810821832817\n",
    "# 420.73377102091223 123.63942369663152 238.69477184974224\n",
    "\n",
    "# 575.911845626149 245.9114324212272 306.2189803083463\n",
    "# 311.0105221812719 110.20645501024354 167.05982606418527\n",
    "\n",
    "# 568.6233754334154 239.50470075900554 305.3726447539201\n",
    "# 325.94647030213605 107.5387414773112 177.32005584439108\n",
    "\n",
    "# 719.5509740115756 261.24814812236497 387.2313534937254\n",
    "# 490.3397713688641 138.94604213692025 290.6153710377726\n",
    "\n",
    "# 580.9775729861954 247.18915115549945 311.5311118021006\n",
    "# 327.880092274782 123.17043062753785 171.58009417372307"
   ]
  },
  {
   "cell_type": "code",
   "execution_count": null,
   "metadata": {},
   "outputs": [],
   "source": [
    "reader.metadata['total_images_per_channel'] # 25\n",
    "reader.metadata['channels'] #['555-647', 'GT_Cy5', 'GT_TRITC']\n",
    "reader.metadata['fields_of_view'] # [0]\n",
    "reader.metadata['num_frames'] # 1\n",
    "reader.metadata['z_levels'] # range(0,25)\n",
    "reader.metadata['height'] #1608\n",
    "reader.metadata['width'] # 1608"
   ]
  }
 ],
 "metadata": {
  "kernelspec": {
   "display_name": "Python 3",
   "language": "python",
   "name": "python3"
  },
  "language_info": {
   "codemirror_mode": {
    "name": "ipython",
    "version": 3
   },
   "file_extension": ".py",
   "mimetype": "text/x-python",
   "name": "python",
   "nbconvert_exporter": "python",
   "pygments_lexer": "ipython3",
   "version": "3.9.18"
  }
 },
 "nbformat": 4,
 "nbformat_minor": 2
}
