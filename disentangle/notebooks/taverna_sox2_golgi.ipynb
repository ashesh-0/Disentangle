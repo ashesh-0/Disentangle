{
 "cells": [
  {
   "cell_type": "code",
   "execution_count": 1,
   "metadata": {},
   "outputs": [
    {
     "data": {
      "text/html": [
       "<style>.container { width:100% !important; }</style>"
      ],
      "text/plain": [
       "<IPython.core.display.HTML object>"
      ]
     },
     "metadata": {},
     "output_type": "display_data"
    }
   ],
   "source": [
    "from IPython.display import display, HTML\n",
    "display(HTML(\"<style>.container { width:100% !important; }</style>\"))"
   ]
  },
  {
   "cell_type": "code",
   "execution_count": 2,
   "metadata": {},
   "outputs": [],
   "source": [
    "import os\n",
    "DEBUG=False"
   ]
  },
  {
   "cell_type": "code",
   "execution_count": 3,
   "metadata": {},
   "outputs": [
    {
     "name": "stdout",
     "output_type": "stream",
     "text": [
      "DATA_ROOT:\t /group/jug/ashesh/data/\n",
      "CODE_ROOT:\t /home/ashesh.ashesh/\n"
     ]
    }
   ],
   "source": [
    "%run ./nb_core/root_dirs.ipynb\n",
    "setup_syspath_disentangle(DEBUG)\n",
    "%run ./nb_core/disentangle_imports.ipynb"
   ]
  },
  {
   "cell_type": "code",
   "execution_count": 4,
   "metadata": {},
   "outputs": [
    {
     "name": "stdout",
     "output_type": "stream",
     "text": [
      "Loaded from OneChannel /group/jug/ashesh/data/TavernaSox2Golgi/ 121\n",
      "[SingleFileDset] Sz:64 Train:1 N:1 NumPatchPerN:256 NormInp:True SingleNorm:True Rot:False RandCrop:True Q:0.995 SummedInput:False ReplaceWithRandSample:False BckQ:0.0\n",
      "MultiFileDset avg height: 1024, avg width: 1024, count: 121\n",
      "Loaded from OneChannel /group/jug/ashesh/data/TavernaSox2Golgi/ 15\n",
      "[SingleFileDset] Sz:64 Train:0 N:1 NumPatchPerN:256 NormInp:True SingleNorm:True Rot:False RandCrop:False Q:0.995 SummedInput:False ReplaceWithRandSample:False BckQ:0.0\n",
      "MultiFileDset avg height: 1024, avg width: 1024, count: 15\n"
     ]
    }
   ],
   "source": [
    "from disentangle.configs.sox2golgi_config import get_config\n",
    "from disentangle.core.model_type import ModelType\n",
    "from disentangle.core.data_split_type import DataSplitType\n",
    "from disentangle.data_loader.multifile_dset import MultiFileDset\n",
    "\n",
    "config = get_config()\n",
    "datapath = '/group/jug/ashesh/data/TavernaSox2Golgi/'\n",
    "\n",
    "normalized_input = config.data.normalized_input\n",
    "use_one_mu_std = config.data.use_one_mu_std\n",
    "train_aug_rotate = config.data.train_aug_rotate\n",
    "enable_random_cropping = config.data.deterministic_grid is False\n",
    "lowres_supervision = config.model.model_type == ModelType.LadderVAEMultiTarget\n",
    "\n",
    "train_data_kwargs = {}\n",
    "val_data_kwargs = {}\n",
    "train_data_kwargs['enable_random_cropping'] = enable_random_cropping\n",
    "val_data_kwargs['enable_random_cropping'] = False\n",
    "padding_kwargs = None\n",
    "if 'multiscale_lowres_count' in config.data and config.data.multiscale_lowres_count is not None:\n",
    "    padding_kwargs = {'mode': config.data.padding_mode}\n",
    "if 'padding_value' in config.data and config.data.padding_value is not None:\n",
    "    padding_kwargs['constant_values'] = config.data.padding_value\n",
    "\n",
    "train_data = MultiFileDset(config.data,\n",
    "                            datapath,\n",
    "                            datasplit_type=DataSplitType.Train,\n",
    "                            val_fraction=config.training.val_fraction,\n",
    "                            test_fraction=config.training.test_fraction,\n",
    "                            normalized_input=normalized_input,\n",
    "                            use_one_mu_std=use_one_mu_std,\n",
    "                            enable_rotation_aug=train_aug_rotate,\n",
    "                            padding_kwargs=padding_kwargs,\n",
    "                            **train_data_kwargs)\n",
    "\n",
    "max_val = train_data.get_max_val()\n",
    "val_data = MultiFileDset(\n",
    "    config.data,\n",
    "    datapath,\n",
    "    datasplit_type=DataSplitType.Val,\n",
    "    val_fraction=config.training.val_fraction,\n",
    "    test_fraction=config.training.test_fraction,\n",
    "    normalized_input=normalized_input,\n",
    "    use_one_mu_std=use_one_mu_std,\n",
    "    enable_rotation_aug=False,  # No rotation aug on validation\n",
    "    padding_kwargs=padding_kwargs,\n",
    "    max_val=max_val,\n",
    "    **val_data_kwargs,\n",
    ")\n",
    "\n",
    "mean_val, std_val = train_data.compute_mean_std()\n",
    "train_data.set_mean_std(mean_val, std_val)\n",
    "val_data.set_mean_std(mean_val, std_val)\n"
   ]
  },
  {
   "cell_type": "code",
   "execution_count": 5,
   "metadata": {},
   "outputs": [],
   "source": [
    "inp, tar = val_data[0]"
   ]
  },
  {
   "cell_type": "code",
   "execution_count": 6,
   "metadata": {},
   "outputs": [
    {
     "data": {
      "text/plain": [
       "<matplotlib.image.AxesImage at 0x7f124ec8f490>"
      ]
     },
     "execution_count": 6,
     "metadata": {},
     "output_type": "execute_result"
    },
    {
     "data": {
      "image/png": "[encoded data removed]",
      "text/plain": [
       "<Figure size 900x300 with 3 Axes>"
      ]
     },
     "metadata": {},
     "output_type": "display_data"
    }
   ],
   "source": [
    "_,ax = plt.subplots(figsize=(9,3),ncols=3)\n",
    "ax[0].imshow(inp[0])\n",
    "ax[1].imshow(tar[0])\n",
    "ax[2].imshow(tar[1])"
   ]
  },
  {
   "cell_type": "code",
   "execution_count": 7,
   "metadata": {},
   "outputs": [
    {
     "data": {
      "text/plain": [
       "(1, 64, 64)"
      ]
     },
     "execution_count": 7,
     "metadata": {},
     "output_type": "execute_result"
    }
   ],
   "source": [
    "inp.shape"
   ]
  },
  {
   "cell_type": "code",
   "execution_count": 8,
   "metadata": {},
   "outputs": [],
   "source": [
    "inp_arr = []\n",
    "for i in range(len(val_data)):\n",
    "    inp, tar = val_data[i]\n",
    "    inp_arr.append(inp)"
   ]
  },
  {
   "cell_type": "code",
   "execution_count": 9,
   "metadata": {},
   "outputs": [],
   "source": [
    "inpdata= np.concatenate(inp_arr,axis=0)"
   ]
  },
  {
   "cell_type": "code",
   "execution_count": 10,
   "metadata": {},
   "outputs": [
    {
     "data": {
      "image/png": "[encoded data removed]",
      "text/plain": [
       "<Figure size 640x480 with 1 Axes>"
      ]
     },
     "metadata": {},
     "output_type": "display_data"
    }
   ],
   "source": [
    "import matplotlib.pyplot as plt\n",
    "_ = plt.hist(inpdata.flatten(),bins=100)"
   ]
  },
  {
   "cell_type": "code",
   "execution_count": null,
   "metadata": {},
   "outputs": [],
   "source": []
  },
  {
   "cell_type": "code",
   "execution_count": 11,
   "metadata": {},
   "outputs": [],
   "source": [
    "# import seaborn as sns\n",
    "# sns.histplot(inpdata.flatten(),bins=100)"
   ]
  },
  {
   "cell_type": "code",
   "execution_count": 12,
   "metadata": {},
   "outputs": [
    {
     "data": {
      "text/plain": [
       "array([-1.35542893, -1.1493119 , -0.72831666,  0.27736855,  6.13533545,\n",
       "       12.25567436])"
      ]
     },
     "execution_count": 12,
     "metadata": {},
     "output_type": "execute_result"
    }
   ],
   "source": [
    "np.quantile(inpdata,[0.0, 0.01, 0.1, 0.5, 0.99,1])"
   ]
  },
  {
   "cell_type": "code",
   "execution_count": 14,
   "metadata": {},
   "outputs": [],
   "source": [
    "# config.data\n"
   ]
  },
  {
   "cell_type": "code",
   "execution_count": 19,
   "metadata": {},
   "outputs": [
    {
     "name": "stdout",
     "output_type": "stream",
     "text": [
      "Loaded from TwoChannel /group/jug/ashesh/data/TavernaSox2Golgi/ 8\n",
      "Loaded from OneChannel /group/jug/ashesh/data/TavernaSox2Golgi/ 15\n"
     ]
    }
   ],
   "source": [
    "from disentangle.data_loader.sox2golgi_rawdata_loader import (get_train_val_data, get_one_channel_files, get_two_channel_files, SubDsetType)\n",
    "datadir = '/group/jug/ashesh/data/TavernaSox2Golgi/'\n",
    "\n",
    "config.data.subdset_type = SubDsetType.TwoChannel\n",
    "data2ch = get_train_val_data(datadir,\n",
    "                       config.data,\n",
    "                       DataSplitType.Test,\n",
    "                       val_fraction=0.1,\n",
    "                       test_fraction=0.1)\n",
    "\n",
    "config.data.subdset_type = SubDsetType.OneChannel\n",
    "data1ch = get_train_val_data(datadir,\n",
    "                       config.data,\n",
    "                       DataSplitType.Test,\n",
    "                       val_fraction=0.1,\n",
    "                       test_fraction=0.1)"
   ]
  },
  {
   "cell_type": "code",
   "execution_count": 20,
   "metadata": {},
   "outputs": [
    {
     "data": {
      "text/plain": [
       "(15, 8)"
      ]
     },
     "execution_count": 20,
     "metadata": {},
     "output_type": "execute_result"
    }
   ],
   "source": [
    "len(data1ch), len(data2ch)"
   ]
  },
  {
   "cell_type": "code",
   "execution_count": 34,
   "metadata": {},
   "outputs": [],
   "source": [
    "import numpy as np\n",
    "input1ch = []\n",
    "input2ch = []\n",
    "for idx in range(len(data1ch)):\n",
    "    input1ch.append(np.mean(data1ch[idx][0],axis=2, keepdims=True))\n",
    "\n",
    "for idx in range(len(data2ch)):\n",
    "    input2ch.append(np.mean(data2ch[idx][0],axis=2, keepdims=True))\n",
    "\n",
    "input1ch = np.concatenate(input1ch,axis=-1)\n",
    "input2ch = np.concatenate(input2ch,axis=-1)"
   ]
  },
  {
   "cell_type": "code",
   "execution_count": 46,
   "metadata": {},
   "outputs": [
    {
     "name": "stderr",
     "output_type": "stream",
     "text": [
      "/home/ashesh.ashesh/mambaforge/envs/usplit/lib/python3.9/site-packages/seaborn/_oldcore.py:1498: FutureWarning: is_categorical_dtype is deprecated and will be removed in a future version. Use isinstance(dtype, CategoricalDtype) instead\n",
      "  if pd.api.types.is_categorical_dtype(vector):\n",
      "/home/ashesh.ashesh/mambaforge/envs/usplit/lib/python3.9/site-packages/seaborn/_oldcore.py:1119: FutureWarning: use_inf_as_na option is deprecated and will be removed in a future version. Convert inf values to NaN before operating instead.\n",
      "  with pd.option_context('mode.use_inf_as_na', True):\n",
      "/home/ashesh.ashesh/mambaforge/envs/usplit/lib/python3.9/site-packages/seaborn/_oldcore.py:1498: FutureWarning: is_categorical_dtype is deprecated and will be removed in a future version. Use isinstance(dtype, CategoricalDtype) instead\n",
      "  if pd.api.types.is_categorical_dtype(vector):\n",
      "/home/ashesh.ashesh/mambaforge/envs/usplit/lib/python3.9/site-packages/seaborn/_oldcore.py:1119: FutureWarning: use_inf_as_na option is deprecated and will be removed in a future version. Convert inf values to NaN before operating instead.\n",
      "  with pd.option_context('mode.use_inf_as_na', True):\n"
     ]
    },
    {
     "data": {
      "text/plain": [
       "<matplotlib.legend.Legend at 0x7f123e808f10>"
      ]
     },
     "execution_count": 46,
     "metadata": {},
     "output_type": "execute_result"
    },
    {
     "data": {
      "image/png": "[encoded data removed]",
      "text/plain": [
       "<Figure size 640x480 with 1 Axes>"
      ]
     },
     "metadata": {},
     "output_type": "display_data"
    }
   ],
   "source": [
    "import seaborn as sns\n",
    "_,ax = plt.subplots()\n",
    "sns.histplot(input1ch.flatten()/2,bins=100, color='red', label='1ch', stat='density')\n",
    "sns.histplot(input2ch.flatten(),bins=100, color='blue', label='2ch', stat='density')\n",
    "ax.legend()"
   ]
  },
  {
   "cell_type": "code",
   "execution_count": 48,
   "metadata": {},
   "outputs": [
    {
     "name": "stdout",
     "output_type": "stream",
     "text": [
      "input 1ch [  122   340   808  1883  3576  8184 32767]\n",
      "input 2ch [   36   522   912  1989  5595 14644 41394]\n"
     ]
    }
   ],
   "source": [
    "print('input 1ch', np.quantile(input1ch/2,[0.0, 0.01, 0.1, 0.5, 0.9, 0.99,1]).astype(np.int32))\n",
    "print('input 2ch', np.quantile(input2ch,[0.0, 0.01, 0.1, 0.5, 0.9, 0.99,1]).astype(np.int32))"
   ]
  },
  {
   "cell_type": "code",
   "execution_count": 37,
   "metadata": {},
   "outputs": [],
   "source": [
    "ch1 = []\n",
    "ch2 = []\n",
    "for idx in range(len(data2ch)):\n",
    "    tmpd = data2ch[idx][0]\n",
    "    ch1.append(tmpd[:,:,:1])\n",
    "    ch2.append(tmpd[:,:,1:])\n",
    "\n",
    "ch1 = np.concatenate(ch1,axis=-1)\n",
    "ch2 = np.concatenate(ch2,axis=-1)"
   ]
  },
  {
   "cell_type": "code",
   "execution_count": 38,
   "metadata": {},
   "outputs": [
    {
     "name": "stderr",
     "output_type": "stream",
     "text": [
      "/home/ashesh.ashesh/mambaforge/envs/usplit/lib/python3.9/site-packages/seaborn/_oldcore.py:1498: FutureWarning: is_categorical_dtype is deprecated and will be removed in a future version. Use isinstance(dtype, CategoricalDtype) instead\n",
      "  if pd.api.types.is_categorical_dtype(vector):\n",
      "/home/ashesh.ashesh/mambaforge/envs/usplit/lib/python3.9/site-packages/seaborn/_oldcore.py:1119: FutureWarning: use_inf_as_na option is deprecated and will be removed in a future version. Convert inf values to NaN before operating instead.\n",
      "  with pd.option_context('mode.use_inf_as_na', True):\n",
      "/home/ashesh.ashesh/mambaforge/envs/usplit/lib/python3.9/site-packages/seaborn/_oldcore.py:1498: FutureWarning: is_categorical_dtype is deprecated and will be removed in a future version. Use isinstance(dtype, CategoricalDtype) instead\n",
      "  if pd.api.types.is_categorical_dtype(vector):\n",
      "/home/ashesh.ashesh/mambaforge/envs/usplit/lib/python3.9/site-packages/seaborn/_oldcore.py:1119: FutureWarning: use_inf_as_na option is deprecated and will be removed in a future version. Convert inf values to NaN before operating instead.\n",
      "  with pd.option_context('mode.use_inf_as_na', True):\n"
     ]
    },
    {
     "data": {
      "text/plain": [
       "<matplotlib.legend.Legend at 0x7f123eb6baf0>"
      ]
     },
     "execution_count": 38,
     "metadata": {},
     "output_type": "execute_result"
    },
    {
     "data": {
      "image/png": "[encoded data removed]",
      "text/plain": [
       "<Figure size 640x480 with 1 Axes>"
      ]
     },
     "metadata": {},
     "output_type": "display_data"
    }
   ],
   "source": [
    "_,ax = plt.subplots()\n",
    "sns.histplot(ch1.flatten(),bins=100, color='red', label='channel 1st', stat='density')\n",
    "sns.histplot(ch2.flatten(),bins=100, color='blue', label='channel 2nd', stat='density')\n",
    "ax.legend()"
   ]
  },
  {
   "cell_type": "code",
   "execution_count": 45,
   "metadata": {},
   "outputs": [
    {
     "name": "stdout",
     "output_type": "stream",
     "text": [
      "channel 1 [    0   193   448  1208 25832 65535]\n",
      "channel 2 [   32   533   967  2092  9282 65535]\n"
     ]
    }
   ],
   "source": [
    "print('channel 1', np.quantile(ch1,[0.0, 0.01, 0.1, 0.5, 0.99,1]).astype(np.int32))\n",
    "print('channel 2', np.quantile(ch2,[0.0, 0.01, 0.1, 0.5, 0.99,1]).astype(np.int32))"
   ]
  },
  {
   "cell_type": "code",
   "execution_count": null,
   "metadata": {},
   "outputs": [],
   "source": []
  }
 ],
 "metadata": {
  "kernelspec": {
   "display_name": "usplit",
   "language": "python",
   "name": "python3"
  },
  "language_info": {
   "codemirror_mode": {
    "name": "ipython",
    "version": 3
   },
   "file_extension": ".py",
   "mimetype": "text/x-python",
   "name": "python",
   "nbconvert_exporter": "python",
   "pygments_lexer": "ipython3",
   "version": "3.9.18"
  },
  "orig_nbformat": 4,
  "vscode": {
   "interpreter": {
    "hash": "e959a19f8af3b4149ff22eb57702a46c14a8caae5a2647a6be0b1f60abdfa4c2"
   }
  }
 },
 "nbformat": 4,
 "nbformat_minor": 2
}
