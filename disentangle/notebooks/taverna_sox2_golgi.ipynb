{
 "cells": [
  {
   "cell_type": "code",
   "execution_count": 1,
   "metadata": {},
   "outputs": [
    {
     "data": {
      "text/html": [
       "<style>.container { width:100% !important; }</style>"
      ],
      "text/plain": [
       "<IPython.core.display.HTML object>"
      ]
     },
     "metadata": {},
     "output_type": "display_data"
    }
   ],
   "source": [
    "from IPython.display import display, HTML\n",
    "display(HTML(\"<style>.container { width:100% !important; }</style>\"))"
   ]
  },
  {
   "cell_type": "code",
   "execution_count": 2,
   "metadata": {},
   "outputs": [],
   "source": [
    "import os\n",
    "DEBUG=False"
   ]
  },
  {
   "cell_type": "code",
   "execution_count": 3,
   "metadata": {},
   "outputs": [
    {
     "name": "stdout",
     "output_type": "stream",
     "text": [
      "DATA_ROOT:\t /group/jug/ashesh/data/\n",
      "CODE_ROOT:\t /home/ashesh.ashesh/\n"
     ]
    }
   ],
   "source": [
    "%run ./nb_core/root_dirs.ipynb\n",
    "setup_syspath_disentangle(DEBUG)\n",
    "%run ./nb_core/disentangle_imports.ipynb"
   ]
  },
  {
   "cell_type": "code",
   "execution_count": 4,
   "metadata": {},
   "outputs": [
    {
     "name": "stdout",
     "output_type": "stream",
     "text": [
      "Loaded from OneChannel /group/jug/ashesh/data/TavernaSox2Golgi/ 121\n",
      "[SingleFileDset] Sz:64 Train:1 N:1 NumPatchPerN:256 NormInp:True SingleNorm:True Rot:False RandCrop:True Q:0.995 SummedInput:False ReplaceWithRandSample:False BckQ:0.0\n",
      "MultiFileDset avg height: 1024, avg width: 1024, count: 121\n",
      "Loaded from OneChannel /group/jug/ashesh/data/TavernaSox2Golgi/ 15\n",
      "[SingleFileDset] Sz:64 Train:0 N:1 NumPatchPerN:256 NormInp:True SingleNorm:True Rot:False RandCrop:False Q:0.995 SummedInput:False ReplaceWithRandSample:False BckQ:0.0\n",
      "MultiFileDset avg height: 1024, avg width: 1024, count: 15\n"
     ]
    }
   ],
   "source": [
    "from disentangle.configs.sox2golgi_config import get_config\n",
    "from disentangle.core.model_type import ModelType\n",
    "from disentangle.core.data_split_type import DataSplitType\n",
    "from disentangle.data_loader.multifile_dset import MultiFileDset\n",
    "\n",
    "config = get_config()\n",
    "datapath = '/group/jug/ashesh/data/TavernaSox2Golgi/'\n",
    "\n",
    "normalized_input = config.data.normalized_input\n",
    "use_one_mu_std = config.data.use_one_mu_std\n",
    "train_aug_rotate = config.data.train_aug_rotate\n",
    "enable_random_cropping = config.data.deterministic_grid is False\n",
    "lowres_supervision = config.model.model_type == ModelType.LadderVAEMultiTarget\n",
    "\n",
    "train_data_kwargs = {}\n",
    "val_data_kwargs = {}\n",
    "train_data_kwargs['enable_random_cropping'] = enable_random_cropping\n",
    "val_data_kwargs['enable_random_cropping'] = False\n",
    "padding_kwargs = None\n",
    "if 'multiscale_lowres_count' in config.data and config.data.multiscale_lowres_count is not None:\n",
    "    padding_kwargs = {'mode': config.data.padding_mode}\n",
    "if 'padding_value' in config.data and config.data.padding_value is not None:\n",
    "    padding_kwargs['constant_values'] = config.data.padding_value\n",
    "\n",
    "train_data = MultiFileDset(config.data,\n",
    "                            datapath,\n",
    "                            datasplit_type=DataSplitType.Train,\n",
    "                            val_fraction=config.training.val_fraction,\n",
    "                            test_fraction=config.training.test_fraction,\n",
    "                            normalized_input=normalized_input,\n",
    "                            use_one_mu_std=use_one_mu_std,\n",
    "                            enable_rotation_aug=train_aug_rotate,\n",
    "                            padding_kwargs=padding_kwargs,\n",
    "                            **train_data_kwargs)\n",
    "\n",
    "max_val = train_data.get_max_val()\n",
    "val_data = MultiFileDset(\n",
    "    config.data,\n",
    "    datapath,\n",
    "    datasplit_type=DataSplitType.Val,\n",
    "    val_fraction=config.training.val_fraction,\n",
    "    test_fraction=config.training.test_fraction,\n",
    "    normalized_input=normalized_input,\n",
    "    use_one_mu_std=use_one_mu_std,\n",
    "    enable_rotation_aug=False,  # No rotation aug on validation\n",
    "    padding_kwargs=padding_kwargs,\n",
    "    max_val=max_val,\n",
    "    **val_data_kwargs,\n",
    ")\n",
    "\n",
    "mean_val, std_val = train_data.compute_mean_std()\n",
    "train_data.set_mean_std(mean_val, std_val)\n",
    "val_data.set_mean_std(mean_val, std_val)\n"
   ]
  },
  {
   "cell_type": "code",
   "execution_count": 5,
   "metadata": {},
   "outputs": [],
   "source": [
    "inp, tar = val_data[0]"
   ]
  },
  {
   "cell_type": "code",
   "execution_count": 6,
   "metadata": {},
   "outputs": [
    {
     "data": {
      "text/plain": [
       "<matplotlib.image.AxesImage at 0x7f124ec8f490>"
      ]
     },
     "execution_count": 6,
     "metadata": {},
     "output_type": "execute_result"
    },
    {
     "data": {
      "image/png": "[encoded data removed]",
      "text/plain": [
       "<Figure size 900x300 with 3 Axes>"
      ]
     },
     "metadata": {},
     "output_type": "display_data"
    }
   ],
   "source": [
    "_,ax = plt.subplots(figsize=(9,3),ncols=3)\n",
    "ax[0].imshow(inp[0])\n",
    "ax[1].imshow(tar[0])\n",
    "ax[2].imshow(tar[1])"
   ]
  },
  {
   "cell_type": "code",
   "execution_count": 7,
   "metadata": {},
   "outputs": [
    {
     "data": {
      "text/plain": [
       "(1, 64, 64)"
      ]
     },
     "execution_count": 7,
     "metadata": {},
     "output_type": "execute_result"
    }
   ],
   "source": [
    "inp.shape"
   ]
  },
  {
   "cell_type": "code",
   "execution_count": 8,
   "metadata": {},
   "outputs": [],
   "source": [
    "inp_arr = []\n",
    "for i in range(len(val_data)):\n",
    "    inp, tar = val_data[i]\n",
    "    inp_arr.append(inp)"
   ]
  },
  {
   "cell_type": "code",
   "execution_count": 9,
   "metadata": {},
   "outputs": [],
   "source": [
    "inpdata= np.concatenate(inp_arr,axis=0)"
   ]
  },
  {
   "cell_type": "code",
   "execution_count": 10,
   "metadata": {},
   "outputs": [
    {
     "data": {
      "image/png": "[encoded data removed]",
      "text/plain": [
       "<Figure size 640x480 with 1 Axes>"
      ]
     },
     "metadata": {},
     "output_type": "display_data"
    }
   ],
   "source": [
    "import matplotlib.pyplot as plt\n",
    "_ = plt.hist(inpdata.flatten(),bins=100)"
   ]
  },
  {
   "cell_type": "code",
   "execution_count": 11,
   "metadata": {},
   "outputs": [],
   "source": [
    "# import seaborn as sns\n",
    "# sns.histplot(inpdata.flatten(),bins=100)"
   ]
  },
  {
   "cell_type": "code",
   "execution_count": 12,
   "metadata": {},
   "outputs": [
    {
     "data": {
      "text/plain": [
       "array([-1.35542893, -1.1493119 , -0.72831666,  0.27736855,  6.13533545,\n",
       "       12.25567436])"
      ]
     },
     "execution_count": 12,
     "metadata": {},
     "output_type": "execute_result"
    }
   ],
   "source": [
    "np.quantile(inpdata,[0.0, 0.01, 0.1, 0.5, 0.99,1])"
   ]
  },
  {
   "cell_type": "code",
   "execution_count": null,
   "metadata": {},
   "outputs": [],
   "source": []
  }
 ],
 "metadata": {
  "kernelspec": {
   "display_name": "usplit",
   "language": "python",
   "name": "python3"
  },
  "language_info": {
   "codemirror_mode": {
    "name": "ipython",
    "version": 3
   },
   "file_extension": ".py",
   "mimetype": "text/x-python",
   "name": "python",
   "nbconvert_exporter": "python",
   "pygments_lexer": "ipython3",
   "version": "3.9.18"
  },
  "orig_nbformat": 4,
  "vscode": {
   "interpreter": {
    "hash": "e959a19f8af3b4149ff22eb57702a46c14a8caae5a2647a6be0b1f60abdfa4c2"
   }
  }
 },
 "nbformat": 4,
 "nbformat_minor": 2
}
