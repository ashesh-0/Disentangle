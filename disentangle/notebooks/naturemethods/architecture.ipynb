{
 "cells": [
  {
   "cell_type": "code",
   "execution_count": null,
   "metadata": {},
   "outputs": [],
   "source": [
    "from disentangle.core.tiff_reader import load_tiff\n",
    "actin_lowsnr = load_tiff('/group/jug/ashesh/data/ventura_gigascience/actin-60x-noise2-lowsnr.tif')\n",
    "actin_highsnr = load_tiff('/group/jug/ashesh/data/ventura_gigascience/actin-60x-noise2-highsnr.tif')\n",
    "\n",
    "mito_lowsnr = load_tiff('/group/jug/ashesh/data/ventura_gigascience/mito-60x-noise2-lowsnr.tif')\n",
    "mito_highsnr = load_tiff('/group/jug/ashesh/data/ventura_gigascience/mito-60x-noise2-highsnr.tif')\n",
    "\n",
    "inputdata = actin_lowsnr + mito_lowsnr"
   ]
  },
  {
   "cell_type": "code",
   "execution_count": null,
   "metadata": {},
   "outputs": [],
   "source": [
    "# from disentangle.data_loader.nikola_7D_rawdata_loader import load_one_fpath\n",
    "# data = load_one_fpath('/group/jug/ashesh/data/nikola_data/20240531/Set1/uSplit_2ms.nd2', [1,3])\n",
    "# data_highsnr = load_one_fpath('/group/jug/ashesh/data/nikola_data/20240531/Set1/uSplit_20ms.nd2', [0,1,3])\n",
    "# inputdata = data[...,0] + data[...,1]"
   ]
  },
  {
   "cell_type": "code",
   "execution_count": null,
   "metadata": {},
   "outputs": [],
   "source": [
    "_,ax = plt.subplots(figsize=(12,4),ncols=3)\n",
    "h = 1300\n",
    "w = 1200\n",
    "sz = 256\n",
    "ax[0].imshow(inputdata[0,h:h+sz,w:w+sz], vmin=205,vmax=240)\n",
    "ax[1].imshow(mito_lowsnr[0,h:h+sz,w:w+sz],vmin=100,vmax=120)\n",
    "ax[2].imshow(actin_lowsnr[0,h:h+sz,w:w+sz],vmin=100,vmax=120)"
   ]
  },
  {
   "cell_type": "code",
   "execution_count": null,
   "metadata": {},
   "outputs": [],
   "source": [
    "inputdata[0,h:h+sz,w:w+sz].min(), inputdata[0,h:h+sz,w:w+sz].max()"
   ]
  },
  {
   "cell_type": "code",
   "execution_count": null,
   "metadata": {},
   "outputs": [],
   "source": [
    "data.shape"
   ]
  },
  {
   "cell_type": "code",
   "execution_count": null,
   "metadata": {},
   "outputs": [],
   "source": [
    "import matplotlib.pyplot as plt\n",
    "from disentangle.analysis.plot_utils import clean_ax\n",
    "import matplotlib.patches as patches\n",
    "\n",
    "\n",
    "img_idx = 0\n",
    "# h,w = 1000, 500\n",
    "h = 1300\n",
    "w = 1200\n",
    "\n",
    "sz = 256\n",
    "# coords = (hs-extra_h//2, ws-extra_w//2, hN+extra_h//2, wN+extra_w//2)\n",
    "# ax_inp.add_patch(rect)\n",
    "\n",
    "_,ax = plt.subplots(figsize=(18,6),ncols=3)\n",
    "ax[0].imshow(inputdata[img_idx,h-sz//2:h+sz//2,w-sz//2:w+sz//2])\n",
    "lc = 2\n",
    "ax[1].imshow(inputdata[img_idx,h-lc*sz//2:h+lc*sz//2,w-lc*sz//2:w+lc*sz//2])\n",
    "tmp_sz = lc * sz\n",
    "center = tmp_sz//2\n",
    "rect = patches.Rectangle((center-sz//2, center-sz//2), sz, sz, linewidth=2, edgecolor='w', facecolor='none', linestyle='--')\n",
    "ax[1].add_patch(rect)\n",
    "\n",
    "\n",
    "lc = 4\n",
    "ax[2].imshow(inputdata[img_idx,h-lc*sz//2:h+lc*sz//2,w-lc*sz//2:w+lc*sz//2])\n",
    "tmp_sz = lc * sz\n",
    "center = tmp_sz//2\n",
    "rect = patches.Rectangle((center-sz//2, center-sz//2), sz, sz, linewidth=2, edgecolor='w', facecolor='none', linestyle='--')\n",
    "ax[2].add_patch(rect)\n",
    "\n",
    "clean_ax(ax)"
   ]
  },
  {
   "cell_type": "code",
   "execution_count": null,
   "metadata": {},
   "outputs": [],
   "source": [
    "_,ax = plt.subplots(figsize=(12,8),ncols=3,nrows=2)\n",
    "ax[0,0].imshow(inputdata[0,h:h+sz,w:w+sz], vmin=205,vmax=240)\n",
    "ax[0,1].imshow(mito_lowsnr[0,h:h+sz,w:w+sz],vmin=100,vmax=120)\n",
    "ax[0,2].imshow(actin_lowsnr[0,h:h+sz,w:w+sz],vmin=100,vmax=120)\n",
    "\n",
    "ax[1,1].imshow(mito_highsnr[0,h:h+sz,w:w+sz])\n",
    "ax[1,2].imshow(actin_highsnr[0,h:h+sz,w:w+sz])\n",
    "\n",
    "clean_ax(ax)"
   ]
  },
  {
   "cell_type": "code",
   "execution_count": null,
   "metadata": {},
   "outputs": [],
   "source": []
  }
 ],
 "metadata": {
  "kernelspec": {
   "display_name": "Python 3",
   "language": "python",
   "name": "python3"
  },
  "language_info": {
   "codemirror_mode": {
    "name": "ipython",
    "version": 3
   },
   "file_extension": ".py",
   "mimetype": "text/x-python",
   "name": "python",
   "nbconvert_exporter": "python",
   "pygments_lexer": "ipython3",
   "version": "3.9.19"
  }
 },
 "nbformat": 4,
 "nbformat_minor": 2
}
