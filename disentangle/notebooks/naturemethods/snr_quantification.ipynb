{
 "cells": [
  {
   "cell_type": "markdown",
   "metadata": {},
   "source": [
    "We are looking at the nucleus channel, the channel which is not working well in HHMI25 V1"
   ]
  },
  {
   "cell_type": "code",
   "execution_count": null,
   "metadata": {},
   "outputs": [],
   "source": [
    "#Composite_region1_CF_L3L3.tif\n",
    "mean_background = [2.88, 3.27, 3.29, 3.195]\n",
    "mean_foreground = [58, 44.3,54.9,30.1,27.7,34.7,47.9]"
   ]
  },
  {
   "cell_type": "markdown",
   "metadata": {},
   "source": [
    "## HHMI V2"
   ]
  },
  {
   "cell_type": "code",
   "execution_count": null,
   "metadata": {},
   "outputs": [],
   "source": [
    "# 6am_am_female_LIv4.tif\n",
    "mean_background_v2 = [1511, 937,595, 1017, 1145,1188,1146,1314]\n",
    "mean_foreground_v2 = [20071, 13629,9057,13588,13979,15292,17666]"
   ]
  },
  {
   "cell_type": "code",
   "execution_count": null,
   "metadata": {},
   "outputs": [],
   "source": [
    "import numpy as np\n",
    "snr_v1 = np.mean(mean_foreground)/np.mean(mean_background)\n",
    "snr_v2 = np.mean(mean_foreground_v2)/np.mean(mean_background_v2)\n",
    "print(snr_v1, snr_v2)"
   ]
  },
  {
   "cell_type": "code",
   "execution_count": null,
   "metadata": {},
   "outputs": [],
   "source": []
  }
 ],
 "metadata": {
  "kernelspec": {
   "display_name": "Python 3",
   "language": "python",
   "name": "python3"
  },
  "language_info": {
   "codemirror_mode": {
    "name": "ipython",
    "version": 3
   },
   "file_extension": ".py",
   "mimetype": "text/x-python",
   "name": "python",
   "nbconvert_exporter": "python",
   "pygments_lexer": "ipython3",
   "version": "3.9.19"
  }
 },
 "nbformat": 4,
 "nbformat_minor": 2
}
