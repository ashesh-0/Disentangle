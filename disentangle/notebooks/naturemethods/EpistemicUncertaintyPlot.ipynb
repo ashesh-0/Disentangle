{
 "cells": [
  {
   "cell_type": "code",
   "execution_count": null,
   "metadata": {},
   "outputs": [],
   "source": [
    "base_pkl = '/group/jug/ashesh/data/paper_stats/Test_P64_G32_M10_Sk0/epistemic_uncertainty_data_collection/data.dset_type-2ms/stats_training_disentangle_2406_D25-M3-S0-L8_4.pkl'"
   ]
  },
  {
   "cell_type": "code",
   "execution_count": null,
   "metadata": {},
   "outputs": [],
   "source": [
    "base_noise_level = base_pkl.split('/')[-2].replace('data.dset_type-', '')\n",
    "assert base_noise_level in base_pkl, f'{base_noise_level} not in {base_pkl}'\n",
    "print(base_noise_level)\n",
    "different_noise_levels = {\n",
    "    '2ms': base_pkl.replace(base_noise_level, '2ms'),\n",
    "    '3ms': base_pkl.replace(base_noise_level, '3ms'),\n",
    "    '5ms': base_pkl.replace(base_noise_level, '5ms'),\n",
    "    '20ms': base_pkl.replace(base_noise_level, '20ms'),\n",
    "    '500ms': base_pkl.replace(base_noise_level, '500ms'),\n",
    "    # 'Ch': '/group/jug/ashesh/data/paper_stats/Test_P64_G32_M10_Sk0/epistemic_uncertainty_data_collection/data.channel_idx_list-[1, 2, 0, 14]/stats_training_disentangle_2406_D25-M3-S0-L8_4.pkl'\n",
    "}"
   ]
  },
  {
   "cell_type": "code",
   "execution_count": null,
   "metadata": {},
   "outputs": [],
   "source": [
    "import pickle\n",
    "data_dict = {}\n",
    "for k, v in different_noise_levels.items():\n",
    "    with open(v, 'rb') as f:\n",
    "        data_dict[k] = pickle.load(f)"
   ]
  },
  {
   "cell_type": "code",
   "execution_count": null,
   "metadata": {},
   "outputs": [],
   "source": [
    "data_dict['2ms'].keys()"
   ]
  },
  {
   "cell_type": "code",
   "execution_count": null,
   "metadata": {},
   "outputs": [],
   "source": [
    "ch_idx = 0\n",
    "img_idx = 0\n",
    "data_dict['2ms']['pred'][ch_idx][img_idx].shape"
   ]
  },
  {
   "cell_type": "markdown",
   "metadata": {},
   "source": [
    "### Compute Epistemic Uncertainty"
   ]
  },
  {
   "cell_type": "code",
   "execution_count": null,
   "metadata": {},
   "outputs": [],
   "source": [
    "for conf_key in data_dict.keys():\n",
    "    data_dict[conf_key]['std'] ={}\n",
    "    for ch_idx in data_dict[conf_key]['pred'].keys():\n",
    "        data_dict[conf_key]['std'][ch_idx] = []\n",
    "        for img_idx in range(len(data_dict[conf_key]['pred'][ch_idx])):\n",
    "            img = data_dict[conf_key]['pred'][ch_idx][img_idx]\n",
    "            std = img.std(axis=0)\n",
    "            data_dict[conf_key]['std'][ch_idx].append(std)\n"
   ]
  },
  {
   "cell_type": "code",
   "execution_count": null,
   "metadata": {},
   "outputs": [],
   "source": [
    "import matplotlib.pyplot as plt\n",
    "import os\n",
    "import seaborn as sns\n",
    "import numpy as np\n",
    "from tqdm import tqdm\n",
    "save_to_file = True\n",
    "\n",
    "_,ax = plt.subplots(figsize=(15,4),ncols=3)\n",
    "for conf_key in tqdm(data_dict.keys()):\n",
    "    for ch_idx in range(3):\n",
    "        std_values = data_dict[conf_key]['std'][ch_idx]\n",
    "        # one value per patch\n",
    "        std_values = [np.mean(x[16:-16,16:-16]) for x in std_values]\n",
    "        # add linewidth=10\n",
    "        sns.kdeplot(std_values,ax=ax[ch_idx], log_scale=True, label=conf_key, \n",
    "                    linewidth=3 if conf_key == base_noise_level else 1,\n",
    "                    color = 'green' if conf_key == base_noise_level else None)\n",
    "    #\n",
    "\n",
    "for ch_idx in range(3):\n",
    "    ax[ch_idx].grid()\n",
    "    # grid background color to gray\n",
    "    ax[ch_idx].set_facecolor('lightgrey')\n",
    "\n",
    "# ax[-1].legend()\n",
    "# set legend title \n",
    "ax[-1].legend(title='Eval Data')\n",
    "\n",
    "if save_to_file:\n",
    "    model_id = base_pkl.split('/')[-1].replace('.pkl', '').replace('stats_training_disentangle_','')\n",
    "    plot_fpath = os.path.join('/group/jug/ashesh/naturemethods/epistemic_uncertainty', f'noise_variation_{base_noise_level}_{model_id}.png')\n",
    "    print(plot_fpath)\n",
    "    plt.savefig(plot_fpath, dpi=200)\n"
   ]
  },
  {
   "cell_type": "code",
   "execution_count": null,
   "metadata": {},
   "outputs": [],
   "source": [
    "print(plt.rcParams['axes.prop_cycle'].by_key()['color'])"
   ]
  },
  {
   "cell_type": "code",
   "execution_count": null,
   "metadata": {},
   "outputs": [],
   "source": []
  }
 ],
 "metadata": {
  "kernelspec": {
   "display_name": "Python 3",
   "language": "python",
   "name": "python3"
  },
  "language_info": {
   "codemirror_mode": {
    "name": "ipython",
    "version": 3
   },
   "file_extension": ".py",
   "mimetype": "text/x-python",
   "name": "python",
   "nbconvert_exporter": "python",
   "pygments_lexer": "ipython3",
   "version": "3.9.19"
  }
 },
 "nbformat": 4,
 "nbformat_minor": 2
}
