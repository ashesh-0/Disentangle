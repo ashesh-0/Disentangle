{
 "cells": [
  {
   "cell_type": "code",
   "execution_count": null,
   "metadata": {},
   "outputs": [],
   "source": [
    "! ls /group/jug/ashesh/naturemethods/iba1ki67"
   ]
  },
  {
   "cell_type": "code",
   "execution_count": null,
   "metadata": {},
   "outputs": [],
   "source": [
    "## Synthetic data"
   ]
  },
  {
   "cell_type": "code",
   "execution_count": null,
   "metadata": {},
   "outputs": [],
   "source": [
    "from disentangle.core.tiff_reader import load_tiff\n",
    "import os\n",
    "\n",
    "dir = '/group/jug/ashesh/naturemethods/iba1ki67/'\n",
    "aug = os.path.join(dir,'Test_OnlyIba1P{}_PNone_G64_M50_Sk32_2405_D14-M3-S0-L8_9.tif')\n",
    "noaug = os.path.join(dir, 'Test_OnlyIba1P{}_PNone_G64_M50_Sk32_2406_D14-M3-S0-L8_2.tif')\n",
    "tar = os.path.join(dir, 'GT_OnlyIba1P{}.tif')\n",
    "\n",
    "data_of_augmodel = {\n",
    "# 0:  {'pred':load_tiff(aug.format(0)), \n",
    "#      'target':load_tiff(tar.format(0))},\n",
    "30: {'pred':load_tiff(aug.format(30)), \n",
    "     'pred_noaug':load_tiff(noaug.format(30)),\n",
    "     'tar':load_tiff(tar.format(30))},\n",
    "50: {'pred':load_tiff(aug.format(50)),\n",
    "     'pred_noaug':load_tiff(noaug.format(50)),\n",
    "        'tar':load_tiff(tar.format(50))},\n",
    "70: {'pred':load_tiff(aug.format(70)),\n",
    "     'pred_noaug':load_tiff(noaug.format(70)),\n",
    "     'tar':load_tiff(tar.format(70))},\n",
    "}"
   ]
  },
  {
   "cell_type": "code",
   "execution_count": null,
   "metadata": {},
   "outputs": [],
   "source": [
    "data_of_augmodel[30]['tar'].shape"
   ]
  },
  {
   "cell_type": "code",
   "execution_count": null,
   "metadata": {},
   "outputs": [],
   "source": [
    "import matplotlib.pyplot as plt\n",
    "from disentangle.analysis.plot_utils import clean_ax\n",
    "\n",
    "idx = 0\n",
    "img_sz = 4\n",
    "ncols = 4\n",
    "nrows = 4\n",
    "shape = data_of_augmodel[30]['tar'].shape\n",
    "factor = shape[-1]/shape[-2]\n",
    "_, ax = plt.subplots(figsize=(img_sz*ncols*factor, img_sz*nrows), ncols=ncols, nrows=nrows)\n",
    "d30 = data_of_augmodel[30]\n",
    "d50 = data_of_augmodel[50]\n",
    "d70 = data_of_augmodel[70]\n",
    "d0 = d30\n",
    "\n",
    "# ax[0,0].imshow(d0['tar'][idx].mean(axis=0))\n",
    "# ax[1,0].imshow(d0['tar'][idx,0])\n",
    "# ax[2,0].imshow(d0['pred'][idx,0])\n",
    "# ax[3,0].imshow(d0['pred_noaug'][idx,0])\n",
    "\n",
    "\n",
    "ax[0,1].imshow(d30['tar'][idx].mean(axis=0))\n",
    "ax[1,1].imshow(d30['tar'][idx,0])\n",
    "ax[2,1].imshow(d30['pred'][idx,0])\n",
    "ax[3,1].imshow(d30['pred_noaug'][idx,0])\n",
    "\n",
    "\n",
    "ax[0,2].imshow(d50['tar'][idx].mean(axis=0))\n",
    "ax[1,2].imshow(d50['tar'][idx,0])\n",
    "ax[2,2].imshow(d50['pred'][idx,0])\n",
    "ax[3,2].imshow(d50['pred_noaug'][idx,0])\n",
    "\n",
    "ax[0,3].imshow(d70['tar'][idx].mean(axis=0))\n",
    "ax[1,3].imshow(d70['tar'][idx,0])\n",
    "ax[2,3].imshow(d70['pred'][idx,0])\n",
    "ax[3,3].imshow(d70['pred_noaug'][idx,0])\n",
    "# clean_ax(ax)\n",
    "plt.subplots_adjust(wspace=0.01, hspace=0.01)\n"
   ]
  },
  {
   "cell_type": "code",
   "execution_count": null,
   "metadata": {},
   "outputs": [],
   "source": [
    "_,ax = plt.subplots(figsize=(8,2),ncols=4)\n",
    "ax[0].imshow(d0['tar'][idx].mean(axis=0)[750:1250,0:500])\n",
    "ax[1].imshow(d30['tar'][idx].mean(axis=0)[750:1250,0:500])\n",
    "ax[2].imshow(d50['tar'][idx].mean(axis=0)[750:1250,0:500])\n",
    "ax[3].imshow(d70['tar'][idx].mean(axis=0)[750:1250,0:500])"
   ]
  },
  {
   "cell_type": "code",
   "execution_count": null,
   "metadata": {},
   "outputs": [],
   "source": [
    "_,ax = plt.subplots(figsize=(8,2),ncols=4)\n",
    "ax[0].imshow(d0['tar'][idx,0][750:1250,0:500])\n",
    "ax[1].imshow(d30['tar'][idx,0][750:1250,0:500])\n",
    "ax[2].imshow(d50['tar'][idx,0][750:1250,0:500])\n",
    "ax[3].imshow(d70['tar'][idx,0][750:1250,0:500])"
   ]
  },
  {
   "cell_type": "code",
   "execution_count": null,
   "metadata": {},
   "outputs": [],
   "source": [
    "_,ax = plt.subplots(figsize=(8,2),ncols=4)\n",
    "ax[0].imshow(d0['pred'][idx,0][750:1250,0:500])\n",
    "ax[1].imshow(d30['pred'][idx,0][750:1250,0:500])\n",
    "ax[2].imshow(d50['pred'][idx,0][750:1250,0:500])\n",
    "ax[3].imshow(d70['pred'][idx,0][750:1250,0:500])"
   ]
  },
  {
   "cell_type": "code",
   "execution_count": null,
   "metadata": {},
   "outputs": [],
   "source": [
    "plt.imshow(d70['pred'][idx,0][350:500,740:840])"
   ]
  },
  {
   "cell_type": "code",
   "execution_count": null,
   "metadata": {},
   "outputs": [],
   "source": []
  }
 ],
 "metadata": {
  "kernelspec": {
   "display_name": "Python 3",
   "language": "python",
   "name": "python3"
  },
  "language_info": {
   "codemirror_mode": {
    "name": "ipython",
    "version": 3
   },
   "file_extension": ".py",
   "mimetype": "text/x-python",
   "name": "python",
   "nbconvert_exporter": "python",
   "pygments_lexer": "ipython3",
   "version": "3.9.19"
  }
 },
 "nbformat": 4,
 "nbformat_minor": 2
}
