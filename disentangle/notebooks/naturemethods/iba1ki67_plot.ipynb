{
 "cells": [
  {
   "cell_type": "code",
   "execution_count": null,
   "metadata": {},
   "outputs": [],
   "source": [
    "! ls /group/jug/ashesh/naturemethods/iba1ki67"
   ]
  },
  {
   "cell_type": "code",
   "execution_count": null,
   "metadata": {},
   "outputs": [],
   "source": [
    "## Synthetic data"
   ]
  },
  {
   "cell_type": "code",
   "execution_count": null,
   "metadata": {},
   "outputs": [],
   "source": [
    "from disentangle.core.tiff_reader import load_tiff\n",
    "import os\n",
    "\n",
    "dir = '/group/jug/ashesh/naturemethods/iba1ki67/'\n",
    "aug = os.path.join(dir,'Test_OnlyIba1{}_PNone_G32_M50_Sk32_2406_D14-M3-S0-L8_16.tif')\n",
    "noaug = os.path.join(dir, 'Test_OnlyIba1{}_PNone_G32_M50_Sk32_2406_D14-M3-S0-L8_2.tif')\n",
    "tar = os.path.join(dir, 'GT_OnlyIba1{}.tif')\n",
    "data_of_augmodel = {\n",
    "0: {'pred':load_tiff(aug.format('')),\n",
    "    'pred_noaug':load_tiff(noaug.format('')), ### FIX THIS !!!\n",
    "    'tar':load_tiff(tar.format(''))},\n",
    "30: {'pred':load_tiff(aug.format('P30')), \n",
    "     'pred_noaug':load_tiff(noaug.format('P30')),\n",
    "     'tar':load_tiff(tar.format('P30'))},\n",
    "50: {'pred':load_tiff(aug.format('P50')),\n",
    "     'pred_noaug':load_tiff(noaug.format('P50')),\n",
    "        'tar':load_tiff(tar.format('P50'))},\n",
    "70: {'pred':load_tiff(aug.format('P70')),\n",
    "     'pred_noaug':load_tiff(noaug.format('P70')),\n",
    "     'tar':load_tiff(tar.format('P70'))},\n",
    "}\n",
    "\n",
    "data_of_augmodel[0]['tar'] = data_of_augmodel[0]['tar'][None]\n",
    "data_of_augmodel[0]['pred'] = data_of_augmodel[0]['pred'][None]\n",
    "data_of_augmodel[0]['pred_noaug'] = data_of_augmodel[0]['pred_noaug'][None]\n"
   ]
  },
  {
   "cell_type": "code",
   "execution_count": null,
   "metadata": {},
   "outputs": [],
   "source": [
    "import matplotlib.pyplot as plt\n",
    "from disentangle.analysis.plot_utils import clean_ax, add_subplot_axes\n",
    "import matplotlib.patches as patches\n",
    "\n",
    "inset_rect=[0.7,0.65,0.5,0.5]\n",
    "inset_min_labelsize=10\n",
    "\n",
    "\n",
    "idx = 0\n",
    "img_sz = 4\n",
    "ncols = 4\n",
    "nrows = 4\n",
    "hs, ws , hN, wN = 750, 10, 500, 500\n",
    "def add_inset(ax_, img, inset_rect):\n",
    "    img_crop = img[hs:hs+hN,ws:ws+wN]\n",
    "    inset_ax = add_subplot_axes(ax_, inset_rect, min_labelsize=inset_min_labelsize)\n",
    "    inset_ax.imshow(img_crop)\n",
    "    for spine in inset_ax.spines.values():\n",
    "            spine.set_edgecolor('white')\n",
    "    clean_ax(inset_ax)\n",
    " \n",
    "def plot_dict(ax_, data_, inset_w, inset_h_offset=0):\n",
    "    ax_[0].imshow(data_['tar'][idx].mean(axis=0))\n",
    "    ax_[1].imshow(data_['tar'][idx,0])\n",
    "    ax_[2].imshow(data_['pred'][idx,0])\n",
    "    ax_[3].imshow(data_['pred_noaug'][idx,0])\n",
    "    # inset \n",
    "    tmp_inset = inset_rect.copy()\n",
    "    tmp_inset[0] = inset_w\n",
    "    \n",
    "    tmp_inset[1] = 0.55 + inset_h_offset\n",
    "    add_inset(ax_[0], data_['tar'][idx].mean(axis=0), tmp_inset)\n",
    "    tmp_inset[1] = 0.6 + inset_h_offset\n",
    "    add_inset(ax_[1], data_['tar'][idx,0], tmp_inset)\n",
    "    tmp_inset[1] = 0.65 + inset_h_offset\n",
    "    add_inset(ax_[2], data_['pred'][idx,0], tmp_inset)\n",
    "    tmp_inset[1] = 0.7 + inset_h_offset\n",
    "    add_inset(ax_[3], data_['pred_noaug'][idx,0], tmp_inset)\n",
    "    for i in range(4):\n",
    "        rect1 = patches.Rectangle((ws,hs), wN,hN, linewidth=2, edgecolor='w',linestyle='--', facecolor='none')\n",
    "        ax_[i].add_patch(rect1)\n",
    "\n",
    "shape = data_of_augmodel[30]['tar'].shape\n",
    "factor = shape[-1]/shape[-2]\n",
    "_, ax = plt.subplots(figsize=(img_sz*ncols*factor, img_sz*nrows), ncols=ncols, nrows=nrows)\n",
    "d0 = data_of_augmodel[0]\n",
    "d30 = data_of_augmodel[30]\n",
    "d50 = data_of_augmodel[50]\n",
    "d70 = data_of_augmodel[70]\n",
    "\n",
    "inset_h_offset = -0.08\n",
    "inset_w_offset = -0.08\n",
    "\n",
    "plot_dict(ax[:,0], d0,  0.73+inset_w_offset, inset_h_offset)\n",
    "plot_dict(ax[:,1], d30, 0.68+inset_w_offset, inset_h_offset)\n",
    "plot_dict(ax[:,2], d50, 0.63+inset_w_offset, inset_h_offset)\n",
    "plot_dict(ax[:,3], d70, 0.58+inset_w_offset, inset_h_offset)\n",
    "\n",
    "clean_ax(ax)\n",
    "plt.subplots_adjust(wspace=0.01, hspace=0.01)\n",
    "plot_fpath = os.path.join('/group/jug/ashesh/naturemethods/iba1ki67', 'iba1ki67_evaluation.png')\n",
    "print(plot_fpath)\n",
    "plt.savefig(plot_fpath, dpi=200)\n"
   ]
  },
  {
   "cell_type": "code",
   "execution_count": null,
   "metadata": {},
   "outputs": [],
   "source": [
    "_,ax = plt.subplots(figsize=(8,2),ncols=4)\n",
    "ax[0].imshow(d0['tar'][idx].mean(axis=0)[750:1250,0:500])\n",
    "ax[1].imshow(d30['tar'][idx].mean(axis=0)[750:1250,0:500])\n",
    "ax[2].imshow(d50['tar'][idx].mean(axis=0)[750:1250,0:500])\n",
    "ax[3].imshow(d70['tar'][idx].mean(axis=0)[750:1250,0:500])"
   ]
  },
  {
   "cell_type": "code",
   "execution_count": null,
   "metadata": {},
   "outputs": [],
   "source": [
    "_,ax = plt.subplots(figsize=(8,2),ncols=4)\n",
    "ax[0].imshow(d0['tar'][idx,0][750:1250,0:500])\n",
    "ax[1].imshow(d30['tar'][idx,0][750:1250,0:500])\n",
    "ax[2].imshow(d50['tar'][idx,0][750:1250,0:500])\n",
    "ax[3].imshow(d70['tar'][idx,0][750:1250,0:500])"
   ]
  },
  {
   "cell_type": "code",
   "execution_count": null,
   "metadata": {},
   "outputs": [],
   "source": [
    "_,ax = plt.subplots(figsize=(8,2),ncols=4)\n",
    "ax[0].imshow(d0['pred'][idx,0][750:1250,0:500])\n",
    "ax[1].imshow(d30['pred'][idx,0][750:1250,0:500])\n",
    "ax[2].imshow(d50['pred'][idx,0][750:1250,0:500])\n",
    "ax[3].imshow(d70['pred'][idx,0][750:1250,0:500])"
   ]
  },
  {
   "cell_type": "code",
   "execution_count": null,
   "metadata": {},
   "outputs": [],
   "source": [
    "plt.imshow(d70['pred'][idx,0][350:500,740:840])"
   ]
  },
  {
   "cell_type": "code",
   "execution_count": null,
   "metadata": {},
   "outputs": [],
   "source": []
  }
 ],
 "metadata": {
  "kernelspec": {
   "display_name": "Python 3",
   "language": "python",
   "name": "python3"
  },
  "language_info": {
   "codemirror_mode": {
    "name": "ipython",
    "version": 3
   },
   "file_extension": ".py",
   "mimetype": "text/x-python",
   "name": "python",
   "nbconvert_exporter": "python",
   "pygments_lexer": "ipython3",
   "version": "3.9.19"
  }
 },
 "nbformat": 4,
 "nbformat_minor": 2
}
