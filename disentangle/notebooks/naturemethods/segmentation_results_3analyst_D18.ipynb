{
 "cells": [
  {
   "cell_type": "code",
   "execution_count": null,
   "metadata": {},
   "outputs": [],
   "source": [
    "inputdir = '/facility/imganfacusers/Ashesh/NatureMethodsSegmentation/2405_D18-M3-S0-L8_14/' \n",
    "segmentationdir = '/facility/imganfacusers/Ashesh/NatureMethodsSegmentationOutputs/Analysis_2405_D18-M3-S0-L8_14/'\n",
    "OUTPUT_DIR = '/group/jug/ashesh/naturemethods/segmentation/one_analyst/Analysis_2405_D18-M3-S0-L8_14/'"
   ]
  },
  {
   "cell_type": "code",
   "execution_count": null,
   "metadata": {},
   "outputs": [],
   "source": [
    "from disentangle.core.tiff_reader import load_tiff\n",
    "import os\n",
    "ch_idx = 1 # which channel are we interested in doing segmentation.\n",
    "gt = load_tiff(os.path.join(inputdir, 'GT.tif'))\n",
    "pred  = load_tiff(os.path.join(inputdir, 'pred_disentangle_2405_D18-M3-S0-L8_14_1.tif'))\n",
    "pred.shape, gt.shape"
   ]
  },
  {
   "cell_type": "code",
   "execution_count": null,
   "metadata": {},
   "outputs": [],
   "source": [
    "input = (gt[:,0] + gt[:,1])/2\n",
    "gt_ch = gt[:,ch_idx]\n",
    "pred_ch = pred[:,ch_idx]\n",
    "raw_dict = {'input':input, 'pred':pred_ch, 'GT':gt_ch}\n"
   ]
  },
  {
   "cell_type": "code",
   "execution_count": null,
   "metadata": {},
   "outputs": [],
   "source": [
    "seg_input = load_tiff(os.path.join(segmentationdir,'Segmentation3_Input.tif'))\n",
    "seg_pred = load_tiff(os.path.join(segmentationdir,'Segmentation3_Prediction.tif'))\n",
    "seg_GT = load_tiff(os.path.join(segmentationdir,'segmentation_GT.tif'))\n",
    "\n"
   ]
  },
  {
   "cell_type": "code",
   "execution_count": null,
   "metadata": {},
   "outputs": [],
   "source": [
    "seg_input.shape"
   ]
  },
  {
   "cell_type": "code",
   "execution_count": null,
   "metadata": {},
   "outputs": [],
   "source": [
    "import numpy as np\n",
    "def dice_coefficient(x,y):\n",
    "    assert set(np.unique(x)) == set([0,1])\n",
    "    assert set(np.unique(y)) == set([0,1])\n",
    "    intersection = np.sum(x[y==1])\n",
    "    union = np.sum(x) + np.sum(y)\n",
    "    return 2*intersection/union\n",
    "\n",
    "def add_text(ax, text, img_shape, place='TOP_LEFT'):\n",
    "    \"\"\"\n",
    "    Adding text on image\n",
    "    \"\"\"\n",
    "    assert place in ['TOP_LEFT', 'BOTTOM_RIGHT']\n",
    "    if place == 'TOP_LEFT':\n",
    "        ax.text(70, 130, text, bbox=dict(facecolor='white', alpha=0.9))\n",
    "    elif place == 'BOTTOM_RIGHT':\n",
    "        s0 = img_shape[1]\n",
    "        s1 = img_shape[0]\n",
    "        ax.text(s0 - s0 * 150 / 500, s1 - s1 * 35 / 500, text, bbox=dict(facecolor='white', alpha=0.9))\n"
   ]
  },
  {
   "cell_type": "code",
   "execution_count": null,
   "metadata": {},
   "outputs": [],
   "source": [
    "from disentangle.analysis.plot_utils import clean_ax\n",
    "import matplotlib.pyplot as plt\n",
    "img_idx = 0\n",
    "img_size = 5\n",
    "s = 1000\n",
    "e = 3000\n",
    "save_to_file = True\n",
    "_,ax = plt.subplots(figsize=(3*img_size, 2*img_size), ncols=3,nrows=2)\n",
    "ax[0,0].imshow(raw_dict['input'][img_idx][s:e,s:e], cmap='gray')\n",
    "ax[0,1].imshow(raw_dict['pred'][img_idx][s:e,s:e], cmap='gray')\n",
    "ax[0,2].imshow(raw_dict['GT'][img_idx][s:e,s:e], cmap='gray')\n",
    "ax[1,0].imshow(seg_input[s:e,s:e], cmap='gray')\n",
    "ax[1,1].imshow(seg_pred[s:e,s:e], cmap='gray')\n",
    "ax[1,2].imshow(seg_GT[s:e,s:e], cmap='gray')\n",
    "\n",
    "dice_input = dice_coefficient(seg_GT.flatten() > 0, seg_input.flatten() >0)\n",
    "dice_pred = dice_coefficient(seg_GT.flatten() > 0, seg_pred.flatten() >0)\n",
    "add_text(ax[1,0], f'DICE: {dice_input:.2f}', seg_input.shape, place='TOP_LEFT')\n",
    "add_text(ax[1,1], f'DICE: {dice_pred:.2f}', seg_input.shape, place='TOP_LEFT')\n",
    "\n",
    "\n",
    "clean_ax(ax)\n",
    "# remove the space between the subplots\n",
    "plt.subplots_adjust(wspace=0.05, hspace=0.05)\n",
    "if save_to_file:\n",
    "    model_token = os.path.basename(inputdir.strip('/'))\n",
    "    fname = f'segmentation_1analyst_{model_token}.png'\n",
    "    fpath = os.path.join(OUTPUT_DIR, fname)\n",
    "    print(fpath)\n",
    "    plt.savefig(fpath, dpi = 100, bbox_inches='tight')\n"
   ]
  },
  {
   "cell_type": "code",
   "execution_count": null,
   "metadata": {},
   "outputs": [],
   "source": []
  }
 ],
 "metadata": {
  "kernelspec": {
   "display_name": "Python 3",
   "language": "python",
   "name": "python3"
  },
  "language_info": {
   "codemirror_mode": {
    "name": "ipython",
    "version": 3
   },
   "file_extension": ".py",
   "mimetype": "text/x-python",
   "name": "python",
   "nbconvert_exporter": "python",
   "pygments_lexer": "ipython3",
   "version": "3.9.19"
  }
 },
 "nbformat": 4,
 "nbformat_minor": 2
}
