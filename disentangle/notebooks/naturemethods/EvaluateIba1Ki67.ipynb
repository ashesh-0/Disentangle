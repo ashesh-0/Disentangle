{
 "cells": [
  {
   "cell_type": "code",
   "execution_count": null,
   "id": "19844352",
   "metadata": {},
   "outputs": [],
   "source": [
    "from IPython.display import display, HTML\n",
    "import os\n",
    "display(HTML(\"<style>.container { width:100% !important; }</style>\"))"
   ]
  },
  {
   "cell_type": "code",
   "execution_count": null,
   "id": "27ec4422",
   "metadata": {},
   "outputs": [],
   "source": [
    "%run ../nb_core/root_dirs.ipynb\n",
    "setup_syspath_disentangle(False)\n",
    "%run ../nb_core/disentangle_imports.ipynb"
   ]
  },
  {
   "cell_type": "code",
   "execution_count": null,
   "id": "5a9748a9",
   "metadata": {},
   "outputs": [],
   "source": [
    "# ckpt_dir = \"/group/jug/ashesh/training/disentangle/2406/D14-M3-S0-L8/2\" \n",
    "ckpt_dir = \"/group/jug/ashesh/training/disentangle/2405/D14-M3-S0-L8/9\" \n",
    "assert os.path.exists(ckpt_dir)"
   ]
  },
  {
   "cell_type": "code",
   "execution_count": null,
   "id": "c383d367",
   "metadata": {},
   "outputs": [],
   "source": [
    "def get_dtype(ckpt_fpath):\n",
    "    if os.path.isdir(ckpt_fpath):\n",
    "        ckpt_fpath = ckpt_fpath[:-1] if ckpt_fpath[-1] == '/' else ckpt_fpath\n",
    "    elif os.path.isfile(ckpt_fpath):\n",
    "        ckpt_fpath = os.path.dirname(ckpt_fpath)\n",
    "    assert ckpt_fpath[-1] != '/'\n",
    "    return int(ckpt_fpath.split('/')[-2].split('-')[0][1:])"
   ]
  },
  {
   "cell_type": "code",
   "execution_count": null,
   "id": "d7232e05",
   "metadata": {},
   "outputs": [],
   "source": [
    "dtype = get_dtype(ckpt_dir)\n",
    "dtype"
   ]
  },
  {
   "cell_type": "code",
   "execution_count": null,
   "id": "0b237569",
   "metadata": {
    "slideshow": {
     "slide_type": "skip"
    }
   },
   "outputs": [],
   "source": [
    "from disentangle.data_loader.ht_iba1_ki67_rawdata_loader import SubDsetType\n",
    "\n",
    "image_size_for_grid_centers = 64\n",
    "mmse_count = 50\n",
    "subdset_type = SubDsetType.OnlyIba1P70\n",
    "\n",
    "\n",
    "custom_image_size = None\n",
    "data_t_list = None #[0,1,2,3]\n",
    "\n",
    "save_comparative_plots =False\n",
    "enable_calibration = False\n",
    "batch_size = 64\n",
    "num_workers = 4\n",
    "COMPUTE_LOSS = False\n",
    "use_deterministic_grid = None\n",
    "threshold = None # 0.02\n",
    "compute_kl_loss = False\n",
    "evaluate_train = False# inspect training performance\n",
    "eval_datasplit_type = DataSplitType.Test \n",
    "val_repeat_factor = None\n",
    "psnr_type = 'range_invariant' #'simple', 'range_invariant'"
   ]
  },
  {
   "cell_type": "code",
   "execution_count": null,
   "id": "f889dd2d",
   "metadata": {},
   "outputs": [],
   "source": [
    "%run ../nb_core/config_loader.ipynb"
   ]
  },
  {
   "cell_type": "code",
   "execution_count": null,
   "id": "2a0047fe",
   "metadata": {},
   "outputs": [],
   "source": [
    "tokens = ckpt_dir.split('/')\n",
    "idx = tokens.index('disentangle')\n",
    "# if config.model.model_type == 25 and tokens[idx+1] == '2312':\n",
    "#     config.model.model_type = ModelType.LadderVAERestrictedReconstruction"
   ]
  },
  {
   "cell_type": "code",
   "execution_count": null,
   "id": "bc8a3fed",
   "metadata": {},
   "outputs": [],
   "source": [
    "from disentangle.core.sampler_type import SamplerType\n",
    "from disentangle.core.loss_type import LossType\n",
    "from disentangle.data_loader.ht_iba1_ki67_rawdata_loader import SubDsetType\n",
    "# from disentangle.core.lowres_merge_type import LowresMergeType\n",
    "\n",
    "\n",
    "with config.unlocked():\n",
    "    if dtype == DataType.HTIba1Ki67:\n",
    "        config.data.subdset_type = subdset_type\n",
    "        config.data.empty_patch_replacement_enabled = False\n",
    "\n",
    "\n",
    "\n",
    "    # older config updates.\n",
    "    config.model.skip_nboundary_pixels_from_loss = None\n",
    "    if config.model.model_type == ModelType.UNet and 'n_levels' not in config.model:\n",
    "        config.model.n_levels = 4\n",
    "    if config.data.sampler_type == SamplerType.NeighborSampler:\n",
    "        config.data.sampler_type = SamplerType.DefaultSampler\n",
    "        config.loss.loss_type = LossType.Elbo\n",
    "        config.data.grid_size = config.data.image_size\n",
    "    if 'ch1_fpath_list' in config.data:\n",
    "        config.data.ch1_fpath_list = config.data.ch1_fpath_list[:1]\n",
    "        config.data.mix_fpath_list = config.data.mix_fpath_list[:1]\n",
    "    if config.data.data_type == DataType.Pavia2VanillaSplitting:\n",
    "        if 'channel_2_downscale_factor' not in config.data:\n",
    "            config.data.channel_2_downscale_factor = 1\n",
    "    if config.model.model_type == ModelType.UNet and 'init_channel_count' not in config.model:\n",
    "        config.model.init_channel_count = 64\n",
    "    \n",
    "    if 'skip_receptive_field_loss_tokens' not in config.loss:\n",
    "        config.loss.skip_receptive_field_loss_tokens = []\n",
    "    \n",
    "    \n",
    "    \n",
    "    if 'lowres_merge_type' not in config.model.encoder:\n",
    "        config.model.encoder.lowres_merge_type = 0\n",
    "    if 'validtarget_random_fraction' in config.data:\n",
    "        config.data.validtarget_random_fraction = None\n",
    "    \n",
    "    if config.data.data_type == DataType.TwoDset:\n",
    "        config.model.model_type = ModelType.LadderVae\n",
    "        for key in config.data.dset1:\n",
    "            config.data[key] = config.data.dset1[key]\n",
    "    \n",
    "    if 'dump_kth_frame_prediction' in config.training:\n",
    "        config.training.dump_kth_frame_prediction = None\n",
    "\n",
    "    if 'input_is_sum' not in config.data:\n",
    "        config.data.input_is_sum = False"
   ]
  },
  {
   "cell_type": "code",
   "execution_count": null,
   "id": "a03b40f4",
   "metadata": {},
   "outputs": [],
   "source": [
    "# config.data.channel_1 = 0 \n",
    "# config.data.channel_2 = 3"
   ]
  },
  {
   "cell_type": "code",
   "execution_count": null,
   "id": "7ef646b2",
   "metadata": {},
   "outputs": [],
   "source": [
    "dtype = config.data.data_type\n",
    "assert dtype == DataType.HTIba1Ki67\n",
    "data_dir = f'{DATA_ROOT}/Stefania/20230327_Ki67_and_Iba1_trainingdata/'"
   ]
  },
  {
   "cell_type": "code",
   "execution_count": null,
   "id": "bed7f400",
   "metadata": {},
   "outputs": [],
   "source": [
    "config.model.noise_model_ch1_fpath = config.model.noise_model_ch1_fpath.replace('/home/ashesh.ashesh/training/', '/group/jug/ashesh/training_pre_eccv/')\n",
    "config.model.noise_model_ch2_fpath = config.model.noise_model_ch2_fpath.replace('/home/ashesh.ashesh/training/', '/group/jug/ashesh/training_pre_eccv/')"
   ]
  },
  {
   "cell_type": "code",
   "execution_count": null,
   "id": "edde2155",
   "metadata": {},
   "outputs": [],
   "source": [
    "%run ../nb_core/disentangle_setup.ipynb"
   ]
  },
  {
   "cell_type": "code",
   "execution_count": null,
   "id": "60d5fc4a",
   "metadata": {},
   "outputs": [],
   "source": [
    "if config.data.multiscale_lowres_count is not None and custom_image_size is not None:\n",
    "    model.reset_for_different_output_size(custom_image_size)"
   ]
  },
  {
   "cell_type": "code",
   "execution_count": null,
   "id": "d05be428",
   "metadata": {},
   "outputs": [],
   "source": [
    "idx = np.random.randint(len(val_dset))\n",
    "inp_tmp, tar_tmp, *_ = val_dset[idx]\n",
    "ncols = len(tar_tmp)\n",
    "nrows = 2\n",
    "_,ax = plt.subplots(figsize=(4*ncols,4*nrows),ncols=ncols,nrows=nrows)\n",
    "for i in range(min(ncols,len(inp_tmp))):\n",
    "    ax[0,i].imshow(inp_tmp[i])\n",
    "\n",
    "for channel_id in range(ncols):\n",
    "    ax[1,channel_id].imshow(tar_tmp[channel_id])"
   ]
  },
  {
   "cell_type": "code",
   "execution_count": null,
   "id": "eece008c",
   "metadata": {},
   "outputs": [],
   "source": [
    "if data_t_list is not None:\n",
    "    val_dset.reduce_data(t_list=data_t_list)"
   ]
  },
  {
   "cell_type": "code",
   "execution_count": null,
   "id": "ac7ac09e",
   "metadata": {},
   "outputs": [],
   "source": [
    "highsnr_val_dset = None\n",
    "\n"
   ]
  },
  {
   "cell_type": "code",
   "execution_count": null,
   "id": "c3ae4fa7",
   "metadata": {},
   "outputs": [],
   "source": [
    "def get_full_input_frame(idx, dset):\n",
    "    img_tuples, noise_tuples = dset._load_img(idx)\n",
    "    if len(noise_tuples) > 0:\n",
    "        factor = np.sqrt(2) if dset._input_is_sum else 1.0\n",
    "        img_tuples = [x + noise_tuples[0] * factor for x in img_tuples]\n",
    "\n",
    "    inp = 0\n",
    "    for nch in img_tuples:\n",
    "        inp += nch/len(img_tuples)\n",
    "    h_start, w_start = dset._get_deterministic_hw(idx)\n",
    "    return inp, h_start, w_start\n"
   ]
  },
  {
   "cell_type": "code",
   "execution_count": null,
   "id": "b2f11b80",
   "metadata": {},
   "outputs": [],
   "source": [
    "index = np.random.randint(len(val_dset))\n",
    "inp, tar = val_dset[index]\n",
    "frame, h_start, w_start = get_full_input_frame(index, val_dset)\n",
    "print(h_start, w_start)"
   ]
  },
  {
   "cell_type": "code",
   "execution_count": null,
   "id": "77918a82",
   "metadata": {},
   "outputs": [],
   "source": [
    "from disentangle.core.tiff_reader import load_tiff\n",
    "from disentangle.analysis.paper_plots import show_for_one, get_plotoutput_dir\n",
    "def get_hwt_start(idx):\n",
    "    h,w,t = val_dset.idx_manager.hwt_from_idx(idx, grid_size=64)\n",
    "    print(h,w,t)\n",
    "    pad = val_dset.per_side_overlap_pixelcount()\n",
    "    h =  h - pad\n",
    "    w = w - pad\n",
    "    return h,w,t\n",
    "\n",
    "def get_crop_from_fulldset_prediction(full_dset_pred, idx, patch_size=256):\n",
    "    h,w,t = get_hwt_start(idx)\n",
    "    return np.swapaxes(full_dset_pred[t,h:h+patch_size,w:w+patch_size].astype(np.float32)[None], 0, 3)[...,0]\n"
   ]
  },
  {
   "cell_type": "code",
   "execution_count": null,
   "id": "342dbacc",
   "metadata": {},
   "outputs": [],
   "source": [
    "import seaborn as sns\n",
    "_,ax = plt.subplots(figsize=(12,4),ncols=3)\n",
    "sns.histplot(np.log(val_dset._data[:,::4,::4,0].reshape(-1,)), ax=ax[0])\n",
    "sns.histplot(np.log(val_dset._data[:,::4,::4,1].reshape(-1,)), ax=ax[1])\n",
    "inp = (val_dset._data[...,0] + val_dset._data[...,1])/2\n",
    "sns.histplot(np.log(inp[:,::4,::4].reshape(-1,)), ax=ax[2])\n",
    "ax[2].set_title('log(inp)')\n",
    "\n"
   ]
  },
  {
   "cell_type": "code",
   "execution_count": null,
   "id": "65c0890a",
   "metadata": {},
   "outputs": [],
   "source": [
    "data_mean"
   ]
  },
  {
   "cell_type": "code",
   "execution_count": null,
   "id": "cac092b5",
   "metadata": {},
   "outputs": [],
   "source": [
    "from disentangle.analysis.stitch_prediction import stitch_predictions\n",
    "from disentangle.analysis.mmse_prediction import get_dset_predictions\n",
    "# from disentangle.analysis.stitch_prediction import get_predictions as get_dset_predictions\n",
    "\n",
    "pred_tiled, rec_loss, logvar_tiled, patch_psnr_tuple, pred_std_tiled = get_dset_predictions(model, val_dset,batch_size,\n",
    "                                               num_workers=num_workers,\n",
    "                                               mmse_count=mmse_count,\n",
    "                                                model_type = config.model.model_type,\n",
    "                                              )\n",
    "tmp = np.round([x.item() for x in patch_psnr_tuple],2)\n",
    "print('Patch wise PSNR, as computed during training', tmp,np.mean(tmp))"
   ]
  },
  {
   "cell_type": "code",
   "execution_count": null,
   "id": "ab10cb82",
   "metadata": {},
   "outputs": [],
   "source": [
    "pred_tiled.shape"
   ]
  },
  {
   "cell_type": "code",
   "execution_count": null,
   "id": "2b693a0c",
   "metadata": {},
   "outputs": [],
   "source": [
    "idx_list = np.where(logvar_tiled.squeeze() < -6)[0]\n",
    "if len(idx_list) > 0:\n",
    "    plt.imshow(val_dset[idx_list[0]][1][1])"
   ]
  },
  {
   "cell_type": "code",
   "execution_count": null,
   "id": "8a1573f8",
   "metadata": {},
   "outputs": [],
   "source": [
    "len(val_dset)"
   ]
  },
  {
   "cell_type": "code",
   "execution_count": null,
   "id": "c75b35f1",
   "metadata": {},
   "outputs": [],
   "source": [
    "if pred_tiled.shape[-1] != val_dset.get_img_sz():\n",
    "    pad = (val_dset.get_img_sz() - pred_tiled.shape[-1] )//2\n",
    "    pred_tiled = np.pad(pred_tiled, ((0,0),(0,0),(pad,pad),(pad,pad)))\n",
    "\n",
    "pred = stitch_predictions(pred_tiled,val_dset, )\n",
    "if len(np.unique(logvar_tiled)) == 1:\n",
    "    logvar = None\n",
    "else:\n",
    "    logvar = stitch_predictions(logvar_tiled,val_dset)\n",
    "pred_std = stitch_predictions(pred_std_tiled,val_dset)"
   ]
  },
  {
   "cell_type": "code",
   "execution_count": null,
   "id": "66deb75f",
   "metadata": {},
   "outputs": [],
   "source": [
    "if 'target_idx_list' in config.data and config.data.target_idx_list is not None:\n",
    "    pred = pred[...,:len(config.data.target_idx_list)]\n",
    "    pred_std = pred_std[...,:len(config.data.target_idx_list)]"
   ]
  },
  {
   "cell_type": "code",
   "execution_count": null,
   "id": "9e8ce80f",
   "metadata": {},
   "outputs": [],
   "source": [
    "len(pred) "
   ]
  },
  {
   "cell_type": "code",
   "execution_count": null,
   "id": "0d2ad25d",
   "metadata": {},
   "outputs": [],
   "source": [
    "def print_ignored_pixels():\n",
    "    ignored_pixels = 1\n",
    "    while(pred[0,-ignored_pixels:,-ignored_pixels:,].std() ==0):\n",
    "        ignored_pixels+=1\n",
    "    ignored_pixels-=1\n",
    "    print(f'In {pred.shape}, last {ignored_pixels} many rows and columns are all zero.')\n",
    "    return ignored_pixels\n",
    "\n",
    "actual_ignored_pixels = print_ignored_pixels()"
   ]
  },
  {
   "cell_type": "markdown",
   "id": "b8474735",
   "metadata": {},
   "source": [
    "## Ignore the pixels which are present in the last few rows and columns. \n",
    "1. They don't come in the batches. So, in prediction, they are simply zeros. So they are being are ignored right now. \n",
    "2. For the border pixels which are on the top and the left, overlapping yields worse performance. This is becuase, there is nothing to overlap on one side. So, they are essentially zero padded. This makes the performance worse. "
   ]
  },
  {
   "cell_type": "code",
   "execution_count": null,
   "id": "fcb2db09",
   "metadata": {},
   "outputs": [],
   "source": [
    "actual_ignored_pixels"
   ]
  },
  {
   "cell_type": "code",
   "execution_count": null,
   "id": "cadedfcd",
   "metadata": {},
   "outputs": [],
   "source": [
    "ignored_last_pixels = 32 \n",
    "ignore_first_pixels = 0\n",
    "assert actual_ignored_pixels <= ignored_last_pixels, f'Set ignored_last_pixels={actual_ignored_pixels}'\n",
    "print(ignored_last_pixels)"
   ]
  },
  {
   "cell_type": "code",
   "execution_count": null,
   "id": "226fed05",
   "metadata": {},
   "outputs": [],
   "source": [
    "tar = val_dset._data\n",
    "if 'target_idx_list' in config.data and config.data.target_idx_list is not None:\n",
    "    tar = tar[...,config.data.target_idx_list]\n",
    "def ignore_pixels(arr):\n",
    "    if ignore_first_pixels:\n",
    "        arr = arr[:,ignore_first_pixels:,ignore_first_pixels:]\n",
    "    if ignored_last_pixels:\n",
    "        arr = arr[:,:-ignored_last_pixels,:-ignored_last_pixels]\n",
    "    return arr\n",
    "\n",
    "pred = ignore_pixels(pred)\n",
    "tar = ignore_pixels(tar)\n",
    "if pred_std is not None:\n",
    "    pred_std = ignore_pixels(pred_std)\n"
   ]
  },
  {
   "cell_type": "code",
   "execution_count": null,
   "id": "7311e08a",
   "metadata": {},
   "outputs": [],
   "source": [
    "sep_mean, sep_std = model.data_mean, model.data_std\n",
    "if isinstance(sep_mean, dict):\n",
    "    sep_mean = sep_mean['target']\n",
    "    sep_std = sep_std['target']\n",
    "\n",
    "if isinstance(sep_mean, int):\n",
    "    pass\n",
    "else:\n",
    "    sep_mean = sep_mean.squeeze()[None,None,None]\n",
    "    sep_std = sep_std.squeeze()[None,None,None]\n",
    "    sep_mean = sep_mean.cpu().numpy() \n",
    "    sep_std = sep_std.cpu().numpy()\n",
    "\n",
    "tar_normalized = (tar - sep_mean)/ sep_std"
   ]
  },
  {
   "cell_type": "code",
   "execution_count": null,
   "id": "1d58e8c1",
   "metadata": {},
   "outputs": [],
   "source": [
    "from disentangle.metrics.calibration import get_calibrated_factor_for_stdev\n",
    "from disentangle.analysis.paper_plots import plot_calibration\n",
    "import numpy as np\n",
    "\n",
    "def get_plotoutput_dir(ckpt_dir, patch_size, mmse_count=50):\n",
    "    plotsrootdir = f'/group/jug/ashesh/data/paper_figures/patch_{patch_size}_mmse_{mmse_count}'\n",
    "    os.makedirs(plotsrootdir, exist_ok=True)\n",
    "    print(plotsrootdir)\n",
    "    return plotsrootdir\n",
    "\n",
    "def get_calibration_fnames(ckpt_dir):\n",
    "    tokens = ckpt_dir.strip('/').split('/')\n",
    "    modelid = int(tokens[-1])\n",
    "    model_specs = tokens[-2].replace('-','')\n",
    "    monthyear = tokens[-3]\n",
    "    fname_factor = f'calibration_factor_{monthyear}_{model_specs}_{modelid}.npy'\n",
    "    fname_stats = f'calibration_stats_{monthyear}_{model_specs}_{modelid}.pkl.npy'\n",
    "    return {'stats': fname_stats, 'factor': fname_factor}\n",
    "\n",
    "def get_calibration_factor_fname(ckpt_dir):\n",
    "    return get_calibration_fnames(ckpt_dir)['factor']\n",
    "\n",
    "def get_calibration_stats_fname(ckpt_dir):\n",
    "    return get_calibration_fnames(ckpt_dir)['stats']\n",
    "\n"
   ]
  },
  {
   "cell_type": "code",
   "execution_count": null,
   "id": "4093d108",
   "metadata": {},
   "outputs": [],
   "source": [
    "inp = (tar[...,0] - data_mean['target'].squeeze()[0])/data_std['target'].squeeze()[0]\n",
    "np.quantile(inp, [0, 0.01, 0.1, 0.5,0.9,0.99,1])"
   ]
  },
  {
   "cell_type": "code",
   "execution_count": null,
   "id": "a0be69ef",
   "metadata": {},
   "outputs": [],
   "source": [
    "tar.shape"
   ]
  },
  {
   "cell_type": "code",
   "execution_count": null,
   "id": "cc5b85af",
   "metadata": {},
   "outputs": [],
   "source": [
    "_,ax = plt.subplots(figsize=(6,4),ncols=2)\n",
    "ax[0].imshow(tar[0,1000:1500, :500,0])\n",
    "ax[1].imshow(pred[0,1000:1500, :500,0])"
   ]
  },
  {
   "cell_type": "code",
   "execution_count": null,
   "id": "24708c4c",
   "metadata": {},
   "outputs": [],
   "source": [
    "import matplotlib.patches as patches\n",
    "import matplotlib\n",
    "from disentangle.analysis.plot_error_utils import plot_error\n",
    "nrows = pred.shape[-1]\n",
    "img_sz = 3\n",
    "_,ax = plt.subplots(figsize=(4*img_sz,nrows*img_sz),ncols=4,nrows=nrows)\n",
    "idx = np.random.randint(len(pred))\n",
    "print(idx)\n",
    "for ch_id in range(nrows):\n",
    "  ax[ch_id,0].imshow(tar_normalized[idx,..., ch_id], cmap='magma')\n",
    "  ax[ch_id,1].imshow(pred[idx,:,:,ch_id], cmap='magma')\n",
    "  plot_error(tar_normalized[idx,...,ch_id], \n",
    "            pred[idx,:,:,ch_id], \n",
    "            cmap = matplotlib.cm.coolwarm, \n",
    "            ax = ax[ch_id,2], max_val = None)\n",
    "\n",
    "  cropsz = 256\n",
    "  h_s = np.random.randint(0, tar_normalized.shape[1] - cropsz)\n",
    "  h_e = h_s + cropsz\n",
    "  w_s = np.random.randint(0, tar_normalized.shape[2] - cropsz)\n",
    "  w_e = w_s + cropsz\n",
    "\n",
    "  plot_error(tar_normalized[idx,h_s:h_e,w_s:w_e, ch_id], \n",
    "            pred[idx,h_s:h_e,w_s:w_e,ch_id], \n",
    "            cmap = matplotlib.cm.coolwarm, \n",
    "            ax = ax[ch_id,3], max_val = None)\n",
    "\n",
    "  # Add rectangle to the region\n",
    "  rect = patches.Rectangle((w_s, h_s), w_e-w_s, h_e-h_s, linewidth=1, edgecolor='r', facecolor='none')\n",
    "  ax[ch_id,2].add_patch(rect)\n"
   ]
  },
  {
   "cell_type": "code",
   "execution_count": null,
   "id": "919db5ef",
   "metadata": {},
   "outputs": [],
   "source": [
    "# ch1_pred_unnorm = pred[...,0]*sep_std[...,0].cpu().numpy() + sep_mean[...,0].cpu().numpy()\n",
    "# ch2_pred_unnorm = pred[...,1]*sep_std[...,1].cpu().numpy() + sep_mean[...,1].cpu().numpy()\n",
    "pred_unnorm = []\n",
    "for i in range(pred.shape[-1]):\n",
    "    if sep_std.shape[-1]==1:\n",
    "        temp_pred_unnorm = pred[...,i]*sep_std[...,0] + sep_mean[...,0]\n",
    "    else:\n",
    "        temp_pred_unnorm = pred[...,i]*sep_std[...,i] + sep_mean[...,i]\n",
    "    pred_unnorm.append(temp_pred_unnorm)"
   ]
  },
  {
   "cell_type": "code",
   "execution_count": null,
   "id": "30b8b8be",
   "metadata": {},
   "outputs": [],
   "source": [
    "import matplotlib.patches as patches\n",
    "\n",
    "ncols = tar.shape[-1]\n",
    "imgsz = 4\n",
    "_,ax = plt.subplots(figsize=((1+ncols)*imgsz,2*imgsz),nrows=2,ncols=ncols + 1)\n",
    "img_idx = np.random.randint(len(tar))\n",
    "sz = 900\n",
    "hs = np.random.randint(tar.shape[1]-sz)\n",
    "ws = np.random.randint(tar.shape[2]-sz)\n",
    "print(img_idx, hs, ws)\n",
    "for i in range(ncols):\n",
    "    vmin = tar[img_idx,hs:hs+sz, ws:ws+sz ,i].min()\n",
    "    vmax = tar[img_idx,hs:hs+sz, ws:ws+sz ,i].max()\n",
    "    ax[0,i+1].imshow(tar[img_idx,hs:hs+sz, ws:ws+sz ,i], vmin=vmin, vmax=vmax)\n",
    "    ax[1,i+1].imshow(pred_unnorm[i][img_idx,hs:hs+sz, ws:ws+sz], vmin=vmin, vmax=vmax)\n",
    "\n",
    "if val_dset._input_idx is not None:\n",
    "    inp = val_dset._data[img_idx,...,val_dset._input_idx]\n",
    "else:\n",
    "    inp = np.mean(val_dset._data[img_idx,...], axis=-1)\n",
    "\n",
    "if val_dset._noise_data is not None:\n",
    "    inp += val_dset._noise_data[img_idx,...,0]\n",
    "    \n",
    "ax[0,0].imshow(inp)\n",
    "rect = patches.Rectangle((ws, hs), sz,sz, linewidth=2, edgecolor='r', facecolor='none')\n",
    "ax[0,0].add_patch(rect)\n",
    "\n",
    "ax[1,0].imshow(inp[hs:hs+sz, ws:ws+sz])\n",
    "plt.subplots_adjust(wspace=0.03, hspace=0.03)\n",
    "ax[0,0].set_title('Input')\n",
    "twinx = ax[0,-1].twinx()\n",
    "twinx.set_ylabel('Target')\n",
    "clean_ax(twinx)\n",
    "twinx = ax[1,-1].twinx()\n",
    "clean_ax(twinx)\n",
    "twinx.set_ylabel('Prediction')\n",
    "clean_ax(ax)\n"
   ]
  },
  {
   "cell_type": "code",
   "execution_count": null,
   "id": "3cbed61e",
   "metadata": {},
   "outputs": [],
   "source": [
    "plt.imshow(pred_unnorm[i][img_idx,hs+120:hs+200, ws:ws+300])"
   ]
  },
  {
   "cell_type": "code",
   "execution_count": null,
   "id": "b3ce985a",
   "metadata": {},
   "outputs": [],
   "source": []
  },
  {
   "cell_type": "code",
   "execution_count": null,
   "id": "75034e98",
   "metadata": {},
   "outputs": [],
   "source": [
    "from stardist.models import StarDist2D\n",
    "from disentangle.scripts.evaluate import compute_high_snr_stats\n",
    "\n",
    "model = StarDist2D.from_pretrained('2D_versatile_fluo')\n",
    "\n"
   ]
  },
  {
   "cell_type": "code",
   "execution_count": null,
   "id": "49b73797",
   "metadata": {},
   "outputs": [],
   "source": [
    "plt.imshow(pred[0,...,0])"
   ]
  },
  {
   "cell_type": "code",
   "execution_count": null,
   "id": "429bee26",
   "metadata": {},
   "outputs": [],
   "source": [
    "from tqdm import tqdm\n",
    "from scipy.spatial.distance import dice\n",
    "\n",
    "dice_scores = []\n",
    "for i in tqdm(range(len(pred))):\n",
    "    label_pred, _ = model.predict_instances(pred[i,...,0])  \n",
    "    label_tar, _ = model.predict_instances(tar[i,...,0])  \n",
    "    score = dice(label_pred.reshape(-1,) > 0, label_tar.reshape(-1,) > 0)\n",
    "    dice_scores.append(score)\n"
   ]
  },
  {
   "cell_type": "code",
   "execution_count": null,
   "id": "cfba5fb7",
   "metadata": {},
   "outputs": [],
   "source": [
    "token = f'{DataSplitType.name(eval_datasplit_type)}_{SubDsetType.name(subdset_type)}_P{custom_image_size}_G{image_size_for_grid_centers}_M{mmse_count}_Sk{ignored_last_pixels}'\n",
    "print(token)\n",
    "print(f'DICE: {np.mean(dice_scores):.2f} +- {np.std(dice_scores):.4f}')\n",
    "stats = compute_high_snr_stats(config, tar.astype(np.float32), np.concatenate([x[...,None] for x in pred_unnorm], axis=-1).astype(np.float32))\n"
   ]
  },
  {
   "cell_type": "code",
   "execution_count": null,
   "id": "3d3098c7",
   "metadata": {},
   "outputs": [],
   "source": [
    "# Test_OnlyIba1P50_PNone_G64_M2_Sk32\n",
    "# DICE: 0.97 +- 0.0012\n",
    "# PSNR on Highres [34.35, 35.57]\n",
    "# Multiscale SSIM on Highres [0.982, 0.994]\n",
    "# Range Invariant Multiscale SSIM on Highres [0.981, 0.994]"
   ]
  },
  {
   "cell_type": "code",
   "execution_count": null,
   "id": "4f3fda2b",
   "metadata": {},
   "outputs": [],
   "source": [
    "pred.shape"
   ]
  },
  {
   "cell_type": "code",
   "execution_count": null,
   "id": "eedc4065",
   "metadata": {},
   "outputs": [],
   "source": [
    "\n",
    "token = f'{DataSplitType.name(eval_datasplit_type)}_{SubDsetType.name(subdset_type)}_P{custom_image_size}_G{image_size_for_grid_centers}_M{mmse_count}_Sk{ignored_last_pixels}'\n",
    "fname = token + \"_\" + '_'.join(ckpt_dir.strip('/').split('/')[-3:]) + '.tif'\n",
    "fname\n",
    " "
   ]
  },
  {
   "cell_type": "code",
   "execution_count": null,
   "id": "7c1f2d0a",
   "metadata": {},
   "outputs": [],
   "source": [
    "data_mean['target']"
   ]
  },
  {
   "cell_type": "code",
   "execution_count": null,
   "id": "92610d37",
   "metadata": {},
   "outputs": [],
   "source": [
    "import tifffile\n",
    "fpath = os.path.join('/group/jug/ashesh/naturemethods/iba1ki67', fname)\n",
    "pred_data = np.concatenate([x[...,None] for x in pred_unnorm], axis=-1)\n",
    "tifffile.imwrite(fpath, \n",
    "pred_data.transpose(0,3,1,2),\n",
    "imagej=True, \n",
    " metadata={ 'axes': 'ZCYX'}, \n",
    " )\n",
    "fpath"
   ]
  },
  {
   "cell_type": "code",
   "execution_count": null,
   "id": "774523b7",
   "metadata": {},
   "outputs": [],
   "source": [
    "fpath_gt = os.path.join('/group/jug/ashesh/naturemethods/iba1ki67', f'GT_{SubDsetType.name(subdset_type)}.tif')\n",
    "fpath_gt\n",
    "tifffile.imwrite(fpath_gt, \n",
    "tar.transpose(0,3,1,2),\n",
    "imagej=True, \n",
    " metadata={ 'axes': 'ZCYX'}, \n",
    " )\n",
    "print(fpath_gt)"
   ]
  },
  {
   "cell_type": "code",
   "execution_count": null,
   "id": "6c136c88",
   "metadata": {},
   "outputs": [],
   "source": [
    "! ls /group/jug/ashesh/naturemethods/iba1ki67/"
   ]
  }
 ],
 "metadata": {
  "kernelspec": {
   "display_name": "usplit",
   "language": "python",
   "name": "python3"
  },
  "language_info": {
   "codemirror_mode": {
    "name": "ipython",
    "version": 3
   },
   "file_extension": ".py",
   "mimetype": "text/x-python",
   "name": "python",
   "nbconvert_exporter": "python",
   "pygments_lexer": "ipython3",
   "version": "3.9.19"
  },
  "vscode": {
   "interpreter": {
    "hash": "e959a19f8af3b4149ff22eb57702a46c14a8caae5a2647a6be0b1f60abdfa4c2"
   }
  }
 },
 "nbformat": 4,
 "nbformat_minor": 5
}
