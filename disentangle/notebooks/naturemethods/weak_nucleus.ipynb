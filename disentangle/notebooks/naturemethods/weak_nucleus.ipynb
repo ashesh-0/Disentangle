{
 "cells": [
  {
   "cell_type": "code",
   "execution_count": null,
   "metadata": {},
   "outputs": [],
   "source": [
    "data_dir = '/group/jug/ashesh/naturemethods/weak_nucleus_exp/'"
   ]
  },
  {
   "cell_type": "code",
   "execution_count": null,
   "metadata": {},
   "outputs": [],
   "source": [
    "! ls -l $data_dir"
   ]
  },
  {
   "cell_type": "code",
   "execution_count": null,
   "metadata": {},
   "outputs": [],
   "source": [
    "import os\n",
    "import pickle\n",
    "from disentangle.core.tiff_reader import load_tiff\n",
    "def get_mean_std():\n",
    "    pkl_fpath = os.path.join(data_dir, 'data_stats.pkl')\n",
    "    with open(pkl_fpath, 'rb') as f:\n",
    "        mean_std = pickle.load(f)\n",
    "    return mean_std\n",
    "\n",
    "def unnormalize(data, mean_std):\n",
    "    mean = mean_std['mean']['target'].squeeze()[None,None,None]\n",
    "    std = mean_std['std']['target'].squeeze()[None,None,None]\n",
    "    return data * std + mean\n",
    "\n",
    "def get_data():\n",
    "    mean_std = get_mean_std()\n",
    "    no_shift = {\n",
    "        'gt': load_tiff(os.path.join(data_dir, 'gt_no_shift.tif')),\n",
    "        'pred': load_tiff(os.path.join(data_dir, 'pred_no_shift.tif')),\n",
    "    }\n",
    "    shift = {\n",
    "        'gt': load_tiff(os.path.join(data_dir, 'gt_shifted.tif')),\n",
    "        'pred': load_tiff(os.path.join(data_dir, 'pred_shifted.tif')),\n",
    "    }\n",
    "    zeroed = {\n",
    "        'gt': load_tiff(os.path.join(data_dir, 'gt_zeroed.tif')),\n",
    "        'pred': load_tiff(os.path.join(data_dir, 'pred_zeroed.tif')),\n",
    "    }\n",
    "    no_shift['pred'] = unnormalize(no_shift['pred'], mean_std)\n",
    "    shift['pred'] = unnormalize(shift['pred'], mean_std)\n",
    "    zeroed['pred'] = unnormalize(zeroed['pred'], mean_std)\n",
    "    return no_shift, shift, zeroed\n"
   ]
  },
  {
   "cell_type": "code",
   "execution_count": null,
   "metadata": {},
   "outputs": [],
   "source": [
    "no_shift, shift, zeroed = get_data()"
   ]
  },
  {
   "cell_type": "code",
   "execution_count": null,
   "metadata": {},
   "outputs": [],
   "source": [
    "no_shift['gt'][0].mean(axis=-1).shape"
   ]
  },
  {
   "cell_type": "code",
   "execution_count": null,
   "metadata": {},
   "outputs": [],
   "source": [
    "no_shift['gt'].min()"
   ]
  },
  {
   "cell_type": "code",
   "execution_count": null,
   "metadata": {},
   "outputs": [],
   "source": []
  },
  {
   "cell_type": "code",
   "execution_count": null,
   "metadata": {},
   "outputs": [],
   "source": [
    "# import matplotlib.pyplot as plt\n",
    "# from disentangle.analysis.plot_utils import clean_ax\n",
    "# from matplotlib.colors import LogNorm\n",
    "\n",
    "# ncols = 5\n",
    "# nrows = 3\n",
    "# hs = 1500\n",
    "# he = 2500\n",
    "# ws = 1500\n",
    "# we = 4096-700\n",
    "# h = he - hs\n",
    "# w = we - ws\n",
    "# factor = h/w\n",
    "# norm = LogNorm(vmin=0.01, vmax=1541)\n",
    "# _,ax = plt.subplots(ncols=ncols,nrows=nrows,figsize=(ncols*4,int(nrows*4*factor)))\n",
    "# ax[0,0].imshow(no_shift['gt'][0].mean(axis=-1)[hs:he,ws:we], cmap='magma',norm=norm)\n",
    "# ax[0,1].imshow(no_shift['gt'][0,...,0][hs:he,ws:we], cmap='magma', norm=norm)\n",
    "# ax[0,2].imshow(no_shift['pred'][0,...,0][hs:he,ws:we], cmap='magma', norm=norm)\n",
    "# ax[0,3].imshow(no_shift['gt'][0,...,1][hs:he,ws:we], cmap='magma', norm=norm)\n",
    "# ax[0,4].imshow(no_shift['pred'][0,...,1][hs:he,ws:we], cmap='magma', norm=norm)\n",
    "\n",
    "# ax[1,0].imshow(shift['gt'][0].mean(axis=-1)[hs:he,ws:we], cmap='magma', norm=norm)\n",
    "# ax[1,1].imshow(shift['gt'][0,...,0][hs:he,ws:we], cmap='magma', norm=norm)\n",
    "# ax[1,2].imshow(shift['pred'][0,...,0][hs:he,ws:we], cmap='magma', norm=norm)\n",
    "# ax[1,3].imshow(shift['gt'][0,...,1][hs:he,ws:we], cmap='magma', norm=norm)\n",
    "# ax[1,4].imshow(shift['pred'][0,...,1][hs:he,ws:we], cmap='magma', norm=norm)\n",
    "\n",
    "# ax[2,0].imshow(zeroed['gt'][0].mean(axis=-1)[hs:he,ws:we], cmap='magma', norm=norm)\n",
    "# ax[2,1].imshow(zeroed['gt'][0,...,0][hs:he,ws:we], cmap='magma', norm=norm)\n",
    "# ax[2,2].imshow(zeroed['pred'][0,...,0][hs:he,ws:we], cmap='magma', norm=norm)\n",
    "# ax[2,3].imshow(zeroed['gt'][0,...,1][hs:he,ws:we], cmap='magma', norm=norm)\n",
    "# ax[2,4].imshow(zeroed['pred'][0,...,1][hs:he,ws:we], cmap='magma', norm=norm)\n",
    "# clean_ax(ax)\n",
    "# plt.subplots_adjust(wspace=0.01, hspace=0.01)\n"
   ]
  },
  {
   "cell_type": "code",
   "execution_count": null,
   "metadata": {},
   "outputs": [],
   "source": []
  },
  {
   "cell_type": "code",
   "execution_count": null,
   "metadata": {},
   "outputs": [],
   "source": [
    "import matplotlib.pyplot as plt\n",
    "from disentangle.analysis.plot_utils import clean_ax\n",
    "from matplotlib.colors import LogNorm\n",
    "from disentangle.core.psnr import RangeInvariantPsnr\n",
    "dict_type = 'shift'\n",
    "assert dict_type in ['no_shift', 'shift', 'zeroed']\n",
    "\n",
    "\n",
    "\n",
    "data_dict = eval(dict_type)\n",
    "ncols = 5\n",
    "nrows = 2\n",
    "\n",
    "hs = 1500\n",
    "he = 2500\n",
    "hm = (hs+he)//2\n",
    "ws = 1500\n",
    "we = 4096-700\n",
    "def loc_to_str():\n",
    "    return f'{hs}-{he}_{ws}-{we}'\n",
    "\n",
    "h = he - hs\n",
    "w = we - ws\n",
    "factor = h/w\n",
    "norm = LogNorm(vmin=0.01, vmax=1541)\n",
    "_,ax = plt.subplots(ncols=ncols,nrows=nrows,figsize=(ncols*4 -1,int(nrows*4*factor/2)))\n",
    "ax[0,0].imshow(data_dict['gt'][0].mean(axis=-1)[hs:hm,ws:we], cmap='magma',norm=norm)\n",
    "ax[0,1].imshow(data_dict['gt'][0,...,0][hs:hm,ws:we], cmap='magma', norm=norm)\n",
    "ax[0,2].imshow(data_dict['pred'][0,...,0][hs:hm,ws:we], cmap='magma', norm=norm)\n",
    "ax[0,3].imshow(data_dict['gt'][0,...,1][hs:hm,ws:we], cmap='magma', norm=norm)\n",
    "ax[0,4].imshow(data_dict['pred'][0,...,1][hs:hm,ws:we], cmap='magma', norm=norm)\n",
    "\n",
    "ax[1,0].imshow(data_dict['gt'][0].mean(axis=-1)[hm:he,ws:we], cmap='magma',)\n",
    "\n",
    "vmin = data_dict['gt'][0,...,0][hm:he,ws:we].min()\n",
    "vmax = data_dict['gt'][0,...,0][hm:he,ws:we].max()\n",
    "ax[1,1].imshow(data_dict['gt'][0,...,0][hm:he,ws:we], cmap='magma',vmin=vmin, vmax=vmax)\n",
    "ax[1,2].imshow(data_dict['pred'][0,...,0][hm:he,ws:we], cmap='magma',vmin=vmin, vmax=vmax)\n",
    "\n",
    "vmin = data_dict['gt'][0,...,1][hm:he,ws:we].min()\n",
    "vmax = data_dict['gt'][0,...,1][hm:he,ws:we].max()\n",
    "ax[1,3].imshow(data_dict['gt'][0,...,1][hm:he,ws:we], cmap='magma',vmin=vmin, vmax=vmax)\n",
    "ax[1,4].imshow(data_dict['pred'][0,...,1][hm:he,ws:we], cmap='magma',vmin=vmin, vmax=vmax )\n",
    "\n",
    "clean_ax(ax)\n",
    "plt.subplots_adjust(wspace=0.0, hspace=0.0)\n",
    "fname = f'{dict_type}_{loc_to_str()}.png'\n",
    "fpath = os.path.join(data_dir,fname)\n",
    "print(RangeInvariantPsnr(data_dict['gt'][...,0], data_dict['pred'][...,0]),\n",
    "RangeInvariantPsnr(data_dict['gt'][...,1], data_dict['pred'][...,1]))\n",
    "print(fpath)\n",
    "# plt.tight_layout()\n",
    "plt.savefig(fpath, dpi=200)\n"
   ]
  },
  {
   "cell_type": "code",
   "execution_count": null,
   "metadata": {},
   "outputs": [],
   "source": [
    "import pandas as pd\n",
    "_,ax = plt.subplots(1,1,figsize=(4/1.6,4*factor))\n",
    "pd.DataFrame(data_dict['gt'][0][hm+100, ws:we], columns=['Actin','Nucleus']).plot(ax=ax, fontsize=12).legend(fontsize=10)\n",
    "fname = f'{dict_type}_lineplot_{loc_to_str()}.png'\n",
    "fpath = os.path.join(data_dir,fname)\n",
    "print(fpath)\n",
    "plt.tight_layout()\n",
    "plt.savefig(fpath, dpi=200)\n"
   ]
  }
 ],
 "metadata": {
  "kernelspec": {
   "display_name": "Python 3",
   "language": "python",
   "name": "python3"
  },
  "language_info": {
   "codemirror_mode": {
    "name": "ipython",
    "version": 3
   },
   "file_extension": ".py",
   "mimetype": "text/x-python",
   "name": "python",
   "nbconvert_exporter": "python",
   "pygments_lexer": "ipython3",
   "version": "3.9.19"
  }
 },
 "nbformat": 4,
 "nbformat_minor": 2
}
