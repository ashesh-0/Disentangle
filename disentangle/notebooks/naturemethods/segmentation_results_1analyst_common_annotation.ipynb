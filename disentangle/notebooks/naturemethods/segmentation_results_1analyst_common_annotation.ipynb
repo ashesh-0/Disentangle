{
 "cells": [
  {
   "cell_type": "markdown",
   "metadata": {},
   "source": [
    "## Objective\n",
    "On 30th Dec 2024, Damian provided set of segmentation results where common annotation has been used for all the images. "
   ]
  },
  {
   "cell_type": "code",
   "execution_count": null,
   "metadata": {},
   "outputs": [],
   "source": [
    "import os\n",
    "\n",
    "rootdir = '/facility/imganfacusers/Ashesh/NatureMethodsSegmentationOutputs/Combined_labels/'\n",
    "tasks = ['2402_D21-M3-S0-L8_6','2405_D18-M3-S0-L8_13']\n",
    "resolution_nm_dict = {    \n",
    "    'D21' : 110,\n",
    "    'D18': 270,\n",
    "}\n",
    "\n",
    "task_idx = 1\n",
    "dtype = tasks[task_idx].split('_')[1].split('-')[0]\n",
    "resolution_nm = resolution_nm_dict[dtype]\n",
    "\n",
    "taskdir = os.path.join(rootdir, tasks[task_idx])\n",
    "OUTPUT_DIR = f'/group/jug/ashesh/naturemethods/segmentation/one_analyst/Analysis_{tasks[task_idx]}/'\n",
    "OUTPUT_DIR\n",
    "os.makedirs(OUTPUT_DIR, exist_ok=True)"
   ]
  },
  {
   "cell_type": "code",
   "execution_count": null,
   "metadata": {},
   "outputs": [],
   "source": [
    "from disentangle.core.tiff_reader import load_tiff\n",
    "import numpy as np\n",
    "\n",
    "def load_data():\n",
    "    # load raw data\n",
    "    raw_data = {}\n",
    "    for key in ['gt', 'input', 'pred']:\n",
    "        subdir = os.path.join(taskdir, 'raw_data', key)\n",
    "        fnames = sorted([os.path.join(subdir, f) for f in os.listdir(subdir) if f.endswith('.tif')])\n",
    "        assert len(fnames) >=1 \n",
    "        raw_data[key] = [load_tiff(fname) for fname in fnames]\n",
    "    \n",
    "    # load segmentation\n",
    "    seg_data = {}\n",
    "    for key in ['gt', 'input', 'pred']:\n",
    "        subdir = os.path.join(taskdir, 'seg', key)\n",
    "        fnames = sorted([os.path.join(subdir, f) for f in os.listdir(subdir) if f.endswith('.tif')])\n",
    "        assert len(fnames) >=1 \n",
    "        seg_data[key] = [load_tiff(fname) for fname in fnames]\n",
    "    \n",
    "    # \n",
    "    if len(seg_data['gt'][0].shape) ==2:\n",
    "        for key in ['gt', 'input', 'pred']:\n",
    "            seg_data[key] = np.stack(seg_data[key])\n",
    "            raw_data[key] = np.stack(raw_data[key])\n",
    "    else:\n",
    "        for key in ['gt', 'input', 'pred']:\n",
    "            seg_data[key] = np.concatenate(seg_data[key], axis=0)\n",
    "            raw_data[key] = np.concatenate(raw_data[key], axis=0)\n",
    "    \n",
    "    _, H, W = seg_data['pred'].shape\n",
    "    seg_data['gt'] = seg_data['gt'][:,:H,:W]\n",
    "    raw_data['gt'] = raw_data['gt'][:,:H,:W]\n",
    "    raw_data['input'] = raw_data['input'][:,:H,:W]\n",
    "    seg_data['input'] = seg_data['input'][:,:H,:W]\n",
    "    return raw_data, seg_data"
   ]
  },
  {
   "cell_type": "code",
   "execution_count": null,
   "metadata": {},
   "outputs": [],
   "source": [
    "raw_data, seg_data = load_data()"
   ]
  },
  {
   "cell_type": "code",
   "execution_count": null,
   "metadata": {},
   "outputs": [],
   "source": [
    "raw_data['gt'].shape, seg_data['gt'].shape"
   ]
  },
  {
   "cell_type": "code",
   "execution_count": null,
   "metadata": {},
   "outputs": [],
   "source": [
    "img_idx = 1\n",
    "seg_input = seg_data['input'][img_idx]\n",
    "seg_pred = seg_data['pred'][img_idx]\n",
    "seg_GT = seg_data['gt'][img_idx]\n",
    "\n",
    "# 0-179-655\n",
    "# 0-650-923\n",
    "# 1-3-908\n",
    "# 2-100-545\n",
    "# 1-734-108\n",
    "\n",
    "# hs = 179\n",
    "# he = hs + 500#seg_input.shape[0]\n",
    "# ws = 655\n",
    "# we = ws+500#seg_input.shape[1]\n",
    "\n",
    "# 3-1371-387\n",
    "# 4-792-719\n",
    "# 4-292-1805\n",
    "# 2-409-1525\n",
    "# 1-977-2362\n",
    "# 4-1377-1314\n",
    "# 3-1064-2387\n",
    "# 0-0-0\n",
    "# 0-650-923\n",
    "# 1-234-1893\n",
    "\n",
    "hs = 234\n",
    "he = hs + 1500#seg_input.shape[0]\n",
    "ws = 1893\n",
    "we = ws + 1500#seg_input.shape[1]\n"
   ]
  },
  {
   "cell_type": "code",
   "execution_count": null,
   "metadata": {},
   "outputs": [],
   "source": [
    "from disentangle.analysis.plot_utils import clean_ax\n",
    "import matplotlib.pyplot as plt\n",
    "from matplotlib_scalebar.scalebar import ScaleBar\n",
    "\n",
    "\n",
    "save_to_file = False\n",
    "img_size = 5\n",
    "\n",
    "\n",
    "# if not save_to_file:\n",
    "if False:\n",
    "    img_idx = np.random.randint(0, seg_data['input'].shape[0])\n",
    "    seg_input = seg_data['input'][img_idx]\n",
    "    seg_pred = seg_data['pred'][img_idx]\n",
    "    seg_GT = seg_data['gt'][img_idx]\n",
    "\n",
    "    sz = 500\n",
    "    hs = np.random.randint(0, seg_input.shape[0] - sz)\n",
    "    he = hs + sz\n",
    "\n",
    "    ws = np.random.randint(0, seg_input.shape[1] - sz)  \n",
    "    we = ws + sz\n",
    "    print(img_idx, hs, he, ws, we)\n",
    "\n",
    "_,ax = plt.subplots(figsize=(3*img_size, 2*img_size), ncols=3,nrows=2)\n",
    "ax[0,0].imshow(raw_data['input'][img_idx][hs:he,ws:we], cmap='gray')\n",
    "ax[0,1].imshow(raw_data['pred'][img_idx][hs:he,ws:we], cmap='gray')\n",
    "ax[0,2].imshow(raw_data['gt'][img_idx][hs:he,ws:we], cmap='gray')\n",
    "ax[1,0].imshow(seg_input[hs:he,ws:we], cmap='gray')\n",
    "ax[1,1].imshow(seg_pred[hs:he,ws:we], cmap='gray')\n",
    "ax[1,2].imshow(seg_GT[hs:he,ws:we], cmap='gray')\n",
    "\n",
    "# dice_input = dice_coefficient(seg_GT.flatten() > 0, seg_input.flatten() >0)\n",
    "# dice_pred = dice_coefficient(seg_GT.flatten() > 0, seg_pred.flatten() >0)\n",
    "# add_text(ax[1,0], f'DICE: {dice_input:.2f}', seg_input.shape, place='TOP_LEFT')\n",
    "# add_text(ax[1,1], f'DICE: {dice_pred:.2f}', seg_input.shape, place='TOP_LEFT')\n",
    "scalebar = ScaleBar(resolution_nm, \n",
    "                        \"nm\", \n",
    "                        # length_fraction=0.1, \n",
    "                        box_alpha=0.3, frameon=True, location='upper right', font_properties={'size':20})\n",
    "\n",
    "ax[0,0].add_artist(scalebar)\n",
    "\n",
    "\n",
    "clean_ax(ax)\n",
    "# remove the space between the subplots\n",
    "plt.subplots_adjust(wspace=0.05, hspace=0.05)\n",
    "if save_to_file:\n",
    "    model_token = tasks[task_idx]\n",
    "    fname = f'segmentation_1analyst_common_annotation_{model_token}_{img_idx}-{hs}-{he}-{ws}-{we}.png'\n",
    "    fpath = os.path.join(OUTPUT_DIR, fname)\n",
    "    print(fpath)\n",
    "    plt.savefig(fpath, dpi = 100, bbox_inches='tight')\n"
   ]
  },
  {
   "cell_type": "code",
   "execution_count": null,
   "metadata": {},
   "outputs": [],
   "source": [
    "    model_token = tasks[task_idx]\n",
    "    fname = f'segmentation_1analyst_common_annotation_{model_token}_{img_idx}-{hs}-{he}-{ws}-{we}.png'\n",
    "    fpath = os.path.join(OUTPUT_DIR, fname)\n",
    "    print(fpath)\n"
   ]
  },
  {
   "cell_type": "code",
   "execution_count": null,
   "metadata": {},
   "outputs": [],
   "source": [
    "!ls -lhrt /group/jug/ashesh/naturemethods/segmentation/one_analyst/Analysis_2405_D18-M3-S0-L8_13/"
   ]
  },
  {
   "cell_type": "code",
   "execution_count": null,
   "metadata": {},
   "outputs": [],
   "source": [
    "import numpy as np\n",
    "def dice_coefficient(x,y):\n",
    "    assert set(np.unique(x)) == set([0,1])\n",
    "    assert set(np.unique(y)) == set([0,1])\n",
    "    intersection = np.sum(x[y==1])\n",
    "    union = np.sum(x) + np.sum(y)\n",
    "    return 2*intersection/union\n"
   ]
  },
  {
   "cell_type": "code",
   "execution_count": null,
   "metadata": {},
   "outputs": [],
   "source": [
    "seg_data['gt'].shape, seg_data['input'].shape, seg_data['pred'].shape"
   ]
  },
  {
   "cell_type": "code",
   "execution_count": null,
   "metadata": {},
   "outputs": [],
   "source": [
    "dice_gt_input = [dice_coefficient(seg_data['gt'][idx], seg_data['input'][idx]) for idx in range(seg_data['gt'].shape[0])]\n",
    "dice_gt_pred = [dice_coefficient(seg_data['gt'][idx], seg_data['pred'][idx]) for idx in range(seg_data['gt'].shape[0])]\n",
    "dice_gt_input, dice_gt_pred"
   ]
  },
  {
   "cell_type": "code",
   "execution_count": null,
   "metadata": {},
   "outputs": [],
   "source": [
    "import pandas as pd\n",
    "df = pd.DataFrame({'dice_gt_input': dice_gt_input, 'dice_gt_pred': dice_gt_pred})\n",
    "df"
   ]
  },
  {
   "cell_type": "code",
   "execution_count": null,
   "metadata": {},
   "outputs": [],
   "source": [
    "print('GT vs Input',df.dice_gt_input.values)\n",
    "print('GT vs Pred',df.dice_gt_pred.values)"
   ]
  },
  {
   "cell_type": "code",
   "execution_count": null,
   "metadata": {},
   "outputs": [],
   "source": [
    "OUTPUT_DIR"
   ]
  },
  {
   "cell_type": "code",
   "execution_count": null,
   "metadata": {},
   "outputs": [],
   "source": []
  }
 ],
 "metadata": {
  "kernelspec": {
   "display_name": "Python 3",
   "language": "python",
   "name": "python3"
  },
  "language_info": {
   "codemirror_mode": {
    "name": "ipython",
    "version": 3
   },
   "file_extension": ".py",
   "mimetype": "text/x-python",
   "name": "python",
   "nbconvert_exporter": "python",
   "pygments_lexer": "ipython3",
   "version": "3.9.19"
  }
 },
 "nbformat": 4,
 "nbformat_minor": 2
}
