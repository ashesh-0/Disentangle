{
 "cells": [
  {
   "cell_type": "code",
   "execution_count": null,
   "metadata": {},
   "outputs": [],
   "source": [
    "from disentangle.core.tiff_reader import load_tiff\n",
    "# /group/jug/ashesh/data/paper_stats/Test_P64_G3-32-32_M50_Sk0/pred_training_disentangle_2507_D32-M3-S0-L8_0_1.tif\n",
    "fpath1 = '/group/jug/ashesh/data/paper_stats/Test_P64_G3-32-32_M50_Sk0/pred_training_disentangle_2507_D32-M3-S0-L8_0_1.tif'\n",
    "fpath2 = '/group/jug/ashesh/data/paper_stats/Test_P64_G3-32-32_M50_Sk0/pred_training_disentangle_2507_D33-M3-S0-L8_11_1.tif'\n",
    "fpath3 = '/group/jug/ashesh/data/paper_stats/Test_P64_G3-32-32_M50_Sk0/pred_training_disentangle_2507_D34-M3-S0-L8_4_1.tif'\n",
    "# fpath4 = '/group/jug/ashesh/data/paper_stats/Test_P64_G3-32-32_M50_Sk0/pred_training_disentangle_2507_D32-M3-S0-L8_3_1.tif'\n",
    "fpath5 = '/group/jug/ashesh/data/paper_stats/Test_P64_G3-32-32_M50_Sk0/pred_training_disentangle_2507_D32-M3-S0-L8_4_1.tif'\n",
    "data = []\n",
    "if fpath1 is not None:\n",
    "    data.append(load_tiff(fpath1))\n",
    "if fpath2 is not None:\n",
    "    data.append(load_tiff(fpath2))\n",
    "if fpath3 is not None:\n",
    "    data.append(load_tiff(fpath3))\n",
    "if fpath4 is not None:\n",
    "    data.append(load_tiff(fpath4))\n",
    "if fpath5 is not None:\n",
    "    data.append(load_tiff(fpath5))\n",
    "print(len(data), [x.shape for x in data])"
   ]
  },
  {
   "cell_type": "code",
   "execution_count": null,
   "metadata": {},
   "outputs": [],
   "source": [
    "import matplotlib.pyplot as plt\n",
    "_,ax = plt.subplots(figsize=(12,4*len(data)),ncols=3,nrows=len(data))\n",
    "img_idx = 5\n",
    "for i, d in enumerate(data):\n",
    "    for j in range(3):\n",
    "        ax[i,j].imshow(d[0,0,img_idx, ...,j], cmap='gray')\n",
    "        # ax[i,j].set_title(f'Image {j+1} - Layer {i+1}')\n",
    "        # ax[i,j].axis('off')"
   ]
  },
  {
   "cell_type": "code",
   "execution_count": null,
   "metadata": {},
   "outputs": [],
   "source": [
    "from disentangle.core.tiff_reader import load_tiff\n",
    "data = load_tiff('/group/jug/ashesh/data/HHMI25_smaller/Composite_region1_CF_L3L3.tif')\n",
    "data.shape"
   ]
  },
  {
   "cell_type": "code",
   "execution_count": null,
   "metadata": {},
   "outputs": [],
   "source": [
    "# plot 6 images in one row\n",
    "_, ax = plt.subplots(figsize=(24, 4), ncols=6)\n",
    "for i in range(6):\n",
    "    ax[i].imshow(data[0, i], cmap='gray')\n",
    "    ax[i].set_title(f'Image {i+1}')\n",
    "    ax[i].axis('off')"
   ]
  },
  {
   "cell_type": "code",
   "execution_count": null,
   "metadata": {},
   "outputs": [],
   "source": [
    "gt_fpath = '/group/jug/ashesh/kth_data/D32/kth5/gt_for_pred_training_disentangle_2507_D32-M3-S0-L8_0_1.tif'\n",
    "pred_fpath = '/group/jug/ashesh/data/paper_stats/Test_P64_G3-32-32_M50_Sk0/kth_5/pred_training_disentangle_2507_D32-M3-S0-L8_0_1.tif'\n",
    "gt = load_tiff(gt_fpath)\n",
    "pred = load_tiff(pred_fpath)\n",
    "gt.shape, pred.shape"
   ]
  },
  {
   "cell_type": "code",
   "execution_count": null,
   "metadata": {},
   "outputs": [],
   "source": [
    "_, ax = plt.subplots(figsize=(12, 8), ncols=3,nrows=2)\n",
    "for i in range(3):\n",
    "    ax[0,i].imshow(gt[...,i], cmap='gray')\n",
    "    ax[1,i].imshow(pred[...,i], cmap='gray')"
   ]
  },
  {
   "cell_type": "code",
   "execution_count": null,
   "metadata": {},
   "outputs": [],
   "source": []
  }
 ],
 "metadata": {
  "kernelspec": {
   "display_name": "usplit",
   "language": "python",
   "name": "python3"
  },
  "language_info": {
   "codemirror_mode": {
    "name": "ipython",
    "version": 3
   },
   "file_extension": ".py",
   "mimetype": "text/x-python",
   "name": "python",
   "nbconvert_exporter": "python",
   "pygments_lexer": "ipython3",
   "version": "3.9.18"
  }
 },
 "nbformat": 4,
 "nbformat_minor": 2
}
