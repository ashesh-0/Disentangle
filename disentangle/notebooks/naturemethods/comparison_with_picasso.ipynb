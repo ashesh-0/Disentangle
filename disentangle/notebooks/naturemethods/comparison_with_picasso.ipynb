{
 "cells": [
  {
   "cell_type": "code",
   "execution_count": null,
   "metadata": {},
   "outputs": [],
   "source": [
    "from disentangle.data_loader.nikola_7D_rawdata_loader import get_raw_files_dict, load_one_fpath,NikolaChannelList, get_train_val_data\n",
    "from disentangle.config_utils import load_config\n",
    "import os\n",
    "import numpy as np\n",
    "from disentangle.core.data_split_type import DataSplitType\n",
    "\n",
    "datadir = '/group/jug/ashesh/data/nikola_data/20240531/'\n",
    "pkl_fpath = '/home/ashesh.ashesh/training/disentangle/2408/D25-M3-S0-L8/4'\n",
    "config = load_config(pkl_fpath)\n",
    "test_data= get_train_val_data(datadir, config.data, DataSplitType.Test, val_fraction=config.training.val_fraction, test_fraction=config.training.test_fraction)\n",
    "\n",
    "\n",
    "# fnames = get_raw_files_dict()['500ms']\n",
    "# fname = fnames[0]\n",
    "# fnames\n",
    "# data = load_one_fpath(os.path.join(datadir,fname),[NikolaChannelList.Ch_B, NikolaChannelList.Ch_C, NikolaChannelList.Ch_D,\n",
    "                                                #    ])"
   ]
  },
  {
   "cell_type": "code",
   "execution_count": null,
   "metadata": {},
   "outputs": [],
   "source": [
    "import os\n",
    "picaso_pred_dir = '/home/ashesh.ashesh/code/Disentangle/disentangle/notebooks/naturemethods/picassoResults'\n",
    "picasso_input_dir = '/home/ashesh.ashesh/code/Disentangle/disentangle/notebooks/naturemethods/'\n",
    "all_files = sorted(os.listdir(picaso_pred_dir))"
   ]
  },
  {
   "cell_type": "code",
   "execution_count": null,
   "metadata": {},
   "outputs": [],
   "source": [
    "easy_files = [f'picasso_input_nicola_BCD_alpha_2.5_{i}_unmixed.tif' for i in range(10)]\n",
    "hard_files = [f'picasso_input_nicola_BCD_alpha_1.5_{i}_unmixed.tif' for i in range(10)]\n",
    "picasso_easy_input_fnames = [f'picasso_input_nicola_BCD_alpha_1.5_{i}.tif' for i in range(10)]\n",
    "picasso_hard_input_fnames = [f'picasso_input_nicola_BCD_alpha_2.5_{i}.tif' for i in range(10)]"
   ]
  },
  {
   "cell_type": "code",
   "execution_count": null,
   "metadata": {},
   "outputs": [],
   "source": [
    "from disentangle.core.tiff_reader import load_tiff\n",
    "def load_tiffs(paths):\n",
    "    data = [load_tiff(path)[None] for path in paths]\n",
    "    return np.concatenate(data, axis=0)\n",
    "\n",
    "picasso_easy_pred = load_tiffs([os.path.join(picaso_pred_dir, f) for f in easy_files])\n",
    "picasso_hard_pred = load_tiffs([os.path.join(picaso_pred_dir, f) for f in hard_files])\n",
    "picasso_easy_input = load_tiffs([os.path.join(picasso_input_dir, f) for f in picasso_easy_input_fnames])\n",
    "picasso_hard_input = load_tiffs([os.path.join(picasso_input_dir, f) for f in picasso_hard_input_fnames])\n",
    "print(picasso_easy_pred.shape, picasso_hard_pred.shape, picasso_easy_input.shape, picasso_hard_input.shape)\n"
   ]
  },
  {
   "cell_type": "code",
   "execution_count": null,
   "metadata": {},
   "outputs": [],
   "source": [
    "import matplotlib.pyplot as plt\n",
    "plt.imshow(picasso_easy_input[0,...,0])"
   ]
  },
  {
   "cell_type": "code",
   "execution_count": null,
   "metadata": {},
   "outputs": [],
   "source": [
    "import matplotlib.pyplot as plt\n",
    "_,ax = plt.subplots(figsize=(10,5),ncols=2)\n",
    "ax[0].imshow(test_data[0,...,0])\n",
    "ax[1].imshow(picasso_easy_pred[0,...,0])"
   ]
  },
  {
   "cell_type": "code",
   "execution_count": null,
   "metadata": {},
   "outputs": [],
   "source": [
    "from disentangle.scripts.evaluate import compute_high_snr_stats\n",
    "# compute_high_snr_stats(test_data[...,:3], picasso_easy_pred, verbose=True)"
   ]
  },
  {
   "cell_type": "code",
   "execution_count": null,
   "metadata": {},
   "outputs": [],
   "source": [
    "compute_high_snr_stats(test_data[...,:3], picasso_hard_pred, verbose=True)"
   ]
  },
  {
   "cell_type": "code",
   "execution_count": null,
   "metadata": {},
   "outputs": [],
   "source": [
    "microscplit_pred = load_tiff('/group/jug/ashesh/data/paper_stats/Test_P64_G32_M50_Sk0/pred_training_disentangle_2408_D25-M3-S0-L8_4_1.tif')"
   ]
  },
  {
   "cell_type": "code",
   "execution_count": null,
   "metadata": {},
   "outputs": [],
   "source": [
    "compute_high_snr_stats(test_data[...,:3], microscplit_pred, verbose=True)"
   ]
  },
  {
   "cell_type": "code",
   "execution_count": null,
   "metadata": {},
   "outputs": [],
   "source": [
    "picasso_easy_input.shape"
   ]
  },
  {
   "cell_type": "code",
   "execution_count": null,
   "metadata": {},
   "outputs": [],
   "source": [
    "from disentangle.analysis.plot_utils import clean_ax, add_subplot_axes\n",
    "import matplotlib.patches as patches\n",
    "\n",
    "idx = 0\n",
    "inset_x = [0.6, 0.53, 0.46]\n",
    "inset_y = [0.55, 0.6, 0.65, 0.7]\n",
    "inset_rect=[0.6,0.55,0.5,0.5]\n",
    "inset_min_labelsize=10\n",
    "\n",
    "hN = wN = 200\n",
    "hs = 700\n",
    "ws = 1050\n",
    "def add_inset(ax_, img, inset_rect, vmin=None, vmax=None):\n",
    "    img_crop = img[hs:hs+hN,ws:ws+wN]\n",
    "    inset_ax = add_subplot_axes(ax_, inset_rect, min_labelsize=inset_min_labelsize)\n",
    "    inset_ax.imshow(img_crop, vmin=vmin, vmax=vmax)\n",
    "    for spine in inset_ax.spines.values():\n",
    "            spine.set_edgecolor('white')\n",
    "    clean_ax(inset_ax)\n",
    "\n",
    "\n",
    "\n",
    "_,ax = plt.subplots(figsize=(12,16),ncols=3,nrows=4)\n",
    "ax[0,0].imshow(picasso_easy_input[idx,...,0])\n",
    "ax[0,1].imshow(picasso_easy_input[idx,...,1])\n",
    "ax[0,2].imshow(picasso_easy_input[idx,...,2])\n",
    "add_inset(ax[0,0], picasso_easy_input[idx,...,0], [inset_x[0], inset_y[0], 0.5, 0.5])\n",
    "add_inset(ax[0,1], picasso_easy_input[idx,...,1], [inset_x[1], inset_y[0], 0.5, 0.5])\n",
    "add_inset(ax[0,2], picasso_easy_input[idx,...,2], [inset_x[2], inset_y[0], 0.5, 0.5])\n",
    "\n",
    "\n",
    "ax[1,0].imshow(picasso_easy_pred[idx,...,0])\n",
    "ax[1,1].imshow(picasso_easy_pred[idx,...,1])\n",
    "ax[1,2].imshow(picasso_easy_pred[idx,...,2])\n",
    "# add insets\n",
    "add_inset(ax[1,0], picasso_easy_pred[idx,...,0], [inset_x[0], inset_y[1], 0.5, 0.5])\n",
    "add_inset(ax[1,1], picasso_easy_pred[idx,...,1], [inset_x[1], inset_y[1], 0.5, 0.5])\n",
    "add_inset(ax[1,2], picasso_easy_pred[idx,...,2], [inset_x[2], inset_y[1], 0.5, 0.5])\n",
    "\n",
    "\n",
    "ax[2,0].imshow(microscplit_pred[idx,...,0], vmin=test_data[idx,...,0].min(), vmax=test_data[idx,...,0].max())\n",
    "ax[2,1].imshow(microscplit_pred[idx,...,1], vmin=test_data[idx,...,1].min(), vmax=test_data[idx,...,1].max())\n",
    "ax[2,2].imshow(microscplit_pred[idx,...,2], vmin=test_data[idx,...,2].min(), vmax=test_data[idx,...,2].max())\n",
    "# # add insets\n",
    "add_inset(ax[2,0], microscplit_pred[idx,...,0], [inset_x[0], inset_y[2], 0.5, 0.5], vmin=test_data[idx,...,0].min(), vmax=test_data[idx,...,0].max())\n",
    "add_inset(ax[2,1], microscplit_pred[idx,...,1], [inset_x[1], inset_y[2], 0.5, 0.5], vmin=test_data[idx,...,1].min(), vmax=test_data[idx,...,1].max())\n",
    "add_inset(ax[2,2], microscplit_pred[idx,...,2], [inset_x[2], inset_y[2], 0.5, 0.5], vmin=test_data[idx,...,2].min(), vmax=test_data[idx,...,2].max())\n",
    "\n",
    "ax[3,0].imshow(test_data[idx,...,0])\n",
    "ax[3,1].imshow(test_data[idx,...,1])\n",
    "ax[3,2].imshow(test_data[idx,...,2])\n",
    "# add insets\n",
    "add_inset(ax[3,0], test_data[idx,...,0], [inset_x[0], inset_y[3], 0.5, 0.5])\n",
    "add_inset(ax[3,1], test_data[idx,...,1], [inset_x[1], inset_y[3], 0.5, 0.5])\n",
    "add_inset(ax[3,2], test_data[idx,...,2], [inset_x[2], inset_y[3], 0.5, 0.5])\n",
    "\n",
    "\n",
    "for i in range(3):\n",
    "    for j in range(4):\n",
    "        rect_cur = patches.Rectangle((ws,hs), wN,hN, linewidth=1, edgecolor='w',linestyle='--', facecolor='none')\n",
    "        ax[j,i].add_patch(rect_cur)\n",
    "\n",
    "ax[0,0].set_ylabel('PICASSO Input', fontsize=15)\n",
    "ax[1,0].set_ylabel('PICASSO Prediction', fontsize=15)\n",
    "ax[2,0].set_ylabel('MicroSplit Prediction', fontsize=15)\n",
    "ax[3,0].set_ylabel('High-SNR Target', fontsize=15)\n",
    "clean_ax(ax)\n",
    "# reduce spacing between subplots\n",
    "\n",
    "plt.subplots_adjust(wspace=0.01, hspace=0.01)\n",
    "plot_fpath = os.path.join('/group/jug/ashesh/naturemethods/picassoPlots', f'comparison_with_picasso_easymode_{idx}.png')\n",
    "print(plot_fpath)\n",
    "plt.savefig(plot_fpath, dpi=100)\n"
   ]
  },
  {
   "cell_type": "code",
   "execution_count": null,
   "metadata": {},
   "outputs": [],
   "source": []
  }
 ],
 "metadata": {
  "kernelspec": {
   "display_name": "Python 3",
   "language": "python",
   "name": "python3"
  },
  "language_info": {
   "codemirror_mode": {
    "name": "ipython",
    "version": 3
   },
   "file_extension": ".py",
   "mimetype": "text/x-python",
   "name": "python",
   "nbconvert_exporter": "python",
   "pygments_lexer": "ipython3",
   "version": "3.9.19"
  }
 },
 "nbformat": 4,
 "nbformat_minor": 2
}
