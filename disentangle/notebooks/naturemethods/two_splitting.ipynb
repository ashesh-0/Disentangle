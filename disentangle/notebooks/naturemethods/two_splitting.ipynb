{
 "cells": [
  {
   "cell_type": "code",
   "execution_count": null,
   "metadata": {},
   "outputs": [],
   "source": [
    "from disentangle.data_loader.train_val_data import get_train_val_data\n",
    "from disentangle.config_utils import load_config\n",
    "from disentangle.scripts.evaluate import get_data_dir\n",
    "from disentangle.core.data_split_type import DataSplitType\n",
    "\n",
    "import os\n",
    "\n",
    "gt_root_dir = \"/group/jug/ashesh/kth_data\"\n",
    "pred_rootdir = '/home/ashesh.ashesh/training/disentangle'\n",
    "k = 0\n",
    "\n",
    "def sample_subdir(k):\n",
    "    return 'kth{}'.format(k)\n",
    "\n",
    "# -rw-r--r-- 1 ashesh.ashesh jug 8.2M May 22 22:42 Test_P64_G32_M1_Sk0_F/kth_0/pred_disentangle_2404_D17-M3-S0-L8_4_1.tif\n",
    "# -rw-r--r-- 1 ashesh.ashesh jug 129M May 22 23:16 Test_P64_G32_M1_Sk0_F/kth_0/pred_disentangle_2405_D18-M3-S0-L8_13_1.tif\n",
    "# -rw-r--r-- 1 ashesh.ashesh jug 129M May 22 23:25 Test_P64_G32_M1_Sk0_F/kth_0/pred_disentangle_2405_D18-M3-S0-L8_14_1.tif\n",
    "# -rw-r--r-- 1 ashesh.ashesh jug 129M May 22 23:34 Test_P64_G32_M1_Sk0_F/kth_0/pred_disentangle_2405_D18-M3-S0-L8_15_1.tif\n",
    "# -rw-r--r-- 1 ashesh.ashesh jug 129M May 22 23:43 Test_P64_G32_M1_Sk0_F/kth_0/pred_disentangle_2405_D18-M3-S0-L8_10_1.tif\n",
    "# -rw-r--r-- 1 ashesh.ashesh jug 129M May 22 23:52 Test_P64_G32_M1_Sk0_F/kth_0/pred_disentangle_2405_D18-M3-S0-L8_11_1.tif\n",
    "# -rw-r--r-- 1 ashesh.ashesh jug 129M May 23 00:01 Test_P64_G32_M1_Sk0_F/kth_0/pred_disentangle_2405_D18-M3-S0-L8_12_1.tif\n",
    "\n",
    "pred_dirs = {\n",
    "'2404/D21-M3-S0-L8/1': '/group/jug/ashesh/data/paper_stats/Test_P64_G32_M1_Sk8_F/kth_0/pred_disentangle_2404_D21-M3-S0-L8_6_1.tif',\n",
    "'2404/D17-M3-S0-L8/4': '/group/jug/ashesh/data/paper_stats/Test_P64_G32_M1_Sk0_F/kth_0/pred_disentangle_2404_D17-M3-S0-L8_4_1.tif',\n",
    "'2404/D19-M3-S0-L8/5': '/group/jug/ashesh/data/paper_stats/',\n",
    "'2404/D25-M3-S0-L8/97': '/group/jug/ashesh/data/paper_stats/Test_P64_G32_M1_Sk8_F/kth_0/pred_disentangle_2404_D25-M3-S0-L8_97_1.tif',\n",
    "'2405/D18-M3-S0-L8/13': '/group/jug/ashesh/data/paper_stats/Test_P64_G32_M1_Sk0_F/kth_0/pred_disentangle_2405_D18-M3-S0-L8_13_1.tif',\n",
    "'2405/D18-M3-S0-L8/14': '/group/jug/ashesh/data/paper_stats/Test_P64_G32_M1_Sk0_F/kth_0/pred_disentangle_2405_D18-M3-S0-L8_14_1.tif',\n",
    "'2405/D18-M3-S0-L8/15': '/group/jug/ashesh/data/paper_stats/Test_P64_G32_M1_Sk0_F/kth_0/pred_disentangle_2405_D18-M3-S0-L8_15_1.tif',\n",
    "'2405/D18-M3-S0-L8/10': '/group/jug/ashesh/data/paper_stats/Test_P64_G32_M1_Sk0_F/kth_0/pred_disentangle_2405_D18-M3-S0-L8_10_1.tif',\n",
    "'2405/D18-M3-S0-L8/11': '/group/jug/ashesh/data/paper_stats/Test_P64_G32_M1_Sk0_F/kth_0/pred_disentangle_2405_D18-M3-S0-L8_11_1.tif',\n",
    "'2405/D18-M3-S0-L8/12': '/group/jug/ashesh/data/paper_stats/Test_P64_G32_M1_Sk0_F/kth_0/pred_disentangle_2405_D18-M3-S0-L8_12_1.tif',\n",
    "'2404/D21-M3-S0-L8/6': '/group/jug/ashesh/data/paper_stats/Test_P64_G32_M1_Sk8_F/kth_0/pred_disentangle_2404_D21-M3-S0-L8_6_1.tif',\n",
    "'2404/D25-M3-S0-L8/120': '/group/jug/ashesh/data/paper_stats/Test_P64_G32_M1_Sk8_F/kth_0/pred_disentangle_2404_D25-M3-S0-L8_120_1.tif',\n",
    "'2404/D25-M3-S0-L8/111': '/group/jug/ashesh/data/paper_stats/Test_P64_G32_M1_Sk8_F/kth_0/pred_disentangle_2404_D25-M3-S0-L8_111_1.tif',\n",
    "'2404/D25-M3-S0-L8/125': '/group/jug/ashesh/data/paper_stats/Test_P64_G32_M1_Sk8_F/kth_0/pred_disentangle_2404_D25-M3-S0-L8_125_1.tif',\n",
    "'2404/D25-M3-S0-L8/139': '/group/jug/ashesh/data/paper_stats/Test_P64_G32_M1_Sk8_F/kth_0/pred_disentangle_2404_D25-M3-S0-L8_139_1.tif',\n",
    "'2404/D25-M3-S0-L8/143': '/group/jug/ashesh/data/paper_stats/Test_P64_G32_M1_Sk8_F/kth_0/pred_disentangle_2404_D25-M3-S0-L8_143_1.tif',\n",
    "}\n",
    "\n",
    "for model_dir in model_dirs:\n",
    "    dtype = model_dir.split('/')[1].split('-')[0]\n",
    "    gt_dir = os.path.join(gt_root_dir, dtype)\n",
    "    gt_dir = os.path.join(gt_dir, sample_subdir(k))\n",
    "    if not os.path.exists(gt_dir):\n",
    "        os.makedirs(gt_dir, exist_ok=True)\n",
    "    \n",
    "    if not os.listdir(gt_dir):\n",
    "        # loading directory.\n",
    "        config = load_config(os.path.join(pred_rootdir, model_dir, 'config.pkl'))\n",
    "        val_data = get_train_val_data(config.data, get_data_dir(int(dtype[1:])), DataSplitType.Test, \n",
    "        val_fraction=config.training.val_fraction,\n",
    "        test_fraction=config.training.test_fraction,\n",
    "\n",
    "        )\n",
    "        print('No such dir {}'.format(gt_dir))\n",
    "        break\n",
    "    print(gt_dir)"
   ]
  },
  {
   "cell_type": "code",
   "execution_count": null,
   "metadata": {},
   "outputs": [],
   "source": [
    "! ls /home/ashesh.ashesh/training/disentangle/2404/D21-M3-S0-L8/1/"
   ]
  },
  {
   "cell_type": "code",
   "execution_count": null,
   "metadata": {},
   "outputs": [],
   "source": [
    "val_data._data[0].shape"
   ]
  },
  {
   "cell_type": "code",
   "execution_count": null,
   "metadata": {},
   "outputs": [],
   "source": [
    "os.path.join(pred_rootdir, pred_dir)"
   ]
  },
  {
   "cell_type": "code",
   "execution_count": null,
   "metadata": {},
   "outputs": [],
   "source": [
    "ls /home/ashesh.ashesh/training/disentangle/2404/D21-M3-S0-L8/1"
   ]
  },
  {
   "cell_type": "code",
   "execution_count": null,
   "metadata": {},
   "outputs": [],
   "source": [
    "!ls /group/jug/ashesh/data/paper_stats/Test_P64_G32_M1_Sk8_F25.26/kth_4/"
   ]
  },
  {
   "cell_type": "code",
   "execution_count": null,
   "metadata": {},
   "outputs": [],
   "source": []
  }
 ],
 "metadata": {
  "kernelspec": {
   "display_name": "Python 3",
   "language": "python",
   "name": "python3"
  },
  "language_info": {
   "codemirror_mode": {
    "name": "ipython",
    "version": 3
   },
   "file_extension": ".py",
   "mimetype": "text/x-python",
   "name": "python",
   "nbconvert_exporter": "python",
   "pygments_lexer": "ipython3",
   "version": "3.9.19"
  }
 },
 "nbformat": 4,
 "nbformat_minor": 2
}
