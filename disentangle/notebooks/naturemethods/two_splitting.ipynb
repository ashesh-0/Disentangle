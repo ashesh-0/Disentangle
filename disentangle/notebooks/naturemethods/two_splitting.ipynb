{
 "cells": [
  {
   "cell_type": "code",
   "execution_count": null,
   "metadata": {},
   "outputs": [],
   "source": [
    "from disentangle.data_loader.train_val_data import get_train_val_data\n",
    "from disentangle.config_utils import load_config\n",
    "from disentangle.scripts.evaluate import get_data_dir\n",
    "from disentangle.core.data_split_type import DataSplitType\n",
    "from disentangle.core.tiff_reader import save_tiff, load_tiff\n",
    "import os\n",
    "\n",
    "gt_root_dir = \"/group/jug/ashesh/kth_data\"\n",
    "pred_rootdir = '/home/ashesh.ashesh/training/disentangle'\n",
    "kth_sample = 0\n",
    "\n",
    "def sample_subdir(k):\n",
    "    return 'kth{}'.format(k)\n",
    "\n",
    "def get_gt_dir(dtype):\n",
    "    gt_dir = os.path.join(gt_root_dir, dtype)\n",
    "    gt_dir = os.path.join(gt_dir, sample_subdir(kth_sample))\n",
    "    return gt_dir\n",
    "\n",
    "\n",
    "def get_kth_gt(val_data):\n",
    "    if hasattr(val_data, '_data'):\n",
    "        gt_data = val_data._data[kth_sample][0]\n",
    "    else:\n",
    "        gt_data = val_data[kth_sample]\n",
    "    return gt_data\n",
    "\n",
    "\n",
    "\n",
    "\n",
    "full_frame_pred_dirs = {\n",
    "# '2404/D21-M3-S0-L8/6': f'/group/jug/ashesh/data/paper_stats/Test_P64_G32_M50_Sk8_F/kth_{kth_sample}/pred_disentangle_2404_D21-M3-S0-L8_6_1.tif',\n",
    "# '2404/D25-M3-S0-L8/97': f'/group/jug/ashesh/data/paper_stats/Test_P64_G32_M50_Sk8_F/kth_{kth_sample}/pred_disentangle_2404_D25-M3-S0-L8_97_1.tif',\n",
    "# '2404/D25-M3-S0-L8/120': f'/group/jug/ashesh/data/paper_stats/Test_P64_G32_M50_Sk8_F/kth_{kth_sample}/pred_disentangle_2404_D25-M3-S0-L8_120_1.tif',\n",
    "# '2404/D25-M3-S0-L8/111': f'/group/jug/ashesh/data/paper_stats/Test_P64_G32_M50_Sk8_F/kth_{kth_sample}/pred_disentangle_2404_D25-M3-S0-L8_111_1.tif',\n",
    "# '2404/D25-M3-S0-L8/125': f'/group/jug/ashesh/data/paper_stats/Test_P64_G32_M50_Sk8_F/kth_{kth_sample}/pred_disentangle_2404_D25-M3-S0-L8_125_1.tif',\n",
    "# '2404/D25-M3-S0-L8/139': f'/group/jug/ashesh/data/paper_stats/Test_P64_G32_M50_Sk8_F/kth_{kth_sample}/pred_disentangle_2404_D25-M3-S0-L8_139_1.tif',\n",
    "# '2404/D25-M3-S0-L8/143': f'/group/jug/ashesh/data/paper_stats/Test_P64_G32_M50_Sk8_F/kth_{kth_sample}/pred_disentangle_2404_D25-M3-S0-L8_143_1.tif',\n",
    "'2405/D18-M3-S0-L8/13': f'/group/jug/ashesh/data/paper_stats/Test_P64_G32_M50_Sk0_F/kth_{kth_sample}/pred_disentangle_2405_D18-M3-S0-L8_13_1.tif',\n",
    "# '2405/D18-M3-S0-L8/14': f'/group/jug/ashesh/data/paper_stats/Test_P64_G32_M50_Sk0_F/kth_{kth_sample}/pred_disentangle_2405_D18-M3-S0-L8_14_1.tif',\n",
    "# '2405/D18-M3-S0-L8/15': f'/group/jug/ashesh/data/paper_stats/Test_P64_G32_M50_Sk0_F/kth_{kth_sample}/pred_disentangle_2405_D18-M3-S0-L8_15_1.tif',\n",
    "# '2405/D18-M3-S0-L8/10': f'/group/jug/ashesh/data/paper_stats/Test_P64_G32_M50_Sk0_F/kth_{kth_sample}/pred_disentangle_2405_D18-M3-S0-L8_10_1.tif',\n",
    "# '2405/D18-M3-S0-L8/11': f'/group/jug/ashesh/data/paper_stats/Test_P64_G32_M50_Sk0_F/kth_{kth_sample}/pred_disentangle_2405_D18-M3-S0-L8_11_1.tif',\n",
    "# '2405/D18-M3-S0-L8/12': f'/group/jug/ashesh/data/paper_stats/Test_P64_G32_M50_Sk0_F/kth_{kth_sample}/pred_disentangle_2405_D18-M3-S0-L8_12_1.tif',\n",
    "    \n",
    "# '2404/D17-M3-S0-L8/4': f'/group/jug/ashesh/data/paper_stats/Test_P64_G32_M50_Sk0_F/kth_{kth_sample}/pred_disentangle_2404_D17-M3-S0-L8_4_1.tif',\n",
    "# '2404/D21-M3-S0-L8/1': f'/group/jug/ashesh/data/paper_stats/Test_P64_G32_M50_Sk8_F/kth_{kth_sample}/pred_disentangle_2404_D21-M3-S0-L8_1_1.tif',\n",
    "}\n",
    "\n",
    "\n",
    "\n",
    "\n",
    "crops_pred_dirs = {\n",
    "        # '2404/D21-M3-S0-L8/6':'/group/jug/ashesh/data/paper_stats/Test_P64_G32_M50_Sk0/stats_disentangle_2404_D21-M3-S0-L8_6.pkl',\n",
    "        # '2404/D25-M3-S0-L8/97':'/group/jug/ashesh/data/paper_stats/Test_P64_G32_M50_Sk0/stats_disentangle_2404_D25-M3-S0-L8_97.pkl',\n",
    "        # '2404/D25-M3-S0-L8/120':'/group/jug/ashesh/data/paper_stats/Test_P64_G32_M50_Sk0/stats_disentangle_2404_D25-M3-S0-L8_120.pkl',\n",
    "        # '2404/D25-M3-S0-L8/111':'/group/jug/ashesh/data/paper_stats/Test_P64_G32_M50_Sk0/stats_disentangle_2404_D25-M3-S0-L8_111.pkl',\n",
    "        # '2404/D25-M3-S0-L8/125':'/group/jug/ashesh/data/paper_stats/Test_P64_G32_M50_Sk0/stats_disentangle_2404_D25-M3-S0-L8_125.pkl',\n",
    "        # '2404/D25-M3-S0-L8/139':'/group/jug/ashesh/data/paper_stats/Test_P64_G32_M50_Sk0/stats_disentangle_2404_D25-M3-S0-L8_139.pkl',\n",
    "        # '2404/D25-M3-S0-L8/143':'/group/jug/ashesh/data/paper_stats/Test_P64_G32_M50_Sk0/stats_disentangle_2404_D25-M3-S0-L8_143.pkl',\n",
    "        # '2405/D18-M3-S0-L8/13':'/group/jug/ashesh/data/paper_stats/Test_P64_G32_M50_Sk0/stats_disentangle_2405_D18-M3-S0-L8_13.pkl',\n",
    "        # '2405/D18-M3-S0-L8/14':'/group/jug/ashesh/data/paper_stats/Test_P64_G32_M50_Sk0/stats_disentangle_2405_D18-M3-S0-L8_14.pkl',\n",
    "        # '2405/D18-M3-S0-L8/15':'/group/jug/ashesh/data/paper_stats/Test_P64_G32_M50_Sk0/stats_disentangle_2405_D18-M3-S0-L8_15.pkl',\n",
    "        # '2405/D18-M3-S0-L8/10':'/group/jug/ashesh/data/paper_stats/Test_P64_G32_M50_Sk0/stats_disentangle_2405_D18-M3-S0-L8_10.pkl',\n",
    "        # '2405/D18-M3-S0-L8/11':'/group/jug/ashesh/data/paper_stats/Test_P64_G32_M50_Sk0/stats_disentangle_2405_D18-M3-S0-L8_11.pkl',\n",
    "        # '2405/D18-M3-S0-L8/12':'/group/jug/ashesh/data/paper_stats/Test_P64_G32_M50_Sk0/stats_disentangle_2405_D18-M3-S0-L8_12.pkl',\n",
    "    \n",
    "        # '2404/D17-M3-S0-L8/4':'/group/jug/ashesh/data/paper_stats/Test_P64_G32_M50_Sk0/stats_disentangle_2404_D17-M3-S0-L8_4.pkl',\n",
    "        # '2404/D21-M3-S0-L8/1':'/group/jug/ashesh/data/paper_stats/Test_P64_G32_M50_Sk0/stats_disentangle_2404_D21-M3-S0-L8_1.pkl',\n",
    "}"
   ]
  },
  {
   "cell_type": "markdown",
   "metadata": {},
   "source": [
    "### Fetch the kth frame data and store it for fast access"
   ]
  },
  {
   "cell_type": "code",
   "execution_count": null,
   "metadata": {},
   "outputs": [],
   "source": [
    "\n",
    "for model_dir, pred_fpath in full_frame_pred_dirs.items():\n",
    "    dtype = model_dir.split('/')[1].split('-')[0]\n",
    "    gt_dir = get_gt_dir(dtype)\n",
    "\n",
    "    if not os.path.exists(gt_dir):\n",
    "        print('No such dir {}. Creating it'.format(gt_dir))\n",
    "        os.makedirs(gt_dir, exist_ok=True)\n",
    "    \n",
    "    gt_fpath = os.path.join(gt_dir, 'gt_for_'+os.path.basename(pred_fpath))\n",
    "    if not os.path.exists(gt_fpath):\n",
    "        print('GT data is not present at {}. Creating it'.format(gt_fpath))\n",
    "        # loading directory.\n",
    "        config = load_config(os.path.join(pred_rootdir, model_dir, 'config.pkl'))\n",
    "        val_data = get_train_val_data(config.data, get_data_dir(int(dtype[1:])), DataSplitType.Test, \n",
    "        val_fraction=config.training.val_fraction,\n",
    "        test_fraction=config.training.test_fraction)\n",
    "        kth_gt = get_kth_gt(val_data)\n",
    "        save_tiff(gt_fpath, kth_gt)\n"
   ]
  },
  {
   "cell_type": "code",
   "execution_count": null,
   "metadata": {},
   "outputs": [],
   "source": [
    "# dtype = key.split('/')[1].split('-')[0]\n",
    "# config = load_config(os.path.join(pred_rootdir, key, 'config.pkl'))\n",
    "# val_data = get_train_val_data(config.data, get_data_dir(int(dtype[1:])), DataSplitType.Test, \n",
    "#         val_fraction=config.training.val_fraction,\n",
    "#         test_fraction=config.training.test_fraction)\n",
    "# kth_gt = get_kth_gt(val_data)"
   ]
  },
  {
   "cell_type": "markdown",
   "metadata": {},
   "source": [
    "### Loading data"
   ]
  },
  {
   "cell_type": "code",
   "execution_count": null,
   "metadata": {},
   "outputs": [],
   "source": [
    "from disentangle.core.tiff_reader import load_tiff\n",
    "from tqdm import tqdm\n",
    "\n",
    "gt_pred_dict = {}\n",
    "for model_dir, pred_fpath in tqdm(full_frame_pred_dirs.items()):\n",
    "    dtype = model_dir.split('/')[1].split('-')[0]\n",
    "    gt_dir = get_gt_dir(dtype)\n",
    "    gt_fpath = os.path.join(gt_dir, 'gt_for_'+os.path.basename(pred_fpath))\n",
    "    kth_gt = load_tiff(gt_fpath)\n",
    "    kth_pred = load_tiff(pred_fpath)\n",
    "    gt_pred_dict[model_dir] = (kth_gt, kth_pred)\n"
   ]
  },
  {
   "cell_type": "code",
   "execution_count": null,
   "metadata": {},
   "outputs": [],
   "source": [
    "keys = [\n",
    "# '2404/D17-M3-S0-L8/4', taverna with just synthetic data. it has real input, but there is no GT. \n",
    "# '2404/D21-M3-S0-L8/1', trained with synthetic input. We could evaluate it on real input to see perf. \n",
    "# '2404/D21-M3-S0-L8/6', #=> kth = 0\n",
    "# '2404/D25-M3-S0-L8/97', # => kth = 0\n",
    "# '2404/D25-M3-S0-L8/120', # both look really like nuclei. and so, the prediction confuses\n",
    "# '2404/D25-M3-S0-L8/111', # => kth = 0\n",
    "# '2404/D25-M3-S0-L8/125', # => kth = 0, also good. but similar in appearance to 97\n",
    "# '2404/D25-M3-S0-L8/139', # => kth = 0, also good. but similar in appearance to 111/97\n",
    "# '2404/D25-M3-S0-L8/143', # => kth = 0, also good. but similar in appearance to 111\n",
    "'2405/D18-M3-S0-L8/12',\n",
    "'2405/D18-M3-S0-L8/13',\n",
    "'2405/D18-M3-S0-L8/14',\n",
    "'2405/D18-M3-S0-L8/15',\n",
    "'2405/D18-M3-S0-L8/10',\n",
    "'2405/D18-M3-S0-L8/11',\n",
    "]"
   ]
  },
  {
   "cell_type": "code",
   "execution_count": null,
   "metadata": {},
   "outputs": [],
   "source": [
    "import matplotlib.pyplot as plt\n",
    "import numpy as np\n",
    "key = keys[0]\n",
    "print(key)\n",
    "gt, pred = gt_pred_dict[key]\n",
    "gt = gt.squeeze()\n",
    "pred = pred.squeeze()\n",
    "_,ax = plt.subplots(figsize=(15,3),ncols=5)\n",
    "if gt.shape[-1] == 2:\n",
    "    inp = (gt[...,0] + gt[...,1])/2\n",
    "    ax[0].set_title('Synthetic Input')\n",
    "else:\n",
    "    assert gt.shape[-1] == 3\n",
    "    inp = gt[...,-1]\n",
    "    ax[0].set_title('Real Input')\n",
    "\n",
    "ax[0].imshow(inp)\n",
    "ax[1].imshow(gt[...,0])\n",
    "ax[2].imshow(pred[...,0])\n",
    "\n",
    "ax[3].imshow(gt[...,1])\n",
    "ax[4].imshow(pred[...,1])"
   ]
  },
  {
   "cell_type": "code",
   "execution_count": null,
   "metadata": {},
   "outputs": [],
   "source": [
    "_,ax = plt.subplots(figsize=(15,3),ncols=5)\n",
    "hs = 1000\n",
    "ws = 600\n",
    "sz = 300\n",
    "ax[0].imshow(inp[hs:hs+sz, ws:ws+sz])\n",
    "ax[1].imshow(gt[hs:hs+sz, ws:ws+sz,0])\n",
    "ax[2].imshow(pred[hs:hs+sz, ws:ws+sz,0])\n",
    "\n",
    "ax[3].imshow(gt[hs:hs+sz, ws:ws+sz,1])\n",
    "ax[4].imshow(pred[hs:hs+sz, ws:ws+sz,1])"
   ]
  },
  {
   "cell_type": "code",
   "execution_count": null,
   "metadata": {},
   "outputs": [],
   "source": []
  },
  {
   "cell_type": "code",
   "execution_count": null,
   "metadata": {},
   "outputs": [],
   "source": [
    "ex_idx = -1"
   ]
  },
  {
   "cell_type": "code",
   "execution_count": null,
   "metadata": {},
   "outputs": [],
   "source": [
    "import matplotlib.pyplot as plt\n",
    "import numpy as np\n",
    "_, ax = plt.subplots(figsize=(9,15), ncols=3, nrows=5)\n",
    "ex_idx = ex_idx +1 #np.random.choice(range(len(data['inp'])))\n",
    "print(ex_idx)\n",
    "ax[0,0].imshow(data['inp'][ex_idx][0,0].cpu().numpy())\n",
    "ax[0,1].imshow(data['tar'][ex_idx][0,0].cpu().numpy())\n",
    "ax[0,2].imshow(data['tar'][ex_idx][0,1].cpu().numpy())\n",
    "\n",
    "ax[1,1].imshow(data['pred'][0][ex_idx].mean(axis=0))\n",
    "ax[1,2].imshow(data['pred'][1][ex_idx].mean(axis=0))\n",
    "\n",
    "ax[2,1].imshow(data['pred'][0][ex_idx][0])\n",
    "ax[2,2].imshow(data['pred'][1][ex_idx][0])\n",
    "ax[3,1].imshow(data['pred'][0][ex_idx][1])\n",
    "ax[3,2].imshow(data['pred'][1][ex_idx][1])\n",
    "\n",
    "ax[4,1].imshow(data['pred'][0][ex_idx][1] - data['pred'][0][ex_idx][0])\n",
    "ax[4,2].imshow(data['pred'][1][ex_idx][1] - data['pred'][1][ex_idx][0])\n"
   ]
  },
  {
   "cell_type": "code",
   "execution_count": null,
   "metadata": {},
   "outputs": [],
   "source": []
  }
 ],
 "metadata": {
  "kernelspec": {
   "display_name": "Python 3",
   "language": "python",
   "name": "python3"
  },
  "language_info": {
   "codemirror_mode": {
    "name": "ipython",
    "version": 3
   },
   "file_extension": ".py",
   "mimetype": "text/x-python",
   "name": "python",
   "nbconvert_exporter": "python",
   "pygments_lexer": "ipython3",
   "version": "3.9.19"
  }
 },
 "nbformat": 4,
 "nbformat_minor": 2
}
