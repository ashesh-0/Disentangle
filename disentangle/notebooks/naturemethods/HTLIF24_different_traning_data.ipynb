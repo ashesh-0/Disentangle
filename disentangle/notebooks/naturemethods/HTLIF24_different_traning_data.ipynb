{
 "cells": [
  {
   "cell_type": "code",
   "execution_count": null,
   "metadata": {},
   "outputs": [],
   "source": [
    "psnr_dict = {\n",
    "    '2504_D25-M3-S0-L8_8': (35.16, 37.41),\n",
    "    '2504_D25-M3-S0-L8_7': (35.25, 37.48),\n",
    "    '2504_D25-M3-S0-L8_6': (35.23, 37.47),\n",
    "    '2504_D25-M3-S0-L8_5': (33.56, 35.59),\n",
    "    '2504_D25-M3-S0-L8_4': (34.04, 35.87),\n",
    "    '2504_D25-M3-S0-L8_3': (34.39, 36.59)\n",
    "}\n",
    "training_data_fraction_dict = {\n",
    "    '2504_D25-M3-S0-L8_8': 1.0,\n",
    "    '2504_D25-M3-S0-L8_7': 0.8,\n",
    "    '2504_D25-M3-S0-L8_6': 0.5,\n",
    "    '2504_D25-M3-S0-L8_5': 0.025,\n",
    "    '2504_D25-M3-S0-L8_4': 0.05,\n",
    "    '2504_D25-M3-S0-L8_3': 0.1\n",
    "}"
   ]
  },
  {
   "cell_type": "code",
   "execution_count": null,
   "metadata": {},
   "outputs": [],
   "source": [
    "import pandas as pd\n",
    "frac = pd.DataFrame.from_dict(training_data_fraction_dict, orient='index', columns=['training_data_fraction'])\n",
    "psnr = pd.DataFrame.from_dict(psnr_dict, orient='index', columns=['C1 PSNR', 'C2 PSNR'])"
   ]
  },
  {
   "cell_type": "code",
   "execution_count": null,
   "metadata": {},
   "outputs": [],
   "source": [
    "import matplotlib.pyplot as plt\n",
    "_,ax = plt.subplots()\n",
    "pd.concat([frac, psnr], axis=1).set_index('training_data_fraction').sort_index().plot(style='o-', ax=ax)\n",
    "ax.grid()\n",
    "# gray background\n",
    "ax.set_facecolor('lightgray')"
   ]
  },
  {
   "cell_type": "code",
   "execution_count": null,
   "metadata": {},
   "outputs": [],
   "source": []
  }
 ],
 "metadata": {
  "kernelspec": {
   "display_name": "Python 3",
   "language": "python",
   "name": "python3"
  },
  "language_info": {
   "codemirror_mode": {
    "name": "ipython",
    "version": 3
   },
   "file_extension": ".py",
   "mimetype": "text/x-python",
   "name": "python",
   "nbconvert_exporter": "python",
   "pygments_lexer": "ipython3",
   "version": "3.9.19"
  }
 },
 "nbformat": 4,
 "nbformat_minor": 2
}
