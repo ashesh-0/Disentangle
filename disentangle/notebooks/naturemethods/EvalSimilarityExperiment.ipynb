{
 "cells": [
  {
   "cell_type": "code",
   "execution_count": null,
   "id": "19844352",
   "metadata": {},
   "outputs": [],
   "source": [
    "from IPython.display import display, HTML\n",
    "display(HTML(\"<style>.container { width:100% !important; }</style>\"))"
   ]
  },
  {
   "cell_type": "code",
   "execution_count": null,
   "id": "ad91cc2b",
   "metadata": {},
   "outputs": [],
   "source": [
    "import os\n",
    "output_data_dir = '/group/jug/ashesh/naturemethods/similarityExperiment'\n",
    "# os.environ[\"CUDA_DEVICE_ORDER\"]=\"PCI_BUS_ID\"   # see issue #152\n",
    "# os.environ[\"CUDA_VISIBLE_DEVICES\"]=\"2\"\n"
   ]
  },
  {
   "cell_type": "code",
   "execution_count": null,
   "id": "dcd3d0c2",
   "metadata": {},
   "outputs": [],
   "source": [
    "# there are two environments(debug and prod). From where you want to fetch the code and data? \n",
    "DEBUG=False"
   ]
  },
  {
   "cell_type": "code",
   "execution_count": null,
   "id": "27ec4422",
   "metadata": {},
   "outputs": [],
   "source": [
    "%run ../nb_core/root_dirs.ipynb\n",
    "setup_syspath_disentangle(DEBUG)\n",
    "%run ../nb_core/disentangle_imports.ipynb"
   ]
  },
  {
   "cell_type": "code",
   "execution_count": null,
   "id": "5a9748a9",
   "metadata": {},
   "outputs": [],
   "source": [
    "ckpt_dir = \"/group/jug/ashesh/training/disentangle/2502/D31-M3-S0-L8/20\"\n",
    "# 211/D3-M3-S0-L0/0\n",
    "# 2210/D3-M3-S0-L0/128\n",
    "# 2210/D3-M3-S0-L0/129"
   ]
  },
  {
   "cell_type": "code",
   "execution_count": null,
   "id": "27410ddc",
   "metadata": {},
   "outputs": [],
   "source": [
    "# !ls /home/ubuntu/ashesh/training/disentangle/2209/D3-M9-S0-L0/1"
   ]
  },
  {
   "cell_type": "code",
   "execution_count": null,
   "id": "0b237569",
   "metadata": {
    "slideshow": {
     "slide_type": "skip"
    }
   },
   "outputs": [],
   "source": [
    "from disentangle.data_loader.multifile_raw_dloader import SubDsetType\n",
    "from disentangle.data_loader.patch_index_manager import TilingMode\n",
    "\n",
    "image_size_for_grid_centers = 32\n",
    "mmse_count = 1\n",
    "custom_image_size = None\n",
    "data_t_list = None #[0,1,2,3]\n",
    "tiling_mode = TilingMode.ShiftBoundary\n",
    "\n",
    "\n",
    "batch_size = 8\n",
    "num_workers = 4\n",
    "COMPUTE_LOSS = False\n",
    "use_deterministic_grid = None\n",
    "threshold = None # 0.02\n",
    "compute_kl_loss = False\n",
    "evaluate_train = False# inspect training performance\n",
    "eval_datasplit_type = DataSplitType.Test\n",
    "val_repeat_factor = None\n",
    "psnr_type = 'range_invariant' #'simple', 'range_invariant'"
   ]
  },
  {
   "cell_type": "code",
   "execution_count": null,
   "id": "f889dd2d",
   "metadata": {},
   "outputs": [],
   "source": [
    "%run ../nb_core/config_loader.ipynb"
   ]
  },
  {
   "cell_type": "code",
   "execution_count": null,
   "id": "bc8a3fed",
   "metadata": {},
   "outputs": [],
   "source": [
    "from disentangle.core.sampler_type import SamplerType\n",
    "from disentangle.core.loss_type import LossType\n",
    "# from disentangle.core.lowres_merge_type import LowresMergeType\n",
    "from disentangle.data_loader.multifile_raw_dloader import SubDsetType\n",
    "\n",
    "with config.unlocked():\n",
    "    config.model.skip_nboundary_pixels_from_loss = None\n",
    "    if config.model.model_type == ModelType.UNet and 'n_levels' not in config.model:\n",
    "        config.model.n_levels = 4\n",
    "    if config.data.sampler_type == SamplerType.NeighborSampler:\n",
    "        config.data.sampler_type = SamplerType.DefaultSampler\n",
    "        config.loss.loss_type = LossType.Elbo\n",
    "        config.data.grid_size = config.data.image_size\n",
    "    if 'ch1_fpath_list' in config.data:\n",
    "        config.data.ch1_fpath_list = config.data.ch1_fpath_list[:1]\n",
    "        config.data.mix_fpath_list = config.data.mix_fpath_list[:1]\n",
    "    if config.data.data_type == DataType.Pavia2VanillaSplitting:\n",
    "        if 'channel_2_downscale_factor' not in config.data:\n",
    "            config.data.channel_2_downscale_factor = 1\n",
    "    if config.model.model_type == ModelType.UNet and 'init_channel_count' not in config.model:\n",
    "        config.model.init_channel_count = 64\n",
    "    \n",
    "    if 'skip_receptive_field_loss_tokens' not in config.loss:\n",
    "        config.loss.skip_receptive_field_loss_tokens = []\n",
    "    \n",
    "    if config.data.data_type == DataType.HTIba1Ki67:\n",
    "        config.data.subdset_type = SubDsetType.Iba1Ki64\n",
    "        config.data.empty_patch_replacement_enabled = False\n",
    "    \n",
    "    if 'lowres_merge_type' not in config.model.encoder:\n",
    "        config.model.encoder.lowres_merge_type = 0\n",
    "    \n",
    "    if config.data.data_type == DataType.TwoDset:\n",
    "        config.model.model_type = ModelType.LadderVae\n",
    "        for key in config.data.dset1:\n",
    "            config.data[key] = config.data.dset1[key]\n",
    "    if config.data.data_type == DataType.TavernaSox2GolgiV2:\n",
    "        config.data.channel_1 = '555-647'\n",
    "        config.data.channel_2 = '555-647'\n"
   ]
  },
  {
   "cell_type": "code",
   "execution_count": null,
   "id": "cb3705ae",
   "metadata": {},
   "outputs": [],
   "source": [
    "dtype = config.data.raw_data_type\n",
    "dtype"
   ]
  },
  {
   "cell_type": "code",
   "execution_count": null,
   "id": "6863ea5b",
   "metadata": {},
   "outputs": [],
   "source": [
    "if dtype in [DataType.CustomSinosoid, DataType.CustomSinosoidThreeCurve]:\n",
    "    data_dir = f'{DATA_ROOT}/sinosoid_without_test/sinosoid/'\n",
    "elif dtype == DataType.OptiMEM100_014:\n",
    "    data_dir = f'{DATA_ROOT}/microscopy/'\n",
    "elif dtype == DataType.Prevedel_EMBL:\n",
    "    data_dir = f'{DATA_ROOT}/Prevedel_EMBL/PKG_3P_dualcolor_stacks/NoAverage_NoRegistration/'\n",
    "elif dtype == DataType.AllenCellMito:\n",
    "    data_dir = f'{DATA_ROOT}/allencell/2017_03_08_Struct_First_Pass_Seg/AICS-11/'\n",
    "elif dtype == DataType.SeparateTiffData:\n",
    "    data_dir = f'{DATA_ROOT}/ventura_gigascience'\n",
    "elif dtype == DataType.SemiSupBloodVesselsEMBL:\n",
    "    data_dir = f'{DATA_ROOT}/EMBL_halfsupervised/Demixing_3P'\n",
    "elif dtype == DataType.Pavia2VanillaSplitting:\n",
    "    data_dir = f'{DATA_ROOT}/pavia2'\n",
    "# elif dtype == DataType.ExpansionMicroscopyMitoTub:\n",
    "    # data_dir = f'{DATA_ROOT}/expansion_microscopy_Nick/'\n",
    "elif dtype == DataType.ShroffMitoEr:\n",
    "    data_dir = f'{DATA_ROOT}/shrofflab/'\n",
    "elif dtype == DataType.HTIba1Ki67:\n",
    "    data_dir = f'{DATA_ROOT}/Stefania/20230327_Ki67_and_Iba1_trainingdata/'\n",
    "elif dtype == DataType.BioSR_MRC:\n",
    "    data_dir = f'{DATA_ROOT}/BioSR/'\n",
    "elif dtype == DataType.ExpMicroscopyV2:\n",
    "    data_dir = f'{DATA_ROOT}/expansion_microscopy_v2/datafiles/'\n",
    "elif dtype == DataType.TavernaSox2GolgiV2:\n",
    "    data_dir = f'{DATA_ROOT}/TavernaSox2Golgi/acquisition2/'\n",
    "elif dtype == DataType.Pavia3SeqData:\n",
    "    data_dir = f'{DATA_ROOT}/pavia3_sequential/'\n",
    "elif dtype == DataType.NicolaData:\n",
    "    data_dir = f'{DATA_ROOT}/nikola_data/20240531/'\n",
    "elif dtype == DataType.Dao3ChannelWithInput:\n",
    "    data_dir = f'{DATA_ROOT}/Dao4Channel/'\n",
    "elif dtype == DataType.Dao3Channel:\n",
    "    data_dir = f'{DATA_ROOT}/Dao3Channel/'\n",
    "elif dtype == DataType.SilvioLabCSHLData:\n",
    "    data_dir = f'{DATA_ROOT}/svilen_cshl2024/'\n",
    "elif dtype == DataType.ExpMicroscopyV3:\n",
    "    data_dir = f'{DATA_ROOT}/expansion_microscopy_v4/405_NHS_488BODIPY/'\n",
    "elif dtype == DataType.Elisa3DData:\n",
    "    data_dir = f'{DATA_ROOT}/Elisa3D/'"
   ]
  },
  {
   "cell_type": "code",
   "execution_count": null,
   "id": "edde2155",
   "metadata": {},
   "outputs": [],
   "source": [
    "%run ../nb_core/disentangle_setup.ipynb"
   ]
  },
  {
   "cell_type": "code",
   "execution_count": null,
   "id": "07819956",
   "metadata": {},
   "outputs": [],
   "source": [
    "len(val_dset._data_arr)"
   ]
  },
  {
   "cell_type": "code",
   "execution_count": null,
   "id": "e90c743d",
   "metadata": {},
   "outputs": [],
   "source": [
    "plt.imshow(val_dset._data_arr[0][1])"
   ]
  },
  {
   "cell_type": "code",
   "execution_count": null,
   "id": "b56564fb",
   "metadata": {},
   "outputs": [],
   "source": [
    "data1 = val_dset._data_arr[0].copy()\n",
    "data2 = val_dset._data_arr[1][:,:data1.shape[1], :data1.shape[2]].copy()"
   ]
  },
  {
   "cell_type": "code",
   "execution_count": null,
   "id": "8f4a4496",
   "metadata": {},
   "outputs": [],
   "source": [
    "data = np.concatenate([data1[...,None], data2[::-1,...,None]], axis=-1)"
   ]
  },
  {
   "cell_type": "code",
   "execution_count": null,
   "id": "5ab28556",
   "metadata": {},
   "outputs": [],
   "source": [
    "import numpy as np\n",
    "\n",
    "class YourDataset:\n",
    "    def __init__(self, data, mean_dict, std_dict, patch_size=64) -> None:\n",
    "        self.data = data\n",
    "        self.mean_dict = mean_dict\n",
    "        self.std_dict = std_dict\n",
    "        self.patch_size = patch_size\n",
    "        \n",
    "    def patch_location(self, index:int):\n",
    "        # it just ignores the index and returns a random location\n",
    "        n_idx = np.random.randint(0,len(self.data))\n",
    "        h = np.random.randint(0, self.data.shape[1]-self.patch_size)\n",
    "        w = np.random.randint(0, self.data.shape[2]-self.patch_size)\n",
    "        return (n_idx, h, w)\n",
    "    \n",
    "    def __len__(self):\n",
    "        return len(self.data)\n",
    "\n",
    "    def __getitem__(self, index):\n",
    "        n_idx, h, w = self.patch_location(index)\n",
    "        # return the patch at the location (patch_size, patch_size)\n",
    "        target = self.data[n_idx, h:h+self.patch_size, w:w+self.patch_size]\n",
    "        target = target.transpose(2,0,1)\n",
    "        inp = np.sum(target, axis=0, keepdims=True)\n",
    "        inp = (inp - self.mean_dict['input'].squeeze())/self.std_dict['input'].squeeze()\n",
    "        target = (target - self.mean_dict['target'].squeeze().reshape(-1,1,1))/self.std_dict['target'].squeeze().reshape(-1,1,1)\n",
    "        return inp, target"
   ]
  },
  {
   "cell_type": "code",
   "execution_count": null,
   "id": "86d879d3",
   "metadata": {},
   "outputs": [],
   "source": [
    "dset = YourDataset(data, val_dset._data_mean, val_dset._data_std)"
   ]
  },
  {
   "cell_type": "code",
   "execution_count": null,
   "id": "1aac99f7",
   "metadata": {},
   "outputs": [],
   "source": [
    "inp, tar = dset[4]\n",
    "_,ax = plt.subplots(figsize=(12,4),ncols=3)\n",
    "ax[0].imshow(inp[0], cmap='gray')\n",
    "ax[1].imshow(tar[0], cmap='gray')\n",
    "ax[2].imshow(tar[1], cmap='gray')"
   ]
  },
  {
   "cell_type": "code",
   "execution_count": null,
   "id": "016b1eb0",
   "metadata": {},
   "outputs": [],
   "source": [
    "import torch\n",
    "with torch.no_grad():\n",
    "\n",
    "    inp_torch = torch.tensor(inp).float().unsqueeze(0).cuda()\n",
    "    \n",
    "    out,_ = model(inp_torch)\n",
    "    out = out.cpu().numpy().squeeze()\n",
    "    out = out[:2]"
   ]
  },
  {
   "cell_type": "code",
   "execution_count": null,
   "id": "e79f016b",
   "metadata": {},
   "outputs": [],
   "source": [
    "_,ax = plt.subplots(figsize=(8,4),ncols=2)\n",
    "ax[0].imshow(out[0], cmap='gray')\n",
    "ax[1].imshow(out[1], cmap='gray')"
   ]
  },
  {
   "cell_type": "code",
   "execution_count": null,
   "id": "5c0a7391",
   "metadata": {},
   "outputs": [],
   "source": [
    "from predtiler import get_tiling_dataset, get_tile_manager, stitch_predictions\n",
    "\n",
    "patch_size = 64\n",
    "tile_size = 32\n",
    "data_shape = data.shape[:-1]\n",
    "manager = get_tile_manager(data_shape=data_shape, tile_shape=(1,tile_size,tile_size), \n",
    "                               patch_shape=(1,patch_size,patch_size))\n",
    "    \n",
    "dset_class = get_tiling_dataset(YourDataset, manager)\n",
    "dset = dset_class(data, val_dset._data_mean, val_dset._data_std, patch_size=patch_size)\n"
   ]
  },
  {
   "cell_type": "code",
   "execution_count": null,
   "id": "5627886e",
   "metadata": {},
   "outputs": [],
   "source": [
    "from tqdm import tqdm\n",
    "predictions = []\n",
    "\n",
    "dloader = torch.utils.data.DataLoader(dset, batch_size=16, num_workers=2)\n",
    "mmse_count = 10\n",
    "for batch in tqdm(dloader):\n",
    "    inp, _ = batch\n",
    "    inp = inp.cuda()\n",
    "    # inp, _ = dset[i]\n",
    "    # inp = torch.Tensor(inp)[None].cuda()\n",
    "    mmse_preds = []\n",
    "    for _ in range(mmse_count):\n",
    "        pred, _  = model(inp)\n",
    "        mmse_preds.append(pred.detach().cpu().numpy())\n",
    "    mmse_preds = np.stack(mmse_preds)\n",
    "    pred = np.mean(mmse_preds, axis=0)\n",
    "    predictions.append(pred[:,:2])\n",
    "\n",
    "predictions = np.concatenate(predictions) # shape: (number_of_patches, C, patch_size, patch_size)\n",
    "stitched_pred = stitch_predictions(predictions, dset.tile_manager)"
   ]
  },
  {
   "cell_type": "code",
   "execution_count": null,
   "id": "3402b920",
   "metadata": {},
   "outputs": [],
   "source": [
    "from disentangle.analysis.plot_utils import clean_ax, add_text\n",
    "from disentangle.scripts.evaluate import avg_range_inv_psnr\n",
    "save_to_file = True\n",
    "hs = 0\n",
    "ws = 0\n",
    "sz = 400\n",
    "\n",
    "\n",
    "_,ax = plt.subplots(figsize=(15,3),ncols=5)\n",
    "idx = 2\n",
    "ax[0].imshow(data[idx].sum(axis=-1)[hs:hs+sz,ws:ws+sz],cmap='gray')\n",
    "ax[1].imshow(stitched_pred[idx,hs:hs+sz,ws:ws+sz,0], cmap='gray')\n",
    "ax[2].imshow(stitched_pred[idx,hs:hs+sz,ws:ws+sz,1], cmap='gray')\n",
    "ax[3].imshow(data[idx,hs:hs+sz,ws:ws+sz,0], cmap='gray')\n",
    "ax[4].imshow(data[idx,hs:hs+sz,ws:ws+sz,1], cmap='gray')\n",
    "\n",
    "ax[0].set_title('Input')\n",
    "ax[1].set_title('Prediction Ch1')\n",
    "ax[2].set_title('Prediction Ch2')\n",
    "ax[3].set_title('Target Ch1')\n",
    "ax[4].set_title('Target Ch2')\n",
    "\n",
    "# psnr\n",
    "psnr1 = avg_range_inv_psnr(data[idx:idx+1,...,0], stitched_pred[idx:idx+1,...,0])[0]\n",
    "psnr2 = avg_range_inv_psnr(data[idx:idx+1,...,1], stitched_pred[idx:idx+1,...,1])[0]\n",
    "add_text(ax[1], f'PSNR: {psnr1:.2f}', (sz,sz), alpha=0.6)\n",
    "add_text(ax[2], f'PSNR: {psnr2:.2f}', (sz,sz), alpha=0.6)\n",
    "\n",
    "clean_ax(ax)\n",
    "# reduce size between the subplots\n",
    "\n",
    "task_token = '/'.join(ckpt_dir.split('/')[-3:])\n",
    "plt.subplots_adjust(wspace=0.03, hspace=0.03)\n",
    "fname = f\"SimilarityExp-{task_token.replace('/','_')}-Idx{idx}.png\"\n",
    "fpath = os.path.join(output_data_dir, fname)\n",
    "print(fpath)\n",
    "if save_to_file:\n",
    "    plt.savefig(fpath, dpi=150, bbox_inches='tight')\n",
    "\n"
   ]
  },
  {
   "cell_type": "code",
   "execution_count": null,
   "id": "d37ddd9e",
   "metadata": {},
   "outputs": [],
   "source": [
    "psnr1"
   ]
  },
  {
   "cell_type": "code",
   "execution_count": null,
   "id": "588df275",
   "metadata": {},
   "outputs": [],
   "source": []
  },
  {
   "cell_type": "code",
   "execution_count": null,
   "id": "fa8b05b3",
   "metadata": {},
   "outputs": [],
   "source": [
    "from disentangle.scripts.evaluate import compute_high_snr_stats\n",
    "print('Test MMSE-Count', mmse_count, task_token)\n",
    "_ = compute_high_snr_stats(data, stitched_pred)"
   ]
  },
  {
   "cell_type": "code",
   "execution_count": null,
   "id": "6d9402bc",
   "metadata": {},
   "outputs": [],
   "source": []
  }
 ],
 "metadata": {
  "kernelspec": {
   "display_name": "usplit",
   "language": "python",
   "name": "python3"
  },
  "language_info": {
   "codemirror_mode": {
    "name": "ipython",
    "version": 3
   },
   "file_extension": ".py",
   "mimetype": "text/x-python",
   "name": "python",
   "nbconvert_exporter": "python",
   "pygments_lexer": "ipython3",
   "version": "3.9.19"
  },
  "vscode": {
   "interpreter": {
    "hash": "e959a19f8af3b4149ff22eb57702a46c14a8caae5a2647a6be0b1f60abdfa4c2"
   }
  }
 },
 "nbformat": 4,
 "nbformat_minor": 5
}
