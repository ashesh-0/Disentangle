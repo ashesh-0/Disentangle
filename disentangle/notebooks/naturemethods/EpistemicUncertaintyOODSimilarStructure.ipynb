{
 "cells": [
  {
   "cell_type": "code",
   "execution_count": null,
   "id": "19844352",
   "metadata": {},
   "outputs": [],
   "source": [
    "from IPython.display import display, HTML\n",
    "import os\n",
    "display(HTML(\"<style>.container { width:100% !important; }</style>\"))"
   ]
  },
  {
   "cell_type": "code",
   "execution_count": null,
   "id": "27ec4422",
   "metadata": {},
   "outputs": [],
   "source": [
    "%run ../nb_core/root_dirs.ipynb\n",
    "setup_syspath_disentangle(False)\n",
    "%run ../nb_core/disentangle_imports.ipynb"
   ]
  },
  {
   "cell_type": "code",
   "execution_count": null,
   "id": "5a9748a9",
   "metadata": {},
   "outputs": [],
   "source": [
    "ckpt_dir = \"/group/jug/ashesh/training/disentangle/2406/D25-M3-S0-L8/10\"\n",
    "assert os.path.exists(ckpt_dir)"
   ]
  },
  {
   "cell_type": "code",
   "execution_count": null,
   "id": "c383d367",
   "metadata": {},
   "outputs": [],
   "source": [
    "def get_dtype(ckpt_fpath):\n",
    "    if os.path.isdir(ckpt_fpath):\n",
    "        ckpt_fpath = ckpt_fpath[:-1] if ckpt_fpath[-1] == '/' else ckpt_fpath\n",
    "    elif os.path.isfile(ckpt_fpath):\n",
    "        ckpt_fpath = os.path.dirname(ckpt_fpath)\n",
    "    assert ckpt_fpath[-1] != '/'\n",
    "    return int(ckpt_fpath.split('/')[-2].split('-')[0][1:])"
   ]
  },
  {
   "cell_type": "code",
   "execution_count": null,
   "id": "d7232e05",
   "metadata": {},
   "outputs": [],
   "source": [
    "dtype = get_dtype(ckpt_dir)\n",
    "dtype"
   ]
  },
  {
   "cell_type": "code",
   "execution_count": null,
   "id": "0b237569",
   "metadata": {
    "slideshow": {
     "slide_type": "skip"
    }
   },
   "outputs": [],
   "source": [
    "from disentangle.data_loader.patch_index_manager import TilingMode\n",
    "\n",
    "image_size_for_grid_centers = 32\n",
    "mmse_count = 10\n",
    "custom_image_size = None\n",
    "data_t_list = None # [0]\n",
    "tiling_mode = TilingMode.ShiftBoundary\n",
    "\n",
    "save_comparative_plots =False\n",
    "enable_calibration = False\n",
    "batch_size = 16\n",
    "num_workers = 4\n",
    "COMPUTE_LOSS = False\n",
    "use_deterministic_grid = None\n",
    "threshold = None # 0.02\n",
    "compute_kl_loss = False\n",
    "evaluate_train = False# inspect training performance\n",
    "eval_datasplit_type = DataSplitType.Test \n",
    "val_repeat_factor = None\n",
    "psnr_type = 'range_invariant' #'simple', 'range_invariant'"
   ]
  },
  {
   "cell_type": "code",
   "execution_count": null,
   "id": "f889dd2d",
   "metadata": {},
   "outputs": [],
   "source": [
    "%run ../nb_core/config_loader.ipynb"
   ]
  },
  {
   "cell_type": "code",
   "execution_count": null,
   "id": "2a0047fe",
   "metadata": {},
   "outputs": [],
   "source": [
    "tokens = ckpt_dir.split('/')\n",
    "idx = tokens.index('disentangle')\n",
    "if config.model.model_type == 25 and tokens[idx+1] == '2312':\n",
    "    config.model.model_type = ModelType.LadderVAERestrictedReconstruction"
   ]
  },
  {
   "cell_type": "code",
   "execution_count": null,
   "id": "bc8a3fed",
   "metadata": {},
   "outputs": [],
   "source": [
    "from disentangle.core.sampler_type import SamplerType\n",
    "from disentangle.core.loss_type import LossType\n",
    "from disentangle.data_loader.ht_iba1_ki67_rawdata_loader import SubDsetType\n",
    "# from disentangle.core.lowres_merge_type import LowresMergeType\n",
    "\n",
    "\n",
    "with config.unlocked():\n",
    "    if 'depth3D' in config.data and config.data.depth3D > 1:\n",
    "        config.data.mode_3D = True\n",
    "        config.model.mode_3D = True\n",
    "        \n",
    "    config.model.skip_nboundary_pixels_from_loss = None\n",
    "    if config.model.model_type == ModelType.UNet and 'n_levels' not in config.model:\n",
    "        config.model.n_levels = 4\n",
    "    if config.data.sampler_type == SamplerType.NeighborSampler:\n",
    "        config.data.sampler_type = SamplerType.DefaultSampler\n",
    "        config.loss.loss_type = LossType.Elbo\n",
    "        config.data.grid_size = config.data.image_size\n",
    "    if 'ch1_fpath_list' in config.data:\n",
    "        config.data.ch1_fpath_list = config.data.ch1_fpath_list[:1]\n",
    "        config.data.mix_fpath_list = config.data.mix_fpath_list[:1]\n",
    "    if config.data.data_type == DataType.Pavia2VanillaSplitting:\n",
    "        if 'channel_2_downscale_factor' not in config.data:\n",
    "            config.data.channel_2_downscale_factor = 1\n",
    "    if config.model.model_type == ModelType.UNet and 'init_channel_count' not in config.model:\n",
    "        config.model.init_channel_count = 64\n",
    "    \n",
    "    if 'skip_receptive_field_loss_tokens' not in config.loss:\n",
    "        config.loss.skip_receptive_field_loss_tokens = []\n",
    "    \n",
    "    if dtype == DataType.HTIba1Ki67:\n",
    "        config.data.subdset_type = SubDsetType.OnlyIba1P30\n",
    "        config.data.empty_patch_replacement_enabled = False\n",
    "    \n",
    "    if 'lowres_merge_type' not in config.model.encoder:\n",
    "        config.model.encoder.lowres_merge_type = 0\n",
    "    if 'validtarget_random_fraction' in config.data:\n",
    "        config.data.validtarget_random_fraction = None\n",
    "    \n",
    "    if config.data.data_type == DataType.TwoDset:\n",
    "        config.model.model_type = ModelType.LadderVae\n",
    "        for key in config.data.dset1:\n",
    "            config.data[key] = config.data.dset1[key]\n",
    "    \n",
    "    if 'dump_kth_frame_prediction' in config.training:\n",
    "        config.training.dump_kth_frame_prediction = None\n",
    "\n",
    "    if 'input_is_sum' not in config.data:\n",
    "        config.data.input_is_sum = False"
   ]
  },
  {
   "cell_type": "code",
   "execution_count": null,
   "id": "7ef646b2",
   "metadata": {},
   "outputs": [],
   "source": [
    "dtype = config.data.data_type\n",
    "\n",
    "if dtype in [DataType.CustomSinosoid, DataType.CustomSinosoidThreeCurve]:\n",
    "    data_dir = f'{DATA_ROOT}/sinosoid_without_test/sinosoid/'\n",
    "elif dtype == DataType.OptiMEM100_014:\n",
    "    data_dir = f'{DATA_ROOT}/microscopy/'\n",
    "elif dtype == DataType.Prevedel_EMBL:\n",
    "    data_dir = f'{DATA_ROOT}/Prevedel_EMBL/PKG_3P_dualcolor_stacks/NoAverage_NoRegistration/'\n",
    "elif dtype == DataType.AllenCellMito:\n",
    "    data_dir = f'{DATA_ROOT}/allencell/2017_03_08_Struct_First_Pass_Seg/AICS-11/'\n",
    "elif dtype == DataType.SeparateTiffData:\n",
    "    data_dir = f'{DATA_ROOT}/ventura_gigascience'\n",
    "elif dtype == DataType.SemiSupBloodVesselsEMBL:\n",
    "    data_dir = f'{DATA_ROOT}/EMBL_halfsupervised/Demixing_3P'\n",
    "elif dtype == DataType.Pavia2VanillaSplitting:\n",
    "    data_dir = f'{DATA_ROOT}/pavia2'\n",
    "# elif dtype == DataType.ExpansionMicroscopyMitoTub:\n",
    "    # data_dir = f'{DATA_ROOT}/expansion_microscopy_Nick/'\n",
    "elif dtype == DataType.ShroffMitoEr:\n",
    "    data_dir = f'{DATA_ROOT}/shrofflab/'\n",
    "elif dtype == DataType.HTIba1Ki67:\n",
    "    data_dir = f'{DATA_ROOT}/Stefania/20230327_Ki67_and_Iba1_trainingdata/'\n",
    "elif dtype == DataType.BioSR_MRC:\n",
    "    data_dir = f'{DATA_ROOT}/BioSR/'\n",
    "elif dtype == DataType.ExpMicroscopyV2:\n",
    "    data_dir = f'{DATA_ROOT}/expansion_microscopy_v2/datafiles/'\n",
    "elif dtype == DataType.TavernaSox2GolgiV2:\n",
    "    data_dir = f'{DATA_ROOT}/TavernaSox2Golgi/acquisition2/'\n",
    "elif dtype == DataType.Pavia3SeqData:\n",
    "    data_dir = f'{DATA_ROOT}/pavia3_sequential/'\n",
    "elif dtype == DataType.NicolaData:\n",
    "    data_dir = f'{DATA_ROOT}/nikola_data/20240531/'\n",
    "elif dtype == DataType.Dao3ChannelWithInput:\n",
    "    data_dir = f'{DATA_ROOT}/Dao4Channel/'\n",
    "elif dtype == DataType.Dao3Channel:\n",
    "    data_dir = f'{DATA_ROOT}/Dao3Channel/'\n",
    "elif dtype == DataType.SilvioLabCSHLData:\n",
    "    data_dir = f'{DATA_ROOT}/svilen_cshl2024/'\n",
    "elif dtype == DataType.ExpMicroscopyV3:\n",
    "    data_dir = f'{DATA_ROOT}/expansion_microscopy_v4/405_NHS_488BODIPY/'\n",
    "elif dtype == DataType.Elisa3DData:\n",
    "    data_dir = f'{DATA_ROOT}/Elisa3D/'"
   ]
  },
  {
   "cell_type": "code",
   "execution_count": null,
   "id": "bed7f400",
   "metadata": {},
   "outputs": [],
   "source": [
    "# config.model.noise_model_ch1_fpath = config.model.noise_model_ch1_fpath.replace('/home/ashesh.ashesh/training/', '/group/jug/ashesh/training_pre_eccv/')\n",
    "# config.model.noise_model_ch2_fpath = config.model.noise_model_ch2_fpath.replace('/home/ashesh.ashesh/training/', '/group/jug/ashesh/training_pre_eccv/')"
   ]
  },
  {
   "cell_type": "code",
   "execution_count": null,
   "id": "edde2155",
   "metadata": {},
   "outputs": [],
   "source": [
    "%run ../nb_core/disentangle_setup.ipynb"
   ]
  },
  {
   "cell_type": "code",
   "execution_count": null,
   "id": "ab7b0b16",
   "metadata": {},
   "outputs": [],
   "source": []
  },
  {
   "cell_type": "code",
   "execution_count": null,
   "id": "4bd3c6f7",
   "metadata": {},
   "outputs": [],
   "source": [
    "from disentangle.data_loader.nikola_7D_rawdata_loader import NikolaChannelList\n",
    "import copy\n",
    "config_other = copy.deepcopy(config)\n",
    "with config_other.unlocked():\n",
    "    config_other.data.channel_idx_list = [NikolaChannelList.Ch_D, NikolaChannelList.Ch_B, NikolaChannelList.Ch_BD]\n",
    "\n",
    "_, val_dset_BT = create_dataset(config_other, data_dir, eval_datasplit_type=eval_datasplit_type,\n",
    "                                      kwargs_dict=dloader_kwargs)"
   ]
  },
  {
   "cell_type": "code",
   "execution_count": null,
   "id": "83fc6d6b",
   "metadata": {},
   "outputs": [],
   "source": [
    "_,ax = plt.subplots(figsize=(6,3),ncols=2)\n",
    "ax[0].imshow(val_dset._data[0,:400,:400,2])\n",
    "ax[1].imshow(val_dset_BT._data[0,:400,:400,2])"
   ]
  },
  {
   "cell_type": "code",
   "execution_count": null,
   "id": "60d5fc4a",
   "metadata": {},
   "outputs": [],
   "source": [
    "if config.data.multiscale_lowres_count is not None and custom_image_size is not None:\n",
    "    model.reset_for_different_output_size(custom_image_size)"
   ]
  },
  {
   "cell_type": "code",
   "execution_count": null,
   "id": "eece008c",
   "metadata": {},
   "outputs": [],
   "source": [
    "if data_t_list is not None:\n",
    "    val_dset.reduce_data(t_list=data_t_list)\n",
    "    val_dset_BT.reduce_data(t_list=data_t_list)"
   ]
  },
  {
   "cell_type": "code",
   "execution_count": null,
   "id": "f1aeaf5a",
   "metadata": {},
   "outputs": [],
   "source": [
    "from disentangle.nets.epistemic_uncertainty import enable_epistemic_uncertainty_computation_mode\n",
    "test_input = torch.Tensor(val_dset[0][0][None]).cuda()\n",
    "enable_epistemic_uncertainty_computation_mode(model, inp=test_input)"
   ]
  },
  {
   "cell_type": "markdown",
   "id": "3be67487",
   "metadata": {},
   "source": [
    "## Bleedthrough Dataset"
   ]
  },
  {
   "cell_type": "code",
   "execution_count": null,
   "id": "913845ff",
   "metadata": {},
   "outputs": [],
   "source": [
    "class BleedthroughDataset:\n",
    "    def __init__(self, primary_dset, bleedthrough_dset, bleedthrough_weight):\n",
    "        self.primar_dset = primary_dset\n",
    "        self.bleedthrough_dset = bleedthrough_dset\n",
    "        self.w = bleedthrough_weight\n",
    "        assert len(primary_dset) == len(bleedthrough_dset)\n",
    "    \n",
    "    def __len__(self):\n",
    "        return len(self.primar_dset)\n",
    "    \n",
    "    def __getitem__(self, idx):\n",
    "        inp, tar = self.primar_dset[idx]\n",
    "        inp_BT, _ = self.bleedthrough_dset[idx]\n",
    "\n",
    "        inp = inp * (1-self.w) + inp_BT * self.w\n",
    "        return inp, tar"
   ]
  },
  {
   "cell_type": "code",
   "execution_count": null,
   "id": "cac092b5",
   "metadata": {},
   "outputs": [],
   "source": [
    "from disentangle.analysis.stitch_prediction import stitch_predictions\n",
    "from disentangle.analysis.mmse_prediction import get_dset_predictions\n",
    "# from disentangle.analysis.stitch_prediction import get_predictions as get_dset_predictions\n",
    "std_dict = {}\n",
    "\n",
    "for bt_weight in [0, 0.2, 0.5, 0.9]:\n",
    "    dset_bt = BleedthroughDataset(val_dset, val_dset_BT, bt_weight)\n",
    "    pred_tiled, rec_loss, logvar_tiled, patch_psnr_tuple, pred_std_tiled = get_dset_predictions(model, \n",
    "                                                    dset_bt, batch_size,\n",
    "                                                num_workers=num_workers,\n",
    "                                                mmse_count=mmse_count,\n",
    "                                                model_type = config.model.model_type,\n",
    "                                                )\n",
    "    tmp = np.round([x.item() for x in patch_psnr_tuple],2)\n",
    "    print('Patch wise PSNR, as computed during training', tmp,np.mean(tmp))\n",
    "    std_dict[bt_weight] = pred_std_tiled"
   ]
  },
  {
   "cell_type": "code",
   "execution_count": null,
   "id": "2596adb1",
   "metadata": {},
   "outputs": [],
   "source": [
    "for key in std_dict.keys():\n",
    "    std_dict[key] = stitch_predictions(std_dict[key],val_dset)"
   ]
  },
  {
   "cell_type": "code",
   "execution_count": null,
   "id": "e70eea4a",
   "metadata": {},
   "outputs": [],
   "source": [
    "# for key in std_dict.keys():\n",
    "#     std_dict[key] = std_dict[key][...,:2]"
   ]
  },
  {
   "cell_type": "code",
   "execution_count": null,
   "id": "68441480",
   "metadata": {},
   "outputs": [],
   "source": [
    "import seaborn as sns\n",
    "save_to_file = True\n",
    "\n",
    "_,ax = plt.subplots(figsize=(9,4),ncols=2)\n",
    "for ch_idx in [0,1]:\n",
    "    for bt_weight in [0, 0.2, 0.5, 0.9]:\n",
    "        std = std_dict[bt_weight][...,ch_idx]\n",
    "        sns.kdeplot(std[:,::4,::4].reshape(-1,), log_scale=True, label=f'BT weight={bt_weight}', ax=ax[ch_idx])\n",
    "\n",
    "# enable legend in ax[0]\n",
    "ax[0].legend()\n",
    "ax[1].legend()\n",
    "\n",
    "if save_to_file:\n",
    "    new_data = '.' .join(map(str, config_other.data.channel_idx_list))\n",
    "    model_id = '_'.join(ckpt_dir.strip('/').split('/')[-3:])\n",
    "    plot_fpath = os.path.join('/group/jug/ashesh/naturemethods/epistemic_uncertainty', f'OOD_similar_structure_newdata{new_data}_kdeplot_{model_id}.png')\n",
    "    print(plot_fpath)\n",
    "    plt.savefig(plot_fpath, dpi=200)\n"
   ]
  },
  {
   "cell_type": "code",
   "execution_count": null,
   "id": "3ab8de66",
   "metadata": {},
   "outputs": [],
   "source": [
    "from disentangle.analysis.plot_utils import clean_ax\n",
    "save_to_file = True\n",
    "\n",
    "keys = list(std_dict.keys())\n",
    "_,ax = plt.subplots(figsize=(3*len(keys),3*2),ncols=len(keys),nrows=2)\n",
    "for ch_idx in [0,1]:\n",
    "    vmin = 10000 \n",
    "    vmax = 0 \n",
    "    for key in std_dict.keys():\n",
    "        vmin = min(vmin, std_dict[key][...,ch_idx].min())\n",
    "        vmax = max(vmax, std_dict[key][...,ch_idx].max())\n",
    "    \n",
    "    for i,key in enumerate(keys):\n",
    "        ax[ch_idx,i].imshow(std_dict[key][0,...,ch_idx],vmin=vmin,vmax=vmax)\n",
    "        if ch_idx == 0:\n",
    "            ax[ch_idx,i].set_title(f'BT weight={key}')\n",
    "        \n",
    "\n",
    "clean_ax(ax)\n",
    "# plt.tight_layout()\n",
    "# reduce the space between the plots\n",
    "plt.subplots_adjust(wspace=0.03, hspace=0.03)\n",
    "\n",
    "if save_to_file:\n",
    "    new_data = '.' .join(map(str, config_other.data.channel_idx_list))\n",
    "    model_id = '_'.join(ckpt_dir.strip('/').split('/')[-3:])\n",
    "    plot_fpath = os.path.join('/group/jug/ashesh/naturemethods/epistemic_uncertainty', f'OOD_similar_structure_newdata{new_data}_uncertainty_{model_id}.png')\n",
    "    print(plot_fpath)\n",
    "    plt.savefig(plot_fpath, dpi=200)\n"
   ]
  },
  {
   "cell_type": "code",
   "execution_count": null,
   "id": "fdd3b385",
   "metadata": {},
   "outputs": [],
   "source": [
    "from disentangle.analysis.plot_utils import clean_ax, add_subplot_axes\n",
    "\n",
    "inset_min_labelsize=10\n",
    "\n",
    "def add_inset(ax_, img_crop, inset_rect, vmin=None, vmax=None):\n",
    "    inset_ax = add_subplot_axes(ax_, inset_rect, min_labelsize=inset_min_labelsize)\n",
    "    inset_ax.imshow(img_crop, vmin=vmin, vmax=vmax)\n",
    "    for spine in inset_ax.spines.values():\n",
    "            spine.set_edgecolor('white')\n",
    "    clean_ax(inset_ax)\n",
    "\n"
   ]
  },
  {
   "cell_type": "code",
   "execution_count": null,
   "id": "ad4ba6f3",
   "metadata": {},
   "outputs": [],
   "source": [
    "import matplotlib.patches as patches\n",
    "_,ax = plt.subplots(figsize=(3*len(keys),3),ncols=len(keys),nrows=1)\n",
    "# vmin = 10000\n",
    "# vmax = 0\n",
    "# for i,w in enumerate(keys):\n",
    "#     inp_bt = val_dset_BT._data[...,-1]*w + val_dset._data[...,-1]*(1-w)\n",
    "#     vmin = min(vmin, inp_bt.min())\n",
    "#     vmax = max(vmax, inp_bt.max())\n",
    "h = 1250\n",
    "w = 500\n",
    "sz = 300\n",
    "inset_rect=[0.6,0.55,0.5,0.5]\n",
    "rect_offset = 0.04\n",
    "\n",
    "for i,weight in enumerate(keys):\n",
    "    inp_bt = val_dset_BT._data[...,-1]*weight + val_dset._data[...,-1]*(1-weight)\n",
    "    # ax[i].imshow(inp_bt[0,:300,:300])\n",
    "    ax[i].imshow(inp_bt[0])\n",
    "    # draw a white rectangle\n",
    "    rect = patches.Rectangle((w,h),sz,sz,linewidth=1,edgecolor='w',facecolor='none')\n",
    "    ax[i].add_patch(rect)\n",
    "    new_offset = [inset_rect[0]-i*rect_offset, inset_rect[1], inset_rect[2], inset_rect[3]]\n",
    "    add_inset(ax[i], inp_bt[0,h:h+sz,w:w+sz], new_offset)\n",
    "\n",
    "clean_ax(ax)\n",
    "plt.subplots_adjust(wspace=0.03, hspace=0.03)\n",
    "if save_to_file:\n",
    "    new_data = '.' .join(map(str, config_other.data.channel_idx_list))\n",
    "    model_id = '_'.join(ckpt_dir.strip('/').split('/')[-3:])\n",
    "    plot_fpath = os.path.join('/group/jug/ashesh/naturemethods/epistemic_uncertainty', f'OOD_similar_structure_newdata{new_data}_input_{model_id}.png')\n",
    "    print(plot_fpath)\n",
    "    plt.savefig(plot_fpath, dpi=200)\n"
   ]
  },
  {
   "cell_type": "code",
   "execution_count": null,
   "id": "9c2219da",
   "metadata": {},
   "outputs": [],
   "source": []
  }
 ],
 "metadata": {
  "kernelspec": {
   "display_name": "usplit",
   "language": "python",
   "name": "python3"
  },
  "language_info": {
   "codemirror_mode": {
    "name": "ipython",
    "version": 3
   },
   "file_extension": ".py",
   "mimetype": "text/x-python",
   "name": "python",
   "nbconvert_exporter": "python",
   "pygments_lexer": "ipython3",
   "version": "3.9.19"
  },
  "vscode": {
   "interpreter": {
    "hash": "e959a19f8af3b4149ff22eb57702a46c14a8caae5a2647a6be0b1f60abdfa4c2"
   }
  }
 },
 "nbformat": 4,
 "nbformat_minor": 5
}
