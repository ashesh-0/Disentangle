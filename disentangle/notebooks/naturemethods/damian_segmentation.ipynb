{
 "cells": [
  {
   "cell_type": "code",
   "execution_count": null,
   "metadata": {},
   "outputs": [],
   "source": [
    "keys = [\n",
    " '2404/D19-M3-S0-L8/5'\n",
    "# '2404/D21-M3-S0-L8/6',\n",
    "# '2404/D25-M3-S0-L8/111',\n",
    "# '2404/D25-M3-S0-L8/97',\n",
    "# '2404/D25-M3-S0-L8/120',\n",
    "# '2404/D25-M3-S0-L8/125',\n",
    "# '2404/D25-M3-S0-L8/139',\n",
    "# '2404/D25-M3-S0-L8/143',\n",
    "# '2405/D18-M3-S0-L8/13',\n",
    "# '2405/D18-M3-S0-L8/14',\n",
    "# '2405/D18-M3-S0-L8/15',\n",
    "# '2405/D18-M3-S0-L8/10',\n",
    "# '2405/D18-M3-S0-L8/11',\n",
    "# '2405/D18-M3-S0-L8/12',\n",
    "]\n",
    "\n",
    "gt_dir_root = '/group/jug/ashesh/kth_data'\n",
    "pred_dir = '/group/jug/ashesh/data/paper_stats/Test_P64_G32_M50_Sk16_F'\n",
    "output_dir = '/group/jug/ashesh/ForDamianSegmentation/'\n"
   ]
  },
  {
   "cell_type": "code",
   "execution_count": null,
   "metadata": {},
   "outputs": [],
   "source": [
    "import os\n",
    "from disentangle.core.tiff_reader import load_tiff\n",
    "import numpy as np\n",
    "import tifffile\n",
    "\n",
    "def save_tiff(fpath, data):\n",
    "    tifffile.imwrite(fpath, data.transpose(0,3,1,2),\n",
    "    imagej=True, \n",
    "    metadata={ 'axes': 'ZCYX'}, \n",
    "    )\n",
    "\n",
    "def get_dtype_subdir(key):\n",
    "    return key.strip('/').split('/')[1].split('-')[0]\n",
    "\n",
    "def pred_subfpath(key, k):\n",
    "    # input: '2404/D21-M3-S0-L8/6'\n",
    "    # output: pred_disentangle_2404_D21-M3-S0-L8_6_1.tif\n",
    "    return f\"kth_{k}/pred_disentangle_{key.replace('/', '_')}_1.tif\"\n",
    "\n",
    "def gt_subfpath(key, k):\n",
    "    path = pred_subfpath(key, k).replace(f'kth_{k}/', f'kth{k}/gt_for_') \n",
    "    return os.path.join(get_dtype_subdir(key), path)\n",
    "\n",
    "\n",
    "\n",
    "def get_agg_data(key):\n",
    "    gt_data_list= []\n",
    "    pred_data_list = []\n",
    "\n",
    "    for kth in [0,1,2,3,4]:\n",
    "        gt_fpath = os.path.join(gt_dir_root, gt_subfpath(key, kth))\n",
    "        pred_fpath = os.path.join(pred_dir, pred_subfpath(key, kth))\n",
    "        gt_data = load_tiff(gt_fpath)\n",
    "        pred_data = load_tiff(pred_fpath)\n",
    "        if gt_data.shape[0] > 10:\n",
    "            assert len(gt_data.shape)  <= 3\n",
    "            gt_data = gt_data[None]\n",
    "        \n",
    "        if pred_data.shape[0] > 10:\n",
    "            assert len(pred_data.shape)  <= 3\n",
    "            pred_data = pred_data[None]\n",
    "\n",
    "        gt_data_list.append(gt_data)\n",
    "        pred_data_list.append(pred_data)\n",
    "\n",
    "    return np.concatenate(gt_data_list, axis=0), np.concatenate(pred_data_list, axis=0)\n"
   ]
  },
  {
   "cell_type": "code",
   "execution_count": null,
   "metadata": {},
   "outputs": [],
   "source": [
    "import matplotlib.pyplot as plt\n",
    "key = keys[0]\n",
    "gt, pred = get_agg_data(key)\n",
    "_,ax = plt.subplots(figsize=(15,10),ncols=3,nrows=2)\n",
    "ax[0,1].imshow(gt[0,...,0])\n",
    "ax[0,2].imshow(gt[0,...,1])\n",
    "\n",
    "ax[1,1].imshow(pred[0,...,0])\n",
    "ax[1,2].imshow(pred[0,...,1])\n",
    "try:\n",
    "    ax[0,0].imshow(gt[0,...,2])\n",
    "except:\n",
    "    print(\"No input channel\")\n"
   ]
  },
  {
   "cell_type": "markdown",
   "metadata": {},
   "source": [
    "### Saving it to output"
   ]
  },
  {
   "cell_type": "code",
   "execution_count": null,
   "metadata": {},
   "outputs": [],
   "source": [
    "from tqdm import tqdm\n",
    "for key in tqdm(keys):\n",
    "    gt, pred = get_agg_data(key)\n",
    "    output_subdir = os.path.join(output_dir,key.replace('/','_'))\n",
    "    os.makedirs(output_subdir, exist_ok=True)\n",
    "    output_gt_fpath = os.path.join(output_subdir, 'GT.tif')\n",
    "    output_pred_fpath = os.path.join(output_subdir, os.path.basename(pred_subfpath(key, 0)))\n",
    "    save_tiff(output_gt_fpath, gt)\n",
    "    save_tiff(output_pred_fpath, pred.astype(np.float32))\n",
    "    print(f\"Saved to {output_subdir}\")"
   ]
  },
  {
   "cell_type": "code",
   "execution_count": null,
   "metadata": {},
   "outputs": [],
   "source": [
    "! ls /group/jug/ashesh/ForDamianSegmentation/"
   ]
  },
  {
   "cell_type": "code",
   "execution_count": null,
   "metadata": {},
   "outputs": [],
   "source": []
  }
 ],
 "metadata": {
  "kernelspec": {
   "display_name": "Python 3",
   "language": "python",
   "name": "python3"
  },
  "language_info": {
   "codemirror_mode": {
    "name": "ipython",
    "version": 3
   },
   "file_extension": ".py",
   "mimetype": "text/x-python",
   "name": "python",
   "nbconvert_exporter": "python",
   "pygments_lexer": "ipython3",
   "version": "3.9.19"
  }
 },
 "nbformat": 4,
 "nbformat_minor": 2
}
