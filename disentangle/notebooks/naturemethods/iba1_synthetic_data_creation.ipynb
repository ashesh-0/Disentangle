{
 "cells": [
  {
   "cell_type": "code",
   "execution_count": null,
   "metadata": {},
   "outputs": [],
   "source": [
    "segmentation_path = '/group/jug/ashesh/data/Stefania/20230327_Ki67_and_Iba1_trainingdata/Iba1/label_iba1_nucleus.tif'\n",
    "image_path = '/group/jug/ashesh/data/Stefania/20230327_Ki67_and_Iba1_trainingdata/Iba1/iba1_nucleus.tif'\n",
    "test_idx = 1 # obtained from looking into the train_val_data"
   ]
  },
  {
   "cell_type": "code",
   "execution_count": null,
   "metadata": {},
   "outputs": [],
   "source": [
    "from ml_collections.config_dict import ConfigDict\n",
    "from disentangle.core.data_split_type import DataSplitType\n",
    "from disentangle.data_loader.ht_iba1_ki67_rawdata_loader import SubDsetType, get_train_val_data\n",
    "\n",
    "data_config = ConfigDict()\n",
    "data_config.subdset_type = SubDsetType.OnlyIba1\n",
    "datadir = '/group/jug/ashesh/data/Stefania/20230327_Ki67_and_Iba1_trainingdata/'\n",
    "data = get_train_val_data(datadir, data_config, DataSplitType.All, val_fraction=0.1, test_fraction=0.1)\n"
   ]
  },
  {
   "cell_type": "code",
   "execution_count": null,
   "metadata": {},
   "outputs": [],
   "source": [
    "from disentangle.core.tiff_reader import load_tiff\n",
    "data_v2 = load_tiff(image_path)\n",
    "seg_v2 = load_tiff(segmentation_path)"
   ]
  },
  {
   "cell_type": "code",
   "execution_count": null,
   "metadata": {},
   "outputs": [],
   "source": [
    "seg_v2.shape"
   ]
  },
  {
   "cell_type": "markdown",
   "metadata": {},
   "source": [
    "## Dilation operation"
   ]
  },
  {
   "cell_type": "code",
   "execution_count": null,
   "metadata": {},
   "outputs": [],
   "source": [
    "import matplotlib.pyplot as plt\n",
    "from scipy.ndimage import binary_dilation\n",
    "import numpy as np\n",
    "   \n",
    "def gkern(l=5, sig=1.):\n",
    "    \"\"\"\\\n",
    "    creates gaussian kernel with side length `l` and a sigma of `sig`\n",
    "    \"\"\"\n",
    "    ax = np.linspace(-(l - 1) / 2., (l - 1) / 2., l)\n",
    "    gauss = np.exp(-0.5 * np.square(ax) / np.square(sig))\n",
    "    kernel = np.outer(gauss, gauss)\n",
    "    return kernel / np.sum(kernel)\n",
    "\n",
    "import numpy as np\n",
    "import cv2\n",
    "\n",
    "def dilate_instance_segmentation(mask, kernel):\n",
    "    \"\"\"\n",
    "    Dilate an instance segmentation mask.\n",
    "    \n",
    "    Parameters:\n",
    "    - mask: numpy array of shape (H, W), where each unique value represents a different instance.\n",
    "    - kernel: numpy array for the dilation operation (e.g., cv2.getStructuringElement).\n",
    "\n",
    "    Returns:\n",
    "    - dilated_mask: numpy array of shape (H, W), with the same unique values dilated.\n",
    "    \"\"\"\n",
    "    # Initialize the dilated mask with zeros\n",
    "    dilated_mask = np.zeros_like(mask)\n",
    "    \n",
    "    # Get unique instance IDs in the mask (excluding background, assumed to be 0)\n",
    "    unique_instances = np.unique(mask)\n",
    "    if unique_instances[0] == 0:\n",
    "        unique_instances = unique_instances[1:]  # remove background if present\n",
    "\n",
    "    # Process each instance separately\n",
    "    for instance_id in unique_instances:\n",
    "        # Create a boolean mask for the current instance\n",
    "        instance_mask = (mask == instance_id).astype(np.uint8)\n",
    "        \n",
    "        # Dilate the current instance mask\n",
    "        dilated_instance = binary_dilation(instance_mask, structure=kernel)\n",
    "        \n",
    "        # Update the dilated mask with the dilated instance\n",
    "        dilated_mask[dilated_instance > 0] = instance_id\n",
    "\n",
    "    return dilated_mask\n",
    "\n",
    "\n",
    "img = seg_v2[0,:500,:500].copy()\n",
    "# plt.imshow()"
   ]
  },
  {
   "cell_type": "code",
   "execution_count": null,
   "metadata": {},
   "outputs": [],
   "source": [
    "kernel = gkern(l =20, sig=1 ) > 1e-4\n",
    "new_img = dilate_instance_segmentation(img, kernel )\n",
    "_,ax = plt.subplots(1,3, figsize=(15,5))\n",
    "ax[0].imshow(img[30:100,120:200])\n",
    "ax[1].imshow(new_img[30:100,120:200])\n",
    "ax[2].imshow(new_img[30:100,120:200] - img[30:100,120:200])"
   ]
  },
  {
   "cell_type": "code",
   "execution_count": null,
   "metadata": {},
   "outputs": [],
   "source": [
    "data_v2.shape"
   ]
  },
  {
   "cell_type": "code",
   "execution_count": null,
   "metadata": {},
   "outputs": [],
   "source": [
    "fnames = ['Iba1only_1.czi',\n",
    "'Iba1only_11.czi',\n",
    "'Iba1only_13.czi',\n",
    "'Iba1only_15.czi',\n",
    "'Iba1only_3.czi',\n",
    "'Iba1only_5.czi',\n",
    "'Iba1only_7.czi',\n",
    "'Iba1only_9.czi',\n",
    "'Iba1only_10.czi',\n",
    "'Iba1only_12.czi',\n",
    "'Iba1only_14.czi',\n",
    "'Iba1only_2.czi',\n",
    "'Iba1only_4.czi',\n",
    "'Iba1only_6.czi',\n",
    "'Iba1only_8.czi']\n",
    "fnames_v2_order = sorted(fnames)\n",
    "print(fnames_v2_order)\n",
    "new_indices = [int(fname.replace('.czi','').split('_')[-1])-1 for fname in fnames_v2_order]\n",
    "a,b = zip(*sorted(zip(new_indices, range(len(new_indices))), key=lambda x: x[0]))\n",
    "data_v3 = data_v2[b,:,:]\n",
    "seg_v3 = seg_v2[b,:,:]"
   ]
  },
  {
   "cell_type": "code",
   "execution_count": null,
   "metadata": {},
   "outputs": [],
   "source": [
    "print(a,b)"
   ]
  },
  {
   "cell_type": "code",
   "execution_count": null,
   "metadata": {},
   "outputs": [],
   "source": [
    "import matplotlib.pyplot as plt\n",
    "_,ax = plt.subplots(figsize=(10,5),ncols=2)\n",
    "idx = 8\n",
    "ax[0].imshow(seg_v3[idx])\n",
    "ax[1].imshow(data[idx,...,0])"
   ]
  },
  {
   "cell_type": "code",
   "execution_count": null,
   "metadata": {},
   "outputs": [],
   "source": [
    "test_data = get_train_val_data(datadir, data_config, DataSplitType.Test, val_fraction=0.1, test_fraction=0.1)\n"
   ]
  },
  {
   "cell_type": "code",
   "execution_count": null,
   "metadata": {},
   "outputs": [],
   "source": [
    "test_img = test_data[0,...,0].copy()\n",
    "raw_seg_mask = seg_v3[1].copy()\n",
    "# seg_mask = dilate_instance_segmentation(raw_seg_mask, kernel)\n",
    "seg_mask = raw_seg_mask\n",
    "import matplotlib.pyplot as plt\n",
    "_,ax = plt.subplots(figsize=(15,5),ncols=3)\n",
    "ax[0].imshow(raw_seg_mask)\n",
    "ax[1].imshow(seg_mask)\n",
    "ax[2].imshow(test_img)"
   ]
  },
  {
   "cell_type": "code",
   "execution_count": null,
   "metadata": {},
   "outputs": [],
   "source": [
    "break here"
   ]
  },
  {
   "cell_type": "code",
   "execution_count": null,
   "metadata": {},
   "outputs": [],
   "source": [
    "import numpy as np\n",
    "empty_patches = [\n",
    "    (0,600,250,650),\n",
    "    (100,440,1600,2160),\n",
    "    (300,750,1900,2464),\n",
    "    (500,700,1000,1800)\n",
    "]\n",
    "for hs,he,ws,we in empty_patches:\n",
    "    assert np.unique(seg_mask[hs:he,ws:we]) == 0\n"
   ]
  },
  {
   "cell_type": "code",
   "execution_count": null,
   "metadata": {},
   "outputs": [],
   "source": [
    "instance_idx = np.unique(seg_mask)\n",
    "instance_idx = instance_idx[instance_idx!=0]\n",
    "print(len(instance_idx))\n",
    "print(instance_idx)"
   ]
  },
  {
   "cell_type": "code",
   "execution_count": null,
   "metadata": {},
   "outputs": [],
   "source": [
    "def get_empty_patch_coordinates(hN, wN):\n",
    "    patch_coord = None\n",
    "    for idx in np.random.permutation(np.arange(len(empty_patches))):\n",
    "        patch_coord = empty_patches[idx]\n",
    "        if patch_coord[1] - patch_coord[0] > hN and patch_coord[3] - patch_coord[2] > wN:\n",
    "            break\n",
    "    return patch_coord\n",
    "\n",
    "\n",
    "def replace_one_nuclues(instance_id, seg_mask, img, extra_margin=0):\n",
    "    one_ins = seg_mask==instance_id\n",
    "    x,y = np.where(one_ins)\n",
    "    hs, he, ws, we = x.min(), x.max(), y.min(), y.max()\n",
    "    if extra_margin:\n",
    "        hs = max(0, hs-extra_margin)\n",
    "        he = min(seg_mask.shape[0], he+extra_margin)\n",
    "        ws = max(0, ws-extra_margin)\n",
    "        we = min(seg_mask.shape[1], we+extra_margin)\n",
    "    hN = he-hs\n",
    "    wN = we-ws\n",
    "    patch_coord = get_empty_patch_coordinates(hN, wN)\n",
    "    empty_hs, empth_ws = np.random.randint(patch_coord[0], patch_coord[1]-hN), np.random.randint(patch_coord[2], patch_coord[3]-wN)\n",
    "    img[hs:he,ws:we] = img[empty_hs:empty_hs+hN, empth_ws:empth_ws+wN]\n",
    "    return (hs,he,ws,we)"
   ]
  },
  {
   "cell_type": "code",
   "execution_count": null,
   "metadata": {},
   "outputs": [],
   "source": [
    "test_img = test_data[0,...,0].copy()\n",
    "percent = 0.7\n",
    "extra_margin = 0\n",
    "removed_ids = np.random.choice(instance_idx, int(len(instance_idx)*percent), replace=False)\n",
    "for idx in removed_ids:\n",
    "    replace_one_nuclues(idx, seg_mask, test_img, extra_margin=extra_margin)\n",
    "\n",
    "_,ax = plt.subplots(figsize=(20,5),ncols=4)\n",
    "ax[0].imshow(test_img)\n",
    "ax[1].imshow(test_img[300:800,:500])\n",
    "ax[2].imshow(test_img[1000:1500,:500])\n",
    "ax[3].imshow(test_img[1000:1500,1300:1800])"
   ]
  },
  {
   "cell_type": "code",
   "execution_count": null,
   "metadata": {},
   "outputs": [],
   "source": [
    "break here"
   ]
  },
  {
   "cell_type": "code",
   "execution_count": null,
   "metadata": {},
   "outputs": [],
   "source": [
    "from disentangle.core.tiff_reader import save_tiff\n",
    "import os\n",
    "num_imgs = 10\n",
    "for img_idx in range(num_imgs):\n",
    "    test_img = test_data[0,...,0].copy()\n",
    "    percent = 0.7\n",
    "    extra_margin = 5\n",
    "    removed_ids = np.random.choice(instance_idx, int(len(instance_idx)*percent), replace=False)\n",
    "    for idx in removed_ids:\n",
    "        replace_one_nuclues(idx, seg_mask, test_img, extra_margin=extra_margin)\n",
    "    output_path = f'/group/jug/ashesh/data/Stefania/20230327_Ki67_and_Iba1_trainingdata/synthetic_test/percent{int(percent*100)}/iba1_nucleus_test_{img_idx}_margin{extra_margin}.tif'\n",
    "    os.makedirs(os.path.dirname(output_path), exist_ok=True)\n",
    "    save_tiff(output_path, test_img)\n",
    "    print('Saved: ', output_path)"
   ]
  },
  {
   "cell_type": "code",
   "execution_count": null,
   "metadata": {},
   "outputs": [],
   "source": [
    "new_data = load_tiff('/group/jug/ashesh/data/Stefania/20230327_Ki67_and_Iba1_trainingdata/synthetic_test/percent70/iba1_nucleus_test_9_margin5.tif')\n",
    "old_data = test_data[0,...,0].copy()"
   ]
  },
  {
   "cell_type": "code",
   "execution_count": null,
   "metadata": {},
   "outputs": [],
   "source": [
    "import seaborn as sns\n",
    "sns.histplot(new_data[::4,::4].ravel(), color='r', alpha=0.5,log_scale=True)\n",
    "sns.histplot(old_data[::4,::4].ravel(), color='b', alpha=0.5,log_scale=True)"
   ]
  },
  {
   "cell_type": "code",
   "execution_count": null,
   "metadata": {},
   "outputs": [],
   "source": [
    "print(np.quantile(new_data, [0.1,0.5,0.9, 0.99]), new_data.mean(), new_data.std())\n",
    "print(np.quantile(old_data, [0.1,0.5,0.9, 0.99]), old_data.mean(), old_data.std())"
   ]
  },
  {
   "cell_type": "code",
   "execution_count": null,
   "metadata": {},
   "outputs": [],
   "source": [
    "_,ax = plt.subplots(figsize=(10,5),ncols=2)\n",
    "ax[0].imshow(test_img)\n",
    "ax[1].imshow(test_data[0,...,0])"
   ]
  },
  {
   "cell_type": "code",
   "execution_count": null,
   "metadata": {},
   "outputs": [],
   "source": []
  }
 ],
 "metadata": {
  "kernelspec": {
   "display_name": "Python 3",
   "language": "python",
   "name": "python3"
  },
  "language_info": {
   "codemirror_mode": {
    "name": "ipython",
    "version": 3
   },
   "file_extension": ".py",
   "mimetype": "text/x-python",
   "name": "python",
   "nbconvert_exporter": "python",
   "pygments_lexer": "ipython3",
   "version": "3.9.19"
  }
 },
 "nbformat": 4,
 "nbformat_minor": 2
}
