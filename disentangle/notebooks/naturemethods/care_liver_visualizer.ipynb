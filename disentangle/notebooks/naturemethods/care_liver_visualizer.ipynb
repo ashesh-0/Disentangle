{
 "cells": [
  {
   "cell_type": "code",
   "execution_count": null,
   "metadata": {},
   "outputs": [],
   "source": [
    "import os\n",
    "from disentangle.core.tiff_reader import load_tiff\n",
    "data = [load_tiff('/group/jug/ashesh/data/CARE/care_florian/liver/channel_234_1.tif')]\n",
    "data[0].shape"
   ]
  },
  {
   "cell_type": "code",
   "execution_count": null,
   "metadata": {},
   "outputs": [],
   "source": [
    "# use widgets to plot images with a slider\n",
    "from ipywidgets import interact\n",
    "import matplotlib.pyplot as plt\n",
    "\n",
    "def plot_image(i):\n",
    "    _,ax = plt.subplots(figsize=(16,4),ncols=4)\n",
    "    ax[0].imshow(data[0][0,i])\n",
    "    ax[1].imshow(data[0][1,i])\n",
    "    ax[2].imshow(data[0][2,i])\n",
    "    ax[3].imshow(data[0][:,i].sum(axis=0))\n",
    "    plt.show()\n",
    "\n",
    "interact(plot_image, i=(0, data[0].shape[1]))"
   ]
  },
  {
   "cell_type": "code",
   "execution_count": null,
   "metadata": {},
   "outputs": [],
   "source": [
    "import seaborn as sns\n",
    "import matplotlib.pyplot as plt\n",
    "_,ax = plt.subplots(1,1,figsize=(10,5))\n",
    "for i in range(len(data)):\n",
    "    sns.displot(data[i][:,::4,::4,0].flatten(), label=f'channel {i}', ax=ax)"
   ]
  },
  {
   "cell_type": "code",
   "execution_count": null,
   "metadata": {},
   "outputs": [],
   "source": [
    "! ls /group/jug/ashesh/data/CARE/care_florian/liver/"
   ]
  },
  {
   "cell_type": "code",
   "execution_count": null,
   "metadata": {},
   "outputs": [],
   "source": [
    "data.shape"
   ]
  },
  {
   "cell_type": "code",
   "execution_count": null,
   "metadata": {},
   "outputs": [],
   "source": [
    "from disentangle.core.tiff_reader import save_tiff\n",
    "ch_idx = 2\n",
    "save_tiff(f'/group/jug/ashesh/data/CARE/care_florian/liver/n2v_inputs/channel_234_1_ch{ch_idx}.tif', data[ch_idx,::4])"
   ]
  },
  {
   "cell_type": "code",
   "execution_count": null,
   "metadata": {},
   "outputs": [],
   "source": [
    "ch_idx = 2\n",
    "tmp_data = load_tiff(f'/group/jug/ashesh/data/CARE/care_florian/liver/n2v_inputs/channel_234_1_ch{ch_idx}.tif')"
   ]
  },
  {
   "cell_type": "code",
   "execution_count": null,
   "metadata": {},
   "outputs": [],
   "source": [
    "plt.imshow(tmp_data[0])"
   ]
  },
  {
   "cell_type": "code",
   "execution_count": null,
   "metadata": {},
   "outputs": [],
   "source": []
  }
 ],
 "metadata": {
  "kernelspec": {
   "display_name": "Python 3",
   "language": "python",
   "name": "python3"
  },
  "language_info": {
   "codemirror_mode": {
    "name": "ipython",
    "version": 3
   },
   "file_extension": ".py",
   "mimetype": "text/x-python",
   "name": "python",
   "nbconvert_exporter": "python",
   "pygments_lexer": "ipython3",
   "version": "3.9.19"
  }
 },
 "nbformat": 4,
 "nbformat_minor": 2
}
