{
 "cells": [
  {
   "cell_type": "code",
   "execution_count": null,
   "metadata": {},
   "outputs": [],
   "source": [
    "import matplotlib.pyplot as plt\n",
    "from disentangle.configs.nikola_7D_config import get_config\n",
    "from disentangle.data_loader.nikola_7D_rawdata_loader import get_train_val_data\n",
    "from disentangle.core.data_split_type import DataSplitType\n",
    "\n",
    "config = get_config()\n",
    "config.data.enable_gaussian_noise = False\n",
    "config.data.dset_type = '2ms'\n",
    "datadir = '/group/jug/ashesh/data/nikola_data/20240531/'\n",
    "data = get_train_val_data(datadir, config.data, DataSplitType.Train,\n",
    "                            config.training.val_fraction, config.training.test_fraction)\n",
    "\n",
    "_,ax = plt.subplots(figsize=(18,6),ncols=3)\n",
    "ax[0].imshow(data[0,...,0])\n",
    "ax[1].imshow(data[0,...,1])\n",
    "ax[2].imshow(data[0,...,2])\n"
   ]
  },
  {
   "cell_type": "code",
   "execution_count": null,
   "metadata": {},
   "outputs": [],
   "source": [
    "import seaborn as sns\n",
    "from disentangle.analysis.plot_utils import clean_for_xaxis_plot\n",
    "from matplotlib.pyplot import plot, savefig\n",
    "import os\n",
    "save_to_file = True\n",
    "outputdir = '/group/jug/ashesh/naturemethods/histograms/'\n",
    "xmin_data = 0\n",
    "xmax_data = 300\n",
    "ch_idx = 0\n",
    "_,ax = plt.subplots(figsize=(2,1.5))\n",
    "sns.kdeplot(data=data[::10,::5,::5,ch_idx].reshape(-1, ),\n",
    "            ax=ax,\n",
    "            color='cyan',\n",
    "            # label=labelk,\n",
    "            # clip=(xmin_data, None),\n",
    "            )\n",
    "\n",
    "ax.set_aspect('auto')\n",
    "ax.set_xlim([xmin_data, xmax_data])  #xmin=0,xmax= xmax_data\n",
    "ax.set_xbound(lower=xmin_data, upper=xmax_data)\n",
    "\n",
    "xticks = ax.get_xticks()\n",
    "ax.set_xticks([xticks[0], xticks[-1]])\n",
    "# set x-axis font size of values on x axis\n",
    "ax.tick_params(axis='x', labelsize=18)\n",
    "\n",
    "\n",
    "ax.xaxis.label.set_color('white')        #setting up X-axis label color to yellow\n",
    "ax.tick_params(axis='x', colors='white')    #setting up X-axis tick color to red\n",
    "clean_for_xaxis_plot(ax)\n",
    "if save_to_file:\n",
    "    fpath = os.path.join(outputdir,f'hist_HT-LIF24_C{config.data.channel_idx_list[ch_idx]}.png')\n",
    "    plt.tight_layout()\n",
    "    savefig(fpath, transparent=True)\n",
    "    print(fpath)\n"
   ]
  },
  {
   "cell_type": "code",
   "execution_count": null,
   "metadata": {},
   "outputs": [],
   "source": []
  }
 ],
 "metadata": {
  "kernelspec": {
   "display_name": "Python 3",
   "language": "python",
   "name": "python3"
  },
  "language_info": {
   "codemirror_mode": {
    "name": "ipython",
    "version": 3
   },
   "file_extension": ".py",
   "mimetype": "text/x-python",
   "name": "python",
   "nbconvert_exporter": "python",
   "pygments_lexer": "ipython3",
   "version": "3.9.19"
  }
 },
 "nbformat": 4,
 "nbformat_minor": 2
}
