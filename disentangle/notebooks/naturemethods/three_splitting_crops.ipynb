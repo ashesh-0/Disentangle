{
 "cells": [
  {
   "cell_type": "code",
   "execution_count": null,
   "metadata": {},
   "outputs": [],
   "source": [
    "from disentangle.data_loader.train_val_data import get_train_val_data\n",
    "from disentangle.config_utils import load_config\n",
    "from disentangle.scripts.evaluate import get_data_dir\n",
    "from disentangle.core.data_split_type import DataSplitType\n",
    "from disentangle.core.tiff_reader import save_tiff, load_tiff\n",
    "import os\n",
    "\n",
    "gt_root_dir = \"/group/jug/ashesh/kth_data\"\n",
    "pred_rootdir = '/group/jug/ashesh/training/disentangle'\n",
    "KTH_SAMPLE = 0\n",
    "\n",
    "def sample_subdir(k):\n",
    "    return 'kth{}'.format(k)\n",
    "\n",
    "def get_gt_dir(dtype):\n",
    "    gt_dir = os.path.join(gt_root_dir, dtype)\n",
    "    gt_dir = os.path.join(gt_dir, sample_subdir(KTH_SAMPLE))\n",
    "    return gt_dir\n",
    "\n",
    "\n",
    "def get_kth_gt(val_data):\n",
    "    if hasattr(val_data, '_data'):\n",
    "        gt_data = val_data._data[KTH_SAMPLE][0]\n",
    "    else:\n",
    "        gt_data = val_data[KTH_SAMPLE]\n",
    "    return gt_data\n",
    "\n",
    "\n",
    "output_data_dir = '/group/jug/ashesh/naturemethods/three_splitting_sampling/'\n",
    "\n",
    "full_frame_pred_dirs = {\n",
    "\n",
    "}\n",
    "\n",
    "def get_dtype(key):\n",
    "    return key.split('/')[1].split('-')[0]\n",
    "\n",
    "def get_gt_path(key):\n",
    "    dtype = get_dtype(key)\n",
    "    gt_dir = get_gt_dir(dtype)\n",
    "    pred_fpath = full_frame_pred_dirs[key]\n",
    "    gt_fpath = os.path.join(gt_dir, 'gt_for_'+os.path.basename(pred_fpath))\n",
    "    return gt_fpath"
   ]
  },
  {
   "cell_type": "code",
   "execution_count": null,
   "metadata": {},
   "outputs": [],
   "source": [
    "crops_pred_dirs = {\n",
    "        '2408/D25-M3-S0-L8/4':'/group/jug/ashesh/data/paper_stats/Test_P64_G32_M50_Sk0/stats_training_disentangle_2406_D25-M3-S0-L8_4.pkl',\n",
    "}"
   ]
  },
  {
   "cell_type": "code",
   "execution_count": null,
   "metadata": {},
   "outputs": [],
   "source": [
    "# -rw-r--r-- 1 ashesh.ashesh jug 5.6M May 27 17:01 /group/jug/ashesh/data/paper_stats/Test_P64_G32_M1_Sk0/stats_training_disentangle_2404_D17-M3-S0-L8_4.pkl\n",
    "# -rw-r--r-- 1 ashesh.ashesh jug 5.6M May 27 17:12 /group/jug/ashesh/data/paper_stats/Test_P64_G32_M1_Sk0/stats_training_disentangle_2405_D18-M3-S0-L8_13.pkl\n",
    "# -rw-r--r-- 1 ashesh.ashesh jug 5.6M May 27 17:22 /group/jug/ashesh/data/paper_stats/Test_P64_G32_M1_Sk0/stats_training_disentangle_2405_D18-M3-S0-L8_14.pkl\n",
    "# -rw-r--r-- 1 ashesh.ashesh jug 5.6M May 27 17:31 /group/jug/ashesh/data/paper_stats/Test_P64_G32_M1_Sk0/stats_training_disentangle_2405_D18-M3-S0-L8_15.pkl\n",
    "# -rw-r--r-- 1 ashesh.ashesh jug 5.6M May 27 18:56 /group/jug/ashesh/data/paper_stats/Test_P64_G32_M1_Sk0/stats_training_disentangle_2405_D18-M3-S0-L8_10.pkl\n",
    "# -rw-r--r-- 1 ashesh.ashesh jug 5.6M May 27 19:05 /group/jug/ashesh/data/paper_stats/Test_P64_G32_M1_Sk0/stats_training_disentangle_2405_D18-M3-S0-L8_11.pkl\n",
    "# -rw-r--r-- 1 ashesh.ashesh jug 5.6M May 27 19:14 /group/jug/ashesh/data/paper_stats/Test_P64_G32_M1_Sk0/stats_training_disentangle_2405_D18-M3-S0-L8_12.pkl\n",
    "# '/group/jug/ashesh/data/paper_stats/Test_P64_G32_M1_Sk8/stats_training_disentangle_2405_D25-M3-S0-L8_3.pkl',\n",
    "# '/group/jug/ashesh/data/paper_stats/Test_P64_G32_M1_Sk8/stats_training_disentangle_2404_D21-M3-S0-L8_1.pkl',\n",
    "# '/group/jug/ashesh/data/paper_stats/Test_P64_G32_M1_Sk8/stats_training_disentangle_2404_D25-M3-S0-L8_97.pkl',\n",
    "# '/group/jug/ashesh/data/paper_stats/Test_P64_G32_M1_Sk8/stats_training_disentangle_2404_D21-M3-S0-L8_6.pkl',\n",
    "# '/group/jug/ashesh/data/paper_stats/Test_P64_G32_M1_Sk8/stats_training_disentangle_2404_D25-M3-S0-L8_120.pkl',\n",
    "# '/group/jug/ashesh/data/paper_stats/Test_P64_G32_M1_Sk8/stats_training_disentangle_2404_D25-M3-S0-L8_111.pkl',\n",
    "# '/group/jug/ashesh/data/paper_stats/Test_P64_G32_M1_Sk8/stats_training_disentangle_2404_D25-M3-S0-L8_125.pkl',\n",
    "# '/group/jug/ashesh/data/paper_stats/Test_P64_G32_M1_Sk8/stats_training_disentangle_2404_D25-M3-S0-L8_139.pkl',\n",
    "# '/group/jug/ashesh/data/paper_stats/Test_P64_G32_M1_Sk8/stats_training_disentangle_2404_D25-M3-S0-L8_143.pkl',"
   ]
  },
  {
   "cell_type": "code",
   "execution_count": null,
   "metadata": {},
   "outputs": [],
   "source": [
    "keys = [\n",
    " '2408/D25-M3-S0-L8/4'\n",
    "# '2404/D21-M3-S0-L8/6',\n",
    "# '2404/D25-M3-S0-L8/97',\n",
    "# '2404/D25-M3-S0-L8/120',\n",
    "# '2404/D25-M3-S0-L8/111',\n",
    "# '2404/D25-M3-S0-L8/125',\n",
    "# '2404/D25-M3-S0-L8/139',\n",
    "# '2404/D25-M3-S0-L8/143',\n",
    "# '2405/D18-M3-S0-L8/13',\n",
    "# '2405/D18-M3-S0-L8/14',\n",
    "# '2405/D18-M3-S0-L8/15',\n",
    "# '2405/D18-M3-S0-L8/10',\n",
    "# '2405/D18-M3-S0-L8/11',\n",
    "# '2405/D18-M3-S0-L8/12',\n",
    "]\n",
    "\n",
    "data_shape = {\n",
    "    'D21': (1, 1608, 1608, 3),\n",
    "    'D25': (10, 1608, 1608, 4),\n",
    "    'D18': (1, 4096, 4096, 3),\n",
    "}"
   ]
  },
  {
   "cell_type": "code",
   "execution_count": null,
   "metadata": {},
   "outputs": [],
   "source": [
    "idx_dict  = {}\n",
    "val_data_dict = {}"
   ]
  },
  {
   "cell_type": "code",
   "execution_count": null,
   "metadata": {},
   "outputs": [],
   "source": [
    "import pickle\n",
    "import numpy as np\n",
    "\n",
    "key = keys[0]\n",
    "\n",
    "with open(crops_pred_dirs[key], 'rb') as f:\n",
    "    data = pickle.load(f)\n",
    "    for ch_idx in data['pred'].keys():\n",
    "        data['pred'][ch_idx] = np.concatenate([x[None] for x in data['pred'][ch_idx]], axis=0)\n",
    "\n",
    "print(len(data['inp']), data['inp'][0].shape)\n",
    "print(len(data['tar']), data['tar'][0].shape)\n",
    "print(len(data['pred']), len(data['pred'][0]))"
   ]
  },
  {
   "cell_type": "code",
   "execution_count": null,
   "metadata": {},
   "outputs": [],
   "source": [
    "np.max(data['idx'])"
   ]
  },
  {
   "cell_type": "code",
   "execution_count": null,
   "metadata": {},
   "outputs": [],
   "source": [
    "config = load_config(os.path.join(pred_rootdir, os.path.join('/group/jug/ashesh/training/disentangle', key), 'config.pkl'))\n",
    "dtype = get_dtype(key)\n",
    "val_data_internal = get_train_val_data(config.data, get_data_dir(int(dtype[1:])), DataSplitType.Test, \n",
    "val_fraction=config.training.val_fraction,\n",
    "test_fraction=config.training.test_fraction)\n",
    "val_data_dict[dtype] = val_data_internal"
   ]
  },
  {
   "cell_type": "code",
   "execution_count": null,
   "metadata": {},
   "outputs": [],
   "source": [
    "from disentangle.data_loader.patch_index_manager import GridIndexManager,TilingMode\n",
    "import matplotlib.patches as patches\n",
    "import matplotlib.pyplot as plt\n",
    "\n",
    "grid_idx_manager = GridIndexManager(data_shape[get_dtype(key)], (1,32,32,4), (1,64,64,4), TilingMode.ShiftBoundary)\n",
    "# idx_list = idx_dict[key]\n",
    "# dset_idx_list = [data['idx'][idx] for idx in idx_list]\n"
   ]
  },
  {
   "cell_type": "code",
   "execution_count": null,
   "metadata": {},
   "outputs": [],
   "source": [
    "def get_hwt(dset_idx, grid_idx_manager):\n",
    "    t,h,w,_ = grid_idx_manager.get_patch_location_from_dataset_idx(dset_idx)\n",
    "    return h, w, t"
   ]
  },
  {
   "cell_type": "code",
   "execution_count": null,
   "metadata": {},
   "outputs": [],
   "source": [
    "def get_larger_input(dset_idx, val_data, ex_h=64, grid_size=32, patch_size=64):\n",
    "    h,w, t = get_hwt(dset_idx, grid_idx_manager)\n",
    "    assert h >= ex_h and w >= ex_h, f'{(h,w)}'\n",
    "    # print(h,w,t, ex_h)\n",
    "    # inner_pad = (patch_size - grid_size)//2\n",
    "    # print(val_data.shape)\n",
    "    if isinstance(val_data, np.ndarray):\n",
    "        data = val_data[t,h-ex_h:h+patch_size+ex_h, w-ex_h:w+patch_size+ex_h]\n",
    "    else:\n",
    "        # assert isinstance(val_data, list)\n",
    "        data = val_data[t][0][h-ex_h:h+patch_size+ex_h, w-ex_h:w+patch_size+ex_h]\n",
    "    if data.shape[-1] ==3:\n",
    "        return data[...,2], (ex_h, ex_h)\n",
    "    else:\n",
    "        return data.mean(axis=-1), (ex_h, ex_h)\n",
    "\n"
   ]
  },
  {
   "cell_type": "code",
   "execution_count": null,
   "metadata": {},
   "outputs": [],
   "source": [
    "idx_dict = {\n",
    "    '2408/D25-M3-S0-L8/4': []\n",
    " }"
   ]
  },
  {
   "cell_type": "code",
   "execution_count": null,
   "metadata": {},
   "outputs": [],
   "source": [
    "#dset_idx = np.random.randint(0, len(data['inp']))\n",
    "extra_pad = 32\n",
    "extra_input, top_left_hw = get_larger_input(dset_idx, val_data_dict[dtype], ex_h=extra_pad)"
   ]
  },
  {
   "cell_type": "code",
   "execution_count": null,
   "metadata": {},
   "outputs": [],
   "source": [
    "plt.imshow(extra_input)"
   ]
  },
  {
   "cell_type": "code",
   "execution_count": null,
   "metadata": {},
   "outputs": [],
   "source": [
    "# inp, pred1, pred2, diff, predmmse, tar\n",
    "import matplotlib.pyplot as plt\n",
    "import numpy as np\n",
    "from disentangle.analysis.plot_utils import clean_ax\n",
    "\n",
    "imsz = 3\n",
    "ncols = 6\n",
    "nrows = 3\n",
    "ex_idx = np.random.randint(0, len(data['inp'])) #\n",
    "print('idx ', ex_idx)\n",
    "\n",
    "_,ax = plt.subplots(figsize=(imsz*ncols,imsz*nrows), ncols=ncols,nrows=nrows)\n",
    "dset_idx = data['idx'][ex_idx]\n",
    "\n",
    "dtype = get_dtype(key)\n",
    "if dtype in val_data_dict:\n",
    "    extra_pad = 64\n",
    "    extra_input, top_left_hw = get_larger_input(dset_idx, val_data_dict[dtype], ex_h=extra_pad)\n",
    "    rect = patches.Rectangle(top_left_hw, 64,64, linewidth=2, edgecolor='w', facecolor='none')\n",
    "    ax[0,0].imshow(extra_input, cmap='magma')\n",
    "    ax[0,0].add_patch(rect)\n",
    "\n",
    "ax[1,0].imshow(data['inp'][ex_idx][0,0].cpu().numpy(), cmap='magma')\n",
    "# ch 0\n",
    "pred0_1 = data['pred'][0][ex_idx][0]\n",
    "pred0_2 = data['pred'][0][ex_idx][1]\n",
    "ax[0,1].imshow(pred0_1, cmap='magma')\n",
    "ax[0,2].imshow(pred0_2, cmap='magma')\n",
    "ax[0,3].imshow(pred0_2 - pred0_1, cmap='coolwarm')\n",
    "ax[0,4].imshow(np.mean(data['pred'][0][ex_idx], axis=0), cmap='magma')\n",
    "ax[0,5].imshow(data['tar'][ex_idx][0,0].cpu().numpy(), cmap='magma')\n",
    "\n",
    "\n",
    "# ch 1\n",
    "pred1_1 = data['pred'][1][ex_idx][0]\n",
    "pred1_2 = data['pred'][1][ex_idx][1]\n",
    "\n",
    "ax[1,1].imshow(pred1_1, cmap='magma')\n",
    "ax[1,2].imshow(pred1_2, cmap='magma')\n",
    "ax[1,3].imshow(pred1_2 - pred1_1, cmap='coolwarm')\n",
    "ax[1,4].imshow(np.mean(data['pred'][1][ex_idx], axis=0), cmap='magma')\n",
    "ax[1,5].imshow(data['tar'][ex_idx][0,1].cpu().numpy(), cmap='magma')\n",
    "\n",
    "# ch 2\n",
    "pred2_1 = data['pred'][2][ex_idx][0]\n",
    "pred2_2 = data['pred'][2][ex_idx][1]\n",
    "\n",
    "ax[2,1].imshow(pred2_1, cmap='magma')\n",
    "ax[2,2].imshow(pred2_2, cmap='magma')\n",
    "ax[2,3].imshow(pred2_2 - pred2_1, cmap='coolwarm')\n",
    "ax[2,4].imshow(np.mean(data['pred'][2][ex_idx], axis=0), cmap='magma')\n",
    "ax[2,5].imshow(data['tar'][ex_idx][0,2].cpu().numpy(), cmap='magma')\n",
    "\n",
    "clean_ax(ax)\n",
    "plt.subplots_adjust(wspace=0.01, hspace=0.01)\n",
    "fname = f\"sample_{key.replace('/','_')}_Idx-{dset_idx}.png\"\n",
    "fpath = os.path.join(output_data_dir, fname)\n",
    "\n",
    "print(fpath)\n",
    "# plt.savefig(fpath, dpi=200)\n"
   ]
  },
  {
   "cell_type": "code",
   "execution_count": null,
   "metadata": {},
   "outputs": [],
   "source": [
    "dtype in val_data_dict"
   ]
  },
  {
   "cell_type": "code",
   "execution_count": null,
   "metadata": {},
   "outputs": [],
   "source": []
  },
  {
   "cell_type": "code",
   "execution_count": null,
   "metadata": {},
   "outputs": [],
   "source": [
    "{'2404/D21-M3-S0-L8/6': [13, 48],\n",
    " '2404/D25-M3-S0-L8/97': [71, 74, 100],\n",
    " '2404/D25-M3-S0-L8/120': [23],\n",
    " '2404/D25-M3-S0-L8/111': [112, 105, 159, 57],\n",
    " '2404/D25-M3-S0-L8/125': [104, 163],\n",
    " '2404/D25-M3-S0-L8/139': [137, 150],\n",
    " '2404/D25-M3-S0-L8/143': [117, 29],\n",
    " '2405/D18-M3-S0-L8/13': [41, 156],\n",
    " '2405/D18-M3-S0-L8/14': [185],\n",
    " '2405/D18-M3-S0-L8/15': [174, 124],\n",
    " '2405/D18-M3-S0-L8/10': [190],\n",
    " '2405/D18-M3-S0-L8/11': [85, 99],\n",
    " '2405/D18-M3-S0-L8/12': [139, 58]}"
   ]
  },
  {
   "cell_type": "code",
   "execution_count": null,
   "metadata": {},
   "outputs": [],
   "source": [
    "import pickle\n",
    "import os\n",
    "data_dir = '/group/jug/ashesh/data/paper_stats/Test_P64_G32_M50_Sk8/'\n",
    "samples = ['stats_training_disentangle_2406_D25-M3-S0-L8_4.pkl',\n",
    "'stats_training_disentangle_2406_D25-M3-S0-L8_12.pkl',\n",
    "'stats_training_disentangle_2406_D25-M3-S0-L8_5.pkl',\n",
    "'stats_training_disentangle_2406_D25-M3-S0-L8_6.pkl',\n",
    "]\n",
    "fpath = os.path.join(data_dir, samples[0])\n",
    "with open(fpath, 'rb') as f:\n",
    "    data = pickle.load(f)\n"
   ]
  },
  {
   "cell_type": "code",
   "execution_count": null,
   "metadata": {},
   "outputs": [],
   "source": [
    "{'stats_training_disentangle_2406_D25-M3-S0-L8_4.pkl': [94,17, 23],\n",
    " 'stats_training_disentangle_2406_D25-M3-S0-L8_12.pkl': [95,23,70,58, 94] # 95 has some variation\n",
    "}"
   ]
  },
  {
   "cell_type": "code",
   "execution_count": null,
   "metadata": {},
   "outputs": [],
   "source": [
    "calib_fpath = os.path.join(os.path.dirname(fpath), 'calib_' + os.path.basename(fpath))\n",
    "with open(calib_fpath, 'rb') as f:\n",
    "    calibration_data = pickle.load(f)"
   ]
  },
  {
   "cell_type": "code",
   "execution_count": null,
   "metadata": {},
   "outputs": [],
   "source": [
    "from disentangle.analysis.paper_plots import get_first_index, get_last_index\n",
    "def get_rmv_rmse(q_s = 0.001, q_e = 0.999):\n",
    "    data = {}\n",
    "    for ch_idx in range(len(calibration_data['calib_stats'])):\n",
    "        tmp_stats = calibration_data['calib_stats'][ch_idx]\n",
    "        tmp_rmv = tmp_stats['rmv']\n",
    "        tmp_rmse = tmp_stats['rmse']\n",
    "        count = tmp_stats['bin_count']\n",
    "        first_idx = get_first_index(count, q_s)\n",
    "        last_idx = get_last_index(count, q_e)\n",
    "        data[ch_idx] = {'rmv':tmp_rmv[first_idx:-last_idx], \n",
    "                        'rmse': tmp_rmse[first_idx:-last_idx]}\n",
    "    return data\n",
    "\n"
   ]
  },
  {
   "cell_type": "code",
   "execution_count": null,
   "metadata": {},
   "outputs": [],
   "source": [
    "import matplotlib.pyplot as plt\n",
    "import numpy as np\n",
    "from disentangle.analysis.plot_utils import clean_ax\n",
    "ex_idx = 94#np.random.randint(len(data['tar']))\n",
    "print(ex_idx)\n",
    "n_channels = len(data['pred'].keys())\n",
    "nrows = n_channels\n",
    "ncols = 5\n",
    "img_sz = 3\n",
    "output_data_dir = '/group/jug/ashesh/naturemethods/sampling/'\n",
    "save_plots = True\n",
    "\n",
    "\n",
    "\n",
    "_,ax = plt.subplots(figsize=(img_sz*ncols,img_sz*nrows), ncols=ncols,nrows=nrows)\n",
    "for ch_idx in range(n_channels):\n",
    "    pred0_1 = data['pred'][ch_idx][ex_idx][0]\n",
    "    pred0_2 = data['pred'][ch_idx][ex_idx][1]\n",
    "    ax[ch_idx,0].imshow(pred0_1, cmap='magma')\n",
    "    ax[ch_idx,1].imshow(pred0_2, cmap='magma')\n",
    "    ax[ch_idx,2].imshow(pred0_2 - pred0_1, cmap='coolwarm')\n",
    "    ax[ch_idx,3].imshow(np.mean(data['pred'][ch_idx][ex_idx], axis=0), cmap='magma')\n",
    "    ax[ch_idx,4].imshow(data['tar'][ex_idx][0,ch_idx].cpu().numpy(), cmap='magma')\n",
    "\n",
    "\n",
    "clean_ax(ax)\n",
    "plt.subplots_adjust(wspace=0.02, hspace=0.02)\n",
    "if save_plots:\n",
    "    img_fname = os.path.basename(fpath).replace('stats_training_disentangle',f'sample_prediction_{data[\"idx\"][ex_idx]}').replace('.pkl','.png')\n",
    "    img_fpath = os.path.join(output_data_dir, img_fname)\n",
    "    plt.savefig(img_fpath, dpi=200)\n",
    "    print(img_fpath)"
   ]
  },
  {
   "cell_type": "code",
   "execution_count": null,
   "metadata": {},
   "outputs": [],
   "source": []
  },
  {
   "cell_type": "code",
   "execution_count": null,
   "metadata": {},
   "outputs": [],
   "source": [
    "import matplotlib.patches as patches\n",
    "_,ax = plt.subplots(figsize=(img_sz, 3*img_sz),ncols=1,nrows=3)\n",
    "ax[0].imshow(data['inp'][ex_idx][0,0].cpu().numpy(), cmap='magma')\n",
    "ax[1].imshow(data['inp'][ex_idx][0,1].cpu().numpy(), cmap='magma')\n",
    "ax[2].imshow(data['inp'][ex_idx][0,2].cpu().numpy(), cmap='magma')\n",
    "clean_ax(ax)\n",
    "plt.subplots_adjust(wspace=0.02, hspace=0.02)\n",
    "rect0 = patches.Rectangle((0,0), 63,63, linewidth=2, edgecolor='w', linestyle='--', facecolor='none')\n",
    "ax[0].add_patch(rect0)\n",
    "\n",
    "rect1 = patches.Rectangle((16,16), 32,32, linewidth=2, edgecolor='w',linestyle='--', facecolor='none')\n",
    "ax[1].add_patch(rect1)\n",
    "\n",
    "rect2 = patches.Rectangle((24,24), 16,16, linewidth=1, edgecolor='w',linestyle='--', facecolor='none')\n",
    "ax[2].add_patch(rect2)\n",
    "if save_plots:\n",
    "    input_fpath = img_fpath.replace('sample_prediction', 'sample_input')\n",
    "    print(input_fpath)\n",
    "    plt.savefig(input_fpath, dpi=200)\n",
    "\n"
   ]
  },
  {
   "cell_type": "code",
   "execution_count": null,
   "metadata": {},
   "outputs": [],
   "source": [
    "cimg_sz = 1.5\n",
    "_,ax = plt.subplots(figsize=(cimg_sz, n_channels*cimg_sz),ncols=1,nrows=n_channels)\n",
    "rmv_rmse_dict = get_rmv_rmse()\n",
    "for ch_idx in range(n_channels):\n",
    "    ax[ch_idx].plot(rmv_rmse_dict[ch_idx]['rmv'], rmv_rmse_dict[ch_idx]['rmse'], '-+', color='r')\n",
    "    ax[ch_idx].grid()\n",
    "    ax[ch_idx].set_facecolor('lightgray')\n",
    "    # set xtick size\n",
    "    ax[ch_idx].tick_params(axis='both', which='major', labelsize=8)\n",
    "\n",
    "\n",
    "plt.subplots_adjust(wspace=0.02, hspace=0.4)\n",
    "if save_plots:\n",
    "    calib_plot_fpath = img_fpath.replace('sample_prediction', 'calibration_plot')\n",
    "    plt.savefig(calib_plot_fpath, dpi=200)\n",
    "    plt.tight_layout()\n",
    "    print(calib_plot_fpath)\n"
   ]
  },
  {
   "cell_type": "code",
   "execution_count": null,
   "metadata": {},
   "outputs": [],
   "source": [
    "break here"
   ]
  },
  {
   "cell_type": "code",
   "execution_count": null,
   "metadata": {},
   "outputs": [],
   "source": [
    "from collections import defaultdict\n",
    "import pandas as pd \n",
    "import seaborn as sns\n",
    "\n",
    "ch_idx = 0\n",
    "ex_idx = 94\n",
    "dist= defaultdict(list)\n",
    "\n",
    "def dist_metric(p1, p2):\n",
    "    sq_err = (p1 - p2)**2\n",
    "    return np.quantile(sq_err, 0.995)\n",
    "\n",
    "for i in range(50):\n",
    "    for j in range(50):\n",
    "        p1 = data['pred'][ch_idx][ex_idx][i]\n",
    "        p2 = data['pred'][ch_idx][ex_idx][j]\n",
    "        dist[i].append(dist_metric(p1, p2))\n",
    "s1, s2 =np.unravel_index(np.argmax(pd.DataFrame.from_records(dist).values), (50,50))\n",
    "\n",
    "_,ax = plt.subplots(figsize=(9,3),ncols=3)\n",
    "p1  = data['pred'][ch_idx][ex_idx][s1]\n",
    "p2  = data['pred'][ch_idx][ex_idx][s2]\n",
    "ax[0].imshow(p1, cmap='magma')\n",
    "ax[1].imshow(p2, cmap='magma')\n",
    "ax[2].imshow(p1-p2, cmap='coolwarm')"
   ]
  }
 ],
 "metadata": {
  "kernelspec": {
   "display_name": "Python 3",
   "language": "python",
   "name": "python3"
  },
  "language_info": {
   "codemirror_mode": {
    "name": "ipython",
    "version": 3
   },
   "file_extension": ".py",
   "mimetype": "text/x-python",
   "name": "python",
   "nbconvert_exporter": "python",
   "pygments_lexer": "ipython3",
   "version": "3.9.19"
  }
 },
 "nbformat": 4,
 "nbformat_minor": 2
}
