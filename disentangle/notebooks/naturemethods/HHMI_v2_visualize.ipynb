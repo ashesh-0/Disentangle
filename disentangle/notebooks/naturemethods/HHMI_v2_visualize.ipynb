{
 "cells": [
  {
   "cell_type": "code",
   "execution_count": null,
   "metadata": {},
   "outputs": [],
   "source": [
    "import read_lif\n",
    "reader = read_lif.Reader('/group/jug/ashesh/data/HHMI25_v2/12_noon_female_con_liv4.lif')\n",
    "# reader = read_lif.Reader('/group/jug/ashesh/data/HHMI_v2/6am_am_female_LIv4.lif')\n",
    "series = reader.getSeries()\n",
    "\n",
    "chosen = series[0]  # choose first image in the lif file\n"
   ]
  },
  {
   "cell_type": "code",
   "execution_count": null,
   "metadata": {},
   "outputs": [],
   "source": [
    "len(series)"
   ]
  },
  {
   "cell_type": "code",
   "execution_count": null,
   "metadata": {},
   "outputs": [],
   "source": [
    "import numpy as np\n",
    "\n",
    "image0 = chosen.getFrame(T=0, channel=0, dtype = np.uint16)\n",
    "image1 = chosen.getFrame(T=0, channel=1, dtype = np.uint16)\n",
    "image2 = chosen.getFrame(T=0, channel=2, dtype = np.uint16)\n",
    "image3 = chosen.getFrame(T=0, channel=3, dtype = np.uint16)\n",
    "image4 = chosen.getFrame(T=0, channel=4, dtype = np.uint16)\n",
    "image5 = chosen.getFrame(T=0, channel=5, dtype = np.uint16)\n",
    "data = np.stack((image0, image1, image2, image3, image4, image5))\n",
    "print(image0.shape, image1.shape, image2.shape, image3.shape, image4.shape, image5.shape)"
   ]
  },
  {
   "cell_type": "code",
   "execution_count": null,
   "metadata": {},
   "outputs": [],
   "source": [
    "print(image0.shape, image1.shape, image2.shape, image3.shape, image4.shape, image5.shape)"
   ]
  },
  {
   "cell_type": "code",
   "execution_count": null,
   "metadata": {},
   "outputs": [],
   "source": [
    "image0_s9 = series[9].getFrame(T=0, channel=0, dtype = np.uint16)\n",
    "image1_s9 = series[9].getFrame(T=0, channel=1, dtype = np.uint16)\n",
    "image2_s9 = series[9].getFrame(T=0, channel=2, dtype = np.uint16)\n",
    "image3_s9 = series[9].getFrame(T=0, channel=3, dtype = np.uint16)\n",
    "image4_s9 = series[9].getFrame(T=0, channel=4, dtype = np.uint16)\n",
    "image5_s9 = series[9].getFrame(T=0, channel=5, dtype = np.uint16)\n",
    "\n",
    "data_s9 = np.stack((image0_s9, image1_s9, image2_s9, image3_s9, image4_s9, image5_s9))\n",
    "print(image0.shape, image1.shape, image2.shape, image3.shape, image4.shape, image5.shape)"
   ]
  },
  {
   "cell_type": "code",
   "execution_count": null,
   "metadata": {},
   "outputs": [],
   "source": [
    "_,ax = plt.subplots(figsize=(10,5),ncols=2)\n",
    "ax[0].imshow(image5[0,::4,::4], cmap='gray')\n",
    "ax[1].imshow(image5_s9[0,::4,::4], cmap='gray')"
   ]
  },
  {
   "cell_type": "code",
   "execution_count": null,
   "metadata": {},
   "outputs": [],
   "source": [
    "(image0_2 == image0).mean()"
   ]
  },
  {
   "cell_type": "code",
   "execution_count": null,
   "metadata": {},
   "outputs": [],
   "source": [
    "import matplotlib.pyplot as plt\n",
    "plt.imshow(image0_2[10,::4,::4], cmap='gray')"
   ]
  },
  {
   "cell_type": "code",
   "execution_count": null,
   "metadata": {},
   "outputs": [],
   "source": []
  },
  {
   "cell_type": "code",
   "execution_count": null,
   "metadata": {},
   "outputs": [],
   "source": [
    "import numpy as np\n",
    "import pandas as pd\n",
    "import matplotlib.pyplot as plt\n",
    "\n",
    "from disentangle.analysis.plot_utils import clean_ax\n",
    "_,ax = plt.subplots(figsize=(18,3),ncols=6)\n",
    "ax[0].imshow(image0[20,::4,::4], cmap='gray')\n",
    "ax[1].imshow(image1[20,::4,::4], cmap='gray')\n",
    "ax[2].imshow(image2[30,::4,::4], cmap='gray')\n",
    "ax[3].imshow(image3[20,::4,::4], cmap='gray')\n",
    "ax[4].imshow(image4[20,::4,::4], cmap='gray')\n",
    "ax[5].imshow(image5[20,::4,::4], cmap='gray')\n",
    "clean_ax(ax)\n",
    "# reduce the space between subplots\n",
    "plt.subplots_adjust(wspace=0.01)\n",
    "# pd.Series(image3.reshape(-1)).value_counts().sort_index().iloc[3:].plot(marker='.')"
   ]
  },
  {
   "cell_type": "code",
   "execution_count": null,
   "metadata": {},
   "outputs": [],
   "source": [
    "ch_idx = 5\n",
    "image0_16bit = chosen.getFrame(T=0, channel=ch_idx, dtype = np.uint16)\n",
    "image0_8bit = chosen.getFrame(T=0, channel=ch_idx, dtype = np.uint8)\n",
    "_,ax = plt.subplots(figsize=(12,6),ncols=2)\n",
    "ax[0].imshow(image0_16bit[20,::4,::4], cmap='gray')\n",
    "ax[1].imshow(image0_8bit[20,::4,::4], cmap='gray')"
   ]
  },
  {
   "cell_type": "code",
   "execution_count": null,
   "metadata": {},
   "outputs": [],
   "source": [
    "_,ax = plt.subplots(figsize=(18,3),ncols=6)\n",
    "pd.Series(image0.reshape(-1)).value_counts().sort_index().iloc[1:].plot(marker='.',ax=ax[0])\n",
    "pd.Series(image1.reshape(-1)).value_counts().sort_index().iloc[1:].plot(marker='.',ax=ax[1])\n",
    "pd.Series(image2.reshape(-1)).value_counts().sort_index().iloc[1:].plot(marker='.', ax=ax[2])\n",
    "pd.Series(image3.reshape(-1)).value_counts().sort_index().iloc[1:].plot(marker='.', ax=ax[3])\n",
    "pd.Series(image4.reshape(-1)).value_counts().sort_index().iloc[1:].plot(marker='.', ax=ax[4])\n",
    "pd.Series(image5.reshape(-1)).value_counts().sort_index().iloc[1:].plot(marker='.', ax=ax[5])\n",
    "plt.tight_layout()"
   ]
  },
  {
   "cell_type": "code",
   "execution_count": null,
   "metadata": {},
   "outputs": [],
   "source": [
    "plt.imshow(image3[20,::4,::4] > 50000, cmap='gray')"
   ]
  },
  {
   "cell_type": "code",
   "execution_count": null,
   "metadata": {},
   "outputs": [],
   "source": [
    "pd.Series(image5.reshape(-1)).value_counts().sort_index().iloc[1:].plot.hist(bins=100)"
   ]
  },
  {
   "cell_type": "code",
   "execution_count": null,
   "metadata": {},
   "outputs": [],
   "source": [
    "from disentangle.configs.nikola_7D_config import get_config\n",
    "from disentangle.core.data_split_type import DataSplitType\n",
    "from disentangle.data_loader.nikola_7D_rawdata_loader import get_train_val_data\n",
    "config = get_config()\n",
    "config.data.enable_gaussian_noise = False\n",
    "datadir = '/group/jug/ashesh/data/nikola_data/20240531/'\n",
    "data = get_train_val_data(datadir, config.data, DataSplitType.Train,\n",
    "                            config.training.val_fraction, config.training.test_fraction)"
   ]
  },
  {
   "cell_type": "code",
   "execution_count": null,
   "metadata": {},
   "outputs": [],
   "source": [
    "data.shape\n",
    "_,ax = plt.subplots(figsize=(12,4),ncols=3)\n",
    "pd.Series(data[...,0].reshape(-1)).value_counts().sort_index().iloc[1:].plot(marker='.', ax=ax[0])\n",
    "pd.Series(data[...,1].reshape(-1)).value_counts().sort_index().iloc[1:].plot(marker='.', ax=ax[1])\n",
    "pd.Series(data[...,2].reshape(-1)).value_counts().sort_index().iloc[1:].plot(marker='.', ax=ax[2])\n",
    "\n"
   ]
  },
  {
   "cell_type": "code",
   "execution_count": null,
   "metadata": {},
   "outputs": [],
   "source": [
    "plt.imshow(data[0,...,0]>150, cmap='gray')"
   ]
  },
  {
   "cell_type": "code",
   "execution_count": null,
   "metadata": {},
   "outputs": [],
   "source": [
    "from disentangle.core.tiff_reader import load_tiff\n",
    "load_tiff('/group/jug/ashesh/data/HHMI25/n2v_denoising/subset_Ch0.tif').shape"
   ]
  },
  {
   "cell_type": "code",
   "execution_count": null,
   "metadata": {},
   "outputs": [],
   "source": [
    "data_s9.shape, data.shape"
   ]
  },
  {
   "cell_type": "code",
   "execution_count": null,
   "metadata": {},
   "outputs": [],
   "source": [
    "\n",
    "from disentangle.core.tiff_reader import load_tiff, save_tiff\n",
    "for i in range(data.shape[0]):\n",
    "    print(i)\n",
    "    save_tiff(f'/group/jug/ashesh/data/HHMI_v2/n2v_denoising/subset_Ch{i}.tif', data[i,::5])"
   ]
  },
  {
   "cell_type": "code",
   "execution_count": null,
   "metadata": {},
   "outputs": [],
   "source": [
    "import matplotlib.pyplot as plt\n",
    "from disentangle.core.tiff_reader import load_tiff\n",
    "data_by2 = load_tiff('/group/jug/ashesh/data/paper_stats/Test_P64_G3-32-32_M50_Sk0/pred_training_disentangle_2506_D32-M3-S0-L8_13_1.tif')\n",
    "data_blur02 = load_tiff('/group/jug/ashesh/data/paper_stats/Test_P64_G3-32-32_M50_Sk0/pred_training_disentangle_2506_D32-M3-S0-L8_12_1.tif')\n",
    "data_blur05 = load_tiff('/group/jug/ashesh/data/paper_stats/Test_P64_G3-32-32_M50_Sk0/pred_training_disentangle_2506_D32-M3-S0-L8_11_1.tif')\n",
    "data_blur10 = load_tiff('/group/jug/ashesh/data/paper_stats/Test_P64_G3-32-32_M50_Sk0/pred_training_disentangle_2506_D32-M3-S0-L8_10_1.tif')"
   ]
  },
  {
   "cell_type": "code",
   "execution_count": null,
   "metadata": {},
   "outputs": [],
   "source": [
    "data_by2[0,0,idx,hs:hs+sz,ws:ws+sz].shape"
   ]
  },
  {
   "cell_type": "code",
   "execution_count": null,
   "metadata": {},
   "outputs": [],
   "source": [
    "_,ax = plt.subplots(figsize=(12, 16),ncols=3,nrows=4)\n",
    "idx = 0\n",
    "hs = 0\n",
    "ws = 0\n",
    "sz = 2048\n",
    "for col in range(3):\n",
    "    ax[0,col].imshow(   data_by2[0,0,idx,hs:hs+sz,ws:ws+sz, col], cmap='gray')\n",
    "    ax[1,col].imshow(data_blur02[0,0,idx,hs:hs+sz,ws:ws+sz, col], cmap='gray')\n",
    "    ax[2,col].imshow(data_blur05[0,0,idx,hs:hs+sz,ws:ws+sz, col], cmap='gray')\n",
    "    ax[3,col].imshow(data_blur10[0,0,idx,hs:hs+sz,ws:ws+sz, col], cmap='gray')\n",
    "\n",
    "ax[0,0].set_ylabel('Downsampled by 2')\n",
    "ax[1,0].set_ylabel('Blur 0.2')\n",
    "ax[2,0].set_ylabel('Blur 0.5')\n",
    "ax[3,0].set_ylabel('Blur 1.0')"
   ]
  },
  {
   "cell_type": "code",
   "execution_count": null,
   "metadata": {},
   "outputs": [],
   "source": [
    "from disentangle.core.tiff_reader import load_tiff\n",
    "tiff_data = load_tiff('/group/jug/ashesh/data/paper_stats/Test_P64_G3-32-32_M5_Sk0/pred_training_disentangle_2506_D33-M3-S0-L0_0_1.tif')"
   ]
  },
  {
   "cell_type": "code",
   "execution_count": null,
   "metadata": {},
   "outputs": [],
   "source": [
    "tiff_data.shape"
   ]
  },
  {
   "cell_type": "code",
   "execution_count": null,
   "metadata": {},
   "outputs": [],
   "source": [
    "plt.imshow(tiff_data[0,0,,...,2])"
   ]
  },
  {
   "cell_type": "code",
   "execution_count": null,
   "metadata": {},
   "outputs": [],
   "source": [
    "import ml_collections\n",
    "from disentangle.data_loader.hhmi_v2_raw_dloader import get_train_val_data\n",
    "from disentangle.core.data_split_type import DataSplitType\n",
    "data_config = ml_collections.ConfigDict()\n",
    "data_config.data_fname = '12_noon_female_con_liv4.lif'\n",
    "\n",
    "\n",
    "data_config.channel_idx_list = [0,1,2,3,4,5]\n",
    "data = get_train_val_data('/group/jug/ashesh/data/HHMI25_v2/', data_config, DataSplitType.Test)\n",
    "print(data.shape)"
   ]
  },
  {
   "cell_type": "code",
   "execution_count": null,
   "metadata": {},
   "outputs": [],
   "source": [
    "data[0][0].shape"
   ]
  },
  {
   "cell_type": "code",
   "execution_count": null,
   "metadata": {},
   "outputs": [],
   "source": [
    "_,ax = plt.subplots(figsize=(18,3),ncols=6)\n",
    "for i in range(6):\n",
    "    ax[i].imshow(data[0][0][0,::4,::4,i], cmap='gray')\n",
    "    ax[i].set_title(f'Channel {i}')\n",
    "    ax[i].axis('off')"
   ]
  },
  {
   "cell_type": "code",
   "execution_count": null,
   "metadata": {},
   "outputs": [],
   "source": [
    "_,ax = plt.subplots(figsize=(12,6),ncols=4,nrows=2)\n",
    "for i in range(3):\n",
    "    ax[1,i+1].imshow(tiff_data[0,0,0,...,i], cmap='gray')\n",
    "\n",
    "ch0 =data[0][0][0,...,1]\n",
    "ch1 = data[0][0][0,...,2]\n",
    "ch2 = data[0][0][0,...,4]\n",
    "inp = (ch0 + ch1 + ch2) / 3\n",
    "ax[0,1].imshow(ch0, cmap='gray')\n",
    "ax[0,2].imshow(ch1, cmap='gray')\n",
    "ax[0,3].imshow(ch2, cmap='gray')\n",
    "ax[0,0].imshow(inp, cmap='gray')\n"
   ]
  },
  {
   "cell_type": "code",
   "execution_count": null,
   "metadata": {},
   "outputs": [],
   "source": [
    "!ls -lhrt /group/jug/ashesh/downloads/ | tail "
   ]
  },
  {
   "cell_type": "code",
   "execution_count": null,
   "metadata": {},
   "outputs": [],
   "source": [
    "import read_lif\n",
    "fpath = '/group/jug/ashesh/downloads/6AM_F_lIV4_512_512.lif'\n",
    "reader = read_lif.Reader(fpath)\n",
    "series = reader.getSeries()\n"
   ]
  },
  {
   "cell_type": "code",
   "execution_count": null,
   "metadata": {},
   "outputs": [],
   "source": [
    "len(series)"
   ]
  },
  {
   "cell_type": "code",
   "execution_count": null,
   "metadata": {},
   "outputs": [],
   "source": [
    "import numpy as np\n",
    "\n",
    "d0 = series[0].getFrame(T=0, channel=0, dtype = np.uint16)\n",
    "d1 = series[0].getFrame(T=0, channel=1, dtype = np.uint16)\n",
    "d2 = series[0].getFrame(T=0, channel=2, dtype = np.uint16)\n",
    "d3 = series[0].getFrame(T=0, channel=3, dtype = np.uint16)\n",
    "d4 = series[0].getFrame(T=0, channel=4, dtype = np.uint16)\n",
    "d5 = series[0].getFrame(T=0, channel=5, dtype = np.uint16)"
   ]
  },
  {
   "cell_type": "code",
   "execution_count": null,
   "metadata": {},
   "outputs": [],
   "source": [
    "tmp_data = np.stack((d0, d1, d2, d3, d4, d5))\n",
    "tmp_data.shape"
   ]
  },
  {
   "cell_type": "code",
   "execution_count": null,
   "metadata": {},
   "outputs": [],
   "source": [
    "_,ax = plt.subplots(figsize=(18,3),ncols=6)\n",
    "for i in range(6):\n",
    "    ax[i].imshow(tmp_data[i,0], cmap='gray')\n",
    "    ax[i].set_title(f'Channel {i}')\n",
    "    ax[i].axis('off')"
   ]
  },
  {
   "cell_type": "code",
   "execution_count": null,
   "metadata": {},
   "outputs": [],
   "source": [
    "import pandas as pd\n",
    "_,ax = plt.subplots(figsize=(18,3),ncols=6)\n",
    "for i in range(6):\n",
    "    pd.Series(tmp_data[i].reshape(-1)).value_counts().sort_index().plot.hist(bins=10, logy=True,ax=ax[i])  "
   ]
  },
  {
   "cell_type": "code",
   "execution_count": null,
   "metadata": {},
   "outputs": [],
   "source": [
    "tmp_data.max(), tmp_data.min()"
   ]
  },
  {
   "cell_type": "code",
   "execution_count": null,
   "metadata": {},
   "outputs": [],
   "source": []
  }
 ],
 "metadata": {
  "kernelspec": {
   "display_name": "usplit_vdi",
   "language": "python",
   "name": "python3"
  },
  "language_info": {
   "codemirror_mode": {
    "name": "ipython",
    "version": 3
   },
   "file_extension": ".py",
   "mimetype": "text/x-python",
   "name": "python",
   "nbconvert_exporter": "python",
   "pygments_lexer": "ipython3",
   "version": "3.9.19"
  }
 },
 "nbformat": 4,
 "nbformat_minor": 2
}
