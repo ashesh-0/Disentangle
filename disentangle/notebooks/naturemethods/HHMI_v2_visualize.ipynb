{
 "cells": [
  {
   "cell_type": "code",
   "execution_count": null,
   "metadata": {},
   "outputs": [],
   "source": [
    "import read_lif\n",
    "reader = read_lif.Reader('/group/jug/ashesh/data/HHMI_v2/12_noon_female_con_liv4.lif')\n",
    "# reader = read_lif.Reader('/group/jug/ashesh/data/HHMI_v2/6am_am_female_LIv4.lif')\n",
    "series = reader.getSeries()\n",
    "\n",
    "chosen = series[0]  # choose first image in the lif file\n"
   ]
  },
  {
   "cell_type": "code",
   "execution_count": null,
   "metadata": {},
   "outputs": [],
   "source": [
    "len(series)"
   ]
  },
  {
   "cell_type": "code",
   "execution_count": null,
   "metadata": {},
   "outputs": [],
   "source": [
    "import numpy as np\n",
    "\n",
    "image0 = chosen.getFrame(T=0, channel=0, dtype = np.uint16)\n",
    "image1 = chosen.getFrame(T=0, channel=1, dtype = np.uint16)\n",
    "image2 = chosen.getFrame(T=0, channel=2, dtype = np.uint16)\n",
    "image3 = chosen.getFrame(T=0, channel=3, dtype = np.uint16)\n",
    "image4 = chosen.getFrame(T=0, channel=4, dtype = np.uint16)\n",
    "image5 = chosen.getFrame(T=0, channel=5, dtype = np.uint16)\n",
    "print(image0.shape, image1.shape, image2.shape, image3.shape, image4.shape, image5.shape)"
   ]
  },
  {
   "cell_type": "code",
   "execution_count": null,
   "metadata": {},
   "outputs": [],
   "source": [
    "print(image0.shape, image1.shape, image2.shape, image3.shape, image4.shape, image5.shape)"
   ]
  },
  {
   "cell_type": "code",
   "execution_count": null,
   "metadata": {},
   "outputs": [],
   "source": [
    "image0_s9 = series[9].getFrame(T=0, channel=0, dtype = np.uint16)\n",
    "image1_s9 = series[9].getFrame(T=0, channel=1, dtype = np.uint16)\n",
    "image2_s9 = series[9].getFrame(T=0, channel=2, dtype = np.uint16)\n",
    "image3_s9 = series[9].getFrame(T=0, channel=3, dtype = np.uint16)\n",
    "image4_s9 = series[9].getFrame(T=0, channel=4, dtype = np.uint16)\n",
    "image5_s9 = series[9].getFrame(T=0, channel=5, dtype = np.uint16)\n",
    "print(image0.shape, image1.shape, image2.shape, image3.shape, image4.shape, image5.shape)"
   ]
  },
  {
   "cell_type": "code",
   "execution_count": null,
   "metadata": {},
   "outputs": [],
   "source": [
    "_,ax = plt.subplots(figsize=(10,5),ncols=2)\n",
    "ax[0].imshow(image5[0,::4,::4], cmap='gray')\n",
    "ax[1].imshow(image5_s9[0,::4,::4], cmap='gray')"
   ]
  },
  {
   "cell_type": "code",
   "execution_count": null,
   "metadata": {},
   "outputs": [],
   "source": [
    "(image0_2 == image0).mean()"
   ]
  },
  {
   "cell_type": "code",
   "execution_count": null,
   "metadata": {},
   "outputs": [],
   "source": [
    "import matplotlib.pyplot as plt\n",
    "plt.imshow(image0_2[10,::4,::4], cmap='gray')"
   ]
  },
  {
   "cell_type": "code",
   "execution_count": null,
   "metadata": {},
   "outputs": [],
   "source": []
  },
  {
   "cell_type": "code",
   "execution_count": null,
   "metadata": {},
   "outputs": [],
   "source": [
    "import numpy as np\n",
    "import pandas as pd\n",
    "import matplotlib.pyplot as plt\n",
    "\n",
    "from disentangle.analysis.plot_utils import clean_ax\n",
    "_,ax = plt.subplots(figsize=(18,3),ncols=6)\n",
    "ax[0].imshow(image0[20,::4,::4], cmap='gray')\n",
    "ax[1].imshow(image1[20,::4,::4], cmap='gray')\n",
    "ax[2].imshow(image2[30,::4,::4], cmap='gray')\n",
    "ax[3].imshow(image3[20,::4,::4], cmap='gray')\n",
    "ax[4].imshow(image4[20,::4,::4], cmap='gray')\n",
    "ax[5].imshow(image5[20,::4,::4], cmap='gray')\n",
    "clean_ax(ax)\n",
    "# reduce the space between subplots\n",
    "plt.subplots_adjust(wspace=0.01)\n",
    "# pd.Series(image3.reshape(-1)).value_counts().sort_index().iloc[3:].plot(marker='.')"
   ]
  },
  {
   "cell_type": "code",
   "execution_count": null,
   "metadata": {},
   "outputs": [],
   "source": [
    "ch_idx = 5\n",
    "image0_16bit = chosen.getFrame(T=0, channel=ch_idx, dtype = np.uint16)\n",
    "image0_8bit = chosen.getFrame(T=0, channel=ch_idx, dtype = np.uint8)\n",
    "_,ax = plt.subplots(figsize=(12,6),ncols=2)\n",
    "ax[0].imshow(image0_16bit[20,::4,::4], cmap='gray')\n",
    "ax[1].imshow(image0_8bit[20,::4,::4], cmap='gray')"
   ]
  },
  {
   "cell_type": "code",
   "execution_count": null,
   "metadata": {},
   "outputs": [],
   "source": [
    "_,ax = plt.subplots(figsize=(18,3),ncols=6)\n",
    "pd.Series(image0.reshape(-1)).value_counts().sort_index().iloc[1:].plot(marker='.',ax=ax[0])\n",
    "pd.Series(image1.reshape(-1)).value_counts().sort_index().iloc[1:].plot(marker='.',ax=ax[1])\n",
    "pd.Series(image2.reshape(-1)).value_counts().sort_index().iloc[1:].plot(marker='.', ax=ax[2])\n",
    "pd.Series(image3.reshape(-1)).value_counts().sort_index().iloc[1:].plot(marker='.', ax=ax[3])\n",
    "pd.Series(image4.reshape(-1)).value_counts().sort_index().iloc[1:].plot(marker='.', ax=ax[4])\n",
    "pd.Series(image5.reshape(-1)).value_counts().sort_index().iloc[1:].plot(marker='.', ax=ax[5])\n",
    "plt.tight_layout()"
   ]
  },
  {
   "cell_type": "code",
   "execution_count": null,
   "metadata": {},
   "outputs": [],
   "source": [
    "plt.imshow(image3[20,::4,::4] > 50000, cmap='gray')"
   ]
  },
  {
   "cell_type": "code",
   "execution_count": null,
   "metadata": {},
   "outputs": [],
   "source": [
    "pd.Series(image5.reshape(-1)).value_counts().sort_index().iloc[1:].plot.hist(bins=100)"
   ]
  },
  {
   "cell_type": "code",
   "execution_count": null,
   "metadata": {},
   "outputs": [],
   "source": [
    "from disentangle.configs.nikola_7D_config import get_config\n",
    "from disentangle.core.data_split_type import DataSplitType\n",
    "from disentangle.data_loader.nikola_7D_rawdata_loader import get_train_val_data\n",
    "config = get_config()\n",
    "config.data.enable_gaussian_noise = False\n",
    "datadir = '/group/jug/ashesh/data/nikola_data/20240531/'\n",
    "data = get_train_val_data(datadir, config.data, DataSplitType.Train,\n",
    "                            config.training.val_fraction, config.training.test_fraction)"
   ]
  },
  {
   "cell_type": "code",
   "execution_count": null,
   "metadata": {},
   "outputs": [],
   "source": [
    "data.shape\n",
    "_,ax = plt.subplots(figsize=(12,4),ncols=3)\n",
    "pd.Series(data[...,0].reshape(-1)).value_counts().sort_index().iloc[1:].plot(marker='.', ax=ax[0])\n",
    "pd.Series(data[...,1].reshape(-1)).value_counts().sort_index().iloc[1:].plot(marker='.', ax=ax[1])\n",
    "pd.Series(data[...,2].reshape(-1)).value_counts().sort_index().iloc[1:].plot(marker='.', ax=ax[2])\n",
    "\n"
   ]
  },
  {
   "cell_type": "code",
   "execution_count": null,
   "metadata": {},
   "outputs": [],
   "source": [
    "plt.imshow(data[0,...,0]>150, cmap='gray')"
   ]
  },
  {
   "cell_type": "code",
   "execution_count": null,
   "metadata": {},
   "outputs": [],
   "source": []
  }
 ],
 "metadata": {
  "kernelspec": {
   "display_name": "Python 3",
   "language": "python",
   "name": "python3"
  },
  "language_info": {
   "codemirror_mode": {
    "name": "ipython",
    "version": 3
   },
   "file_extension": ".py",
   "mimetype": "text/x-python",
   "name": "python",
   "nbconvert_exporter": "python",
   "pygments_lexer": "ipython3",
   "version": "3.9.19"
  }
 },
 "nbformat": 4,
 "nbformat_minor": 2
}
