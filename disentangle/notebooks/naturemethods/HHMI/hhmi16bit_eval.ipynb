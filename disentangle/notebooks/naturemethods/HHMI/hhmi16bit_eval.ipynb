{
 "cells": [
  {
   "cell_type": "code",
   "execution_count": null,
   "metadata": {},
   "outputs": [],
   "source": [
    "from disentangle.notebooks.naturemethods.splitting_notebooks_utils import get_config_from_saved_predictionfile_NM, get_input, get_gaussian_poisson_factors\n",
    "import matplotlib.pyplot as plt\n",
    "import numpy as np\n",
    "import os"
   ]
  },
  {
   "cell_type": "code",
   "execution_count": null,
   "metadata": {},
   "outputs": [],
   "source": [
    "from disentangle.core.tiff_reader import load_tiff\n",
    "pred_noisy2_fpath = \"/group/jug/ashesh/data/paper_stats/Test_P64_G3-32-32_M50_Sk0/kth_0/pred_training_disentangle_2507_D33-M3-S0-L8_18_1.tif\"\n",
    "pred_noisy_fpath = \"/group/jug/ashesh/data/paper_stats/Test_P64_G3-32-32_M50_Sk0/kth_4/pred_training_disentangle_2507_D33-M3-S0-L8_25_1.tif\"\n",
    "\n",
    "gt_fpath = '/group/jug/ashesh/kth_data/D33/kth0/gt_for_pred_training_disentangle_2507_D33-M3-S0-L8_11_1.tif'\n",
    "pred_orig_fpath = '/group/jug/ashesh/data/paper_stats/Test_P64_G3-32-32_M50_Sk0/kth_0/pred_training_disentangle_2507_D33-M3-S0-L8_11_1.tif'\n",
    "\n",
    "# gt_denoised_fpath = '/group/jug/ashesh/kth_data/D32/kth0/gt_for_pred_training_disentangle_2507_D32-M3-S0-L8_7_1.tif'\n",
    "resolution = 45 #nm per pixel\n",
    "\n",
    "gt = load_tiff(gt_fpath)\n",
    "pred_orig = load_tiff(pred_orig_fpath)\n",
    "pred_noisy = load_tiff(pred_noisy_fpath)\n",
    "pred_noisy2 = load_tiff(pred_noisy2_fpath)\n",
    "gt.shape, pred_orig.shape, pred_noisy.shape, pred_noisy2.shape"
   ]
  },
  {
   "cell_type": "code",
   "execution_count": null,
   "metadata": {},
   "outputs": [],
   "source": [
    "plt.imshow(gt[:400,:400,0], cmap='gray')"
   ]
  },
  {
   "cell_type": "code",
   "execution_count": null,
   "metadata": {},
   "outputs": [],
   "source": [
    "noisy_cfg = get_config_from_saved_predictionfile_NM(pred_noisy_fpath)\n",
    "noisy_cfg2 = get_config_from_saved_predictionfile_NM(pred_noisy2_fpath)\n",
    "\n",
    "gaussian_sigma, poisson_noise_factor = get_gaussian_poisson_factors(noisy_cfg)\n",
    "noisy_inp = get_input(gt, pred_noisy.shape[-1], gaussian_sigma, poisson_noise_factor)[0]\n",
    "\n",
    "gaussian_sigma2, poisson_noise_factor2 = get_gaussian_poisson_factors(noisy_cfg2)\n",
    "noisy2_inp = get_input(gt, pred_noisy.shape[-1], gaussian_sigma2, poisson_noise_factor2)[0]\n",
    "\n",
    "orig_inp = get_input(gt, pred_orig.shape[-1], None, -1)[0]"
   ]
  },
  {
   "cell_type": "code",
   "execution_count": null,
   "metadata": {},
   "outputs": [],
   "source": [
    "outputdir = '/group/jug/ashesh/naturemethods/hhmi/'\n",
    "fpath = os.path.join(outputdir, 'SNR_HHMI25_16bit.png')\n",
    "print(fpath)"
   ]
  },
  {
   "cell_type": "code",
   "execution_count": null,
   "metadata": {},
   "outputs": [],
   "source": [
    "from disentangle.analysis.plot_utils import clean_ax\n",
    "from matplotlib_scalebar.scalebar import ScaleBar\n",
    "\n",
    "wN = 600\n",
    "wS = 600\n",
    "# hs = np.random.randint(0, gt.shape[0] - wN)\n",
    "# ws = np.random.randint(0, gt.shape[1] - wS)\n",
    "\n",
    "save_to_file = True\n",
    "_,ax = plt.subplots(figsize=(16,16),ncols=4,nrows=4)\n",
    "for i in range(1,4):\n",
    "    vmin = np.quantile(gt[...,i-1], 0.01)\n",
    "    vmax = np.quantile(gt[...,i-1], 0.99)\n",
    "    \n",
    "    ax[0,i].imshow(gt[hs:hs+wN,ws:ws+wS,i-1], cmap='magma', vmin=vmin, vmax=vmax)\n",
    "    ax[0,i].set_title(f'Ch{i}')\n",
    "    ax[1,i].imshow(pred_orig[hs:hs+wN,ws:ws+wS,i-1], cmap='magma', vmin=vmin, vmax=vmax)\n",
    "    # ax[1,i].set_title(f'Pred orig {i}')\n",
    "    ax[2,i].imshow(pred_noisy[hs:hs+wN,ws:ws+wS,i-1], cmap='magma', vmin=vmin, vmax=vmax)\n",
    "    # ax[2,i].set_title(f'Pred denoised {i}')\n",
    "    ax[3,i].imshow(pred_noisy2[hs:hs+wN,ws:ws+wS,i-1], cmap='magma', vmin=vmin, vmax=vmax)\n",
    "\n",
    "# set [0,0] off \n",
    "ax[0,0].axis('off')\n",
    "ax[1,0].set_title('Input')\n",
    "ax[1,0].imshow(orig_inp[hs:hs+wN,ws:ws+wS], cmap='magma')\n",
    "ax[2,0].imshow(noisy_inp[hs:hs+wN,ws:ws+wS], cmap='magma')\n",
    "ax[3,0].imshow(noisy2_inp[hs:hs+wN,ws:ws+wS], cmap='magma')\n",
    "\n",
    "for i in range(3):\n",
    "    scalebar = ScaleBar(resolution, \n",
    "                        \"nm\", \n",
    "                        # length_fraction=0.1, \n",
    "                        box_alpha=0.6, frameon=True, location='upper right', font_properties={'size':12})\n",
    "\n",
    "    ax[1+i,0].add_artist(scalebar)\n",
    "\n",
    "clean_ax(ax)\n",
    "# reduce the space between the subplots\n",
    "plt.subplots_adjust(wspace=0.02, hspace=0.02)\n",
    "if save_to_file:\n",
    "    plt.savefig(fpath, dpi=150, bbox_inches='tight')\n",
    "    print(f'Saved to {fpath}')"
   ]
  },
  {
   "cell_type": "code",
   "execution_count": null,
   "metadata": {},
   "outputs": [],
   "source": [
    "gaussian_sigma, poisson_noise_factor"
   ]
  },
  {
   "cell_type": "code",
   "execution_count": null,
   "metadata": {},
   "outputs": [],
   "source": [
    "gaussian_sigma, poisson_noise_factor"
   ]
  },
  {
   "cell_type": "code",
   "execution_count": null,
   "metadata": {},
   "outputs": [],
   "source": [
    "gaussian_sigma2, poisson_noise_factor2"
   ]
  },
  {
   "cell_type": "code",
   "execution_count": null,
   "metadata": {},
   "outputs": [],
   "source": []
  }
 ],
 "metadata": {
  "kernelspec": {
   "display_name": "usplit_vdi",
   "language": "python",
   "name": "python3"
  },
  "language_info": {
   "codemirror_mode": {
    "name": "ipython",
    "version": 3
   },
   "file_extension": ".py",
   "mimetype": "text/x-python",
   "name": "python",
   "nbconvert_exporter": "python",
   "pygments_lexer": "ipython3",
   "version": "3.9.19"
  }
 },
 "nbformat": 4,
 "nbformat_minor": 2
}
