{
 "cells": [
  {
   "cell_type": "code",
   "execution_count": null,
   "metadata": {},
   "outputs": [],
   "source": [
    "import read_lif\n",
    "fpath ='/group/jug/ashesh/data/HHMI25_v2/12_noon_female_con_liv4.lif'\n",
    "reader = read_lif.Reader(fpath)\n",
    "# reader = read_lif.Reader('/group/jug/ashesh/data/HHMI_v2/6am_am_female_LIv4.lif')\n",
    "series = reader.getSeries()\n",
    "\n",
    "chosen = series[0]  # choose first image in the lif file\n"
   ]
  },
  {
   "cell_type": "code",
   "execution_count": null,
   "metadata": {},
   "outputs": [],
   "source": [
    "len(series)"
   ]
  },
  {
   "cell_type": "code",
   "execution_count": null,
   "metadata": {},
   "outputs": [],
   "source": [
    "import numpy as np\n",
    "\n",
    "image0 = chosen.getFrame(T=0, channel=0, dtype = np.uint16)\n",
    "image1 = chosen.getFrame(T=0, channel=1, dtype = np.uint16)\n",
    "image2 = chosen.getFrame(T=0, channel=2, dtype = np.uint16)\n",
    "image3 = chosen.getFrame(T=0, channel=3, dtype = np.uint16)\n",
    "image4 = chosen.getFrame(T=0, channel=4, dtype = np.uint16)\n",
    "image5 = chosen.getFrame(T=0, channel=5, dtype = np.uint16)\n",
    "data = np.stack((image0, image1, image2, image3, image4, image5))\n",
    "print(image0.shape, image1.shape, image2.shape, image3.shape, image4.shape, image5.shape)"
   ]
  },
  {
   "cell_type": "code",
   "execution_count": null,
   "metadata": {},
   "outputs": [],
   "source": [
    "print(image0.shape, image1.shape, image2.shape, image3.shape, image4.shape, image5.shape)"
   ]
  },
  {
   "cell_type": "code",
   "execution_count": null,
   "metadata": {},
   "outputs": [],
   "source": [
    "import numpy as np\n",
    "import pandas as pd\n",
    "import matplotlib.pyplot as plt\n",
    "\n",
    "from disentangle.analysis.plot_utils import clean_ax\n",
    "_,ax = plt.subplots(figsize=(18,3),ncols=6)\n",
    "ax[0].imshow(image0[20,::4,::4], cmap='gray')\n",
    "ax[1].imshow(image1[20,::4,::4], cmap='gray')\n",
    "ax[2].imshow(image2[30,::4,::4], cmap='gray')\n",
    "ax[3].imshow(image3[20,::4,::4], cmap='gray')\n",
    "ax[4].imshow(image4[20,::4,::4], cmap='gray')\n",
    "ax[5].imshow(image5[20,::4,::4], cmap='gray')\n",
    "clean_ax(ax)\n",
    "# reduce the space between subplots\n",
    "plt.subplots_adjust(wspace=0.01)\n",
    "# pd.Series(image3.reshape(-1)).value_counts().sort_index().iloc[3:].plot(marker='.')"
   ]
  },
  {
   "cell_type": "code",
   "execution_count": null,
   "metadata": {},
   "outputs": [],
   "source": [
    "data.shape"
   ]
  },
  {
   "cell_type": "code",
   "execution_count": null,
   "metadata": {},
   "outputs": [],
   "source": [
    "from disentangle.core.tiff_reader import load_tiff\n",
    "data = load_tiff('/group/jug/ashesh/n2v_predictions/HHMI25/Composite_region1_CF_L3L3.tif')"
   ]
  },
  {
   "cell_type": "code",
   "execution_count": null,
   "metadata": {},
   "outputs": [],
   "source": [
    "import matplotlib.pyplot as plt\n",
    "# 6 columns, 1 row\n",
    "_,ax = plt.subplots(figsize=(18,3),ncols=6)\n",
    "for i in range(6):\n",
    "    ax[i].imshow(data[20,i,::4,::4], cmap='gray')\n",
    "    ax[i].set_title(f'Channel {i}')"
   ]
  },
  {
   "cell_type": "code",
   "execution_count": null,
   "metadata": {},
   "outputs": [],
   "source": []
  },
  {
   "cell_type": "code",
   "execution_count": null,
   "metadata": {},
   "outputs": [],
   "source": [
    "import numpy as np\n",
    "\n",
    "def get_noisy_data(base_data, sigma, poisson):\n",
    "    gaus_noise = 0\n",
    "    pois_data = base_data\n",
    "    if sigma is not None:\n",
    "        gaus_noise = np.random.normal(0, sigma, base_data.shape)\n",
    "\n",
    "    if poisson is not None:\n",
    "        pois_data = np.random.poisson(base_data // poisson) * poisson\n",
    "\n",
    "    noisy_data = pois_data + gaus_noise\n",
    "    noisy_data [ noisy_data < 0 ] = 0\n",
    "    noisy_data[ noisy_data > 65535 ] = 65535\n",
    "    return noisy_data.astype(np.uint16)\n",
    "\n"
   ]
  },
  {
   "cell_type": "code",
   "execution_count": null,
   "metadata": {},
   "outputs": [],
   "source": [
    "image = data[:,2].copy()\n",
    "image[image < 0] = 0\n",
    "\n",
    "sigma = 100\n",
    "poisson = 100\n",
    "noisy_image = get_noisy_data(image, sigma=sigma, poisson=poisson)"
   ]
  },
  {
   "cell_type": "code",
   "execution_count": null,
   "metadata": {},
   "outputs": [],
   "source": [
    "base_data = image2[:4]\n",
    "sigma = 2000 \n",
    "poisson = 5000\n",
    "noisy_data = get_noisy_data(base_data, sigma, poisson)\n",
    "\n",
    "hs = 400\n",
    "ws = 400\n",
    "sz = 100\n",
    "img_idx = 0\n",
    "_,ax = plt.subplots(figsize=(8,4),ncols=2)\n",
    "ax[0].imshow(base_data[img_idx, hs:hs+sz,ws:ws+sz], cmap='magma')\n",
    "ax[1].imshow(noisy_data[img_idx, hs:hs+sz,ws:ws+sz], cmap='magma')"
   ]
  },
  {
   "cell_type": "code",
   "execution_count": null,
   "metadata": {},
   "outputs": [],
   "source": [
    "noisy_data = data.copy()\n",
    "for i in range(6):\n",
    "    noisy_data[i] = get_noisy_data(noisy_data[i], sigma, poisson)"
   ]
  },
  {
   "cell_type": "code",
   "execution_count": null,
   "metadata": {},
   "outputs": [],
   "source": [
    "import numpy as np\n",
    "import pandas as pd\n",
    "import matplotlib.pyplot as plt\n",
    "sz = 400\n",
    "from disentangle.analysis.plot_utils import clean_ax\n",
    "_,ax = plt.subplots(figsize=(18,6),ncols=6,nrows=2)\n",
    "ax[0,0].imshow(data[0][10,:sz, :sz], cmap='magma')\n",
    "ax[0,1].imshow(data[1][10,:sz, :sz], cmap='magma')\n",
    "ax[0,2].imshow(data[2][10,:sz, :sz], cmap='magma')\n",
    "ax[0,3].imshow(data[3][10,:sz, :sz], cmap='magma')\n",
    "ax[0,4].imshow(data[4][10,:sz, :sz], cmap='magma')\n",
    "ax[0,5].imshow(data[5][10,:sz, :sz], cmap='magma')\n",
    "\n",
    "ax[1,0].imshow(noisy_data[0][10,:sz, :sz], cmap='magma')\n",
    "ax[1,1].imshow(noisy_data[1][10,:sz, :sz], cmap='magma')\n",
    "ax[1,2].imshow(noisy_data[2][10,:sz, :sz], cmap='magma')\n",
    "ax[1,3].imshow(noisy_data[3][10,:sz, :sz], cmap='magma')\n",
    "ax[1,4].imshow(noisy_data[4][10,:sz, :sz], cmap='magma')\n",
    "ax[1,5].imshow(noisy_data[5][10,:sz, :sz], cmap='magma')\n",
    "\n",
    "clean_ax(ax)\n",
    "# reduce the space between subplots\n",
    "plt.subplots_adjust(wspace=0.01)\n",
    "# pd.Series(image3.reshape(-1)).value_counts().sort_index().iloc[3:].plot(marker='.')"
   ]
  },
  {
   "cell_type": "code",
   "execution_count": null,
   "metadata": {},
   "outputs": [],
   "source": [
    "import os\n",
    "from disentangle.core.tiff_reader import save_tiff\n",
    "outputdir = f'/group/jug/ashesh/data/HHMI25_v2_noisy/gaus-{sigma}_pois-{poisson}/n2v_denoising'\n",
    "os.makedirs(outputdir, exist_ok=True)\n",
    "for ch in range(6):\n",
    "    path = os.path.join(outputdir, f'subset_Ch{ch}.tif')\n",
    "    save_tiff(path, noisy_data[ch][:10])\n",
    "    print(path)"
   ]
  },
  {
   "cell_type": "code",
   "execution_count": null,
   "metadata": {},
   "outputs": [],
   "source": [
    "from disentangle.core.tiff_reader import load_tiff\n",
    "image = load_tiff('/group/jug/ashesh/n2v_predictions/HHMI25_discrete/Composite_region1_CF_L3L3.tif')[:10,[1,2,3]]\n",
    "image.shape"
   ]
  },
  {
   "cell_type": "code",
   "execution_count": null,
   "metadata": {},
   "outputs": [],
   "source": [
    "sigma = 30\n",
    "poisson = 20\n",
    "noisy_image = get_noisy_data(image, sigma, poisson)"
   ]
  },
  {
   "cell_type": "code",
   "execution_count": null,
   "metadata": {},
   "outputs": [],
   "source": [
    "import matplotlib.pyplot as plt\n",
    "_,ax = plt.subplots(figsize=(8,4),ncols=2)\n",
    "ax[0].imshow(noisy_image[0,2])"
   ]
  },
  {
   "cell_type": "code",
   "execution_count": null,
   "metadata": {},
   "outputs": [],
   "source": []
  }
 ],
 "metadata": {
  "kernelspec": {
   "display_name": "usplit_vdi",
   "language": "python",
   "name": "python3"
  },
  "language_info": {
   "codemirror_mode": {
    "name": "ipython",
    "version": 3
   },
   "file_extension": ".py",
   "mimetype": "text/x-python",
   "name": "python",
   "nbconvert_exporter": "python",
   "pygments_lexer": "ipython3",
   "version": "3.9.19"
  }
 },
 "nbformat": 4,
 "nbformat_minor": 2
}
