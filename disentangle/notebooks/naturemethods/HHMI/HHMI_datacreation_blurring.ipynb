{
 "cells": [
  {
   "cell_type": "code",
   "execution_count": null,
   "metadata": {},
   "outputs": [],
   "source": [
    "from disentangle.core.tiff_reader import load_tiff\n",
    "datadir = '/group/jug/ashesh/data/HHMI25/'\n",
    "blur_sigma = 0.2\n",
    "output_dir = f'/group/jug/ashesh/data/HHMI25_blur_sigma_{blur_sigma}/'\n",
    "fnames = [\n",
    "    'Composite_region1_CF_L3L3.tif',\n",
    "'Composite_region3_6am_CF_L3L2.tif',\n",
    "'Composite_region5_6am_L3L1.tif',\n",
    "'Composite_region2_6AM_CF_L3L3.tif',\n",
    "'Composite_region4_6am_L3L2.tif',\n",
    "'Composite_region7_CF_12noon_L3L4.tif',\n",
    "]"
   ]
  },
  {
   "cell_type": "code",
   "execution_count": null,
   "metadata": {},
   "outputs": [],
   "source": [
    "data = load_tiff(datadir + fnames[0])\n",
    "data.shape"
   ]
  },
  {
   "cell_type": "code",
   "execution_count": null,
   "metadata": {},
   "outputs": [],
   "source": [
    "from scipy.ndimage import gaussian_filter\n",
    "blurred = gaussian_filter(data*1.0, sigma=(0, 0, blur_sigma, blur_sigma))"
   ]
  },
  {
   "cell_type": "code",
   "execution_count": null,
   "metadata": {},
   "outputs": [],
   "source": [
    "blurred"
   ]
  },
  {
   "cell_type": "code",
   "execution_count": null,
   "metadata": {},
   "outputs": [],
   "source": [
    "import numpy as np\n",
    "# len(np.unique(blurred))"
   ]
  },
  {
   "cell_type": "code",
   "execution_count": null,
   "metadata": {},
   "outputs": [],
   "source": [
    "one_img = gaussian_filter(data[10,1]*1.0,sigma=blur_sigma)\n",
    "assert (one_img == blurred[10,1]).all()  # should be True"
   ]
  },
  {
   "cell_type": "code",
   "execution_count": null,
   "metadata": {},
   "outputs": [],
   "source": [
    "import matplotlib.pyplot as plt\n",
    "_,ax = plt.subplots(figsize=(12,6),ncols=2)\n",
    "test_blur_sigma=0.2\n",
    "img = data[0,1]*1.0\n",
    "blurred_img = gaussian_filter(img, sigma=test_blur_sigma)\n",
    "ax[0].imshow(img[:400,:400], cmap='gray')\n",
    "ax[1].imshow(blurred_img[:400,:400], cmap='gray')\n",
    "print(len(np.unique(blurred_img))/1000, len(np.unique(img)))"
   ]
  },
  {
   "cell_type": "code",
   "execution_count": null,
   "metadata": {},
   "outputs": [],
   "source": [
    "# resize using\n",
    "from skimage.transform import resize\n",
    "from disentangle.core.tiff_reader import save_tiff\n",
    "import os\n",
    "from tqdm import tqdm\n",
    "\n",
    "for fname in tqdm(fnames):\n",
    "    fpath = os.path.join(datadir, fname)\n",
    "    data = load_tiff(fpath)\n",
    "    # image_resized = resize(data*1.0, (data.shape[0], data.shape[1], data.shape[-2] // resize_factor, data.shape[-1] // resize_factor), anti_aliasing=True) \n",
    "    data_blurred = gaussian_filter(data*1.0, sigma=(0, 0, blur_sigma, blur_sigma))\n",
    "    output_fpath = os.path.join(output_dir, fname)\n",
    "    print(data_blurred.shape, output_fpath)\n",
    "    save_tiff(output_fpath, data_blurred)\n"
   ]
  },
  {
   "cell_type": "code",
   "execution_count": null,
   "metadata": {},
   "outputs": [],
   "source": [
    "break here"
   ]
  },
  {
   "cell_type": "code",
   "execution_count": null,
   "metadata": {},
   "outputs": [],
   "source": [
    "# downsample by 2, but no antialiasing\n",
    "# resize using\n",
    "from skimage.transform import resize\n",
    "from disentangle.core.tiff_reader import save_tiff\n",
    "import os\n",
    "from tqdm import tqdm\n",
    "output_dir = '/group/jug/ashesh/data/HHMI25_downsampled_by_2'\n",
    "for fname in tqdm(fnames):\n",
    "    fpath = os.path.join(datadir, fname)\n",
    "    data = load_tiff(fpath)\n",
    "    # image_resized = resize(data*1.0, (data.shape[0], data.shape[1], data.shape[-2] // resize_factor, data.shape[-1] // resize_factor), anti_aliasing=True) \n",
    "    data_downsampled = data[:,:,::2, ::2]  # downsample by 2\n",
    "    output_fpath = os.path.join(output_dir, fname)\n",
    "    print(data_blurred.shape, output_fpath)\n",
    "    save_tiff(output_fpath, data_blurred)\n"
   ]
  },
  {
   "cell_type": "code",
   "execution_count": null,
   "metadata": {},
   "outputs": [],
   "source": []
  },
  {
   "cell_type": "code",
   "execution_count": null,
   "metadata": {},
   "outputs": [],
   "source": []
  },
  {
   "cell_type": "code",
   "execution_count": null,
   "metadata": {},
   "outputs": [],
   "source": []
  },
  {
   "cell_type": "code",
   "execution_count": null,
   "metadata": {},
   "outputs": [],
   "source": [
    "image.shape"
   ]
  },
  {
   "cell_type": "code",
   "execution_count": null,
   "metadata": {},
   "outputs": [],
   "source": [
    "import matplotlib.pyplot as plt\n",
    "plt.imshow(image[0,::4,::4])"
   ]
  },
  {
   "cell_type": "code",
   "execution_count": null,
   "metadata": {},
   "outputs": [],
   "source": [
    "image0 = chosen.getFrame(T=0, channel=0, dtype = np.uint16)\n",
    "image1 = chosen.getFrame(T=0, channel=1, dtype = np.uint16)\n",
    "image2 = chosen.getFrame(T=0, channel=2, dtype = np.uint16)\n",
    "image3 = chosen.getFrame(T=0, channel=3, dtype = np.uint16)\n",
    "image4 = chosen.getFrame(T=0, channel=4, dtype = np.uint16)\n",
    "image5 = chosen.getFrame(T=0, channel=5, dtype = np.uint16)"
   ]
  },
  {
   "cell_type": "code",
   "execution_count": null,
   "metadata": {},
   "outputs": [],
   "source": [
    "import numpy as np\n",
    "import pandas as pd\n",
    "from disentangle.analysis.plot_utils import clean_ax\n",
    "_,ax = plt.subplots(figsize=(18,3),ncols=6)\n",
    "ax[0].imshow(image0[20,::4,::4], cmap='gray')\n",
    "ax[1].imshow(image1[20,::4,::4], cmap='gray')\n",
    "ax[2].imshow(image2[30,::4,::4], cmap='gray')\n",
    "ax[3].imshow(image3[20,::4,::4], cmap='gray')\n",
    "ax[4].imshow(image4[20,::4,::4], cmap='gray')\n",
    "ax[5].imshow(image5[20,::4,::4], cmap='gray')\n",
    "clean_ax(ax)\n",
    "# pd.Series(image3.reshape(-1)).value_counts().sort_index().iloc[3:].plot(marker='.')"
   ]
  },
  {
   "cell_type": "code",
   "execution_count": null,
   "metadata": {},
   "outputs": [],
   "source": [
    "ncount16 = len(np.unique(image0_16bit))\n",
    "ncount8  = len(np.unique(image0_8bit))"
   ]
  },
  {
   "cell_type": "code",
   "execution_count": null,
   "metadata": {},
   "outputs": [],
   "source": [
    "print(ncount16, ncount8, ncount16/ncount8)"
   ]
  },
  {
   "cell_type": "code",
   "execution_count": null,
   "metadata": {},
   "outputs": [],
   "source": [
    "plt.imshow(image0_8bit[10,::4,::4], cmap='gray')"
   ]
  },
  {
   "cell_type": "code",
   "execution_count": null,
   "metadata": {},
   "outputs": [],
   "source": []
  }
 ],
 "metadata": {
  "kernelspec": {
   "display_name": "Python 3",
   "language": "python",
   "name": "python3"
  },
  "language_info": {
   "codemirror_mode": {
    "name": "ipython",
    "version": 3
   },
   "file_extension": ".py",
   "mimetype": "text/x-python",
   "name": "python",
   "nbconvert_exporter": "python",
   "pygments_lexer": "ipython3",
   "version": "3.9.19"
  }
 },
 "nbformat": 4,
 "nbformat_minor": 2
}
