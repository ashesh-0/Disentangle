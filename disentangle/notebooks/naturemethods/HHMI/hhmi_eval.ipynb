{
 "cells": [
  {
   "cell_type": "code",
   "execution_count": null,
   "metadata": {},
   "outputs": [],
   "source": [
    "from disentangle.core.tiff_reader import load_tiff\n",
    "from skimage.transform import resize\n",
    "\n",
    "output_data_dir = '/group/jug/ashesh/naturemethods/hhmi'\n",
    "k_idx = 3\n",
    "# orig_res_fpath = '/group/jug/ashesh/data/paper_stats/Test_P128_G3-64-64_M50_Sk0/pred_training_disentangle_2506_D32-M3-S0-L8_6_1.tif'\n",
    "orig_res_fpath = '/group/jug/ashesh/data/paper_stats/Test_P64_G32_M40_Sk0/pred_training_disentangle_2505_D32-M3-S0-L8_26_1.tif'\n",
    "half_res_fpath = '/group/jug/ashesh/data/paper_stats/Test_P64_G32_M50_Sk0/pred_training_disentangle_2505_D32-M3-S0-L8_27_1.tif'\n",
    "gt_fpath = f'/group/jug/ashesh/kth_data/D32/kth{k_idx}/gt_for_pred_training_disentangle_2505_D32-M3-S0-L8_27_1.tif'\n",
    "\n",
    "gt = load_tiff(gt_fpath)\n",
    "orig = load_tiff(orig_res_fpath).squeeze()\n",
    "half = load_tiff(half_res_fpath).squeeze()\n",
    "orig = orig[k_idx]\n",
    "half = half[k_idx]\n",
    "\n",
    "# gt_resized = resize(gt*1.0, (gt.shape[0]//2, gt.shape[1] // 2, gt.shape[2]), anti_aliasing=True) \n",
    "orig_resized = resize(orig*1.0, (orig.shape[0]//2, orig.shape[1] // 2, orig.shape[2]), anti_aliasing=True)\n",
    "orig.shape, half.shape, gt.shape, orig_resized.shape"
   ]
  },
  {
   "cell_type": "code",
   "execution_count": null,
   "metadata": {},
   "outputs": [],
   "source": [
    "import numpy as np\n",
    "import matplotlib.pyplot as plt\n",
    "from disentangle.analysis.plot_utils import clean_ax, add_text\n",
    "savefig = True\n",
    "\n",
    "def add_title(ax, title, offset=0, alpha=0.9):\n",
    "    ax.text(65+offset, 85, title, bbox=dict(facecolor='white', alpha=alpha))\n",
    "\n",
    "fontsize=13\n",
    "q = 0.92\n",
    "q_val0 = np.quantile(gt[...,0], q)\n",
    "q_val1 = np.quantile(gt[...,1], q)\n",
    "q_val2 = np.quantile(gt[...,2], q)\n",
    "mask0 = gt[...,0] > q_val0\n",
    "mask1 = gt[...,1] > q_val1\n",
    "mask2 = gt[...,2] > q_val2\n",
    "_,ax = plt.subplots(figsize=(9,9),ncols=3,nrows=3)\n",
    "ax[0,0].imshow(gt[...,0], cmap='magma')\n",
    "ax[0,1].imshow(gt[...,1], cmap='magma')\n",
    "ax[0,2].imshow(gt[...,2], cmap='magma')\n",
    "ax[1,0].imshow(mask0, cmap='gray')\n",
    "ax[1,1].imshow(mask1, cmap='gray')\n",
    "ax[1,2].imshow(mask2, cmap='gray')\n",
    "ax[2,0].imshow(gt[...,0] * mask0, cmap='magma')\n",
    "ax[2,1].imshow(gt[...,1] * mask1, cmap='magma')\n",
    "ax[2,2].imshow(gt[...,2] * mask2, cmap='magma')\n",
    "\n",
    "# avg intensities.\n",
    "avg0 = np.sum(gt[...,0] * mask0)/np.sum(mask0)\n",
    "add_title(ax[2,0], f' Avg. Non-zero Intensity: {avg0:.0f}')\n",
    "avg1 = np.sum(gt[...,1] * mask1)/np.sum(mask1)\n",
    "add_title(ax[2,1], f' Avg. Non-zero Intensity: {avg1:.0f}', offset=15)\n",
    "avg2 = np.sum(gt[...,2] * mask2)/np.sum(mask2)\n",
    "add_title(ax[2,2], f' Avg. Non-zero Intensity: {avg2:.0f}', offset=30)\n",
    "\n",
    "\n",
    "ax[0,0].set_ylabel('Target', fontsize=fontsize)\n",
    "ax[1,0].set_ylabel('Mask (92 percentile)', fontsize=fontsize)\n",
    "ax[2,0].set_ylabel('Masked Target', fontsize=fontsize)\n",
    "ax[0,0].set_title('Ch0', fontsize=fontsize)\n",
    "ax[0,1].set_title('Ch1', fontsize=fontsize)\n",
    "ax[0,2].set_title('Ch2', fontsize=fontsize)\n",
    "\n",
    "\n",
    "clean_ax(ax)\n",
    "# reduce the size between subplots to 0.02\n",
    "plt.subplots_adjust(wspace=0.02, hspace=0.02)\n",
    "\n",
    "print(np.mean(gt[mask0, 0]), np.mean(gt[mask1, 1]), np.mean(gt[mask2, 2]))\n",
    "if savefig:\n",
    "    fpath = f'{output_data_dir}/hhmi_kth{k_idx}_skew.png'\n",
    "    print(f'Saving figure to {fpath}')\n",
    "    plt.savefig(fpath, dpi=100, bbox_inches='tight')"
   ]
  },
  {
   "cell_type": "code",
   "execution_count": null,
   "metadata": {},
   "outputs": [],
   "source": [
    "import numpy as np  \n",
    "print('0', np.quantile(gt[...,0], [0.92,0.99,0.995]).round())\n",
    "print('1', np.quantile(gt[...,1], [0.92,0.99,0.995]).round())\n",
    "print('2', np.quantile(gt[...,2], [0.92,0.99,0.995]).round())"
   ]
  },
  {
   "cell_type": "code",
   "execution_count": null,
   "metadata": {},
   "outputs": [],
   "source": [
    "from disentangle.core.psnr import RangeInvariantPsnr\n",
    "ch_idx = 2\n",
    "print(RangeInvariantPsnr(gt[None,...,ch_idx], half[None,...,ch_idx]).item(),RangeInvariantPsnr(gt[None,...,ch_idx], orig_resized[None,...,ch_idx]).item()) "
   ]
  },
  {
   "cell_type": "code",
   "execution_count": null,
   "metadata": {},
   "outputs": [],
   "source": [
    "from disentangle.analysis.plot_utils import clean_ax, add_text\n",
    "import matplotlib.pyplot as plt\n",
    "from matplotlib_scalebar.scalebar import ScaleBar\n",
    "from disentangle.core.psnr import RangeInvariantPsnr\n",
    "import os\n",
    "\n",
    "output_data_dir = '/group/jug/ashesh/naturemethods/hhmi'\n",
    "savefig = True\n",
    "\n",
    "_,ax = plt.subplots(figsize=(16,12),ncols=4,nrows=3)\n",
    "\n",
    "scalebar = ScaleBar(45, \n",
    "                        \"nm\", \n",
    "                        # length_fraction=0.1, \n",
    "                        box_alpha=0.6, frameon=True, location='upper right', font_properties={'size':12})\n",
    "\n",
    "ax[0,0].add_artist(scalebar)\n",
    "\n",
    "for i in range(3):\n",
    "    ax[0,i+1].imshow(gt[...,i], cmap='magma')\n",
    "    add_text(ax[0, i+1], f'Target', gt.shape[-3:-1], place='TOP_RIGHT', alpha=0.7)\n",
    "\n",
    "ax[0,0].imshow(gt.mean(axis=-1), cmap='magma')\n",
    "for i in range(3):\n",
    "    ax[1,i+1].imshow(orig[...,i], cmap='magma')\n",
    "    add_text(ax[1, i+1], f' Pred ', orig.shape[-3:-1], place='TOP_RIGHT', alpha=0.7)\n",
    "    psnr = RangeInvariantPsnr(gt[None,...,i], orig_resized[None,...,i]).item()\n",
    "    psnr_str = f'PSNR: {psnr:.1f}'\n",
    "    add_text(ax[1, i+1], psnr_str, orig.shape[-3:-1], place='TOP_LEFT', alpha=0.7)\n",
    "\n",
    "\n",
    "for i in range(3):\n",
    "    ax[2,i+1].imshow(half[...,i], cmap='magma')\n",
    "    add_text(ax[2, i+1], f' Pred ', half.shape[-3:-1], place='TOP_RIGHT', alpha=0.7)\n",
    "    psnr = RangeInvariantPsnr(gt[None,...,i], half[None,...,i]).item()\n",
    "    psnr_str = f'PSNR: {psnr:.1f}'\n",
    "    add_text(ax[2, i+1], psnr_str, half.shape[-3:-1], place='TOP_LEFT', alpha=0.7)\n",
    "\n",
    "# disable the axis ax[1,0] and ax[2,0]\n",
    "ax[1,0].axis('off')\n",
    "ax[2,0].axis('off')\n",
    "\n",
    "ax[0,0].set_title('Input', fontsize=fontsize)\n",
    "ax[0,1].set_title('Ch1', fontsize=fontsize)\n",
    "ax[0,2].set_title('Ch2', fontsize=fontsize)\n",
    "ax[0,3].set_title('Ch3', fontsize=fontsize)\n",
    "\n",
    "ax[1,1].set_ylabel('On Raw Inputs', fontsize=fontsize)\n",
    "ax[2,1].set_ylabel('On Binned Inputs', fontsize=fontsize)\n",
    "\n",
    "# reduce size between the subplots\n",
    "plt.subplots_adjust(wspace=0.02, hspace=0.02)\n",
    "clean_ax(ax)\n",
    "if savefig:\n",
    "    fpath = os.path.join(output_data_dir, f'hhmi_comparison_{k_idx}.png')\n",
    "    print(fpath)\n",
    "    plt.savefig(fpath, dpi=150, bbox_inches='tight')\n"
   ]
  },
  {
   "cell_type": "code",
   "execution_count": null,
   "metadata": {},
   "outputs": [],
   "source": [
    "from disentangle.data_loader.multitiffsamesized_raw_dloader import get_train_val_data as _loadmultitiff\n",
    "from disentangle.config_utils import load_config\n",
    "from disentangle.core.data_split_type import DataSplitType\n",
    "from disentangle.core.tiff_reader import load_tiff\n",
    "\n",
    "datadir = '/group/jug/ashesh/data/HHMI25/'\n",
    "config = load_config('/group/jug/ashesh/training/disentangle/2505/D32-M3-S0-L8/26')\n",
    "val_data = _loadmultitiff(datadir, config.data, datasplit_type=DataSplitType.Test)\n",
    "tar = val_data[0][0]*1.0  # target data\n",
    "# pred = load_tiff('/group/jug/ashesh/data/paper_stats/Test_P64_G32_M50_Sk0/pred_training_disentangle_2505_D32-M3-S0-L8_26_1.tif').squeeze()\n",
    "pred = load_tiff(orig_res_fpath).squeeze()\n",
    "print(tar.shape, pred.shape)"
   ]
  },
  {
   "cell_type": "code",
   "execution_count": null,
   "metadata": {},
   "outputs": [],
   "source": [
    "val_data[0][0].max(), pred.max()"
   ]
  },
  {
   "cell_type": "code",
   "execution_count": null,
   "metadata": {},
   "outputs": [],
   "source": [
    "from disentangle.scripts.evaluate import compute_high_snr_stats\n",
    "compute_high_snr_stats(tar[:5], pred[:5])"
   ]
  },
  {
   "cell_type": "code",
   "execution_count": null,
   "metadata": {},
   "outputs": [],
   "source": [
    "from skimage.transform import resize\n",
    "\n",
    "tar_resized = resize(tar, (tar.shape[0], tar.shape[1]//2, tar.shape[2] // 2, tar.shape[3]), anti_aliasing=True) \n",
    "pred_resized =resize(pred, (pred.shape[0], pred.shape[1]//2, pred.shape[2] // 2, pred.shape[3]), anti_aliasing=True) \n",
    "compute_high_snr_stats(tar_resized[:5], pred_resized[:5])\n"
   ]
  },
  {
   "cell_type": "code",
   "execution_count": null,
   "metadata": {},
   "outputs": [],
   "source": [
    "compute_high_snr_stats(tar_resized, pred_resized)\n"
   ]
  },
  {
   "cell_type": "code",
   "execution_count": null,
   "metadata": {},
   "outputs": [],
   "source": []
  },
  {
   "cell_type": "code",
   "execution_count": null,
   "metadata": {},
   "outputs": [],
   "source": [
    "from disentangle.core.tiff_reader import load_tiff\n",
    "tmp = load_tiff('/group/jug/ashesh/data/paper_stats/Test_P64_G3-32-32_M50_Sk0/kth_5/pred_training_disentangle_2507_D33-M3-S0-L8_19_1.tif')\n",
    "tmp_gt = load_tiff('/group/jug/ashesh/kth_data/D33/kth5/gt_for_pred_training_disentangle_2507_D33-M3-S0-L8_19_1.tif')"
   ]
  },
  {
   "cell_type": "code",
   "execution_count": null,
   "metadata": {},
   "outputs": [],
   "source": [
    "tmp.shape"
   ]
  },
  {
   "cell_type": "code",
   "execution_count": null,
   "metadata": {},
   "outputs": [],
   "source": [
    "import matplotlib.pyplot as plt\n",
    "# 6 columns, 2 rows\n",
    "_, ax = plt.subplots(ncols=6, nrows=2, figsize=(12, 4))\n",
    "for i in range(6):\n",
    "    ax[0,i].imshow(tmp[:1000,:1000,i], cmap='magma')\n",
    "    ax[1,i].imshow(tmp_gt[:1000,:1000,i], cmap='magma')\n",
    "    ax[0,i].set_title(f'Pred Ch{i}')\n",
    "    ax[1,i].set_title(f'GT Ch{i}')\n",
    "    ax[0,i].axis('off')\n",
    "    ax[1,i].axis('off')"
   ]
  },
  {
   "cell_type": "code",
   "execution_count": null,
   "metadata": {},
   "outputs": [],
   "source": [
    "tmp.shape"
   ]
  },
  {
   "cell_type": "code",
   "execution_count": null,
   "metadata": {},
   "outputs": [],
   "source": []
  }
 ],
 "metadata": {
  "kernelspec": {
   "display_name": "usplit_vdi",
   "language": "python",
   "name": "python3"
  },
  "language_info": {
   "codemirror_mode": {
    "name": "ipython",
    "version": 3
   },
   "file_extension": ".py",
   "mimetype": "text/x-python",
   "name": "python",
   "nbconvert_exporter": "python",
   "pygments_lexer": "ipython3",
   "version": "3.9.19"
  }
 },
 "nbformat": 4,
 "nbformat_minor": 2
}
