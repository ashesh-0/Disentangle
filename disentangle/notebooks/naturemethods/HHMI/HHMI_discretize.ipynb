{
 "cells": [
  {
   "cell_type": "code",
   "execution_count": null,
   "id": "71b355ed",
   "metadata": {},
   "outputs": [],
   "source": [
    "import os\n",
    "import numpy as np\n",
    "from disentangle.core.tiff_reader import load_tiff, save_tiff\n",
    "inputdir = '/group/jug/ashesh/n2v_predictions/HHMI25/'\n",
    "outputdir ='/group/jug/ashesh/n2v_predictions/HHMI25_discrete'\n",
    "for f in os.listdir(inputdir):\n",
    "    if f.endswith('.tif'):\n",
    "        print(f)\n",
    "        path = os.path.join(inputdir, f)\n",
    "        data = load_tiff(path)\n",
    "        print(data.min(), data.max(), data.shape)\n",
    "        data[data < 0] = 0\n",
    "        data[data > 255] = 255\n",
    "        data = data.astype(np.uint8)\n",
    "        outpath = os.path.join(outputdir, f)\n",
    "        save_tiff(outpath, data)\n",
    "        print(f'Saved to {outpath}')"
   ]
  }
 ],
 "metadata": {
  "language_info": {
   "name": "python"
  }
 },
 "nbformat": 4,
 "nbformat_minor": 5
}
