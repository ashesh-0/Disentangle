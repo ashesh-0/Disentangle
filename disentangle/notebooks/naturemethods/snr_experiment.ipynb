{
 "cells": [
  {
   "cell_type": "code",
   "execution_count": null,
   "metadata": {},
   "outputs": [],
   "source": [
    "fpath_dict = {\n",
    " '2ms': '/group/jug/ashesh/data/paper_stats/Test_P64_G32_M50_Sk0/pred_training_disentangle_2406_D25-M3-S0-L8_4_1.tif',\n",
    " '3ms': '/group/jug/ashesh/data/paper_stats/Test_P64_G32_M50_Sk0/pred_training_disentangle_2406_D25-M3-S0-L8_5_1.tif',\n",
    " '5ms': '/group/jug/ashesh/data/paper_stats/Test_P64_G32_M50_Sk0/pred_training_disentangle_2406_D25-M3-S0-L8_6_1.tif',\n",
    " '20ms': '/group/jug/ashesh/data/paper_stats/Test_P64_G32_M50_Sk0/pred_training_disentangle_2406_D25-M3-S0-L8_14_1.tif',\n",
    " '500ms': '/group/jug/ashesh/data/paper_stats/Test_P64_G32_M50_Sk0/pred_training_disentangle_2406_D25-M3-S0-L8_17_1.tif',\n",
    " }"
   ]
  },
  {
   "cell_type": "code",
   "execution_count": null,
   "metadata": {},
   "outputs": [],
   "source": [
    "from disentangle.core.tiff_reader import load_tiff\n",
    "data_dict = {}\n",
    "for key in fpath_dict.keys():\n",
    "    fpath = fpath_dict[key]\n",
    "    data_dict[key] = load_tiff(fpath)"
   ]
  },
  {
   "cell_type": "code",
   "execution_count": null,
   "metadata": {},
   "outputs": [],
   "source": [
    "# GT \n",
    "import ml_collections as ml\n",
    "from disentangle.core.data_type import DataType\n",
    "from disentangle.data_loader.nikola_7D_rawdata_loader import NikolaChannelList\n",
    "from disentangle.data_loader.train_val_data import get_train_val_data\n",
    "from disentangle.core.data_split_type import DataSplitType\n",
    "\n",
    "datadir = '/group/jug/ashesh/data/nikola_data/20240531/'\n",
    "GT_dict = {}\n",
    "config = ml.ConfigDict()\n",
    "config.data = ml.ConfigDict()\n",
    "config.data.enable_gaussian_noise = False\n",
    "config.data.data_type = DataType.NicolaData\n",
    "config.data.channel_idx_list = [NikolaChannelList.Ch_B, NikolaChannelList.Ch_C, NikolaChannelList.Ch_D]\n",
    "config.training = ml.ConfigDict()\n",
    "\n",
    "for key in ['2ms', '3ms', '5ms', '20ms', '500ms']:\n",
    "    config.data.dset_type = key\n",
    "    data_GT = get_train_val_data(config.data,datadir, DataSplitType.Test,\n",
    "                                                    val_fraction=0.1,\n",
    "                        test_fraction=0.1,\n",
    "    )\n",
    "    GT_dict[key] = data_GT\n"
   ]
  },
  {
   "cell_type": "code",
   "execution_count": null,
   "metadata": {},
   "outputs": [],
   "source": [
    "data_GT.shape"
   ]
  },
  {
   "cell_type": "code",
   "execution_count": null,
   "metadata": {},
   "outputs": [],
   "source": [
    "import matplotlib.pyplot as plt\n",
    "from disentangle.analysis.plot_utils import clean_ax\n",
    "imgsz = 3\n",
    "_,ax = plt.subplots(figsize=(6*imgsz, 4*imgsz),ncols=6,nrows=4)\n",
    "fontsize = 16\n",
    "img_idx = 0\n",
    "hs = 0\n",
    "ws = 0\n",
    "hN = 300\n",
    "wN = 300\n",
    "ax[0,0].set_ylabel('Input', fontsize=fontsize)\n",
    "\n",
    "for i, key in enumerate(['2ms', '3ms', '5ms', '20ms', '500ms']):\n",
    "    # input \n",
    "    ax[0, i].imshow(GT_dict[key][img_idx,hs:hs+hN, ws:ws+wN, -1], cmap='magma')\n",
    "\n",
    "    # prediction\n",
    "    for cidx in range(3):\n",
    "        ax[cidx+1, i].imshow(data_dict[key][img_idx,hs:hs+hN, ws:ws+wN, cidx], cmap='magma')\n",
    "        # ax[cidx+1, i].axis('off')\n",
    "    \n",
    "    ax[0, i].set_title(f'Exposure={key}', fontsize=fontsize)\n",
    "\n",
    "for cidx in range(3):\n",
    "    ax[1+cidx, 5].imshow(data_GT[img_idx, hs:hs+hN, ws:ws+wN, cidx], cmap='magma')\n",
    "    # ax[1+cidx, 5].axis('off')\n",
    "\n",
    "ax[0,5].axis('off')\n",
    "ax[1,5].set_title('Target', fontsize=fontsize)\n",
    "\n",
    "ax[0,0].set_ylabel('Input', fontsize=fontsize)\n",
    "ax[1, 0].set_ylabel('Prediction Ch1', fontsize=fontsize)\n",
    "ax[2, 0].set_ylabel('Prediction Ch2', fontsize=fontsize)\n",
    "ax[3, 0].set_ylabel('Prediction Ch3', fontsize=fontsize)\n",
    "clean_ax(ax)\n",
    "# reduce the space between subplots\n",
    "plt.subplots_adjust(wspace=0.02, hspace=0.02)\n",
    "\n",
    "fpath ='/group/jug/ashesh/naturemethods/snr/htlif24_perf_variation_with_snr.png'\n",
    "plt.savefig(fpath, dpi=150, bbox_inches='tight')\n",
    "print(fpath)"
   ]
  },
  {
   "cell_type": "code",
   "execution_count": null,
   "metadata": {},
   "outputs": [],
   "source": [
    "! ls "
   ]
  },
  {
   "cell_type": "code",
   "execution_count": null,
   "metadata": {},
   "outputs": [],
   "source": []
  }
 ],
 "metadata": {
  "kernelspec": {
   "display_name": "Python 3",
   "language": "python",
   "name": "python3"
  },
  "language_info": {
   "codemirror_mode": {
    "name": "ipython",
    "version": 3
   },
   "file_extension": ".py",
   "mimetype": "text/x-python",
   "name": "python",
   "nbconvert_exporter": "python",
   "pygments_lexer": "ipython3",
   "version": "3.9.19"
  }
 },
 "nbformat": 4,
 "nbformat_minor": 2
}
