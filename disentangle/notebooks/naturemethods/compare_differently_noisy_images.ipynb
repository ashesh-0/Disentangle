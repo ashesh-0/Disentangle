{
 "cells": [
  {
   "cell_type": "code",
   "execution_count": null,
   "metadata": {},
   "outputs": [],
   "source": [
    "import matplotlib.pyplot as plt\n",
    "from disentangle.configs.nikola_7D_config import get_config\n",
    "import ml_collections\n",
    "from disentangle.core.data_split_type import DataSplitType\n",
    "from disentangle.data_loader.nikola_7D_rawdata_loader import get_train_val_data\n",
    "from disentangle.data_loader.nikola_7D_rawdata_loader import NikolaChannelList\n",
    "\n",
    "\n",
    "config = ml_collections.ConfigDict()\n",
    "config.data = ml_collections.ConfigDict()\n",
    "\n",
    "config.data.enable_gaussian_noise = False\n",
    "config.data.dset_type = '500ms'\n",
    "datadir = '/group/jug/ashesh/data/nikola_data/20240531/'\n",
    "config.data.channel_idx_list = [NikolaChannelList.Ch_A, NikolaChannelList.Ch_B, NikolaChannelList.Ch_C]\n",
    "high_snr_data = get_train_val_data(datadir, config.data, DataSplitType.Test,0.1, 0.1)\n",
    "_,ax = plt.subplots(figsize=(18,6),ncols=3)\n",
    "ax[0].imshow(high_snr_data[0,...,0])\n",
    "ax[1].imshow(high_snr_data[0,...,1])\n",
    "ax[2].imshow(high_snr_data[0,...,2])# 'high', [0, 1]"
   ]
  },
  {
   "cell_type": "code",
   "execution_count": null,
   "metadata": {},
   "outputs": [],
   "source": [
    "config.data.dset_type = '20ms'\n",
    "data_2ms = get_train_val_data(datadir, config.data, DataSplitType.Test,0.1, 0.1)\n",
    "\n"
   ]
  },
  {
   "cell_type": "code",
   "execution_count": null,
   "metadata": {},
   "outputs": [],
   "source": [
    "from disentangle.scripts.evaluate import compute_high_snr_stats"
   ]
  },
  {
   "cell_type": "code",
   "execution_count": null,
   "metadata": {},
   "outputs": [],
   "source": [
    "_ = compute_high_snr_stats(high_snr_data, data_2ms)\n",
    "print('Acquisition duration', config.data.dset_type)"
   ]
  },
  {
   "cell_type": "code",
   "execution_count": null,
   "metadata": {},
   "outputs": [],
   "source": []
  }
 ],
 "metadata": {
  "kernelspec": {
   "display_name": "Python 3",
   "language": "python",
   "name": "python3"
  },
  "language_info": {
   "codemirror_mode": {
    "name": "ipython",
    "version": 3
   },
   "file_extension": ".py",
   "mimetype": "text/x-python",
   "name": "python",
   "nbconvert_exporter": "python",
   "pygments_lexer": "ipython3",
   "version": "3.9.19"
  }
 },
 "nbformat": 4,
 "nbformat_minor": 2
}
