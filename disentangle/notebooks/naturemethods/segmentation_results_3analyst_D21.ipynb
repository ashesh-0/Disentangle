{
 "cells": [
  {
   "cell_type": "code",
   "execution_count": null,
   "metadata": {},
   "outputs": [],
   "source": [
    "inputdir = '/facility/imganfacusers/Ashesh/NatureMethodsSegmentation/2404_D21-M3-S0-L8_6/'\n",
    "segmentationdir = '/facility/imganfacusers/Ashesh/NatureMethodsSegmentationOutputs/Analysis_2404_D21-m3-S0-L8_6/'\n",
    "OUTPUT_DIR = '/group/jug/ashesh/naturemethods/segmentation/three_analysts/2404_D21-M3-S0-L8_6/'"
   ]
  },
  {
   "cell_type": "code",
   "execution_count": null,
   "metadata": {},
   "outputs": [],
   "source": [
    "from disentangle.core.tiff_reader import load_tiff\n",
    "import os\n",
    "ch_idx = 0 # which channel are we interested in doing segmentation.\n",
    "crop_size = 1600 # because the prediction is for top left 1600x1600, we need to crop the GT to match the size.\n",
    "gt = load_tiff(os.path.join(inputdir, 'GT.tif'))[:,:crop_size, :crop_size,:]\n",
    "pred  = load_tiff(os.path.join(inputdir, 'pred_disentangle_2404_D21-M3-S0-L8_6_1.tif'))\n",
    "pred = pred[...,:crop_size, :crop_size]\n",
    "pred.shape, gt.shape"
   ]
  },
  {
   "cell_type": "code",
   "execution_count": null,
   "metadata": {},
   "outputs": [],
   "source": [
    "# gt = load_tiff('/facility/imganfacusers/Ashesh/NatureMethodsSegmentationOutputs/Analysis_2404_D21-m3-S0-L8_6/data_DDN/gt_ch2/GT-2.tif')\n",
    "# gt_seg = load_tiff('/facility/imganfacusers/Ashesh/NatureMethodsSegmentationOutputs/Analysis_2404_D21-m3-S0-L8_6/data_DDN/gt_ch2/seg.tif')\n",
    "# pred = load_tiff('/facility/imganfacusers/Ashesh/NatureMethodsSegmentationOutputs/Analysis_2404_D21-m3-S0-L8_6/data_DDN/pred_ch2/pred_ch2.tif')\n",
    "# pred_seg = load_tiff('/facility/imganfacusers/Ashesh/NatureMethodsSegmentationOutputs/Analysis_2404_D21-m3-S0-L8_6/data_DDN/pred_ch2/seg.tif')\n"
   ]
  },
  {
   "cell_type": "code",
   "execution_count": null,
   "metadata": {},
   "outputs": [],
   "source": [
    "input = gt[...,2]\n",
    "gt_ch = gt[...,ch_idx]\n",
    "pred_ch = pred[:,ch_idx]\n",
    "raw_dict = {'input':input, 'pred':pred_ch, 'GT':gt_ch}\n"
   ]
  },
  {
   "cell_type": "code",
   "execution_count": null,
   "metadata": {},
   "outputs": [],
   "source": [
    "from collections import defaultdict\n",
    "def load_segmentation():\n",
    "    # 2 level nested dictionary\n",
    "    segmentation = defaultdict(lambda: defaultdict(list))\n",
    "    for analystdir in os.listdir(segmentationdir):\n",
    "        if os.path.isdir(os.path.join(segmentationdir,analystdir)):\n",
    "            for subdir in [f'gt_ch{ch_idx+1}','superimposed',f'pred_ch{ch_idx+1}']:\n",
    "                fpath = os.path.join(segmentationdir, analystdir, subdir, 'Seg.tif')\n",
    "                assert os.path.exists(fpath), f'File {fpath} does not exist'\n",
    "                if subdir.startswith('gt_ch'):\n",
    "                    key = 'GT'\n",
    "                elif subdir.startswith('pred_ch'):\n",
    "                    key = 'pred'\n",
    "                elif subdir.startswith('superimposed'):\n",
    "                    key = 'input'\n",
    "                else:\n",
    "                    raise ValueError(f'Unknown subdir {subdir}')\n",
    "                segmentation[analystdir][key].append(load_tiff(fpath)[..., :crop_size, :crop_size])\n",
    "                if key == 'input':\n",
    "                    if analystdir != 'data_JD':\n",
    "                        segmentation[analystdir][key][-1] = segmentation[analystdir][key][-1] == ch_idx + 1\n",
    "                    else:\n",
    "                        segmentation[analystdir][key][-1] = segmentation[analystdir][key][-1] == (2*(ch_idx + 1) %3)\n",
    "                print(analystdir, key, segmentation[analystdir][key][-1].shape)\n",
    "    return segmentation"
   ]
  },
  {
   "cell_type": "code",
   "execution_count": null,
   "metadata": {},
   "outputs": [],
   "source": [
    "seg_data = load_segmentation()\n",
    "seg_data['data_JD']['input'][0] = seg_data['data_JD']['input'][0][None]\n",
    "analysts  = list(seg_data.keys())\n",
    "analysts"
   ]
  },
  {
   "cell_type": "code",
   "execution_count": null,
   "metadata": {},
   "outputs": [],
   "source": [
    "for i in range(5):\n",
    "    print(dice_coefficient(seg_data['data_JD']['GT'][0][i], seg_data['data_JMB']['GT'][0][i]))"
   ]
  },
  {
   "cell_type": "code",
   "execution_count": null,
   "metadata": {},
   "outputs": [],
   "source": [
    "import matplotlib.pyplot as plt\n",
    "_,ax = plt.subplots(figsize=(10,5),ncols=2)\n",
    "ax[0].imshow(seg_data['data_JD']['GT'][0][i])\n",
    "ax[1].imshow(seg_data['data_JMB']['GT'][0][i]\n",
    "             )"
   ]
  },
  {
   "cell_type": "code",
   "execution_count": null,
   "metadata": {},
   "outputs": [],
   "source": []
  },
  {
   "cell_type": "code",
   "execution_count": null,
   "metadata": {},
   "outputs": [],
   "source": []
  },
  {
   "cell_type": "code",
   "execution_count": null,
   "metadata": {},
   "outputs": [],
   "source": [
    "import matplotlib.pyplot as plt\n",
    "from disentangle.analysis.plot_utils import clean_ax\n",
    "\n",
    "ex_idx =0\n",
    "transpose = False\n",
    "save_to_file = False\n",
    "\n",
    "\n",
    "\n",
    "ncols=4\n",
    "nrows = 3\n",
    "subres = 4\n",
    "# how much do we want to reduce the width of the image\n",
    "width_factor = 5/12\n",
    "new_w = int(gt.shape[-2]*width_factor)\n",
    "new_w += (gt.shape[-2] - new_w)%2\n",
    "extra_w = (gt.shape[-2] - new_w)//2\n",
    "imgsz = 3\n",
    "_, ax = plt.subplots(figsize=(ncols*imgsz*width_factor, nrows*imgsz), ncols=ncols, nrows=nrows)\n",
    "\n",
    "for d_idx, datatype in enumerate(['input','pred','GT']):\n",
    "    raw_img = raw_dict[datatype][ex_idx]\n",
    "    if transpose:\n",
    "        raw_img = raw_img.T\n",
    "    ax[d_idx,0].imshow(raw_img[:,extra_w:-extra_w][::subres,::subres], cmap='magma')\n",
    "    for a_idx, analyst in enumerate(analysts):\n",
    "        seg_img = seg_data[analyst][datatype][0][ex_idx]\n",
    "        print(seg_img.shape)\n",
    "        if transpose:\n",
    "            seg_img = seg_img.T\n",
    "        ax[d_idx, 1+a_idx].imshow(seg_img[:,extra_w:-extra_w][::subres,::subres], cmap='gray')\n",
    "        # ax[d_idx, 1+a_idx].set_title(f'{analyst} {datatype}')\n",
    "\n",
    "clean_ax(ax)\n",
    "# remove subspaces between subplots\n",
    "plt.subplots_adjust(wspace=0.02, hspace=0.02)\n",
    "if save_to_file:\n",
    "    model_token = os.path.basename(inputdir.strip('/'))\n",
    "    fname = f'segmentation_3analyst_Idx{ex_idx}_{model_token}.png'\n",
    "    fpath = os.path.join(OUTPUT_DIR, fname)\n",
    "    print(fpath)\n",
    "    plt.savefig(fpath, dpi = 100, bbox_inches='tight')\n"
   ]
  },
  {
   "cell_type": "markdown",
   "metadata": {},
   "source": [
    "## Single reviewer prediction"
   ]
  },
  {
   "cell_type": "code",
   "execution_count": null,
   "metadata": {},
   "outputs": [],
   "source": [
    "import numpy as np\n",
    "def dice_coefficient(x,y):\n",
    "    assert set(np.unique(x)) == set([0,1])\n",
    "    assert set(np.unique(y)) == set([0,1])\n",
    "    intersection = np.sum(x[y==1])\n",
    "    union = np.sum(x) + np.sum(y)\n",
    "    return 2*intersection/union\n",
    "\n",
    "def add_text(ax, text, img_shape, place='TOP_LEFT'):\n",
    "    \"\"\"\n",
    "    Adding text on image\n",
    "    \"\"\"\n",
    "    assert place in ['TOP_LEFT', 'BOTTOM_RIGHT']\n",
    "    if place == 'TOP_LEFT':\n",
    "        ax.text(20, 40, text, bbox=dict(facecolor='white', alpha=0.9))\n",
    "    elif place == 'BOTTOM_RIGHT':\n",
    "        s0 = img_shape[1]\n",
    "        s1 = img_shape[0]\n",
    "        ax.text(s0 - s0 * 150 / 500, s1 - s1 * 35 / 500, text, bbox=dict(facecolor='white', alpha=0.9))\n"
   ]
  },
  {
   "cell_type": "code",
   "execution_count": null,
   "metadata": {},
   "outputs": [],
   "source": [
    "from disentangle.analysis.plot_utils import clean_ax\n",
    "import matplotlib.pyplot as plt\n",
    "\n",
    "OneAnalyst_OUTPUT_DIR = OUTPUT_DIR.replace('three_analysts', 'one_analyst')\n",
    "img_idx = 0\n",
    "reviewer_key = 'data_JD'\n",
    "seg_input = seg_data[reviewer_key]['input'][0][img_idx]\n",
    "seg_pred = seg_data[reviewer_key]['pred'][0][img_idx]\n",
    "seg_GT = seg_data[reviewer_key]['GT'][0][img_idx]\n",
    "\n",
    "img_size = 5\n",
    "hs = 200\n",
    "he = 800\n",
    "\n",
    "ws = 200\n",
    "we = 800\n",
    "save_to_file = False\n",
    "\n",
    "_,ax = plt.subplots(figsize=(3*img_size, 2*img_size), ncols=3,nrows=2)\n",
    "ax[0,0].imshow(raw_dict['input'][img_idx][hs:he,ws:we], cmap='gray')\n",
    "ax[0,1].imshow(raw_dict['pred'][img_idx][hs:he,ws:we], cmap='gray')\n",
    "ax[0,2].imshow(raw_dict['GT'][img_idx][hs:he,ws:we], cmap='gray')\n",
    "ax[1,0].imshow(seg_input[hs:he,ws:we], cmap='gray')\n",
    "ax[1,1].imshow(seg_pred[hs:he,ws:we], cmap='gray')\n",
    "ax[1,2].imshow(seg_GT[hs:he,ws:we], cmap='gray')\n",
    "\n",
    "dice_input = dice_coefficient(seg_GT.flatten() > 0, seg_input.flatten() >0)\n",
    "dice_pred = dice_coefficient(seg_GT.flatten() > 0, seg_pred.flatten() >0)\n",
    "add_text(ax[1,0], f'DICE: {dice_input:.2f}', seg_input.shape, place='TOP_LEFT')\n",
    "add_text(ax[1,1], f'DICE: {dice_pred:.2f}', seg_input.shape, place='TOP_LEFT')\n",
    "\n",
    "\n",
    "clean_ax(ax)\n",
    "# remove the space between the subplots\n",
    "plt.subplots_adjust(wspace=0.05, hspace=0.05)\n",
    "if save_to_file:\n",
    "    model_token = os.path.basename(inputdir.strip('/'))\n",
    "    fname = f'segmentation_1analyst_reviewer:{reviewer_key}_Imgidx:{img_idx}_{model_token}_{hs}-{he}-{ws}-{we}.png'\n",
    "    fpath = os.path.join(OneAnalyst_OUTPUT_DIR, fname)\n",
    "    print(fpath)\n",
    "    plt.savefig(fpath, dpi = 100, bbox_inches='tight')\n"
   ]
  },
  {
   "cell_type": "code",
   "execution_count": null,
   "metadata": {},
   "outputs": [],
   "source": [
    "seg_data.keys()"
   ]
  },
  {
   "cell_type": "code",
   "execution_count": null,
   "metadata": {},
   "outputs": [],
   "source": [
    "dice_score_dict= {}\n",
    "reviewers = ['data_DDN','data_JMB', 'data_JD']\n",
    "for review in reviewers:\n",
    "    reviewer_seg = seg_data[review]\n",
    "    gt_seg = reviewer_seg['GT'][0]\n",
    "    pred_seg = reviewer_seg['pred'][0]\n",
    "    input_seg = reviewer_seg['input'][0]\n",
    "    dice_scores_pred = [dice_coefficient(gt.flatten() > 0, pred.flatten() > 0) for gt, pred in zip(gt_seg, pred_seg)]\n",
    "    dice_scores_input = [dice_coefficient(gt.flatten() > 0, input.flatten() > 0) for gt, input in zip(gt_seg, input_seg)]\n",
    "\n",
    "    dice_score_dict[review] = {'pred':dice_scores_pred, \n",
    "                               'input':dice_scores_input}"
   ]
  },
  {
   "cell_type": "code",
   "execution_count": null,
   "metadata": {},
   "outputs": [],
   "source": [
    "import pandas as pd\n",
    "pred_df = pd.DataFrame.from_dict({r:dice_score_dict[r]['pred'] for r in reviewers})\n",
    "inp_df = pd.DataFrame.from_dict({r:dice_score_dict[r]['input'] for r in reviewers})\n",
    "\n",
    "avg_pred = pred_df.mean(axis=0)\n",
    "avg_inp = inp_df.mean(axis=0)\n",
    "\n",
    "stderr_pred = pred_df.std(axis=0)/np.sqrt(pred_df.shape[0])\n",
    "stderr_inp = inp_df.std(axis=0)/np.sqrt(inp_df.shape[0])"
   ]
  },
  {
   "cell_type": "code",
   "execution_count": null,
   "metadata": {},
   "outputs": [],
   "source": [
    "import matplotlib.pyplot as plt\n",
    "_,ax = plt.subplots(figsize=(8,4))\n",
    "labels = avg_pred.index\n",
    "x = np.arange(len(labels))/2\n",
    "width = 0.1\n",
    "\n",
    "rects1 = ax.bar(x - width/2, avg_pred, width, label='MicroSplit Prediction', yerr=stderr_pred, capsize=3, color='cyan', ecolor='black')\n",
    "rects2 = ax.bar(x + width/2, avg_inp, width, label='MicrosSplit Input', yerr=stderr_inp, capsize=3, color='grey', ecolor='black')\n",
    "\n",
    "ax.set_ylabel('Dice Similarity Coefficient')\n",
    "ax.set_title('Segmentation Performance by Independent Analysts')\n",
    "ax.set_xticks(x)\n",
    "ax.set_xticklabels(['Analyst 1', 'Analyst 2'])\n",
    "ax.legend(loc='upper right')\n",
    "ax.set_ylim([0,1.1])\n"
   ]
  },
  {
   "cell_type": "code",
   "execution_count": null,
   "metadata": {},
   "outputs": [],
   "source": [
    "pred_df"
   ]
  },
  {
   "cell_type": "code",
   "execution_count": null,
   "metadata": {},
   "outputs": [],
   "source": [
    "import pandas as pd\n",
    "\n",
    "dice_GT_score_dict= {}\n",
    "for i1,an1 in enumerate(analysts):\n",
    "    for i2,an2 in enumerate(analysts[i1+1:]):\n",
    "        if an1 == an2:\n",
    "            continue\n",
    "        \n",
    "        assert len(seg_data[an1]['GT']) == 1\n",
    "        gt_seg1 = seg_data[an1]['GT'][0]\n",
    "        gt_seg2 = seg_data[an2]['GT'][0]\n",
    "        print(an1, an2)\n",
    "        dice_GT_score_dict[f'A{i1}-A{i1+i2+1}'] = [dice_coefficient(gt1.flatten() > 0, gt2.flatten() > 0) for gt1, gt2 in zip(gt_seg1, gt_seg2)]\n",
    "inter_reviewer_variability_df = pd.DataFrame.from_dict(dice_GT_score_dict)"
   ]
  },
  {
   "cell_type": "code",
   "execution_count": null,
   "metadata": {},
   "outputs": [],
   "source": [
    "pred_df.columns = [f'A{i}' for i in range(3)]\n",
    "pred_df"
   ]
  },
  {
   "cell_type": "code",
   "execution_count": null,
   "metadata": {},
   "outputs": [],
   "source": [
    "import seaborn as sns\n",
    "\n",
    "sns.boxplot(pd.concat([pred_df, inter_reviewer_variability_df], axis=1), fill=True)\n",
    "# plt.ylim(0.7,0.9)\n"
   ]
  },
  {
   "cell_type": "code",
   "execution_count": null,
   "metadata": {},
   "outputs": [],
   "source": []
  }
 ],
 "metadata": {
  "kernelspec": {
   "display_name": "Python 3",
   "language": "python",
   "name": "python3"
  },
  "language_info": {
   "codemirror_mode": {
    "name": "ipython",
    "version": 3
   },
   "file_extension": ".py",
   "mimetype": "text/x-python",
   "name": "python",
   "nbconvert_exporter": "python",
   "pygments_lexer": "ipython3",
   "version": "3.9.19"
  }
 },
 "nbformat": 4,
 "nbformat_minor": 2
}
