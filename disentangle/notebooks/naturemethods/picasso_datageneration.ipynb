{
 "cells": [
  {
   "cell_type": "code",
   "execution_count": null,
   "metadata": {},
   "outputs": [],
   "source": [
    "# def mixing_weights_3(alpha):\n",
    "#     w_for_first = [0.5, 0.3, 0.2]\n",
    "#     w_for_second = [0.4,0.5,0.1]\n",
    "#     w_for_third = [0.15 ,0.2,0.4]\n",
    "#     return w_for_first, w_for_second, w_for_third"
   ]
  },
  {
   "cell_type": "code",
   "execution_count": null,
   "metadata": {},
   "outputs": [],
   "source": [
    "# from disentangle.core.tiff_reader import load_tiff\n",
    "# data = load_tiff('/group/jug/ashesh/data/microscopy/OptiMEM100x014_medium_spatially_large.tif')"
   ]
  },
  {
   "cell_type": "code",
   "execution_count": null,
   "metadata": {},
   "outputs": [],
   "source": [
    "# _,ax = plt.subplots(figsize=(12,4),ncols=3)\n",
    "# ax[0].imshow(act_tub[...,0])\n",
    "# ax[1].imshow(act_tub[...,1])\n",
    "# ax[2].imshow(act_tub[...,2])"
   ]
  },
  {
   "cell_type": "code",
   "execution_count": null,
   "metadata": {},
   "outputs": [],
   "source": [
    "# import matplotlib.pyplot as plt\n",
    "# plt.imshow(data[0,::4,::4,3])"
   ]
  },
  {
   "cell_type": "code",
   "execution_count": null,
   "metadata": {},
   "outputs": [],
   "source": [
    "# from disentangle.core.tiff_reader import save_tiff\n",
    "# import numpy as np\n",
    "# act_tub  = data[0,...,[0,2,3]]\n",
    "# act_tub = np.moveaxis(act_tub, 0, -1)\n",
    "# act_tub.shape\n",
    "# # save_tiff('picasso_input_pavia_nuc_ac_tub.tif', act_tub)"
   ]
  },
  {
   "cell_type": "code",
   "execution_count": null,
   "metadata": {},
   "outputs": [],
   "source": [
    "# act_tub.shape\n",
    "# output = np.zeros_like(act_tub)\n",
    "# w0,w1,w2 = mixing_weights_3(0.15)\n",
    "# print(w0)\n",
    "# print(w1)\n",
    "# print(w2)\n",
    "# output[...,0] = act_tub[...,0] * w0[0] + act_tub[...,1] * w0[1] + act_tub[...,2] * w0[2]/np.sum(w0)\n",
    "# output[...,1] = (act_tub[...,0] * w1[0] + act_tub[...,1] * w1[0] + act_tub[...,2] * w1[2])/np.sum(w1)\n",
    "# output[...,2] = (act_tub[...,0] * w2[0] + act_tub[...,1] * w2[1] + act_tub[...,2] * w2[2])/np.sum(w2)\n",
    "# # for i in range"
   ]
  },
  {
   "cell_type": "code",
   "execution_count": null,
   "metadata": {},
   "outputs": [],
   "source": [
    "output.std()"
   ]
  },
  {
   "cell_type": "code",
   "execution_count": null,
   "metadata": {},
   "outputs": [],
   "source": [
    "# noise = np.random.normal(scale=200, size = output.shape)\n",
    "# noisy_output = output + noise\n",
    "# noisy_output[noisy_output < 0] = 0\n",
    "# noisy_output = noisy_output.astype(np.uint16)"
   ]
  },
  {
   "cell_type": "code",
   "execution_count": null,
   "metadata": {},
   "outputs": [],
   "source": [
    "plt.imshow(noisy_output[...,2])"
   ]
  },
  {
   "cell_type": "code",
   "execution_count": null,
   "metadata": {},
   "outputs": [],
   "source": [
    "# save_tiff('picasso_input_pavia_nuc_ac_tub.tif', noisy_output)"
   ]
  },
  {
   "cell_type": "code",
   "execution_count": null,
   "metadata": {},
   "outputs": [],
   "source": [
    "break here"
   ]
  },
  {
   "cell_type": "markdown",
   "metadata": {},
   "source": [
    "## Nicola"
   ]
  },
  {
   "cell_type": "code",
   "execution_count": null,
   "metadata": {},
   "outputs": [],
   "source": [
    "def mixing_weights_logic(factor):\n",
    "    \"\"\"\n",
    "    The brightest channel is factor times brighter than the second brightest channel\n",
    "    x + x/factor + x/(factor*2) = 1\n",
    "    \"\"\"\n",
    "    assert factor >= 1\n",
    "    w_bright = factor/(factor + 1.5)\n",
    "    w_mid = 1/(factor + 1.5)\n",
    "    w_dark = 0.5/(factor + 1.5)\n",
    "    return {'bright': w_bright, 'mid': w_mid, 'dark': w_dark}\n",
    "    # x + x/factor + x/(factor*2) = 1\n",
    "    # x(factor + 1 + 0.5)/factor = 1\n",
    "    # x = factor/(factor + 1.5)\n",
    "\n",
    "def mixing_weights_for_three(factor):\n",
    "    w_dict= mixing_weights_logic(factor)\n",
    "    w_for_first = [w_dict['bright'], w_dict['mid'], w_dict['dark']]\n",
    "    w_for_second = [w_dict['mid'], w_dict['bright'], w_dict['mid']]\n",
    "    w_for_third = [w_dict['dark'], w_dict['mid'], w_dict['bright']]\n",
    "    return w_for_first, w_for_second, w_for_third\n",
    "    \n",
    "def mixing_weights_for_three_asymmetric(factor, asymmetry_offset=0.05, reverse_factor_offset=0.05):\n",
    "    w_dict= mixing_weights_logic(factor)\n",
    "    w_for_first = [w_dict['bright'], w_dict['mid'], w_dict['dark']]\n",
    "    w_for_second = [w_dict['mid']-asymmetry_offset, w_dict['bright'], w_dict['mid']+asymmetry_offset]\n",
    "    \n",
    "    w_dict = mixing_weights_logic(factor+reverse_factor_offset)\n",
    "    w_for_third = [w_dict['dark'], w_dict['mid'], w_dict['bright']]\n",
    "    return w_for_first, w_for_second, w_for_third\n",
    "    "
   ]
  },
  {
   "cell_type": "code",
   "execution_count": null,
   "metadata": {},
   "outputs": [],
   "source": [
    "a,b,c = mixing_weights_for_three(1.5)\n",
    "print(a,b,c)"
   ]
  },
  {
   "cell_type": "code",
   "execution_count": null,
   "metadata": {},
   "outputs": [],
   "source": [
    "# def mixing_weights_3(alpha):\n",
    "#     w_for_first = [0.5, 0.3, 0.2]\n",
    "#     w_for_second = [0.4,0.5,0.1]\n",
    "#     w_for_third = [0.15 ,0.2,0.4]\n",
    "#     return w_for_first, w_for_second, w_for_third"
   ]
  },
  {
   "cell_type": "code",
   "execution_count": null,
   "metadata": {},
   "outputs": [],
   "source": [
    "from disentangle.data_loader.nikola_7D_rawdata_loader import get_raw_files_dict, load_one_fpath,NikolaChannelList, get_train_val_data\n",
    "from disentangle.config_utils import load_config\n",
    "import os\n",
    "import numpy as np\n",
    "from disentangle.core.data_split_type import DataSplitType\n",
    "\n",
    "datadir = '/group/jug/ashesh/data/nikola_data/20240531/'\n",
    "pkl_fpath = '/home/ashesh.ashesh/training/disentangle/2408/D25-M3-S0-L8/4'\n",
    "config = load_config(pkl_fpath)\n",
    "test_data= get_train_val_data(datadir, config.data, DataSplitType.Test, val_fraction=config.training.val_fraction, test_fraction=config.training.test_fraction)\n",
    "\n",
    "\n",
    "# fnames = get_raw_files_dict()['500ms']\n",
    "# fname = fnames[0]\n",
    "# fnames\n",
    "# data = load_one_fpath(os.path.join(datadir,fname),[NikolaChannelList.Ch_B, NikolaChannelList.Ch_C, NikolaChannelList.Ch_D,\n",
    "                                                #    ])"
   ]
  },
  {
   "cell_type": "code",
   "execution_count": null,
   "metadata": {},
   "outputs": [],
   "source": [
    "# nicola_image = data[0]\n",
    "# nicola_image.shape\n",
    "# for scale in np.arange(0, 1000, 100):\n",
    "#     noise = np.random.normal(scale=scale, size = nicola_image.shape)\n",
    "#     noisy_output = nicola_image + noise\n",
    "#     print(scale, noisy_output[...,0].std()/noisy_output[:250,:250,0].std())"
   ]
  },
  {
   "cell_type": "code",
   "execution_count": null,
   "metadata": {},
   "outputs": [],
   "source": [
    "# For 2ms exposure time, following is the std of just the noisy region and the full content std.\n",
    "# 2.89 just noise. \n",
    "# 3.30 is full content std."
   ]
  },
  {
   "cell_type": "code",
   "execution_count": null,
   "metadata": {},
   "outputs": [],
   "source": [
    "from disentangle.core.tiff_reader import save_tiff\n",
    "alpha = 2.5\n",
    "save_to_file = False\n",
    "\n",
    "for i,nicola_image in enumerate(test_data):\n",
    "    output = np.zeros_like(nicola_image)\n",
    "    w0,w1,w2 = mixing_weights_for_three(alpha)\n",
    "    # w0,w1,w2 = mixing_weights_for_three_asymmetric(alpha)\n",
    "    \n",
    "    print(w0)\n",
    "    output[...,0] = nicola_image[...,0] * w0[0] + nicola_image[...,1] * w0[1] + nicola_image[...,2] * w0[2]/np.sum(w0)\n",
    "    output[...,1] = (nicola_image[...,0] * w1[0] + nicola_image[...,1] * w1[0] + nicola_image[...,2] * w1[2])/np.sum(w1)\n",
    "    output[...,2] = (nicola_image[...,0] * w2[0] + nicola_image[...,1] * w2[1] + nicola_image[...,2] * w2[2])/np.sum(w2)\n",
    "\n",
    "    noise = np.random.normal(loc=5000,scale=500, size = output.shape)\n",
    "    # print(noise.std())\n",
    "    noisy_output = output + noise\n",
    "    print((noisy_output < 0).sum())\n",
    "    noisy_output[noisy_output < 0] = 0\n",
    "    noisy_output = noisy_output.astype(np.uint16)\n",
    "    if save_to_file:\n",
    "        save_tiff(f'picasso_input_nicola_BCD_alpha_{alpha}_{i}.tif', noisy_output)\n",
    "    else:\n",
    "        break\n",
    "\n",
    "if save_to_file:\n",
    "    save_tiff(f'picasso_clean_input_nicola_BCD_alpha_{alpha}_{i}.tif', output)"
   ]
  },
  {
   "cell_type": "code",
   "execution_count": null,
   "metadata": {},
   "outputs": [],
   "source": [
    "# save_tiff(f'picasso_input_nicola_BCD_asymmetric_alpha_{alpha}_{i}.tif', noisy_output)"
   ]
  },
  {
   "cell_type": "code",
   "execution_count": null,
   "metadata": {},
   "outputs": [],
   "source": [
    "import matplotlib.pyplot as plt\n",
    "_,ax = plt.subplots(figsize=(18,6),ncols=3)\n",
    "ax[0].imshow(noisy_output[:4000,:4000,0])\n",
    "ax[1].imshow(noisy_output[:4000,:4000,1])\n",
    "ax[2].imshow(noisy_output[:4000,:4000,2])"
   ]
  },
  {
   "cell_type": "code",
   "execution_count": null,
   "metadata": {},
   "outputs": [],
   "source": []
  }
 ],
 "metadata": {
  "kernelspec": {
   "display_name": "Python 3",
   "language": "python",
   "name": "python3"
  },
  "language_info": {
   "codemirror_mode": {
    "name": "ipython",
    "version": 3
   },
   "file_extension": ".py",
   "mimetype": "text/x-python",
   "name": "python",
   "nbconvert_exporter": "python",
   "pygments_lexer": "ipython3",
   "version": "3.9.19"
  }
 },
 "nbformat": 4,
 "nbformat_minor": 2
}
