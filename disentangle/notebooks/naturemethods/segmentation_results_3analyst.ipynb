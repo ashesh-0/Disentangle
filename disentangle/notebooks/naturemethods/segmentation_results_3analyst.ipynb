{
 "cells": [
  {
   "cell_type": "code",
   "execution_count": null,
   "metadata": {},
   "outputs": [],
   "source": [
    "inputdir = '/facility/imganfacusers/Ashesh/NatureMethodsSegmentation/2405_D18-M3-S0-L8_13/'\n",
    "segmentationdir = '/facility/imganfacusers/Ashesh/NatureMethodsSegmentationOutputs/Analysis_2405_D18-M3-S0-L8_13_1/'\n",
    "\n",
    "OUTPUT_DIR = '/group/jug/ashesh/naturemethods/segmentation/three_analysts/'\n"
   ]
  },
  {
   "cell_type": "code",
   "execution_count": null,
   "metadata": {},
   "outputs": [],
   "source": [
    "from disentangle.core.tiff_reader import load_tiff\n",
    "import os\n",
    "ch_idx = 1 # which channel are we interested in doing segmentation.\n",
    "gt = load_tiff(os.path.join(inputdir, 'GT.tif'))\n",
    "pred  = load_tiff(os.path.join(inputdir, 'pred_disentangle_2405_D18-M3-S0-L8_13_1.tif'))\n",
    "pred.shape"
   ]
  },
  {
   "cell_type": "code",
   "execution_count": null,
   "metadata": {},
   "outputs": [],
   "source": [
    "input = gt[:,0] + gt[:,1]\n",
    "gt_ch = gt[:,ch_idx]\n",
    "pred_ch = pred[:,ch_idx]\n",
    "raw_dict = {'input':input, 'pred':pred_ch, 'GT':gt_ch}\n"
   ]
  },
  {
   "cell_type": "code",
   "execution_count": null,
   "metadata": {},
   "outputs": [],
   "source": [
    "from collections import defaultdict\n",
    "def load_segmentation():\n",
    "    # 2 level nested dictionary\n",
    "    segmentation = defaultdict(lambda: defaultdict(list))\n",
    "    for analystdir in os.listdir(segmentationdir):\n",
    "        for subdir in ['GT','input','pred']:\n",
    "            dirpath = os.path.join(segmentationdir, analystdir, subdir)\n",
    "            fnames  = [f'seg_{i}.tif' for i in range(0,5)]\n",
    "            fpaths = [os.path.join(dirpath, fname) for fname in fnames]\n",
    "            for fpath in fpaths:\n",
    "                segmentation[analystdir][subdir].append(load_tiff(fpath))\n",
    "    return segmentation"
   ]
  },
  {
   "cell_type": "code",
   "execution_count": null,
   "metadata": {},
   "outputs": [],
   "source": [
    "seg_data = load_segmentation()\n",
    "analysts  = list(seg_data.keys())"
   ]
  },
  {
   "cell_type": "code",
   "execution_count": null,
   "metadata": {},
   "outputs": [],
   "source": [
    "# import matplotlib.pyplot as plt\n",
    "# from disentangle.analysis.plot_utils import clean_ax\n",
    "# ex_idx =4\n",
    "# ncols=4\n",
    "# nrows = 3\n",
    "# subres = 4\n",
    "\n",
    "# imgsz = 3\n",
    "# _, ax = plt.subplots(figsize=(ncols*imgsz, nrows*imgsz), ncols=ncols, nrows=nrows)\n",
    "\n",
    "# for d_idx, datatype in enumerate(['input','pred','GT']):\n",
    "#     ax[d_idx,0].imshow(raw_dict[datatype][ex_idx][::subres,::subres], cmap='magma')\n",
    "#     for a_idx, analyst in enumerate(analysts):\n",
    "#         ax[d_idx, 1+a_idx].imshow(seg_data[analyst][datatype][ex_idx][::subres,::subres], cmap='gray')\n",
    "#         # ax[d_idx, 1+a_idx].set_title(f'{analyst} {datatype}')\n",
    "\n",
    "# clean_ax(ax)\n",
    "# # remove subspaces between subplots\n",
    "# plt.subplots_adjust(wspace=0.02, hspace=0.02)\n"
   ]
  },
  {
   "cell_type": "code",
   "execution_count": null,
   "metadata": {},
   "outputs": [],
   "source": [
    "import matplotlib.pyplot as plt\n",
    "from disentangle.analysis.plot_utils import clean_ax\n",
    "\n",
    "ex_idx =4\n",
    "transpose = False\n",
    "save_to_file = True\n",
    "\n",
    "\n",
    "\n",
    "ncols=4\n",
    "nrows = 3\n",
    "subres = 4\n",
    "# how much do we want to reduce the width of the image\n",
    "width_factor = 5/12\n",
    "new_w = int(gt.shape[-2]*width_factor)\n",
    "new_w += (gt.shape[-2] - new_w)%2\n",
    "extra_w = (gt.shape[-2] - new_w)//2\n",
    "imgsz = 3\n",
    "_, ax = plt.subplots(figsize=(ncols*imgsz*width_factor, nrows*imgsz), ncols=ncols, nrows=nrows)\n",
    "\n",
    "for d_idx, datatype in enumerate(['input','pred','GT']):\n",
    "    raw_img = raw_dict[datatype][ex_idx]\n",
    "    if transpose:\n",
    "        raw_img = raw_img.T\n",
    "    ax[d_idx,0].imshow(raw_img[:,extra_w:-extra_w][::subres,::subres], cmap='magma')\n",
    "    for a_idx, analyst in enumerate(analysts):\n",
    "        seg_img = seg_data[analyst][datatype][ex_idx]\n",
    "        if transpose:\n",
    "            seg_img = seg_img.T\n",
    "        ax[d_idx, 1+a_idx].imshow(seg_img[:,extra_w:-extra_w][::subres,::subres], cmap='gray', vmin=0, vmax=1)\n",
    "        # ax[d_idx, 1+a_idx].set_title(f'{analyst} {datatype}')\n",
    "\n",
    "clean_ax(ax)\n",
    "# remove subspaces between subplots\n",
    "plt.subplots_adjust(wspace=0.02, hspace=0.02)\n",
    "if save_to_file:\n",
    "    model_token = os.path.basename(inputdir.strip('/'))\n",
    "    fname = f'segmentation_3analyst_Idx{ex_idx}_{model_token}.png'\n",
    "    fpath = os.path.join(OUTPUT_DIR, fname)\n",
    "    print(fpath)\n",
    "    plt.savefig(fpath, dpi = 100, bbox_inches='tight')\n"
   ]
  }
 ],
 "metadata": {
  "kernelspec": {
   "display_name": "Python 3",
   "language": "python",
   "name": "python3"
  },
  "language_info": {
   "codemirror_mode": {
    "name": "ipython",
    "version": 3
   },
   "file_extension": ".py",
   "mimetype": "text/x-python",
   "name": "python",
   "nbconvert_exporter": "python",
   "pygments_lexer": "ipython3",
   "version": "3.9.19"
  }
 },
 "nbformat": 4,
 "nbformat_minor": 2
}
