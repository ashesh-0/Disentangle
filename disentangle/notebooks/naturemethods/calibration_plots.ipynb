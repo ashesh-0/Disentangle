{
 "cells": [
  {
   "cell_type": "code",
   "execution_count": null,
   "metadata": {},
   "outputs": [],
   "source": [
    "import pickle\n",
    "fpaths = [\n",
    "    '/group/jug/ashesh/data/paper_stats/Test_P64_G32_M50_Sk8/calib_stats_training_disentangle_2404_D21-M3-S0-L8_6.pkl',\n",
    "'/group/jug/ashesh/data/paper_stats/Test_P64_G32_M50_Sk8/calib_stats_training_disentangle_2404_D25-M3-S0-L8_143.pkl',\n",
    "'/group/jug/ashesh/data/paper_stats/Test_P64_G32_M50_Sk8/calib_stats_training_disentangle_2404_D25-M3-S0-L8_111.pkl',\n",
    "'/group/jug/ashesh/data/paper_stats/Test_P64_G32_M50_Sk8/calib_stats_training_disentangle_2404_D25-M3-S0-L8_97.pkl',\n",
    "'/group/jug/ashesh/data/paper_stats/Test_P64_G32_M50_Sk8/calib_stats_training_disentangle_2404_D25-M3-S0-L8_120.pkl',\n",
    "'/group/jug/ashesh/data/paper_stats/Test_P64_G32_M50_Sk8/calib_stats_training_disentangle_2405_D25-M3-S0-L8_2.pkl',\n",
    "'/group/jug/ashesh/data/paper_stats/Test_P64_G32_M50_Sk8/calib_stats_training_disentangle_2404_D25-M3-S0-L8_125.pkl',\n",
    "'/group/jug/ashesh/data/paper_stats/Test_P64_G32_M50_Sk8/calib_stats_training_disentangle_2405_D25-M3-S0-L8_3.pkl',\n",
    "'/group/jug/ashesh/data/paper_stats/Test_P64_G32_M50_Sk8/calib_stats_training_disentangle_2404_D25-M3-S0-L8_139.pkl',\n",
    "\n",
    "]\n",
    "calib_fpath =fpaths[9]\n",
    "with open(calib_fpath, 'rb') as f:\n",
    "    calib_stats = pickle.load(f)\n"
   ]
  },
  {
   "cell_type": "code",
   "execution_count": null,
   "metadata": {},
   "outputs": [],
   "source": [
    "from disentangle.analysis.paper_plots import get_first_index, get_last_index\n",
    "q_s = 0.001\n",
    "q_e = 0.999\n"
   ]
  },
  {
   "cell_type": "code",
   "execution_count": null,
   "metadata": {},
   "outputs": [],
   "source": [
    "import matplotlib.pyplot as plt\n",
    "import os\n",
    "\n",
    "_,ax = plt.subplots(figsize=(2,2))\n",
    "for ch_idx in range(len(calib_stats['calib_stats'])):\n",
    "    tmp_stats = calib_stats['calib_stats'][ch_idx]\n",
    "    tmp_rmv = tmp_stats['rmv']\n",
    "    tmp_rmse = tmp_stats['rmse']\n",
    "    count = tmp_stats['bin_count']\n",
    "    first_idx = get_first_index(count, q_s)\n",
    "    last_idx = get_last_index(count, q_e)\n",
    "    plt.plot(tmp_rmv[first_idx:-last_idx],\n",
    "            tmp_rmse[first_idx:-last_idx],\n",
    "            '-+',\n",
    "            label='C{}'.format(ch_idx)\n",
    "            )\n",
    "plt.tight_layout()\n",
    "fname = os.path.basename(calib_fpath).replace('.pkl','.png')\n",
    "fpath = os.path.join('/group/jug/ashesh/naturemethods/calibration', fname)\n",
    "plt.savefig(fpath, dpi=200, bbox_inches='tight')\n",
    "print('Saved to {}'.format(fpath))\n",
    "plt.legend()\n"
   ]
  },
  {
   "cell_type": "code",
   "execution_count": null,
   "metadata": {},
   "outputs": [],
   "source": [
    "import os\n"
   ]
  },
  {
   "cell_type": "code",
   "execution_count": null,
   "metadata": {},
   "outputs": [],
   "source": []
  }
 ],
 "metadata": {
  "kernelspec": {
   "display_name": "Python 3",
   "language": "python",
   "name": "python3"
  },
  "language_info": {
   "codemirror_mode": {
    "name": "ipython",
    "version": 3
   },
   "file_extension": ".py",
   "mimetype": "text/x-python",
   "name": "python",
   "nbconvert_exporter": "python",
   "pygments_lexer": "ipython3",
   "version": "3.9.19"
  }
 },
 "nbformat": 4,
 "nbformat_minor": 2
}
