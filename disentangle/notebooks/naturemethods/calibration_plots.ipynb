{
 "cells": [
  {
   "cell_type": "code",
   "execution_count": null,
   "metadata": {},
   "outputs": [],
   "source": [
    "import pickle\n",
    "fpaths = [\n",
    "# '/group/jug/ashesh/data/paper_stats/Test_P64_G32_M50_Sk8/calib_stats_training_disentangle_2404_D21-M3-S0-L8_6.pkl',\n",
    "# '/group/jug/ashesh/data/paper_stats/Test_P64_G32_M50_Sk8/calib_stats_training_disentangle_2404_D25-M3-S0-L8_143.pkl',\n",
    "# '/group/jug/ashesh/data/paper_stats/Test_P64_G32_M50_Sk8/calib_stats_training_disentangle_2404_D25-M3-S0-L8_111.pkl',\n",
    "# '/group/jug/ashesh/data/paper_stats/Test_P64_G32_M50_Sk8/calib_stats_training_disentangle_2404_D25-M3-S0-L8_97.pkl',\n",
    "# '/group/jug/ashesh/data/paper_stats/Test_P64_G32_M50_Sk8/calib_stats_training_disentangle_2404_D25-M3-S0-L8_120.pkl',\n",
    "# '/group/jug/ashesh/data/paper_stats/Test_P64_G32_M50_Sk8/calib_stats_training_disentangle_2405_D25-M3-S0-L8_2.pkl',\n",
    "# '/group/jug/ashesh/data/paper_stats/Test_P64_G32_M50_Sk8/calib_stats_training_disentangle_2404_D25-M3-S0-L8_125.pkl',\n",
    "# '/group/jug/ashesh/data/paper_stats/Test_P64_G32_M50_Sk8/calib_stats_training_disentangle_2405_D25-M3-S0-L8_3.pkl',\n",
    "# '/group/jug/ashesh/data/paper_stats/Test_P64_G32_M50_Sk8/calib_stats_training_disentangle_2404_D25-M3-S0-L8_139.pkl',\n",
    "# '/group/jug/ashesh/data/paper_stats/Test_P64_G32_M50_Sk0/calib_stats_training_disentangle_2405_D18-M3-S0-L8_14.pkl',\n",
    "# '/group/jug/ashesh/data/paper_stats/Test_P64_G32_M50_Sk8/calib_stats_training_disentangle_2406_D25-M3-S0-L8_4.pkl',\n",
    "# '/group/jug/ashesh/data/paper_stats/Test_P64_G32_M50_Sk8/calib_stats_training_disentangle_2406_D25-M3-S0-L8_12.pkl'\n",
    "# '/group/jug/ashesh/data/paper_stats/Test_P64_G32_M50_Sk0/calib_stats_training_disentangle_2406_D25-M3-S0-L8_4.pkl'\n",
    "# '/group/jug/ashesh/data/paper_stats/Test_P64_G64_M3_Sk0/calib_stats_training_disentangle_2406_D25-M3-S0-L8_4.pkl'\n",
    "# '/group/jug/ashesh/data/paper_stats/Val_P64_G64_M3_Sk0/calib_stats_training_disentangle_2406_D25-M3-S0-L8_4.pkl',\n",
    "# '/group/jug/ashesh/data/paper_stats/Test_P64_G32_M50_Sk0/calib_stats_training_disentangle_2406_D25-M3-S0-L8_4.pkl'\n",
    "\n",
    "# nicola data\n",
    "# '/group/jug/ashesh/data/paper_stats/Test_P64_G32_M50_Sk0/calib_stats_training_disentangle_2501_D25-M3-S0-L8_3.pkl'\n",
    "# '/group/jug/ashesh/data/paper_stats/Test_P64_G32_M50_Sk0/calib_stats_training_disentangle_2406_D25-M3-S0-L8_10.pkl'\n",
    "# '/group/jug/ashesh/data/paper_stats/Test_P64_G32_M50_Sk0/calib_stats_training_disentangle_2406_D25-M3-S0-L8_4.pkl'\n",
    "# '/group/jug/ashesh/data/paper_stats/Test_P64_G32_M50_Sk0/calib_stats_training_disentangle_2406_D25-M3-S0-L8_5.pkl'\n",
    "# '/group/jug/ashesh/data/paper_stats/Test_P64_G32_M50_Sk0/calib_stats_training_disentangle_2406_D25-M3-S0-L8_6.pkl'\n",
    "# '/group/jug/ashesh/data/paper_stats/Test_P64_G32_M50_Sk0/calib_stats_training_disentangle_2406_D25-M3-S0-L8_14.pkl'\n",
    "# '/group/jug/ashesh/data/paper_stats/Test_P64_G32_M50_Sk0/calib_stats_training_disentangle_2406_D25-M3-S0-L8_17.pkl'\n",
    "# '/group/jug/ashesh/data/paper_stats/Test_P64_G32_M50_Sk0/calib_stats_training_disentangle_2406_D25-M3-S0-L8_12.pkl'\n",
    "\n",
    "# pavia3 data\n",
    "# '/group/jug/ashesh/data/paper_stats/Test_P64_G32_M50_Sk0/calib_stats_training_disentangle_2408_D24-M3-S0-L8_14.pkl'\n",
    "# '/group/jug/ashesh/data/paper_stats/Test_P64_G32_M50_Sk0/calib_stats_training_disentangle_2408_D24-M3-S0-L8_16.pkl'\n",
    "# '/group/jug/ashesh/data/paper_stats/Test_P64_G32_M50_Sk0/calib_stats_training_disentangle_2408_D24-M3-S0-L8_15.pkl'\n",
    "'/group/jug/ashesh/data/paper_stats/Test_P64_G32_M50_Sk0/calib_stats_training_disentangle_2408_D24-M3-S0-L8_13.pkl'\n",
    "# '/group/jug/ashesh/data/paper_stats/Test_P64_G32_M50_Sk0/calib_stats_training_disentangle_2408_D24-M3-S0-L8_12.pkl'\n",
    "# '/group/jug/ashesh/data/paper_stats/Test_P64_G32_M50_Sk0/calib_stats_training_disentangle_2408_D24-M3-S0-L8_11.pkl'\n",
    "# '/group/jug/ashesh/data/paper_stats/Test_P64_G32_M50_Sk0/calib_stats_training_disentangle_2408_D24-M3-S0-L8_10.pkl'\n",
    "# '/group/jug/ashesh/data/paper_stats/Val_P64_G32_M50_Sk0/calib_stats_training_disentangle_2408_D24-M3-S0-L8_9.pkl' # this could be troublesome. maybe not fully converged\n",
    "# '/group/jug/ashesh/data/paper_stats/Test_P64_G32_M50_Sk0/calib_stats_training_disentangle_2408_D24-M3-S0-L8_9.pkl'\n",
    "# '/group/jug/ashesh/data/paper_stats/Test_P64_G32_M50_Sk0/calib_stats_training_disentangle_2408_D24-M3-S0-L8_8.pkl'\n",
    "\n",
    "# Elisa 3D\n",
    "# '/group/jug/ashesh/data/paper_stats/Test_P64_G7-32-32_M50_Sk0/calib_stats_training_disentangle_2408_D29-M3-S0-L8_24.pkl'\n",
    "\n",
    "# CARE 3D\n",
    "# '/group/jug/ashesh/data/paper_stats/Test_P64_G3-32-32_M50_Sk0/calib_stats_training_disentangle_2411_D30-M3-S0-L8_26.pkl'\n",
    "# '/group/jug/ashesh/data/paper_stats/Test_P64_G3-32-32_M50_Sk0/calib_stats_training_disentangle_2412_D30-M3-S0-L8_0.pkl'\n",
    "\n",
    "]\n",
    "calib_fpath =fpaths[-1]\n",
    "with open(calib_fpath, 'rb') as f:\n",
    "    calib_stats = pickle.load(f)\n"
   ]
  },
  {
   "cell_type": "code",
   "execution_count": null,
   "metadata": {},
   "outputs": [],
   "source": [
    "# with open('/group/jug/ashesh/data/paper_stats/Val_P64_G32_M50_Sk0/calib_training_disentangle_2408_D24-M3-S0-L8_9.pkl', 'rb') as f:\n",
    "#     val_stats = pickle.load(f)"
   ]
  },
  {
   "cell_type": "code",
   "execution_count": null,
   "metadata": {},
   "outputs": [],
   "source": [
    "# val_stats[0], val_stats[1]"
   ]
  },
  {
   "cell_type": "code",
   "execution_count": null,
   "metadata": {},
   "outputs": [],
   "source": []
  },
  {
   "cell_type": "code",
   "execution_count": null,
   "metadata": {},
   "outputs": [],
   "source": [
    "from disentangle.analysis.paper_plots import get_first_index, get_last_index\n",
    "q_s = 0.00001\n",
    "q_e = 0.99999\n"
   ]
  },
  {
   "cell_type": "code",
   "execution_count": null,
   "metadata": {},
   "outputs": [],
   "source": [
    "import matplotlib.pyplot as plt\n",
    "import os\n",
    "\n",
    "_,ax = plt.subplots(figsize=(2,2))\n",
    "for ch_idx in range(len(calib_stats['calib_stats'])):\n",
    "    tmp_stats = calib_stats['calib_stats'][ch_idx]\n",
    "    tmp_rmv = tmp_stats['rmv']\n",
    "    tmp_rmse = tmp_stats['rmse']\n",
    "    count = tmp_stats['bin_count']\n",
    "    first_idx = get_first_index(count, q_s)\n",
    "    last_idx = get_last_index(count, q_e)\n",
    "    plt.plot(tmp_rmv[first_idx:-last_idx],\n",
    "            tmp_rmse[first_idx:-last_idx],\n",
    "            '-+',\n",
    "            label='C{}'.format(ch_idx)\n",
    "            )\n",
    "\n",
    "xlim = ax.get_xlim()\n",
    "ylim = ax.get_ylim()\n",
    "minv = min(xlim[0], ylim[0])\n",
    "maxv = max(xlim[1], ylim[1])\n",
    "ax.plot([minv, maxv], [minv, maxv], '--', color='black')\n",
    "\n",
    "plt.tight_layout()\n",
    "plt.legend()\n"
   ]
  },
  {
   "cell_type": "code",
   "execution_count": null,
   "metadata": {},
   "outputs": [],
   "source": [
    "import numpy as np\n",
    "def get_x_offset(minx, maxx, miny, maxy, slope_factor=1):\n",
    "#       (maxy - miny)/(maxx - minx + 2*offset) >= slope_factor\n",
    "#       (maxx - minx + 2*offset) <= (maxy - miny)/slope_factor\n",
    "#       offset <= ((maxy - miny)/slope_factor - (maxx - minx))/2\n",
    "    offset = ((maxy - miny)/slope_factor - (maxx - minx))/2\n",
    "    return offset\n",
    "\n",
    "def plot_calib(ax, calib_stats, ch_idx, color='b'):\n",
    "    tmp_stats = calib_stats['calib_stats'][ch_idx]\n",
    "    tmp_rmv = tmp_stats['rmv']\n",
    "    tmp_rmse = tmp_stats['rmse']\n",
    "    count = tmp_stats['bin_count']\n",
    "    rmse_err = tmp_stats['rmse_err']\n",
    "\n",
    "    first_idx = get_first_index(count, q_s)\n",
    "    last_idx = get_last_index(count, q_e)\n",
    "    # plot the calibration curve with error bars     \n",
    "    ax.plot(tmp_rmv[first_idx:-last_idx],\n",
    "            tmp_rmse[first_idx:-last_idx],\n",
    "            '-+',\n",
    "            label='C{}'.format(ch_idx),\n",
    "            color=color,\n",
    "            )\n",
    "    rmse_floor = np.array(tmp_rmse[first_idx:-last_idx]) - np.array(rmse_err[first_idx:-last_idx])\n",
    "    rmse_ceil = np.array(tmp_rmse[first_idx:-last_idx]) + np.array(rmse_err[first_idx:-last_idx])\n",
    "    ax.fill_between(tmp_rmv[first_idx:-last_idx], rmse_floor, rmse_ceil, alpha=0.3, label='error band')\n",
    "\n",
    "    # minx = min(tmp_rmv[first_idx:-last_idx])\n",
    "    # maxx = max(tmp_rmv[first_idx:-last_idx])\n",
    "    minx, maxx = ax.get_xlim()\n",
    "    miny, maxy = ax.get_ylim()\n",
    "    # miny = min(tmp_rmse[first_idx:-last_idx])\n",
    "    # maxy = max(tmp_rmse[first_idx:-last_idx])\n",
    "    \n",
    "    print(ax.get_xlim(), ax.get_ylim(), end='\\t')\n",
    "    x_offset = get_x_offset(minx, maxx, miny, maxy, slope_factor=1.0)\n",
    "    # print('offset', x_offset)\n",
    "    # set x limits\n",
    "    ax.set_xlim(max(0,minx - x_offset), maxx + x_offset)\n",
    "\n",
    "    # enable the grid and set the background color to gray \n",
    "    ax.grid(True)\n",
    "    ax.set_facecolor('0.75')\n",
    "    # get x and y limits of the plot\n",
    "    xlim = ax.get_xlim()\n",
    "    ylim = ax.get_ylim()\n",
    "    minv = min(xlim[0], ylim[0])\n",
    "    maxv = max(xlim[1], ylim[1])\n",
    "    ax.plot([minv, maxv], [minv, maxv], '--', color='black')\n",
    "    print(ax.get_xlim(), ax.get_ylim())\n",
    "    # print('xlim:', xlim)\n",
    "    # print('ylim:', ylim)     \n",
    "\n"
   ]
  },
  {
   "cell_type": "code",
   "execution_count": null,
   "metadata": {},
   "outputs": [],
   "source": [
    "save_to_file = True\n",
    "nchannels = len(calib_stats['calib_stats'].keys())\n",
    "offset = 1\n",
    "_,ax = plt.subplots(figsize=(3*nchannels + (nchannels-1)*offset,3),ncols=nchannels)\n",
    "\n",
    "for i in range(nchannels):\n",
    "    plot_calib(ax[i],calib_stats, i, 'b')\n",
    "    ax[i].yaxis.set_label_position(\"right\")\n",
    "    ax[i].yaxis.tick_right()\n",
    "    ax[i].set_xlabel('RMV', fontsize=12)\n",
    "    # xmin, xmax = ax[i].get_xlim()\n",
    "    # ymin, ymax = ax[i].get_ylim()\n",
    "    # minv = min(xmin, ymin)\n",
    "    # maxv = max(xmax, ymax)\n",
    "    # ax[i].set_xlim(minv, maxv)\n",
    "    # ax[i].set_ylim(minv, maxv)\n",
    "\n",
    "\n",
    "ax[0].set_xlim(0.55,.7)\n",
    "ax[0].set_ylim(0.45,.85)\n",
    "\n",
    "ax[1].set_xlim(0.85,1.0)\n",
    "ax[1].set_ylim(0.8,1.5)\n",
    "\n",
    "\n",
    "ax[0].yaxis.set_label_position(\"left\")\n",
    "ax[0].set_ylabel('RMSE', fontsize=12)\n",
    "\n",
    "if save_to_file:\n",
    "    fname = os.path.basename(calib_fpath).replace('.pkl','.png')\n",
    "    fpath = os.path.join('/group/jug/ashesh/naturemethods/calibration', fname)\n",
    "    plt.tight_layout()\n",
    "    plt.savefig(fpath, dpi=200)\n",
    "    print('Saved to:', fpath)\n"
   ]
  },
  {
   "cell_type": "code",
   "execution_count": null,
   "metadata": {},
   "outputs": [],
   "source": [
    "calib_stats['calib_stats'][0].keys()"
   ]
  },
  {
   "cell_type": "code",
   "execution_count": null,
   "metadata": {},
   "outputs": [],
   "source": [
    "y = [0.46705906761690125, 0.6451253500584669, 0.7269232431439505, 0.7830843560224418, 0.8111136713963913, 0.8425670004206302, 0.87606590945222, 0.9063951914480967, 0.9374536188926772, 0.9276666559642838, 0.9257766976593262, 0.9473769448858477, 1.0318132609041004, 1.0347897671104709, 1.0020191276988881, 1.1595202871060062, 1.0914592822903624, 1.137280320240937, 1.1736252662863433, 1.222360811949501, 1.194759983493425, 1.1593234299617863, 1.2732788132373891, 1.2598159603465142, 1.2473993841557411, 1.2048861162016544, 1.315073372211091, 1.2303815836418124, 1.545483666670901, 1.3084999164702258]\n",
    "x = [0.008678478, 0.020104283, 0.033099663, 0.046241127, 0.05931603, 0.072364576, 0.08534606, 0.09807832, 0.11087216, 0.12392764, 0.1367364, 0.1496742, 0.1626603, 0.17568855, 0.1887807, 0.20132318, 0.21453382, 0.22826627, 0.24083729, 0.25312108, 0.26631933, 0.2787787, 0.2921646, 0.30520347, 0.31723344, 0.32912362, 0.34300828, 0.35417154, 0.37025684, 0.37950793]\n",
    "count = [2715914, 837393, 242881, 90412, 43971, 26034, 16455, 10694, 6502, 3830, 2252, 1328, 771, 436, 257, 144, 103, 71, 96, 75, 57, 57, 67, 65, 60, 33, 22, 13, 4, 2]"
   ]
  },
  {
   "cell_type": "code",
   "execution_count": null,
   "metadata": {},
   "outputs": [],
   "source": [
    "import matplotlib.pyplot as plt \n",
    "_,ax = plt.subplots()\n",
    "x = np.array(x)\n",
    "y = np.array(y)\n",
    "\n",
    "ax.plot(x[:-4],y[:-4])\n",
    "ax.set_xlim(0, 1.5)\n",
    "ax.set_ylim(0, 1.5)\n"
   ]
  },
  {
   "cell_type": "code",
   "execution_count": null,
   "metadata": {},
   "outputs": [],
   "source": [
    "from scipy import stats\n",
    "slope, intercept, *_ = stats.linregress(x,y)"
   ]
  },
  {
   "cell_type": "code",
   "execution_count": null,
   "metadata": {},
   "outputs": [],
   "source": [
    "plt.plot(x*slope + intercept, y, '--', color='black')"
   ]
  },
  {
   "cell_type": "code",
   "execution_count": null,
   "metadata": {},
   "outputs": [],
   "source": [
    "slope"
   ]
  },
  {
   "cell_type": "code",
   "execution_count": null,
   "metadata": {},
   "outputs": [],
   "source": [
    "y"
   ]
  },
  {
   "cell_type": "code",
   "execution_count": null,
   "metadata": {},
   "outputs": [],
   "source": [
    "x"
   ]
  },
  {
   "cell_type": "code",
   "execution_count": null,
   "metadata": {},
   "outputs": [],
   "source": []
  }
 ],
 "metadata": {
  "kernelspec": {
   "display_name": "Python 3",
   "language": "python",
   "name": "python3"
  },
  "language_info": {
   "codemirror_mode": {
    "name": "ipython",
    "version": 3
   },
   "file_extension": ".py",
   "mimetype": "text/x-python",
   "name": "python",
   "nbconvert_exporter": "python",
   "pygments_lexer": "ipython3",
   "version": "3.9.19"
  }
 },
 "nbformat": 4,
 "nbformat_minor": 2
}
