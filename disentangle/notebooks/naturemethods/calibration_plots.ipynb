{
 "cells": [
  {
   "cell_type": "code",
   "execution_count": null,
   "metadata": {},
   "outputs": [],
   "source": [
    "import pickle\n",
    "fpaths = [\n",
    "# '/group/jug/ashesh/data/paper_stats/Test_P64_G32_M50_Sk8/calib_stats_training_disentangle_2404_D21-M3-S0-L8_6.pkl',\n",
    "# '/group/jug/ashesh/data/paper_stats/Test_P64_G32_M50_Sk8/calib_stats_training_disentangle_2404_D25-M3-S0-L8_143.pkl',\n",
    "# '/group/jug/ashesh/data/paper_stats/Test_P64_G32_M50_Sk8/calib_stats_training_disentangle_2404_D25-M3-S0-L8_111.pkl',\n",
    "# '/group/jug/ashesh/data/paper_stats/Test_P64_G32_M50_Sk8/calib_stats_training_disentangle_2404_D25-M3-S0-L8_97.pkl',\n",
    "# '/group/jug/ashesh/data/paper_stats/Test_P64_G32_M50_Sk8/calib_stats_training_disentangle_2404_D25-M3-S0-L8_120.pkl',\n",
    "# '/group/jug/ashesh/data/paper_stats/Test_P64_G32_M50_Sk8/calib_stats_training_disentangle_2405_D25-M3-S0-L8_2.pkl',\n",
    "# '/group/jug/ashesh/data/paper_stats/Test_P64_G32_M50_Sk8/calib_stats_training_disentangle_2404_D25-M3-S0-L8_125.pkl',\n",
    "# '/group/jug/ashesh/data/paper_stats/Test_P64_G32_M50_Sk8/calib_stats_training_disentangle_2405_D25-M3-S0-L8_3.pkl',\n",
    "# '/group/jug/ashesh/data/paper_stats/Test_P64_G32_M50_Sk8/calib_stats_training_disentangle_2404_D25-M3-S0-L8_139.pkl',\n",
    "# '/group/jug/ashesh/data/paper_stats/Test_P64_G32_M50_Sk0/calib_stats_training_disentangle_2405_D18-M3-S0-L8_14.pkl',\n",
    "# '/group/jug/ashesh/data/paper_stats/Test_P64_G32_M50_Sk8/calib_stats_training_disentangle_2406_D25-M3-S0-L8_4.pkl',\n",
    "# '/group/jug/ashesh/data/paper_stats/Test_P64_G32_M50_Sk8/calib_stats_training_disentangle_2406_D25-M3-S0-L8_12.pkl'\n",
    "# '/group/jug/ashesh/data/paper_stats/Test_P64_G32_M50_Sk0/calib_stats_training_disentangle_2406_D25-M3-S0-L8_4.pkl'\n",
    "# '/group/jug/ashesh/data/paper_stats/Test_P64_G64_M3_Sk0/calib_stats_training_disentangle_2406_D25-M3-S0-L8_4.pkl'\n",
    "# '/group/jug/ashesh/data/paper_stats/Val_P64_G64_M3_Sk0/calib_stats_training_disentangle_2406_D25-M3-S0-L8_4.pkl',\n",
    "'/group/jug/ashesh/data/paper_stats/Test_P64_G32_M50_Sk0/calib_stats_training_disentangle_2406_D25-M3-S0-L8_4.pkl'\n",
    "\n",
    "]\n",
    "calib_fpath =fpaths[-1]\n",
    "with open(calib_fpath, 'rb') as f:\n",
    "    calib_stats = pickle.load(f)\n"
   ]
  },
  {
   "cell_type": "code",
   "execution_count": null,
   "metadata": {},
   "outputs": [],
   "source": [
    "from disentangle.analysis.paper_plots import get_first_index, get_last_index\n",
    "q_s = 0.00001\n",
    "q_e = 0.99999\n"
   ]
  },
  {
   "cell_type": "code",
   "execution_count": null,
   "metadata": {},
   "outputs": [],
   "source": [
    "import matplotlib.pyplot as plt\n",
    "import os\n",
    "\n",
    "_,ax = plt.subplots(figsize=(2,2))\n",
    "for ch_idx in range(len(calib_stats['calib_stats'])):\n",
    "    tmp_stats = calib_stats['calib_stats'][ch_idx]\n",
    "    tmp_rmv = tmp_stats['rmv']\n",
    "    tmp_rmse = tmp_stats['rmse']\n",
    "    count = tmp_stats['bin_count']\n",
    "    first_idx = get_first_index(count, q_s)\n",
    "    last_idx = get_last_index(count, q_e)\n",
    "    plt.plot(tmp_rmv[first_idx:-last_idx],\n",
    "            tmp_rmse[first_idx:-last_idx],\n",
    "            '-+',\n",
    "            label='C{}'.format(ch_idx)\n",
    "            )\n",
    "plt.tight_layout()\n",
    "plt.legend()\n"
   ]
  },
  {
   "cell_type": "code",
   "execution_count": null,
   "metadata": {},
   "outputs": [],
   "source": [
    "import numpy as np\n",
    "def plot_calib(ax, calib_stats, ch_idx, color='b'):\n",
    "    tmp_stats = calib_stats['calib_stats'][ch_idx]\n",
    "    tmp_rmv = tmp_stats['rmv']\n",
    "    tmp_rmse = tmp_stats['rmse']\n",
    "    count = tmp_stats['bin_count']\n",
    "    rmse_err = tmp_stats['rmse_err']\n",
    "\n",
    "    first_idx = get_first_index(count, q_s)\n",
    "    last_idx = get_last_index(count, q_e)\n",
    "    # plot the calibration curve with error bars     \n",
    "    ax.plot(tmp_rmv[first_idx:-last_idx],\n",
    "            tmp_rmse[first_idx:-last_idx],\n",
    "            '-+',\n",
    "            label='C{}'.format(ch_idx),\n",
    "            color=color,\n",
    "            )\n",
    "    rmse_floor = np.array(tmp_rmse[first_idx:-last_idx]) - np.array(rmse_err[first_idx:-last_idx])\n",
    "    rmse_ceil = np.array(tmp_rmse[first_idx:-last_idx]) + np.array(rmse_err[first_idx:-last_idx])\n",
    "    ax.fill_between(tmp_rmv[first_idx:-last_idx], rmse_floor, rmse_ceil, alpha=0.3, label='error band')\n",
    "\n",
    "    # enable the grid and set the background color to gray \n",
    "    ax.grid(True)\n",
    "    ax.set_facecolor('0.75')\n",
    "    # get x and y limits of the plot\n",
    "    xlim = ax.get_xlim()\n",
    "    ylim = ax.get_ylim()\n",
    "    minv = min(xlim[0], ylim[0])\n",
    "    maxv = max(xlim[1], ylim[1])\n",
    "    ax.plot([minv, maxv], [minv, maxv], '--', color='black')\n",
    "    print('xlim:', xlim)\n",
    "    print('ylim:', ylim)     \n",
    "\n"
   ]
  },
  {
   "cell_type": "code",
   "execution_count": null,
   "metadata": {},
   "outputs": [],
   "source": [
    "_,ax = plt.subplots(figsize=(3,8),nrows=3)\n",
    "plot_calib(ax[0],calib_stats, 0, 'b')\n",
    "plot_calib(ax[1],calib_stats, 1, 'b')\n",
    "plot_calib(ax[2],calib_stats, 2, 'b')\n",
    "for i in range(3):\n",
    "    ax[i].yaxis.set_label_position(\"right\")\n",
    "    ax[i].yaxis.tick_right()\n",
    "\n",
    "fname = os.path.basename(calib_fpath).replace('.pkl','.png')\n",
    "fpath = os.path.join('/group/jug/ashesh/naturemethods/calibration', fname)\n",
    "plt.tight_layout()\n",
    "plt.savefig(fpath, dpi=200)\n",
    "print('Saved to:', fpath)\n"
   ]
  },
  {
   "cell_type": "code",
   "execution_count": null,
   "metadata": {},
   "outputs": [],
   "source": []
  }
 ],
 "metadata": {
  "kernelspec": {
   "display_name": "Python 3",
   "language": "python",
   "name": "python3"
  },
  "language_info": {
   "codemirror_mode": {
    "name": "ipython",
    "version": 3
   },
   "file_extension": ".py",
   "mimetype": "text/x-python",
   "name": "python",
   "nbconvert_exporter": "python",
   "pygments_lexer": "ipython3",
   "version": "3.9.19"
  }
 },
 "nbformat": 4,
 "nbformat_minor": 2
}
