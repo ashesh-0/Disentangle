{
 "cells": [
  {
   "cell_type": "code",
   "execution_count": null,
   "metadata": {},
   "outputs": [],
   "source": [
    "# base_pkl = '/group/jug/ashesh/data/paper_stats/Test_P64_G32_M10_Sk0/epistemic_uncertainty_data_collection/data.dset_type-2ms/stats_training_disentangle_2406_D25-M3-S0-L8_4.pkl'"
   ]
  },
  {
   "cell_type": "code",
   "execution_count": null,
   "metadata": {},
   "outputs": [],
   "source": [
    "base_noise_level = '0.05'\n",
    "different_noise_levels = {\n",
    "    '0.2': '/group/jug/ashesh/data/paper_stats/Test_P64_G32_M20_Sk0/epistemic_uncertainty_data_collection/stats_training_disentangle_2410_D25-M3-S0-L8_4.pkl',\n",
    "    '0.05':'/group/jug/ashesh/data/paper_stats/Test_P64_G32_M20_Sk0/epistemic_uncertainty_data_collection/stats_training_disentangle_2410_D25-M3-S0-L8_5.pkl',\n",
    "    '0.5': '/group/jug/ashesh/data/paper_stats/Test_P64_G32_M20_Sk0/epistemic_uncertainty_data_collection/stats_training_disentangle_2410_D25-M3-S0-L8_6.pkl',\n",
    "    '0.8': '/group/jug/ashesh/data/paper_stats/Test_P64_G32_M20_Sk0/epistemic_uncertainty_data_collection/stats_training_disentangle_2410_D25-M3-S0-L8_7.pkl',\n",
    "    '1.0': '/group/jug/ashesh/data/paper_stats/Test_P64_G32_M20_Sk0/epistemic_uncertainty_data_collection/stats_training_disentangle_2410_D25-M3-S0-L8_8.pkl'\n",
    "}\n",
    "# different_noise_levels = {\n",
    "#     '0.2': '/group/jug/ashesh/data/paper_stats/Test_P64_G32_M10_Sk0/epistemic_uncertainty_data_collection/stats_training_disentangle_2410_D25-M3-S0-L8_4.pkl',\n",
    "#     '0.05':'/group/jug/ashesh/data/paper_stats/Test_P64_G32_M10_Sk0/epistemic_uncertainty_data_collection/stats_training_disentangle_2410_D25-M3-S0-L8_5.pkl',\n",
    "#     '0.5': '/group/jug/ashesh/data/paper_stats/Test_P64_G32_M10_Sk0/epistemic_uncertainty_data_collection/stats_training_disentangle_2410_D25-M3-S0-L8_6.pkl',\n",
    "#     '0.8': '/group/jug/ashesh/data/paper_stats/Test_P64_G32_M10_Sk0/epistemic_uncertainty_data_collection/stats_training_disentangle_2410_D25-M3-S0-L8_7.pkl',\n",
    "#     '1.0': '/group/jug/ashesh/data/paper_stats/Test_P64_G32_M10_Sk0/epistemic_uncertainty_data_collection/stats_training_disentangle_2410_D25-M3-S0-L8_8.pkl'\n",
    "# }\n"
   ]
  },
  {
   "cell_type": "code",
   "execution_count": null,
   "metadata": {},
   "outputs": [],
   "source": [
    "# import matplotlib.pyplot as plt\n",
    "\n",
    "# ch_idx = 0\n",
    "# # img_idx = np.random.randint(0, 2000)\n",
    "# _,ax = plt.subplots(figsize=(9,12),ncols=3,nrows=4)\n",
    "# for row_idx, key in enumerate(different_noise_levels.keys()):\n",
    "#     ax[row_idx,0].imshow(data_dict[key]['pred'][0][img_idx][0])\n",
    "#     ax[row_idx,1].imshow(data_dict[key]['pred'][1][img_idx][0])\n",
    "#     ax[row_idx,2].imshow(data_dict[key]['pred'][2][img_idx][0])\n",
    "#     ax[row_idx,0].set_ylabel(f'{key}')"
   ]
  },
  {
   "cell_type": "code",
   "execution_count": null,
   "metadata": {},
   "outputs": [],
   "source": [
    "import pickle\n",
    "data_dict = {}\n",
    "for k, v in different_noise_levels.items():\n",
    "    with open(v, 'rb') as f:\n",
    "        data_dict[k] = pickle.load(f)"
   ]
  },
  {
   "cell_type": "markdown",
   "metadata": {},
   "source": [
    "### Compute Epistemic Uncertainty"
   ]
  },
  {
   "cell_type": "code",
   "execution_count": null,
   "metadata": {},
   "outputs": [],
   "source": [
    "for conf_key in data_dict.keys():\n",
    "    data_dict[conf_key]['std'] ={}\n",
    "    for ch_idx in data_dict[conf_key]['pred'].keys():\n",
    "        data_dict[conf_key]['std'][ch_idx] = []\n",
    "        for img_idx in range(len(data_dict[conf_key]['pred'][ch_idx])):\n",
    "            img = data_dict[conf_key]['pred'][ch_idx][img_idx]\n",
    "            std = img.std(axis=0)\n",
    "            data_dict[conf_key]['std'][ch_idx].append(std)\n"
   ]
  },
  {
   "cell_type": "code",
   "execution_count": null,
   "metadata": {},
   "outputs": [],
   "source": [
    "import matplotlib.pyplot as plt\n",
    "import os\n",
    "import seaborn as sns\n",
    "import numpy as np\n",
    "from tqdm import tqdm\n",
    "save_to_file = False\n",
    "\n",
    "_,ax = plt.subplots(figsize=(15,4),ncols=3)\n",
    "for conf_key in tqdm(data_dict.keys()):\n",
    "    for ch_idx in range(3):\n",
    "        std_values = data_dict[conf_key]['std'][ch_idx]\n",
    "        # one value per patch\n",
    "        std_values = [np.mean(x[16:-16,16:-16]) for x in std_values]\n",
    "        # add linewidth=10\n",
    "        sns.kdeplot(std_values,ax=ax[ch_idx], log_scale=True, label=conf_key, \n",
    "                    linewidth=3 if conf_key == base_noise_level else 1,\n",
    "                    color = 'green' if conf_key == base_noise_level else None)\n",
    "    #\n",
    "\n",
    "ymin_max_dict = {}\n",
    "xmin_max_dict = {}\n",
    "for ch_idx in range(3):\n",
    "    ax[ch_idx].grid()\n",
    "    # grid background color to gray\n",
    "    ax[ch_idx].set_facecolor('lightgrey')\n",
    "    ymin_max_dict[ch_idx] = ax[ch_idx].get_ylim()\n",
    "    xmin_max_dict[ch_idx] = ax[ch_idx].get_xlim()\n",
    "    print(ch_idx, 'ymin-ymax', ax[ch_idx].get_ylim(), 'xmin-xmax', ax[ch_idx].get_xlim())\n",
    "\n",
    "# ax[-1].legend()\n",
    "# set legend title \n",
    "ax[-1].legend(title='Eval Data')\n",
    "\n",
    "if save_to_file:\n",
    "    model_id = base_pkl.split('/')[-1].replace('.pkl', '').replace('stats_training_disentangle_','')\n",
    "    plot_fpath = os.path.join('/group/jug/ashesh/naturemethods/epistemic_uncertainty', f'noise_variation_{base_noise_level}_{model_id}.png')\n",
    "    print(plot_fpath)\n",
    "    plt.savefig(plot_fpath, dpi=200)\n",
    "\n",
    "\n"
   ]
  },
  {
   "cell_type": "markdown",
   "metadata": {},
   "source": [
    "## Variation with amount of training data."
   ]
  },
  {
   "cell_type": "code",
   "execution_count": null,
   "metadata": {},
   "outputs": [],
   "source": [
    "out = 0\n",
    "for ch_idx in range(3):\n",
    "    out += np.array([np.mean(data_dict[key]['std'][ch_idx]) for key in ['0.05', '0.2', '0.5', '0.8', '1.0']])/3\n",
    "    \n",
    "plt.plot([0.05, 0.2, 0.5,0.8, 1.0], out)\n",
    "# add background color to gray\n",
    "plt.gca().set_facecolor('lightgrey')\n",
    "plt.ylabel('Epistemic Uncertainty')\n",
    "plt.xlabel('Fraction of Training Data used for Training')\n",
    "plt.grid()"
   ]
  },
  {
   "cell_type": "code",
   "execution_count": null,
   "metadata": {},
   "outputs": [],
   "source": [
    "import  torch.nn.functional as F\n",
    "x = F.dropout()"
   ]
  },
  {
   "cell_type": "code",
   "execution_count": null,
   "metadata": {},
   "outputs": [],
   "source": []
  }
 ],
 "metadata": {
  "kernelspec": {
   "display_name": "Python 3",
   "language": "python",
   "name": "python3"
  },
  "language_info": {
   "codemirror_mode": {
    "name": "ipython",
    "version": 3
   },
   "file_extension": ".py",
   "mimetype": "text/x-python",
   "name": "python",
   "nbconvert_exporter": "python",
   "pygments_lexer": "ipython3",
   "version": "3.9.19"
  }
 },
 "nbformat": 4,
 "nbformat_minor": 2
}
