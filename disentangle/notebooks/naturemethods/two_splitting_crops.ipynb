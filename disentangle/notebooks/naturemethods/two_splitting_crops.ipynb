{
 "cells": [
  {
   "cell_type": "code",
   "execution_count": null,
   "metadata": {},
   "outputs": [],
   "source": [
    "crops_pred_dirs = {\n",
    "        # '2405/D25-M3-S0-L8/3': ' /group/jug/ashesh/data/paper_stats/Test_P64_G32_M50_Sk8/stats_training_disentangle_2405_D25-M3-S0-L8_3.pkl',\n",
    "        '2404/D21-M3-S0-L8/6':'/group/jug/ashesh/data/paper_stats/Test_P64_G32_M50_Sk8/stats_training_disentangle_2404_D21-M3-S0-L8_6.pkl',\n",
    "        '2404/D25-M3-S0-L8/97':'/group/jug/ashesh/data/paper_stats/Test_P64_G32_M50_Sk8/stats_training_disentangle_2404_D25-M3-S0-L8_97.pkl',\n",
    "        '2404/D25-M3-S0-L8/120':'/group/jug/ashesh/data/paper_stats/Test_P64_G32_M50_Sk8/stats_training_disentangle_2404_D25-M3-S0-L8_120.pkl',\n",
    "        '2404/D25-M3-S0-L8/111':'/group/jug/ashesh/data/paper_stats/Test_P64_G32_M50_Sk8/stats_training_disentangle_2404_D25-M3-S0-L8_111.pkl',\n",
    "        '2404/D25-M3-S0-L8/125':'/group/jug/ashesh/data/paper_stats/Test_P64_G32_M50_Sk8/stats_training_disentangle_2404_D25-M3-S0-L8_125.pkl',\n",
    "        '2404/D25-M3-S0-L8/139':'/group/jug/ashesh/data/paper_stats/Test_P64_G32_M50_Sk8/stats_training_disentangle_2404_D25-M3-S0-L8_139.pkl',\n",
    "        '2404/D25-M3-S0-L8/143':'/group/jug/ashesh/data/paper_stats/Test_P64_G32_M50_Sk8/stats_training_disentangle_2404_D25-M3-S0-L8_143.pkl',\n",
    "        '2405/D18-M3-S0-L8/13':'/group/jug/ashesh/data/paper_stats/Test_P64_G32_M50_Sk0/stats_training_disentangle_2405_D18-M3-S0-L8_13.pkl',\n",
    "        '2405/D18-M3-S0-L8/14': '/group/jug/ashesh/data/paper_stats/Test_P64_G32_M50_Sk0/stats_training_disentangle_2405_D18-M3-S0-L8_14.pkl',\n",
    "        '2405/D18-M3-S0-L8/15':'/group/jug/ashesh/data/paper_stats/Test_P64_G32_M50_Sk0/stats_training_disentangle_2405_D18-M3-S0-L8_15.pkl',\n",
    "        '2405/D18-M3-S0-L8/10':'/group/jug/ashesh/data/paper_stats/Test_P64_G32_M50_Sk0/stats_training_disentangle_2405_D18-M3-S0-L8_10.pkl',\n",
    "        '2405/D18-M3-S0-L8/11':'/group/jug/ashesh/data/paper_stats/Test_P64_G32_M50_Sk0/stats_training_disentangle_2405_D18-M3-S0-L8_11.pkl',\n",
    "        '2405/D18-M3-S0-L8/12':'/group/jug/ashesh/data/paper_stats/Test_P64_G32_M50_Sk0/stats_training_disentangle_2405_D18-M3-S0-L8_12.pkl',\n",
    "}"
   ]
  },
  {
   "cell_type": "code",
   "execution_count": null,
   "metadata": {},
   "outputs": [],
   "source": [
    "# -rw-r--r-- 1 ashesh.ashesh jug 5.6M May 27 17:01 /group/jug/ashesh/data/paper_stats/Test_P64_G32_M1_Sk0/stats_training_disentangle_2404_D17-M3-S0-L8_4.pkl\n",
    "# -rw-r--r-- 1 ashesh.ashesh jug 5.6M May 27 17:12 /group/jug/ashesh/data/paper_stats/Test_P64_G32_M1_Sk0/stats_training_disentangle_2405_D18-M3-S0-L8_13.pkl\n",
    "# -rw-r--r-- 1 ashesh.ashesh jug 5.6M May 27 17:22 /group/jug/ashesh/data/paper_stats/Test_P64_G32_M1_Sk0/stats_training_disentangle_2405_D18-M3-S0-L8_14.pkl\n",
    "# -rw-r--r-- 1 ashesh.ashesh jug 5.6M May 27 17:31 /group/jug/ashesh/data/paper_stats/Test_P64_G32_M1_Sk0/stats_training_disentangle_2405_D18-M3-S0-L8_15.pkl\n",
    "# -rw-r--r-- 1 ashesh.ashesh jug 5.6M May 27 18:56 /group/jug/ashesh/data/paper_stats/Test_P64_G32_M1_Sk0/stats_training_disentangle_2405_D18-M3-S0-L8_10.pkl\n",
    "# -rw-r--r-- 1 ashesh.ashesh jug 5.6M May 27 19:05 /group/jug/ashesh/data/paper_stats/Test_P64_G32_M1_Sk0/stats_training_disentangle_2405_D18-M3-S0-L8_11.pkl\n",
    "# -rw-r--r-- 1 ashesh.ashesh jug 5.6M May 27 19:14 /group/jug/ashesh/data/paper_stats/Test_P64_G32_M1_Sk0/stats_training_disentangle_2405_D18-M3-S0-L8_12.pkl\n",
    "# '/group/jug/ashesh/data/paper_stats/Test_P64_G32_M1_Sk8/stats_training_disentangle_2405_D25-M3-S0-L8_3.pkl',\n",
    "# '/group/jug/ashesh/data/paper_stats/Test_P64_G32_M1_Sk8/stats_training_disentangle_2404_D21-M3-S0-L8_1.pkl',\n",
    "# '/group/jug/ashesh/data/paper_stats/Test_P64_G32_M1_Sk8/stats_training_disentangle_2404_D25-M3-S0-L8_97.pkl',\n",
    "# '/group/jug/ashesh/data/paper_stats/Test_P64_G32_M1_Sk8/stats_training_disentangle_2404_D21-M3-S0-L8_6.pkl',\n",
    "# '/group/jug/ashesh/data/paper_stats/Test_P64_G32_M1_Sk8/stats_training_disentangle_2404_D25-M3-S0-L8_120.pkl',\n",
    "# '/group/jug/ashesh/data/paper_stats/Test_P64_G32_M1_Sk8/stats_training_disentangle_2404_D25-M3-S0-L8_111.pkl',\n",
    "# '/group/jug/ashesh/data/paper_stats/Test_P64_G32_M1_Sk8/stats_training_disentangle_2404_D25-M3-S0-L8_125.pkl',\n",
    "# '/group/jug/ashesh/data/paper_stats/Test_P64_G32_M1_Sk8/stats_training_disentangle_2404_D25-M3-S0-L8_139.pkl',\n",
    "# '/group/jug/ashesh/data/paper_stats/Test_P64_G32_M1_Sk8/stats_training_disentangle_2404_D25-M3-S0-L8_143.pkl',"
   ]
  },
  {
   "cell_type": "code",
   "execution_count": null,
   "metadata": {},
   "outputs": [],
   "source": [
    "keys = [\n",
    "'2404/D21-M3-S0-L8/6',\n",
    "'2404/D25-M3-S0-L8/97',\n",
    "'2404/D25-M3-S0-L8/120',\n",
    "'2404/D25-M3-S0-L8/111',\n",
    "'2404/D25-M3-S0-L8/125',\n",
    "'2404/D25-M3-S0-L8/139',\n",
    "'2404/D25-M3-S0-L8/143',\n",
    "'2405/D18-M3-S0-L8/13',\n",
    "'2405/D18-M3-S0-L8/14',\n",
    "'2405/D18-M3-S0-L8/15',\n",
    "'2405/D18-M3-S0-L8/10',\n",
    "'2405/D18-M3-S0-L8/11',\n",
    "'2405/D18-M3-S0-L8/12',\n",
    "]\n"
   ]
  },
  {
   "cell_type": "code",
   "execution_count": null,
   "metadata": {},
   "outputs": [],
   "source": [
    "idx_dict  = {}"
   ]
  },
  {
   "cell_type": "code",
   "execution_count": null,
   "metadata": {},
   "outputs": [],
   "source": [
    "import pickle\n",
    "import numpy as np\n",
    "\n",
    "key = keys[12]\n",
    "\n",
    "with open(crops_pred_dirs[key], 'rb') as f:\n",
    "    data = pickle.load(f)\n",
    "    for ch_idx in data['pred'].keys():\n",
    "        data['pred'][ch_idx] = np.concatenate([x[None] for x in data['pred'][ch_idx]], axis=0)\n",
    "\n",
    "print(len(data['inp']), data['inp'][0].shape)\n",
    "print(len(data['tar']), data['tar'][0].shape)\n",
    "print(len(data['pred']), len(data['pred'][0]))"
   ]
  },
  {
   "cell_type": "code",
   "execution_count": null,
   "metadata": {},
   "outputs": [],
   "source": [
    "idx_dict"
   ]
  },
  {
   "cell_type": "code",
   "execution_count": null,
   "metadata": {},
   "outputs": [],
   "source": [
    "# inp, pred1, pred2, diff, predmmse, tar\n",
    "import matplotlib.pyplot as plt\n",
    "import numpy as np\n",
    "from disentangle.analysis.plot_utils import clean_ax\n",
    "\n",
    "imsz = 3\n",
    "ncols = 6\n",
    "nrows = 2\n",
    "ex_idx = np.random.randint(0, len(data['inp'])) #\n",
    "print('idx ', ex_idx)\n",
    "\n",
    "_,ax = plt.subplots(figsize=(imsz*ncols,imsz*nrows), ncols=ncols,nrows=nrows)\n",
    "ax[0,0].imshow(data['inp'][ex_idx][0,0].cpu().numpy())\n",
    "# ch 0\n",
    "pred0_1 = data['pred'][0][ex_idx][0]\n",
    "pred0_2 = data['pred'][0][ex_idx][1]\n",
    "ax[0,1].imshow(pred0_1, cmap='magma')\n",
    "ax[0,2].imshow(pred0_2, cmap='magma')\n",
    "ax[0,3].imshow(pred0_2 - pred0_1, cmap='coolwarm')\n",
    "ax[0,4].imshow(np.mean(data['pred'][0][ex_idx], axis=0), cmap='magma')\n",
    "ax[0,5].imshow(data['tar'][ex_idx][0,0].cpu().numpy(), cmap='magma')\n",
    "\n",
    "\n",
    "# # ch 1\n",
    "pred1_1 = data['pred'][1][ex_idx][0]\n",
    "\n",
    "pred1_2 = data['pred'][1][ex_idx][1]\n",
    "ax[1,1].imshow(pred1_1, cmap='magma')\n",
    "ax[1,2].imshow(pred1_2, cmap='magma')\n",
    "ax[1,3].imshow(pred1_2 - pred1_1)\n",
    "ax[1,4].imshow(np.mean(data['pred'][1][ex_idx], axis=0), cmap='magma')\n",
    "ax[1,5].imshow(data['tar'][ex_idx][0,1].cpu().numpy(), cmap='magma')\n",
    "clean_ax(ax)\n",
    "plt.subplots_adjust(wspace=0.01, hspace=0.01)\n",
    "\n"
   ]
  },
  {
   "cell_type": "code",
   "execution_count": null,
   "metadata": {},
   "outputs": [],
   "source": [
    "idx_dict[key] = [\n",
    "idx_dict"
   ]
  },
  {
   "cell_type": "code",
   "execution_count": null,
   "metadata": {},
   "outputs": [],
   "source": [
    "{'2404/D21-M3-S0-L8/6': [13, 48],\n",
    " '2404/D25-M3-S0-L8/97': [71, 74, 100],\n",
    " '2404/D25-M3-S0-L8/120': [23],\n",
    " '2404/D25-M3-S0-L8/111': [112, 105, 159, 57],\n",
    " '2404/D25-M3-S0-L8/125': [104, 163],\n",
    " '2404/D25-M3-S0-L8/139': [137, 150],\n",
    " '2404/D25-M3-S0-L8/143': [117, 29],\n",
    " '2405/D18-M3-S0-L8/13': [41, 156],\n",
    " '2405/D18-M3-S0-L8/14': [185],\n",
    " '2405/D18-M3-S0-L8/15': [174, 124],\n",
    " '2405/D18-M3-S0-L8/10': [190],\n",
    " '2405/D18-M3-S0-L8/11': [85, 99],\n",
    " '2405/D18-M3-S0-L8/12': [139, 58]}"
   ]
  },
  {
   "cell_type": "code",
   "execution_count": null,
   "metadata": {},
   "outputs": [],
   "source": []
  },
  {
   "cell_type": "code",
   "execution_count": null,
   "metadata": {},
   "outputs": [],
   "source": [
    "from disentangle.core.tiff_reader import load_tiff\n",
    "data = load_tiff('/group/jug/ashesh/data/Dao4Channel/SIM_3color_1channel_group1.tif')"
   ]
  },
  {
   "cell_type": "code",
   "execution_count": null,
   "metadata": {},
   "outputs": [],
   "source": [
    "data.shape"
   ]
  },
  {
   "cell_type": "code",
   "execution_count": null,
   "metadata": {},
   "outputs": [],
   "source": [
    "import matplotlib.pyplot as plt\n",
    "plt.imshow(data[1,::5,::5,0])"
   ]
  },
  {
   "cell_type": "code",
   "execution_count": null,
   "metadata": {},
   "outputs": [],
   "source": [
    "# import tifffile\n",
    "# import numpy as np\n",
    "\n",
    "# tifffile.imwrite('/group/jug/ashesh/data/Dao4Channel/SIM_3color_1channel_group1_small.tif', \n",
    "# data[:10],#.transpose(0,3,1,2),\n",
    "# imagej=True, \n",
    "# #  metadata={ 'axes': 'ZYX'}, \n",
    "# )\n"
   ]
  },
  {
   "cell_type": "code",
   "execution_count": null,
   "metadata": {},
   "outputs": [],
   "source": [
    "# load_tiff('/group/jug/ashesh/data/Dao4Channel/SIM_3color_1channel_group1_small.tif').shape"
   ]
  },
  {
   "cell_type": "code",
   "execution_count": null,
   "metadata": {},
   "outputs": [],
   "source": []
  }
 ],
 "metadata": {
  "kernelspec": {
   "display_name": "Python 3",
   "language": "python",
   "name": "python3"
  },
  "language_info": {
   "codemirror_mode": {
    "name": "ipython",
    "version": 3
   },
   "file_extension": ".py",
   "mimetype": "text/x-python",
   "name": "python",
   "nbconvert_exporter": "python",
   "pygments_lexer": "ipython3",
   "version": "3.9.19"
  }
 },
 "nbformat": 4,
 "nbformat_minor": 2
}
