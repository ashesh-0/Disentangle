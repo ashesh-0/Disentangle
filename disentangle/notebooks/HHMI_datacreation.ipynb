{
 "cells": [
  {
   "cell_type": "code",
   "execution_count": null,
   "metadata": {},
   "outputs": [],
   "source": [
    "from disentangle.core.tiff_reader import load_tiff\n",
    "datadir = '/group/jug/ashesh/data/HHMI25/'\n",
    "resize_factor = 3\n",
    "output_dir = f'/group/jug/ashesh/data/HHMI25_smaller_{resize_factor}/'\n",
    "fnames = [\n",
    "    'Composite_region1_CF_L3L3.tif',\n",
    "'Composite_region3_6am_CF_L3L2.tif',\n",
    "'Composite_region5_6am_L3L1.tif',\n",
    "'Composite_region2_6AM_CF_L3L3.tif',\n",
    "'Composite_region4_6am_L3L2.tif',\n",
    "'Composite_region7_CF_12noon_L3L4.tif',\n",
    "]"
   ]
  },
  {
   "cell_type": "code",
   "execution_count": null,
   "metadata": {},
   "outputs": [],
   "source": [
    "data = load_tiff(datadir + fnames[0])\n",
    "data.shape"
   ]
  },
  {
   "cell_type": "code",
   "execution_count": null,
   "metadata": {},
   "outputs": [],
   "source": [
    "from skimage.transform import resize\n",
    "image_resized = resize(data[:5]*1.0, (5, data.shape[1], data.shape[-2] // resize_factor, data.shape[-1] // resize_factor), anti_aliasing=True) \n"
   ]
  },
  {
   "cell_type": "code",
   "execution_count": null,
   "metadata": {},
   "outputs": [],
   "source": [
    "# resize using\n",
    "from skimage.transform import resize\n",
    "from disentangle.core.tiff_reader import save_tiff\n",
    "import os\n",
    "from tqdm import tqdm\n",
    "\n",
    "for fname in tqdm(fnames):\n",
    "    fpath = os.path.join(datadir, fname)\n",
    "    data = load_tiff(fpath)\n",
    "    image_resized = resize(data*1.0, (data.shape[0], data.shape[1], data.shape[-2] // resize_factor, data.shape[-1] // resize_factor), anti_aliasing=True) \n",
    "    output_fpath = os.path.join(output_dir, fname)\n",
    "    print(image_resized.shape, output_fpath)\n",
    "    save_tiff(output_fpath, image_resized)\n"
   ]
  },
  {
   "cell_type": "code",
   "execution_count": null,
   "metadata": {},
   "outputs": [],
   "source": [
    "image_resized.shape"
   ]
  },
  {
   "cell_type": "code",
   "execution_count": null,
   "metadata": {},
   "outputs": [],
   "source": [
    "import matplotlib.pyplot as plt\n",
    "plt.imshow(image_resized[0,4])"
   ]
  },
  {
   "cell_type": "code",
   "execution_count": null,
   "metadata": {},
   "outputs": [],
   "source": [
    "import numpy as np\n",
    "\n",
    "def stats(data):\n",
    "    for ch in range(data.shape[1]):\n",
    "        mean_arr = [data[i, ch].mean() for i in range(data.shape[0])]\n",
    "        std_arr = [data[i, ch].std() for i in range(data.shape[0])]\n",
    "        min_arr = [data[i, ch].min() for i in range(data.shape[0])]\n",
    "        max_arr = [data[i, ch].max() for i in range(data.shape[0])]\n",
    "        q_arr = [np.quantile(data[i, ch], 0.99) for i in range(data.shape[0])]\n",
    "        mean_str = f'{np.mean(mean_arr):.2f} ± {np.std(mean_arr):.2f}'\n",
    "        std_str = f'{np.mean(std_arr):.2f} ± {np.std(std_arr):.2f}'\n",
    "        min_str = f'{np.mean(min_arr):.2f} ± {np.std(min_arr):.2f}'\n",
    "        max_str = f'{np.mean(max_arr):.2f} ± {np.std(max_arr):.2f}'\n",
    "        q_str = f'{np.mean(q_arr):.2f} ± {np.std(q_arr):.2f}'\n",
    "        print(f'Channel {ch}: mean: {mean_str}, std: {std_str}, min: {min_str}, max: {max_str}, 99th percentile: {q_str}')\n",
    "        \n",
    "    \n"
   ]
  },
  {
   "cell_type": "code",
   "execution_count": null,
   "metadata": {},
   "outputs": [],
   "source": [
    "import os\n",
    "stats(load_tiff(os.path.join(output_dir, fnames[0])))"
   ]
  },
  {
   "cell_type": "code",
   "execution_count": null,
   "metadata": {},
   "outputs": [],
   "source": [
    "import matplotlib.pyplot as plt\n",
    "import numpy as np\n",
    "\n",
    "_,ax = plt.subplots(figsize=(18,6),ncols=6,nrows=2)\n",
    "idx = np.random.randint(0, data.shape[0])\n",
    "print(idx)\n",
    "ax[0,0].imshow(data[idx].mean(axis=0)[::4,::4], cmap='gray')\n",
    "for i in range(6):\n",
    "    ax[1,i].imshow(data[idx,i,::4,::4], cmap='gray')\n",
    "\n"
   ]
  },
  {
   "cell_type": "code",
   "execution_count": null,
   "metadata": {},
   "outputs": [],
   "source": [
    "data.shape"
   ]
  },
  {
   "cell_type": "code",
   "execution_count": null,
   "metadata": {},
   "outputs": [],
   "source": []
  },
  {
   "cell_type": "code",
   "execution_count": null,
   "metadata": {},
   "outputs": [],
   "source": [
    "# resize using\n",
    "from skimage.transform import resize\n",
    "from disentangle.core.tiff_reader import save_tiff\n",
    "import os\n",
    "from tqdm import tqdm\n",
    "output_dir_reweighted = '/group/jug/ashesh/data/HHMI25_reweighted/'\n",
    "for fname in tqdm(fnames):\n",
    "    fpath = os.path.join(datadir, fname)\n",
    "    print('loading ', fpath)\n",
    "    data = load_tiff(fpath)\n",
    "    image_reweighted = data.copy() * 1.0\n",
    "    image_reweighted[:,2] = image_reweighted[:,2]*2\n",
    "    output_fpath = os.path.join(output_dir_reweighted, fname)\n",
    "    save_tiff(output_fpath, image_reweighted)\n",
    "    print('saved ', output_fpath)\n"
   ]
  },
  {
   "cell_type": "code",
   "execution_count": null,
   "metadata": {},
   "outputs": [],
   "source": [
    "stats(load_tiff(os.path.join(output_dir_reweighted, fnames[0])))"
   ]
  },
  {
   "cell_type": "code",
   "execution_count": null,
   "metadata": {},
   "outputs": [],
   "source": [
    "from disentangle.core.tiff_reader import load_tiff\n",
    "import matplotlib.pyplot as plt\n",
    "data = load_tiff('/group/jug/ashesh/data/paper_stats/Test_P64_G32_M3_Sk0/pred_training_disentangle_2505_D32-M3-S0-L8_31_1.tif')"
   ]
  },
  {
   "cell_type": "code",
   "execution_count": null,
   "metadata": {},
   "outputs": [],
   "source": [
    "data.shape"
   ]
  },
  {
   "cell_type": "code",
   "execution_count": null,
   "metadata": {},
   "outputs": [],
   "source": [
    "plt.imshow(data[0,0,0,...,5], cmap='gray')"
   ]
  },
  {
   "cell_type": "code",
   "execution_count": null,
   "metadata": {},
   "outputs": [],
   "source": []
  }
 ],
 "metadata": {
  "kernelspec": {
   "display_name": "Python 3",
   "language": "python",
   "name": "python3"
  },
  "language_info": {
   "codemirror_mode": {
    "name": "ipython",
    "version": 3
   },
   "file_extension": ".py",
   "mimetype": "text/x-python",
   "name": "python",
   "nbconvert_exporter": "python",
   "pygments_lexer": "ipython3",
   "version": "3.9.19"
  }
 },
 "nbformat": 4,
 "nbformat_minor": 2
}
