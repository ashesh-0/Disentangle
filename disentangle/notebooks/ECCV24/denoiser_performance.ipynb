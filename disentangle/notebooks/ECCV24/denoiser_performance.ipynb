{
 "cells": [
  {
   "cell_type": "code",
   "execution_count": null,
   "metadata": {},
   "outputs": [],
   "source": [
    "from disentangle.config_utils import get_configdir_from_saved_predictionfile\n",
    "import ml_collections\n",
    "import os\n",
    "from disentangle.config_utils import load_config\n",
    "from disentangle.core.data_type import DataType\n",
    "from disentangle.scripts.evaluate import * \n",
    "from disentangle.core.data_split_type import DataSplitType\n",
    "from disentangle.core.tiff_reader import load_tiff\n",
    "denoised_fpath = '/group/jug/ashesh/data/paper_stats/All_P128_G64_M50_Sk44/pred_disentangle_2403_D16-M23-S0-L0_17.tif'\n",
    "paper_figures_dir = '/group/jug/ashesh/data/paper_figures'\n",
    "\n",
    "denoised_data = load_tiff(denoised_fpath)\n",
    "denoiser_configdir = get_configdir_from_saved_predictionfile(os.path.basename(denoised_fpath))\n",
    "denoiser_config = load_config(denoiser_configdir)\n",
    "denoiser_config = ml_collections.ConfigDict(denoiser_config)\n",
    "eval_datasplit_type = DataSplitType.Test\n",
    "if denoiser_config.data.data_type == DataType.BioSR_MRC:\n",
    "    denoiser_input_dir = '/group/jug/ashesh/data/BioSR/'\n",
    "elif denoiser_config.data.data_type == DataType.OptiMEM100_014:\n",
    "    denoiser_input_dir = '/group/jug/ashesh/data/microscopy/OptiMEM100x014.tif'\n",
    "elif denoiser_config.data.data_type == DataType.SeparateTiffData:\n",
    "    denoiser_input_dir = '/group/jug/ashesh/data/ventura_gigascience/'\n",
    "    denoiser_config.data.ch1_fname = denoiser_config.data.ch1_fname.replace('lowsnr', 'highsnr')\n",
    "    denoiser_config.data.ch2_fname = denoiser_config.data.ch2_fname.replace('lowsnr', 'highsnr')\n",
    "with denoiser_config.unlocked():\n",
    "    highres_data = get_data_without_synthetic_noise(denoiser_input_dir, denoiser_config, eval_datasplit_type)\n",
    "\n",
    "if denoiser_config.model.denoise_channel == 'Ch1':\n",
    "    highres_data = highres_data[...,0]\n",
    "elif denoiser_config.model.denoise_channel == 'Ch2':\n",
    "    highres_data = highres_data[...,1]\n",
    "elif denoiser_config.model.denoise_channel == 'input':\n",
    "    highres_data = np.mean(highres_data, axis=-1)\n",
    "else:\n",
    "    raise ValueError('Invalid denoise channel')\n"
   ]
  },
  {
   "cell_type": "code",
   "execution_count": null,
   "metadata": {},
   "outputs": [],
   "source": []
  },
  {
   "cell_type": "code",
   "execution_count": null,
   "metadata": {},
   "outputs": [],
   "source": [
    "def get_noisy_data(highres_data):\n",
    "    poisson_noise_factor = denoiser_config.data.poisson_noise_factor\n",
    "    noisy_data = (np.random.poisson(highres_data / poisson_noise_factor) * poisson_noise_factor).astype(np.float32)\n",
    "\n",
    "    if denoiser_config.data.get('enable_gaussian_noise', False):\n",
    "        synthetic_scale = denoiser_config.data.get('synthetic_gaussian_scale', 0.1)\n",
    "        shape = highres_data.shape\n",
    "        noisy_data += np.random.normal(0, synthetic_scale, shape)\n",
    "    return noisy_data\n"
   ]
  },
  {
   "cell_type": "code",
   "execution_count": null,
   "metadata": {},
   "outputs": [],
   "source": [
    "noisy_data = get_noisy_data(highres_data)"
   ]
  },
  {
   "cell_type": "code",
   "execution_count": null,
   "metadata": {},
   "outputs": [],
   "source": [
    "import matplotlib.pyplot as plt\n",
    "from disentangle.analysis.plot_utils import clean_ax\n",
    "nimgs = 3\n",
    "imgsz = 2\n",
    "factor = 1.2\n",
    "_,ax = plt.subplots(figsize=(imgsz*3/factor,nimgs*imgsz),ncols=3,nrows=nimgs)\n",
    "h = 256\n",
    "w = int(256/factor)\n",
    "for i in range(nimgs):\n",
    "    hs = np.random.randint(0, highres_data.shape[1]-h)\n",
    "    ws = np.random.randint(0, highres_data.shape[2]-w)\n",
    "    print(h,w)\n",
    "    ax[i,0].imshow(noisy_data[0,hs:hs+h,ws:ws+w],cmap='magma')\n",
    "    ax[i,1].imshow(denoised_data[0,hs:hs+h,ws:ws+w,0],cmap='magma')\n",
    "    ax[i,2].imshow(highres_data[0,hs:hs+h,ws:ws+w],cmap='magma')\n",
    "\n",
    "ax[0,0].set_title('Noisy')\n",
    "ax[0,1].set_title('Denoised')\n",
    "ax[0,2].set_title('High SNR')\n",
    "clean_ax(ax)\n",
    "plt.subplots_adjust(wspace=0.02, hspace=0.02)\n",
    "postfix = os.path.basename(denoised_fpath).replace('pred_disentangle_', '').replace('.tif', '')\n",
    "fpath = os.path.join(paper_figures_dir, f'denoising_{postfix}.png')\n",
    "plt.savefig(fpath, bbox_inches='tight', dpi=200)\n",
    "print(fpath)\n"
   ]
  },
  {
   "cell_type": "code",
   "execution_count": null,
   "metadata": {},
   "outputs": [],
   "source": [
    "highres_data.shape"
   ]
  },
  {
   "cell_type": "code",
   "execution_count": null,
   "metadata": {},
   "outputs": [],
   "source": [
    "h,w"
   ]
  },
  {
   "cell_type": "code",
   "execution_count": null,
   "metadata": {},
   "outputs": [],
   "source": []
  }
 ],
 "metadata": {
  "kernelspec": {
   "display_name": "Python 3",
   "language": "python",
   "name": "python3"
  },
  "language_info": {
   "codemirror_mode": {
    "name": "ipython",
    "version": 3
   },
   "file_extension": ".py",
   "mimetype": "text/x-python",
   "name": "python",
   "nbconvert_exporter": "python",
   "pygments_lexer": "ipython3",
   "version": "3.9.18"
  }
 },
 "nbformat": 4,
 "nbformat_minor": 2
}
