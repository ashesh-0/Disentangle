{
 "cells": [
  {
   "cell_type": "code",
   "execution_count": null,
   "metadata": {},
   "outputs": [],
   "source": [
    "from disentangle.data_loader.multicrops_dset import MultiCropDset\n",
    "from disentangle.core.data_split_type   import DataSplitType\n",
    "from disentangle.core.data_type import DataType"
   ]
  },
  {
   "cell_type": "code",
   "execution_count": null,
   "metadata": {},
   "outputs": [],
   "source": [
    "import ml_collections as ml\n",
    "datadir = '/group/jug/ashesh/data/Elisa/patchdataset/'\n",
    "data_config = ml.ConfigDict()\n",
    "data_config.channel_list = ['puncta','foreground']\n",
    "data_config.image_size = 128\n",
    "data_config.input_is_sum = True\n",
    "data_config.background_values = [100,100]\n",
    "data_config.max_val = [None, 137]\n",
    "data_config.data_type = DataType.MultiCropDset\n",
    "\n",
    "data = MultiCropDset(data_config,datadir, DataSplitType.All, val_fraction=0.1, test_fraction=0.1, enable_rotation_aug=True)\n",
    "mean, std = data.compute_mean_std()\n",
    "data.set_mean_std(mean, std)\n",
    "inp, tar = data[0]\n",
    "print(data.compute_mean_std())\n",
    "print(len(data))"
   ]
  },
  {
   "cell_type": "code",
   "execution_count": null,
   "metadata": {},
   "outputs": [],
   "source": [
    "import matplotlib.pyplot as plt\n",
    "\n",
    "inp, tar = data[0]\n",
    "_,ax = plt.subplots(figsize=(9,3),ncols=3)\n",
    "ax[0].imshow(inp[0])\n",
    "ax[1].imshow(tar[0])\n",
    "ax[2].imshow(tar[1])\n",
    "print(tar[0].max(), tar[1].max())"
   ]
  },
  {
   "cell_type": "code",
   "execution_count": null,
   "metadata": {},
   "outputs": [],
   "source": [
    "len(data._data_arr[1])"
   ]
  },
  {
   "cell_type": "code",
   "execution_count": null,
   "metadata": {},
   "outputs": [],
   "source": [
    "import numpy as np\n",
    "arr = np.concatenate([x.reshape(-1,1) for x in data._data_arr[1]] )"
   ]
  },
  {
   "cell_type": "code",
   "execution_count": null,
   "metadata": {},
   "outputs": [],
   "source": [
    "np.quantile(arr,0.995)"
   ]
  },
  {
   "cell_type": "code",
   "execution_count": null,
   "metadata": {},
   "outputs": [],
   "source": [
    "[data._data_arr[1][k].max() for k in range(len(data._data_arr[1]))]"
   ]
  },
  {
   "cell_type": "code",
   "execution_count": null,
   "metadata": {},
   "outputs": [],
   "source": [
    "import matplotlib.pyplot as plt\n",
    "img = data._data_arr[1][0]\n",
    "plt.imshow(img > 30)"
   ]
  },
  {
   "cell_type": "code",
   "execution_count": null,
   "metadata": {},
   "outputs": [],
   "source": [
    "import matplotlib.pyplot as plt\n",
    "\n",
    "_,ax = plt.subplots(figsize=(12,4),ncols=3)\n",
    "inp, tar = data[0]\n",
    "ax[0].imshow(inp[0])\n",
    "ax[1].imshow(tar[0])\n",
    "ax[2].imshow(tar[1])"
   ]
  },
  {
   "cell_type": "code",
   "execution_count": null,
   "metadata": {},
   "outputs": [],
   "source": [
    "plt.imshow(data._data_arr[1][0])"
   ]
  },
  {
   "cell_type": "code",
   "execution_count": null,
   "metadata": {},
   "outputs": [],
   "source": [
    "data._data_arr[1][0].max()"
   ]
  },
  {
   "cell_type": "code",
   "execution_count": null,
   "metadata": {},
   "outputs": [],
   "source": []
  }
 ],
 "metadata": {
  "kernelspec": {
   "display_name": "Python 3",
   "language": "python",
   "name": "python3"
  },
  "language_info": {
   "codemirror_mode": {
    "name": "ipython",
    "version": 3
   },
   "file_extension": ".py",
   "mimetype": "text/x-python",
   "name": "python",
   "nbconvert_exporter": "python",
   "pygments_lexer": "ipython3",
   "version": "3.9.19"
  }
 },
 "nbformat": 4,
 "nbformat_minor": 2
}
