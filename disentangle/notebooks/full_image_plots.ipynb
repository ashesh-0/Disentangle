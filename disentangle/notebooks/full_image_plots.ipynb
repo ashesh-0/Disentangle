{
 "cells": [
  {
   "cell_type": "code",
   "execution_count": null,
   "metadata": {},
   "outputs": [],
   "source": [
    "from IPython.display import display, HTML\n",
    "display(HTML(\"<style>.container { width:100% !important; }</style>\"))"
   ]
  },
  {
   "cell_type": "code",
   "execution_count": null,
   "metadata": {},
   "outputs": [],
   "source": [
    "DEBUG = False"
   ]
  },
  {
   "cell_type": "code",
   "execution_count": null,
   "metadata": {},
   "outputs": [],
   "source": [
    "%run ./nb_core/root_dirs.ipynb\n",
    "setup_syspath_disentangle(DEBUG)\n",
    "%run ./nb_core/disentangle_imports.ipynb"
   ]
  },
  {
   "cell_type": "code",
   "execution_count": null,
   "metadata": {},
   "outputs": [],
   "source": [
    "from disentangle.analysis.plot_utils import clean_ax\n",
    "from disentangle.core.tiff_reader import load_tiff\n",
    "from disentangle.config_utils import load_config, get_configdir_from_saved_predictionfile\n",
    "from disentangle.core.data_split_type import DataSplitType\n",
    "from disentangle.scripts.evaluate import get_highsnr_data\n",
    "import ml_collections"
   ]
  },
  {
   "cell_type": "code",
   "execution_count": null,
   "metadata": {},
   "outputs": [],
   "source": [
    "noise_levels = [4450]\n",
    "pred_dir = '/group/jug/ashesh/data/paper_stats/'\n",
    "\n",
    "usplit_fname = {4450: 'Test_P64_G32_M5_Sk44/pred_disentangle_2402_D16-M3-S0-L0_42.tif'}\n",
    "denoiSplit_fname = {4450: 'Test_P256_G64_M5_Sk44/pred_disentangle_2402_D16-M3-S0-L0_16.tif'}\n",
    "denoiSplitNM_fname = {4450: 'Test_P256_G64_M5_Sk44/pred_disentangle_2402_D16-M3-S0-L0_62.tif'}\n",
    "hdn_usplit = {} #{4450: 'pred_disentangle_2402_D23-M3-S0-L0_34.tif'}"
   ]
  },
  {
   "cell_type": "code",
   "execution_count": null,
   "metadata": {},
   "outputs": [],
   "source": [
    "def sanity_check_config():\n",
    "    data_dicts = [usplit_fname, denoiSplit_fname, denoiSplitNM_fname]\n",
    "    for ith_data, ddict in enumerate(data_dicts):\n",
    "        for noise,fname in ddict.items():\n",
    "            configdir = get_configdir_from_saved_predictionfile(fname)\n",
    "            config = load_config(configdir)\n",
    "            assert 'synthetic_gaussian_scale' in config.data\n",
    "            assert config.data.synthetic_gaussian_scale == noise, f'{ith_data} {fname}: noise: {noise}, config: {config.data.synthetic_gaussian_scale}'\n",
    "    \n"
   ]
  },
  {
   "cell_type": "code",
   "execution_count": null,
   "metadata": {},
   "outputs": [],
   "source": [
    "sanity_check_config()"
   ]
  },
  {
   "cell_type": "markdown",
   "metadata": {},
   "source": [
    "### Loading target"
   ]
  },
  {
   "cell_type": "code",
   "execution_count": null,
   "metadata": {},
   "outputs": [],
   "source": [
    "configdir  = get_configdir_from_saved_predictionfile(denoiSplitNM_fname[noise_levels[0]])\n",
    "config = ml_collections.ConfigDict(load_config(configdir))\n",
    "highsnr_data = get_highsnr_data(config, config.datadir, DataSplitType.Test)"
   ]
  },
  {
   "cell_type": "markdown",
   "metadata": {},
   "source": [
    "### Loading predictions"
   ]
  },
  {
   "cell_type": "code",
   "execution_count": null,
   "metadata": {},
   "outputs": [],
   "source": [
    "usplit_data = {k: load_tiff(os.path.join(pred_dir, v)) for k,v in usplit_fname.items()}\n",
    "denoiSplit_data = {k: load_tiff(os.path.join(pred_dir, v)) for k,v in denoiSplit_fname.items()}\n",
    "denoiSplitNM_data = {k: load_tiff(os.path.join(pred_dir, v)) for k,v in denoiSplitNM_fname.items()}\n",
    "hdn_usplit_data = {k: load_tiff(os.path.join(pred_dir, v)) for k,v in hdn_usplit.items()}\n"
   ]
  },
  {
   "cell_type": "markdown",
   "metadata": {},
   "source": [
    "### Cropping the target to get to the same shape as the predictions"
   ]
  },
  {
   "cell_type": "code",
   "execution_count": null,
   "metadata": {},
   "outputs": [],
   "source": [
    "shape = usplit_data[noise_levels[0]].shape\n",
    "highsnr_data = highsnr_data[:, :shape[1], :shape[2]].copy()"
   ]
  },
  {
   "cell_type": "code",
   "execution_count": null,
   "metadata": {},
   "outputs": [],
   "source": [
    "def sanity_check_data():\n",
    "    # all shapes should be same\n",
    "    for noise_level in noise_levels:\n",
    "        shape = usplit_data[noise_level].shape\n",
    "        if noise_level in denoiSplit_data:\n",
    "            assert shape == denoiSplit_data[noise_level].shape\n",
    "        if noise_level in denoiSplitNM_data:\n",
    "            assert shape == denoiSplitNM_data[noise_level].shape\n",
    "        if noise_level in hdn_usplit_data:\n",
    "            assert shape == hdn_usplit_data[noise_level].shape\n",
    "        assert shape == highsnr_data.shape\n",
    "            "
   ]
  },
  {
   "cell_type": "code",
   "execution_count": null,
   "metadata": {},
   "outputs": [],
   "source": [
    "sanity_check_data()"
   ]
  },
  {
   "cell_type": "code",
   "execution_count": null,
   "metadata": {},
   "outputs": [],
   "source": [
    "import numpy as np\n",
    "def get_noisy_data(noise_level):\n",
    "    return highsnr_data + np.random.normal(0, noise_level, highsnr_data.shape)"
   ]
  },
  {
   "cell_type": "code",
   "execution_count": null,
   "metadata": {},
   "outputs": [],
   "source": [
    "noise_level = 4450\n",
    "noisy_data = get_noisy_data(4450)"
   ]
  },
  {
   "cell_type": "code",
   "execution_count": null,
   "metadata": {},
   "outputs": [],
   "source": [
    "data_idx = 0\n",
    "ncols = 3 + 2\n",
    "nrows = 2\n",
    "img_sz = 4\n",
    "_,ax = plt.subplots(figsize=(ncols*img_sz, nrows*img_sz), nrows=nrows, ncols=ncols)\n",
    "ax[0,0].imshow(np.mean(noisy_data[data_idx], axis=-1), cmap='magma')\n",
    "ax[0,0].set_title('Input')\n",
    "ax[0,1].imshow(noisy_data[data_idx,:,:,0], cmap='magma')\n",
    "ax[1,1].imshow(noisy_data[data_idx,:,:,1], cmap='magma')\n",
    "\n",
    "ax[0,2].imshow(usplit_data[noise_level][data_idx,...,0], cmap='magma')\n",
    "ax[1,2].imshow(usplit_data[noise_level][data_idx,...,1], cmap='magma')\n",
    "\n",
    "ax[0,3].imshow(denoiSplit_data[noise_level][data_idx,...,0], cmap='magma')\n",
    "ax[1,3].imshow(denoiSplit_data[noise_level][data_idx,...,1], cmap='magma')\n",
    "\n",
    "ax[0,4].imshow(highsnr_data[data_idx,...,0], cmap='magma')\n",
    "ax[1,4].imshow(highsnr_data[data_idx,...,1], cmap='magma')\n",
    "clean_ax(ax)\n"
   ]
  },
  {
   "cell_type": "code",
   "execution_count": null,
   "metadata": {},
   "outputs": [],
   "source": [
    "img_sz = 4\n",
    "nrows = 2\n",
    "ncols = 3\n",
    "_,ax = plt.subplots(figsize=(img_sz*ncols, img_sz*nrows),ncols=ncols, nrows=nrows)\n",
    "# plt.imshow(load_tiff(os.path.join(pred_dir, usplit_fname[noise_levels[0]]))[0,...,0])"
   ]
  },
  {
   "cell_type": "code",
   "execution_count": null,
   "metadata": {},
   "outputs": [],
   "source": [
    "plt.imshow(highsnr_data[0,...,0])"
   ]
  },
  {
   "cell_type": "code",
   "execution_count": null,
   "metadata": {},
   "outputs": [],
   "source": [
    "_, ax = plt.subplots(figsize=(10,5),ncols=2)\n",
    "ax[0].imshow(data[0,...,0], cmap='magma')\n",
    "ax[1].imshow(data[0,...,1], cmap='magma')"
   ]
  },
  {
   "cell_type": "code",
   "execution_count": null,
   "metadata": {},
   "outputs": [],
   "source": []
  }
 ],
 "metadata": {
  "kernelspec": {
   "display_name": "Python 3",
   "language": "python",
   "name": "python3"
  },
  "language_info": {
   "codemirror_mode": {
    "name": "ipython",
    "version": 3
   },
   "file_extension": ".py",
   "mimetype": "text/x-python",
   "name": "python",
   "nbconvert_exporter": "python",
   "pygments_lexer": "ipython3",
   "version": "3.9.18"
  }
 },
 "nbformat": 4,
 "nbformat_minor": 2
}
