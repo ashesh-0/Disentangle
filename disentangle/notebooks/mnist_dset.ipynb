{
 "cells": [
  {
   "cell_type": "code",
   "execution_count": null,
   "metadata": {},
   "outputs": [],
   "source": [
    "from mnist import MNIST\n",
    "mndata = MNIST('/group/jug/ashesh/data/MNIST/')\n",
    "images, labels = mndata.load_training()\n",
    "test_images, test_labels = mndata.load_testing()\n"
   ]
  },
  {
   "cell_type": "code",
   "execution_count": null,
   "metadata": {},
   "outputs": [],
   "source": [
    "import numpy as np\n",
    "import matplotlib.pyplot as plt\n",
    "plt.imshow(np.array(images[0]).reshape(28, 28))"
   ]
  },
  {
   "cell_type": "code",
   "execution_count": null,
   "metadata": {},
   "outputs": [],
   "source": [
    "import ml_collections\n",
    "c = ml_collections.ConfigDict()"
   ]
  },
  {
   "cell_type": "code",
   "execution_count": null,
   "metadata": {},
   "outputs": [],
   "source": [
    "c.data = [{'name':'a'}, {'name': 'b'}]"
   ]
  },
  {
   "cell_type": "code",
   "execution_count": null,
   "metadata": {},
   "outputs": [],
   "source": [
    "from disentangle.data_loader.mnist_dset import MnistDset\n",
    "from finetunesplit.asymmetric_transforms import TransformEnum\n",
    "from disentangle.core.data_split_type import DataSplitType\n",
    "\n",
    "data_dir = '/group/jug/ashesh/data/MNIST/'\n",
    "data_config = ml_collections.ConfigDict()\n",
    "data_config.ch0_labels_list = [0, 1]\n",
    "data_config.ch1_labels_list = [3,4]\n",
    "data_config.ch1_transforms_params = [{'name':TransformEnum.DeepInV, 'aug_theta_max':10,'aug_theta_z_max':0,'aug_shift_max':0.0, 'padding': 'zeros'}]\n",
    "data_config.ch2_transforms_params = [{'name':TransformEnum.Identity}] #, {'name': TransformEnum.HFlip}, {'name': TransformEnum.VFlip}\n",
    "dset = MnistDset(data_config, data_dir, datasplit_type=DataSplitType.Train, val_fraction=0.1, random_indices=False)"
   ]
  },
  {
   "cell_type": "code",
   "execution_count": null,
   "metadata": {},
   "outputs": [],
   "source": [
    "inp, tar = dset[10]\n",
    "print(inp.shape, tar.shape)"
   ]
  },
  {
   "cell_type": "code",
   "execution_count": null,
   "metadata": {},
   "outputs": [],
   "source": [
    "import matplotlib.pyplot as plt\n",
    "_,ax = plt.subplots(figsize=(9,3),ncols=3)\n",
    "ax[0].imshow(inp[0])\n",
    "ax[1].imshow(tar[0])\n",
    "ax[2].imshow(tar[1])"
   ]
  },
  {
   "cell_type": "code",
   "execution_count": null,
   "metadata": {},
   "outputs": [],
   "source": []
  },
  {
   "cell_type": "code",
   "execution_count": null,
   "metadata": {},
   "outputs": [],
   "source": []
  }
 ],
 "metadata": {
  "kernelspec": {
   "display_name": "Python 3",
   "language": "python",
   "name": "python3"
  },
  "language_info": {
   "codemirror_mode": {
    "name": "ipython",
    "version": 3
   },
   "file_extension": ".py",
   "mimetype": "text/x-python",
   "name": "python",
   "nbconvert_exporter": "python",
   "pygments_lexer": "ipython3",
   "version": "3.9.19"
  }
 },
 "nbformat": 4,
 "nbformat_minor": 2
}
