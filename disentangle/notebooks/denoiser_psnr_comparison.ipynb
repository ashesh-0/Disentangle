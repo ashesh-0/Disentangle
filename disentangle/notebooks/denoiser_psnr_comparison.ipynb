{
 "cells": [
  {
   "cell_type": "markdown",
   "metadata": {},
   "source": [
    "## Objective\n",
    "Here, we inspect the denoiser performance. we use the stored prediction files to do that."
   ]
  },
  {
   "cell_type": "code",
   "execution_count": null,
   "metadata": {},
   "outputs": [],
   "source": [
    "from IPython.display import display, HTML\n",
    "display(HTML(\"<style>.container { width:100% !important; }</style>\"))"
   ]
  },
  {
   "cell_type": "code",
   "execution_count": null,
   "metadata": {},
   "outputs": [],
   "source": [
    "import os\n",
    "DEBUG=False\n",
    "%run ./nb_core/root_dirs.ipynb\n",
    "setup_syspath_disentangle(DEBUG)\n",
    "%run ./nb_core/disentangle_imports.ipynb"
   ]
  },
  {
   "cell_type": "code",
   "execution_count": null,
   "metadata": {},
   "outputs": [],
   "source": []
  },
  {
   "cell_type": "code",
   "execution_count": null,
   "metadata": {},
   "outputs": [],
   "source": [
    "from disentangle.scripts.evaluate import * \n",
    "from disentangle.config_utils import get_configdir_from_saved_predictionfile, load_config\n",
    "from disentangle.core.data_split_type import DataSplitType\n",
    "from disentangle.core.tiff_reader import load_tiff\n",
    "from disentangle.core.data_split_type import get_datasplit_tuples\n",
    "import ml_collections\n",
    "\n",
    "\n",
    "\n",
    "# data_dir = '/group/jug/ashesh/data/paper_stats/All_P128_G64_M50_Sk44/'\n",
    "data_dir = '/group/jug/ashesh/data/paper_stats/All_P128_G64_M50_Sk32'\n",
    "# data_dir = '/group/jug/ashesh/data/paper_stats/All_P128_G64_M50_Sk0'\n",
    "denoiser_prediction_fname = \"pred_disentangle_2402_D3-M23-S0-L0_11.tif\"\n",
    "channel_idx = 0\n",
    "\n",
    "# get the prediction. \n",
    "pred = load_tiff(os.path.join(data_dir, denoiser_prediction_fname))\n",
    "_, _ , test_idx = get_datasplit_tuples(0.1, 0.1, pred.shape[0], starting_test = False)\n",
    "test_pred = pred[test_idx]\n",
    "denoiser_configdir = get_configdir_from_saved_predictionfile(denoiser_prediction_fname)\n",
    "print(denoiser_configdir)\n",
    "\n",
    "# get the highres data\n",
    "denoiser_config = load_config(denoiser_configdir)\n",
    "denoiser_config = ml_collections.ConfigDict(denoiser_config)\n",
    "if denoiser_config.data.data_type == DataType.BioSR_MRC:\n",
    "    denoiser_input_dir = '/group/jug/ashesh/data/BioSR/'\n",
    "elif denoiser_config.data.data_type == DataType.OptiMEM100_014:\n",
    "    denoiser_input_dir = '/group/jug/ashesh/data/microscopy/OptiMEM100x014.tif'\n",
    "elif denoiser_config.data.data_type == DataType.SeparateTiffData:\n",
    "    denoiser_input_dir = '/group/jug/ashesh/data/ventura_gigascience/'\n",
    "    denoiser_config.data.ch1_fname = denoiser_config.data.ch1_fname.replace('lowsnr', 'highsnr')\n",
    "    denoiser_config.data.ch2_fname = denoiser_config.data.ch2_fname.replace('lowsnr', 'highsnr')\n",
    "with denoiser_config.unlocked():\n",
    "    highres_data = get_data_without_synthetic_noise(denoiser_input_dir, denoiser_config, DataSplitType.Test)\n",
    "\n",
    "h, w = pred.shape[1:3]\n",
    "highres_data = highres_data[:, :h, :w]\n",
    "highres_data = highres_data[..., channel_idx].copy()"
   ]
  },
  {
   "cell_type": "code",
   "execution_count": null,
   "metadata": {},
   "outputs": [],
   "source": [
    "_,ax = plt.subplots(figsize=(8,4),ncols=2)\n",
    "ax[0].imshow(test_pred[-1])\n",
    "ax[1].imshow(highres_data[-1,...])"
   ]
  },
  {
   "cell_type": "code",
   "execution_count": null,
   "metadata": {},
   "outputs": [],
   "source": [
    "from disentangle.core.psnr import RangeInvariantPsnr\n",
    "print(f'PSNR: {RangeInvariantPsnr(highres_data.astype(np.float32), test_pred.astype(np.float32)).mean().item():.2f}')"
   ]
  },
  {
   "cell_type": "code",
   "execution_count": null,
   "metadata": {},
   "outputs": [],
   "source": [
    "## 33.76\n",
    "## 33.20\n",
    "##  32.90"
   ]
  }
 ],
 "metadata": {
  "kernelspec": {
   "display_name": "Python 3",
   "language": "python",
   "name": "python3"
  },
  "language_info": {
   "codemirror_mode": {
    "name": "ipython",
    "version": 3
   },
   "file_extension": ".py",
   "mimetype": "text/x-python",
   "name": "python",
   "nbconvert_exporter": "python",
   "pygments_lexer": "ipython3",
   "version": "3.9.18"
  }
 },
 "nbformat": 4,
 "nbformat_minor": 2
}
