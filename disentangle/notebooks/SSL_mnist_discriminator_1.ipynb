{
 "cells": [
  {
   "cell_type": "markdown",
   "metadata": {},
   "source": [
    "## Objective\n",
    "Here, we play with discriminators. The idea is to be able to discriminate between the two classes. "
   ]
  },
  {
   "cell_type": "code",
   "execution_count": null,
   "metadata": {},
   "outputs": [],
   "source": [
    "from disentangle.configs.mnist_config import get_config\n",
    "from disentangle.training import create_dataset\n",
    "# from disentangle.loss.ssl_finetuning import finetune_two_forward_passes\n",
    "from disentangle.loss.ssl_with_discriminator import finetune_with_D_two_forward_passes\n",
    "from disentangle.nets.model_utils import create_model\n",
    "import torch\n",
    "torch.autograd.set_detect_anomaly(True)"
   ]
  },
  {
   "cell_type": "code",
   "execution_count": null,
   "metadata": {
    "tags": [
     "parameters"
    ]
   },
   "outputs": [],
   "source": [
    "k_moment_value = 2\n",
    "best_t_estimate = 0.5\n",
    "psnr_evaluation = False\n",
    "\n",
    "max_step_count = 40_000\n",
    "skip_pixels=0\n",
    "validation_step_freq = 5000\n",
    "k_augmentations = 1\n",
    "enable_mixing_aug = True\n",
    "\n",
    "lr = 1e-3\n",
    "batch_size = 128\n",
    "D_mode='-1_1'\n",
    "D_realimg_key='pred_FP1'\n",
    "D_fakeimg_key='pred_FP1_aug'\n",
    "D_gp_lambda=0.0\n",
    "external_real_data_probability = 1.0\n",
    "train_G_on_both_real_and_fake = True\n",
    "\n",
    "# how many discriminator steps per generator step\n",
    "k_Dsteps_perG = 1/5\n",
    "D_loss_scalar = 0.001\n",
    "D_only_one_channel_idx = None\n",
    "tv_weight = 0.1"
   ]
  },
  {
   "cell_type": "code",
   "execution_count": null,
   "metadata": {},
   "outputs": [],
   "source": [
    "config = get_config()\n",
    "datadir = '/group/jug/ashesh/data/MNIST/'\n",
    "train_dset, val_dset = create_dataset(config, datadir)"
   ]
  },
  {
   "cell_type": "code",
   "execution_count": null,
   "metadata": {},
   "outputs": [],
   "source": [
    "data_mean, data_std = train_dset.get_mean_std()\n",
    "model = create_model(config, data_mean, data_std, val_idx_manager=None)\n",
    "model = model.cuda()\n",
    "model.set_params_to_same_device_as(torch.Tensor([1]).cuda())"
   ]
  },
  {
   "cell_type": "code",
   "execution_count": null,
   "metadata": {},
   "outputs": [],
   "source": [
    "val_dset.train_mode()\n",
    "data = []\n",
    "k_times = 5\n",
    "for _ in range(k_times):\n",
    "    for idx in range(len(val_dset)):\n",
    "        _, tar = val_dset[idx]\n",
    "        data.append(tar)\n",
    "\n",
    "data = torch.stack(data, dim=0)\n",
    "data_normalized = data/255.0"
   ]
  },
  {
   "cell_type": "code",
   "execution_count": null,
   "metadata": {},
   "outputs": [],
   "source": [
    "import matplotlib.pyplot as plt\n",
    "_,ax = plt.subplots(figsize=(20,4),ncols=10,nrows=2)\n",
    "for i in range(10):\n",
    "    ax[0,i].imshow(data[i,0].cpu().numpy(), cmap='gray')\n",
    "    ax[0,i].axis('off')\n",
    "    ax[1,i].imshow(data[i,1].cpu().numpy(), cmap='gray')\n",
    "    ax[1,i].axis('off')\n",
    "# reduce the space between subplots\n",
    "plt.subplots_adjust(wspace=0.05, hspace=0.05)"
   ]
  },
  {
   "cell_type": "code",
   "execution_count": null,
   "metadata": {},
   "outputs": [],
   "source": [
    "from disentangle.loss.ssl_finetuning import get_stats_loss_func\n",
    "import numpy as np\n",
    "\n",
    "# ch0 = val_dset._ch0_images\n",
    "# ch1 = val_dset._ch1_images\n",
    "# n = min(len(ch0), len(ch1))\n",
    "# data = np.stack([ch0[:n], ch1[:n]], axis=1)\n",
    "# print(data.shape)\n",
    "stats_loss_func = get_stats_loss_func(data_normalized, k_moment_value)\n",
    "stats_loss_func(torch.Tensor(data_normalized[:15]))"
   ]
  },
  {
   "cell_type": "code",
   "execution_count": null,
   "metadata": {},
   "outputs": [],
   "source": [
    "import matplotlib.pyplot as plt\n",
    "nimgs = 5*2\n",
    "imgsz = 2\n",
    "_,ax = plt.subplots(figsize=(6*imgsz,imgsz*nimgs//2), ncols=6, nrows=nimgs//2)\n",
    "ax[0,0].set_title('input')\n",
    "ax[0,1].set_title('target C1')\n",
    "ax[0,2].set_title('target C2')\n",
    "\n",
    "ax[0,3].set_title('input')\n",
    "ax[0,4].set_title('target C1')\n",
    "ax[0,5].set_title('target C2')\n",
    "\n",
    "for i in range(nimgs):\n",
    "    row_idx = i//2\n",
    "    col_idx = 3 * (i%2)\n",
    "    idx = np.random.randint(len(train_dset))\n",
    "    inp, tar = train_dset[idx]\n",
    "    ax[row_idx,col_idx+0].imshow(inp[0], cmap='gray')\n",
    "    ax[row_idx,col_idx+0].axis('off')\n",
    "    ax[row_idx,col_idx+1].imshow(tar[0], cmap='gray')\n",
    "    ax[row_idx,col_idx+1].axis('off')\n",
    "    ax[row_idx,col_idx+2].imshow(tar[1], cmap='gray')\n",
    "    ax[row_idx,col_idx+2].axis('off')\n",
    "# remve space between subplots\n",
    "plt.subplots_adjust(hspace=0.01, wspace=0.01)"
   ]
  },
  {
   "cell_type": "code",
   "execution_count": null,
   "metadata": {},
   "outputs": [],
   "source": [
    "from disentangle.data_loader.mnist_dset import get_transform_obj\n",
    "transform_all = get_transform_obj(config.data.ch0_transforms_params, config.data.ch1_transforms_params, device='cuda')\n",
    "external_real_data = data_normalized\n",
    "\n",
    "# define a learnable scalar and an offset \n",
    "factor1 = torch.nn.Parameter(torch.tensor(1.0).cuda())\n",
    "offset1 = torch.nn.Parameter(torch.tensor(0.0).cuda())\n",
    "\n",
    "factor2 = torch.nn.Parameter(torch.tensor(1.0).cuda())\n",
    "offset2 = torch.nn.Parameter(torch.tensor(0.0).cuda())\n",
    "mixing_ratio = torch.nn.Parameter(torch.tensor(best_t_estimate).cuda())\n",
    "\n",
    "optimization_params = model.parameters()\n",
    "finetuning_output_dict = finetune_with_D_two_forward_passes(model, \n",
    "                                                            val_dset, \n",
    "                                                            val_dset, \n",
    "                                                            transform_all, \n",
    "                                                    max_step_count=max_step_count, \n",
    "                                                    external_real_data=external_real_data,\n",
    "                                                    external_real_data_probability=external_real_data_probability,\n",
    "                                                    batch_size=batch_size, \n",
    "                                                    skip_pixels=skip_pixels,\n",
    "                                                    validation_step_freq=validation_step_freq,\n",
    "                                scalar_params_dict={'factor1':factor1, 'offset1':offset1, 'factor2':factor2, 'offset2':offset2, 'mixing_ratio':mixing_ratio},\n",
    "                                optimization_params_dict={'lr':lr, 'parameters': optimization_params},\n",
    "                                D_mode=D_mode,\n",
    "                                D_realimg_key=D_realimg_key,\n",
    "                                D_fakeimg_key=D_fakeimg_key,\n",
    "                                D_gp_lambda=D_gp_lambda,\n",
    "                                D_loss_scalar=D_loss_scalar,\n",
    "                                k_Dsteps_perG=k_Dsteps_perG,\n",
    "                                tv_weight=tv_weight,\n",
    "                                k_augmentations=k_augmentations,\n",
    "                                stats_enforcing_loss_fn=lambda x : stats_loss_func(x),\n",
    "                                sample_mixing_ratio=enable_mixing_aug,\n",
    "                                D_only_one_channel_idx=D_only_one_channel_idx,\n",
    "                                D_train_G_on_both_real_and_fake = train_G_on_both_real_and_fake, \n",
    "                                # psnr_evaluation=psnr_evaluation,\n",
    "                                )\n"
   ]
  },
  {
   "cell_type": "code",
   "execution_count": null,
   "metadata": {},
   "outputs": [],
   "source": [
    "plt.plot(finetuning_output_dict['loss_tv'])"
   ]
  },
  {
   "cell_type": "code",
   "execution_count": null,
   "metadata": {},
   "outputs": [],
   "source": [
    "from disentangle.analysis.ssl_plots import plot_finetuning_loss\n",
    "plot_finetuning_loss(finetuning_output_dict)\n"
   ]
  },
  {
   "cell_type": "code",
   "execution_count": null,
   "metadata": {},
   "outputs": [],
   "source": [
    "import matplotlib.pyplot as plt\n",
    "from disentangle.analysis.plot_utils import clean_ax\n",
    "nimgs = 3\n",
    "imgsz = 2\n",
    "offset = imgsz*nimgs*0.3\n",
    "_,ax = plt.subplots(figsize=(4*imgsz,2*imgsz*nimgs + offset),nrows=2*nimgs,ncols=4)\n",
    "\n",
    "val_dset.train_mode()\n",
    "for img_idx in range(nimgs):\n",
    "    inp, tar = val_dset[0]\n",
    "    pred, _ = model(torch.Tensor(inp[None]).cuda())\n",
    "\n",
    "\n",
    "    ax[2*img_idx,0].imshow(inp[0].cpu().detach().numpy(), cmap='gray')\n",
    "    ax[2*img_idx,1].imshow(pred[0,0].cpu().detach().numpy(), cmap='gray')\n",
    "    ax[2*img_idx,2].imshow(pred[0,1].cpu().detach().numpy(), cmap='gray')\n",
    "    ax[2*img_idx,3].imshow((pred[0,0] + pred[0,1]).cpu().detach().numpy(), cmap='gray')\n",
    "    ax[2*img_idx +1,1].imshow(tar[0].cpu().detach().numpy(), cmap='gray')\n",
    "    ax[2*img_idx +1,2].imshow(tar[1].cpu().detach().numpy(), cmap='gray')\n",
    "\n",
    "    ax[2*img_idx,0].set_title('Input')\n",
    "    ax[2*img_idx,1].set_title('Pred ch0')\n",
    "    ax[2*img_idx,2].set_title('Pred ch1')\n",
    "    ax[2*img_idx,3].set_title('Pred ch0 + ch1')\n",
    "    ax[2*img_idx +1,1].set_title('Target ch0')\n",
    "    ax[2*img_idx +1,2].set_title('Target ch1')\n",
    "    ax[2*img_idx+1,0].axis('off')\n",
    "    ax[2*img_idx+1,3].axis('off')\n",
    "\n",
    "# remove space between subplots\n",
    "plt.subplots_adjust(hspace=0.1, wspace=0.02)\n",
    "clean_ax(ax)"
   ]
  },
  {
   "cell_type": "code",
   "execution_count": null,
   "metadata": {},
   "outputs": [],
   "source": [
    "pred[:,0].max(), pred[:,1].max()"
   ]
  },
  {
   "cell_type": "code",
   "execution_count": null,
   "metadata": {},
   "outputs": [],
   "source": []
  }
 ],
 "metadata": {
  "kernelspec": {
   "display_name": "Python 3",
   "language": "python",
   "name": "python3"
  },
  "language_info": {
   "codemirror_mode": {
    "name": "ipython",
    "version": 3
   },
   "file_extension": ".py",
   "mimetype": "text/x-python",
   "name": "python",
   "nbconvert_exporter": "python",
   "pygments_lexer": "ipython3",
   "version": "3.9.19"
  }
 },
 "nbformat": 4,
 "nbformat_minor": 2
}
