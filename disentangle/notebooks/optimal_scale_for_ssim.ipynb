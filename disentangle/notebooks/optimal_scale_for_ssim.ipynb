{
 "cells": [
  {
   "cell_type": "code",
   "execution_count": 11,
   "metadata": {},
   "outputs": [],
   "source": [
    "from sympy import * \n",
    "ux, uy, sx, sy, sxy, c1, c2, alpha = symbols('u_x u_y s_x s_y s_{xy} c1 c2 alpha')"
   ]
  },
  {
   "cell_type": "code",
   "execution_count": 12,
   "metadata": {},
   "outputs": [
    {
     "data": {
      "text/latex": [
       "$\\displaystyle \\frac{\\left(2 \\alpha s_{xy} + c_{2}\\right) \\left(2 \\alpha u_{x} u_{y} + c_{1}\\right)}{\\left(\\alpha^{2} s_{y}^{2} + c_{2} + s_{x}^{2}\\right) \\left(\\alpha^{2} u_{y}^{2} + c_{1} + u_{x}^{2}\\right)}$"
      ],
      "text/plain": [
       "(2*alpha*s_{xy} + c2)*(2*alpha*u_x*u_y + c1)/((alpha**2*s_y**2 + c2 + s_x**2)*(alpha**2*u_y**2 + c1 + u_x**2))"
      ]
     },
     "execution_count": 12,
     "metadata": {},
     "output_type": "execute_result"
    }
   ],
   "source": [
    "ssim = (2*ux*uy*alpha + c1) * (2*sxy*alpha + c2) / (ux**2 + alpha**2 * uy**2 + c1) / (sx**2 + alpha**2 * sy**2 + c2)\n",
    "ssim"
   ]
  },
  {
   "cell_type": "code",
   "execution_count": 13,
   "metadata": {},
   "outputs": [
    {
     "data": {
      "text/latex": [
       "$\\displaystyle - \\frac{2 \\alpha s_{y}^{2} \\cdot \\left(2 \\alpha s_{xy} + c_{2}\\right) \\left(2 \\alpha u_{x} u_{y} + c_{1}\\right)}{\\left(\\alpha^{2} s_{y}^{2} + c_{2} + s_{x}^{2}\\right)^{2} \\left(\\alpha^{2} u_{y}^{2} + c_{1} + u_{x}^{2}\\right)} - \\frac{2 \\alpha u_{y}^{2} \\cdot \\left(2 \\alpha s_{xy} + c_{2}\\right) \\left(2 \\alpha u_{x} u_{y} + c_{1}\\right)}{\\left(\\alpha^{2} s_{y}^{2} + c_{2} + s_{x}^{2}\\right) \\left(\\alpha^{2} u_{y}^{2} + c_{1} + u_{x}^{2}\\right)^{2}} + \\frac{2 s_{xy} \\left(2 \\alpha u_{x} u_{y} + c_{1}\\right)}{\\left(\\alpha^{2} s_{y}^{2} + c_{2} + s_{x}^{2}\\right) \\left(\\alpha^{2} u_{y}^{2} + c_{1} + u_{x}^{2}\\right)} + \\frac{2 u_{x} u_{y} \\left(2 \\alpha s_{xy} + c_{2}\\right)}{\\left(\\alpha^{2} s_{y}^{2} + c_{2} + s_{x}^{2}\\right) \\left(\\alpha^{2} u_{y}^{2} + c_{1} + u_{x}^{2}\\right)}$"
      ],
      "text/plain": [
       "-2*alpha*s_y**2*(2*alpha*s_{xy} + c2)*(2*alpha*u_x*u_y + c1)/((alpha**2*s_y**2 + c2 + s_x**2)**2*(alpha**2*u_y**2 + c1 + u_x**2)) - 2*alpha*u_y**2*(2*alpha*s_{xy} + c2)*(2*alpha*u_x*u_y + c1)/((alpha**2*s_y**2 + c2 + s_x**2)*(alpha**2*u_y**2 + c1 + u_x**2)**2) + 2*s_{xy}*(2*alpha*u_x*u_y + c1)/((alpha**2*s_y**2 + c2 + s_x**2)*(alpha**2*u_y**2 + c1 + u_x**2)) + 2*u_x*u_y*(2*alpha*s_{xy} + c2)/((alpha**2*s_y**2 + c2 + s_x**2)*(alpha**2*u_y**2 + c1 + u_x**2))"
      ]
     },
     "execution_count": 13,
     "metadata": {},
     "output_type": "execute_result"
    }
   ],
   "source": [
    "derivative = diff(ssim, alpha)\n",
    "derivative"
   ]
  },
  {
   "cell_type": "code",
   "execution_count": 7,
   "metadata": {},
   "outputs": [
    {
     "ename": "NotImplementedError",
     "evalue": "No algorithms are implemented to solve equation -2*alpha*sy**2*(2*alpha*sxy + c2)*(2*alpha*ux*uy + c1)/((alpha**2*sy**2 + c2 + sx**2)**2*(alpha**2*uy**2 + c1 + ux**2)) - 2*alpha*uy**2*(2*alpha*sxy + c2)*(2*alpha*ux*uy + c1)/((alpha**2*sy**2 + c2 + sx**2)*(alpha**2*uy**2 + c1 + ux**2)**2) + 2*sxy*(2*alpha*ux*uy + c1)/((alpha**2*sy**2 + c2 + sx**2)*(alpha**2*uy**2 + c1 + ux**2)) + 2*ux*uy*(2*alpha*sxy + c2)/((alpha**2*sy**2 + c2 + sx**2)*(alpha**2*uy**2 + c1 + ux**2))",
     "output_type": "error",
     "traceback": [
      "\u001b[0;31m---------------------------------------------------------------------------\u001b[0m",
      "\u001b[0;31mNotImplementedError\u001b[0m                       Traceback (most recent call last)",
      "Cell \u001b[0;32mIn[7], line 1\u001b[0m\n\u001b[0;32m----> 1\u001b[0m \u001b[43msolve\u001b[49m\u001b[43m(\u001b[49m\u001b[43mderivative\u001b[49m\u001b[43m,\u001b[49m\u001b[43m \u001b[49m\u001b[38;5;241;43m0\u001b[39;49m\u001b[43m,\u001b[49m\u001b[43m \u001b[49m\u001b[43malpha\u001b[49m\u001b[43m)\u001b[49m\n",
      "File \u001b[0;32m/localscratch/miniforge3/envs/usplit_vdi/lib/python3.9/site-packages/sympy/solvers/solvers.py:1145\u001b[0m, in \u001b[0;36msolve\u001b[0;34m(f, *symbols, **flags)\u001b[0m\n\u001b[1;32m   1143\u001b[0m         solution \u001b[38;5;241m=\u001b[39m _solve_undetermined(f[\u001b[38;5;241m0\u001b[39m], symbols, flags)\n\u001b[1;32m   1144\u001b[0m     \u001b[38;5;28;01mif\u001b[39;00m \u001b[38;5;129;01mnot\u001b[39;00m solution:\n\u001b[0;32m-> 1145\u001b[0m         solution \u001b[38;5;241m=\u001b[39m \u001b[43m_solve\u001b[49m\u001b[43m(\u001b[49m\u001b[43mf\u001b[49m\u001b[43m[\u001b[49m\u001b[38;5;241;43m0\u001b[39;49m\u001b[43m]\u001b[49m\u001b[43m,\u001b[49m\u001b[43m \u001b[49m\u001b[38;5;241;43m*\u001b[39;49m\u001b[43msymbols\u001b[49m\u001b[43m,\u001b[49m\u001b[43m \u001b[49m\u001b[38;5;241;43m*\u001b[39;49m\u001b[38;5;241;43m*\u001b[39;49m\u001b[43mflags\u001b[49m\u001b[43m)\u001b[49m\n\u001b[1;32m   1146\u001b[0m \u001b[38;5;28;01melse\u001b[39;00m:\n\u001b[1;32m   1147\u001b[0m     linear, solution \u001b[38;5;241m=\u001b[39m _solve_system(f, symbols, \u001b[38;5;241m*\u001b[39m\u001b[38;5;241m*\u001b[39mflags)\n",
      "File \u001b[0;32m/localscratch/miniforge3/envs/usplit_vdi/lib/python3.9/site-packages/sympy/solvers/solvers.py:1352\u001b[0m, in \u001b[0;36m_solve\u001b[0;34m(f, *symbols, **flags)\u001b[0m\n\u001b[1;32m   1350\u001b[0m         \u001b[38;5;28;01mreturn\u001b[39;00m result\n\u001b[1;32m   1351\u001b[0m     \u001b[38;5;28;01melse\u001b[39;00m:\n\u001b[0;32m-> 1352\u001b[0m         \u001b[38;5;28;01mraise\u001b[39;00m \u001b[38;5;167;01mNotImplementedError\u001b[39;00m(not_impl_msg \u001b[38;5;241m%\u001b[39m f)\n\u001b[1;32m   1354\u001b[0m \u001b[38;5;66;03m# solve f for a single variable\u001b[39;00m\n\u001b[1;32m   1356\u001b[0m symbol \u001b[38;5;241m=\u001b[39m symbols[\u001b[38;5;241m0\u001b[39m]\n",
      "\u001b[0;31mNotImplementedError\u001b[0m: No algorithms are implemented to solve equation -2*alpha*sy**2*(2*alpha*sxy + c2)*(2*alpha*ux*uy + c1)/((alpha**2*sy**2 + c2 + sx**2)**2*(alpha**2*uy**2 + c1 + ux**2)) - 2*alpha*uy**2*(2*alpha*sxy + c2)*(2*alpha*ux*uy + c1)/((alpha**2*sy**2 + c2 + sx**2)*(alpha**2*uy**2 + c1 + ux**2)**2) + 2*sxy*(2*alpha*ux*uy + c1)/((alpha**2*sy**2 + c2 + sx**2)*(alpha**2*uy**2 + c1 + ux**2)) + 2*ux*uy*(2*alpha*sxy + c2)/((alpha**2*sy**2 + c2 + sx**2)*(alpha**2*uy**2 + c1 + ux**2))"
     ]
    }
   ],
   "source": [
    "solve(derivative, 0, alpha)"
   ]
  },
  {
   "cell_type": "code",
   "execution_count": null,
   "metadata": {},
   "outputs": [],
   "source": []
  }
 ],
 "metadata": {
  "kernelspec": {
   "display_name": "Python 3",
   "language": "python",
   "name": "python3"
  },
  "language_info": {
   "codemirror_mode": {
    "name": "ipython",
    "version": 3
   },
   "file_extension": ".py",
   "mimetype": "text/x-python",
   "name": "python",
   "nbconvert_exporter": "python",
   "pygments_lexer": "ipython3",
   "version": "3.9.18"
  }
 },
 "nbformat": 4,
 "nbformat_minor": 2
}
