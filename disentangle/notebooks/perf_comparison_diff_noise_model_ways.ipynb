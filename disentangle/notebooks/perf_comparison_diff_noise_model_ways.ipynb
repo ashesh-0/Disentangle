{
 "cells": [
  {
   "cell_type": "code",
   "execution_count": null,
   "metadata": {},
   "outputs": [],
   "source": [
    "from IPython.display import display, HTML\n",
    "display(HTML(\"<style>.container { width:100% !important; }</style>\"))"
   ]
  },
  {
   "cell_type": "code",
   "execution_count": null,
   "metadata": {},
   "outputs": [],
   "source": []
  },
  {
   "cell_type": "code",
   "execution_count": null,
   "metadata": {},
   "outputs": [],
   "source": [
    "import os\n",
    "DEBUG=False\n",
    "%run ./nb_core/root_dirs.ipynb\n",
    "setup_syspath_disentangle(DEBUG)\n",
    "%run ./nb_core/disentangle_imports.ipynb"
   ]
  },
  {
   "cell_type": "code",
   "execution_count": null,
   "metadata": {},
   "outputs": [],
   "source": [
    "paper_figures_dir = '/group/jug/ashesh/data/paper_figures'"
   ]
  },
  {
   "cell_type": "code",
   "execution_count": null,
   "metadata": {},
   "outputs": [],
   "source": [
    "one_sample_denoising = {\n",
    "    'ERvsCCP':{\n",
    "        3400:37.9,\n",
    "        5100:36.3,\n",
    "        6800:35.0,\n",
    "        13600:31.2,\n",
    "\n",
    "    },\n",
    "    'ERvsMT':{\n",
    "        4450:30.0,\n",
    "        6675:29.0,\n",
    "        8900:27.0,\n",
    "        17800:24.8,\n",
    "    }\n",
    "}\n",
    "n2v_denoising = {\n",
    "    'ERvsCCP':{\n",
    "        3400:37.6,\n",
    "        5100:36.0,\n",
    "        6800:34.7,\n",
    "        13600:31.1,\n",
    "\n",
    "    },\n",
    "    'ERvsMT':{\n",
    "        4450:29.7,\n",
    "        6675:29.1,\n",
    "        8900:28.0,\n",
    "        17800:24.9,\n",
    "    }\n",
    "}\n",
    "\n",
    "pure_denoising={\n",
    "    'ERvsCCP':{\n",
    "        3400:38.0,\n",
    "        5100:36.4,\n",
    "        6800:35.0,\n",
    "        13600:30.7,\n",
    "\n",
    "    },\n",
    "    'ERvsMT':{\n",
    "        4450:29.7,\n",
    "        6675:29.1,\n",
    "        8900:28.5,\n",
    "        17800:24.9,\n",
    "    }\n",
    "}"
   ]
  },
  {
   "cell_type": "code",
   "execution_count": null,
   "metadata": {},
   "outputs": [],
   "source": [
    "import pandas as pd\n",
    "df_s1 = pd.DataFrame(one_sample_denoising)\n",
    "df_sinf = pd.DataFrame(pure_denoising)\n",
    "df_n2v = pd.DataFrame(n2v_denoising)\n"
   ]
  },
  {
   "cell_type": "code",
   "execution_count": null,
   "metadata": {},
   "outputs": [],
   "source": [
    "df_erccp  = pd.concat([df_sinf['ERvsCCP'], df_s1['ERvsCCP'],df_n2v['ERvsCCP']],axis=1,\n",
    "                      keys=['denoiSplit+S$\\infty$','denoiSplit+S1', 'denoiSplit+N2V']).dropna()\n",
    "df_erccp"
   ]
  },
  {
   "cell_type": "code",
   "execution_count": null,
   "metadata": {},
   "outputs": [],
   "source": []
  },
  {
   "cell_type": "code",
   "execution_count": null,
   "metadata": {},
   "outputs": [],
   "source": [
    "ax = df_erccp.plot.bar()\n",
    "ax.set_ylim(28,40)\n",
    "ax.yaxis.grid(color='gray', linestyle='dashed')\n",
    "ax.xaxis.grid(color='gray', linestyle='dashed')\n",
    "ax.set_facecolor('xkcd:light grey')\n",
    "ax.set_ylabel('PSNR')\n",
    "ax.set_xlabel('Gaussian $\\sigma$')\n",
    "ax.set_xticklabels(ax.get_xticklabels(), rotation=45)\n",
    "ax.set_title('ER vs CCP')\n",
    "fpath = os.path.join(paper_figures_dir, 'different_noise_model_types_ERvsCCP.png')\n",
    "plt.savefig(fpath, dpi=200, bbox_inches='tight')\n",
    "print(fpath)\n"
   ]
  },
  {
   "cell_type": "code",
   "execution_count": null,
   "metadata": {},
   "outputs": [],
   "source": [
    "df_ermt  = pd.concat([df_sinf['ERvsMT'], df_s1['ERvsMT'],df_n2v['ERvsMT']],axis=1,\n",
    "                     keys=['denoiSplit+S$\\infty$','denoiSplit+S1', 'denoiSplit+N2V']).dropna()\n",
    "df_ermt\n",
    "ax = df_ermt.plot.bar()\n",
    "ax.set_ylim(22,31)\n",
    "ax.yaxis.grid(color='gray', linestyle='dashed')\n",
    "ax.xaxis.grid(color='gray', linestyle='dashed')\n",
    "ax.set_facecolor('xkcd:light grey')\n",
    "ax.set_ylabel('PSNR')\n",
    "ax.set_xlabel('Gaussian $\\sigma$')\n",
    "ax.set_xticklabels(ax.get_xticklabels(), rotation=45)\n",
    "ax.set_title('ER vs MT')\n",
    "fpath = os.path.join(paper_figures_dir, 'different_noise_model_types_ERvsMT.png')\n",
    "plt.savefig(fpath, dpi=200, bbox_inches='tight')\n",
    "print(fpath)\n"
   ]
  },
  {
   "cell_type": "code",
   "execution_count": null,
   "metadata": {},
   "outputs": [],
   "source": []
  },
  {
   "cell_type": "code",
   "execution_count": null,
   "metadata": {},
   "outputs": [],
   "source": [
    "import matplotlib.pyplot as plt\n",
    "params = {'mathtext.default': 'regular' }    \n",
    "plt.rcParams.update(params)\n",
    "\n",
    "ax = df.plot.bar()\n",
    "ax.set_ylim(24, 38)\n",
    "\n",
    "ax.yaxis.grid(color='gray', linestyle='dashed')\n",
    "ax.xaxis.grid(color='gray', linestyle='dashed')\n",
    "ax.set_facecolor('xkcd:light grey')\n"
   ]
  },
  {
   "cell_type": "code",
   "execution_count": null,
   "metadata": {},
   "outputs": [],
   "source": [
    "df"
   ]
  },
  {
   "cell_type": "code",
   "execution_count": null,
   "metadata": {},
   "outputs": [],
   "source": []
  }
 ],
 "metadata": {
  "kernelspec": {
   "display_name": "Python 3",
   "language": "python",
   "name": "python3"
  },
  "language_info": {
   "codemirror_mode": {
    "name": "ipython",
    "version": 3
   },
   "file_extension": ".py",
   "mimetype": "text/x-python",
   "name": "python",
   "nbconvert_exporter": "python",
   "pygments_lexer": "ipython3",
   "version": "3.9.18"
  }
 },
 "nbformat": 4,
 "nbformat_minor": 2
}
