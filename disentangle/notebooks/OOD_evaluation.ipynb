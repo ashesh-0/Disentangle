{
 "cells": [
  {
   "cell_type": "markdown",
   "metadata": {},
   "source": [
    "## Objective\n",
    "In this notebook, we inspect the train data and ood data distribution to understand the differences between them: which latent space is better and so on."
   ]
  },
  {
   "cell_type": "code",
   "execution_count": null,
   "metadata": {},
   "outputs": [],
   "source": [
    "# python disentangle/scripts/ood_evaluator.py --ind=/group/jug/ashesh/EnsDeLyon/OOD/2406_D25-M3-S0-L8_10/logvar_Z/hierarchy_2/logvar_Z_2.mmap --ood=/group/jug/ashesh/EnsDeLyon/OOD/2406_D25-M3-S0-L8_10/TavernaSox2GolgiV2_Test_W0.1/logvar_Z/hierarchy_2/logvar_Z_2.mmap\n",
    "import os\n",
    "model_dir = '/group/jug/ashesh/EnsDeLyon/OOD/2406_D25-M3-S0-L8_10/'\n",
    "# /group/jug/ashesh/EnsDeLyon/OOD/2406_D25-M3-S0-L8_10/logvar_Z/hierarchy_0/logvar_Z_0.mmap\n",
    "feature_subdir = 'mu_Z/hierarchy_3/mu_Z_3.mmap'\n",
    "ood_subdirectory = 'TavernaSox2GolgiV2_Test_W0.1'\n",
    "\n",
    "indistribution_feature_fpath =  os.path.join(model_dir, feature_subdir )\n",
    "ood_feature_fpath = os.path.join(model_dir, ood_subdirectory, feature_subdir)"
   ]
  },
  {
   "cell_type": "code",
   "execution_count": null,
   "metadata": {},
   "outputs": [],
   "source": [
    "import numpy as np\n",
    "from disentangle.scripts.ood_evaluator import load_normalized_features, get_shape\n",
    "import faiss\n",
    "import disentangle.loss.ood_metrics as metrics\n",
    "from tqdm import tqdm\n",
    "\n",
    "in_feat = load_normalized_features(indistribution_feature_fpath, shape=get_shape(indistribution_feature_fpath))\n",
    "ood_feat = load_normalized_features(ood_feature_fpath, shape=get_shape(ood_feature_fpath))\n",
    "\n",
    "in_feat = np.asarray(in_feat, dtype=np.float32)\n",
    "ood_feat = np.asarray(ood_feat, dtype=np.float32)\n",
    "# breakpoint()\n",
    "\n",
    "ALPHA = 0.2\n",
    "rand_ind = np.random.choice(len(in_feat), int(len(in_feat) * ALPHA), replace=False)\n",
    "index = faiss.IndexFlatL2(in_feat.shape[1])\n",
    "index.add(in_feat[rand_ind])\n",
    "all_results = []\n",
    "K_list = [2,10, 50, 100]\n",
    "for K in tqdm(K_list):\n",
    "    ################### Using KNN distance Directly ###################\n",
    "    D_in, _ = index.search(in_feat, K, )\n",
    "    scores_in = -D_in[:,-1]\n",
    "\n",
    "    D_ood, _ = index.search(ood_feat, K)\n",
    "    scores_ood_test = -D_ood[:,-1]\n",
    "    results = metrics.cal_metric(scores_in, scores_ood_test)\n",
    "    all_results.append(results)\n",
    "# metrics.print_all_results(all_results,['OOD dataset name'], 'KNN')\n",
    "# print()\n"
   ]
  },
  {
   "cell_type": "code",
   "execution_count": null,
   "metadata": {},
   "outputs": [],
   "source": [
    "all_results"
   ]
  },
  {
   "cell_type": "code",
   "execution_count": null,
   "metadata": {},
   "outputs": [],
   "source": [
    "import disentangle.loss.ood_metrics as metrics\n",
    "\n",
    "# results = metrics.cal_metric(scores_in, scores_ood_test)\n",
    "# metrics.print_all_results([results],['OOD dataset name'], 'KNN')\n",
    "metrics.print_all_results(all_results,[f'K={k}' for k in K_list], f'KNN--{ood_subdirectory}--{os.path.basename(feature_subdir).replace(\".mmap\", \"\")}')\n",
    "print()\n"
   ]
  },
  {
   "cell_type": "code",
   "execution_count": null,
   "metadata": {},
   "outputs": [],
   "source": [
    "import seaborn as sns\n",
    "import matplotlib.pyplot as plt\n",
    "\n",
    "_,ax = plt.subplots()\n",
    "sns.kdeplot(scores_in, label='In-distribution',ax=ax)\n",
    "sns.kdeplot(scores_ood_test, label='OOD',ax=ax)\n",
    "_ = plt.legend()"
   ]
  },
  {
   "cell_type": "code",
   "execution_count": null,
   "metadata": {},
   "outputs": [],
   "source": []
  }
 ],
 "metadata": {
  "kernelspec": {
   "display_name": "Python 3",
   "language": "python",
   "name": "python3"
  },
  "language_info": {
   "codemirror_mode": {
    "name": "ipython",
    "version": 3
   },
   "file_extension": ".py",
   "mimetype": "text/x-python",
   "name": "python",
   "nbconvert_exporter": "python",
   "pygments_lexer": "ipython3",
   "version": "3.9.19"
  }
 },
 "nbformat": 4,
 "nbformat_minor": 2
}
