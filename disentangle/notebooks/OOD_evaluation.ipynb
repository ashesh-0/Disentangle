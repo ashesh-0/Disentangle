{
 "cells": [
  {
   "cell_type": "markdown",
   "metadata": {},
   "source": [
    "## Objective\n",
    "In this notebook, we inspect the train data and ood data distribution to understand the differences between them: which latent space is better and so on."
   ]
  },
  {
   "cell_type": "code",
   "execution_count": null,
   "metadata": {},
   "outputs": [],
   "source": [
    "# python disentangle/scripts/ood_evaluator.py --ind=/group/jug/ashesh/EnsDeLyon/OOD/2406_D25-M3-S0-L8_10/logvar_Z/hierarchy_2/logvar_Z_2.mmap --ood=/group/jug/ashesh/EnsDeLyon/OOD/2406_D25-M3-S0-L8_10/TavernaSox2GolgiV2_Test_W0.1/logvar_Z/hierarchy_2/logvar_Z_2.mmap\n",
    "import os\n",
    "model_dir = '/group/jug/ashesh/EnsDeLyon/OOD/2406_D25-M3-S0-L8_10/'\n",
    "feature_subdir = 'bu_values/hierarchy_3/bu_values_3.mmap'\n",
    "ood_subdirectory = 'TavernaSox2GolgiV2_Test_W0.1'\n",
    "\n",
    "indistribution_feature_fpath =  os.path.join(model_dir, feature_subdir )\n",
    "ood_feature_fpath = os.path.join(model_dir, ood_subdirectory, feature_subdir)"
   ]
  },
  {
   "cell_type": "code",
   "execution_count": null,
   "metadata": {},
   "outputs": [],
   "source": [
    "import numpy as np\n",
    "from disentangle.scripts.ood_evaluator import load_normalized_features, get_shape\n",
    "import faiss\n",
    "\n",
    "in_feat = load_normalized_features(indistribution_feature_fpath, shape=get_shape(indistribution_feature_fpath))\n",
    "ood_feat = load_normalized_features(ood_feature_fpath, shape=get_shape(ood_feature_fpath))\n",
    "\n",
    "in_feat = np.asarray(in_feat, dtype=np.float32)\n",
    "ood_feat = np.asarray(ood_feat, dtype=np.float32)\n",
    "# breakpoint()\n",
    "\n",
    "ALPHA = 0.05\n",
    "K =100\n",
    "\n",
    "rand_ind = np.random.choice(len(in_feat), int(len(in_feat) * ALPHA), replace=False)\n",
    "index = faiss.IndexFlatL2(in_feat.shape[1])\n",
    "index.add(in_feat[rand_ind])\n",
    "\n",
    "################### Using KNN distance Directly ###################\n",
    "D_in, _ = index.search(in_feat, K, )\n",
    "scores_in = -D_in[:,-1]\n",
    "\n",
    "all_results = []\n",
    "D_ood, _ = index.search(ood_feat, K)\n",
    "scores_ood_test = -D_ood[:,-1]\n",
    "# results = metrics.cal_metric(scores_in, scores_ood_test)\n",
    "# all_results.append(results)\n",
    "# metrics.print_all_results(all_results,['OOD dataset name'], 'KNN')\n",
    "# print()\n"
   ]
  },
  {
   "cell_type": "code",
   "execution_count": null,
   "metadata": {},
   "outputs": [],
   "source": [
    "import seaborn as sns\n",
    "sns.displot(scores_in.flatten())"
   ]
  },
  {
   "cell_type": "code",
   "execution_count": null,
   "metadata": {},
   "outputs": [],
   "source": [
    "scores_ood_test.max()"
   ]
  },
  {
   "cell_type": "code",
   "execution_count": null,
   "metadata": {},
   "outputs": [],
   "source": [
    "in_feat"
   ]
  },
  {
   "cell_type": "code",
   "execution_count": null,
   "metadata": {},
   "outputs": [],
   "source": []
  }
 ],
 "metadata": {
  "kernelspec": {
   "display_name": "Python 3",
   "language": "python",
   "name": "python3"
  },
  "language_info": {
   "codemirror_mode": {
    "name": "ipython",
    "version": 3
   },
   "file_extension": ".py",
   "mimetype": "text/x-python",
   "name": "python",
   "nbconvert_exporter": "python",
   "pygments_lexer": "ipython3",
   "version": "3.9.19"
  }
 },
 "nbformat": 4,
 "nbformat_minor": 2
}
