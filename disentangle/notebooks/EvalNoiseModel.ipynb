{
 "cells": [
  {
   "cell_type": "code",
   "execution_count": null,
   "metadata": {},
   "outputs": [],
   "source": [
    "from IPython.display import display, HTML\n",
    "display(HTML(\"<style>.container { width:100% !important; }</style>\"))\n",
    "DEBUG=False"
   ]
  },
  {
   "cell_type": "code",
   "execution_count": null,
   "metadata": {},
   "outputs": [],
   "source": [
    "%run ./nb_core/root_dirs.ipynb\n",
    "setup_syspath_disentangle(DEBUG)\n",
    "%run ./nb_core/disentangle_imports.ipynb"
   ]
  },
  {
   "cell_type": "code",
   "execution_count": null,
   "metadata": {},
   "outputs": [],
   "source": [
    "nmodel_dir = '/home/ashesh.ashesh/training/noise_model/2402/139'\n",
    "# nmodel_dir = '/home/ashesh.ashesh/training/noise_model/2402/61'\n",
    "\n",
    "histnoisemodel_fpath = None\n",
    "gmmnoisemodel_fpath = None\n",
    "for fname in os.listdir(nmodel_dir):\n",
    "    if fname.startswith('HistNoiseModel'):\n",
    "        assert histnoisemodel_fpath is None\n",
    "        histnoisemodel_fpath = os.path.join(nmodel_dir, fname)\n",
    "    elif fname.startswith('GMMNoiseModel'):\n",
    "        assert gmmnoisemodel_fpath is None\n",
    "        gmmnoisemodel_fpath = os.path.join(nmodel_dir, fname)\n",
    "print(gmmnoisemodel_fpath)\n",
    "print(histnoisemodel_fpath)"
   ]
  },
  {
   "cell_type": "code",
   "execution_count": null,
   "metadata": {},
   "outputs": [],
   "source": [
    "from disentangle.nets.gmm_noise_model import GaussianMixtureNoiseModel\n",
    "from disentangle.nets.hist_noise_model import HistNoiseModel\n",
    "\n",
    "# gmmnoisemodel_fpath = '/home/ashesh.ashesh/training/noise_model/2402/62/GMMNoiseModel_CCPs-GT_all.mrc__6_4_Clip0.0-1.0_Sig0.125_UpNone_Norm0_bootstrap.npz'\n",
    "# histnoisemodel_fpath = os.path.join(os.path.dirname(gmmnoisemodel_fpath), 'HistNoiseModel_CCPs-GT_all.mrc__Norm0_Bins128_bootstrap.npy')\n",
    "# datadir = '/group/jug/ashesh/data/ventura_gigascience/actin-60x-noise2-highsnr.tif' if 'actin' in os.path.basename(gmmnoisemodel_fpath) else '/group/jug/ashesh/data/ventura_gigascience/mito-60x-noise2-highsnr.tif'\n"
   ]
  },
  {
   "cell_type": "code",
   "execution_count": null,
   "metadata": {},
   "outputs": [],
   "source": [
    "nmodel_params = np.load(gmmnoisemodel_fpath)\n",
    "gmm_model = GaussianMixtureNoiseModel(params=nmodel_params)\n",
    "histdata = np.load(histnoisemodel_fpath)\n",
    "hist_model = HistNoiseModel(histdata)\n",
    "bins = histdata.shape[-1]"
   ]
  },
  {
   "cell_type": "code",
   "execution_count": null,
   "metadata": {},
   "outputs": [],
   "source": [
    "from disentangle.utils import plotProbabilityDistribution\n",
    "data_dict = plotProbabilityDistribution(signalBinIndex=80, \n",
    "                            histogramNoiseModel=hist_model,\n",
    "                            gaussianMixtureNoiseModel=gmm_model,\n",
    "                            device='cpu')"
   ]
  },
  {
   "cell_type": "code",
   "execution_count": null,
   "metadata": {},
   "outputs": [],
   "source": [
    "for i in range(histdata.shape[1]):\n",
    "    assert np.std(histdata[1][i]) < 1e-7\n",
    "    assert np.std(histdata[2][i]) < 1e-7"
   ]
  },
  {
   "cell_type": "code",
   "execution_count": null,
   "metadata": {},
   "outputs": [],
   "source": [
    "bin_val = (histdata[1] + histdata[2])/2\n",
    "bin_val = bin_val[:,0]\n",
    "binsize = np.mean(histdata[2] - histdata[1])\n",
    "bin_pdf = histdata[0]/binsize"
   ]
  },
  {
   "cell_type": "code",
   "execution_count": null,
   "metadata": {},
   "outputs": [],
   "source": [
    "from scipy.optimize import curve_fit\n",
    "import math\n",
    "import numpy as np\n",
    "\n",
    "def gaus(x, mu,sigma):\n",
    "    out = np.exp(-(x-mu)**2/(2*sigma**2)) * 1/(sigma*np.sqrt(2*math.pi))\n",
    "    # print(out.shape, out.min(), out.max())\n",
    "    return out"
   ]
  },
  {
   "cell_type": "code",
   "execution_count": null,
   "metadata": {},
   "outputs": [],
   "source": [
    "index = 64\n",
    "x = bin_val\n",
    "y = bin_pdf[index]\n",
    "\n",
    "mean =bin_val[index]\n",
    "sigma = sum(y*(x-mean)**2)/len(y)\n",
    "\n",
    "popt,pcov = curve_fit(gaus,\n",
    "                      np.array(bin_val),\n",
    "                      np.array(bin_pdf[index]),\n",
    "                      p0=[bin_val[index],100])\n"
   ]
  },
  {
   "cell_type": "code",
   "execution_count": null,
   "metadata": {},
   "outputs": [],
   "source": [
    "popt"
   ]
  },
  {
   "cell_type": "code",
   "execution_count": null,
   "metadata": {},
   "outputs": [],
   "source": [
    "plt.plot(bin_val,bin_pdf[index],'b+:',label='data')\n",
    "plt.plot(bin_val,gaus(bin_val,*popt),'ro:',label='fit')\n",
    "plt.legend()\n",
    "plt.title('Fig. 3 - Fit for Time Constant')\n",
    "plt.xlabel('Time (s)')\n",
    "plt.ylabel('Voltage (V)')\n",
    "plt.show()"
   ]
  },
  {
   "cell_type": "code",
   "execution_count": null,
   "metadata": {},
   "outputs": [],
   "source": [
    "# import pylab as plb\n",
    "# import matplotlib.pyplot as plt\n",
    "# from scipy.optimize import curve_fit\n",
    "# from scipy import asarray as ar,exp\n",
    "\n",
    "# x = ar(range(10))\n",
    "# y = ar([0,1,2,3,4,5,4,3,2,1])\n",
    "\n",
    "# n = len(x)                          #the number of data\n",
    "# mean = sum(x*y)/n                   #note this correction\n",
    "# sigma = sum(y*(x-mean)**2)/n        #note this correction\n",
    "\n",
    "# def gaus(x,a,x0,sigma):\n",
    "#     return a*exp(-(x-x0)**2/(2*sigma**2))\n",
    "\n",
    "# popt,pcov = curve_fit(gaus,x,y,p0=[1,mean,sigma])\n",
    "\n",
    "# plt.plot(x,y,'b+:',label='data')\n",
    "# plt.plot(x,gaus(x,*popt),'ro:',label='fit')\n",
    "# plt.legend()\n",
    "# plt.title('Fig. 3 - Fit for Time Constant')\n",
    "# plt.xlabel('Time (s)')\n",
    "# plt.ylabel('Voltage (V)')\n",
    "# plt.show()"
   ]
  },
  {
   "cell_type": "code",
   "execution_count": null,
   "metadata": {},
   "outputs": [],
   "source": [
    "y.shape"
   ]
  },
  {
   "cell_type": "code",
   "execution_count": null,
   "metadata": {},
   "outputs": [],
   "source": []
  },
  {
   "cell_type": "code",
   "execution_count": null,
   "metadata": {},
   "outputs": [],
   "source": [
    "gmm_model.getGaussianParameters(torch.Tensor([5371]))"
   ]
  },
  {
   "cell_type": "code",
   "execution_count": null,
   "metadata": {},
   "outputs": [],
   "source": [
    "for k in range(0, histdata.shape[1], 5):\n",
    "    print(f'{histdata[1,k,0]:.1f} {histdata[2,k,0]:.1f}')"
   ]
  },
  {
   "cell_type": "code",
   "execution_count": null,
   "metadata": {},
   "outputs": [],
   "source": [
    "34643.6 -33710.7"
   ]
  },
  {
   "cell_type": "code",
   "execution_count": null,
   "metadata": {},
   "outputs": [],
   "source": [
    "81972.1 - 82905.1\n"
   ]
  },
  {
   "cell_type": "code",
   "execution_count": null,
   "metadata": {},
   "outputs": [],
   "source": []
  }
 ],
 "metadata": {
  "kernelspec": {
   "display_name": "Python 3",
   "language": "python",
   "name": "python3"
  },
  "language_info": {
   "codemirror_mode": {
    "name": "ipython",
    "version": 3
   },
   "file_extension": ".py",
   "mimetype": "text/x-python",
   "name": "python",
   "nbconvert_exporter": "python",
   "pygments_lexer": "ipython3",
   "version": "3.9.18"
  }
 },
 "nbformat": 4,
 "nbformat_minor": 2
}
