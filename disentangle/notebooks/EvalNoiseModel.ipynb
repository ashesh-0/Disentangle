{
 "cells": [
  {
   "cell_type": "code",
   "execution_count": null,
   "metadata": {},
   "outputs": [],
   "source": [
    "from IPython.display import display, HTML\n",
    "display(HTML(\"<style>.container { width:100% !important; }</style>\"))\n",
    "DEBUG=False"
   ]
  },
  {
   "cell_type": "code",
   "execution_count": null,
   "metadata": {},
   "outputs": [],
   "source": [
    "%run ./nb_core/root_dirs.ipynb\n",
    "setup_syspath_disentangle(DEBUG)\n",
    "%run ./nb_core/disentangle_imports.ipynb"
   ]
  },
  {
   "cell_type": "code",
   "execution_count": null,
   "metadata": {},
   "outputs": [],
   "source": [
    "from disentangle.nets.gmm_noise_model import GaussianMixtureNoiseModel\n",
    "from disentangle.nets.hist_noise_model import HistNoiseModel\n",
    "gmmnoisemodel_fpath = '/home/ashesh.ashesh/training/N2V/2312/17/GMMNoiseModel_ventura_gigascience-mito_10_3_Clip0.5-100_Sig0.125_UpNone_Norm0_bootstrap.npz'\n",
    "histnoisemodel_fpath = os.path.join(os.path.dirname(gmmnoisemodel_fpath), 'HistNoiseModel_ventura_gigascience-mito_Norm0_bootstrap.npy')\n",
    "datadir = '/group/jug/ashesh/data/ventura_gigascience/actin-60x-noise2-lowsnr.tif' if 'actin' in os.path.basename(gmmnoisemodel_fpath) else '/group/jug/ashesh/data/ventura_gigascience/mito-60x-noise2-lowsnr.tif'\n"
   ]
  },
  {
   "cell_type": "code",
   "execution_count": null,
   "metadata": {},
   "outputs": [],
   "source": [
    "nmodel_params = np.load(gmmnoisemodel_fpath)\n",
    "gmm_model = GaussianMixtureNoiseModel(params=nmodel_params)\n",
    "histdata = np.load(histnoisemodel_fpath)\n",
    "hist_model = HistNoiseModel(histdata)\n",
    "bins = histdata.shape[-1]"
   ]
  },
  {
   "cell_type": "code",
   "execution_count": null,
   "metadata": {},
   "outputs": [],
   "source": []
  },
  {
   "cell_type": "code",
   "execution_count": null,
   "metadata": {},
   "outputs": [],
   "source": [
    "from disentangle.utils import plotProbabilityDistribution\n",
    "plotProbabilityDistribution(signalBinIndex=17, \n",
    "                            histogramNoiseModel=hist_model,\n",
    "                            gaussianMixtureNoiseModel=gmm_model,\n",
    "                            device='cpu')"
   ]
  },
  {
   "cell_type": "code",
   "execution_count": null,
   "metadata": {},
   "outputs": [],
   "source": []
  }
 ],
 "metadata": {
  "kernelspec": {
   "display_name": "Python 3",
   "language": "python",
   "name": "python3"
  },
  "language_info": {
   "codemirror_mode": {
    "name": "ipython",
    "version": 3
   },
   "file_extension": ".py",
   "mimetype": "text/x-python",
   "name": "python",
   "nbconvert_exporter": "python",
   "pygments_lexer": "ipython3",
   "version": "3.9.18"
  }
 },
 "nbformat": 4,
 "nbformat_minor": 2
}
