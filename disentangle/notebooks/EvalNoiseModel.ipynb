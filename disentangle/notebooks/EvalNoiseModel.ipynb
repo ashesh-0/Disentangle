{
 "cells": [
  {
   "cell_type": "code",
   "execution_count": null,
   "metadata": {},
   "outputs": [],
   "source": [
    "from IPython.display import display, HTML\n",
    "display(HTML(\"<style>.container { width:100% !important; }</style>\"))\n",
    "DEBUG=False"
   ]
  },
  {
   "cell_type": "code",
   "execution_count": null,
   "metadata": {},
   "outputs": [],
   "source": [
    "%run ./nb_core/root_dirs.ipynb\n",
    "setup_syspath_disentangle(DEBUG)\n",
    "%run ./nb_core/disentangle_imports.ipynb"
   ]
  },
  {
   "cell_type": "code",
   "execution_count": null,
   "metadata": {},
   "outputs": [],
   "source": [
    "nmodel_dir = '/home/ashesh.ashesh/training/noise_model/2402/350/'\n",
    "# nmodel_dir = '/home/ashesh.ashesh/training/noise_model/2402/61'\n",
    "\n",
    "histnoisemodel_fpath = None\n",
    "gmmnoisemodel_fpath = None\n",
    "for fname in os.listdir(nmodel_dir):\n",
    "    if fname.startswith('HistNoiseModel'):\n",
    "        assert histnoisemodel_fpath is None\n",
    "        histnoisemodel_fpath = os.path.join(nmodel_dir, fname)\n",
    "    elif fname.startswith('GMMNoiseModel'):\n",
    "        assert gmmnoisemodel_fpath is None\n",
    "        gmmnoisemodel_fpath = os.path.join(nmodel_dir, fname)\n",
    "print(gmmnoisemodel_fpath)\n",
    "print(histnoisemodel_fpath)"
   ]
  },
  {
   "cell_type": "code",
   "execution_count": null,
   "metadata": {},
   "outputs": [],
   "source": [
    "from disentangle.nets.gmm_noise_model import GaussianMixtureNoiseModel\n",
    "from disentangle.nets.hist_noise_model import HistNoiseModel\n",
    "\n",
    "# gmmnoisemodel_fpath = '/home/ashesh.ashesh/training/noise_model/2402/62/GMMNoiseModel_CCPs-GT_all.mrc__6_4_Clip0.0-1.0_Sig0.125_UpNone_Norm0_bootstrap.npz'\n",
    "# histnoisemodel_fpath = os.path.join(os.path.dirname(gmmnoisemodel_fpath), 'HistNoiseModel_CCPs-GT_all.mrc__Norm0_Bins128_bootstrap.npy')\n",
    "# datadir = '/group/jug/ashesh/data/ventura_gigascience/actin-60x-noise2-highsnr.tif' if 'actin' in os.path.basename(gmmnoisemodel_fpath) else '/group/jug/ashesh/data/ventura_gigascience/mito-60x-noise2-highsnr.tif'\n"
   ]
  },
  {
   "cell_type": "code",
   "execution_count": null,
   "metadata": {},
   "outputs": [],
   "source": [
    "nmodel_params = np.load(gmmnoisemodel_fpath)\n",
    "gmm_model = GaussianMixtureNoiseModel(params=nmodel_params)\n",
    "histdata = np.load(histnoisemodel_fpath)\n",
    "hist_model = HistNoiseModel(histdata)\n",
    "bins = histdata.shape[-1]"
   ]
  },
  {
   "cell_type": "code",
   "execution_count": null,
   "metadata": {},
   "outputs": [],
   "source": [
    "from disentangle.utils import plotProbabilityDistribution\n",
    "signalBinIndex=40\n",
    "data_dict = plotProbabilityDistribution(signalBinIndex=signalBinIndex, \n",
    "                            histogramNoiseModel=hist_model,\n",
    "                            gaussianMixtureNoiseModel=gmm_model,\n",
    "                            device='cpu')\n",
    "data_dict['gmm']['x'][data_dict['gmm']['p'].argmax()]"
   ]
  },
  {
   "cell_type": "code",
   "execution_count": null,
   "metadata": {},
   "outputs": [],
   "source": [
    "# for i in range(histdata.shape[1]):\n",
    "#     assert np.std(histdata[1][i]) < 1e-7\n",
    "#     assert np.std(histdata[2][i]) < 1e-7"
   ]
  },
  {
   "cell_type": "code",
   "execution_count": null,
   "metadata": {},
   "outputs": [],
   "source": [
    "# bin_val = (histdata[1] + histdata[2])/2\n",
    "# bin_val = bin_val[:,0]\n",
    "# binsize = np.mean(histdata[2] - histdata[1])\n",
    "# bin_pdf = histdata[0]/binsize"
   ]
  },
  {
   "cell_type": "code",
   "execution_count": null,
   "metadata": {},
   "outputs": [],
   "source": [
    "# from scipy.optimize import curve_fit\n",
    "# import math\n",
    "# import numpy as np\n",
    "\n",
    "# def gaus(x, mu,sigma):\n",
    "#     out = np.exp(-(x-mu)**2/(2*sigma**2)) * 1/(sigma*np.sqrt(2*math.pi))\n",
    "#     # print(out.shape, out.min(), out.max())\n",
    "#     return out\n",
    "\n",
    "# def sigmoid(x):\n",
    "#   return 1 / (1 + math.exp(-x))"
   ]
  },
  {
   "cell_type": "code",
   "execution_count": null,
   "metadata": {},
   "outputs": [],
   "source": [
    "# index = 90\n",
    "# x = bin_val\n",
    "# y = bin_pdf[index]\n",
    "\n",
    "# mean =bin_val[index]\n",
    "# sigma = sum(y*(x-mean)**2)/len(y)\n",
    "\n",
    "# popt,pcov = curve_fit(gaus,\n",
    "#                       x,\n",
    "#                       y,\n",
    "#                       p0=[x[index],sigma])\n"
   ]
  },
  {
   "cell_type": "code",
   "execution_count": null,
   "metadata": {},
   "outputs": [],
   "source": [
    "# pcov"
   ]
  },
  {
   "cell_type": "code",
   "execution_count": null,
   "metadata": {},
   "outputs": [],
   "source": [
    "# popt"
   ]
  },
  {
   "cell_type": "code",
   "execution_count": null,
   "metadata": {},
   "outputs": [],
   "source": [
    "# plt.plot(bin_val,bin_pdf[index],'b+:',label='data')\n",
    "# plt.plot(bin_val,gaus(bin_val,*popt),'ro:',label='fit')\n",
    "# plt.legend()\n",
    "# plt.title('Fig. 3 - Fit for Time Constant')\n",
    "# plt.xlabel('Time (s)')\n",
    "# plt.ylabel('Voltage (V)')\n",
    "# plt.show()"
   ]
  },
  {
   "cell_type": "code",
   "execution_count": null,
   "metadata": {},
   "outputs": [],
   "source": [
    "\n",
    "from scipy.optimize import curve_fit\n",
    "import math\n",
    "import numpy as np\n",
    "import torch\n",
    "\n",
    "def gaus(x, mu,sigma):\n",
    "    out = np.exp(-(x-mu)**2/(2*sigma**2)) * 1/(sigma*np.sqrt(2*math.pi))\n",
    "    return out\n",
    "\n",
    "def gaus_pytorch(x, mu,sigma):\n",
    "    print(mu, sigma)\n",
    "    out = torch.exp(-(x-mu)**2/(2*sigma**2)) * 1/(sigma*np.sqrt(2*math.pi))\n",
    "    return out\n",
    "\n",
    "def sigmoid(x):\n",
    "  return 1 / (1 + math.exp(-x))\n",
    "\n",
    "class GaussianNoiseModelV2:\n",
    "    def __init__(self, histdata) -> None:\n",
    "        self._histdata = histdata\n",
    "        bin_val = (self._histdata[1] + self._histdata[2])/2\n",
    "        # midpoint of every bin\n",
    "        self._bin_val = bin_val[:,0]\n",
    "        self._binsize = np.mean(self._histdata[2] - self._histdata[1])\n",
    "        # probability density function.\n",
    "        self._bin_pdf = self._histdata[0]/self._binsize\n",
    "        self._params = []\n",
    "\n",
    "        self.minv = np.min(histdata[1, ...])\n",
    "\n",
    "        # The upper boundaries of each bin in y are stored in dimension 2\n",
    "        self.maxv = np.max(histdata[2, ...])\n",
    "        self.bins = histdata.shape[1]\n",
    "        self._min_valid_index = None\n",
    "        self._max_valid_index = None\n",
    "\n",
    "    def fit_index(self, index):\n",
    "        x = self._bin_val\n",
    "        y = self._bin_pdf[index]\n",
    "        if y.sum() * self._binsize < 1e-5:\n",
    "            return torch.tensor([torch.nan, torch.nan])\n",
    "        \n",
    "        if self._min_valid_index is not None:\n",
    "            self._min_valid_index = min(index, self._min_valid_index)\n",
    "        else:\n",
    "            self._min_valid_index = index\n",
    "        \n",
    "        if self._max_valid_index is not None:\n",
    "            self._max_valid_index = max(index, self._max_valid_index)\n",
    "        else:\n",
    "            self._max_valid_index = index\n",
    "        \n",
    "        assert abs(y.sum() * self._binsize -1) < 1e-5\n",
    "\n",
    "        mean =self._bin_val[index]\n",
    "        sigma = sum(y*(x-mean)**2)/len(y)\n",
    "        popt,pcov = curve_fit(gaus,\n",
    "                            x,\n",
    "                            y,\n",
    "                            p0=[x[index],sigma])\n",
    "        return torch.Tensor(popt)\n",
    "    \n",
    "    def fit(self):\n",
    "        for index in range(len(self._bin_pdf)):\n",
    "            popt = self.fit_index(index)\n",
    "            self._params.append(popt)\n",
    "        \n",
    "        self._params = torch.stack(self._params)\n",
    "        # manually adde after last and before first bin.\n",
    "        if self._min_valid_index > 0:\n",
    "            self._params[self._min_valid_index -1 ] = self._params[self._min_valid_index]\n",
    "            self._params[self._min_valid_index -1, 0] -= self._binsize\n",
    "            self._min_valid_index -= 1\n",
    "        \n",
    "        if self._max_valid_index < self.bins - 1:\n",
    "            self._params[self._max_valid_index + 1] = self._params[self._max_valid_index]\n",
    "            self._params[self._max_valid_index + 1, 0] += self._binsize\n",
    "            self._max_valid_index += 1\n",
    "\n",
    "    def getIndexSignalFloat(self, x):\n",
    "        return torch.clamp(self.bins * (x - self.minv) / (self.maxv - self.minv), min=0.0, max=self.bins - 1 - 1e-3)\n",
    "\n",
    "    def likelihood(self, obs, signal):\n",
    "        signalF = self.getIndexSignalFloat(signal)\n",
    "        signal_ = signalF.floor().long()\n",
    "        fact = signalF - signal_.float()\n",
    "        underflow_mask = signal_ < self._min_valid_index\n",
    "        signal_[underflow_mask] = self._min_valid_index\n",
    "        overflow_mask = signal_  > self._max_valid_index\n",
    "        signal_[overflow_mask] = self._max_valid_index\n",
    "        mu1, sigma1 = self._params[signal_]\n",
    "        \n",
    "        # if the signal is in the last bin, we just need to ignore the first mu and sigma and go with the last one.\n",
    "        last_index_mask = signal_ == self._max_valid_index        \n",
    "        signal_[last_index_mask] = self._max_valid_index - 1\n",
    "        fact[last_index_mask] = 1.0\n",
    "\n",
    "        mu2, sigma2 = self._params[signal_ + 1]\n",
    "        mu = mu1 * (1 - fact) + mu2 * fact\n",
    "        sigma = sigma1 * (1 - fact) + sigma2 * fact\n",
    "        return gaus_pytorch(obs, mu, sigma)\n"
   ]
  },
  {
   "cell_type": "code",
   "execution_count": null,
   "metadata": {},
   "outputs": [],
   "source": [
    "nm = GaussianNoiseModelV2(histdata)\n",
    "nm.fit()"
   ]
  },
  {
   "cell_type": "code",
   "execution_count": null,
   "metadata": {},
   "outputs": [],
   "source": [
    "\n",
    "max_signal = hist_model.maxv.item()\n",
    "min_signal = hist_model.minv.item()\n",
    "n_bin = int(hist_model.bins.item())\n",
    "\n",
    "histBinSize = (max_signal - min_signal) / n_bin\n",
    "querySignal_numpy = (signalBinIndex / float(n_bin) * (max_signal - min_signal) + min_signal)\n"
   ]
  },
  {
   "cell_type": "code",
   "execution_count": null,
   "metadata": {},
   "outputs": [],
   "source": [
    "nm._min_valid_index"
   ]
  },
  {
   "cell_type": "code",
   "execution_count": null,
   "metadata": {},
   "outputs": [],
   "source": [
    "signalBinIndex = 112\n",
    "data_dict = plotProbabilityDistribution(signalBinIndex=signalBinIndex, \n",
    "                            histogramNoiseModel=hist_model,\n",
    "                            gaussianMixtureNoiseModel=nm,\n",
    "                            device='cpu')\n",
    "data_dict['gmm']['x'][data_dict['gmm']['p'].argmax()]"
   ]
  },
  {
   "cell_type": "code",
   "execution_count": null,
   "metadata": {},
   "outputs": [],
   "source": [
    "nm._min_valid_index"
   ]
  },
  {
   "cell_type": "code",
   "execution_count": null,
   "metadata": {},
   "outputs": [],
   "source": [
    "nm._params[42]"
   ]
  },
  {
   "cell_type": "code",
   "execution_count": null,
   "metadata": {},
   "outputs": [],
   "source": [
    "nm._binsize"
   ]
  },
  {
   "cell_type": "code",
   "execution_count": null,
   "metadata": {},
   "outputs": [],
   "source": []
  }
 ],
 "metadata": {
  "kernelspec": {
   "display_name": "Python 3",
   "language": "python",
   "name": "python3"
  },
  "language_info": {
   "codemirror_mode": {
    "name": "ipython",
    "version": 3
   },
   "file_extension": ".py",
   "mimetype": "text/x-python",
   "name": "python",
   "nbconvert_exporter": "python",
   "pygments_lexer": "ipython3",
   "version": "3.9.18"
  }
 },
 "nbformat": 4,
 "nbformat_minor": 2
}
