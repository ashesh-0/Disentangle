{
 "cells": [
  {
   "cell_type": "code",
   "execution_count": null,
   "metadata": {},
   "outputs": [],
   "source": [
    "import sys\n",
    "# set CUDA_LAUNCH_BLOCKING=1\n",
    "import os\n",
    "# os.environ[\"CUDA_LAUNCH_BLOCKING\"] = \"1\""
   ]
  },
  {
   "cell_type": "code",
   "execution_count": null,
   "metadata": {},
   "outputs": [],
   "source": [
    "import numpy as np\n",
    "from skimage.measure import label, regionprops\n",
    "from skimage.transform import rotate\n",
    "import matplotlib.pyplot as plt\n",
    "\n",
    "# def extract_objects(mask):\n",
    "#     \"\"\"Extract individual objects from segmentation mask\"\"\"\n",
    "#     labeled = label(mask)\n",
    "#     return [mask[minr:maxr, minc:maxc] \n",
    "#             for region in regionprops(labeled) \n",
    "#             for (minr, minc, maxr, maxc) in [region.bbox]]\n",
    "\n",
    "# def rotate_object(obj, angle):\n",
    "#     \"\"\"Rotate object by arbitrary angle with padding\"\"\"\n",
    "#     return rotate(obj, angle, resize=True, order=0, \n",
    "#                  preserve_range=True).astype(bool)\n",
    "\n",
    "# def random_placement(canvas, objects):\n",
    "#     \"\"\"Place objects randomly on empty canvas\"\"\"\n",
    "#     h, w = canvas.shape\n",
    "#     for obj in objects:\n",
    "#         oh, ow = obj.shape\n",
    "#         if (max_x := w - ow) >= 0 and (max_y := h - oh) >= 0:\n",
    "#             x, y = np.random.randint(0, max_x+1), np.random.randint(0, max_y+1)\n",
    "#             canvas[y:y+oh, x:x+ow] |= obj\n",
    "#     return canvas\n",
    "\n",
    "# # Example usage\n",
    "# mask = np.zeros((128, 128), dtype=bool)\n",
    "# mask[10:31, 10:31] = True  # Square object\n",
    "# rr, cc = np.ogrid[:128, :128]\n",
    "# mask[(rr - 80)**2 + (cc - 80)**2 <= 225] = True  # Circular object (radius 15)\n",
    "\n",
    "# # Processing pipeline\n",
    "# objects = extract_objects(mask)\n",
    "# rotated = [rotate_object(obj, np.random.uniform(0, 360)) for obj in objects]\n",
    "# result = random_placement(np.zeros_like(mask), rotated)\n",
    "\n",
    "# # Visualization\n",
    "# fig, (ax1, ax2) = plt.subplots(1, 2, figsize=(10, 5))\n",
    "# ax1.imshow(mask, cmap='gray'), ax1.set_title('Original Mask')\n",
    "# # ax2.imshow(np.hstack([rotate_object(obj, 45) for obj in objects]),  # Example 45° rotation\n",
    "# #            cmap='gray'), ax2.set_title('Rotated Objects')\n",
    "# ax2.imshow(result, cmap='gray'), ax2.set_title('Final Composition')\n",
    "# plt.show()\n"
   ]
  },
  {
   "cell_type": "code",
   "execution_count": null,
   "metadata": {},
   "outputs": [],
   "source": [
    "import numpy as np\n",
    "# import matplotlib.pyplot as plt\n",
    "from cellpose import models, io\n",
    "from cellpose.io import imread\n",
    "\n",
    "io.logger_setup()\n",
    "\n",
    "# model_type='cyto' or 'nuclei' or 'cyto2' or 'cyto3'\n",
    "model = models.Cellpose(model_type='nuclei', gpu=True)\n",
    "\n",
    "# list of files\n",
    "# PUT PATH TO YOUR FILES HERE!\n",
    "files = ['/group/jug/ashesh/data/sox2_one_img.tiff']\n",
    "\n",
    "imgs = [imread(f) for f in files]\n",
    "nimg = len(imgs)\n",
    "\n",
    "# define CHANNELS to run segementation on\n",
    "# grayscale=0, R=1, G=2, B=3\n",
    "# channels = [cytoplasm, nucleus]\n",
    "# if NUCLEUS channel does not exist, set the second channel to 0\n",
    "channels = [[0,0]]\n",
    "# IF ALL YOUR IMAGES ARE THE SAME TYPE, you can give a list with 2 elements\n",
    "# channels = [0,0] # IF YOU HAVE GRAYSCALE\n",
    "# channels = [2,3] # IF YOU HAVE G=cytoplasm and B=nucleus\n",
    "# channels = [2,1] # IF YOU HAVE G=cytoplasm and R=nucleus\n",
    "\n",
    "# if diameter is set to None, the size of the cells is estimated on a per image basis\n",
    "# you can set the average cell `diameter` in pixels yourself (recommended)\n",
    "# diameter can be a list or a single number for all images\n",
    "\n",
    "masks, flows, styles, diams = model.eval(imgs, diameter=None, channels=channels)\n",
    "\n",
    "\n",
    "### or to run one of the other models, or a custom model, specify a CellposeModel\n",
    "# model = models.CellposeModel(model_type='livecell_cp3')\n",
    "\n",
    "# masks, flows, styles = model.eval(imgs, diameter=30, channels=[0,0])"
   ]
  },
  {
   "cell_type": "code",
   "execution_count": null,
   "metadata": {},
   "outputs": [],
   "source": [
    "import matplotlib.pyplot as plt\n",
    "_,ax = plt.subplots(figsize=(10,5),ncols=2)\n",
    "ax[0].imshow(masks[0])\n",
    "ax[1].imshow(imgs[0])"
   ]
  },
  {
   "cell_type": "code",
   "execution_count": null,
   "metadata": {},
   "outputs": [],
   "source": [
    "BACKGROUND_PATCHES= [ imgs[0][:200,:500].copy(), \n",
    "                     imgs[0][200:400,:400].copy(),\n",
    "                     imgs[0][100:300,:400].copy(),\n",
    "                     imgs[0][400:600,:300].copy()\n",
    "                     ]"
   ]
  },
  {
   "cell_type": "code",
   "execution_count": null,
   "metadata": {},
   "outputs": [],
   "source": [
    "from disentangle.data_loader.segmentation_augmentation import find_objects"
   ]
  },
  {
   "cell_type": "code",
   "execution_count": null,
   "metadata": {},
   "outputs": [],
   "source": [
    "objects = find_objects(masks[0], imgs[0])"
   ]
  },
  {
   "cell_type": "code",
   "execution_count": null,
   "metadata": {},
   "outputs": [],
   "source": [
    "_,ax = plt.subplots(figsize=(8,4),ncols=2)\n",
    "idx = 5\n",
    "ax[0].imshow(objects[idx][0])\n",
    "ax[1].imshow(objects[idx][1])"
   ]
  },
  {
   "cell_type": "markdown",
   "metadata": {},
   "source": [
    "## Rotate them."
   ]
  },
  {
   "cell_type": "code",
   "execution_count": null,
   "metadata": {},
   "outputs": [],
   "source": [
    "from disentangle.data_loader.segmentation_augmentation import get_background"
   ]
  },
  {
   "cell_type": "code",
   "execution_count": null,
   "metadata": {},
   "outputs": [],
   "source": [
    "_,ax = plt.subplots(figsize=(18,3),ncols=6)\n",
    "for i in range(6):\n",
    "    ax[i].imshow(get_background((160, 160), BACKGROUND_PATCHES))"
   ]
  },
  {
   "cell_type": "code",
   "execution_count": null,
   "metadata": {},
   "outputs": [],
   "source": [
    "from disentangle.data_loader.segmentation_augmentation import transform_object, render_objects\n",
    "import torch\n",
    "\n",
    "rendered_outputs = []\n",
    "idx_list = np.random.randint(0, len(objects), 4)\n",
    "for i in range(10):\n",
    "    trans_objects = []\n",
    "    for i in idx_list:\n",
    "        tensor =torch.Tensor(objects[i]*1.0)\n",
    "        new_obj = transform_object((tensor[0]*tensor[1])[None], max_angle=180)\n",
    "        trans_objects.append(new_obj.squeeze())\n",
    "        # print(obj.shape)\n",
    "\n",
    "    output = render_objects(trans_objects, [0,1,2,3], [2], BACKGROUND_PATCHES)\n",
    "    rendered_outputs.append(output)"
   ]
  },
  {
   "cell_type": "code",
   "execution_count": null,
   "metadata": {},
   "outputs": [],
   "source": [
    "_,ax = plt.subplots(figsize=(15,6),ncols=5,nrows=2)\n",
    "for i in range(10):\n",
    "    ax[i//5][i%5].imshow(rendered_outputs[i])\n",
    "    # ax[i//3][i%3].axis('off')"
   ]
  },
  {
   "cell_type": "code",
   "execution_count": null,
   "metadata": {},
   "outputs": [],
   "source": [
    "from disentangle.data_loader.segmentation_augmentation import mask_to_boundary\n"
   ]
  },
  {
   "cell_type": "code",
   "execution_count": null,
   "metadata": {},
   "outputs": [],
   "source": [
    "boundary = mask_to_boundary(objects[0][1], dilation_ratio=0.03)\n",
    "_,ax = plt.subplots(figsize=(16,4),ncols=4)\n",
    "ax[0].imshow(objects[0][0])\n",
    "ax[1].imshow(objects[0][1])\n",
    "ax[2].imshow(boundary)\n",
    "ax[3].imshow(get_reduced_mask(objects[0][1], dilation_ratio=0.03))"
   ]
  },
  {
   "cell_type": "code",
   "execution_count": null,
   "metadata": {},
   "outputs": [],
   "source": [
    "obj = objects[0][0]>0"
   ]
  },
  {
   "cell_type": "code",
   "execution_count": null,
   "metadata": {},
   "outputs": [],
   "source": [
    "objects[0][1]"
   ]
  },
  {
   "cell_type": "code",
   "execution_count": null,
   "metadata": {},
   "outputs": [],
   "source": []
  }
 ],
 "metadata": {
  "kernelspec": {
   "display_name": "Python 3",
   "language": "python",
   "name": "python3"
  },
  "language_info": {
   "codemirror_mode": {
    "name": "ipython",
    "version": 3
   },
   "file_extension": ".py",
   "mimetype": "text/x-python",
   "name": "python",
   "nbconvert_exporter": "python",
   "pygments_lexer": "ipython3",
   "version": "3.9.19"
  }
 },
 "nbformat": 4,
 "nbformat_minor": 2
}
