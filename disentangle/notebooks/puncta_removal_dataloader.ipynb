{
 "cells": [
  {
   "cell_type": "code",
   "execution_count": null,
   "metadata": {},
   "outputs": [],
   "source": [
    "from disentangle.config_utils import load_config\n",
    "ckpt_fpath = '/group/jug/ashesh/training/disentangle/2407/D28-M3-S0-L0/22'\n",
    "config = load_config(ckpt_fpath)"
   ]
  },
  {
   "cell_type": "code",
   "execution_count": null,
   "metadata": {},
   "outputs": [],
   "source": [
    "from disentangle.training import create_dataset, create_model\n",
    "from disentangle.core.data_split_type import DataSplitType\n",
    "data_dir = '/group/jug/ashesh/data/Elisa/patchdataset'\n",
    "eval_datasplit_type = DataSplitType.Val\n",
    "\n",
    "padding_kwargs = {\n",
    "        \"mode\": config.data.get(\"padding_mode\", \"constant\"),\n",
    "}\n",
    "\n",
    "if padding_kwargs[\"mode\"] == \"constant\":\n",
    "    padding_kwargs[\"constant_values\"] = config.data.get(\"padding_value\", 0)\n",
    "\n",
    "dloader_kwargs = {\n",
    "    # \"overlapping_padding_kwargs\": padding_kwargs,\n",
    "    # \"tiling_mode\": TilingMode.ShiftBoundary,\n",
    "}\n",
    "\n",
    "train_dset, val_dset = create_dataset(\n",
    "    config,\n",
    "    data_dir,\n",
    "    eval_datasplit_type=eval_datasplit_type,\n",
    "    kwargs_dict=dloader_kwargs,\n",
    ")"
   ]
  },
  {
   "cell_type": "code",
   "execution_count": null,
   "metadata": {},
   "outputs": [],
   "source": [
    "len(train_dset), len(val_dset)"
   ]
  },
  {
   "cell_type": "code",
   "execution_count": null,
   "metadata": {},
   "outputs": [],
   "source": [
    "import numpy as np\n",
    "\n",
    "arr = []\n",
    "for i in range(1000):\n",
    "    inp,tar = train_dset[i]\n",
    "    arr.append(inp)\n",
    "np.mean(arr), np.std(arr)"
   ]
  },
  {
   "cell_type": "code",
   "execution_count": null,
   "metadata": {},
   "outputs": [],
   "source": [
    "inp.shape, tar.shape"
   ]
  },
  {
   "cell_type": "code",
   "execution_count": null,
   "metadata": {},
   "outputs": [],
   "source": [
    "import matplotlib.pyplot as plt\n",
    "_,ax = plt.subplots(figsize=(9,3),ncols=3)\n",
    "inp, tar = train_dset[0]\n",
    "ax[0].imshow(inp[0])\n",
    "ax[1].imshow(tar[0])\n",
    "ax[2].imshow(tar[1])\n"
   ]
  },
  {
   "cell_type": "code",
   "execution_count": null,
   "metadata": {},
   "outputs": [],
   "source": []
  }
 ],
 "metadata": {
  "kernelspec": {
   "display_name": "Python 3",
   "language": "python",
   "name": "python3"
  },
  "language_info": {
   "codemirror_mode": {
    "name": "ipython",
    "version": 3
   },
   "file_extension": ".py",
   "mimetype": "text/x-python",
   "name": "python",
   "nbconvert_exporter": "python",
   "pygments_lexer": "ipython3",
   "version": "3.9.19"
  }
 },
 "nbformat": 4,
 "nbformat_minor": 2
}
