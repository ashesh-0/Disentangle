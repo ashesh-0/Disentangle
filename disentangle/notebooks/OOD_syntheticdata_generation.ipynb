{
 "cells": [
  {
   "cell_type": "markdown",
   "metadata": {},
   "source": [
    "## Objective\n",
    "In this notebook, we will create multiple OOD datasets for the HTLIF24 data and HTT24 dataset. "
   ]
  },
  {
   "cell_type": "code",
   "execution_count": null,
   "metadata": {},
   "outputs": [],
   "source": [
    "ckpt_dir = '/group/jug/ashesh/training/disentangle/2504/D21-M3-S0-L0/12'"
   ]
  },
  {
   "cell_type": "code",
   "execution_count": null,
   "metadata": {},
   "outputs": [],
   "source": [
    "import os\n",
    "from copy import deepcopy\n",
    "\n",
    "import numpy as np\n",
    "import torch\n",
    "from tqdm import tqdm\n",
    "\n",
    "from disentangle.analysis.checkpoint_utils import get_best_checkpoint\n",
    "from disentangle.config_utils import load_config\n",
    "from disentangle.core.data_split_type import DataSplitType\n",
    "from disentangle.core.data_type import DataType\n",
    "from disentangle.data_loader.patch_index_manager import TilingMode\n",
    "from disentangle.training import create_dataset, create_model\n"
   ]
  },
  {
   "cell_type": "code",
   "execution_count": null,
   "metadata": {},
   "outputs": [],
   "source": [
    "config = load_config(ckpt_dir)\n",
    "data_dir = \"/group/jug/ashesh/data/TavernaSox2Golgi/acquisition2/\""
   ]
  },
  {
   "cell_type": "code",
   "execution_count": null,
   "metadata": {},
   "outputs": [],
   "source": [
    "padding_kwargs = {\n",
    "        \"mode\": config.data.get(\"padding_mode\", \"constant\"),\n",
    "    }\n",
    "if padding_kwargs[\"mode\"] == \"constant\":\n",
    "    padding_kwargs[\"constant_values\"] = config.data.get(\"padding_value\", 0)\n",
    "\n",
    "dloader_kwargs = {\n",
    "        \"overlapping_padding_kwargs\": padding_kwargs,\n",
    "        \"tiling_mode\": TilingMode.ShiftBoundary,\n",
    "    }\n",
    "\n",
    "train_dset, val_dset = create_dataset(\n",
    "    config,\n",
    "    data_dir,\n",
    "    eval_datasplit_type=DataSplitType.Test,\n",
    "    kwargs_dict=dloader_kwargs,\n",
    ")\n"
   ]
  },
  {
   "cell_type": "code",
   "execution_count": null,
   "metadata": {},
   "outputs": [],
   "source": [
    "from disentangle.core.data_type import DataType\n",
    "dtype = DataType.name(config.data.data_type)\n",
    "dtype"
   ]
  },
  {
   "cell_type": "code",
   "execution_count": null,
   "metadata": {},
   "outputs": [],
   "source": [
    "outputdir = '/group/jug/ashesh/EnsDeLyon/OOD_data'\n",
    "outputdir = os.path.join(outputdir, dtype)\n",
    "if not os.path.exists(outputdir):\n",
    "    os.makedirs(outputdir)\n",
    "outputdir"
   ]
  },
  {
   "cell_type": "code",
   "execution_count": null,
   "metadata": {},
   "outputs": [],
   "source": [
    "import matplotlib.pyplot as plt\n",
    "plt.imshow(val_dset.dsets[0]._data[0,...,1])"
   ]
  },
  {
   "cell_type": "code",
   "execution_count": null,
   "metadata": {},
   "outputs": [],
   "source": [
    "import numpy as np\n",
    "ch0 = np.concatenate([val_dset.dsets[i]._data[...,0] for i in range(len(val_dset.dsets))], axis=0)\n",
    "ch1 = np.concatenate([val_dset.dsets[i]._data[...,1] for i in range(len(val_dset.dsets))], axis=0)\n",
    "print(ch0.shape, ch1.shape)"
   ]
  },
  {
   "cell_type": "markdown",
   "metadata": {},
   "source": [
    "### Mixing OOD"
   ]
  },
  {
   "cell_type": "code",
   "execution_count": null,
   "metadata": {},
   "outputs": [],
   "source": [
    "from disentangle.core.tiff_reader import save_tiff\n",
    "for w in np.arange(start=0., stop=1.01, step=0.1):\n",
    "    inp = w* ch0 + (1-w)*ch1\n",
    "    inp = inp[...,None]\n",
    "    fpath = os.path.join(outputdir, f\"{dtype}_Test_W{w:.1f}.tif\")\n",
    "    print(f\"Saving {inp.shape} {fpath}\")\n",
    "    save_tiff(fpath, inp)"
   ]
  },
  {
   "cell_type": "markdown",
   "metadata": {},
   "source": [
    "## Real Input"
   ]
  },
  {
   "cell_type": "code",
   "execution_count": null,
   "metadata": {},
   "outputs": [],
   "source": [
    "from disentangle.data_loader.sox2golgi_v2_rawdata_loader import Sox2GolgiV2ChannelList\n",
    "import ml_collections\n",
    "config = ml_collections.ConfigDict(config)\n",
    "with config.unlocked():\n",
    "    config.data.input_idx = 2\n",
    "    config.data.channel_idx_list = [Sox2GolgiV2ChannelList.GT_Cy5, Sox2GolgiV2ChannelList.GT_TRITC, Sox2GolgiV2ChannelList.GT_555_647]\n",
    "    config.data.num_channels = len(config.data.channel_idx_list)\n",
    "\n",
    "_, val_dset = create_dataset(\n",
    "    config,\n",
    "    data_dir,\n",
    "    eval_datasplit_type=DataSplitType.Test,\n",
    "    kwargs_dict=dloader_kwargs,\n",
    ")\n"
   ]
  },
  {
   "cell_type": "code",
   "execution_count": null,
   "metadata": {},
   "outputs": [],
   "source": [
    "plt.imshow(val_dset.dsets[0]._data[0,...,2])"
   ]
  },
  {
   "cell_type": "code",
   "execution_count": null,
   "metadata": {},
   "outputs": [],
   "source": [
    "real_inp = np.concatenate([val_dset.dsets[i]._data[...,2] for i in range(len(val_dset.dsets))], axis=0)\n",
    "print(real_inp.shape)"
   ]
  },
  {
   "cell_type": "code",
   "execution_count": null,
   "metadata": {},
   "outputs": [],
   "source": [
    "fpath = os.path.join(outputdir, f\"{dtype}_Test_RealInput.tif\")\n",
    "print(f\"Saving {real_inp.shape} {fpath}\")\n",
    "save_tiff(fpath, real_inp[...,None])"
   ]
  }
 ],
 "metadata": {
  "kernelspec": {
   "display_name": "Python 3",
   "language": "python",
   "name": "python3"
  },
  "language_info": {
   "codemirror_mode": {
    "name": "ipython",
    "version": 3
   },
   "file_extension": ".py",
   "mimetype": "text/x-python",
   "name": "python",
   "nbconvert_exporter": "python",
   "pygments_lexer": "ipython3",
   "version": "3.9.19"
  }
 },
 "nbformat": 4,
 "nbformat_minor": 2
}
