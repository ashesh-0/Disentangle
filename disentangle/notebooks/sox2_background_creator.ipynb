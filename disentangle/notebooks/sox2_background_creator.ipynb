{
 "cells": [
  {
   "cell_type": "code",
   "execution_count": null,
   "metadata": {},
   "outputs": [],
   "source": [
    "from disentangle.data_loader.sox2golgi_v2_rawdata_loader import load_nd2\n",
    "from disentangle.data_loader.sox2golgi_v2_rawdata_loader import Sox2GolgiV2ChannelList\n",
    "import matplotlib.pyplot as plt\n",
    "import numpy as np\n",
    "\n",
    "datadir = '/group/jug/ashesh/data/TavernaSox2Golgi/acquisition2/'\n",
    "fnames = ['Test1_Slice1/1.nd2', 'Test1_Slice1/2.nd2', 'Test1_Slice1/3.nd2', 'Test1_Slice2_a/4.nd2', 'Test1_Slice2_a/5.nd2', 'Test1_Slice2_a/6.nd2']"
   ]
  },
  {
   "cell_type": "code",
   "execution_count": null,
   "metadata": {},
   "outputs": [],
   "source": [
    "import os\n",
    "channel_names = [Sox2GolgiV2ChannelList.GT_TRITC]\n",
    "data = [load_nd2(os.path.join(datadir, fname), channel_names) for fname in fnames]"
   ]
  },
  {
   "cell_type": "code",
   "execution_count": null,
   "metadata": {},
   "outputs": [],
   "source": [
    "plt.imshow(data[0][10][...,0])"
   ]
  },
  {
   "cell_type": "code",
   "execution_count": null,
   "metadata": {},
   "outputs": [],
   "source": [
    "def get_bkg(img):\n",
    "    bkg_patches = [ img[:200,:500].copy(), \n",
    "                     img[200:400,:400].copy(),\n",
    "                     img[100:300,:400].copy(),\n",
    "                     img[400:600,:300].copy()\n",
    "                     ]\n",
    "    return bkg_patches\n",
    "\n",
    "bkg_patches = []\n",
    "for one_data in data:\n",
    "    for i in range(len(one_data)):\n",
    "        bkg_patches += get_bkg(one_data[i,...,0])"
   ]
  },
  {
   "cell_type": "code",
   "execution_count": null,
   "metadata": {},
   "outputs": [],
   "source": [
    "import numpy as np\n",
    "mean =np.array([x.mean() for x in bkg_patches])\n",
    "std = np.array([x.std() for x in bkg_patches])\n",
    "mask = std < 30"
   ]
  },
  {
   "cell_type": "code",
   "execution_count": null,
   "metadata": {},
   "outputs": [],
   "source": [
    "filterd_bkg_patches = []\n",
    "for i in range(len(bkg_patches)):\n",
    "    if mask[i]:\n",
    "        filterd_bkg_patches.append(bkg_patches[i])"
   ]
  },
  {
   "cell_type": "code",
   "execution_count": null,
   "metadata": {},
   "outputs": [],
   "source": [
    "max_idx = np.argmax(std[mask])\n",
    "plt.imshow(filterd_bkg_patches[max_idx], cmap='gray')"
   ]
  },
  {
   "cell_type": "code",
   "execution_count": null,
   "metadata": {},
   "outputs": [],
   "source": [
    "plt.plot(std[mask])"
   ]
  },
  {
   "cell_type": "code",
   "execution_count": null,
   "metadata": {},
   "outputs": [],
   "source": [
    "len(filterd_bkg_patches)"
   ]
  },
  {
   "cell_type": "code",
   "execution_count": null,
   "metadata": {},
   "outputs": [],
   "source": [
    "import numpy as np\n",
    "np.savez('/group/jug/ashesh/data/TavernaSox2Golgi/HTT24_TRITC_background_patches.npz', **{f'patch_{i}': arr for i, arr in enumerate(filterd_bkg_patches)})\n"
   ]
  }
 ],
 "metadata": {
  "kernelspec": {
   "display_name": "Python 3",
   "language": "python",
   "name": "python3"
  },
  "language_info": {
   "codemirror_mode": {
    "name": "ipython",
    "version": 3
   },
   "file_extension": ".py",
   "mimetype": "text/x-python",
   "name": "python",
   "nbconvert_exporter": "python",
   "pygments_lexer": "ipython3",
   "version": "3.9.19"
  }
 },
 "nbformat": 4,
 "nbformat_minor": 2
}
