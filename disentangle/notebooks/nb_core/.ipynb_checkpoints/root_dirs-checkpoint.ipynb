{
 "cells": [
  {
   "cell_type": "code",
   "execution_count": null,
   "id": "f47435ef",
   "metadata": {},
   "outputs": [],
   "source": [
    "%config Completer.use_jedi = False"
   ]
  },
  {
   "cell_type": "code",
   "execution_count": null,
   "id": "86651f3e",
   "metadata": {},
   "outputs": [],
   "source": [
    "import os\n",
    "import re\n",
    "\n",
    "homedir = os.path.expanduser('~')\n",
    "nodename = os.uname().nodename\n",
    "if nodename == 'capablerutherford-02aa4':\n",
    "    DATA_ROOT = '/mnt/ashesh/'\n",
    "    CODE_ROOT = '/home/ubuntu/ashesh/'\n",
    "elif nodename in ['capableturing-34a32','colorfuljug-fa782']:\n",
    "    DATA_ROOT = '/home/ubuntu/ashesh/data/'\n",
    "    CODE_ROOT = '/home/ubuntu/ashesh/'\n",
    "elif (re.match( 'lin-jug-\\d{2}',nodename) or re.match( 'gnode\\d{2}',nodename) or \n",
    "re.match( 'lin-jug-m-\\d{2}',nodename) or re.match( 'lin-jug-l-\\d{2}',nodename)):\n",
    "    DATA_ROOT = '/group/jug/ashesh/data/'\n",
    "    CODE_ROOT = '/home/ashesh.ashesh/'\n"
   ]
  },
  {
   "cell_type": "code",
   "execution_count": null,
   "id": "efdc1d58",
   "metadata": {},
   "outputs": [],
   "source": [
    "nodename"
   ]
  },
  {
   "cell_type": "code",
   "execution_count": null,
   "id": "e6a2d04e",
   "metadata": {},
   "outputs": [],
   "source": [
    "import  sys\n",
    "\n",
    "def setup_syspath_disentangle(DEBUG):\n",
    "    if DEBUG:\n",
    "        sys.path.remove(os.path.join(CODE_ROOT,'code/Disentangle'))\n",
    "        \n",
    "        sys.path.append(os.path.join(CODE_ROOT,'debug/code/Disentangle'))\n",
    "    else:\n",
    "        sys.path.append(os.path.join(CODE_ROOT, 'code/Disentangle'))"
   ]
  },
  {
   "cell_type": "code",
   "execution_count": null,
   "id": "dba66efc",
   "metadata": {},
   "outputs": [],
   "source": [
    "print('DATA_ROOT:\\t', DATA_ROOT)\n",
    "print('CODE_ROOT:\\t', CODE_ROOT)"
   ]
  },
  {
   "cell_type": "code",
   "execution_count": null,
   "id": "af97b47f",
   "metadata": {},
   "outputs": [],
   "source": []
  }
 ],
 "metadata": {
  "kernelspec": {
   "display_name": "disentangle",
   "language": "python",
   "name": "disentangle"
  },
  "language_info": {
   "codemirror_mode": {
    "name": "ipython",
    "version": 3
   },
   "file_extension": ".py",
   "mimetype": "text/x-python",
   "name": "python",
   "nbconvert_exporter": "python",
   "pygments_lexer": "ipython3",
   "version": "3.6.13"
  }
 },
 "nbformat": 4,
 "nbformat_minor": 5
}
