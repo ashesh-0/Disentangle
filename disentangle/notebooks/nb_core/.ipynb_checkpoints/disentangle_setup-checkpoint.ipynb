{
 "cells": [
  {
   "cell_type": "markdown",
   "id": "85b6af96",
   "metadata": {},
   "source": [
    "## Purpose\n",
    "This is to be used for loading the data loader and loading the model"
   ]
  },
  {
   "cell_type": "code",
   "execution_count": null,
   "id": "341f3881",
   "metadata": {},
   "outputs": [],
   "source": [
    "if image_size_for_grid_centers is None:\n",
    "    image_size_for_grid_centers = config.data.image_size\n"
   ]
  },
  {
   "cell_type": "code",
   "execution_count": null,
   "id": "546e8b40",
   "metadata": {},
   "outputs": [],
   "source": [
    "print('')"
   ]
  },
  {
   "cell_type": "code",
   "execution_count": null,
   "id": "e3fd4469",
   "metadata": {
    "slideshow": {
     "slide_type": "skip"
    }
   },
   "outputs": [],
   "source": [
    "from disentangle.data_loader.overlapping_dloader import get_overlapping_dset\n",
    "from disentangle.data_loader.multi_channel_determ_tiff_dloader import MultiChDeterministicTiffDloader\n",
    "from disentangle.data_loader.multiscale_mc_tiff_dloader import MultiScaleTiffDloader\n",
    "from disentangle.core.data_split_type import DataSplitType\n",
    "from disentangle.data_loader.single_channel_dloader import SingleChannelDloader\n",
    "\n",
    "\n",
    "padding_kwargs = {\n",
    "    'mode':config.data.get('padding_mode','constant'),\n",
    "}\n",
    "\n",
    "\n",
    "if padding_kwargs['mode'] == 'constant':\n",
    "    padding_kwargs['constant_values'] = config.data.get('padding_value',0)\n",
    "\n",
    "dloader_kwargs = {'overlapping_padding_kwargs':padding_kwargs}\n",
    "\n",
    "\n",
    "if 'multiscale_lowres_count' in config.data and config.data.multiscale_lowres_count is not None:\n",
    "    data_class = get_overlapping_dset(MultiScaleTiffDloader)\n",
    "    dloader_kwargs['num_scales'] = config.data.multiscale_lowres_count\n",
    "    dloader_kwargs['padding_kwargs'] = padding_kwargs\n",
    "elif config.data.data_type == DataType.SemiSupBloodVesselsEMBL:\n",
    "    data_class = get_overlapping_dset(SingleChannelDloader)\n",
    "else:\n",
    "    data_class = get_overlapping_dset(MultiChDeterministicTiffDloader)\n",
    "if config.data.data_type in [DataType.CustomSinosoid, DataType.CustomSinosoidThreeCurve, \n",
    "                             DataType.AllenCellMito,DataType.SeparateTiffData,\n",
    "                            DataType.SemiSupBloodVesselsEMBL]:\n",
    "    datapath = data_dir\n",
    "elif config.data.data_type == DataType.OptiMEM100_014:\n",
    "    datapath = os.path.join(data_dir, 'OptiMEM100x014.tif')\n",
    "elif config.data.data_type == DataType.Prevedel_EMBL:\n",
    "    datapath = os.path.join(data_dir, 'MS14__z0_8_sl4_fr10_p_10.1_lz510_z13_bin5_00001.tif')\n",
    "\n",
    "\n",
    "normalized_input = config.data.normalized_input\n",
    "use_one_mu_std = config.data.use_one_mu_std\n",
    "train_aug_rotate = config.data.train_aug_rotate\n",
    "enable_random_cropping = False #config.data.deterministic_grid is False\n",
    "\n",
    "train_dset = data_class(\n",
    "                config.data,\n",
    "                datapath,\n",
    "                datasplit_type=DataSplitType.Train,\n",
    "                val_fraction=config.training.val_fraction,\n",
    "                test_fraction=config.training.test_fraction,\n",
    "                normalized_input=normalized_input,\n",
    "                use_one_mu_std=use_one_mu_std,\n",
    "                enable_rotation_aug=train_aug_rotate,\n",
    "                enable_random_cropping=enable_random_cropping,\n",
    "                image_size_for_grid_centers=image_size_for_grid_centers,\n",
    "                **dloader_kwargs)\n",
    "import gc\n",
    "gc.collect()\n",
    "max_val = train_dset.get_max_val()\n",
    "\n",
    "val_dset = data_class(\n",
    "                config.data,\n",
    "                datapath,\n",
    "                datasplit_type=eval_datasplit_type,\n",
    "                val_fraction=config.training.val_fraction,\n",
    "                test_fraction=config.training.test_fraction,\n",
    "                normalized_input=normalized_input,\n",
    "                use_one_mu_std=use_one_mu_std,\n",
    "                enable_rotation_aug=False,  # No rotation aug on validation\n",
    "                enable_random_cropping=False,\n",
    "                # No random cropping on validation. Validation is evaluated on determistic grids\n",
    "                image_size_for_grid_centers=image_size_for_grid_centers,\n",
    "                max_val=max_val,\n",
    "                **dloader_kwargs\n",
    "                \n",
    "            )\n",
    "\n",
    "# For normalizing, we should be using the training data's mean and std.\n",
    "mean_val, std_val = train_dset.compute_mean_std()\n",
    "train_dset.set_mean_std(mean_val, std_val)\n",
    "val_dset.set_mean_std(mean_val, std_val)\n",
    "\n",
    "\n",
    "if evaluate_train:\n",
    "    val_dset = train_dset\n",
    "data_mean, data_std = train_dset.get_mean_std()\n"
   ]
  },
  {
   "cell_type": "code",
   "execution_count": null,
   "id": "065c3e39",
   "metadata": {},
   "outputs": [],
   "source": [
    "print('')"
   ]
  },
  {
   "cell_type": "code",
   "execution_count": null,
   "id": "fad8e48d",
   "metadata": {
    "slideshow": {
     "slide_type": "skip"
    }
   },
   "outputs": [],
   "source": [
    "with config.unlocked():\n",
    "    if config.data.data_type in [DataType.OptiMEM100_014,DataType.CustomSinosoid,\n",
    "                                DataType.SeparateTiffData,\n",
    "                                 DataType.CustomSinosoidThreeCurve] and old_image_size is not None:\n",
    "        config.data.image_size = old_image_size\n",
    "\n",
    "if config.data.target_separate_normalization is True:\n",
    "    model = create_model(config, *train_dset.compute_individual_mean_std())\n",
    "else:\n",
    "    model = create_model(config, *train_dset.get_mean_std())\n",
    "\n",
    "\n",
    "ckpt_fpath = get_best_checkpoint(ckpt_dir)\n",
    "checkpoint = torch.load(ckpt_fpath)\n",
    "\n",
    "_ = model.load_state_dict(checkpoint['state_dict'])\n",
    "model.eval()\n",
    "_= model.cuda()\n",
    "\n",
    "model.data_mean = model.data_mean.cuda()\n",
    "model.data_std = model.data_std.cuda()\n",
    "print('Loading from epoch', checkpoint['epoch'])"
   ]
  },
  {
   "cell_type": "code",
   "execution_count": null,
   "id": "679042e0",
   "metadata": {
    "slideshow": {
     "slide_type": "skip"
    }
   },
   "outputs": [],
   "source": [
    "def count_parameters(model):\n",
    "    return sum(p.numel() for p in model.parameters() if p.requires_grad)\n",
    "\n",
    "print(f'Model has {count_parameters(model)/1000_000:.3f}M parameters')"
   ]
  }
 ],
 "metadata": {
  "kernelspec": {
   "display_name": "DivNoising",
   "language": "python",
   "name": "divnoising"
  },
  "language_info": {
   "codemirror_mode": {
    "name": "ipython",
    "version": 3
   },
   "file_extension": ".py",
   "mimetype": "text/x-python",
   "name": "python",
   "nbconvert_exporter": "python",
   "pygments_lexer": "ipython3",
   "version": "3.6.13"
  }
 },
 "nbformat": 4,
 "nbformat_minor": 5
}
