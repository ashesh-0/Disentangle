{
 "cells": [
  {
   "cell_type": "markdown",
   "id": "0457f6b5",
   "metadata": {},
   "source": [
    "## Pre-requisite\n",
    "You must run root_dirs.ipynb before running this "
   ]
  },
  {
   "cell_type": "code",
   "execution_count": null,
   "id": "20e84c5a",
   "metadata": {},
   "outputs": [],
   "source": [
    "import random\n",
    "\n",
    "import numpy as np\n",
    "import torch\n",
    "import pickle\n",
    "import ml_collections\n",
    "import glob\n",
    "import torch\n",
    "from torch.utils.data import DataLoader\n",
    "import torch.nn as nn\n",
    "\n",
    "from tqdm import tqdm\n",
    "import numpy as np\n",
    "from disentangle.training import create_dataset, create_model\n",
    "import matplotlib.pyplot as plt\n",
    "from disentangle.core.loss_type import LossType\n",
    "from disentangle.config_utils import load_config\n",
    "from disentangle.sampler.random_sampler import RandomSampler\n",
    "from disentangle.analysis.lvae_utils import get_img_from_forward_output\n",
    "from disentangle.analysis.plot_utils import clean_ax\n",
    "from disentangle.core.data_type import DataType\n",
    "from disentangle.core.psnr import PSNR\n",
    "from disentangle.analysis.plot_utils import get_k_largest_indices,plot_imgs_from_idx\n",
    "from disentangle.analysis.critic_notebook_utils import get_mmse_dict, get_label_separated_loss\n",
    "from disentangle.core.psnr import PSNR, RangeInvariantPsnr\n",
    "from disentangle.core.data_split_type import DataSplitType\n",
    "\n",
    "torch.multiprocessing.set_sharing_strategy('file_system')\n",
    "\n",
    "\n",
    "def fix_seeds():\n",
    "    torch.manual_seed(0)\n",
    "    torch.cuda.manual_seed(0)\n",
    "    np.random.seed(0)\n",
    "    random.seed(0)\n",
    "    torch.backends.cudnn.deterministic = True\n"
   ]
  }
 ],
 "metadata": {
  "kernelspec": {
   "display_name": "DivNoising",
   "language": "python",
   "name": "divnoising"
  },
  "language_info": {
   "codemirror_mode": {
    "name": "ipython",
    "version": 3
   },
   "file_extension": ".py",
   "mimetype": "text/x-python",
   "name": "python",
   "nbconvert_exporter": "python",
   "pygments_lexer": "ipython3",
   "version": "3.6.13"
  }
 },
 "nbformat": 4,
 "nbformat_minor": 5
}
