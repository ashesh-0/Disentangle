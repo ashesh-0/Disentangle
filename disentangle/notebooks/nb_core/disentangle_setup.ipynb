{
 "cells": [
  {
   "cell_type": "markdown",
   "id": "85b6af96",
   "metadata": {},
   "source": [
    "## Purpose\n",
    "This is to be used for loading the data loader and loading the model"
   ]
  },
  {
   "cell_type": "code",
   "execution_count": null,
   "id": "341f3881",
   "metadata": {},
   "outputs": [],
   "source": [
    "# if image_size_for_grid_centers is None:\n",
    "#     image_size_for_grid_centers = config.data.image_size\n"
   ]
  },
  {
   "cell_type": "code",
   "execution_count": null,
   "id": "546e8b40",
   "metadata": {},
   "outputs": [],
   "source": [
    "print('')"
   ]
  },
  {
   "cell_type": "code",
   "execution_count": null,
   "id": "e3fd4469",
   "metadata": {
    "slideshow": {
     "slide_type": "skip"
    }
   },
   "outputs": [],
   "source": [
    "# # from disentangle.data_loader.overlapping_dloader import get_overlapping_dset\n",
    "# from disentangle.data_loader.vanilla_dloader import MultiChDloader\n",
    "# from disentangle.data_loader.lc_multich_dloader import LCMultiChDloader\n",
    "# from disentangle.core.data_split_type import DataSplitType\n",
    "# from disentangle.data_loader.single_channel.single_channel_dloader import SingleChannelDloader\n",
    "# from disentangle.data_loader.single_channel.single_channel_mc_dloader import SingleChannelMSDloader\n",
    "# from disentangle.data_loader.pavia2_3ch_dloader import Pavia2ThreeChannelDloader\n",
    "# from disentangle.data_loader.patch_index_manager import GridAlignement\n",
    "# from disentangle.data_loader.ht_iba1_ki67_dloader import IBA1Ki67DataLoader\n",
    "# from disentangle.data_loader.multifile_dset import MultiFileDset\n",
    "\n",
    "padding_kwargs = {\n",
    "    'mode':config.data.get('padding_mode','constant'),\n",
    "}\n",
    "\n",
    "if padding_kwargs['mode'] == 'constant':\n",
    "    padding_kwargs['constant_values'] = config.data.get('padding_value',0)\n",
    "\n",
    "dloader_kwargs = {'overlapping_padding_kwargs':padding_kwargs, \n",
    "                  'tiling_mode': tiling_mode,\n",
    "                  }"
   ]
  },
  {
   "cell_type": "code",
   "execution_count": null,
   "id": "4605f9ca",
   "metadata": {},
   "outputs": [],
   "source": [
    "from disentangle.training import create_dataset\n",
    "train_dset, val_dset = create_dataset(config, data_dir, eval_datasplit_type=eval_datasplit_type,\n",
    "                                      kwargs_dict=dloader_kwargs)\n",
    "data_mean, data_std = train_dset.get_mean_std()"
   ]
  },
  {
   "cell_type": "code",
   "execution_count": null,
   "id": "065c3e39",
   "metadata": {},
   "outputs": [],
   "source": [
    "print('')"
   ]
  },
  {
   "cell_type": "code",
   "execution_count": null,
   "id": "55e8eb75",
   "metadata": {},
   "outputs": [],
   "source": [
    "!ls /home/ashesh.ashesh/training/disentangle/2301/D3-M10-S0-L3/25"
   ]
  },
  {
   "cell_type": "code",
   "execution_count": null,
   "id": "fad8e48d",
   "metadata": {
    "slideshow": {
     "slide_type": "skip"
    }
   },
   "outputs": [],
   "source": [
    "from disentangle.scripts.run import get_mean_std_dict_for_model\n",
    "with config.unlocked():\n",
    "    if old_image_size is not None:\n",
    "        config.data.image_size = old_image_size\n",
    "\n",
    "# if config.data.target_separate_normalization is True:\n",
    "#     mean_fr_model, std_fr_model = train_dset.compute_individual_mean_std()\n",
    "# else:\n",
    "#     mean_fr_model, std_fr_model = train_dset.get_mean_std()\n",
    "\n",
    "# if config.model.model_type == ModelType.LadderVaeSemiSupervised:\n",
    "#     mean_fr_model = mean_fr_model[None]\n",
    "#     std_fr_model = std_fr_model[None]\n",
    "\n",
    "###### Create the input and target mean and std for feeding to the model\n",
    "mean_dict, std_dict = get_mean_std_dict_for_model(config, train_dset)\n",
    "# mean_dict = {'input': None, 'target': None}\n",
    "# std_dict = {'input': None, 'target': None}\n",
    "# inp_fr_mean, inp_fr_std = train_dset.get_mean_std()\n",
    "# mean_sq = inp_fr_mean.squeeze()\n",
    "# std_sq = inp_fr_std.squeeze()\n",
    "# assert mean_sq[0] == mean_sq[1] and len(mean_sq) == config.data.get('num_channels',2)\n",
    "# assert std_sq[0] == std_sq[1] and len(std_sq) == config.data.get('num_channels',2)\n",
    "# mean_dict['input'] = np.mean(inp_fr_mean, axis=1, keepdims=True)\n",
    "# std_dict['input'] = np.mean(inp_fr_std, axis=1, keepdims=True)\n",
    "\n",
    "# if config.data.target_separate_normalization is True:\n",
    "#     target_data_mean, target_data_std = train_dset.compute_individual_mean_std()\n",
    "# else:\n",
    "#     target_data_mean, target_data_std = train_dset.get_mean_std()\n",
    "\n",
    "# mean_dict['target'] = target_data_mean\n",
    "# std_dict['target'] = target_data_std\n",
    "###### \n",
    "  \n",
    "model = create_model(config, mean_dict,std_dict)\n",
    "if os.path.isdir(ckpt_dir):\n",
    "    ckpt_fpath = get_best_checkpoint(ckpt_dir)\n",
    "else:\n",
    "    assert os.path.isfile(ckpt_dir)\n",
    "    ckpt_fpath = ckpt_dir\n",
    "\n",
    "print('Loading checkpoint from', ckpt_fpath)\n",
    "checkpoint = torch.load(ckpt_fpath)\n",
    "\n",
    "_ = model.load_state_dict(checkpoint['state_dict'], strict=False)\n",
    "model.eval()\n",
    "_= model.cuda()\n",
    "\n",
    "model.set_params_to_same_device_as(torch.Tensor(1).cuda())\n",
    "\n",
    "print('Loading from epoch', checkpoint['epoch'])"
   ]
  },
  {
   "cell_type": "code",
   "execution_count": null,
   "id": "679042e0",
   "metadata": {
    "slideshow": {
     "slide_type": "skip"
    }
   },
   "outputs": [],
   "source": [
    "def count_parameters(model):\n",
    "    return sum(p.numel() for p in model.parameters() if p.requires_grad)\n",
    "\n",
    "print(f'Model has {count_parameters(model)/1000_000:.3f}M parameters')"
   ]
  }
 ],
 "metadata": {
  "kernelspec": {
   "display_name": "usplit",
   "language": "python",
   "name": "python3"
  },
  "language_info": {
   "name": "python",
   "version": "3.9.18"
  },
  "vscode": {
   "interpreter": {
    "hash": "e959a19f8af3b4149ff22eb57702a46c14a8caae5a2647a6be0b1f60abdfa4c2"
   }
  }
 },
 "nbformat": 4,
 "nbformat_minor": 5
}
