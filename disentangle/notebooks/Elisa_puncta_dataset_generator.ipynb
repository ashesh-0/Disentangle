{
 "cells": [
  {
   "cell_type": "code",
   "execution_count": null,
   "metadata": {},
   "outputs": [],
   "source": [
    "import pandas as pd\n",
    "import nd2\n",
    "import argparse\n",
    "import os\n",
    "import  matplotlib.pyplot as plt\n",
    "import numpy as np\n",
    "\n",
    "import pandas as pd\n",
    "from collections import defaultdict\n",
    "from datetime import datetime\n",
    "import shutil\n",
    "\n",
    "from nis2pyr.reader import read_nd2file\n",
    "def load_7D(fpath):    \n",
    "    print(f'Loading from {fpath}')\n",
    "    with nd2.ND2File(fpath) as nd2file:\n",
    "        data = read_nd2file(nd2file)\n",
    "    return data\n",
    "\n"
   ]
  },
  {
   "cell_type": "code",
   "execution_count": null,
   "metadata": {},
   "outputs": [],
   "source": [
    "data_dir = '/facility/imganfacusers/Elisa/DIF17/DIF_17_1'\n",
    "fnames = [x for x in sorted(os.listdir(data_dir)) if x.endswith('0001.nd2')]\n"
   ]
  },
  {
   "cell_type": "code",
   "execution_count": null,
   "metadata": {},
   "outputs": [],
   "source": [
    "output_dir = '/group/jug/ashesh/data/Elisa/patchdataset/puncta'\n",
    "\n",
    "df_back = pd.read_csv(f'/group/jug/ashesh/data/Elisa/DIF17/background-cropdict.txt')\n",
    "df_fore = pd.read_csv(f'/group/jug/ashesh/data/Elisa/DIF17/foreground-cropdict.txt')\n",
    "cur_df = None\n",
    "if 'foreground' == os.path.basename(output_dir):\n",
    "    print('Foreground')\n",
    "    cur_df = df_fore\n",
    "elif 'puncta' == os.path.basename(output_dir):\n",
    "    print('Puncta')\n",
    "    cur_df = df_back\n",
    "else:\n",
    "    raise ValueError('Unknown dataset')"
   ]
  },
  {
   "cell_type": "markdown",
   "metadata": {},
   "source": [
    "## Saving foreground patches"
   ]
  },
  {
   "cell_type": "code",
   "execution_count": null,
   "metadata": {},
   "outputs": [],
   "source": [
    "from disentangle.core.tiff_reader import save_tiff\n",
    "\n",
    "def get_patch(pd_ser, img):\n",
    "    z_idx = pd_ser.z_idx\n",
    "    hs = pd_ser.hs\n",
    "    he = pd_ser.he\n",
    "    ws = pd_ser.ws\n",
    "    we = pd_ser.we\n",
    "    return img[0,0,z_idx,1,hs:he,ws:we,0]\n",
    "\n",
    "cur_fpath = None\n",
    "cur_data = None\n",
    "for idx in range(cur_df.shape[0]):\n",
    "    if cur_fpath is None or cur_fpath != cur_df.iloc[idx].fname:\n",
    "        cur_fpath = cur_df.iloc[idx].fname\n",
    "        if not os.path.exists(cur_fpath):\n",
    "            print('Skipping', cur_fpath)\n",
    "            cur_fpath = None\n",
    "            continue\n",
    "        cur_data = load_7D(cur_df.iloc[idx].fname)\n",
    "    patch = get_patch(cur_df.iloc[idx], cur_data)\n",
    "    newpath = os.path.join(output_dir, f'{idx}.tiff')\n",
    "    print(f'Saving to {newpath}')\n",
    "    save_tiff(newpath, patch)\n",
    "    # break"
   ]
  },
  {
   "cell_type": "code",
   "execution_count": null,
   "metadata": {},
   "outputs": [],
   "source": [
    "plt.imshow(patch)"
   ]
  }
 ],
 "metadata": {
  "kernelspec": {
   "display_name": "Python 3",
   "language": "python",
   "name": "python3"
  },
  "language_info": {
   "codemirror_mode": {
    "name": "ipython",
    "version": 3
   },
   "file_extension": ".py",
   "mimetype": "text/x-python",
   "name": "python",
   "nbconvert_exporter": "python",
   "pygments_lexer": "ipython3",
   "version": "3.9.19"
  }
 },
 "nbformat": 4,
 "nbformat_minor": 2
}
