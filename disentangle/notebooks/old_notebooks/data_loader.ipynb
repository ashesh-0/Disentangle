{
 "cells": [
  {
   "cell_type": "code",
   "execution_count": null,
   "metadata": {},
   "outputs": [],
   "source": [
    "from disentangle.configs.pavia_atn_config import get_config\n",
    "from disentangle.data_loader.vanilla_dloader import MultiChDloader, GridAlignement\n",
    "from disentangle.core.data_split_type import DataSplitType\n",
    "import matplotlib.pyplot as plt\n",
    "\n",
    "config = get_config()\n",
    "config.data.image_size = 512\n",
    "dset = MultiChDloader(\n",
    "    config.data,\n",
    "       '/group/jug/ashesh/data/microscopy/OptiMEM100x014.tif',\n",
    "    DataSplitType.Train,\n",
    "    val_fraction=config.training.val_fraction,\n",
    "    test_fraction=config.training.test_fraction,\n",
    "    normalized_input=config.data.normalized_input,\n",
    "    enable_rotation_aug=config.data.normalized_input,\n",
    "    enable_random_cropping=config.data.deterministic_grid is False,\n",
    "    use_one_mu_std=config.data.use_one_mu_std,\n",
    "    allow_generation=False,\n",
    "    max_val=None,\n",
    "    grid_alignment=GridAlignement.LeftTop,\n",
    "    overlapping_padding_kwargs=None)\n",
    "\n",
    "mean, std = dset.compute_mean_std()\n",
    "dset.set_mean_std(mean, std)\n",
    "\n",
    "inp, target = dset[0]\n",
    "_,ax = plt.subplots(figsize=(10,5),ncols=2)\n",
    "inp, target = dset[0]\n",
    "ax[0].imshow(target[0])\n",
    "ax[1].imshow(target[1])"
   ]
  },
  {
   "cell_type": "code",
   "execution_count": null,
   "metadata": {},
   "outputs": [],
   "source": [
    "import matplotlib.pyplot as plt\n",
    "from disentangle.configs.pavia_atn_config import get_config\n",
    "from disentangle.data_loader.lc_multich_dloader import LCMultiChDloader\n",
    "config = get_config()\n",
    "config.data.image_size = 256\n",
    "\n",
    "padding_kwargs = {'mode': config.data.padding_mode}\n",
    "if 'padding_value' in config.data and config.data.padding_value is not None:\n",
    "    padding_kwargs['constant_values'] = config.data.padding_value\n",
    "\n",
    "dset = LCMultiChDloader(config.data,\n",
    "                        '/group/jug/ashesh/data/microscopy/OptiMEM100x014.tif',\n",
    "                        DataSplitType.Train,\n",
    "                        val_fraction=config.training.val_fraction,\n",
    "                        test_fraction=config.training.test_fraction,\n",
    "                        normalized_input=config.data.normalized_input,\n",
    "                        enable_rotation_aug=config.data.train_aug_rotate,\n",
    "                        enable_random_cropping=config.data.deterministic_grid is False,\n",
    "                        use_one_mu_std=config.data.use_one_mu_std,\n",
    "                        allow_generation=False,\n",
    "                        num_scales=config.data.multiscale_lowres_count,\n",
    "                        max_val=None,\n",
    "                        padding_kwargs=padding_kwargs,\n",
    "                        grid_alignment=GridAlignement.Center,\n",
    "                        overlapping_padding_kwargs=None)\n",
    "\n",
    "mean, std = dset.compute_mean_std()\n",
    "dset.set_mean_std(mean, std)\n",
    "\n",
    "inp, tar = dset[0]\n",
    "print(inp.shape, tar.shape)\n",
    "_, ax = plt.subplots(figsize=(10, 2), ncols=5)\n",
    "ax[0].imshow(inp[0])\n",
    "ax[1].imshow(inp[1])\n",
    "ax[2].imshow(inp[2])\n",
    "ax[3].imshow(tar[0])\n",
    "ax[4].imshow(tar[1])\n"
   ]
  },
  {
   "cell_type": "code",
   "execution_count": null,
   "metadata": {},
   "outputs": [],
   "source": [
    "inp, tar = dset[0]\n",
    "print(inp.shape, tar.shape)\n",
    "_, ax = plt.subplots(figsize=(10, 2), ncols=5)\n",
    "ax[0].imshow(inp[0])\n",
    "ax[1].imshow(inp[1])\n",
    "ax[2].imshow(inp[2])\n",
    "ax[3].imshow(tar[0])\n",
    "ax[4].imshow(tar[1])"
   ]
  },
  {
   "cell_type": "code",
   "execution_count": null,
   "metadata": {},
   "outputs": [],
   "source": [
    "import os\n",
    "import numpy as np\n",
    "from disentangle.core.tiff_reader import load_tiff\n",
    "\n",
    "# dirname = '/group/jug/ashesh/data/N2V_data/svilen_cshl2024/ctrl_LAMP1_s1234_o1_c1111/ch4/'\n",
    "\n",
    "# chname = os.path.basename('/' + dirname.strip('/'))\n",
    "# fnames = sorted(os.listdir(dirname))\n",
    "# data = np.concatenate([load_tiff(os.path.join(dirname, f))[None] for f in fnames], axis=0)\n",
    "# output_fpath = os.path.join(dirname, chname + '.tif')\n",
    "# save_tiff(output_fpath, data)\n",
    "# print(output_fpath)"
   ]
  },
  {
   "cell_type": "code",
   "execution_count": null,
   "metadata": {},
   "outputs": [],
   "source": [
    "data1 = load_tiff('/group/jug/ashesh/data/N2V_data/svilen_cshl2024/ctrl_LAMP1_s1234_o1_c1111/ch1.tif')\n",
    "data2 = load_tiff('/group/jug/ashesh/data/N2V_data/svilen_cshl2024/ctrl_LAMP1_s1234_o1_c1111/ch2.tif')\n",
    "data3 = load_tiff('/group/jug/ashesh/data/N2V_data/svilen_cshl2024/ctrl_LAMP1_s1234_o1_c1111/ch3.tif')\n",
    "data4 = load_tiff('/group/jug/ashesh/data/N2V_data/svilen_cshl2024/ctrl_LAMP1_s1234_o1_c1111/ch4.tif')"
   ]
  },
  {
   "cell_type": "code",
   "execution_count": null,
   "metadata": {},
   "outputs": [],
   "source": [
    "denoised_data1 = load_tiff('/home/ashesh.ashesh/training/N2V/2405/25/ch1.tif')\n",
    "denoised_data2 = load_tiff('/home/ashesh.ashesh/training/N2V/2405/27/ch2.tif')\n",
    "denoised_data3 = load_tiff('/home/ashesh.ashesh/training/N2V/2405/24/ch3.tif')\n",
    "denoised_data4 = load_tiff('/home/ashesh.ashesh/training/N2V/2405/26/ch4.tif')"
   ]
  },
  {
   "cell_type": "code",
   "execution_count": null,
   "metadata": {},
   "outputs": [],
   "source": [
    "import matplotlib.pyplot as plt\n",
    "\n",
    "_,ax = plt.subplots(figsize=(12,6),ncols=4,nrows=2)\n",
    "ax[0,0].imshow(data1[4])\n",
    "ax[0,1].imshow(data2[4])\n",
    "ax[0,2].imshow(data3[4])\n",
    "ax[0,3].imshow(data4[4])\n",
    "\n",
    "ax[1,0].imshow(denoised_data1[4])\n",
    "ax[1,1].imshow(denoised_data2[4])\n",
    "ax[1,2].imshow(denoised_data3[4])\n",
    "ax[1,3].imshow(denoised_data4[4])"
   ]
  },
  {
   "cell_type": "code",
   "execution_count": null,
   "metadata": {},
   "outputs": [],
   "source": [
    "_,ax = plt.subplots(figsize=(6,3),ncols=2)\n",
    "ax[0].imshow(denoised_data2[4][200:400,300:500])\n",
    "ax[1].imshow(data2[4][200:400,300:500])\n"
   ]
  },
  {
   "cell_type": "code",
   "execution_count": null,
   "metadata": {},
   "outputs": [],
   "source": []
  }
 ],
 "metadata": {
  "kernelspec": {
   "display_name": "Python 3",
   "language": "python",
   "name": "python3"
  },
  "language_info": {
   "codemirror_mode": {
    "name": "ipython",
    "version": 3
   },
   "file_extension": ".py",
   "mimetype": "text/x-python",
   "name": "python",
   "nbconvert_exporter": "python",
   "pygments_lexer": "ipython3",
   "version": "3.9.19"
  }
 },
 "nbformat": 4,
 "nbformat_minor": 2
}
