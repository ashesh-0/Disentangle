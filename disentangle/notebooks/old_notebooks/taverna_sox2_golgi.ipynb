{
 "cells": [
  {
   "cell_type": "code",
   "execution_count": null,
   "metadata": {},
   "outputs": [],
   "source": [
    "from IPython.display import display, HTML\n",
    "display(HTML(\"<style>.container { width:100% !important; }</style>\"))"
   ]
  },
  {
   "cell_type": "code",
   "execution_count": null,
   "metadata": {},
   "outputs": [],
   "source": [
    "import os\n",
    "DEBUG=False"
   ]
  },
  {
   "cell_type": "code",
   "execution_count": null,
   "metadata": {},
   "outputs": [],
   "source": [
    "%run ./nb_core/root_dirs.ipynb\n",
    "setup_syspath_disentangle(DEBUG)\n",
    "%run ./nb_core/disentangle_imports.ipynb"
   ]
  },
  {
   "cell_type": "code",
   "execution_count": null,
   "metadata": {},
   "outputs": [],
   "source": [
    "from disentangle.configs.sox2golgi_config import get_config\n",
    "from disentangle.core.model_type import ModelType\n",
    "from disentangle.core.data_split_type import DataSplitType\n",
    "from disentangle.data_loader.multifile_dset import MultiFileDset\n",
    "\n",
    "config = get_config()\n",
    "datapath = '/group/jug/ashesh/data/TavernaSox2Golgi/'\n",
    "\n",
    "normalized_input = config.data.normalized_input\n",
    "use_one_mu_std = config.data.use_one_mu_std\n",
    "train_aug_rotate = config.data.train_aug_rotate\n",
    "enable_random_cropping = config.data.deterministic_grid is False\n",
    "lowres_supervision = config.model.model_type == ModelType.LadderVAEMultiTarget\n",
    "\n",
    "train_data_kwargs = {}\n",
    "val_data_kwargs = {}\n",
    "train_data_kwargs['enable_random_cropping'] = enable_random_cropping\n",
    "val_data_kwargs['enable_random_cropping'] = False\n",
    "padding_kwargs = None\n",
    "if 'multiscale_lowres_count' in config.data and config.data.multiscale_lowres_count is not None:\n",
    "    padding_kwargs = {'mode': config.data.padding_mode}\n",
    "if 'padding_value' in config.data and config.data.padding_value is not None:\n",
    "    padding_kwargs['constant_values'] = config.data.padding_value\n",
    "\n",
    "train_data = MultiFileDset(config.data,\n",
    "                            datapath,\n",
    "                            datasplit_type=DataSplitType.Train,\n",
    "                            val_fraction=config.training.val_fraction,\n",
    "                            test_fraction=config.training.test_fraction,\n",
    "                            normalized_input=normalized_input,\n",
    "                            use_one_mu_std=use_one_mu_std,\n",
    "                            enable_rotation_aug=train_aug_rotate,\n",
    "                            padding_kwargs=padding_kwargs,\n",
    "                            **train_data_kwargs)\n",
    "\n",
    "max_val = train_data.get_max_val()\n",
    "val_data = MultiFileDset(\n",
    "    config.data,\n",
    "    datapath,\n",
    "    datasplit_type=DataSplitType.Val,\n",
    "    val_fraction=config.training.val_fraction,\n",
    "    test_fraction=config.training.test_fraction,\n",
    "    normalized_input=normalized_input,\n",
    "    use_one_mu_std=use_one_mu_std,\n",
    "    enable_rotation_aug=False,  # No rotation aug on validation\n",
    "    padding_kwargs=padding_kwargs,\n",
    "    max_val=max_val,\n",
    "    **val_data_kwargs,\n",
    ")\n",
    "\n",
    "mean_val, std_val = train_data.compute_mean_std()\n",
    "train_data.set_mean_std(mean_val, std_val)\n",
    "val_data.set_mean_std(mean_val, std_val)\n"
   ]
  },
  {
   "cell_type": "code",
   "execution_count": null,
   "metadata": {},
   "outputs": [],
   "source": [
    "inp, tar = val_data[0]"
   ]
  },
  {
   "cell_type": "code",
   "execution_count": null,
   "metadata": {},
   "outputs": [],
   "source": [
    "_,ax = plt.subplots(figsize=(9,3),ncols=3)\n",
    "ax[0].imshow(inp[0])\n",
    "ax[1].imshow(tar[0])\n",
    "ax[2].imshow(tar[1])"
   ]
  },
  {
   "cell_type": "code",
   "execution_count": null,
   "metadata": {},
   "outputs": [],
   "source": [
    "inp.shape"
   ]
  },
  {
   "cell_type": "code",
   "execution_count": null,
   "metadata": {},
   "outputs": [],
   "source": [
    "inp_arr = []\n",
    "for i in range(len(val_data)):\n",
    "    inp, tar = val_data[i]\n",
    "    inp_arr.append(inp)"
   ]
  },
  {
   "cell_type": "code",
   "execution_count": null,
   "metadata": {},
   "outputs": [],
   "source": [
    "inpdata= np.concatenate(inp_arr,axis=0)"
   ]
  },
  {
   "cell_type": "code",
   "execution_count": null,
   "metadata": {},
   "outputs": [],
   "source": [
    "import matplotlib.pyplot as plt\n",
    "_ = plt.hist(inpdata.flatten(),bins=100)"
   ]
  },
  {
   "cell_type": "code",
   "execution_count": null,
   "metadata": {},
   "outputs": [],
   "source": []
  },
  {
   "cell_type": "code",
   "execution_count": null,
   "metadata": {},
   "outputs": [],
   "source": [
    "# import seaborn as sns\n",
    "# sns.histplot(inpdata.flatten(),bins=100)"
   ]
  },
  {
   "cell_type": "code",
   "execution_count": null,
   "metadata": {},
   "outputs": [],
   "source": [
    "np.quantile(inpdata,[0.0, 0.01, 0.1, 0.5, 0.99,1])"
   ]
  },
  {
   "cell_type": "code",
   "execution_count": null,
   "metadata": {},
   "outputs": [],
   "source": [
    "# config.data\n"
   ]
  },
  {
   "cell_type": "code",
   "execution_count": null,
   "metadata": {},
   "outputs": [],
   "source": [
    "from disentangle.data_loader.sox2golgi_rawdata_loader import (get_train_val_data, get_one_channel_files, get_two_channel_files, SubDsetType)\n",
    "datadir = '/group/jug/ashesh/data/TavernaSox2Golgi/'\n",
    "\n",
    "config.data.subdset_type = SubDsetType.TwoChannel\n",
    "data2ch = get_train_val_data(datadir,\n",
    "                       config.data,\n",
    "                       DataSplitType.Test,\n",
    "                       val_fraction=0.1,\n",
    "                       test_fraction=0.1)\n",
    "\n",
    "config.data.subdset_type = SubDsetType.OneChannel\n",
    "data1ch = get_train_val_data(datadir,\n",
    "                       config.data,\n",
    "                       DataSplitType.Test,\n",
    "                       val_fraction=0.1,\n",
    "                       test_fraction=0.1)"
   ]
  },
  {
   "cell_type": "code",
   "execution_count": null,
   "metadata": {},
   "outputs": [],
   "source": [
    "len(data1ch), len(data2ch)"
   ]
  },
  {
   "cell_type": "code",
   "execution_count": null,
   "metadata": {},
   "outputs": [],
   "source": [
    "import numpy as np\n",
    "input1ch = []\n",
    "input2ch = []\n",
    "for idx in range(len(data1ch)):\n",
    "    input1ch.append(np.mean(data1ch[idx][0],axis=2, keepdims=True))\n",
    "\n",
    "for idx in range(len(data2ch)):\n",
    "    input2ch.append(np.mean(data2ch[idx][0],axis=2, keepdims=True))\n",
    "\n",
    "input1ch = np.concatenate(input1ch,axis=-1)\n",
    "input2ch = np.concatenate(input2ch,axis=-1)"
   ]
  },
  {
   "cell_type": "code",
   "execution_count": null,
   "metadata": {},
   "outputs": [],
   "source": [
    "import seaborn as sns\n",
    "_,ax = plt.subplots()\n",
    "sns.histplot(input1ch.flatten()/2,bins=100, color='red', label='1ch', stat='density')\n",
    "sns.histplot(input2ch.flatten(),bins=100, color='blue', label='2ch', stat='density')\n",
    "ax.legend()"
   ]
  },
  {
   "cell_type": "code",
   "execution_count": null,
   "metadata": {},
   "outputs": [],
   "source": [
    "print('input 1ch', np.quantile(input1ch/2,[0.0, 0.01, 0.1, 0.5, 0.9, 0.99,1]).astype(np.int32))\n",
    "print('input 2ch', np.quantile(input2ch,[0.0, 0.01, 0.1, 0.5, 0.9, 0.99,1]).astype(np.int32))"
   ]
  },
  {
   "cell_type": "code",
   "execution_count": null,
   "metadata": {},
   "outputs": [],
   "source": [
    "ch1 = []\n",
    "ch2 = []\n",
    "for idx in range(len(data2ch)):\n",
    "    tmpd = data2ch[idx][0]\n",
    "    ch1.append(tmpd[:,:,:1])\n",
    "    ch2.append(tmpd[:,:,1:])\n",
    "\n",
    "ch1 = np.concatenate(ch1,axis=-1)\n",
    "ch2 = np.concatenate(ch2,axis=-1)"
   ]
  },
  {
   "cell_type": "code",
   "execution_count": null,
   "metadata": {},
   "outputs": [],
   "source": [
    "_,ax = plt.subplots()\n",
    "sns.histplot(ch1.flatten(),bins=100, color='red', label='channel 1st', stat='density')\n",
    "sns.histplot(ch2.flatten(),bins=100, color='blue', label='channel 2nd', stat='density')\n",
    "ax.legend()"
   ]
  },
  {
   "cell_type": "code",
   "execution_count": null,
   "metadata": {},
   "outputs": [],
   "source": [
    "print('channel 1', np.quantile(ch1,[0.0, 0.01, 0.1, 0.5, 0.99,1]).astype(np.int32))\n",
    "print('channel 2', np.quantile(ch2,[0.0, 0.01, 0.1, 0.5, 0.99,1]).astype(np.int32))"
   ]
  },
  {
   "cell_type": "code",
   "execution_count": null,
   "metadata": {},
   "outputs": [],
   "source": []
  }
 ],
 "metadata": {
  "kernelspec": {
   "display_name": "usplit",
   "language": "python",
   "name": "python3"
  },
  "language_info": {
   "codemirror_mode": {
    "name": "ipython",
    "version": 3
   },
   "file_extension": ".py",
   "mimetype": "text/x-python",
   "name": "python",
   "nbconvert_exporter": "python",
   "pygments_lexer": "ipython3",
   "version": "3.9.18"
  },
  "vscode": {
   "interpreter": {
    "hash": "e959a19f8af3b4149ff22eb57702a46c14a8caae5a2647a6be0b1f60abdfa4c2"
   }
  }
 },
 "nbformat": 4,
 "nbformat_minor": 2
}
