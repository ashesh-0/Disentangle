{
 "cells": [
  {
   "cell_type": "code",
   "execution_count": null,
   "metadata": {},
   "outputs": [],
   "source": [
    "from disentangle.configs.elisa3D_config import get_config\n",
    "from disentangle.data_loader.vanilla_dloader import MultiChDloader\n",
    "from disentangle.core.data_split_type import DataSplitType\n",
    "from disentangle.data_loader.patch_index_manager import GridAlignement\n",
    "\n",
    "config = get_config()\n",
    "config.data.zstart = 23\n",
    "config.data.zstop = 44\n",
    "config.data.depth3D = 10\n",
    "config.data.image_size = 512\n",
    "\n",
    "dset = MultiChDloader(\n",
    "    config.data,\n",
    "    '/group/jug/ashesh/data/Elisa3D/',\n",
    "    DataSplitType.Train,\n",
    "    val_fraction=config.training.val_fraction,\n",
    "    test_fraction=config.training.test_fraction,\n",
    "    normalized_input=config.data.normalized_input,\n",
    "    enable_rotation_aug=config.data.train_aug_rotate,\n",
    "    enable_random_cropping=True,#config.data.deterministic_grid is False,\n",
    "    use_one_mu_std=config.data.use_one_mu_std,\n",
    "    allow_generation=False,\n",
    "    max_val=None,\n",
    "    grid_alignment=GridAlignement.LeftTop,\n",
    "    overlapping_padding_kwargs=None)\n",
    "\n",
    "mean, std = dset.compute_mean_std()\n",
    "dset.set_mean_std(mean, std)\n",
    "\n"
   ]
  },
  {
   "cell_type": "code",
   "execution_count": null,
   "metadata": {},
   "outputs": [],
   "source": [
    "from ipywidgets import interact, widgets\n",
    "import matplotlib.pyplot as plt\n",
    "\n",
    "inp, target = dset[0]\n",
    "\n",
    "def plot_one_z(zidx):\n",
    "    fig,ax = plt.subplots(figsize=(12,4),ncols=3)\n",
    "    ax[0].imshow(inp[0,zidx])\n",
    "    ax[1].imshow(target[0,zidx])\n",
    "    ax[2].imshow(target[1,zidx])\n",
    "\n",
    "_ = interact(plot_one_z, zidx=widgets.IntSlider(min=0,max=inp.shape[1]-1,step=1,value=1)) \n",
    "\n"
   ]
  },
  {
   "cell_type": "code",
   "execution_count": null,
   "metadata": {},
   "outputs": [],
   "source": []
  }
 ],
 "metadata": {
  "kernelspec": {
   "display_name": "Python 3",
   "language": "python",
   "name": "python3"
  },
  "language_info": {
   "codemirror_mode": {
    "name": "ipython",
    "version": 3
   },
   "file_extension": ".py",
   "mimetype": "text/x-python",
   "name": "python",
   "nbconvert_exporter": "python",
   "pygments_lexer": "ipython3",
   "version": "3.9.19"
  }
 },
 "nbformat": 4,
 "nbformat_minor": 2
}
