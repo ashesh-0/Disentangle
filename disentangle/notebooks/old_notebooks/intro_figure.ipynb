{
 "cells": [
  {
   "cell_type": "code",
   "execution_count": null,
   "metadata": {},
   "outputs": [],
   "source": [
    "import os\n",
    "DEBUG=False\n",
    "%run ./nb_core/root_dirs.ipynb\n",
    "setup_syspath_disentangle(DEBUG)\n",
    "%run ./nb_core/disentangle_imports.ipynb"
   ]
  },
  {
   "cell_type": "code",
   "execution_count": null,
   "metadata": {},
   "outputs": [],
   "source": [
    "! ls /group/jug/ashesh/data/Downloads/"
   ]
  },
  {
   "cell_type": "code",
   "execution_count": null,
   "metadata": {},
   "outputs": [],
   "source": [
    "charA = '/group/jug/ashesh/downloads/archive/notMNIST_small/A'\n",
    "charB = '/group/jug/ashesh/downloads/archive/notMNIST_small/J'"
   ]
  },
  {
   "cell_type": "code",
   "execution_count": null,
   "metadata": {},
   "outputs": [],
   "source": [
    "fnamesA = list(os.listdir(charA))\n",
    "fnamesB = list(os.listdir(charB))"
   ]
  },
  {
   "cell_type": "code",
   "execution_count": null,
   "metadata": {},
   "outputs": [],
   "source": [
    "import matplotlib.pyplot as plt\n",
    "fpath = os.path.join(charA, fnamesA[0])\n",
    "cmaps = ['gray_r', 'prism', 'viridis', 'plasma', 'inferno', 'magma', 'cividis']\n",
    "cmap_idx = 0\n",
    "img = plt.imread(fpath)\n",
    "_, ax = plt.subplots(figsize=(9,3),ncols=3)\n",
    "idx1 = np.random.randint(0, len(fnamesA))\n",
    "idx2 = np.random.randint(0, len(fnamesB))\n",
    "img1 = plt.imread(os.path.join(charA, fnamesA[idx1]))\n",
    "img2 = plt.imread(os.path.join(charB, fnamesB[idx2]))\n",
    "inp = img1 + img2\n",
    "\n",
    "ax[0].imshow(img1, cmap=cmaps[cmap_idx])\n",
    "ax[1].imshow(img2, cmap=cmaps[cmap_idx])\n",
    "ax[2].imshow(inp, cmap=cmaps[cmap_idx])\n"
   ]
  },
  {
   "cell_type": "code",
   "execution_count": null,
   "metadata": {},
   "outputs": [],
   "source": [
    "import numpy as np \n",
    "from disentangle.analysis.plot_utils import clean_ax\n",
    "\n",
    "sigma = 0.2\n",
    "n1 = np.random.normal(0,sigma, size=img2.shape)\n",
    "n2 = np.random.normal(0,sigma, size=img2.shape)\n",
    "_, ax = plt.subplots(figsize=(9,3),ncols=3)\n",
    "ax[0].imshow(img1 +n1, cmap=cmaps[cmap_idx])\n",
    "ax[1].imshow(img2+n2, cmap=cmaps[cmap_idx])\n",
    "ax[2].imshow(inp+ n1+n2, cmap=cmaps[cmap_idx])\n",
    "clean_ax(ax)\n"
   ]
  },
  {
   "cell_type": "code",
   "execution_count": null,
   "metadata": {},
   "outputs": [],
   "source": [
    "from disentangle.analysis.plot_utils import clean_ax\n",
    "output_datadir = '/group/jug/ashesh/data/paper_figures/cartoon/'\n",
    "for i,img in enumerate([img1, img2, inp]):\n",
    "    plt.imshow(img, cmap=cmaps[cmap_idx])\n",
    "    clean_ax(plt.gca())\n",
    "    fpath = os.path.join(output_datadir, f'clean_{i}.png')\n",
    "    plt.savefig(fpath, dpi=200, bbox_inches='tight')\n",
    "    print(fpath)\n",
    "\n",
    "    # plt.imsave(os.path.join(output_datadir, f'clean_{i}.png'), img, cmap=cmaps[cmap_idx])"
   ]
  },
  {
   "cell_type": "code",
   "execution_count": null,
   "metadata": {},
   "outputs": [],
   "source": [
    "for i,img_tuple in enumerate(zip([img1, img2, inp], [n1, n2, n1+n2])):\n",
    "    img, noise = img_tuple\n",
    "    plt.imshow(img+noise, cmap=cmaps[cmap_idx])\n",
    "    clean_ax(plt.gca())\n",
    "    fpath = os.path.join(output_datadir, f'noisy_{i}.png')\n",
    "    plt.savefig(fpath, dpi=200, bbox_inches='tight')\n",
    "    print(fpath)\n"
   ]
  },
  {
   "cell_type": "code",
   "execution_count": null,
   "metadata": {},
   "outputs": [],
   "source": []
  }
 ],
 "metadata": {
  "kernelspec": {
   "display_name": "Python 3",
   "language": "python",
   "name": "python3"
  },
  "language_info": {
   "codemirror_mode": {
    "name": "ipython",
    "version": 3
   },
   "file_extension": ".py",
   "mimetype": "text/x-python",
   "name": "python",
   "nbconvert_exporter": "python",
   "pygments_lexer": "ipython3",
   "version": "3.9.18"
  }
 },
 "nbformat": 4,
 "nbformat_minor": 2
}
