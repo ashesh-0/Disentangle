{
 "cells": [
  {
   "cell_type": "code",
   "execution_count": null,
   "metadata": {},
   "outputs": [],
   "source": [
    "from disentangle.data_loader.nikola_7D_rawdata_loader import get_train_val_data\n",
    "from disentangle.core.data_type import DataType\n",
    "from disentangle.core.data_split_type import DataSplitType\n",
    "from disentangle.data_loader.nikola_7D_rawdata_loader import NikolaChannelList\n",
    "import matplotlib.pyplot as plt\n",
    "\n",
    "\n",
    "# from disentangle.configs.nikola_7D_config import get_config\n",
    "import ml_collections\n",
    "config = ml_collections.ConfigDict()\n",
    "config.data_type = DataType.NicolaData\n",
    "config.dset_type = '5ms'  # high, mid, low, verylow\n",
    "\n",
    "config.channel_idx_list = [NikolaChannelList.Ch_B, NikolaChannelList.Ch_D, NikolaChannelList.Ch_BD]\n",
    "split_type = DataSplitType.Test\n",
    "if split_type == DataSplitType.Train:\n",
    "    split_type_str = 'train'\n",
    "elif split_type == DataSplitType.Val:\n",
    "    split_type_str = 'val'\n",
    "elif split_type == DataSplitType.Test:\n",
    "    split_type_str = 'test'\n",
    "\n",
    "datadir = '/group/jug/ashesh/data/nikola_data/20240531/'\n",
    "data = get_train_val_data(datadir, config, split_type,\n",
    "                            val_fraction=0.1, test_fraction=0.1)\n",
    "\n",
    "_,ax = plt.subplots(figsize=(18,6),ncols=3)\n",
    "ax[0].imshow(data[0,...,0])\n",
    "ax[1].imshow(data[0,...,1])\n",
    "ax[2].imshow(data[0,...,2])\n",
    "# 'high', [0, 1]\n",
    "\n"
   ]
  },
  {
   "cell_type": "code",
   "execution_count": null,
   "metadata": {},
   "outputs": [],
   "source": [
    "outputdir = f'/group/jug/ashesh/data/diffsplit_HT_LIF/{config.dset_type}/Ch_B-Ch_D-Ch_BD/{split_type_str}/'\n",
    "fname = f'{split_type_str}_{config.dset_type}_Ch_B-Ch_D-Ch_BD.tif'\n",
    "outputdir, fname"
   ]
  },
  {
   "cell_type": "code",
   "execution_count": null,
   "metadata": {},
   "outputs": [],
   "source": [
    "from disentangle.core.tiff_reader import save_tiff\n",
    "import os\n",
    "\n",
    "fpath = os.path.join(outputdir, fname)\n",
    "save_tiff(fpath, data)\n",
    "print('Saved to', fpath)"
   ]
  },
  {
   "cell_type": "code",
   "execution_count": null,
   "metadata": {},
   "outputs": [],
   "source": []
  }
 ],
 "metadata": {
  "kernelspec": {
   "display_name": "Python 3",
   "language": "python",
   "name": "python3"
  },
  "language_info": {
   "codemirror_mode": {
    "name": "ipython",
    "version": 3
   },
   "file_extension": ".py",
   "mimetype": "text/x-python",
   "name": "python",
   "nbconvert_exporter": "python",
   "pygments_lexer": "ipython3",
   "version": "3.9.19"
  }
 },
 "nbformat": 4,
 "nbformat_minor": 2
}
