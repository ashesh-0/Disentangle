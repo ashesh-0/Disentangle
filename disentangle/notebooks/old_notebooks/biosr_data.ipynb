{
 "cells": [
  {
   "cell_type": "code",
   "execution_count": null,
   "metadata": {},
   "outputs": [],
   "source": [
    "from disentangle.data_loader.raw_mrc_dloader import get_mrc_data\n",
    "import os"
   ]
  },
  {
   "cell_type": "code",
   "execution_count": null,
   "metadata": {},
   "outputs": [],
   "source": [
    "ch1path = '/group/jug/ashesh/data/BioSR/F-actin/GT_all_a.mrc'\n",
    "ch2path = '/group/jug/ashesh/data/BioSR/CCPs/GT_all.mrc'\n",
    "ch3path ='/group/jug/ashesh/data/BioSR/ER/GT_all.mrc'\n",
    "ch4path = '/group/jug/ashesh/data/BioSR/F-actin_Nonlinear/GT_all_a.mrc'\n",
    "ch5path = '/group/jug/ashesh/data/BioSR/Microtubules/GT_all.mrc'"
   ]
  },
  {
   "cell_type": "code",
   "execution_count": null,
   "metadata": {},
   "outputs": [],
   "source": [
    "data1 = get_mrc_data(ch1path)\n",
    "data2 = get_mrc_data(ch2path)\n",
    "data3 = get_mrc_data(ch3path)\n",
    "data4 = get_mrc_data(ch4path)\n",
    "data5 = get_mrc_data(ch5path)"
   ]
  },
  {
   "cell_type": "code",
   "execution_count": null,
   "metadata": {},
   "outputs": [],
   "source": [
    "sample = data1[0]\n",
    "sample = sample[400:600,400:600]"
   ]
  },
  {
   "cell_type": "code",
   "execution_count": null,
   "metadata": {},
   "outputs": [],
   "source": [
    "import seaborn as sns\n",
    "sns.histplot((np.random.poisson(sample/500)*500).reshape(-1,), color='r')\n",
    "sns.histplot(sample.reshape(-1), color='b')"
   ]
  },
  {
   "cell_type": "code",
   "execution_count": null,
   "metadata": {},
   "outputs": [],
   "source": [
    "np.quantile(data1[0], 0.01)"
   ]
  },
  {
   "cell_type": "code",
   "execution_count": null,
   "metadata": {},
   "outputs": [],
   "source": [
    "import matplotlib.pyplot as plt\n",
    "import numpy as np\n",
    "\n",
    "_,ax = plt.subplots(figsize=(10,5),ncols=2)\n",
    "\n",
    "ax[0].imshow(sample)\n",
    "ax[1].imshow(np.random.poisson(sample/500)*500)"
   ]
  },
  {
   "cell_type": "code",
   "execution_count": null,
   "metadata": {},
   "outputs": [],
   "source": []
  },
  {
   "cell_type": "code",
   "execution_count": null,
   "metadata": {},
   "outputs": [],
   "source": [
    "import matplotlib.pyplot as plt\n",
    "\n",
    "_,ax = plt.subplots(figsize=(20,4),ncols=5)\n",
    "ax[0].imshow(data1[0],cmap='gray')\n",
    "ax[1].imshow(data2[0],cmap='gray')\n",
    "ax[2].imshow(data3[0],cmap='gray')\n",
    "ax[3].imshow(data4[0],cmap='gray')\n",
    "ax[4].imshow(data5[0],cmap='gray')\n",
    "\n",
    "ax[0].set_title(os.path.basename(os.path.dirname(ch1path)))\n",
    "ax[1].set_title(os.path.basename(os.path.dirname(ch2path)))\n",
    "ax[2].set_title(os.path.basename(os.path.dirname(ch3path)))\n",
    "ax[3].set_title(os.path.basename(os.path.dirname(ch4path)))\n",
    "ax[4].set_title(os.path.basename(os.path.dirname(ch5path)))\n"
   ]
  },
  {
   "cell_type": "code",
   "execution_count": null,
   "metadata": {},
   "outputs": [],
   "source": [
    "import seaborn as sns\n",
    "sns.kdeplot(data1[0].flatten(),label=os.path.basename(os.path.dirname(ch1path)))\n",
    "sns.kdeplot(data2[0].flatten(),label=os.path.basename(os.path.dirname(ch2path)))\n",
    "sns.kdeplot(data3[0].flatten(),label=os.path.basename(os.path.dirname(ch3path)))\n",
    "sns.kdeplot(data4[0].flatten(),label=os.path.basename(os.path.dirname(ch4path)))\n",
    "sns.kdeplot(data5[0].flatten(),label=os.path.basename(os.path.dirname(ch5path)))\n",
    "plt.legend()\n"
   ]
  },
  {
   "cell_type": "code",
   "execution_count": null,
   "metadata": {},
   "outputs": [],
   "source": [
    "import numpy as np\n",
    "for idx, data in enumerate([data1, data2, data3, data4, data5]):\n",
    "    qs = np.quantile(data.flatten(),[0, 0.01,0.5, 0.995, 1]).astype(np.int32)\n",
    "    label = os.path.basename(os.path.dirname(globals()[f'ch{idx+1}path']))\n",
    "    print(label.rjust(20),'\\t\\t', qs, data.shape)"
   ]
  },
  {
   "attachments": {},
   "cell_type": "markdown",
   "metadata": {},
   "source": [
    "## Two versions of F-actin data.\n",
    "It is not clear why they have provided these two versions. Also, we have another 2 versions with Actin non-linear. "
   ]
  },
  {
   "cell_type": "code",
   "execution_count": null,
   "metadata": {},
   "outputs": [],
   "source": [
    "data12 = get_mrc_data('/group/jug/ashesh/data/BioSR/F-actin/GT_all_b.mrc')\n",
    "np.quantile(data12.flatten(),[0, 0.01,0.5, 0.995, 1]).astype(np.int32)"
   ]
  },
  {
   "cell_type": "code",
   "execution_count": null,
   "metadata": {},
   "outputs": [],
   "source": [
    "_,ax = plt.subplots(figsize=(8,4),ncols=2)\n",
    "ax[0].imshow(data1[0],cmap='gray')\n",
    "ax[1].imshow(data12[0],cmap='gray')\n",
    "ax[0].set_title(os.path.basename(ch1path))\n",
    "ax[1].set_title(os.path.basename(('/group/jug/ashesh/data/BioSR/F-actin/GT_all_b.mrc')))"
   ]
  },
  {
   "attachments": {},
   "cell_type": "markdown",
   "metadata": {},
   "source": [
    "## Intensity profile across slices"
   ]
  },
  {
   "cell_type": "code",
   "execution_count": null,
   "metadata": {},
   "outputs": [],
   "source": [
    "plt.plot(np.mean(data5.reshape(len(data5),-1),axis=1), label = os.path.basename(os.path.dirname(ch1path)))\n"
   ]
  },
  {
   "cell_type": "code",
   "execution_count": null,
   "metadata": {},
   "outputs": [],
   "source": []
  }
 ],
 "metadata": {
  "kernelspec": {
   "display_name": "usplit",
   "language": "python",
   "name": "python3"
  },
  "language_info": {
   "codemirror_mode": {
    "name": "ipython",
    "version": 3
   },
   "file_extension": ".py",
   "mimetype": "text/x-python",
   "name": "python",
   "nbconvert_exporter": "python",
   "pygments_lexer": "ipython3",
   "version": "3.9.18"
  },
  "vscode": {
   "interpreter": {
    "hash": "e959a19f8af3b4149ff22eb57702a46c14a8caae5a2647a6be0b1f60abdfa4c2"
   }
  }
 },
 "nbformat": 4,
 "nbformat_minor": 2
}
