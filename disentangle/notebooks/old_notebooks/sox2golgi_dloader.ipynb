{
 "cells": [
  {
   "cell_type": "code",
   "execution_count": null,
   "metadata": {},
   "outputs": [],
   "source": [
    "from IPython.display import display, HTML\n",
    "display(HTML(\"<style>.container { width:100% !important; }</style>\"))"
   ]
  },
  {
   "cell_type": "code",
   "execution_count": null,
   "metadata": {},
   "outputs": [],
   "source": [
    "import os\n",
    "DEBUG=False\n",
    "%run ./nb_core/root_dirs.ipynb\n",
    "setup_syspath_disentangle(DEBUG)\n",
    "%run ./nb_core/disentangle_imports.ipynb"
   ]
  },
  {
   "cell_type": "code",
   "execution_count": null,
   "metadata": {},
   "outputs": [],
   "source": [
    "from disentangle.data_loader.multifile_dset import MultiFileDset, DataSplitType\n",
    "from disentangle.core.model_type import ModelType\n",
    "\n",
    "from disentangle.configs.sox2golgi_config import get_config \n",
    "config = get_config()\n",
    "datapath = '/group/jug/ashesh/data/TavernaSox2Golgi/'\n",
    "normalized_input = config.data.normalized_input\n",
    "use_one_mu_std = config.data.use_one_mu_std\n",
    "train_aug_rotate = config.data.train_aug_rotate\n",
    "enable_random_cropping = config.data.deterministic_grid is False\n",
    "lowres_supervision = config.model.model_type == ModelType.LadderVAEMultiTarget\n",
    "\n",
    "train_data_kwargs = {}\n",
    "val_data_kwargs = {}\n",
    "train_data_kwargs['enable_random_cropping'] = enable_random_cropping\n",
    "val_data_kwargs['enable_random_cropping'] = False\n",
    "train_data = MultiFileDset(config.data,\n",
    "    datapath,\n",
    "    datasplit_type=DataSplitType.Train,\n",
    "    val_fraction=config.training.val_fraction,\n",
    "    test_fraction=config.training.test_fraction,\n",
    "    normalized_input=normalized_input,\n",
    "    use_one_mu_std=use_one_mu_std,\n",
    "    enable_rotation_aug=train_aug_rotate,\n",
    "    **train_data_kwargs)\n",
    "\n",
    "mean_val, std_val = train_data.compute_mean_std()\n",
    "train_data.set_mean_std(mean_val, std_val)\n",
    "max_val = train_data.get_max_val()\n",
    "val_data = MultiFileDset(\n",
    "        config.data,\n",
    "        datapath,\n",
    "        datasplit_type=DataSplitType.Val,\n",
    "        val_fraction=config.training.val_fraction,\n",
    "        test_fraction=config.training.test_fraction,\n",
    "        normalized_input=normalized_input,\n",
    "        use_one_mu_std=use_one_mu_std,\n",
    "        enable_rotation_aug=False,  # No rotation aug on validation\n",
    "        max_val=max_val,\n",
    "        **val_data_kwargs,\n",
    "    )\n"
   ]
  },
  {
   "cell_type": "code",
   "execution_count": null,
   "metadata": {},
   "outputs": [],
   "source": [
    "len(train_data)"
   ]
  },
  {
   "cell_type": "code",
   "execution_count": null,
   "metadata": {},
   "outputs": [],
   "source": [
    "import matplotlib.pyplot as plt\n",
    "_, ax = plt.subplots(figsize=(9,3),ncols=3)\n",
    "inp, tar = train_data[0]\n",
    "\n",
    "ax[0].imshow(inp[0])\n",
    "ax[1].imshow(tar[0])\n",
    "ax[2].imshow(tar[1])"
   ]
  }
 ],
 "metadata": {
  "kernelspec": {
   "display_name": "usplit",
   "language": "python",
   "name": "python3"
  },
  "language_info": {
   "codemirror_mode": {
    "name": "ipython",
    "version": 3
   },
   "file_extension": ".py",
   "mimetype": "text/x-python",
   "name": "python",
   "nbconvert_exporter": "python",
   "pygments_lexer": "ipython3",
   "version": "3.9.18"
  },
  "vscode": {
   "interpreter": {
    "hash": "e959a19f8af3b4149ff22eb57702a46c14a8caae5a2647a6be0b1f60abdfa4c2"
   }
  }
 },
 "nbformat": 4,
 "nbformat_minor": 2
}
