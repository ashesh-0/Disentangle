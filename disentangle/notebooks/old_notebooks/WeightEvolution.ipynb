{
 "cells": [
  {
   "cell_type": "code",
   "execution_count": null,
   "metadata": {},
   "outputs": [],
   "source": [
    "DEBUG=False"
   ]
  },
  {
   "cell_type": "code",
   "execution_count": null,
   "metadata": {},
   "outputs": [],
   "source": [
    "%run ./nb_core/root_dirs.ipynb\n",
    "setup_syspath_disentangle(DEBUG)\n",
    "%run ./nb_core/disentangle_imports.ipynb"
   ]
  },
  {
   "cell_type": "code",
   "execution_count": null,
   "metadata": {},
   "outputs": [],
   "source": [
    "ckpt_dir = \"/home/ashesh.ashesh/training/disentangle/2310/D3-M23-S7-L0/38\""
   ]
  },
  {
   "cell_type": "code",
   "execution_count": null,
   "metadata": {},
   "outputs": [],
   "source": [
    "dtype = int(ckpt_dir.split('/')[-2].split('-')[0][1:])\n",
    "if DEBUG:\n",
    "    if dtype == DataType.CustomSinosoid:\n",
    "        data_dir = f'{DATA_ROOT}/sinosoid/'\n",
    "    elif dtype == DataType.OptiMEM100_014:\n",
    "        data_dir = f'{DATA_ROOT}/microscopy/'\n",
    "else:\n",
    "    if dtype in [DataType.CustomSinosoid, DataType.CustomSinosoidThreeCurve]:\n",
    "        data_dir = f'{DATA_ROOT}/sinosoid_without_test/sinosoid/'\n",
    "    elif dtype == DataType.OptiMEM100_014:\n",
    "        data_dir = f'{DATA_ROOT}/microscopy/'\n",
    "    elif dtype == DataType.Prevedel_EMBL:\n",
    "        data_dir = f'{DATA_ROOT}/Prevedel_EMBL/PKG_3P_dualcolor_stacks/NoAverage_NoRegistration/'\n",
    "    elif dtype == DataType.AllenCellMito:\n",
    "        data_dir = f'{DATA_ROOT}/allencell/2017_03_08_Struct_First_Pass_Seg/AICS-11/'\n",
    "    elif dtype == DataType.SeparateTiffData:\n",
    "        data_dir = f'{DATA_ROOT}/ventura_gigascience'\n",
    "    elif dtype == DataType.SemiSupBloodVesselsEMBL:\n",
    "        data_dir = f'{DATA_ROOT}/EMBL_halfsupervised/Demixing_3P'\n",
    "    elif dtype == DataType.Pavia2VanillaSplitting:\n",
    "        data_dir = f'{DATA_ROOT}/pavia2'\n",
    "    elif dtype == DataType.ExpansionMicroscopyMitoTub:\n",
    "        data_dir = f'{DATA_ROOT}/expansion_microscopy_Nick/'\n",
    "    elif dtype == DataType.ShroffMitoEr:\n",
    "        data_dir = f'{DATA_ROOT}/shrofflab/'\n",
    "    elif dtype == DataType.HTIba1Ki67:\n",
    "        data_dir = f'{DATA_ROOT}/Stefania/20230327_Ki67_and_Iba1_trainingdata/'\n",
    "        \n",
    "#     2720*2720: microscopy dataset.\n",
    "\n",
    "image_size_for_grid_centers = None\n",
    "mmse_count = 1\n",
    "custom_image_size = None\n",
    "\n",
    "\n",
    "\n",
    "batch_size = 32\n",
    "num_workers = 4\n",
    "COMPUTE_LOSS = False\n",
    "use_deterministic_grid = None\n",
    "threshold = None # 0.02\n",
    "compute_kl_loss = False\n",
    "evaluate_train = False# inspect training performance\n",
    "eval_datasplit_type = DataSplitType.Test\n",
    "val_repeat_factor = None\n",
    "psnr_type = 'range_invariant' #'simple', 'range_invariant'"
   ]
  },
  {
   "cell_type": "code",
   "execution_count": null,
   "metadata": {},
   "outputs": [],
   "source": [
    "%run ./nb_core/config_loader.ipynb"
   ]
  },
  {
   "cell_type": "code",
   "execution_count": null,
   "metadata": {},
   "outputs": [],
   "source": [
    "from disentangle.core.sampler_type import SamplerType\n",
    "from disentangle.core.loss_type import LossType\n",
    "from disentangle.data_loader.ht_iba1_ki67_rawdata_loader import SubDsetType\n",
    "# from disentangle.core.lowres_merge_type import LowresMergeType\n",
    "\n",
    "\n",
    "with config.unlocked():\n",
    "    config.model.skip_nboundary_pixels_from_loss = None\n",
    "    if config.model.model_type == ModelType.UNet and 'n_levels' not in config.model:\n",
    "        config.model.n_levels = 4\n",
    "    if config.data.sampler_type == SamplerType.NeighborSampler:\n",
    "        config.data.sampler_type = SamplerType.DefaultSampler\n",
    "        config.loss.loss_type = LossType.Elbo\n",
    "        config.data.grid_size = config.data.image_size\n",
    "    if 'ch1_fpath_list' in config.data:\n",
    "        config.data.ch1_fpath_list = config.data.ch1_fpath_list[:1]\n",
    "        config.data.mix_fpath_list = config.data.mix_fpath_list[:1]\n",
    "    if config.data.data_type == DataType.Pavia2VanillaSplitting:\n",
    "        if 'channel_2_downscale_factor' not in config.data:\n",
    "            config.data.channel_2_downscale_factor = 1\n",
    "    if config.model.model_type == ModelType.UNet and 'init_channel_count' not in config.model:\n",
    "        config.model.init_channel_count = 64\n",
    "    \n",
    "    if 'skip_receptive_field_loss_tokens' not in config.loss:\n",
    "        config.loss.skip_receptive_field_loss_tokens = []\n",
    "    \n",
    "    if dtype == DataType.HTIba1Ki67:\n",
    "        config.data.subdset_type = SubDsetType.Iba1Ki64\n",
    "        config.data.empty_patch_replacement_enabled = False\n",
    "    \n",
    "    if 'lowres_merge_type' not in config.model.encoder:\n",
    "        config.model.encoder.lowres_merge_type = 0\n",
    "    \n",
    "    if config.model.model_type == ModelType.AutoRegresiveRALadderVAE:\n",
    "        patch_size = custom_image_size if custom_image_size is not None else config.data.image_size\n",
    "        grid_size = image_size_for_grid_centers if image_size_for_grid_centers is not None else patch_size - 2*config.data.innerpad_amount\n",
    "        assert grid_size % 2 == 0\n",
    "        \n",
    "        config.data.innerpad_amount = (patch_size - grid_size) // 2\n",
    "        image_size_for_grid_centers = grid_size\n",
    "        # config.data.grid_size = image_size_for_grid_centers\n",
    "        config.data.val_grid_size = image_size_for_grid_centers"
   ]
  },
  {
   "cell_type": "code",
   "execution_count": null,
   "metadata": {},
   "outputs": [],
   "source": [
    "%run ./nb_core/disentangle_setup.ipynb"
   ]
  },
  {
   "cell_type": "code",
   "execution_count": null,
   "metadata": {},
   "outputs": [],
   "source": [
    "def get_kth_ckpt(epoch_num):\n",
    "    for fnane in os.listdir(ckpt_dir):\n",
    "        if fnane.startswith(f'epoch={epoch_num}-'):\n",
    "            return os.path.join(ckpt_dir, fnane)\n",
    "        \n",
    "    raise ValueError(f'No ckpt found for epoch {epoch_num}')"
   ]
  },
  {
   "cell_type": "code",
   "execution_count": null,
   "metadata": {},
   "outputs": [],
   "source": [
    "def get_kth_ckpt_model(epoch_num):\n",
    "    ckpt_fpath = get_kth_ckpt(epoch_num)\n",
    "    checkpoint = torch.load(ckpt_fpath)\n",
    "    model = create_model(config, mean_fr_model,std_fr_model)\n",
    "    _ = model.load_state_dict(checkpoint['state_dict'])\n",
    "    model.eval()\n",
    "    # _= model.cuda()\n",
    "    # model.set_params_to_same_device_as(torch.Tensor(1).cuda())\n",
    "\n",
    "    print('Loading from epoch', checkpoint['epoch'])\n",
    "    return model"
   ]
  },
  {
   "cell_type": "code",
   "execution_count": null,
   "metadata": {},
   "outputs": [],
   "source": []
  },
  {
   "cell_type": "code",
   "execution_count": null,
   "metadata": {},
   "outputs": [],
   "source": []
  },
  {
   "cell_type": "code",
   "execution_count": null,
   "metadata": {},
   "outputs": [],
   "source": [
    "weights_begin = []\n",
    "weights_end = []\n",
    "skip_epoch= 1\n",
    "# for epoch_num in range(0,100, skip_epoch):\n",
    "for epoch_num in range(75,100, skip_epoch):\n",
    "\n",
    "    model = get_kth_ckpt_model(epoch_num)\n",
    "    weights_begin.append(model.bottom_up_layers[-1].net_downsized[0].pre_conv.weight.data.cpu().numpy())\n",
    "    # weights_end.append(model.top_down_layers[0].deterministic_block[0].pre_conv.weight.data.cpu().numpy())\n",
    "    weights_end.append(model.final_top_down[0].res.block[2].weight.data.cpu().numpy())\n"
   ]
  },
  {
   "cell_type": "code",
   "execution_count": null,
   "metadata": {},
   "outputs": [],
   "source": [
    "import seaborn as sns\n",
    "ki = 0\n",
    "kj = 1\n",
    "sns.heatmap(weights_begin[2][...,ki,kj] -weights_begin[0][...,ki,kj])"
   ]
  },
  {
   "attachments": {},
   "cell_type": "markdown",
   "metadata": {},
   "source": [
    "## Looking at how the weights evolve during training"
   ]
  },
  {
   "cell_type": "code",
   "execution_count": null,
   "metadata": {},
   "outputs": [],
   "source": [
    "%matplotlib inline\n",
    "import numpy as np\n",
    "from ipywidgets import interact, interactive, fixed, interact_manual\n",
    "import ipywidgets as widgets\n",
    "ymax_begin = -np.inf\n",
    "ymin_begin = np.inf\n",
    "ymax_end = -np.inf\n",
    "ymin_end = np.inf\n",
    "\n",
    "def get_diff(w1, w2):\n",
    "    return np.mean(np.abs(w1-w2), axis=(0,2,3)).reshape(-1,)\n",
    "\n",
    "for i in range(1,len(weights_begin)):\n",
    "    ymax_begin = max(ymax_begin, np.max(get_diff(weights_begin[i],weights_begin[i-1])))\n",
    "    ymin_begin = min(ymin_begin, np.min(get_diff(weights_begin[i],weights_begin[i-1])))\n",
    "    ymax_end = max(ymax_end, np.max(get_diff(weights_end[i], weights_end[i-1])))\n",
    "    ymin_end = min(ymin_end, np.min(get_diff(weights_end[i], weights_end[i-1])))\n",
    "\n",
    "ymax = max(ymax_begin, ymax_end)\n",
    "ymin = min(ymin_begin, ymin_end)\n",
    "\n",
    "def plot_func(i):\n",
    "    i = int(i)\n",
    "    _,ax = plt.subplots(figsize=(6,3),ncols=2)\n",
    "    # ax[0].plot((weights_begin[i] - weights_begin[i-1]).reshape(-1))\n",
    "    # ax[1].plot((weights_end[i] - weights_end[i-1]).reshape(-1))\n",
    "    ax[0].plot(get_diff(weights_begin[i], weights_begin[i-1]))\n",
    "    ax[1].plot(get_diff(weights_end[i], weights_end[i-1]))\n",
    "    ax[0].set_ylim(ymin, ymax)\n",
    "    ax[1].set_ylim(ymin, ymax)\n",
    "\n",
    "interact(plot_func, i = widgets.FloatSlider(value=1,\n",
    "                                               min=1,\n",
    "                                               max=len(weights_begin)-1,\n",
    "                                               step=1))"
   ]
  },
  {
   "attachments": {},
   "cell_type": "markdown",
   "metadata": {},
   "source": [
    "## Average weight evolution"
   ]
  },
  {
   "cell_type": "code",
   "execution_count": null,
   "metadata": {},
   "outputs": [],
   "source": [
    "def get_one_output_channel(w):\n",
    "    return np.mean(np.abs(w), axis=(0,2,3))\n",
    "\n",
    "ymax = -np.inf\n",
    "ymin = np.inf\n",
    "for i in range(1,len(weights_begin)):\n",
    "    ymax = max(ymax, get_one_output_channel(weights_begin[i]).max())\n",
    "    ymax = max(ymax, get_one_output_channel(weights_end[i]).max())\n",
    "    ymin = min(ymin, get_one_output_channel(weights_begin[i]).min())\n",
    "    ymin = min(ymin, get_one_output_channel(weights_end[i]).min())\n",
    "\n",
    "def plot_func2(i):\n",
    "    i = int(i)\n",
    "    _,ax = plt.subplots(figsize=(6,3),ncols=2)\n",
    "    ax[0].plot(get_one_output_channel(weights_begin[i]))\n",
    "    ax[1].plot(get_one_output_channel(weights_end[i]))\n",
    "    ax[0].set_ylim(ymin, ymax)\n",
    "    ax[1].set_ylim(ymin, ymax)\n",
    "\n",
    "interact(plot_func2, i = widgets.FloatSlider(value=1,\n",
    "                                               min=1,\n",
    "                                               max=len(weights_begin)-1,\n",
    "                                               step=1))"
   ]
  },
  {
   "cell_type": "code",
   "execution_count": null,
   "metadata": {},
   "outputs": [],
   "source": [
    "val_dset"
   ]
  },
  {
   "cell_type": "code",
   "execution_count": null,
   "metadata": {},
   "outputs": [],
   "source": []
  }
 ],
 "metadata": {
  "kernelspec": {
   "display_name": "usplit",
   "language": "python",
   "name": "python3"
  },
  "language_info": {
   "codemirror_mode": {
    "name": "ipython",
    "version": 3
   },
   "file_extension": ".py",
   "mimetype": "text/x-python",
   "name": "python",
   "nbconvert_exporter": "python",
   "pygments_lexer": "ipython3",
   "version": "3.9.18 | packaged by conda-forge | (main, Aug 30 2023, 03:49:32) \n[GCC 12.3.0]"
  },
  "vscode": {
   "interpreter": {
    "hash": "e959a19f8af3b4149ff22eb57702a46c14a8caae5a2647a6be0b1f60abdfa4c2"
   }
  }
 },
 "nbformat": 4,
 "nbformat_minor": 2
}
