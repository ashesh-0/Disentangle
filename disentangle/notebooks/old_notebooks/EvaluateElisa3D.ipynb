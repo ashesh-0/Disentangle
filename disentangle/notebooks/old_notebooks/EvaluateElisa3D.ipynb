{
 "cells": [
  {
   "cell_type": "code",
   "execution_count": null,
   "metadata": {},
   "outputs": [],
   "source": [
    "import os\n",
    "datadir = '/group/jug/ashesh/data/Elisa3D'\n",
    "config_fpath = '/group/jug/ashesh/training/disentangle/2408/D29-M3-S0-L0/17/'\n",
    "config_fpath = config_fpath[0] + config_fpath[1:].strip('/')\n",
    "pred_fpath = '/group/jug/ashesh/data/paper_stats/Test_P64_G32_M5_Sk0/pred_training_disentangle_2408_D29-M3-S0-L0_17_1.tif'\n",
    "assert os.path.basename(pred_fpath).replace('.tif', '').split('_')[-2] == os.path.basename(config_fpath), 'different model'"
   ]
  },
  {
   "cell_type": "code",
   "execution_count": null,
   "metadata": {},
   "outputs": [],
   "source": [
    "from disentangle.config_utils import load_config\n",
    "config = load_config(config_fpath)"
   ]
  },
  {
   "cell_type": "code",
   "execution_count": null,
   "metadata": {},
   "outputs": [],
   "source": [
    "from disentangle.data_loader.train_val_data import get_train_val_data\n",
    "from disentangle.core.data_split_type import DataSplitType\n",
    "\n",
    "data = get_train_val_data(config.data,\n",
    "                       datadir,\n",
    "                       DataSplitType.Test,\n",
    "                       val_fraction=config.training.val_fraction,\n",
    "                       test_fraction=config.training.test_fraction) \n",
    "data.shape"
   ]
  },
  {
   "cell_type": "code",
   "execution_count": null,
   "metadata": {},
   "outputs": [],
   "source": [
    "from disentangle.core.tiff_reader import  load_tiff\n",
    "import json\n",
    "def load_pred(fpath):\n",
    "    pred = load_tiff(fpath)\n",
    "    with open(fpath.replace('.tif', '.json'), 'r') as f:\n",
    "        json_data = json.load(f)\n",
    "    assert json_data['factor'] == '1.0', 'factor is not 1.0'\n",
    "    return pred + float(json_data['offset'])\n",
    "\n",
    "pred = load_pred(pred_fpath)\n",
    "pred.shape"
   ]
  },
  {
   "cell_type": "code",
   "execution_count": null,
   "metadata": {},
   "outputs": [],
   "source": [
    "from ipywidgets import interact, widgets\n",
    "import matplotlib.pyplot as plt\n",
    "res= 4\n",
    "def plot_one_z(zidx):\n",
    "    fig,ax = plt.subplots(figsize=(16,4),ncols=4,nrows=1)\n",
    "    ax[0].imshow(data[0,zidx,::res,::res,0])\n",
    "    ax[1].imshow(pred[0,zidx,::res,::res,0])\n",
    "\n",
    "    ax[2].imshow(data[0,zidx,::res,::res,1])\n",
    "    ax[3].imshow(pred[0,zidx,::res,::res,1])\n",
    "\n",
    "_ = interact(plot_one_z, zidx=widgets.IntSlider(min=0,max=pred.shape[1]-1,step=1,value=1)) \n",
    "\n"
   ]
  },
  {
   "cell_type": "code",
   "execution_count": null,
   "metadata": {},
   "outputs": [],
   "source": [
    "pred.mean(), data.mean()"
   ]
  },
  {
   "cell_type": "code",
   "execution_count": null,
   "metadata": {},
   "outputs": [],
   "source": [
    "from disentangle.scripts.evaluate import  compute_high_snr_stats\n",
    "\n",
    "stats = [compute_high_snr_stats(config,data[:,z], pred[:,z], verbose=False) for z in range(data.shape[1])]"
   ]
  },
  {
   "cell_type": "code",
   "execution_count": null,
   "metadata": {},
   "outputs": [],
   "source": [
    "import numpy as np\n",
    "psnr_arr = np.array([stats[i]['rangeinvpsnr'] for i in range(len(stats))])[...,0]\n",
    "psnr_arr.mean(axis=0), psnr_arr.std(axis=0)"
   ]
  },
  {
   "cell_type": "code",
   "execution_count": null,
   "metadata": {},
   "outputs": [],
   "source": [
    "from disentangle.core.tiff_reader import load_tiff\n",
    "load_tiff('/group/jug/ashesh/data/Elisa/N2V_Elisa/n2v_input.tif').shape"
   ]
  },
  {
   "cell_type": "code",
   "execution_count": null,
   "metadata": {},
   "outputs": [],
   "source": [
    "! ls /group/jug/ashesh/data/Elisa3D/20240725/"
   ]
  },
  {
   "cell_type": "code",
   "execution_count": null,
   "metadata": {},
   "outputs": [],
   "source": [
    "break here"
   ]
  },
  {
   "cell_type": "markdown",
   "metadata": {},
   "source": [
    "## N2V denoising data creation"
   ]
  },
  {
   "cell_type": "code",
   "execution_count": null,
   "metadata": {},
   "outputs": [],
   "source": [
    "from disentangle.data_loader.train_val_data import get_train_val_data\n",
    "from disentangle.core.data_split_type import DataSplitType\n",
    "\n",
    "data = get_train_val_data(config.data,\n",
    "                       datadir,\n",
    "                       DataSplitType.Train,\n",
    "                       val_fraction=config.training.val_fraction,\n",
    "                       test_fraction=config.training.test_fraction) \n",
    "data.shape"
   ]
  },
  {
   "cell_type": "code",
   "execution_count": null,
   "metadata": {},
   "outputs": [],
   "source": [
    "import numpy as np\n",
    "\n",
    "n_list = []\n",
    "z_list = []\n",
    "for i in range(len(data)):\n",
    "    z_idx = np.random.choice(range(data.shape[1]), size=3, replace=False)\n",
    "    n_list.append([i])\n",
    "    z_list.append(z_idx.tolist())\n"
   ]
  },
  {
   "cell_type": "code",
   "execution_count": null,
   "metadata": {},
   "outputs": [],
   "source": [
    "reduced_data = data[n_list,z_list]\n",
    "reduced_data = reduced_data.reshape(-1, reduced_data.shape[2], reduced_data.shape[3], reduced_data.shape[4])\n",
    "reduced_data.shape"
   ]
  },
  {
   "cell_type": "code",
   "execution_count": null,
   "metadata": {},
   "outputs": [],
   "source": [
    "plt.imshow(reduced_data[16,...,1])"
   ]
  },
  {
   "cell_type": "code",
   "execution_count": null,
   "metadata": {},
   "outputs": [],
   "source": [
    "from disentangle.core.tiff_reader import save_tiff\n",
    "save_tiff('/group/jug/ashesh/data/Elisa3D/20240725/n2v_denoising/raw_ch0.tif', reduced_data[...,0])\n",
    "save_tiff('/group/jug/ashesh/data/Elisa3D/20240725/n2v_denoising/raw_ch1.tif', reduced_data[...,1], )"
   ]
  },
  {
   "cell_type": "code",
   "execution_count": null,
   "metadata": {},
   "outputs": [],
   "source": []
  },
  {
   "cell_type": "code",
   "execution_count": null,
   "metadata": {},
   "outputs": [],
   "source": [
    "from disentangle.core.tiff_reader import load_tiff\n",
    "data = load_tiff('/group/jug/ashesh/data/paper_stats/Test_P64_G32_M50_Sk0/pred_training_disentangle_2408_D12-M3-S0-L8_3_1.tif')"
   ]
  },
  {
   "cell_type": "code",
   "execution_count": null,
   "metadata": {},
   "outputs": [],
   "source": [
    "import matplotlib.pyplot as plt\n",
    "_,ax = plt.subplots(figsize=(8,4),ncols=2)\n",
    "idx = 5\n",
    "ax[0].imshow(data[0,0,idx,...,0])\n",
    "ax[1].imshow(data[0,0,idx,...,1])"
   ]
  },
  {
   "cell_type": "code",
   "execution_count": null,
   "metadata": {},
   "outputs": [],
   "source": []
  }
 ],
 "metadata": {
  "kernelspec": {
   "display_name": "Python 3",
   "language": "python",
   "name": "python3"
  },
  "language_info": {
   "codemirror_mode": {
    "name": "ipython",
    "version": 3
   },
   "file_extension": ".py",
   "mimetype": "text/x-python",
   "name": "python",
   "nbconvert_exporter": "python",
   "pygments_lexer": "ipython3",
   "version": "3.9.19"
  }
 },
 "nbformat": 4,
 "nbformat_minor": 2
}
