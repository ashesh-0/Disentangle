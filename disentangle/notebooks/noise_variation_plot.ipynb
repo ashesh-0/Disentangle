{
 "cells": [
  {
   "cell_type": "markdown",
   "metadata": {},
   "source": [
    "Here, we work with Nikola dataset. The objective is to generate a plot which shows how the performance degrades with noise. We will use the following steps to achieve this:"
   ]
  },
  {
   "cell_type": "code",
   "execution_count": null,
   "metadata": {},
   "outputs": [],
   "source": [
    "# idx is following\n",
    "# Predicting for 1891\n",
    "# Predicting for 3053\n",
    "# Predicting for 91\n",
    "# Predicting for 259\n",
    "# Predicting for 1402\n",
    "# Predicting for 2095\n",
    "# Predicting for 35\n",
    "# Predicting for 2245\n",
    "# Predicting for 69\n",
    "# Predicting for 712"
   ]
  },
  {
   "cell_type": "code",
   "execution_count": null,
   "metadata": {},
   "outputs": [],
   "source": [
    "import pickle\n",
    "highsnr_fpath_dict = {\n",
    "    '0-1': '/group/jug/ashesh/data/paper_stats/Test_P256_G64_M50_Sk8/stats_disentangle_2404_D25-M3-S0-L8_94.pkl',\n",
    "    '0-2': '/group/jug/ashesh/data/paper_stats/Test_P256_G64_M50_Sk8/stats_disentangle_2404_D25-M3-S0-L8_117.pkl',\n",
    "    '0-3': '/group/jug/ashesh/data/paper_stats/Test_P256_G64_M50_Sk8/stats_disentangle_2404_D25-M3-S0-L8_113.pkl',\n",
    "    '1-2': '/group/jug/ashesh/data/paper_stats/Test_P256_G64_M50_Sk8/stats_disentangle_2404_D25-M3-S0-L8_124.pkl',\n",
    "    '1-3': '/group/jug/ashesh/data/paper_stats/Test_P256_G64_M50_Sk8/stats_disentangle_2404_D25-M3-S0-L8_136.pkl',\n",
    "    '2-3': '/group/jug/ashesh/data/paper_stats/Test_P256_G64_M50_Sk8/stats_disentangle_2404_D25-M3-S0-L8_140.pkl',\n",
    "}\n",
    "lowsnr_fpath_dict = {\n",
    "    '0-1': '/group/jug/ashesh/data/paper_stats/Test_P256_G64_M50_Sk8/stats_disentangle_2404_D25-M3-S0-L8_96.pkl',\n",
    "    '0-2': '/group/jug/ashesh/data/paper_stats/Test_P256_G64_M50_Sk8/stats_disentangle_2404_D25-M3-S0-L8_119.pkl',\n",
    "    '0-3': '/group/jug/ashesh/data/paper_stats/Test_P256_G64_M50_Sk8/stats_disentangle_2404_D25-M3-S0-L8_115.pkl',\n",
    "    '1-2': '/group/jug/ashesh/data/paper_stats/Test_P256_G64_M50_Sk8/stats_disentangle_2404_D25-M3-S0-L8_126.pkl',\n",
    "    '1-3': '/group/jug/ashesh/data/paper_stats/Test_P256_G64_M50_Sk8/stats_disentangle_2404_D25-M3-S0-L8_138.pkl',\n",
    "    '2-3': '/group/jug/ashesh/data/paper_stats/Test_P256_G64_M50_Sk8/stats_disentangle_2404_D25-M3-S0-L8_142.pkl',\n",
    "}\n",
    "verylowsnr_fpath_dict = {\n",
    "    '0-1': None,\n",
    "    '0-2': None,\n",
    "    '0-3': None,\n",
    "    '1-2': None,\n",
    "    '1-3': None,\n",
    "    '2-3': None,\n",
    "}\n",
    "# /group/jug/ashesh/data/paper_stats/Test_P256_G64_M50_Sk8/stats_disentangle_2404_D25-M3-S0-L8_140.pkl"
   ]
  },
  {
   "cell_type": "code",
   "execution_count": null,
   "metadata": {},
   "outputs": [],
   "source": [
    "from tqdm import tqdm\n",
    "highsnr_dict = {}\n",
    "for key in tqdm(highsnr_fpath_dict):\n",
    "    fpath = highsnr_fpath_dict[key]\n",
    "    with open(fpath, 'rb') as f:\n",
    "        highsnr_dict[key] = pickle.load(f)\n",
    "\n",
    "lowsnr_dict = {}\n",
    "for key in tqdm(lowsnr_fpath_dict):\n",
    "    fpath = lowsnr_fpath_dict[key]\n",
    "    with open(fpath, 'rb') as f:\n",
    "        lowsnr_dict[key] = pickle.load(f)"
   ]
  },
  {
   "cell_type": "code",
   "execution_count": null,
   "metadata": {},
   "outputs": [],
   "source": [
    "len(lowsnr_dict['0-1']['pred'][0])"
   ]
  },
  {
   "cell_type": "code",
   "execution_count": null,
   "metadata": {},
   "outputs": [],
   "source": [
    "import matplotlib.pyplot as plt\n",
    "ex_idx=8\n",
    "_,ax = plt.subplots(2,2,figsize=(10,10))\n",
    "ax[0,0].imshow(highsnr_dict['0-1']['pred'][0][ex_idx][0])\n",
    "ax[1,0].imshow(lowsnr_dict['0-1']['pred'][0][ex_idx][0])\n",
    "\n",
    "ax[0,1].imshow(highsnr_dict['0-1']['pred'][1][ex_idx][0])\n",
    "ax[1,1].imshow(lowsnr_dict['0-1']['pred'][1][ex_idx][0])"
   ]
  },
  {
   "cell_type": "code",
   "execution_count": null,
   "metadata": {},
   "outputs": [],
   "source": []
  }
 ],
 "metadata": {
  "kernelspec": {
   "display_name": "Python 3",
   "language": "python",
   "name": "python3"
  },
  "language_info": {
   "codemirror_mode": {
    "name": "ipython",
    "version": 3
   },
   "file_extension": ".py",
   "mimetype": "text/x-python",
   "name": "python",
   "nbconvert_exporter": "python",
   "pygments_lexer": "ipython3",
   "version": "3.9.19"
  }
 },
 "nbformat": 4,
 "nbformat_minor": 2
}
