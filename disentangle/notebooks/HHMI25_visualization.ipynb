{
 "cells": [
  {
   "cell_type": "code",
   "execution_count": null,
   "metadata": {},
   "outputs": [],
   "source": [
    "!ls -lhrt /group/jug/ashesh/data/HHMI25/"
   ]
  },
  {
   "cell_type": "code",
   "execution_count": null,
   "metadata": {},
   "outputs": [],
   "source": [
    "from disentangle.core.tiff_reader import load_tiff\n",
    "data = load_tiff('/group/jug/ashesh/data/HHMI25/Composite_region1_CF_L3L3.tif')"
   ]
  },
  {
   "cell_type": "code",
   "execution_count": null,
   "metadata": {},
   "outputs": [],
   "source": [
    "data.dtype"
   ]
  },
  {
   "cell_type": "code",
   "execution_count": null,
   "metadata": {},
   "outputs": [],
   "source": [
    "import matplotlib.pyplot as plt\n",
    "import numpy as np\n",
    "\n",
    "_,ax = plt.subplots(figsize=(18,6),ncols=6,nrows=2)\n",
    "idx = np.random.randint(0, data.shape[0])\n",
    "print(idx)\n",
    "ax[0,0].imshow(data[idx].mean(axis=0)[::4,::4], cmap='gray')\n",
    "for i in range(6):\n",
    "    ax[1,i].imshow(data[idx,i,::4,::4], cmap='gray')\n",
    "\n"
   ]
  },
  {
   "cell_type": "code",
   "execution_count": null,
   "metadata": {},
   "outputs": [],
   "source": [
    "data.shape"
   ]
  },
  {
   "cell_type": "code",
   "execution_count": null,
   "metadata": {},
   "outputs": [],
   "source": [
    "# from disentangle.core.tiff_reader import save_tiff\n",
    "# save_tiff('/group/jug/ashesh/data/HHMI25/n2v_denoising/subset.tif', data[::5])"
   ]
  },
  {
   "cell_type": "code",
   "execution_count": null,
   "metadata": {},
   "outputs": [],
   "source": [
    "from disentangle.core.tiff_reader import load_tiff, save_tiff\n",
    "for i in range(data.shape[1]):\n",
    "    print(i)\n",
    "    save_tiff(f'/group/jug/ashesh/data/HHMI25/n2v_denoising/subset_Ch{i}.tif', data[::5,i])"
   ]
  },
  {
   "cell_type": "code",
   "execution_count": null,
   "metadata": {},
   "outputs": [],
   "source": [
    "data_arr = []\n",
    "for i in range(6):\n",
    "    data_arr.append(load_tiff(f'/group/jug/ashesh/data/HHMI25/n2v_denoising/subset_Ch{i}.tif'))"
   ]
  },
  {
   "cell_type": "code",
   "execution_count": null,
   "metadata": {},
   "outputs": [],
   "source": [
    "_,ax = plt.subplots(figsize=(18,3),ncols=6)\n",
    "for i in range(6):\n",
    "    ax[i].imshow(data_arr[i][0,::4,::4], cmap='gray')\n"
   ]
  },
  {
   "cell_type": "code",
   "execution_count": null,
   "metadata": {},
   "outputs": [],
   "source": []
  }
 ],
 "metadata": {
  "kernelspec": {
   "display_name": "Python 3",
   "language": "python",
   "name": "python3"
  },
  "language_info": {
   "codemirror_mode": {
    "name": "ipython",
    "version": 3
   },
   "file_extension": ".py",
   "mimetype": "text/x-python",
   "name": "python",
   "nbconvert_exporter": "python",
   "pygments_lexer": "ipython3",
   "version": "3.9.19"
  }
 },
 "nbformat": 4,
 "nbformat_minor": 2
}
