{
 "cells": [
  {
   "cell_type": "code",
   "execution_count": null,
   "metadata": {},
   "outputs": [],
   "source": [
    "!ls -lhrt /group/jug/ashesh/data/HHMI25/"
   ]
  },
  {
   "cell_type": "code",
   "execution_count": null,
   "metadata": {},
   "outputs": [],
   "source": [
    "from disentangle.core.tiff_reader import load_tiff\n",
    "data = load_tiff('/group/jug/ashesh/data/HHMI25/Composite_region1_CF_L3L3.tif')"
   ]
  },
  {
   "cell_type": "code",
   "execution_count": null,
   "metadata": {},
   "outputs": [],
   "source": [
    "def stats(data):\n",
    "    for ch in range(data.shape[1]):\n",
    "        mean_arr = [data[i, ch].mean() for i in range(data.shape[0])]\n",
    "        std_arr = [data[i, ch].std() for i in range(data.shape[0])]\n",
    "        min_arr = [data[i, ch].min() for i in range(data.shape[0])]\n",
    "        max_arr = [data[i, ch].max() for i in range(data.shape[0])]\n",
    "        q_arr = [np.quantile(data[i, ch], 0.99) for i in range(data.shape[0])]\n",
    "        mean_str = f'{np.mean(mean_arr):.2f} ± {np.std(mean_arr):.2f}'\n",
    "        std_str = f'{np.mean(std_arr):.2f} ± {np.std(std_arr):.2f}'\n",
    "        min_str = f'{np.mean(min_arr):.2f} ± {np.std(min_arr):.2f}'\n",
    "        max_str = f'{np.mean(max_arr):.2f} ± {np.std(max_arr):.2f}'\n",
    "        q_str = f'{np.mean(q_arr):.2f} ± {np.std(q_arr):.2f}'\n",
    "        print(f'Channel {ch}: mean: {mean_str}, std: {std_str}, min: {min_str}, max: {max_str}, 99th percentile: {q_str}')\n",
    "    \n"
   ]
  },
  {
   "cell_type": "code",
   "execution_count": null,
   "metadata": {},
   "outputs": [],
   "source": [
    "data = load_tiff('/group/jug/ashesh/data/HHMI25/Composite_region1_CF_L3L3.tif')\n",
    "stats(data)"
   ]
  },
  {
   "cell_type": "code",
   "execution_count": null,
   "metadata": {},
   "outputs": [],
   "source": [
    "data = load_tiff('/group/jug/ashesh/data/HHMI25/Composite_region7_CF_12noon_L3L4.tif')\n",
    "stats(data)"
   ]
  },
  {
   "cell_type": "code",
   "execution_count": null,
   "metadata": {},
   "outputs": [],
   "source": [
    "data = load_tiff('/group/jug/ashesh/data/HHMI25/Composite_region5_6am_L3L1.tif')\n",
    "stats(data)"
   ]
  },
  {
   "cell_type": "code",
   "execution_count": null,
   "metadata": {},
   "outputs": [],
   "source": [
    "data = load_tiff('/group/jug/ashesh/data/HHMI25/Composite_region4_6am_L3L2.tif')\n",
    "print(data.shape)\n",
    "stats(data)"
   ]
  },
  {
   "cell_type": "code",
   "execution_count": null,
   "metadata": {},
   "outputs": [],
   "source": [
    "plt.imshow(data[10,0,::4,::4])"
   ]
  },
  {
   "cell_type": "code",
   "execution_count": null,
   "metadata": {},
   "outputs": [],
   "source": [
    "import matplotlib.pyplot as plt\n",
    "import numpy as np\n",
    "\n",
    "_,ax = plt.subplots(figsize=(18,6),ncols=6,nrows=2)\n",
    "idx = np.random.randint(0, data.shape[0])\n",
    "print(idx)\n",
    "ax[0,0].imshow(data[idx].mean(axis=0)[::4,::4], cmap='gray')\n",
    "for i in range(6):\n",
    "    ax[1,i].imshow(data[idx,i,::4,::4], cmap='gray')\n",
    "\n"
   ]
  },
  {
   "cell_type": "code",
   "execution_count": null,
   "metadata": {},
   "outputs": [],
   "source": [
    "data.shape"
   ]
  },
  {
   "cell_type": "code",
   "execution_count": null,
   "metadata": {},
   "outputs": [],
   "source": [
    "# from disentangle.core.tiff_reader import save_tiff\n",
    "# save_tiff('/group/jug/ashesh/data/HHMI25/n2v_denoising/subset.tif', data[::5])"
   ]
  },
  {
   "cell_type": "code",
   "execution_count": null,
   "metadata": {},
   "outputs": [],
   "source": [
    "from disentangle.core.tiff_reader import load_tiff, save_tiff\n",
    "for i in range(data.shape[1]):\n",
    "    print(i)\n",
    "    save_tiff(f'/group/jug/ashesh/data/HHMI25/n2v_denoising/subset_Ch{i}.tif', data[::5,i])"
   ]
  },
  {
   "cell_type": "code",
   "execution_count": null,
   "metadata": {},
   "outputs": [],
   "source": [
    "data_arr = []\n",
    "for i in range(6):\n",
    "    data_arr.append(load_tiff(f'/group/jug/ashesh/data/HHMI25/n2v_denoising/subset_Ch{i}.tif'))"
   ]
  },
  {
   "cell_type": "code",
   "execution_count": null,
   "metadata": {},
   "outputs": [],
   "source": [
    "_,ax = plt.subplots(figsize=(18,3),ncols=6)\n",
    "for i in range(6):\n",
    "    ax[i].imshow(data_arr[i][0,::4,::4], cmap='gray')\n"
   ]
  },
  {
   "cell_type": "code",
   "execution_count": null,
   "metadata": {},
   "outputs": [],
   "source": []
  }
 ],
 "metadata": {
  "kernelspec": {
   "display_name": "Python 3",
   "language": "python",
   "name": "python3"
  },
  "language_info": {
   "codemirror_mode": {
    "name": "ipython",
    "version": 3
   },
   "file_extension": ".py",
   "mimetype": "text/x-python",
   "name": "python",
   "nbconvert_exporter": "python",
   "pygments_lexer": "ipython3",
   "version": "3.9.19"
  }
 },
 "nbformat": 4,
 "nbformat_minor": 2
}
