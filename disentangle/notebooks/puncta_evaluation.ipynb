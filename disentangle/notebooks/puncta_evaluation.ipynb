{
 "cells": [
  {
   "cell_type": "code",
   "execution_count": null,
   "metadata": {},
   "outputs": [],
   "source": [
    "ckpt_dir = \"/group/jug/ashesh/training/disentangle/2407/D28-M3-S0-L0/9\"\n",
    "datafile = '/facility/imganfacusers/Elisa/DIF17/DIF_17_1/DIF_17_Day_25_A100_1_4_0001.nd2'\n",
    "batch_size = 8"
   ]
  },
  {
   "cell_type": "code",
   "execution_count": null,
   "metadata": {},
   "outputs": [],
   "source": [
    "from disentangle.data_loader.evaluation_dloader import EvaluationDloader\n",
    "from disentangle.nets.model_utils import create_model\n",
    "from nis2pyr.reader import read_nd2file\n",
    "from disentangle.config_utils import load_config\n",
    "import nd2\n",
    "import glob\n",
    "import torch\n",
    "import numpy as np\n",
    "\n",
    "def load_7D(fpath):    \n",
    "    print(f'Loading from {fpath}')\n",
    "    with nd2.ND2File(fpath) as nd2file:\n",
    "        data = read_nd2file(nd2file)\n",
    "    return data\n",
    "\n",
    "def get_best_checkpoint(ckpt_dir):\n",
    "    output = []\n",
    "    for filename in glob.glob(ckpt_dir + \"/*_best.ckpt\"):\n",
    "        output.append(filename)\n",
    "    assert len(output) == 1, '\\n'.join(output)\n",
    "    return output[0]"
   ]
  },
  {
   "cell_type": "code",
   "execution_count": null,
   "metadata": {},
   "outputs": [],
   "source": [
    "data = load_7D(datafile)\n",
    "data = data[0,0,:,1,...,0]"
   ]
  },
  {
   "cell_type": "code",
   "execution_count": null,
   "metadata": {},
   "outputs": [],
   "source": [
    "config = load_config(ckpt_dir)"
   ]
  },
  {
   "cell_type": "code",
   "execution_count": null,
   "metadata": {},
   "outputs": [],
   "source": [
    "test_data= data[8:12].copy()\n",
    "test_data = test_data.astype(np.float32)\n",
    "test_data -= config.data.background_values[0]"
   ]
  },
  {
   "cell_type": "code",
   "execution_count": null,
   "metadata": {},
   "outputs": [],
   "source": [
    "import matplotlib.pyplot as plt\n",
    "plt.imshow(test_data[0], vmax=30)"
   ]
  },
  {
   "cell_type": "markdown",
   "metadata": {},
   "source": [
    "## Mean/Stdev"
   ]
  },
  {
   "cell_type": "code",
   "execution_count": null,
   "metadata": {},
   "outputs": [],
   "source": [
    "from disentangle.data_loader.multicrops_dset import l2\n",
    "def sample_crop(sz):\n",
    "    t = np.random.randint(0, len(test_data))\n",
    "    x = np.random.randint(0, test_data.shape[1] - sz)\n",
    "    y = np.random.randint(0, test_data.shape[2] - sz)\n",
    "    crop = test_data[t, x:x+sz, y:y+sz]\n",
    "    return crop\n",
    "\n",
    "def compute_mean_std():\n",
    "    mean_inp = []\n",
    "    std_inp = []\n",
    "    for _ in range(30000):\n",
    "        crop = sample_crop(config.data.image_size)\n",
    "        mean_inp.append(np.mean(crop))\n",
    "        std_inp.append(np.std(crop))\n",
    "\n",
    "    output_mean = {}\n",
    "    output_std = {}\n",
    "    output_mean['input'] = np.array([np.mean(mean_inp)]).reshape(-1,1,1,1)\n",
    "    output_std['input'] = np.array([l2(std_inp)]).reshape(-1,1,1,1)\n",
    "    \n",
    "    output_mean['target'] = np.tile(output_mean['input'],(1,2,1,1))\n",
    "    output_std['target'] = np.tile(output_std['input'],(1,2,1,1))\n",
    "    return output_mean, output_std\n"
   ]
  },
  {
   "cell_type": "code",
   "execution_count": null,
   "metadata": {},
   "outputs": [],
   "source": [
    "mean_dict, std_dict = compute_mean_std()"
   ]
  },
  {
   "cell_type": "code",
   "execution_count": null,
   "metadata": {},
   "outputs": [],
   "source": [
    "model = create_model(config, mean_dict.copy(),std_dict.copy())"
   ]
  },
  {
   "cell_type": "code",
   "execution_count": null,
   "metadata": {},
   "outputs": [],
   "source": [
    "ckpt_fpath = get_best_checkpoint(ckpt_dir)\n",
    "print('Loading checkpoint from', ckpt_fpath)\n",
    "checkpoint = torch.load(ckpt_fpath)\n",
    "\n",
    "_ = model.load_state_dict(checkpoint['state_dict'], strict=False)\n",
    "model.eval()\n",
    "_= model.cuda()\n",
    "model.set_params_to_same_device_as(torch.Tensor(1).cuda())\n",
    "\n",
    "print('Loading from epoch', checkpoint['epoch'])"
   ]
  },
  {
   "cell_type": "code",
   "execution_count": null,
   "metadata": {},
   "outputs": [],
   "source": [
    "plt.imshow(test_data[2], vmax=30)"
   ]
  },
  {
   "cell_type": "code",
   "execution_count": null,
   "metadata": {},
   "outputs": [],
   "source": [
    "def normalizer(x):\n",
    "    return (x - mean_dict['input'].squeeze()) / std_dict['input'].squeeze()"
   ]
  },
  {
   "cell_type": "code",
   "execution_count": null,
   "metadata": {},
   "outputs": [],
   "source": [
    "inp_patch = test_data[2,1800:1928,1500:1628]\n",
    "plt.imshow(inp_patch)"
   ]
  },
  {
   "cell_type": "code",
   "execution_count": null,
   "metadata": {},
   "outputs": [],
   "source": [
    "model.reset_for_different_output_size(inp_patch.shape[0])\n",
    "model.mode_pred = True"
   ]
  },
  {
   "cell_type": "code",
   "execution_count": null,
   "metadata": {},
   "outputs": [],
   "source": [
    "inp = normalizer(inp_patch)\n",
    "with torch.no_grad():\n",
    "    out = model(torch.Tensor(inp[None,None]).cuda())\n",
    "out[0].shape\n",
    "plt.imshow(out[0][0,1].cpu().numpy(), vmax=30)"
   ]
  },
  {
   "cell_type": "code",
   "execution_count": null,
   "metadata": {},
   "outputs": [],
   "source": [
    "dset = EvaluationDloader(test_data[:1], normalizer, lambda x: x, config.data.image_size, config.data.image_size//2, GridAlignement.Center)"
   ]
  },
  {
   "cell_type": "code",
   "execution_count": null,
   "metadata": {},
   "outputs": [],
   "source": [
    "from torch.utils.data import DataLoader\n",
    "from tqdm import tqdm\n",
    "\n",
    "def get_dset_predictions(model, dset, batch_size, mmse_count=1, num_workers=4):\n",
    "    model.reset_for_different_output_size(dset[0].shape[0])\n",
    "    \n",
    "    dloader = DataLoader(dset, pin_memory=False, num_workers=num_workers, shuffle=False, batch_size=batch_size)\n",
    "    predictions = []\n",
    "    predictions_std = []\n",
    "    with torch.no_grad():\n",
    "        for inp in tqdm(dloader):\n",
    "            inp = inp.cuda()\n",
    "            recon_img_list = []\n",
    "            for mmse_idx in range(mmse_count):\n",
    "                imgs, _ = model(inp)\n",
    "                recon_img_list.append(imgs.cpu()[None])\n",
    "\n",
    "            samples = torch.cat(recon_img_list, dim=0)\n",
    "            mmse_imgs = torch.mean(samples, dim=0)\n",
    "            mmse_std = torch.std(samples, dim=0)\n",
    "            predictions.append(mmse_imgs.cpu().numpy())\n",
    "            predictions_std.append(mmse_std.cpu().numpy())\n",
    "    return np.concatenate(predictions, axis=0), np.concatenate(predictions_std, axis=0)\n"
   ]
  },
  {
   "cell_type": "code",
   "execution_count": null,
   "metadata": {},
   "outputs": [],
   "source": [
    "pred_tiled, pred_std = get_dset_predictions(model, dset, batch_size, mmse_count=1, num_workers=4)"
   ]
  },
  {
   "cell_type": "code",
   "execution_count": null,
   "metadata": {},
   "outputs": [],
   "source": [
    "from disentangle.analysis.stitch_prediction import stitch_predictions\n",
    "pred = stitch_predictions(pred_tiled,dset)\n"
   ]
  },
  {
   "cell_type": "code",
   "execution_count": null,
   "metadata": {},
   "outputs": [],
   "source": [
    "from disentangle.analysis.plot_utils import clean_ax\n",
    "\n",
    "_,ax = plt.subplots(figsize=(16,8),ncols=4,nrows=2)\n",
    "ax= ax.reshape(-1,)\n",
    "sz = 800\n",
    "for i in range(len(ax)//2):\n",
    "    hs = np.random.randint(0, test_data.shape[1] - sz)\n",
    "    ws = np.random.randint(0, test_data.shape[1] - sz)\n",
    "    ax[2*i].imshow(test_data[0,hs:hs+sz,ws:ws+sz], vmax=30)\n",
    "    ax[2*i+1].imshow(pred[0,hs:hs+sz,ws:ws+sz,1])\n",
    "    ax[2*i].set_title('Input')\n",
    "    ax[2*i+1].set_title('Puncta Removed')\n",
    "clean_ax(ax)"
   ]
  }
 ],
 "metadata": {
  "kernelspec": {
   "display_name": "Python 3",
   "language": "python",
   "name": "python3"
  },
  "language_info": {
   "codemirror_mode": {
    "name": "ipython",
    "version": 3
   },
   "file_extension": ".py",
   "mimetype": "text/x-python",
   "name": "python",
   "nbconvert_exporter": "python",
   "pygments_lexer": "ipython3",
   "version": "3.9.19"
  }
 },
 "nbformat": 4,
 "nbformat_minor": 2
}
